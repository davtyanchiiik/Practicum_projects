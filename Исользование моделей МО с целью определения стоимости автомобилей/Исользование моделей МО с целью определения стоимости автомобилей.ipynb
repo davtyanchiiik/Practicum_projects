{
 "cells": [
  {
   "cell_type": "markdown",
   "metadata": {},
   "source": [
    "# Исользование моделей МО с целью определения стоимости автомобилей\n",
    "\n",
    "\n",
    "**Описание проекта:**  Сервис по продаже автомобилей с пробегом «Не бит, не крашен» разрабатывает приложение для привлечения новых клиентов. В нём можно быстро узнать рыночную стоимость своего автомобиля. В вашем распоряжении исторические данные: технические характеристики, комплектации и цены автомобилей. Вам нужно построить модель для определения стоимости. \n",
    "\n",
    "Заказчику важны:\n",
    "\n",
    "- качество предсказания;\n",
    "- скорость предсказания;\n",
    "- время обучения.\n",
    "\n",
    "**Цель проекта:** Нужно построить модель для определения стоимости. \n",
    "\n",
    "\n",
    "**План работ:**\n",
    "- Загрузите данные, путь к файлу: /datasets/autos.csv.\n",
    "- Изучите данные. Заполните пропущенные значения и обработайте аномалии в столбцах. Если среди признаков имеются неинформативные, удалите их.\n",
    "- Подготовьте выборки для обучения моделей.\n",
    "- Обучите разные модели, одна из которых — LightGBM, как минимум одна — не бустинг. Для каждой модели попробуйте разные гиперпараметры.\n",
    "- Проанализируйте время обучения, время предсказания и качество моделей.\n",
    "- Опираясь на критерии заказчика, выберете лучшую модель, проверьте её качество на тестовой выборке.\n",
    "\n",
    "**Примечания:**\n",
    "- Для оценки качества моделей применяйте метрику RMSE.\n",
    "- Значение метрики RMSE должно быть меньше 2500.\n",
    "- Самостоятельно освойте библиотеку LightGBM и её средствами постройте модели градиентного бустинга.\n",
    "- Время выполнения ячейки кода Jupyter Notebook можно получить специальной командой. Найдите её.\n",
    "- Модель градиентного бустинга может долго обучаться, поэтому измените у неё только два-три параметра.\n",
    "- Если перестанет работать Jupyter Notebook, удалите лишние переменные оператором del.\n",
    "\n",
    "**Описание данных:**\n",
    "- DateCrawled — дата скачивания анкеты из базы\n",
    "- VehicleType — тип автомобильного кузова\n",
    "- RegistrationYear — год регистрации автомобиля\n",
    "- Gearbox — тип коробки передач\n",
    "- Power — мощность (л. с.)\n",
    "- Model — модель автомобиля\n",
    "- Kilometer — пробег (км)\n",
    "- RegistrationMonth — месяц регистрации автомобиля\n",
    "- FuelType — тип топлива\n",
    "- Brand — марка автомобиля\n",
    "- Repaired — была машина в ремонте или нет\n",
    "- DateCreated — дата создания анкеты\n",
    "- NumberOfPictures — количество фотографий автомобиля\n",
    "- PostalCode — почтовый индекс владельца анкеты (пользователя)\n",
    "- LastSeen — дата последней активности пользователя\n",
    "\n",
    "\n",
    "- Price — цена (евро) - целевой признак"
   ]
  },
  {
   "cell_type": "code",
   "execution_count": 1,
   "metadata": {},
   "outputs": [],
   "source": [
    "!pip install -Uq scikit-learn\n",
    "!pip install -Uq phik\n",
    "!pip install lightgbm"
   ]
  },
  {
   "cell_type": "code",
   "execution_count": 2,
   "metadata": {},
   "outputs": [],
   "source": [
    "import os\n",
    "import warnings\n",
    "\n",
    "import numpy as np\n",
    "import pandas as pd\n",
    "import seaborn as sns\n",
    "import matplotlib.pyplot as plt\n",
    "\n",
    "from time import time\n",
    "from phik import report\n",
    "from phik.report import plot_correlation_matrix\n",
    "\n",
    "from sklearn.pipeline import Pipeline\n",
    "from sklearn.impute import SimpleImputer\n",
    "from sklearn.compose import ColumnTransformer\n",
    "from sklearn.preprocessing import StandardScaler, MinMaxScaler, OneHotEncoder, OrdinalEncoder\n",
    "\n",
    "from sklearn.model_selection import train_test_split, RandomizedSearchCV\n",
    "\n",
    "from lightgbm import LGBMRegressor\n",
    "from sklearn.tree import DecisionTreeRegressor\n",
    "from sklearn.linear_model import LinearRegression\n",
    "\n",
    "from sklearn.metrics import make_scorer, root_mean_squared_error, mean_squared_error"
   ]
  },
  {
   "cell_type": "markdown",
   "metadata": {},
   "source": [
    "## Подготовка данных"
   ]
  },
  {
   "cell_type": "markdown",
   "metadata": {},
   "source": [
    "### Загрузка данных"
   ]
  },
  {
   "cell_type": "code",
   "execution_count": 3,
   "metadata": {},
   "outputs": [],
   "source": [
    "try:\n",
    "    autos = pd.read_csv('/datasets/autos.csv')\n",
    "except:\n",
    "    try:\n",
    "        autos = pd.read_csv('autos.csv')\n",
    "    except:\n",
    "        print('Something is wrong')"
   ]
  },
  {
   "cell_type": "markdown",
   "metadata": {},
   "source": [
    "**Вывод:** Данные соответствуют описанию задачи. Названия столбцов необходимо будет изменить в соответствии со стандартами оформления данных на этапе предобработки. Присутсвуют пропуски, которые будут заполнены на этапе предобработки."
   ]
  },
  {
   "cell_type": "markdown",
   "metadata": {},
   "source": [
    "### Предобработка данных"
   ]
  },
  {
   "cell_type": "code",
   "execution_count": 4,
   "metadata": {},
   "outputs": [
    {
     "data": {},
     "execution_count": 4,
     "metadata": {},
     "output_type": "execute_result"
    }
   ],
   "source": [
    "#Приведение названий столбцов датафрейма к нормальному оформлению\n",
    "autos.columns = ['date_crawled', 'price', 'vehicle_type', 'registration_year',\n",
    "                'gearbox', 'power', 'model', 'kilometer', 'registration_month',\n",
    "                'fuel_type', 'brand', 'repaired', 'date_created', 'number_of_pictures',\n",
    "                'postal_code', 'last_seen']\n",
    "autos.head()"
   ]
  },
  {
   "cell_type": "code",
   "execution_count": 5,
   "metadata": {},
   "outputs": [
    {
     "data": {},
     "execution_count": 5,
     "metadata": {},
     "output_type": "execute_result"
    }
   ],
   "source": [
    "#Проверка пропусков\n",
    "autos.isna().sum()"
   ]
  },
  {
   "cell_type": "code",
   "execution_count": 6,
   "metadata": {},
   "outputs": [
    {
     "data": {},
     "execution_count": 6,
     "metadata": {},
     "output_type": "execute_result"
    }
   ],
   "source": [
    "autos['vehicle_type'].value_counts(dropna=False)"
   ]
  },
  {
   "cell_type": "code",
   "execution_count": 7,
   "metadata": {},
   "outputs": [],
   "source": [
    "autos['vehicle_type'] = autos['vehicle_type'].fillna('unknown')"
   ]
  },
  {
   "cell_type": "code",
   "execution_count": 8,
   "metadata": {},
   "outputs": [
    {
     "data": {},
     "execution_count": 8,
     "metadata": {},
     "output_type": "execute_result"
    }
   ],
   "source": [
    "autos['gearbox'].value_counts(dropna=False)"
   ]
  },
  {
   "cell_type": "code",
   "execution_count": 9,
   "metadata": {},
   "outputs": [],
   "source": [
    "autos['gearbox'] = autos['gearbox'].fillna('unknown')"
   ]
  },
  {
   "cell_type": "code",
   "execution_count": 10,
   "metadata": {},
   "outputs": [
    {
     "data": {},
     "execution_count": 10,
     "metadata": {},
     "output_type": "execute_result"
    }
   ],
   "source": [
    "autos['model'].value_counts(dropna=False)"
   ]
  },
  {
   "cell_type": "code",
   "execution_count": 11,
   "metadata": {},
   "outputs": [],
   "source": [
    "autos['model'] = autos['model'].fillna('unknown')"
   ]
  },
  {
   "cell_type": "code",
   "execution_count": 12,
   "metadata": {},
   "outputs": [
    {
     "data": {},
     "execution_count": 12,
     "metadata": {},
     "output_type": "execute_result"
    }
   ],
   "source": [
    "autos['fuel_type'].value_counts(dropna=False)"
   ]
  },
  {
   "cell_type": "code",
   "execution_count": 13,
   "metadata": {},
   "outputs": [],
   "source": [
    "autos['fuel_type'] = autos['fuel_type'].fillna('petrol')"
   ]
  },
  {
   "cell_type": "code",
   "execution_count": 14,
   "metadata": {},
   "outputs": [
    {
     "data": {},
     "execution_count": 14,
     "metadata": {},
     "output_type": "execute_result"
    }
   ],
   "source": [
    "autos['repaired'].value_counts(dropna=False)"
   ]
  },
  {
   "cell_type": "code",
   "execution_count": 15,
   "metadata": {},
   "outputs": [],
   "source": [
    "autos['repaired'] = autos['repaired'].fillna('unknown')"
   ]
  },
  {
   "cell_type": "code",
   "execution_count": 16,
   "metadata": {},
   "outputs": [
    {
     "data": {},
     "execution_count": 16,
     "metadata": {},
     "output_type": "execute_result"
    }
   ],
   "source": [
    "#Проверка пропусков\n",
    "autos.isna().sum()"
   ]
  },
  {
   "cell_type": "code",
   "execution_count": 17,
   "metadata": {},
   "outputs": [],
   "source": [
    "#Поиск дубликатов и их удаление\n",
    "print('Количество дубликатов до форматирования:', autos.duplicated().sum())\n",
    "autos = autos.drop_duplicates()\n",
    "print('Количество дубликатов после форматирования:', autos.duplicated().sum())"
   ]
  },
  {
   "cell_type": "code",
   "execution_count": 18,
   "metadata": {},
   "outputs": [],
   "source": [
    "autos['fuel_type'] = autos['fuel_type'].replace(['gasoline'], 'petrol')"
   ]
  },
  {
   "cell_type": "code",
   "execution_count": 19,
   "metadata": {},
   "outputs": [],
   "source": [
    "autos['model'] = autos['brand'].replace(['rangerover'], 'range_rover')"
   ]
  },
  {
   "cell_type": "markdown",
   "metadata": {},
   "source": [
    "**Вывод:** На этапе предобработке данных были замечены пропуски, которые были удалены, так как нельзя было логически обосновать их заполнение другими значениями. Явные дубликаты были удалены. Неявные исправлены."
   ]
  },
  {
   "cell_type": "markdown",
   "metadata": {},
   "source": [
    "### Исследовательский анализ данных"
   ]
  },
  {
   "cell_type": "code",
   "execution_count": 20,
   "metadata": {},
   "outputs": [
    {
     "data": {},
     "execution_count": 20,
     "metadata": {},
     "output_type": "execute_result"
    }
   ],
   "source": [
    "autos.head()"
   ]
  },
  {
   "cell_type": "code",
   "execution_count": 21,
   "metadata": {},
   "outputs": [],
   "source": [
    "#date_crawled — дата сбора данных не влияет на его цену\n",
    "#model — модель может быть избыточной при наличии информации о марке автомобиля (brand)\n",
    "#date_created — дата создания объявления не отражает характеристики автомобиля\n",
    "#last_seen — дата последнего посещения объявления не отражает характеристики автомобиля\n",
    "#number_of_pictures — количество картинок в объявлении  не отражает характеристики автомобиля и равно нулю\n",
    "#postal_code — почтовый индекс не отражает характеристики автомобиля\n",
    "#registration_month — месяц регистрации менее значим, чем год регистрации\n",
    "\n",
    "prepared_autos = autos.drop(['date_crawled', 'model', 'date_created', 'last_seen', \n",
    "                             'number_of_pictures', 'postal_code', 'registration_month'], axis=1)"
   ]
  },
  {
   "cell_type": "code",
   "execution_count": 22,
   "metadata": {},
   "outputs": [
    {
     "data": {},
     "execution_count": 22,
     "metadata": {},
     "output_type": "execute_result"
    }
   ],
   "source": [
    "prepared_autos.head()"
   ]
  },
  {
   "cell_type": "code",
   "execution_count": 23,
   "metadata": {},
   "outputs": [],
   "source": [
    "def num_research(data):\n",
    "    num_cols = data.select_dtypes(include=['number']).columns\n",
    "    num_plots = len(num_cols)\n",
    "    \n",
    "    plt.figure(figsize=(10, 5 * num_plots))\n",
    "    for i, col in enumerate(num_cols):\n",
    "        # Гистограмма\n",
    "        plt.subplot(num_plots, 2, 2*i + 1)\n",
    "        data[col].hist(bins=10)\n",
    "        plt.title(f'Hist {col}')\n",
    "        plt.xlabel(col)\n",
    "        plt.ylabel('Frequency')\n",
    "\n",
    "        # Ящик\n",
    "        plt.subplot(num_plots, 2, 2*i + 2)\n",
    "        data.boxplot(column=col)\n",
    "        plt.title(f'Box {col}')\n",
    "        plt.ylabel('Count')\n",
    "    plt.tight_layout()\n",
    "    plt.show()\n"
   ]
  },
  {
   "cell_type": "code",
   "execution_count": 24,
   "metadata": {},
   "outputs": [],
   "source": [
    "def pie(data):\n",
    "    # Выбираем все столбцы с типом данных 'object'\n",
    "    cat_cols = data.select_dtypes(include=['object']).columns\n",
    "    \n",
    "    # Считаем количество столбцов для графиков\n",
    "    num_plots = len(cat_cols)\n",
    "    \n",
    "    # Задаем размер фигуры, чтобы на каждую диаграмму было достаточно места\n",
    "    plt.figure(figsize=(10, 5 * num_plots))\n",
    "    \n",
    "    # Построение пироговой диаграммы для каждого категориального столбца\n",
    "    for i, col in enumerate(cat_cols):\n",
    "        plt.subplot(num_plots, 2, i + 1)\n",
    "        \n",
    "        # Считаем количество значений в столбце и выбираем 10 самых частых\n",
    "        value_counts = data[col].value_counts()\n",
    "        top_8 = value_counts.nlargest(8)\n",
    "        \n",
    "        # Если есть значения, не вошедшие в топ-10, объединяем их в категорию 'Другие'\n",
    "        if len(value_counts) > 8:\n",
    "            top_8['Другие'] = value_counts[8:].sum()\n",
    "        \n",
    "        # Строим пироговую диаграмму\n",
    "        top_8.plot(kind='pie', autopct='%1.1f%%')\n",
    "        plt.title(f'Pie {col}')\n",
    "    \n",
    "    # Подгоняем компоновку графиков\n",
    "    plt.tight_layout()\n",
    "    plt.show()"
   ]
  },
  {
   "cell_type": "code",
   "execution_count": 25,
   "metadata": {},
   "outputs": [
    {
     "data": {
      "image/png": "[encoded data removed]"
     },
     "metadata": {},
     "output_type": "display_data"
    }
   ],
   "source": [
    "num_research(prepared_autos);"
   ]
  },
  {
   "cell_type": "code",
   "execution_count": 26,
   "metadata": {},
   "outputs": [
    {
     "data": {},
     "execution_count": 26,
     "metadata": {},
     "output_type": "execute_result"
    }
   ],
   "source": [
    "prepared_autos.describe()"
   ]
  },
  {
   "cell_type": "code",
   "execution_count": 27,
   "metadata": {},
   "outputs": [],
   "source": [
    "#Удаление выбросов\n",
    "prepared_autos = prepared_autos[prepared_autos['price'] < 15000]\n",
    "prepared_autos = prepared_autos[prepared_autos['price'] > 500]\n",
    "prepared_autos = prepared_autos[prepared_autos['price'] != 0]"
   ]
  },
  {
   "cell_type": "code",
   "execution_count": 28,
   "metadata": {},
   "outputs": [],
   "source": [
    "prepared_autos = prepared_autos[prepared_autos['registration_year'] <= 2016]"
   ]
  },
  {
   "cell_type": "code",
   "execution_count": 29,
   "metadata": {},
   "outputs": [],
   "source": [
    "prepared_autos = prepared_autos[prepared_autos['registration_year'] >= 1987]"
   ]
  },
  {
   "cell_type": "code",
   "execution_count": 30,
   "metadata": {},
   "outputs": [],
   "source": [
    "prepared_autos = prepared_autos[prepared_autos['power'] <= 1000]\n",
    "prepared_autos = prepared_autos[prepared_autos['power'] > 50]\n",
    "prepared_autos = prepared_autos[prepared_autos['power'] != 0]"
   ]
  },
  {
   "cell_type": "code",
   "execution_count": 31,
   "metadata": {},
   "outputs": [
    {
     "data": {
      "image/png": "[encoded data removed]"
     },
     "metadata": {},
     "output_type": "display_data"
    }
   ],
   "source": [
    "num_research(prepared_autos);"
   ]
  },
  {
   "cell_type": "code",
   "execution_count": 32,
   "metadata": {},
   "outputs": [
    {
     "data": {
      "image/png": "[encoded data removed]"
     },
     "metadata": {},
     "output_type": "display_data"
    }
   ],
   "source": [
    "pie(prepared_autos)"
   ]
  },
  {
   "cell_type": "code",
   "execution_count": 33,
   "metadata": {},
   "outputs": [],
   "source": [
    "# Матрица корреляции\n",
    "interval_cols = prepared_autos.select_dtypes(include=['number']).columns\n",
    "interval_cols = interval_cols.drop(['registration_year', 'kilometer'])"
   ]
  },
  {
   "cell_type": "code",
   "execution_count": 34,
   "metadata": {},
   "outputs": [
    {
     "data": {
      "image/png": "[encoded data removed]"
     },
     "metadata": {},
     "output_type": "display_data"
    }
   ],
   "source": [
    "phik_overview = prepared_autos.phik_matrix(interval_cols=interval_cols)\n",
    "plot_correlation_matrix(\n",
    "    phik_overview.values,\n",
    "    x_labels=phik_overview.columns,\n",
    "    y_labels=phik_overview.index,\n",
    "    title=r\"correlation $\\phi_K$\",\n",
    "    fontsize_factor=1.5,\n",
    "    figsize=(15, 12)\n",
    ")"
   ]
  },
  {
   "cell_type": "markdown",
   "metadata": {},
   "source": [
    "**Вывод:** Лишние столбцы были удалены, а выбросы в оставшихся устранены. При проведении корреляционого анализа мультиколлинеарность не была выявлена."
   ]
  },
  {
   "cell_type": "markdown",
   "metadata": {},
   "source": [
    "### Подготовка данных"
   ]
  },
  {
   "cell_type": "code",
   "execution_count": 35,
   "metadata": {},
   "outputs": [
    {
     "data": {},
     "execution_count": 35,
     "metadata": {},
     "output_type": "execute_result"
    }
   ],
   "source": [
    "prepared_autos.head()"
   ]
  },
  {
   "cell_type": "code",
   "execution_count": 36,
   "metadata": {},
   "outputs": [],
   "source": [
    "# Отбор признаков и разбиение на тренировочную и тестовую выборки\n",
    "RANDOM_STATE = 42\n",
    "X = prepared_autos.drop('price', axis=1)\n",
    "y = prepared_autos['price']\n",
    "\n",
    "X_train, X_test, y_train, y_test = train_test_split(\n",
    "    X, \n",
    "    y, \n",
    "    random_state=RANDOM_STATE\n",
    ")"
   ]
  },
  {
   "cell_type": "code",
   "execution_count": 37,
   "metadata": {},
   "outputs": [],
   "source": [
    "# создаём списки с названиями признаков\n",
    "ohe_columns = ['gearbox', 'vehicle_type', 'fuel_type', 'brand', 'repaired']\n",
    "num_columns = ['registration_year', 'power', 'kilometer']"
   ]
  },
  {
   "cell_type": "code",
   "execution_count": 38,
   "metadata": {},
   "outputs": [],
   "source": [
    "# создаём пайплайн для подготовки признаков из списка ohe_columns: заполнение пропусков и OHE-кодирование\n",
    "# SimpleImputer + OHE\n",
    "ohe_pipe = Pipeline(\n",
    "    [('simpleImputer_ohe', SimpleImputer(missing_values=np.nan, strategy='most_frequent')),\n",
    "     ('ohe', OneHotEncoder(drop='first', handle_unknown='ignore'))\n",
    "    ]\n",
    ")\n",
    "\n",
    "# создаём общий пайплайн для подготовки данных\n",
    "data_preprocessor = ColumnTransformer(\n",
    "    [('ohe', ohe_pipe, ohe_columns),\n",
    "     ('num', MinMaxScaler(), num_columns)\n",
    "    ], \n",
    "    remainder='passthrough'\n",
    ")"
   ]
  },
  {
   "cell_type": "code",
   "execution_count": 39,
   "metadata": {},
   "outputs": [],
   "source": [
    "# Преобразуем данные с помощью пайплайна data_preprocessor\n",
    "X_train_prepared = data_preprocessor.fit_transform(X_train)\n",
    "X_test_prepared = data_preprocessor.transform(X_test)"
   ]
  },
  {
   "cell_type": "code",
   "execution_count": 40,
   "metadata": {},
   "outputs": [],
   "source": [
    "print(\"Размер X_train до преобразования:\", X_train.shape)\n",
    "print(\"Размер X_train после преобразования:\", X_train_prepared.shape)\n",
    "print(\"Размер X_test после преобразования:\", X_test_prepared.shape)"
   ]
  },
  {
   "cell_type": "markdown",
   "metadata": {},
   "source": [
    "**Вывод:** Данные были разделены на тренировочную и тестовую выборки. Был создан пайплайн для подготовки данных."
   ]
  },
  {
   "cell_type": "markdown",
   "metadata": {},
   "source": [
    "## Обучение моделей"
   ]
  },
  {
   "cell_type": "code",
   "execution_count": 41,
   "metadata": {},
   "outputs": [
    {
     "data": {},
     "execution_count": 41,
     "metadata": {},
     "output_type": "execute_result"
    }
   ],
   "source": [
    "%%time\n",
    "warnings.filterwarnings(\"ignore\", category=FutureWarning)\n",
    "warnings.filterwarnings(\"ignore\", category=UserWarning)\n",
    "\n",
    "RANDOM_STATE = 42\n",
    "\n",
    "pipe_final = Pipeline([\n",
    "    ('models', LinearRegression())  \n",
    "])\n",
    "\n",
    "param_grid = [\n",
    "    # Гиперпараметры для LinearRegression (без гиперпараметров) (Увеличим вероятность \n",
    "    # переобра за счет добавления нескольких модель типа LinearRegression)\n",
    "    {\n",
    "        'models': [LinearRegression()]\n",
    "    },\n",
    "    {\n",
    "        'models': [LinearRegression()]\n",
    "    },\n",
    "    \n",
    "    # Гиперпараметры для DecisionTreeRegressor\n",
    "    {\n",
    "        'models': [DecisionTreeRegressor(random_state=RANDOM_STATE)],\n",
    "        'models__max_depth': range(2, 20, 2),\n",
    "        'models__max_features': range(2, 10, 2)\n",
    "    },\n",
    "    \n",
    "    # Гиперпараметры для LightGBM\n",
    "    {\n",
    "        'models': [LGBMRegressor(random_state=RANDOM_STATE)],\n",
    "        'models__n_estimators': range(1, 50, 2),\n",
    "        'models__learning_rate': [0.01, 0.1, 0.2]\n",
    "    }\n",
    "]\n",
    "\n",
    "randomized_search = RandomizedSearchCV(\n",
    "    pipe_final, \n",
    "    param_distributions=param_grid, \n",
    "    cv=5,\n",
    "    scoring='neg_root_mean_squared_error', \n",
    "    random_state=RANDOM_STATE,\n",
    "    n_iter=75,  \n",
    "    n_jobs=-1  \n",
    ")\n",
    "\n",
    "randomized_search.fit(X_train_prepared, y_train)"
   ]
  },
  {
   "cell_type": "markdown",
   "metadata": {},
   "source": [
    "## Анализ моделей"
   ]
  },
  {
   "cell_type": "code",
   "execution_count": 42,
   "metadata": {},
   "outputs": [
    {
     "data": {},
     "execution_count": 42,
     "metadata": {},
     "output_type": "execute_result"
    }
   ],
   "source": [
    "cv_results = pd.DataFrame(randomized_search.cv_results_)\n",
    "\n",
    "# Добавляем колонку с названием модели, выделяя её из параметра 'param_models'\n",
    "cv_results['model_name'] = cv_results['param_models'].apply(lambda x: str(x).split('(')[0])\n",
    "\n",
    "# Для каждой модели находим строку с минимальной метрикой RMSE (максимальный 'neg_root_mean_squared_error')\n",
    "best_indices = cv_results.groupby('model_name')['mean_test_score'].idxmax()\n",
    "\n",
    "# Извлекаем строки с минимальной метрикой для каждой модели\n",
    "best_results = cv_results.loc[best_indices, ['model_name', 'mean_test_score', 'mean_fit_time', 'mean_score_time']]\n",
    "\n",
    "# Преобразуем обратно в положительный RMSE (метрика 'neg_root_mean_squared_error' отрицательная, поэтому инвертируем)\n",
    "best_results['mean_test_score'] = -best_results['mean_test_score']\n",
    "\n",
    "# Переименовываем столбцы для удобного восприятия\n",
    "best_results.columns = ['Модель', 'RMSE', 'Время обучения', 'Время предсказания']\n",
    "\n",
    "best_results"
   ]
  },
  {
   "cell_type": "code",
   "execution_count": 43,
   "metadata": {},
   "outputs": [],
   "source": [
    "best_model = randomized_search.best_estimator_\n",
    "y_test_predictions_bm = best_model.predict(X_test_prepared)\n",
    "\n",
    "rmse_bm = root_mean_squared_error(y_test, y_test_predictions_bm)\n",
    "print('RMSE:', rmse_bm)\n"
   ]
  },
  {
   "cell_type": "markdown",
   "metadata": {},
   "source": [
    "**Вывод:**\n",
    "\n",
    "Из всех протестированных моделей наименьшую ошибку RMSE показали:\n",
    "- LGBMRegressor с RMSE = 1452.64, что указывает на его высокую точность в предсказаниях.\n",
    "- DecisionTreeRegressor с RMSE = 1876.81, также демонстрирует неплохие результаты.\n",
    "- LinearRegression оказалась наименее точной с RMSE = 2072.76\n",
    "\n",
    "Время обучения и предсказания:\n",
    "- DecisionTreeRegressor и LGBMRegressor имеют сопоставимое время обучения (3.37 и 0.56 секунды соответственно), и предсказания (0.005 и 0.03 секунды соответственно)\n",
    "- LinearRegression показала наименьшее время обучения (0.29 секунды) и крайне малое время предсказания (0.001 секунды), что делает её быстрой, но менее точной по сравнению с другими моделями."
   ]
  },
  {
   "cell_type": "markdown",
   "metadata": {},
   "source": [
    "## Общий вывод\n",
    "\n",
    "На этапе загрузки данных было выявлено, что они соответствуют описанию задачи.\n",
    "\n",
    "На этапе предобработке данных были замечены пропуски, которые были удалены, так как нельзя было логически обосновать их заполнение другими значениями. Явные дубликаты были удалены. Неявные исправлены.\n",
    "\n",
    "Во время исследовательского анализа данных лишние столбцы были удалены, а выбросы в оставшихся устранены. При проведении корреляционого анализа мультиколлинеарность не была выявлена. \n",
    "\n",
    "После чего во время подготовки данных они были разделены на тренировочную и тестовую выборки. Также был создан пайплайн для подготовки данных.\n",
    "\n",
    "\n",
    "Из всех протестированных моделей наименьшую ошибку RMSE показали:\n",
    "- LGBMRegressor с RMSE = 1452.64, что указывает на его высокую точность в предсказаниях.\n",
    "- DecisionTreeRegressor с RMSE = 1876.81, также демонстрирует неплохие результаты.\n",
    "- LinearRegression оказалась наименее точной с RMSE = 2072.76\n",
    "\n",
    "Время обучения и предсказания:\n",
    "- DecisionTreeRegressor и LGBMRegressor имеют сопоставимое время обучения (3.37 и 0.56 секунды соответственно), и предсказания (0.005 и 0.03 секунды соответственно)\n",
    "- LinearRegression показала наименьшее время обучения (0.29 секунды) и крайне малое время предсказания (0.001 секунды), что делает её быстрой, но менее точной по сравнению с другими моделями.\n",
    "\n",
    "\n",
    "Рекомендации:\n",
    "- Несмотря на то, что модель LGBMRegressor показала самое долгое время обучения, которое все же сопоставимо со временем работы модели DecisionTreeRegressor и не на много превосходит его, она также показала наилучший результат на кросс-валидационной выборке - 1452.64, что существенно больше ее ближайшего конурента DecisionTreeRegressor с метрикой RMSE, равной 1876.81. Поэтому рекомендую использовать именно эту модель. Также она была проверена на тестовых данных, где показала себя незначительно лучше валидационных. RMSE составил 1449.48.\n"
   ]
  }
 ],
 "metadata": {
  "ExecuteTimeLog": [
   {
    "duration": 1435,
    "start_time": "2024-09-14T07:02:10.031Z"
   },
   {
    "duration": 2839,
    "start_time": "2024-09-14T07:02:37.621Z"
   },
   {
    "duration": 13,
    "start_time": "2024-09-14T08:55:41.294Z"
   },
   {
    "duration": 11,
    "start_time": "2024-09-14T08:56:12.338Z"
   },
   {
    "duration": 154,
    "start_time": "2024-09-14T08:56:18.858Z"
   },
   {
    "duration": 1117,
    "start_time": "2024-09-14T08:57:24.527Z"
   },
   {
    "duration": 3,
    "start_time": "2024-09-14T08:57:55.124Z"
   },
   {
    "duration": 819,
    "start_time": "2024-09-14T09:01:24.772Z"
   },
   {
    "duration": 84,
    "start_time": "2024-09-14T09:01:25.592Z"
   },
   {
    "duration": 905,
    "start_time": "2024-09-14T09:01:35.732Z"
   },
   {
    "duration": 89,
    "start_time": "2024-09-14T09:01:36.638Z"
   },
   {
    "duration": 3,
    "start_time": "2024-09-14T09:43:12.993Z"
   },
   {
    "duration": 4,
    "start_time": "2024-09-14T09:43:21.205Z"
   },
   {
    "duration": 125,
    "start_time": "2024-09-14T09:43:32.550Z"
   },
   {
    "duration": 4,
    "start_time": "2024-09-14T09:43:47.296Z"
   },
   {
    "duration": 8,
    "start_time": "2024-09-14T09:43:48.221Z"
   },
   {
    "duration": 3438,
    "start_time": "2024-09-14T09:43:48.535Z"
   },
   {
    "duration": 3421,
    "start_time": "2024-09-14T09:43:58.222Z"
   },
   {
    "duration": 41,
    "start_time": "2024-09-14T09:48:18.917Z"
   },
   {
    "duration": 1216,
    "start_time": "2024-09-14T09:48:25.973Z"
   },
   {
    "duration": 2931,
    "start_time": "2024-09-14T09:48:27.190Z"
   },
   {
    "duration": 11,
    "start_time": "2024-09-14T09:48:30.122Z"
   },
   {
    "duration": 141,
    "start_time": "2024-09-14T09:48:30.135Z"
   },
   {
    "duration": 1195,
    "start_time": "2024-09-14T09:48:30.278Z"
   },
   {
    "duration": 4,
    "start_time": "2024-09-14T09:48:31.474Z"
   },
   {
    "duration": 48,
    "start_time": "2024-09-14T09:48:31.479Z"
   },
   {
    "duration": 3725,
    "start_time": "2024-09-14T09:48:31.528Z"
   },
   {
    "duration": 85,
    "start_time": "2024-09-14T09:48:35.255Z"
   },
   {
    "duration": 1260,
    "start_time": "2024-09-14T09:51:09.793Z"
   },
   {
    "duration": 823,
    "start_time": "2024-09-14T09:51:11.054Z"
   },
   {
    "duration": 11,
    "start_time": "2024-09-14T09:51:11.878Z"
   },
   {
    "duration": 106,
    "start_time": "2024-09-14T09:51:11.890Z"
   },
   {
    "duration": 1180,
    "start_time": "2024-09-14T09:51:11.997Z"
   },
   {
    "duration": 4,
    "start_time": "2024-09-14T09:51:13.179Z"
   },
   {
    "duration": 15,
    "start_time": "2024-09-14T09:51:13.184Z"
   },
   {
    "duration": 3440,
    "start_time": "2024-09-14T09:51:13.201Z"
   },
   {
    "duration": 81,
    "start_time": "2024-09-14T09:51:16.643Z"
   },
   {
    "duration": 701,
    "start_time": "2024-09-14T09:54:32.182Z"
   },
   {
    "duration": 111,
    "start_time": "2024-09-14T09:55:21.684Z"
   },
   {
    "duration": 16,
    "start_time": "2024-09-14T09:55:26.057Z"
   },
   {
    "duration": 9969,
    "start_time": "2024-09-14T09:56:05.245Z"
   },
   {
    "duration": 84,
    "start_time": "2024-09-14T09:56:15.217Z"
   },
   {
    "duration": 0,
    "start_time": "2024-09-14T09:56:15.302Z"
   },
   {
    "duration": 13,
    "start_time": "2024-09-14T09:56:15.806Z"
   },
   {
    "duration": 111,
    "start_time": "2024-09-14T09:56:16.334Z"
   },
   {
    "duration": 1099,
    "start_time": "2024-09-14T09:56:17.410Z"
   },
   {
    "duration": 5648,
    "start_time": "2024-09-14T09:56:27.443Z"
   },
   {
    "duration": 1100,
    "start_time": "2024-09-14T09:56:33.094Z"
   },
   {
    "duration": 821,
    "start_time": "2024-09-14T09:56:34.196Z"
   },
   {
    "duration": 11,
    "start_time": "2024-09-14T09:56:35.019Z"
   },
   {
    "duration": 113,
    "start_time": "2024-09-14T09:56:35.031Z"
   },
   {
    "duration": 1153,
    "start_time": "2024-09-14T09:56:35.146Z"
   },
   {
    "duration": 6,
    "start_time": "2024-09-14T09:56:36.301Z"
   },
   {
    "duration": 8,
    "start_time": "2024-09-14T09:56:36.309Z"
   },
   {
    "duration": 3531,
    "start_time": "2024-09-14T09:56:36.318Z"
   },
   {
    "duration": 112,
    "start_time": "2024-09-14T09:56:39.852Z"
   },
   {
    "duration": 761,
    "start_time": "2024-09-14T09:56:40.860Z"
   },
   {
    "duration": 43,
    "start_time": "2024-09-14T10:10:03.017Z"
   },
   {
    "duration": 5639,
    "start_time": "2024-09-14T10:10:21.373Z"
   },
   {
    "duration": 1919,
    "start_time": "2024-09-14T10:10:27.014Z"
   },
   {
    "duration": 2858,
    "start_time": "2024-09-14T10:10:28.935Z"
   },
   {
    "duration": 13,
    "start_time": "2024-09-14T10:10:31.794Z"
   },
   {
    "duration": 116,
    "start_time": "2024-09-14T10:10:31.809Z"
   },
   {
    "duration": 1111,
    "start_time": "2024-09-14T10:10:31.926Z"
   },
   {
    "duration": 4,
    "start_time": "2024-09-14T10:10:33.038Z"
   },
   {
    "duration": 16,
    "start_time": "2024-09-14T10:10:33.043Z"
   },
   {
    "duration": 3345,
    "start_time": "2024-09-14T10:10:33.060Z"
   },
   {
    "duration": 79,
    "start_time": "2024-09-14T10:10:36.406Z"
   },
   {
    "duration": 707,
    "start_time": "2024-09-14T10:10:36.486Z"
   },
   {
    "duration": 18,
    "start_time": "2024-09-14T10:10:37.194Z"
   },
   {
    "duration": 0,
    "start_time": "2024-09-14T10:13:09.560Z"
   },
   {
    "duration": 0,
    "start_time": "2024-09-14T10:13:09.561Z"
   },
   {
    "duration": 27,
    "start_time": "2024-09-14T10:13:13.967Z"
   },
   {
    "duration": 37,
    "start_time": "2024-09-14T10:13:28.092Z"
   },
   {
    "duration": 27,
    "start_time": "2024-09-14T10:13:52.291Z"
   },
   {
    "duration": 26,
    "start_time": "2024-09-14T10:14:11.004Z"
   },
   {
    "duration": 41,
    "start_time": "2024-09-14T10:14:18.847Z"
   },
   {
    "duration": 26,
    "start_time": "2024-09-14T10:14:51.489Z"
   },
   {
    "duration": 26,
    "start_time": "2024-09-14T10:14:56.133Z"
   },
   {
    "duration": 28,
    "start_time": "2024-09-14T10:14:57.408Z"
   },
   {
    "duration": 27,
    "start_time": "2024-09-14T10:14:59.048Z"
   },
   {
    "duration": 27,
    "start_time": "2024-09-14T10:15:01.690Z"
   },
   {
    "duration": 5529,
    "start_time": "2024-09-14T10:35:39.719Z"
   },
   {
    "duration": 1125,
    "start_time": "2024-09-14T10:35:45.250Z"
   },
   {
    "duration": 808,
    "start_time": "2024-09-14T10:35:46.377Z"
   },
   {
    "duration": 16,
    "start_time": "2024-09-14T10:35:47.186Z"
   },
   {
    "duration": 111,
    "start_time": "2024-09-14T10:35:47.208Z"
   },
   {
    "duration": 26,
    "start_time": "2024-09-14T10:35:47.321Z"
   },
   {
    "duration": 27,
    "start_time": "2024-09-14T10:35:47.349Z"
   },
   {
    "duration": 44,
    "start_time": "2024-09-14T10:35:47.377Z"
   },
   {
    "duration": 41,
    "start_time": "2024-09-14T10:35:47.422Z"
   },
   {
    "duration": 35,
    "start_time": "2024-09-14T10:35:47.464Z"
   },
   {
    "duration": 1152,
    "start_time": "2024-09-14T10:35:47.501Z"
   },
   {
    "duration": 3,
    "start_time": "2024-09-14T10:35:48.655Z"
   },
   {
    "duration": 31,
    "start_time": "2024-09-14T10:35:48.660Z"
   },
   {
    "duration": 3423,
    "start_time": "2024-09-14T10:35:48.694Z"
   },
   {
    "duration": 79,
    "start_time": "2024-09-14T10:35:52.119Z"
   },
   {
    "duration": 41,
    "start_time": "2024-09-14T10:38:18.950Z"
   },
   {
    "duration": 5610,
    "start_time": "2024-09-14T10:38:26.319Z"
   },
   {
    "duration": 2316,
    "start_time": "2024-09-14T10:38:31.931Z"
   },
   {
    "duration": 2824,
    "start_time": "2024-09-14T10:38:34.248Z"
   },
   {
    "duration": 11,
    "start_time": "2024-09-14T10:38:37.073Z"
   },
   {
    "duration": 111,
    "start_time": "2024-09-14T10:38:37.085Z"
   },
   {
    "duration": 32,
    "start_time": "2024-09-14T10:38:37.198Z"
   },
   {
    "duration": 31,
    "start_time": "2024-09-14T10:38:37.231Z"
   },
   {
    "duration": 44,
    "start_time": "2024-09-14T10:38:37.264Z"
   },
   {
    "duration": 29,
    "start_time": "2024-09-14T10:38:37.309Z"
   },
   {
    "duration": 34,
    "start_time": "2024-09-14T10:38:37.339Z"
   },
   {
    "duration": 33,
    "start_time": "2024-09-14T10:38:37.374Z"
   },
   {
    "duration": 1147,
    "start_time": "2024-09-14T10:38:37.409Z"
   },
   {
    "duration": 4,
    "start_time": "2024-09-14T10:38:38.558Z"
   },
   {
    "duration": 82,
    "start_time": "2024-09-14T10:38:38.564Z"
   },
   {
    "duration": 3469,
    "start_time": "2024-09-14T10:38:38.648Z"
   },
   {
    "duration": 81,
    "start_time": "2024-09-14T10:38:42.119Z"
   },
   {
    "duration": 5622,
    "start_time": "2024-09-14T10:40:53.390Z"
   },
   {
    "duration": 2183,
    "start_time": "2024-09-14T10:40:59.014Z"
   },
   {
    "duration": 2825,
    "start_time": "2024-09-14T10:41:01.198Z"
   },
   {
    "duration": 11,
    "start_time": "2024-09-14T10:41:04.024Z"
   },
   {
    "duration": 102,
    "start_time": "2024-09-14T10:41:04.037Z"
   },
   {
    "duration": 27,
    "start_time": "2024-09-14T10:41:04.140Z"
   },
   {
    "duration": 42,
    "start_time": "2024-09-14T10:41:04.168Z"
   },
   {
    "duration": 30,
    "start_time": "2024-09-14T10:41:04.211Z"
   },
   {
    "duration": 37,
    "start_time": "2024-09-14T10:41:04.242Z"
   },
   {
    "duration": 34,
    "start_time": "2024-09-14T10:41:04.280Z"
   },
   {
    "duration": 26,
    "start_time": "2024-09-14T10:41:04.315Z"
   },
   {
    "duration": 1114,
    "start_time": "2024-09-14T10:41:04.342Z"
   },
   {
    "duration": 4,
    "start_time": "2024-09-14T10:41:05.458Z"
   },
   {
    "duration": 31,
    "start_time": "2024-09-14T10:41:05.463Z"
   },
   {
    "duration": 3378,
    "start_time": "2024-09-14T10:41:08.215Z"
   },
   {
    "duration": 80,
    "start_time": "2024-09-14T10:41:13.135Z"
   },
   {
    "duration": 53,
    "start_time": "2024-09-14T10:43:23.760Z"
   },
   {
    "duration": 5626,
    "start_time": "2024-09-14T10:44:04.312Z"
   },
   {
    "duration": 1774,
    "start_time": "2024-09-14T10:44:09.940Z"
   },
   {
    "duration": 2909,
    "start_time": "2024-09-14T10:44:11.715Z"
   },
   {
    "duration": 12,
    "start_time": "2024-09-14T10:44:14.625Z"
   },
   {
    "duration": 135,
    "start_time": "2024-09-14T10:44:14.638Z"
   },
   {
    "duration": 27,
    "start_time": "2024-09-14T10:44:14.774Z"
   },
   {
    "duration": 29,
    "start_time": "2024-09-14T10:44:14.809Z"
   },
   {
    "duration": 36,
    "start_time": "2024-09-14T10:44:14.839Z"
   },
   {
    "duration": 34,
    "start_time": "2024-09-14T10:44:14.876Z"
   },
   {
    "duration": 32,
    "start_time": "2024-09-14T10:44:14.911Z"
   },
   {
    "duration": 25,
    "start_time": "2024-09-14T10:44:14.944Z"
   },
   {
    "duration": 1188,
    "start_time": "2024-09-14T10:44:14.970Z"
   },
   {
    "duration": 26,
    "start_time": "2024-09-14T10:48:36.520Z"
   },
   {
    "duration": 150,
    "start_time": "2024-09-14T10:49:01.792Z"
   },
   {
    "duration": 10,
    "start_time": "2024-09-14T10:49:08.720Z"
   },
   {
    "duration": 68,
    "start_time": "2024-09-14T10:49:11.606Z"
   },
   {
    "duration": 949,
    "start_time": "2024-09-14T10:49:19.853Z"
   },
   {
    "duration": 73,
    "start_time": "2024-09-14T10:49:41.310Z"
   },
   {
    "duration": 5709,
    "start_time": "2024-09-14T10:50:46.977Z"
   },
   {
    "duration": 1116,
    "start_time": "2024-09-14T10:50:52.688Z"
   },
   {
    "duration": 822,
    "start_time": "2024-09-14T10:50:53.806Z"
   },
   {
    "duration": 10,
    "start_time": "2024-09-14T10:50:54.629Z"
   },
   {
    "duration": 152,
    "start_time": "2024-09-14T10:50:54.641Z"
   },
   {
    "duration": 33,
    "start_time": "2024-09-14T10:50:54.795Z"
   },
   {
    "duration": 26,
    "start_time": "2024-09-14T10:50:54.830Z"
   },
   {
    "duration": 32,
    "start_time": "2024-09-14T10:50:54.857Z"
   },
   {
    "duration": 36,
    "start_time": "2024-09-14T10:50:54.890Z"
   },
   {
    "duration": 34,
    "start_time": "2024-09-14T10:50:54.928Z"
   },
   {
    "duration": 44,
    "start_time": "2024-09-14T10:50:54.964Z"
   },
   {
    "duration": 134,
    "start_time": "2024-09-14T10:50:55.009Z"
   },
   {
    "duration": 101,
    "start_time": "2024-09-14T10:50:55.145Z"
   },
   {
    "duration": 984,
    "start_time": "2024-09-14T10:50:55.249Z"
   },
   {
    "duration": 4,
    "start_time": "2024-09-14T10:53:08.256Z"
   },
   {
    "duration": 4,
    "start_time": "2024-09-14T10:53:08.820Z"
   },
   {
    "duration": 3103,
    "start_time": "2024-09-14T10:53:11.582Z"
   },
   {
    "duration": 65,
    "start_time": "2024-09-14T10:53:14.687Z"
   },
   {
    "duration": 43,
    "start_time": "2024-09-14T10:55:36.054Z"
   },
   {
    "duration": 5807,
    "start_time": "2024-09-14T10:56:03.861Z"
   },
   {
    "duration": 1874,
    "start_time": "2024-09-14T10:56:09.670Z"
   },
   {
    "duration": 2951,
    "start_time": "2024-09-14T10:56:11.545Z"
   },
   {
    "duration": 24,
    "start_time": "2024-09-14T10:56:14.497Z"
   },
   {
    "duration": 101,
    "start_time": "2024-09-14T10:56:14.524Z"
   },
   {
    "duration": 27,
    "start_time": "2024-09-14T10:56:14.627Z"
   },
   {
    "duration": 92,
    "start_time": "2024-09-14T10:56:14.655Z"
   },
   {
    "duration": 31,
    "start_time": "2024-09-14T10:56:14.748Z"
   },
   {
    "duration": 44,
    "start_time": "2024-09-14T10:56:14.780Z"
   },
   {
    "duration": 29,
    "start_time": "2024-09-14T10:56:14.826Z"
   },
   {
    "duration": 34,
    "start_time": "2024-09-14T10:56:14.856Z"
   },
   {
    "duration": 135,
    "start_time": "2024-09-14T10:56:14.891Z"
   },
   {
    "duration": 64,
    "start_time": "2024-09-14T10:56:15.027Z"
   },
   {
    "duration": 998,
    "start_time": "2024-09-14T10:56:15.093Z"
   },
   {
    "duration": 4,
    "start_time": "2024-09-14T10:56:16.092Z"
   },
   {
    "duration": 26,
    "start_time": "2024-09-14T10:56:16.097Z"
   },
   {
    "duration": 3148,
    "start_time": "2024-09-14T10:56:16.125Z"
   },
   {
    "duration": 67,
    "start_time": "2024-09-14T10:56:19.275Z"
   },
   {
    "duration": 5661,
    "start_time": "2024-09-14T10:59:03.461Z"
   },
   {
    "duration": 1999,
    "start_time": "2024-09-14T10:59:09.125Z"
   },
   {
    "duration": 2859,
    "start_time": "2024-09-14T10:59:11.126Z"
   },
   {
    "duration": 12,
    "start_time": "2024-09-14T10:59:13.986Z"
   },
   {
    "duration": 110,
    "start_time": "2024-09-14T10:59:13.999Z"
   },
   {
    "duration": 27,
    "start_time": "2024-09-14T10:59:14.110Z"
   },
   {
    "duration": 26,
    "start_time": "2024-09-14T10:59:14.138Z"
   },
   {
    "duration": 45,
    "start_time": "2024-09-14T10:59:14.165Z"
   },
   {
    "duration": 26,
    "start_time": "2024-09-14T10:59:14.212Z"
   },
   {
    "duration": 56,
    "start_time": "2024-09-14T10:59:14.240Z"
   },
   {
    "duration": 28,
    "start_time": "2024-09-14T10:59:14.297Z"
   },
   {
    "duration": 162,
    "start_time": "2024-09-14T10:59:14.326Z"
   },
   {
    "duration": 65,
    "start_time": "2024-09-14T10:59:14.490Z"
   },
   {
    "duration": 937,
    "start_time": "2024-09-14T10:59:14.557Z"
   },
   {
    "duration": 4,
    "start_time": "2024-09-14T10:59:15.496Z"
   },
   {
    "duration": 8,
    "start_time": "2024-09-14T10:59:15.507Z"
   },
   {
    "duration": 2937,
    "start_time": "2024-09-14T10:59:15.516Z"
   },
   {
    "duration": 64,
    "start_time": "2024-09-14T10:59:18.455Z"
   },
   {
    "duration": 30,
    "start_time": "2024-09-14T10:59:35.418Z"
   },
   {
    "duration": 25,
    "start_time": "2024-09-14T10:59:38.857Z"
   },
   {
    "duration": 11802,
    "start_time": "2024-09-14T10:59:44.664Z"
   },
   {
    "duration": 152,
    "start_time": "2024-09-14T11:00:07.219Z"
   },
   {
    "duration": 11,
    "start_time": "2024-09-14T11:00:26.722Z"
   },
   {
    "duration": 5861,
    "start_time": "2024-09-14T11:01:42.399Z"
   },
   {
    "duration": 1137,
    "start_time": "2024-09-14T11:01:48.262Z"
   },
   {
    "duration": 865,
    "start_time": "2024-09-14T11:01:49.400Z"
   },
   {
    "duration": 12,
    "start_time": "2024-09-14T11:01:50.267Z"
   },
   {
    "duration": 137,
    "start_time": "2024-09-14T11:01:50.281Z"
   },
   {
    "duration": 29,
    "start_time": "2024-09-14T11:01:50.419Z"
   },
   {
    "duration": 73,
    "start_time": "2024-09-14T11:01:50.449Z"
   },
   {
    "duration": 45,
    "start_time": "2024-09-14T11:01:50.523Z"
   },
   {
    "duration": 45,
    "start_time": "2024-09-14T11:01:50.570Z"
   },
   {
    "duration": 49,
    "start_time": "2024-09-14T11:01:50.617Z"
   },
   {
    "duration": 142,
    "start_time": "2024-09-14T11:01:50.667Z"
   },
   {
    "duration": 172,
    "start_time": "2024-09-14T11:01:50.811Z"
   },
   {
    "duration": 67,
    "start_time": "2024-09-14T11:01:50.985Z"
   },
   {
    "duration": 1033,
    "start_time": "2024-09-14T11:01:51.054Z"
   },
   {
    "duration": 4,
    "start_time": "2024-09-14T11:01:52.089Z"
   },
   {
    "duration": 47,
    "start_time": "2024-09-14T11:01:52.094Z"
   },
   {
    "duration": 3143,
    "start_time": "2024-09-14T11:01:52.142Z"
   },
   {
    "duration": 72,
    "start_time": "2024-09-14T11:01:55.287Z"
   },
   {
    "duration": 127,
    "start_time": "2024-09-14T11:01:55.361Z"
   },
   {
    "duration": 0,
    "start_time": "2024-09-14T11:01:55.489Z"
   },
   {
    "duration": 0,
    "start_time": "2024-09-14T11:01:55.490Z"
   },
   {
    "duration": 0,
    "start_time": "2024-09-14T11:01:55.491Z"
   },
   {
    "duration": 4,
    "start_time": "2024-09-14T11:02:12.182Z"
   },
   {
    "duration": 2979,
    "start_time": "2024-09-14T11:02:14.232Z"
   },
   {
    "duration": 70,
    "start_time": "2024-09-14T11:02:17.213Z"
   },
   {
    "duration": 1312,
    "start_time": "2024-09-14T11:02:20.531Z"
   },
   {
    "duration": 5,
    "start_time": "2024-09-14T11:04:09.020Z"
   },
   {
    "duration": 5481,
    "start_time": "2024-09-14T11:06:29.946Z"
   },
   {
    "duration": 1171,
    "start_time": "2024-09-14T11:06:35.429Z"
   },
   {
    "duration": 826,
    "start_time": "2024-09-14T11:06:36.601Z"
   },
   {
    "duration": 10,
    "start_time": "2024-09-14T11:06:37.428Z"
   },
   {
    "duration": 111,
    "start_time": "2024-09-14T11:06:37.440Z"
   },
   {
    "duration": 27,
    "start_time": "2024-09-14T11:06:37.552Z"
   },
   {
    "duration": 34,
    "start_time": "2024-09-14T11:06:37.580Z"
   },
   {
    "duration": 46,
    "start_time": "2024-09-14T11:06:37.615Z"
   },
   {
    "duration": 47,
    "start_time": "2024-09-14T11:06:37.662Z"
   },
   {
    "duration": 32,
    "start_time": "2024-09-14T11:06:37.710Z"
   },
   {
    "duration": 61,
    "start_time": "2024-09-14T11:06:37.744Z"
   },
   {
    "duration": 240,
    "start_time": "2024-09-14T11:06:37.806Z"
   },
   {
    "duration": 65,
    "start_time": "2024-09-14T11:06:38.047Z"
   },
   {
    "duration": 936,
    "start_time": "2024-09-14T11:06:38.114Z"
   },
   {
    "duration": 4,
    "start_time": "2024-09-14T11:06:39.051Z"
   },
   {
    "duration": 21,
    "start_time": "2024-09-14T11:06:39.056Z"
   },
   {
    "duration": 2875,
    "start_time": "2024-09-14T11:06:39.078Z"
   },
   {
    "duration": 69,
    "start_time": "2024-09-14T11:06:41.955Z"
   },
   {
    "duration": 1026,
    "start_time": "2024-09-14T11:06:42.025Z"
   },
   {
    "duration": 684,
    "start_time": "2024-09-14T11:06:43.053Z"
   },
   {
    "duration": 7,
    "start_time": "2024-09-14T11:06:43.738Z"
   },
   {
    "duration": 5421,
    "start_time": "2024-09-14T11:07:37.621Z"
   },
   {
    "duration": 1120,
    "start_time": "2024-09-14T11:07:43.045Z"
   },
   {
    "duration": 804,
    "start_time": "2024-09-14T11:07:44.167Z"
   },
   {
    "duration": 12,
    "start_time": "2024-09-14T11:07:44.972Z"
   },
   {
    "duration": 112,
    "start_time": "2024-09-14T11:07:44.985Z"
   },
   {
    "duration": 29,
    "start_time": "2024-09-14T11:07:45.098Z"
   },
   {
    "duration": 88,
    "start_time": "2024-09-14T11:07:45.128Z"
   },
   {
    "duration": 81,
    "start_time": "2024-09-14T11:07:45.217Z"
   },
   {
    "duration": 35,
    "start_time": "2024-09-14T11:07:45.300Z"
   },
   {
    "duration": 49,
    "start_time": "2024-09-14T11:07:45.337Z"
   },
   {
    "duration": 26,
    "start_time": "2024-09-14T11:07:45.387Z"
   },
   {
    "duration": 144,
    "start_time": "2024-09-14T11:07:45.414Z"
   },
   {
    "duration": 67,
    "start_time": "2024-09-14T11:07:45.559Z"
   },
   {
    "duration": 951,
    "start_time": "2024-09-14T11:07:45.629Z"
   },
   {
    "duration": 4,
    "start_time": "2024-09-14T11:07:46.582Z"
   },
   {
    "duration": 12,
    "start_time": "2024-09-14T11:07:46.587Z"
   },
   {
    "duration": 2833,
    "start_time": "2024-09-14T11:07:46.600Z"
   },
   {
    "duration": 62,
    "start_time": "2024-09-14T11:07:49.435Z"
   },
   {
    "duration": 210,
    "start_time": "2024-09-14T11:07:49.499Z"
   },
   {
    "duration": 0,
    "start_time": "2024-09-14T11:07:49.711Z"
   },
   {
    "duration": 0,
    "start_time": "2024-09-14T11:07:49.712Z"
   },
   {
    "duration": 0,
    "start_time": "2024-09-14T11:07:49.714Z"
   },
   {
    "duration": 4,
    "start_time": "2024-09-14T11:08:24.013Z"
   },
   {
    "duration": 5657,
    "start_time": "2024-09-14T11:08:38.022Z"
   },
   {
    "duration": 1204,
    "start_time": "2024-09-14T11:08:43.681Z"
   },
   {
    "duration": 847,
    "start_time": "2024-09-14T11:08:44.886Z"
   },
   {
    "duration": 11,
    "start_time": "2024-09-14T11:08:45.735Z"
   },
   {
    "duration": 341,
    "start_time": "2024-09-14T11:08:45.748Z"
   },
   {
    "duration": 27,
    "start_time": "2024-09-14T11:08:46.091Z"
   },
   {
    "duration": 32,
    "start_time": "2024-09-14T11:08:46.119Z"
   },
   {
    "duration": 28,
    "start_time": "2024-09-14T11:08:46.153Z"
   },
   {
    "duration": 44,
    "start_time": "2024-09-14T11:08:46.183Z"
   },
   {
    "duration": 35,
    "start_time": "2024-09-14T11:08:46.229Z"
   },
   {
    "duration": 27,
    "start_time": "2024-09-14T11:08:46.266Z"
   },
   {
    "duration": 143,
    "start_time": "2024-09-14T11:08:46.294Z"
   },
   {
    "duration": 71,
    "start_time": "2024-09-14T11:08:46.438Z"
   },
   {
    "duration": 979,
    "start_time": "2024-09-14T11:08:46.510Z"
   },
   {
    "duration": 4,
    "start_time": "2024-09-14T11:08:47.490Z"
   },
   {
    "duration": 12,
    "start_time": "2024-09-14T11:08:47.496Z"
   },
   {
    "duration": 2896,
    "start_time": "2024-09-14T11:08:47.509Z"
   },
   {
    "duration": 64,
    "start_time": "2024-09-14T11:08:50.407Z"
   },
   {
    "duration": 894,
    "start_time": "2024-09-14T11:08:50.472Z"
   },
   {
    "duration": 625,
    "start_time": "2024-09-14T11:08:51.367Z"
   },
   {
    "duration": 7,
    "start_time": "2024-09-14T11:08:51.993Z"
   },
   {
    "duration": 41,
    "start_time": "2024-09-14T11:15:27.311Z"
   },
   {
    "duration": 5652,
    "start_time": "2024-09-14T11:17:06.833Z"
   },
   {
    "duration": 1771,
    "start_time": "2024-09-14T11:17:12.487Z"
   },
   {
    "duration": 2840,
    "start_time": "2024-09-14T11:17:14.259Z"
   },
   {
    "duration": 10,
    "start_time": "2024-09-14T11:17:17.101Z"
   },
   {
    "duration": 120,
    "start_time": "2024-09-14T11:17:17.114Z"
   },
   {
    "duration": 28,
    "start_time": "2024-09-14T11:17:17.235Z"
   },
   {
    "duration": 43,
    "start_time": "2024-09-14T11:17:17.265Z"
   },
   {
    "duration": 34,
    "start_time": "2024-09-14T11:17:17.310Z"
   },
   {
    "duration": 47,
    "start_time": "2024-09-14T11:17:17.347Z"
   },
   {
    "duration": 33,
    "start_time": "2024-09-14T11:17:17.395Z"
   },
   {
    "duration": 48,
    "start_time": "2024-09-14T11:17:17.430Z"
   },
   {
    "duration": 143,
    "start_time": "2024-09-14T11:17:17.480Z"
   },
   {
    "duration": 66,
    "start_time": "2024-09-14T11:17:17.625Z"
   },
   {
    "duration": 999,
    "start_time": "2024-09-14T11:17:17.693Z"
   },
   {
    "duration": 11,
    "start_time": "2024-09-14T11:17:26.568Z"
   },
   {
    "duration": 130,
    "start_time": "2024-09-14T11:17:47.692Z"
   },
   {
    "duration": 17,
    "start_time": "2024-09-14T11:17:59.998Z"
   },
   {
    "duration": 9,
    "start_time": "2024-09-14T11:18:06.250Z"
   },
   {
    "duration": 5660,
    "start_time": "2024-09-14T11:19:59.891Z"
   },
   {
    "duration": 4,
    "start_time": "2024-09-14T11:20:05.553Z"
   },
   {
    "duration": 866,
    "start_time": "2024-09-14T11:20:05.559Z"
   },
   {
    "duration": 10,
    "start_time": "2024-09-14T11:20:06.427Z"
   },
   {
    "duration": 114,
    "start_time": "2024-09-14T11:20:06.439Z"
   },
   {
    "duration": 39,
    "start_time": "2024-09-14T11:20:06.555Z"
   },
   {
    "duration": 32,
    "start_time": "2024-09-14T11:20:06.596Z"
   },
   {
    "duration": 40,
    "start_time": "2024-09-14T11:20:06.630Z"
   },
   {
    "duration": 32,
    "start_time": "2024-09-14T11:20:06.672Z"
   },
   {
    "duration": 27,
    "start_time": "2024-09-14T11:20:06.705Z"
   },
   {
    "duration": 29,
    "start_time": "2024-09-14T11:20:06.734Z"
   },
   {
    "duration": 179,
    "start_time": "2024-09-14T11:20:06.765Z"
   },
   {
    "duration": 66,
    "start_time": "2024-09-14T11:20:06.945Z"
   },
   {
    "duration": 839,
    "start_time": "2024-09-14T11:20:07.013Z"
   },
   {
    "duration": 11,
    "start_time": "2024-09-14T11:20:07.853Z"
   },
   {
    "duration": 145,
    "start_time": "2024-09-14T11:20:07.867Z"
   },
   {
    "duration": 14,
    "start_time": "2024-09-14T11:20:08.013Z"
   },
   {
    "duration": 14,
    "start_time": "2024-09-14T11:20:08.028Z"
   },
   {
    "duration": 16,
    "start_time": "2024-09-14T11:20:08.043Z"
   },
   {
    "duration": 2673,
    "start_time": "2024-09-14T11:20:08.061Z"
   },
   {
    "duration": 59,
    "start_time": "2024-09-14T11:20:10.736Z"
   },
   {
    "duration": 92,
    "start_time": "2024-09-14T11:20:10.796Z"
   },
   {
    "duration": 894,
    "start_time": "2024-09-14T11:20:10.890Z"
   },
   {
    "duration": 549,
    "start_time": "2024-09-14T11:20:11.786Z"
   },
   {
    "duration": 4102,
    "start_time": "2024-09-14T11:20:12.336Z"
   },
   {
    "duration": 17,
    "start_time": "2024-09-14T11:22:38.459Z"
   },
   {
    "duration": 2493,
    "start_time": "2024-09-14T11:22:39.241Z"
   },
   {
    "duration": 18,
    "start_time": "2024-09-14T11:22:49.648Z"
   },
   {
    "duration": 2489,
    "start_time": "2024-09-14T11:22:49.965Z"
   },
   {
    "duration": 24,
    "start_time": "2024-09-14T11:22:58.093Z"
   },
   {
    "duration": 2508,
    "start_time": "2024-09-14T11:22:58.259Z"
   },
   {
    "duration": 16,
    "start_time": "2024-09-14T11:23:22.400Z"
   },
   {
    "duration": 2480,
    "start_time": "2024-09-14T11:23:28.069Z"
   },
   {
    "duration": 27,
    "start_time": "2024-09-14T11:24:37.753Z"
   },
   {
    "duration": 2518,
    "start_time": "2024-09-14T11:24:37.880Z"
   },
   {
    "duration": 31,
    "start_time": "2024-09-14T11:24:44.596Z"
   },
   {
    "duration": 2506,
    "start_time": "2024-09-14T11:24:44.776Z"
   },
   {
    "duration": 32,
    "start_time": "2024-09-14T11:24:51.681Z"
   },
   {
    "duration": 2459,
    "start_time": "2024-09-14T11:24:51.826Z"
   },
   {
    "duration": 26,
    "start_time": "2024-09-14T11:24:58.752Z"
   },
   {
    "duration": 2548,
    "start_time": "2024-09-14T11:24:59.291Z"
   },
   {
    "duration": 26,
    "start_time": "2024-09-14T11:25:08.056Z"
   },
   {
    "duration": 2448,
    "start_time": "2024-09-14T11:25:10.353Z"
   },
   {
    "duration": 43,
    "start_time": "2024-09-14T11:25:43.272Z"
   },
   {
    "duration": 2457,
    "start_time": "2024-09-14T11:25:44.771Z"
   },
   {
    "duration": 39,
    "start_time": "2024-09-14T11:25:52.974Z"
   },
   {
    "duration": 2378,
    "start_time": "2024-09-14T11:25:53.137Z"
   },
   {
    "duration": 36,
    "start_time": "2024-09-14T11:26:11.790Z"
   },
   {
    "duration": 2490,
    "start_time": "2024-09-14T11:26:12.052Z"
   },
   {
    "duration": 26,
    "start_time": "2024-09-14T11:26:46.609Z"
   },
   {
    "duration": 2457,
    "start_time": "2024-09-14T11:26:46.788Z"
   },
   {
    "duration": 61,
    "start_time": "2024-09-14T11:27:27.290Z"
   },
   {
    "duration": 2400,
    "start_time": "2024-09-14T11:27:28.023Z"
   },
   {
    "duration": 50,
    "start_time": "2024-09-14T11:27:43.134Z"
   },
   {
    "duration": 2308,
    "start_time": "2024-09-14T11:27:43.678Z"
   },
   {
    "duration": 55,
    "start_time": "2024-09-14T11:27:56.882Z"
   },
   {
    "duration": 2439,
    "start_time": "2024-09-14T11:27:58.001Z"
   },
   {
    "duration": 48,
    "start_time": "2024-09-14T11:28:08.981Z"
   },
   {
    "duration": 2442,
    "start_time": "2024-09-14T11:28:09.473Z"
   },
   {
    "duration": 53,
    "start_time": "2024-09-14T11:28:16.494Z"
   },
   {
    "duration": 2277,
    "start_time": "2024-09-14T11:28:17.067Z"
   },
   {
    "duration": 54,
    "start_time": "2024-09-14T11:28:27.002Z"
   },
   {
    "duration": 2490,
    "start_time": "2024-09-14T11:28:27.132Z"
   },
   {
    "duration": 59,
    "start_time": "2024-09-14T11:29:03.739Z"
   },
   {
    "duration": 2233,
    "start_time": "2024-09-14T11:29:03.880Z"
   },
   {
    "duration": 50,
    "start_time": "2024-09-14T11:29:20.636Z"
   },
   {
    "duration": 2343,
    "start_time": "2024-09-14T11:29:21.086Z"
   },
   {
    "duration": 5731,
    "start_time": "2024-09-14T11:29:34.539Z"
   },
   {
    "duration": 1241,
    "start_time": "2024-09-14T11:29:40.273Z"
   },
   {
    "duration": 814,
    "start_time": "2024-09-14T11:29:41.516Z"
   },
   {
    "duration": 11,
    "start_time": "2024-09-14T11:29:42.331Z"
   },
   {
    "duration": 108,
    "start_time": "2024-09-14T11:29:42.344Z"
   },
   {
    "duration": 26,
    "start_time": "2024-09-14T11:29:42.454Z"
   },
   {
    "duration": 75,
    "start_time": "2024-09-14T11:29:42.481Z"
   },
   {
    "duration": 39,
    "start_time": "2024-09-14T11:29:42.557Z"
   },
   {
    "duration": 40,
    "start_time": "2024-09-14T11:29:42.598Z"
   },
   {
    "duration": 63,
    "start_time": "2024-09-14T11:29:42.639Z"
   },
   {
    "duration": 36,
    "start_time": "2024-09-14T11:29:42.703Z"
   },
   {
    "duration": 189,
    "start_time": "2024-09-14T11:29:42.740Z"
   },
   {
    "duration": 65,
    "start_time": "2024-09-14T11:29:42.930Z"
   },
   {
    "duration": 973,
    "start_time": "2024-09-14T11:29:42.997Z"
   },
   {
    "duration": 10,
    "start_time": "2024-09-14T11:29:43.971Z"
   },
   {
    "duration": 65,
    "start_time": "2024-09-14T11:29:43.983Z"
   },
   {
    "duration": 14,
    "start_time": "2024-09-14T11:29:44.049Z"
   },
   {
    "duration": 5,
    "start_time": "2024-09-14T11:29:44.064Z"
   },
   {
    "duration": 9,
    "start_time": "2024-09-14T11:29:44.070Z"
   },
   {
    "duration": 2641,
    "start_time": "2024-09-14T11:29:44.080Z"
   },
   {
    "duration": 58,
    "start_time": "2024-09-14T11:29:46.723Z"
   },
   {
    "duration": 56,
    "start_time": "2024-09-14T11:29:46.782Z"
   },
   {
    "duration": 2325,
    "start_time": "2024-09-14T11:29:46.840Z"
   },
   {
    "duration": 872,
    "start_time": "2024-09-14T11:29:49.166Z"
   },
   {
    "duration": 557,
    "start_time": "2024-09-14T11:29:50.039Z"
   },
   {
    "duration": 3719,
    "start_time": "2024-09-14T11:29:50.597Z"
   },
   {
    "duration": 5568,
    "start_time": "2024-09-14T11:53:54.357Z"
   },
   {
    "duration": 1149,
    "start_time": "2024-09-14T11:53:59.927Z"
   },
   {
    "duration": 794,
    "start_time": "2024-09-14T11:54:01.077Z"
   },
   {
    "duration": 11,
    "start_time": "2024-09-14T11:54:01.873Z"
   },
   {
    "duration": 120,
    "start_time": "2024-09-14T11:54:01.886Z"
   },
   {
    "duration": 118,
    "start_time": "2024-09-14T11:54:02.007Z"
   },
   {
    "duration": 37,
    "start_time": "2024-09-14T11:54:02.127Z"
   },
   {
    "duration": 40,
    "start_time": "2024-09-14T11:54:02.166Z"
   },
   {
    "duration": 27,
    "start_time": "2024-09-14T11:54:02.207Z"
   },
   {
    "duration": 38,
    "start_time": "2024-09-14T11:54:02.235Z"
   },
   {
    "duration": 43,
    "start_time": "2024-09-14T11:54:02.275Z"
   },
   {
    "duration": 151,
    "start_time": "2024-09-14T11:54:02.319Z"
   },
   {
    "duration": 70,
    "start_time": "2024-09-14T11:54:02.472Z"
   },
   {
    "duration": 980,
    "start_time": "2024-09-14T11:54:02.545Z"
   },
   {
    "duration": 10,
    "start_time": "2024-09-14T11:54:03.527Z"
   },
   {
    "duration": 23,
    "start_time": "2024-09-14T11:54:03.539Z"
   },
   {
    "duration": 31,
    "start_time": "2024-09-14T11:54:03.564Z"
   },
   {
    "duration": 79,
    "start_time": "2024-09-14T11:54:03.597Z"
   },
   {
    "duration": 37,
    "start_time": "2024-09-14T11:54:03.677Z"
   },
   {
    "duration": 2602,
    "start_time": "2024-09-14T11:54:03.715Z"
   },
   {
    "duration": 58,
    "start_time": "2024-09-14T11:54:06.319Z"
   },
   {
    "duration": 65,
    "start_time": "2024-09-14T11:54:06.379Z"
   },
   {
    "duration": 2340,
    "start_time": "2024-09-14T11:54:06.445Z"
   },
   {
    "duration": 823,
    "start_time": "2024-09-14T11:54:08.787Z"
   },
   {
    "duration": 542,
    "start_time": "2024-09-14T11:54:09.611Z"
   },
   {
    "duration": 3848,
    "start_time": "2024-09-14T11:54:10.155Z"
   },
   {
    "duration": 51,
    "start_time": "2024-09-14T11:55:35.677Z"
   },
   {
    "duration": 2275,
    "start_time": "2024-09-14T11:55:35.864Z"
   },
   {
    "duration": 50,
    "start_time": "2024-09-14T11:55:52.190Z"
   },
   {
    "duration": 2412,
    "start_time": "2024-09-14T11:55:52.400Z"
   },
   {
    "duration": 51,
    "start_time": "2024-09-14T11:56:05.895Z"
   },
   {
    "duration": 2363,
    "start_time": "2024-09-14T11:56:06.188Z"
   },
   {
    "duration": 5617,
    "start_time": "2024-09-14T11:57:07.471Z"
   },
   {
    "duration": 1170,
    "start_time": "2024-09-14T11:57:13.090Z"
   },
   {
    "duration": 806,
    "start_time": "2024-09-14T11:57:14.261Z"
   },
   {
    "duration": 11,
    "start_time": "2024-09-14T11:57:15.068Z"
   },
   {
    "duration": 120,
    "start_time": "2024-09-14T11:57:15.081Z"
   },
   {
    "duration": 28,
    "start_time": "2024-09-14T11:57:15.202Z"
   },
   {
    "duration": 66,
    "start_time": "2024-09-14T11:57:15.231Z"
   },
   {
    "duration": 31,
    "start_time": "2024-09-14T11:57:15.298Z"
   },
   {
    "duration": 143,
    "start_time": "2024-09-14T11:57:15.330Z"
   },
   {
    "duration": 46,
    "start_time": "2024-09-14T11:57:15.474Z"
   },
   {
    "duration": 30,
    "start_time": "2024-09-14T11:57:15.521Z"
   },
   {
    "duration": 133,
    "start_time": "2024-09-14T11:57:15.552Z"
   },
   {
    "duration": 72,
    "start_time": "2024-09-14T11:57:15.686Z"
   },
   {
    "duration": 989,
    "start_time": "2024-09-14T11:57:15.760Z"
   },
   {
    "duration": 11,
    "start_time": "2024-09-14T11:57:16.750Z"
   },
   {
    "duration": 30,
    "start_time": "2024-09-14T11:57:16.762Z"
   },
   {
    "duration": 10,
    "start_time": "2024-09-14T11:57:16.793Z"
   },
   {
    "duration": 16,
    "start_time": "2024-09-14T11:57:16.804Z"
   },
   {
    "duration": 8,
    "start_time": "2024-09-14T11:57:16.822Z"
   },
   {
    "duration": 2162,
    "start_time": "2024-09-14T11:57:16.831Z"
   },
   {
    "duration": 50,
    "start_time": "2024-09-14T11:57:18.995Z"
   },
   {
    "duration": 60,
    "start_time": "2024-09-14T11:57:19.047Z"
   },
   {
    "duration": 2044,
    "start_time": "2024-09-14T11:57:19.108Z"
   },
   {
    "duration": 831,
    "start_time": "2024-09-14T11:57:21.153Z"
   },
   {
    "duration": 3343,
    "start_time": "2024-09-14T11:57:21.986Z"
   },
   {
    "duration": 53,
    "start_time": "2024-09-14T11:57:47.216Z"
   },
   {
    "duration": 2079,
    "start_time": "2024-09-14T11:57:47.400Z"
   },
   {
    "duration": 50,
    "start_time": "2024-09-14T11:58:17.143Z"
   },
   {
    "duration": 1906,
    "start_time": "2024-09-14T11:58:17.287Z"
   },
   {
    "duration": 48,
    "start_time": "2024-09-14T11:58:25.796Z"
   },
   {
    "duration": 2029,
    "start_time": "2024-09-14T11:58:26.066Z"
   },
   {
    "duration": 49,
    "start_time": "2024-09-14T11:58:36.463Z"
   },
   {
    "duration": 1951,
    "start_time": "2024-09-14T11:58:36.768Z"
   },
   {
    "duration": 46,
    "start_time": "2024-09-14T11:58:54.225Z"
   },
   {
    "duration": 1995,
    "start_time": "2024-09-14T11:58:54.395Z"
   },
   {
    "duration": 46,
    "start_time": "2024-09-14T11:59:02.110Z"
   },
   {
    "duration": 1915,
    "start_time": "2024-09-14T11:59:02.367Z"
   },
   {
    "duration": 5545,
    "start_time": "2024-09-14T11:59:49.686Z"
   },
   {
    "duration": 1093,
    "start_time": "2024-09-14T11:59:55.233Z"
   },
   {
    "duration": 817,
    "start_time": "2024-09-14T11:59:56.327Z"
   },
   {
    "duration": 11,
    "start_time": "2024-09-14T11:59:57.145Z"
   },
   {
    "duration": 116,
    "start_time": "2024-09-14T11:59:57.158Z"
   },
   {
    "duration": 33,
    "start_time": "2024-09-14T11:59:57.275Z"
   },
   {
    "duration": 27,
    "start_time": "2024-09-14T11:59:57.310Z"
   },
   {
    "duration": 30,
    "start_time": "2024-09-14T11:59:57.338Z"
   },
   {
    "duration": 42,
    "start_time": "2024-09-14T11:59:57.369Z"
   },
   {
    "duration": 32,
    "start_time": "2024-09-14T11:59:57.412Z"
   },
   {
    "duration": 25,
    "start_time": "2024-09-14T11:59:57.445Z"
   },
   {
    "duration": 144,
    "start_time": "2024-09-14T11:59:57.471Z"
   },
   {
    "duration": 75,
    "start_time": "2024-09-14T11:59:57.617Z"
   },
   {
    "duration": 928,
    "start_time": "2024-09-14T11:59:57.694Z"
   },
   {
    "duration": 11,
    "start_time": "2024-09-14T11:59:58.623Z"
   },
   {
    "duration": 13,
    "start_time": "2024-09-14T11:59:58.636Z"
   },
   {
    "duration": 8,
    "start_time": "2024-09-14T11:59:58.651Z"
   },
   {
    "duration": 14,
    "start_time": "2024-09-14T11:59:58.660Z"
   },
   {
    "duration": 15,
    "start_time": "2024-09-14T11:59:58.675Z"
   },
   {
    "duration": 2186,
    "start_time": "2024-09-14T11:59:58.691Z"
   },
   {
    "duration": 48,
    "start_time": "2024-09-14T12:00:00.879Z"
   },
   {
    "duration": 93,
    "start_time": "2024-09-14T12:00:00.929Z"
   },
   {
    "duration": 2004,
    "start_time": "2024-09-14T12:00:01.024Z"
   },
   {
    "duration": 885,
    "start_time": "2024-09-14T12:00:03.030Z"
   },
   {
    "duration": 3239,
    "start_time": "2024-09-14T12:00:03.917Z"
   },
   {
    "duration": 5563,
    "start_time": "2024-09-14T12:00:37.248Z"
   },
   {
    "duration": 1154,
    "start_time": "2024-09-14T12:00:42.814Z"
   },
   {
    "duration": 805,
    "start_time": "2024-09-14T12:00:43.969Z"
   },
   {
    "duration": 15,
    "start_time": "2024-09-14T12:00:44.776Z"
   },
   {
    "duration": 101,
    "start_time": "2024-09-14T12:00:44.793Z"
   },
   {
    "duration": 28,
    "start_time": "2024-09-14T12:00:44.896Z"
   },
   {
    "duration": 76,
    "start_time": "2024-09-14T12:00:44.925Z"
   },
   {
    "duration": 39,
    "start_time": "2024-09-14T12:00:45.003Z"
   },
   {
    "duration": 62,
    "start_time": "2024-09-14T12:00:45.043Z"
   },
   {
    "duration": 77,
    "start_time": "2024-09-14T12:00:45.106Z"
   },
   {
    "duration": 76,
    "start_time": "2024-09-14T12:00:45.185Z"
   },
   {
    "duration": 186,
    "start_time": "2024-09-14T12:00:45.263Z"
   },
   {
    "duration": 82,
    "start_time": "2024-09-14T12:00:45.451Z"
   },
   {
    "duration": 972,
    "start_time": "2024-09-14T12:00:45.535Z"
   },
   {
    "duration": 11,
    "start_time": "2024-09-14T12:00:46.508Z"
   },
   {
    "duration": 44,
    "start_time": "2024-09-14T12:00:46.521Z"
   },
   {
    "duration": 23,
    "start_time": "2024-09-14T12:00:46.567Z"
   },
   {
    "duration": 13,
    "start_time": "2024-09-14T12:00:46.591Z"
   },
   {
    "duration": 8,
    "start_time": "2024-09-14T12:00:46.606Z"
   },
   {
    "duration": 1718,
    "start_time": "2024-09-14T12:00:46.615Z"
   },
   {
    "duration": 47,
    "start_time": "2024-09-14T12:00:48.335Z"
   },
   {
    "duration": 58,
    "start_time": "2024-09-14T12:00:48.384Z"
   },
   {
    "duration": 1681,
    "start_time": "2024-09-14T12:00:48.444Z"
   },
   {
    "duration": 828,
    "start_time": "2024-09-14T12:00:50.126Z"
   },
   {
    "duration": 2889,
    "start_time": "2024-09-14T12:00:50.956Z"
   },
   {
    "duration": 4,
    "start_time": "2024-09-14T12:03:15.296Z"
   },
   {
    "duration": 12,
    "start_time": "2024-09-14T12:05:00.185Z"
   },
   {
    "duration": 126,
    "start_time": "2024-09-14T12:06:05.147Z"
   },
   {
    "duration": 9,
    "start_time": "2024-09-14T12:06:26.596Z"
   },
   {
    "duration": 3,
    "start_time": "2024-09-14T12:06:33.943Z"
   },
   {
    "duration": 42,
    "start_time": "2024-09-14T12:06:37.622Z"
   },
   {
    "duration": 4,
    "start_time": "2024-09-14T12:09:30.949Z"
   },
   {
    "duration": 5650,
    "start_time": "2024-09-14T12:39:23.759Z"
   },
   {
    "duration": 1171,
    "start_time": "2024-09-14T12:39:29.411Z"
   },
   {
    "duration": 827,
    "start_time": "2024-09-14T12:39:30.583Z"
   },
   {
    "duration": 11,
    "start_time": "2024-09-14T12:39:31.411Z"
   },
   {
    "duration": 122,
    "start_time": "2024-09-14T12:39:31.423Z"
   },
   {
    "duration": 28,
    "start_time": "2024-09-14T12:39:31.547Z"
   },
   {
    "duration": 31,
    "start_time": "2024-09-14T12:39:31.576Z"
   },
   {
    "duration": 27,
    "start_time": "2024-09-14T12:39:31.609Z"
   },
   {
    "duration": 37,
    "start_time": "2024-09-14T12:39:31.637Z"
   },
   {
    "duration": 42,
    "start_time": "2024-09-14T12:39:31.676Z"
   },
   {
    "duration": 25,
    "start_time": "2024-09-14T12:39:31.719Z"
   },
   {
    "duration": 141,
    "start_time": "2024-09-14T12:39:31.745Z"
   },
   {
    "duration": 68,
    "start_time": "2024-09-14T12:39:31.887Z"
   },
   {
    "duration": 942,
    "start_time": "2024-09-14T12:39:31.956Z"
   },
   {
    "duration": 13,
    "start_time": "2024-09-14T12:39:32.899Z"
   },
   {
    "duration": 31,
    "start_time": "2024-09-14T12:39:32.913Z"
   },
   {
    "duration": 8,
    "start_time": "2024-09-14T12:39:32.946Z"
   },
   {
    "duration": 18,
    "start_time": "2024-09-14T12:39:32.956Z"
   },
   {
    "duration": 15,
    "start_time": "2024-09-14T12:39:32.975Z"
   },
   {
    "duration": 1738,
    "start_time": "2024-09-14T12:39:32.991Z"
   },
   {
    "duration": 44,
    "start_time": "2024-09-14T12:39:34.731Z"
   },
   {
    "duration": 54,
    "start_time": "2024-09-14T12:39:34.776Z"
   },
   {
    "duration": 1662,
    "start_time": "2024-09-14T12:39:34.831Z"
   },
   {
    "duration": 856,
    "start_time": "2024-09-14T12:39:36.495Z"
   },
   {
    "duration": 2723,
    "start_time": "2024-09-14T12:39:37.353Z"
   },
   {
    "duration": 8,
    "start_time": "2024-09-14T12:39:40.078Z"
   },
   {
    "duration": 183,
    "start_time": "2024-09-14T12:39:40.087Z"
   },
   {
    "duration": 4,
    "start_time": "2024-09-14T12:39:40.273Z"
   },
   {
    "duration": 10220,
    "start_time": "2024-09-18T17:53:33.877Z"
   },
   {
    "duration": 1446,
    "start_time": "2024-09-18T17:53:44.100Z"
   },
   {
    "duration": 3217,
    "start_time": "2024-09-18T17:53:45.548Z"
   },
   {
    "duration": 13,
    "start_time": "2024-09-18T17:53:48.767Z"
   },
   {
    "duration": 154,
    "start_time": "2024-09-18T17:53:48.782Z"
   },
   {
    "duration": 42,
    "start_time": "2024-09-18T17:53:48.937Z"
   },
   {
    "duration": 36,
    "start_time": "2024-09-18T17:53:48.980Z"
   },
   {
    "duration": 45,
    "start_time": "2024-09-18T17:53:49.018Z"
   },
   {
    "duration": 46,
    "start_time": "2024-09-18T17:53:49.065Z"
   },
   {
    "duration": 45,
    "start_time": "2024-09-18T17:53:49.112Z"
   },
   {
    "duration": 36,
    "start_time": "2024-09-18T17:53:49.159Z"
   },
   {
    "duration": 195,
    "start_time": "2024-09-18T17:53:49.197Z"
   },
   {
    "duration": 102,
    "start_time": "2024-09-18T17:53:49.393Z"
   },
   {
    "duration": 1130,
    "start_time": "2024-09-18T17:53:49.497Z"
   },
   {
    "duration": 12,
    "start_time": "2024-09-18T17:53:50.628Z"
   },
   {
    "duration": 21,
    "start_time": "2024-09-18T17:53:50.642Z"
   },
   {
    "duration": 10,
    "start_time": "2024-09-18T17:53:50.664Z"
   },
   {
    "duration": 15,
    "start_time": "2024-09-18T17:53:50.675Z"
   },
   {
    "duration": 13,
    "start_time": "2024-09-18T17:53:50.692Z"
   },
   {
    "duration": 2180,
    "start_time": "2024-09-18T17:53:50.707Z"
   },
   {
    "duration": 48,
    "start_time": "2024-09-18T17:53:52.889Z"
   },
   {
    "duration": 59,
    "start_time": "2024-09-18T17:53:52.939Z"
   },
   {
    "duration": 2071,
    "start_time": "2024-09-18T17:53:52.999Z"
   },
   {
    "duration": 1007,
    "start_time": "2024-09-18T17:53:55.071Z"
   },
   {
    "duration": 3400,
    "start_time": "2024-09-18T17:53:56.080Z"
   },
   {
    "duration": 10,
    "start_time": "2024-09-18T17:53:59.481Z"
   },
   {
    "duration": 69,
    "start_time": "2024-09-18T17:53:59.492Z"
   },
   {
    "duration": 5,
    "start_time": "2024-09-18T17:53:59.562Z"
   },
   {
    "duration": 447,
    "start_time": "2024-09-18T17:55:57.797Z"
   },
   {
    "duration": 5724,
    "start_time": "2024-09-18T17:57:23.630Z"
   },
   {
    "duration": 1297,
    "start_time": "2024-09-18T17:57:29.356Z"
   },
   {
    "duration": 1047,
    "start_time": "2024-09-18T17:57:30.655Z"
   },
   {
    "duration": 13,
    "start_time": "2024-09-18T17:57:31.703Z"
   },
   {
    "duration": 170,
    "start_time": "2024-09-18T17:57:31.718Z"
   },
   {
    "duration": 38,
    "start_time": "2024-09-18T17:57:31.890Z"
   },
   {
    "duration": 107,
    "start_time": "2024-09-18T17:57:31.929Z"
   },
   {
    "duration": 39,
    "start_time": "2024-09-18T17:57:32.038Z"
   },
   {
    "duration": 63,
    "start_time": "2024-09-18T17:57:32.079Z"
   },
   {
    "duration": 50,
    "start_time": "2024-09-18T17:57:32.144Z"
   },
   {
    "duration": 55,
    "start_time": "2024-09-18T17:57:32.196Z"
   },
   {
    "duration": 187,
    "start_time": "2024-09-18T17:57:32.253Z"
   },
   {
    "duration": 109,
    "start_time": "2024-09-18T17:57:32.442Z"
   },
   {
    "duration": 1180,
    "start_time": "2024-09-18T17:57:32.552Z"
   },
   {
    "duration": 20,
    "start_time": "2024-09-18T17:57:33.733Z"
   },
   {
    "duration": 12,
    "start_time": "2024-09-18T17:57:33.754Z"
   },
   {
    "duration": 26,
    "start_time": "2024-09-18T17:57:33.767Z"
   },
   {
    "duration": 11,
    "start_time": "2024-09-18T17:57:33.794Z"
   },
   {
    "duration": 25,
    "start_time": "2024-09-18T17:57:33.806Z"
   },
   {
    "duration": 2194,
    "start_time": "2024-09-18T17:57:33.833Z"
   },
   {
    "duration": 47,
    "start_time": "2024-09-18T17:57:36.029Z"
   },
   {
    "duration": 57,
    "start_time": "2024-09-18T17:57:36.077Z"
   },
   {
    "duration": 2093,
    "start_time": "2024-09-18T17:57:36.135Z"
   },
   {
    "duration": 997,
    "start_time": "2024-09-18T17:57:38.230Z"
   },
   {
    "duration": 3355,
    "start_time": "2024-09-18T17:57:39.229Z"
   },
   {
    "duration": 11,
    "start_time": "2024-09-18T17:57:42.586Z"
   },
   {
    "duration": 72,
    "start_time": "2024-09-18T17:57:42.599Z"
   },
   {
    "duration": 5,
    "start_time": "2024-09-18T17:57:42.674Z"
   },
   {
    "duration": 533,
    "start_time": "2024-09-18T17:57:42.681Z"
   },
   {
    "duration": 4,
    "start_time": "2024-09-18T17:57:43.215Z"
   },
   {
    "duration": 5,
    "start_time": "2024-09-18T18:08:11.409Z"
   },
   {
    "duration": 4490,
    "start_time": "2024-09-18T18:24:02.774Z"
   },
   {
    "duration": 79,
    "start_time": "2024-09-18T18:24:37.669Z"
   },
   {
    "duration": 4570,
    "start_time": "2024-09-18T18:24:40.284Z"
   },
   {
    "duration": 4563,
    "start_time": "2024-09-18T18:25:01.691Z"
   },
   {
    "duration": 17795,
    "start_time": "2024-09-18T19:02:11.746Z"
   },
   {
    "duration": 125,
    "start_time": "2024-09-18T19:02:52.275Z"
   },
   {
    "duration": 164022,
    "start_time": "2024-09-18T19:02:57.756Z"
   },
   {
    "duration": 103397,
    "start_time": "2024-09-18T19:06:15.267Z"
   },
   {
    "duration": 9,
    "start_time": "2024-09-18T19:10:12.783Z"
   },
   {
    "duration": 9,
    "start_time": "2024-09-18T19:10:16.818Z"
   },
   {
    "duration": 3,
    "start_time": "2024-09-18T19:10:36.979Z"
   },
   {
    "duration": 0,
    "start_time": "2024-09-18T19:11:17.067Z"
   },
   {
    "duration": 92262,
    "start_time": "2024-09-18T19:11:20.456Z"
   },
   {
    "duration": 0,
    "start_time": "2024-09-18T19:12:52.720Z"
   },
   {
    "duration": 9,
    "start_time": "2024-09-18T19:13:07.509Z"
   },
   {
    "duration": 3,
    "start_time": "2024-09-18T19:13:20.948Z"
   },
   {
    "duration": 3,
    "start_time": "2024-09-18T19:14:09.500Z"
   },
   {
    "duration": 5,
    "start_time": "2024-09-18T19:15:08.542Z"
   },
   {
    "duration": 4,
    "start_time": "2024-09-18T19:15:17.404Z"
   },
   {
    "duration": 4929,
    "start_time": "2024-09-18T19:43:58.429Z"
   },
   {
    "duration": 6,
    "start_time": "2024-09-18T19:44:03.452Z"
   },
   {
    "duration": 6150,
    "start_time": "2024-09-18T19:45:12.579Z"
   },
   {
    "duration": 23,
    "start_time": "2024-09-18T19:45:18.731Z"
   },
   {
    "duration": 6,
    "start_time": "2024-09-18T19:45:33.501Z"
   },
   {
    "duration": 14609,
    "start_time": "2024-09-19T10:11:47.331Z"
   },
   {
    "duration": 1570,
    "start_time": "2024-09-19T10:12:01.943Z"
   },
   {
    "duration": 3222,
    "start_time": "2024-09-19T10:12:03.515Z"
   },
   {
    "duration": 14,
    "start_time": "2024-09-19T10:12:06.739Z"
   },
   {
    "duration": 198,
    "start_time": "2024-09-19T10:12:06.755Z"
   },
   {
    "duration": 39,
    "start_time": "2024-09-19T10:12:06.955Z"
   },
   {
    "duration": 39,
    "start_time": "2024-09-19T10:12:06.996Z"
   },
   {
    "duration": 56,
    "start_time": "2024-09-19T10:12:07.036Z"
   },
   {
    "duration": 45,
    "start_time": "2024-09-19T10:12:07.094Z"
   },
   {
    "duration": 51,
    "start_time": "2024-09-19T10:12:07.142Z"
   },
   {
    "duration": 37,
    "start_time": "2024-09-19T10:12:07.195Z"
   },
   {
    "duration": 188,
    "start_time": "2024-09-19T10:12:07.234Z"
   },
   {
    "duration": 109,
    "start_time": "2024-09-19T10:12:07.424Z"
   },
   {
    "duration": 1145,
    "start_time": "2024-09-19T10:12:07.534Z"
   },
   {
    "duration": 14,
    "start_time": "2024-09-19T10:12:08.681Z"
   },
   {
    "duration": 25,
    "start_time": "2024-09-19T10:12:08.697Z"
   },
   {
    "duration": 14,
    "start_time": "2024-09-19T10:12:08.724Z"
   },
   {
    "duration": 38,
    "start_time": "2024-09-19T10:12:08.739Z"
   },
   {
    "duration": 41,
    "start_time": "2024-09-19T10:12:08.779Z"
   },
   {
    "duration": 2310,
    "start_time": "2024-09-19T10:12:08.822Z"
   },
   {
    "duration": 44,
    "start_time": "2024-09-19T10:12:11.134Z"
   },
   {
    "duration": 56,
    "start_time": "2024-09-19T10:12:11.180Z"
   },
   {
    "duration": 2149,
    "start_time": "2024-09-19T10:12:11.237Z"
   },
   {
    "duration": 1069,
    "start_time": "2024-09-19T10:12:13.388Z"
   },
   {
    "duration": 3427,
    "start_time": "2024-09-19T10:12:14.464Z"
   },
   {
    "duration": 12,
    "start_time": "2024-09-19T10:12:17.893Z"
   },
   {
    "duration": 73,
    "start_time": "2024-09-19T10:12:17.907Z"
   },
   {
    "duration": 5,
    "start_time": "2024-09-19T10:12:17.984Z"
   },
   {
    "duration": 532,
    "start_time": "2024-09-19T10:12:17.991Z"
   },
   {
    "duration": 4,
    "start_time": "2024-09-19T10:12:18.525Z"
   },
   {
    "duration": 5337,
    "start_time": "2024-09-19T10:12:18.531Z"
   },
   {
    "duration": 108042,
    "start_time": "2024-09-19T10:12:23.870Z"
   },
   {
    "duration": 5,
    "start_time": "2024-09-19T10:14:11.913Z"
   },
   {
    "duration": 5752,
    "start_time": "2024-09-19T10:14:11.920Z"
   },
   {
    "duration": 94,
    "start_time": "2024-09-19T10:14:17.674Z"
   },
   {
    "duration": 6073,
    "start_time": "2024-09-19T10:14:17.771Z"
   },
   {
    "duration": 22,
    "start_time": "2024-09-19T10:14:23.846Z"
   },
   {
    "duration": 136,
    "start_time": "2024-09-19T10:19:55.049Z"
   },
   {
    "duration": 6,
    "start_time": "2024-09-19T10:20:16.032Z"
   },
   {
    "duration": 20,
    "start_time": "2024-09-19T10:20:24.615Z"
   },
   {
    "duration": 9,
    "start_time": "2024-09-19T10:21:35.253Z"
   },
   {
    "duration": 4,
    "start_time": "2024-09-19T10:22:12.016Z"
   },
   {
    "duration": 10721,
    "start_time": "2024-09-19T10:22:19.556Z"
   },
   {
    "duration": 12820,
    "start_time": "2024-09-19T10:22:53.149Z"
   },
   {
    "duration": 4,
    "start_time": "2024-09-19T10:23:31.209Z"
   },
   {
    "duration": 4874,
    "start_time": "2024-09-19T10:24:25.001Z"
   },
   {
    "duration": 106558,
    "start_time": "2024-09-19T10:24:29.967Z"
   },
   {
    "duration": 4,
    "start_time": "2024-09-19T10:26:16.527Z"
   },
   {
    "duration": 7340,
    "start_time": "2024-09-19T10:26:16.532Z"
   },
   {
    "duration": 6706,
    "start_time": "2024-09-19T10:27:36.767Z"
   },
   {
    "duration": 495,
    "start_time": "2024-09-19T10:27:43.475Z"
   },
   {
    "duration": 9548,
    "start_time": "2024-09-19T10:32:06.827Z"
   },
   {
    "duration": 8495,
    "start_time": "2024-09-19T10:32:51.156Z"
   },
   {
    "duration": 1369,
    "start_time": "2024-09-19T10:32:59.653Z"
   },
   {
    "duration": 1107,
    "start_time": "2024-09-19T10:33:01.024Z"
   },
   {
    "duration": 13,
    "start_time": "2024-09-19T10:33:02.133Z"
   },
   {
    "duration": 202,
    "start_time": "2024-09-19T10:33:02.148Z"
   },
   {
    "duration": 49,
    "start_time": "2024-09-19T10:33:02.352Z"
   },
   {
    "duration": 70,
    "start_time": "2024-09-19T10:33:02.403Z"
   },
   {
    "duration": 96,
    "start_time": "2024-09-19T10:33:02.476Z"
   },
   {
    "duration": 54,
    "start_time": "2024-09-19T10:33:02.574Z"
   },
   {
    "duration": 50,
    "start_time": "2024-09-19T10:33:02.630Z"
   },
   {
    "duration": 43,
    "start_time": "2024-09-19T10:33:02.682Z"
   },
   {
    "duration": 199,
    "start_time": "2024-09-19T10:33:02.727Z"
   },
   {
    "duration": 109,
    "start_time": "2024-09-19T10:33:02.928Z"
   },
   {
    "duration": 1115,
    "start_time": "2024-09-19T10:33:03.040Z"
   },
   {
    "duration": 15,
    "start_time": "2024-09-19T10:33:04.156Z"
   },
   {
    "duration": 19,
    "start_time": "2024-09-19T10:33:04.173Z"
   },
   {
    "duration": 26,
    "start_time": "2024-09-19T10:33:04.194Z"
   },
   {
    "duration": 4,
    "start_time": "2024-09-19T10:33:04.222Z"
   },
   {
    "duration": 16,
    "start_time": "2024-09-19T10:33:04.227Z"
   },
   {
    "duration": 2300,
    "start_time": "2024-09-19T10:33:04.244Z"
   },
   {
    "duration": 46,
    "start_time": "2024-09-19T10:33:06.545Z"
   },
   {
    "duration": 88,
    "start_time": "2024-09-19T10:33:06.592Z"
   },
   {
    "duration": 2130,
    "start_time": "2024-09-19T10:33:06.682Z"
   },
   {
    "duration": 1107,
    "start_time": "2024-09-19T10:33:08.814Z"
   },
   {
    "duration": 3549,
    "start_time": "2024-09-19T10:33:09.923Z"
   },
   {
    "duration": 12,
    "start_time": "2024-09-19T10:33:13.474Z"
   },
   {
    "duration": 57,
    "start_time": "2024-09-19T10:33:13.488Z"
   },
   {
    "duration": 9,
    "start_time": "2024-09-19T10:33:13.565Z"
   },
   {
    "duration": 562,
    "start_time": "2024-09-19T10:33:13.576Z"
   },
   {
    "duration": 4,
    "start_time": "2024-09-19T10:33:14.140Z"
   },
   {
    "duration": 5427,
    "start_time": "2024-09-19T10:33:14.145Z"
   },
   {
    "duration": 108392,
    "start_time": "2024-09-19T10:33:19.578Z"
   },
   {
    "duration": 4,
    "start_time": "2024-09-19T10:35:07.972Z"
   },
   {
    "duration": 7813,
    "start_time": "2024-09-19T10:35:07.978Z"
   },
   {
    "duration": 4709,
    "start_time": "2024-09-19T10:35:15.864Z"
   },
   {
    "duration": 92,
    "start_time": "2024-09-19T10:35:20.575Z"
   },
   {
    "duration": 6161,
    "start_time": "2024-09-19T10:35:20.668Z"
   },
   {
    "duration": 17,
    "start_time": "2024-09-19T10:35:26.831Z"
   },
   {
    "duration": 7505,
    "start_time": "2024-09-19T10:35:26.865Z"
   },
   {
    "duration": 503,
    "start_time": "2024-09-19T10:35:34.372Z"
   },
   {
    "duration": 8472,
    "start_time": "2024-09-19T11:00:25.882Z"
   },
   {
    "duration": 1374,
    "start_time": "2024-09-19T11:00:34.357Z"
   },
   {
    "duration": 1082,
    "start_time": "2024-09-19T11:00:35.732Z"
   },
   {
    "duration": 15,
    "start_time": "2024-09-19T11:00:36.816Z"
   },
   {
    "duration": 201,
    "start_time": "2024-09-19T11:00:36.834Z"
   },
   {
    "duration": 45,
    "start_time": "2024-09-19T11:00:37.037Z"
   },
   {
    "duration": 82,
    "start_time": "2024-09-19T11:00:37.084Z"
   },
   {
    "duration": 40,
    "start_time": "2024-09-19T11:00:37.168Z"
   },
   {
    "duration": 42,
    "start_time": "2024-09-19T11:00:37.210Z"
   },
   {
    "duration": 40,
    "start_time": "2024-09-19T11:00:37.265Z"
   },
   {
    "duration": 38,
    "start_time": "2024-09-19T11:00:37.306Z"
   },
   {
    "duration": 207,
    "start_time": "2024-09-19T11:00:37.345Z"
   },
   {
    "duration": 112,
    "start_time": "2024-09-19T11:00:37.554Z"
   },
   {
    "duration": 1240,
    "start_time": "2024-09-19T11:00:37.669Z"
   },
   {
    "duration": 13,
    "start_time": "2024-09-19T11:00:38.911Z"
   },
   {
    "duration": 32,
    "start_time": "2024-09-19T11:00:38.925Z"
   },
   {
    "duration": 56,
    "start_time": "2024-09-19T11:00:38.958Z"
   },
   {
    "duration": 10,
    "start_time": "2024-09-19T11:00:39.016Z"
   },
   {
    "duration": 6,
    "start_time": "2024-09-19T11:00:39.027Z"
   },
   {
    "duration": 2326,
    "start_time": "2024-09-19T11:00:39.034Z"
   },
   {
    "duration": 45,
    "start_time": "2024-09-19T11:00:41.361Z"
   },
   {
    "duration": 66,
    "start_time": "2024-09-19T11:00:41.408Z"
   },
   {
    "duration": 2149,
    "start_time": "2024-09-19T11:00:41.476Z"
   },
   {
    "duration": 1057,
    "start_time": "2024-09-19T11:00:43.627Z"
   },
   {
    "duration": 3624,
    "start_time": "2024-09-19T11:00:44.686Z"
   },
   {
    "duration": 11,
    "start_time": "2024-09-19T11:00:48.311Z"
   },
   {
    "duration": 71,
    "start_time": "2024-09-19T11:00:48.324Z"
   },
   {
    "duration": 6,
    "start_time": "2024-09-19T11:00:48.396Z"
   },
   {
    "duration": 500,
    "start_time": "2024-09-19T11:00:48.403Z"
   },
   {
    "duration": 5,
    "start_time": "2024-09-19T11:00:48.904Z"
   },
   {
    "duration": 6457,
    "start_time": "2024-09-19T11:00:48.910Z"
   },
   {
    "duration": 109229,
    "start_time": "2024-09-19T11:00:55.369Z"
   },
   {
    "duration": 5,
    "start_time": "2024-09-19T11:02:44.600Z"
   },
   {
    "duration": 6466,
    "start_time": "2024-09-19T11:02:44.606Z"
   },
   {
    "duration": 6594,
    "start_time": "2024-09-19T11:02:51.075Z"
   },
   {
    "duration": 6,
    "start_time": "2024-09-19T11:02:57.671Z"
   },
   {
    "duration": 6241,
    "start_time": "2024-09-19T11:02:57.679Z"
   },
   {
    "duration": 15,
    "start_time": "2024-09-19T11:03:03.922Z"
   },
   {
    "duration": 7432,
    "start_time": "2024-09-19T11:03:03.938Z"
   },
   {
    "duration": 498,
    "start_time": "2024-09-19T11:03:11.371Z"
   },
   {
    "duration": 8639,
    "start_time": "2024-09-19T14:33:01.924Z"
   },
   {
    "duration": 1362,
    "start_time": "2024-09-19T14:33:10.565Z"
   },
   {
    "duration": 1149,
    "start_time": "2024-09-19T14:33:11.930Z"
   },
   {
    "duration": 14,
    "start_time": "2024-09-19T14:33:13.081Z"
   },
   {
    "duration": 163,
    "start_time": "2024-09-19T14:33:13.098Z"
   },
   {
    "duration": 41,
    "start_time": "2024-09-19T14:33:13.265Z"
   },
   {
    "duration": 58,
    "start_time": "2024-09-19T14:33:13.308Z"
   },
   {
    "duration": 44,
    "start_time": "2024-09-19T14:33:13.368Z"
   },
   {
    "duration": 55,
    "start_time": "2024-09-19T14:33:13.413Z"
   },
   {
    "duration": 41,
    "start_time": "2024-09-19T14:33:13.470Z"
   },
   {
    "duration": 52,
    "start_time": "2024-09-19T14:33:13.513Z"
   },
   {
    "duration": 39,
    "start_time": "2024-09-19T14:34:07.727Z"
   },
   {
    "duration": 34,
    "start_time": "2024-09-19T14:34:10.265Z"
   },
   {
    "duration": 8506,
    "start_time": "2024-09-19T17:06:20.998Z"
   },
   {
    "duration": 1422,
    "start_time": "2024-09-19T17:06:29.507Z"
   },
   {
    "duration": 1059,
    "start_time": "2024-09-19T17:06:30.931Z"
   },
   {
    "duration": 13,
    "start_time": "2024-09-19T17:06:31.991Z"
   },
   {
    "duration": 154,
    "start_time": "2024-09-19T17:06:32.007Z"
   },
   {
    "duration": 40,
    "start_time": "2024-09-19T17:06:32.163Z"
   },
   {
    "duration": 23,
    "start_time": "2024-09-19T17:06:32.205Z"
   },
   {
    "duration": 56,
    "start_time": "2024-09-19T17:06:32.230Z"
   },
   {
    "duration": 74,
    "start_time": "2024-09-19T17:06:32.287Z"
   },
   {
    "duration": 47,
    "start_time": "2024-09-19T17:06:32.363Z"
   },
   {
    "duration": 29,
    "start_time": "2024-09-19T17:06:32.412Z"
   },
   {
    "duration": 44,
    "start_time": "2024-09-19T17:06:32.443Z"
   },
   {
    "duration": 22,
    "start_time": "2024-09-19T17:06:32.489Z"
   },
   {
    "duration": 51,
    "start_time": "2024-09-19T17:06:32.514Z"
   },
   {
    "duration": 35,
    "start_time": "2024-09-19T17:06:32.567Z"
   },
   {
    "duration": 141,
    "start_time": "2024-09-19T17:06:32.603Z"
   },
   {
    "duration": 1472,
    "start_time": "2024-09-19T17:06:32.746Z"
   },
   {
    "duration": 34,
    "start_time": "2024-09-19T17:06:34.220Z"
   },
   {
    "duration": 36,
    "start_time": "2024-09-19T17:06:34.255Z"
   },
   {
    "duration": 8410,
    "start_time": "2024-09-19T17:30:19.800Z"
   },
   {
    "duration": 1297,
    "start_time": "2024-09-19T17:30:28.213Z"
   },
   {
    "duration": 1077,
    "start_time": "2024-09-19T17:30:29.511Z"
   },
   {
    "duration": 14,
    "start_time": "2024-09-19T17:30:30.590Z"
   },
   {
    "duration": 181,
    "start_time": "2024-09-19T17:30:30.605Z"
   },
   {
    "duration": 38,
    "start_time": "2024-09-19T17:30:30.788Z"
   },
   {
    "duration": 48,
    "start_time": "2024-09-19T17:30:30.828Z"
   },
   {
    "duration": 65,
    "start_time": "2024-09-19T17:30:30.877Z"
   },
   {
    "duration": 57,
    "start_time": "2024-09-19T17:30:30.944Z"
   },
   {
    "duration": 52,
    "start_time": "2024-09-19T17:30:31.003Z"
   },
   {
    "duration": 39,
    "start_time": "2024-09-19T17:30:31.057Z"
   },
   {
    "duration": 57,
    "start_time": "2024-09-19T17:30:31.098Z"
   },
   {
    "duration": 40,
    "start_time": "2024-09-19T17:30:31.157Z"
   },
   {
    "duration": 40,
    "start_time": "2024-09-19T17:30:31.199Z"
   },
   {
    "duration": 61,
    "start_time": "2024-09-19T17:30:31.241Z"
   },
   {
    "duration": 134,
    "start_time": "2024-09-19T17:30:31.304Z"
   },
   {
    "duration": 1423,
    "start_time": "2024-09-19T17:30:31.440Z"
   },
   {
    "duration": 36,
    "start_time": "2024-09-19T17:30:32.865Z"
   },
   {
    "duration": 34,
    "start_time": "2024-09-19T17:30:32.902Z"
   },
   {
    "duration": 37,
    "start_time": "2024-09-19T17:30:32.938Z"
   },
   {
    "duration": 30,
    "start_time": "2024-09-19T17:30:32.977Z"
   },
   {
    "duration": 17,
    "start_time": "2024-09-19T17:30:33.009Z"
   },
   {
    "duration": 33,
    "start_time": "2024-09-19T17:30:33.027Z"
   },
   {
    "duration": 17,
    "start_time": "2024-09-19T17:30:33.062Z"
   },
   {
    "duration": 2682,
    "start_time": "2024-09-19T17:30:33.080Z"
   },
   {
    "duration": 5,
    "start_time": "2024-09-19T17:34:23.648Z"
   },
   {
    "duration": 5,
    "start_time": "2024-09-19T17:34:23.846Z"
   },
   {
    "duration": 2720,
    "start_time": "2024-09-19T17:34:24.020Z"
   },
   {
    "duration": 58,
    "start_time": "2024-09-19T17:36:11.362Z"
   },
   {
    "duration": 72,
    "start_time": "2024-09-19T17:36:12.738Z"
   },
   {
    "duration": 48,
    "start_time": "2024-09-19T17:37:53.160Z"
   },
   {
    "duration": 72,
    "start_time": "2024-09-19T17:38:39.521Z"
   },
   {
    "duration": 68,
    "start_time": "2024-09-19T17:41:33.106Z"
   },
   {
    "duration": 43,
    "start_time": "2024-09-19T17:41:35.106Z"
   },
   {
    "duration": 20,
    "start_time": "2024-09-19T17:42:41.918Z"
   },
   {
    "duration": 15,
    "start_time": "2024-09-19T17:42:44.030Z"
   },
   {
    "duration": 16,
    "start_time": "2024-09-19T17:43:53.228Z"
   },
   {
    "duration": 29,
    "start_time": "2024-09-19T17:44:47.549Z"
   },
   {
    "duration": 2294,
    "start_time": "2024-09-19T17:44:54.547Z"
   },
   {
    "duration": 43,
    "start_time": "2024-09-19T17:45:35.980Z"
   },
   {
    "duration": 2417,
    "start_time": "2024-09-19T17:45:38.344Z"
   },
   {
    "duration": 45,
    "start_time": "2024-09-19T17:46:09.705Z"
   },
   {
    "duration": 2399,
    "start_time": "2024-09-19T17:46:11.656Z"
   },
   {
    "duration": 43,
    "start_time": "2024-09-19T17:47:24.068Z"
   },
   {
    "duration": 2228,
    "start_time": "2024-09-19T17:47:25.621Z"
   },
   {
    "duration": 1102,
    "start_time": "2024-09-19T17:47:54.392Z"
   },
   {
    "duration": 5,
    "start_time": "2024-09-19T17:47:58.201Z"
   },
   {
    "duration": 4,
    "start_time": "2024-09-19T17:47:58.915Z"
   },
   {
    "duration": 124,
    "start_time": "2024-09-19T17:48:24.142Z"
   },
   {
    "duration": 13,
    "start_time": "2024-09-19T17:48:30.070Z"
   },
   {
    "duration": 4,
    "start_time": "2024-09-19T17:48:41.364Z"
   },
   {
    "duration": 12,
    "start_time": "2024-09-19T17:49:05.864Z"
   },
   {
    "duration": 4,
    "start_time": "2024-09-19T17:49:12.658Z"
   },
   {
    "duration": 4,
    "start_time": "2024-09-19T17:50:16.562Z"
   },
   {
    "duration": 3,
    "start_time": "2024-09-19T17:50:22.275Z"
   },
   {
    "duration": 4,
    "start_time": "2024-09-19T17:50:32.515Z"
   },
   {
    "duration": 6,
    "start_time": "2024-09-19T17:50:35.483Z"
   },
   {
    "duration": 4,
    "start_time": "2024-09-19T17:50:36.686Z"
   },
   {
    "duration": 3456,
    "start_time": "2024-09-19T17:50:53.882Z"
   },
   {
    "duration": 8075,
    "start_time": "2024-09-19T17:51:26.561Z"
   },
   {
    "duration": 1371,
    "start_time": "2024-09-19T17:51:34.638Z"
   },
   {
    "duration": 1038,
    "start_time": "2024-09-19T17:51:36.010Z"
   },
   {
    "duration": 20,
    "start_time": "2024-09-19T17:51:37.050Z"
   },
   {
    "duration": 156,
    "start_time": "2024-09-19T17:51:37.072Z"
   },
   {
    "duration": 45,
    "start_time": "2024-09-19T17:51:37.230Z"
   },
   {
    "duration": 27,
    "start_time": "2024-09-19T17:51:37.277Z"
   },
   {
    "duration": 37,
    "start_time": "2024-09-19T17:51:37.306Z"
   },
   {
    "duration": 26,
    "start_time": "2024-09-19T17:51:37.366Z"
   },
   {
    "duration": 40,
    "start_time": "2024-09-19T17:51:37.393Z"
   },
   {
    "duration": 25,
    "start_time": "2024-09-19T17:51:37.464Z"
   },
   {
    "duration": 37,
    "start_time": "2024-09-19T17:51:37.490Z"
   },
   {
    "duration": 46,
    "start_time": "2024-09-19T17:51:37.529Z"
   },
   {
    "duration": 35,
    "start_time": "2024-09-19T17:51:37.578Z"
   },
   {
    "duration": 26,
    "start_time": "2024-09-19T17:51:37.615Z"
   },
   {
    "duration": 163,
    "start_time": "2024-09-19T17:51:37.643Z"
   },
   {
    "duration": 1376,
    "start_time": "2024-09-19T17:51:37.807Z"
   },
   {
    "duration": 32,
    "start_time": "2024-09-19T17:51:39.185Z"
   },
   {
    "duration": 28,
    "start_time": "2024-09-19T17:51:39.218Z"
   },
   {
    "duration": 31,
    "start_time": "2024-09-19T17:51:39.247Z"
   },
   {
    "duration": 31,
    "start_time": "2024-09-19T17:51:39.280Z"
   },
   {
    "duration": 11,
    "start_time": "2024-09-19T17:51:39.312Z"
   },
   {
    "duration": 7,
    "start_time": "2024-09-19T17:51:39.324Z"
   },
   {
    "duration": 33,
    "start_time": "2024-09-19T17:51:39.332Z"
   },
   {
    "duration": 2711,
    "start_time": "2024-09-19T17:51:39.367Z"
   },
   {
    "duration": 59,
    "start_time": "2024-09-19T17:51:42.080Z"
   },
   {
    "duration": 89,
    "start_time": "2024-09-19T17:51:42.141Z"
   },
   {
    "duration": 23,
    "start_time": "2024-09-19T17:51:42.231Z"
   },
   {
    "duration": 17,
    "start_time": "2024-09-19T17:51:42.264Z"
   },
   {
    "duration": 43,
    "start_time": "2024-09-19T17:51:42.282Z"
   },
   {
    "duration": 2315,
    "start_time": "2024-09-19T17:51:42.326Z"
   },
   {
    "duration": 1134,
    "start_time": "2024-09-19T17:51:44.643Z"
   },
   {
    "duration": 8,
    "start_time": "2024-09-19T17:51:45.783Z"
   },
   {
    "duration": 3450,
    "start_time": "2024-09-19T17:51:45.793Z"
   },
   {
    "duration": 11,
    "start_time": "2024-09-19T17:53:03.494Z"
   },
   {
    "duration": 51,
    "start_time": "2024-09-19T17:53:04.354Z"
   },
   {
    "duration": 3,
    "start_time": "2024-09-19T17:53:28.462Z"
   },
   {
    "duration": 135,
    "start_time": "2024-09-19T17:54:15.662Z"
   },
   {
    "duration": 4,
    "start_time": "2024-09-19T17:54:21.801Z"
   },
   {
    "duration": 671,
    "start_time": "2024-09-19T17:54:34.051Z"
   },
   {
    "duration": 4,
    "start_time": "2024-09-19T17:54:36.322Z"
   },
   {
    "duration": 8558,
    "start_time": "2024-09-19T17:55:16.417Z"
   },
   {
    "duration": 12821,
    "start_time": "2024-09-21T13:41:02.933Z"
   },
   {
    "duration": 1696,
    "start_time": "2024-09-21T13:41:15.756Z"
   },
   {
    "duration": 1373,
    "start_time": "2024-09-21T13:41:17.454Z"
   },
   {
    "duration": 12,
    "start_time": "2024-09-21T13:41:18.829Z"
   },
   {
    "duration": 157,
    "start_time": "2024-09-21T13:41:18.851Z"
   },
   {
    "duration": 43,
    "start_time": "2024-09-21T13:41:19.010Z"
   },
   {
    "duration": 29,
    "start_time": "2024-09-21T13:41:19.054Z"
   },
   {
    "duration": 39,
    "start_time": "2024-09-21T13:41:19.084Z"
   },
   {
    "duration": 46,
    "start_time": "2024-09-21T13:41:19.124Z"
   },
   {
    "duration": 38,
    "start_time": "2024-09-21T13:41:19.172Z"
   },
   {
    "duration": 43,
    "start_time": "2024-09-21T13:41:19.212Z"
   },
   {
    "duration": 38,
    "start_time": "2024-09-21T13:41:19.256Z"
   },
   {
    "duration": 35,
    "start_time": "2024-09-21T13:41:19.295Z"
   },
   {
    "duration": 39,
    "start_time": "2024-09-21T13:41:19.332Z"
   },
   {
    "duration": 25,
    "start_time": "2024-09-21T13:41:19.373Z"
   },
   {
    "duration": 152,
    "start_time": "2024-09-21T13:41:19.400Z"
   },
   {
    "duration": 1364,
    "start_time": "2024-09-21T13:41:19.554Z"
   },
   {
    "duration": 40,
    "start_time": "2024-09-21T13:41:20.920Z"
   },
   {
    "duration": 28,
    "start_time": "2024-09-21T13:41:20.961Z"
   },
   {
    "duration": 13,
    "start_time": "2024-09-21T13:41:20.990Z"
   },
   {
    "duration": 24,
    "start_time": "2024-09-21T13:41:21.004Z"
   },
   {
    "duration": 30,
    "start_time": "2024-09-21T13:41:21.030Z"
   },
   {
    "duration": 7,
    "start_time": "2024-09-21T13:41:21.061Z"
   },
   {
    "duration": 7,
    "start_time": "2024-09-21T13:41:21.069Z"
   },
   {
    "duration": 2595,
    "start_time": "2024-09-21T13:41:21.077Z"
   },
   {
    "duration": 56,
    "start_time": "2024-09-21T13:41:23.674Z"
   },
   {
    "duration": 65,
    "start_time": "2024-09-21T13:41:23.732Z"
   },
   {
    "duration": 20,
    "start_time": "2024-09-21T13:41:23.800Z"
   },
   {
    "duration": 16,
    "start_time": "2024-09-21T13:41:23.821Z"
   },
   {
    "duration": 55,
    "start_time": "2024-09-21T13:41:23.839Z"
   },
   {
    "duration": 2259,
    "start_time": "2024-09-21T13:41:23.896Z"
   },
   {
    "duration": 1034,
    "start_time": "2024-09-21T13:41:26.157Z"
   },
   {
    "duration": 7,
    "start_time": "2024-09-21T13:41:27.193Z"
   },
   {
    "duration": 3210,
    "start_time": "2024-09-21T13:41:27.202Z"
   },
   {
    "duration": 10,
    "start_time": "2024-09-21T13:41:30.413Z"
   },
   {
    "duration": 81,
    "start_time": "2024-09-21T13:41:30.425Z"
   },
   {
    "duration": 3,
    "start_time": "2024-09-21T13:41:30.507Z"
   },
   {
    "duration": 17,
    "start_time": "2024-09-21T13:41:30.511Z"
   },
   {
    "duration": 665,
    "start_time": "2024-09-21T13:41:30.530Z"
   },
   {
    "duration": 4,
    "start_time": "2024-09-21T13:41:31.197Z"
   },
   {
    "duration": 8155,
    "start_time": "2024-09-21T13:41:31.203Z"
   },
   {
    "duration": 135457,
    "start_time": "2024-09-21T13:41:39.360Z"
   },
   {
    "duration": 4,
    "start_time": "2024-09-21T13:43:54.819Z"
   },
   {
    "duration": 4232,
    "start_time": "2024-09-21T13:43:54.825Z"
   },
   {
    "duration": 9695,
    "start_time": "2024-09-21T13:43:59.059Z"
   },
   {
    "duration": 7,
    "start_time": "2024-09-21T13:44:08.757Z"
   },
   {
    "duration": 7414,
    "start_time": "2024-09-21T13:44:08.766Z"
   },
   {
    "duration": 15,
    "start_time": "2024-09-21T13:44:16.181Z"
   },
   {
    "duration": 3666,
    "start_time": "2024-09-21T13:44:16.197Z"
   },
   {
    "duration": 507,
    "start_time": "2024-09-21T13:44:19.951Z"
   },
   {
    "duration": 13352,
    "start_time": "2024-09-22T09:30:40.060Z"
   },
   {
    "duration": 1687,
    "start_time": "2024-09-22T09:30:53.414Z"
   },
   {
    "duration": 3274,
    "start_time": "2024-09-22T09:30:55.103Z"
   },
   {
    "duration": 15,
    "start_time": "2024-09-22T09:30:58.379Z"
   },
   {
    "duration": 177,
    "start_time": "2024-09-22T09:30:58.396Z"
   },
   {
    "duration": 63,
    "start_time": "2024-09-22T09:30:58.575Z"
   },
   {
    "duration": 25,
    "start_time": "2024-09-22T09:30:58.640Z"
   },
   {
    "duration": 39,
    "start_time": "2024-09-22T09:30:58.666Z"
   },
   {
    "duration": 36,
    "start_time": "2024-09-22T09:30:58.707Z"
   },
   {
    "duration": 41,
    "start_time": "2024-09-22T09:30:58.744Z"
   },
   {
    "duration": 47,
    "start_time": "2024-09-22T09:30:58.787Z"
   },
   {
    "duration": 48,
    "start_time": "2024-09-22T09:30:58.836Z"
   },
   {
    "duration": 46,
    "start_time": "2024-09-22T09:30:58.886Z"
   },
   {
    "duration": 38,
    "start_time": "2024-09-22T09:30:58.936Z"
   },
   {
    "duration": 24,
    "start_time": "2024-09-22T09:30:58.975Z"
   },
   {
    "duration": 175,
    "start_time": "2024-09-22T09:30:59.001Z"
   },
   {
    "duration": 1567,
    "start_time": "2024-09-22T09:30:59.177Z"
   },
   {
    "duration": 36,
    "start_time": "2024-09-22T09:31:00.745Z"
   },
   {
    "duration": 46,
    "start_time": "2024-09-22T09:31:00.783Z"
   },
   {
    "duration": 20,
    "start_time": "2024-09-22T09:31:00.831Z"
   },
   {
    "duration": 36,
    "start_time": "2024-09-22T09:31:00.854Z"
   },
   {
    "duration": 43,
    "start_time": "2024-09-22T09:31:00.892Z"
   },
   {
    "duration": 14,
    "start_time": "2024-09-22T09:31:00.937Z"
   },
   {
    "duration": 29,
    "start_time": "2024-09-22T09:31:00.953Z"
   },
   {
    "duration": 3089,
    "start_time": "2024-09-22T09:31:00.983Z"
   },
   {
    "duration": 68,
    "start_time": "2024-09-22T09:31:04.073Z"
   },
   {
    "duration": 74,
    "start_time": "2024-09-22T09:31:04.143Z"
   },
   {
    "duration": 24,
    "start_time": "2024-09-22T09:31:04.231Z"
   },
   {
    "duration": 18,
    "start_time": "2024-09-22T09:31:04.256Z"
   },
   {
    "duration": 59,
    "start_time": "2024-09-22T09:31:04.276Z"
   },
   {
    "duration": 2632,
    "start_time": "2024-09-22T09:31:04.336Z"
   },
   {
    "duration": 1203,
    "start_time": "2024-09-22T09:31:06.970Z"
   },
   {
    "duration": 7,
    "start_time": "2024-09-22T09:31:08.174Z"
   },
   {
    "duration": 3774,
    "start_time": "2024-09-22T09:31:08.183Z"
   },
   {
    "duration": 11,
    "start_time": "2024-09-22T09:31:11.959Z"
   },
   {
    "duration": 97,
    "start_time": "2024-09-22T09:31:11.972Z"
   },
   {
    "duration": 3,
    "start_time": "2024-09-22T09:31:12.071Z"
   },
   {
    "duration": 6,
    "start_time": "2024-09-22T09:31:12.075Z"
   },
   {
    "duration": 781,
    "start_time": "2024-09-22T09:31:12.083Z"
   },
   {
    "duration": 5,
    "start_time": "2024-09-22T09:31:12.866Z"
   },
   {
    "duration": 6170,
    "start_time": "2024-09-22T09:31:12.876Z"
   },
   {
    "duration": 9577,
    "start_time": "2024-09-22T09:39:45.872Z"
   },
   {
    "duration": 1481,
    "start_time": "2024-09-22T09:39:55.452Z"
   },
   {
    "duration": 9120,
    "start_time": "2024-09-22T09:43:01.889Z"
   },
   {
    "duration": 1565,
    "start_time": "2024-09-22T09:43:11.012Z"
   },
   {
    "duration": 1219,
    "start_time": "2024-09-22T09:43:12.579Z"
   },
   {
    "duration": 27,
    "start_time": "2024-09-22T09:43:13.801Z"
   },
   {
    "duration": 172,
    "start_time": "2024-09-22T09:43:13.831Z"
   },
   {
    "duration": 73,
    "start_time": "2024-09-22T09:43:14.004Z"
   },
   {
    "duration": 25,
    "start_time": "2024-09-22T09:43:14.079Z"
   },
   {
    "duration": 60,
    "start_time": "2024-09-22T09:43:14.106Z"
   },
   {
    "duration": 26,
    "start_time": "2024-09-22T09:43:14.168Z"
   },
   {
    "duration": 68,
    "start_time": "2024-09-22T09:43:14.196Z"
   },
   {
    "duration": 22,
    "start_time": "2024-09-22T09:43:14.265Z"
   },
   {
    "duration": 62,
    "start_time": "2024-09-22T09:43:14.288Z"
   },
   {
    "duration": 23,
    "start_time": "2024-09-22T09:43:14.356Z"
   },
   {
    "duration": 63,
    "start_time": "2024-09-22T09:43:14.383Z"
   },
   {
    "duration": 32,
    "start_time": "2024-09-22T09:43:14.448Z"
   },
   {
    "duration": 180,
    "start_time": "2024-09-22T09:43:14.481Z"
   },
   {
    "duration": 1611,
    "start_time": "2024-09-22T09:43:14.663Z"
   },
   {
    "duration": 34,
    "start_time": "2024-09-22T09:43:16.276Z"
   },
   {
    "duration": 43,
    "start_time": "2024-09-22T09:43:16.321Z"
   },
   {
    "duration": 14,
    "start_time": "2024-09-22T09:43:16.366Z"
   },
   {
    "duration": 55,
    "start_time": "2024-09-22T09:43:16.381Z"
   },
   {
    "duration": 14,
    "start_time": "2024-09-22T09:43:16.437Z"
   },
   {
    "duration": 6,
    "start_time": "2024-09-22T09:43:16.452Z"
   },
   {
    "duration": 12,
    "start_time": "2024-09-22T09:43:16.459Z"
   },
   {
    "duration": 9170,
    "start_time": "2024-09-22T09:47:03.873Z"
   },
   {
    "duration": 1461,
    "start_time": "2024-09-22T09:47:13.046Z"
   },
   {
    "duration": 1250,
    "start_time": "2024-09-22T09:47:14.509Z"
   },
   {
    "duration": 14,
    "start_time": "2024-09-22T09:47:15.761Z"
   },
   {
    "duration": 224,
    "start_time": "2024-09-22T09:47:15.777Z"
   },
   {
    "duration": 57,
    "start_time": "2024-09-22T09:47:16.002Z"
   },
   {
    "duration": 28,
    "start_time": "2024-09-22T09:47:16.061Z"
   },
   {
    "duration": 67,
    "start_time": "2024-09-22T09:47:16.091Z"
   },
   {
    "duration": 28,
    "start_time": "2024-09-22T09:47:16.159Z"
   },
   {
    "duration": 70,
    "start_time": "2024-09-22T09:47:16.188Z"
   },
   {
    "duration": 27,
    "start_time": "2024-09-22T09:47:16.259Z"
   },
   {
    "duration": 68,
    "start_time": "2024-09-22T09:47:16.288Z"
   },
   {
    "duration": 26,
    "start_time": "2024-09-22T09:47:16.357Z"
   },
   {
    "duration": 62,
    "start_time": "2024-09-22T09:47:16.387Z"
   },
   {
    "duration": 53,
    "start_time": "2024-09-22T09:47:16.450Z"
   },
   {
    "duration": 199,
    "start_time": "2024-09-22T09:47:16.505Z"
   },
   {
    "duration": 1599,
    "start_time": "2024-09-22T09:47:16.706Z"
   },
   {
    "duration": 52,
    "start_time": "2024-09-22T09:47:18.307Z"
   },
   {
    "duration": 29,
    "start_time": "2024-09-22T09:47:18.361Z"
   },
   {
    "duration": 18,
    "start_time": "2024-09-22T09:47:18.392Z"
   },
   {
    "duration": 38,
    "start_time": "2024-09-22T09:47:18.421Z"
   },
   {
    "duration": 19,
    "start_time": "2024-09-22T09:47:18.460Z"
   },
   {
    "duration": 6,
    "start_time": "2024-09-22T09:47:18.481Z"
   },
   {
    "duration": 6,
    "start_time": "2024-09-22T09:47:18.489Z"
   },
   {
    "duration": 3148,
    "start_time": "2024-09-22T09:47:18.497Z"
   },
   {
    "duration": 62,
    "start_time": "2024-09-22T09:47:21.647Z"
   },
   {
    "duration": 80,
    "start_time": "2024-09-22T09:47:21.711Z"
   },
   {
    "duration": 21,
    "start_time": "2024-09-22T09:47:21.793Z"
   },
   {
    "duration": 23,
    "start_time": "2024-09-22T09:47:21.816Z"
   },
   {
    "duration": 50,
    "start_time": "2024-09-22T09:47:21.841Z"
   },
   {
    "duration": 2659,
    "start_time": "2024-09-22T09:47:21.893Z"
   },
   {
    "duration": 1228,
    "start_time": "2024-09-22T09:47:24.554Z"
   },
   {
    "duration": 7,
    "start_time": "2024-09-22T09:47:25.783Z"
   },
   {
    "duration": 4007,
    "start_time": "2024-09-22T09:47:25.792Z"
   },
   {
    "duration": 12,
    "start_time": "2024-09-22T09:47:29.801Z"
   },
   {
    "duration": 72,
    "start_time": "2024-09-22T09:47:29.828Z"
   },
   {
    "duration": 3,
    "start_time": "2024-09-22T09:47:29.902Z"
   },
   {
    "duration": 58,
    "start_time": "2024-09-22T09:47:29.906Z"
   },
   {
    "duration": 834,
    "start_time": "2024-09-22T09:47:29.966Z"
   },
   {
    "duration": 5,
    "start_time": "2024-09-22T09:47:30.801Z"
   },
   {
    "duration": 6431,
    "start_time": "2024-09-22T09:47:30.809Z"
   },
   {
    "duration": 71508,
    "start_time": "2024-09-22T09:47:37.242Z"
   },
   {
    "duration": 4,
    "start_time": "2024-09-22T09:48:48.752Z"
   },
   {
    "duration": 247093,
    "start_time": "2024-09-22T09:48:48.758Z"
   },
   {
    "duration": 6671,
    "start_time": "2024-09-22T09:52:55.853Z"
   },
   {
    "duration": 8,
    "start_time": "2024-09-22T09:53:02.526Z"
   },
   {
    "duration": 8518,
    "start_time": "2024-09-22T09:53:02.538Z"
   },
   {
    "duration": 17,
    "start_time": "2024-09-22T09:53:11.057Z"
   },
   {
    "duration": 8550,
    "start_time": "2024-09-22T10:46:56.707Z"
   },
   {
    "duration": 1324,
    "start_time": "2024-09-22T10:47:05.260Z"
   },
   {
    "duration": 1111,
    "start_time": "2024-09-22T10:47:06.586Z"
   },
   {
    "duration": 14,
    "start_time": "2024-09-22T10:47:07.698Z"
   },
   {
    "duration": 156,
    "start_time": "2024-09-22T10:47:07.720Z"
   },
   {
    "duration": 46,
    "start_time": "2024-09-22T10:47:07.878Z"
   },
   {
    "duration": 28,
    "start_time": "2024-09-22T10:47:07.926Z"
   },
   {
    "duration": 58,
    "start_time": "2024-09-22T10:47:07.955Z"
   },
   {
    "duration": 30,
    "start_time": "2024-09-22T10:47:08.015Z"
   },
   {
    "duration": 39,
    "start_time": "2024-09-22T10:47:08.048Z"
   },
   {
    "duration": 36,
    "start_time": "2024-09-22T10:47:08.089Z"
   },
   {
    "duration": 37,
    "start_time": "2024-09-22T10:47:08.127Z"
   },
   {
    "duration": 81,
    "start_time": "2024-09-22T10:47:08.166Z"
   },
   {
    "duration": 44,
    "start_time": "2024-09-22T10:47:08.248Z"
   },
   {
    "duration": 31,
    "start_time": "2024-09-22T10:47:08.294Z"
   },
   {
    "duration": 156,
    "start_time": "2024-09-22T10:47:08.326Z"
   },
   {
    "duration": 1464,
    "start_time": "2024-09-22T10:47:08.483Z"
   },
   {
    "duration": 36,
    "start_time": "2024-09-22T10:47:09.948Z"
   },
   {
    "duration": 94,
    "start_time": "2024-09-22T10:47:09.985Z"
   },
   {
    "duration": 14,
    "start_time": "2024-09-22T10:47:10.080Z"
   },
   {
    "duration": 24,
    "start_time": "2024-09-22T10:47:10.096Z"
   },
   {
    "duration": 96,
    "start_time": "2024-09-22T10:47:10.122Z"
   },
   {
    "duration": 8,
    "start_time": "2024-09-22T10:47:10.220Z"
   },
   {
    "duration": 11,
    "start_time": "2024-09-22T10:47:10.229Z"
   },
   {
    "duration": 2726,
    "start_time": "2024-09-22T10:47:10.241Z"
   },
   {
    "duration": 59,
    "start_time": "2024-09-22T10:47:12.969Z"
   },
   {
    "duration": 72,
    "start_time": "2024-09-22T10:47:13.030Z"
   },
   {
    "duration": 32,
    "start_time": "2024-09-22T10:47:13.106Z"
   },
   {
    "duration": 18,
    "start_time": "2024-09-22T10:47:13.139Z"
   },
   {
    "duration": 43,
    "start_time": "2024-09-22T10:47:13.158Z"
   },
   {
    "duration": 2455,
    "start_time": "2024-09-22T10:47:13.203Z"
   },
   {
    "duration": 1133,
    "start_time": "2024-09-22T10:47:15.660Z"
   },
   {
    "duration": 6,
    "start_time": "2024-09-22T10:47:16.795Z"
   },
   {
    "duration": 3524,
    "start_time": "2024-09-22T10:47:16.803Z"
   },
   {
    "duration": 10,
    "start_time": "2024-09-22T10:47:20.329Z"
   },
   {
    "duration": 74,
    "start_time": "2024-09-22T10:47:20.340Z"
   },
   {
    "duration": 6,
    "start_time": "2024-09-22T10:47:20.416Z"
   },
   {
    "duration": 24,
    "start_time": "2024-09-22T10:47:20.424Z"
   },
   {
    "duration": 713,
    "start_time": "2024-09-22T10:47:20.449Z"
   },
   {
    "duration": 4,
    "start_time": "2024-09-22T10:47:21.164Z"
   },
   {
    "duration": 8852,
    "start_time": "2024-09-22T10:47:21.169Z"
   },
   {
    "duration": 65740,
    "start_time": "2024-09-22T10:47:30.023Z"
   },
   {
    "duration": 5,
    "start_time": "2024-09-22T10:48:35.765Z"
   },
   {
    "duration": 7060,
    "start_time": "2024-09-22T10:48:35.772Z"
   },
   {
    "duration": 9087,
    "start_time": "2024-09-22T10:48:42.834Z"
   },
   {
    "duration": 7,
    "start_time": "2024-09-22T10:48:51.924Z"
   },
   {
    "duration": 7623,
    "start_time": "2024-09-22T10:48:52.021Z"
   },
   {
    "duration": 18,
    "start_time": "2024-09-22T10:48:59.645Z"
   },
   {
    "duration": 7766,
    "start_time": "2024-09-22T10:48:59.665Z"
   },
   {
    "duration": 589,
    "start_time": "2024-09-22T10:49:07.432Z"
   },
   {
    "duration": 28,
    "start_time": "2024-09-22T11:01:18.444Z"
   },
   {
    "duration": 131,
    "start_time": "2024-09-22T11:25:15.918Z"
   },
   {
    "duration": 5,
    "start_time": "2024-09-22T11:26:02.055Z"
   },
   {
    "duration": 14,
    "start_time": "2024-09-22T11:26:07.354Z"
   },
   {
    "duration": 203648,
    "start_time": "2024-09-22T11:28:51.137Z"
   },
   {
    "duration": 8424,
    "start_time": "2024-09-22T11:34:09.928Z"
   },
   {
    "duration": 1326,
    "start_time": "2024-09-22T11:34:18.354Z"
   },
   {
    "duration": 1106,
    "start_time": "2024-09-22T11:34:19.682Z"
   },
   {
    "duration": 14,
    "start_time": "2024-09-22T11:34:20.790Z"
   },
   {
    "duration": 176,
    "start_time": "2024-09-22T11:34:20.820Z"
   },
   {
    "duration": 41,
    "start_time": "2024-09-22T11:34:20.998Z"
   },
   {
    "duration": 29,
    "start_time": "2024-09-22T11:34:21.040Z"
   },
   {
    "duration": 56,
    "start_time": "2024-09-22T11:34:21.070Z"
   },
   {
    "duration": 38,
    "start_time": "2024-09-22T11:34:21.127Z"
   },
   {
    "duration": 41,
    "start_time": "2024-09-22T11:34:21.167Z"
   },
   {
    "duration": 33,
    "start_time": "2024-09-22T11:34:21.209Z"
   },
   {
    "duration": 40,
    "start_time": "2024-09-22T11:34:21.243Z"
   },
   {
    "duration": 43,
    "start_time": "2024-09-22T11:34:21.284Z"
   },
   {
    "duration": 36,
    "start_time": "2024-09-22T11:34:21.330Z"
   },
   {
    "duration": 30,
    "start_time": "2024-09-22T11:34:21.367Z"
   },
   {
    "duration": 161,
    "start_time": "2024-09-22T11:34:21.399Z"
   },
   {
    "duration": 1460,
    "start_time": "2024-09-22T11:34:21.562Z"
   },
   {
    "duration": 34,
    "start_time": "2024-09-22T11:34:23.024Z"
   },
   {
    "duration": 30,
    "start_time": "2024-09-22T11:34:23.059Z"
   },
   {
    "duration": 31,
    "start_time": "2024-09-22T11:34:23.091Z"
   },
   {
    "duration": 26,
    "start_time": "2024-09-22T11:34:23.124Z"
   },
   {
    "duration": 14,
    "start_time": "2024-09-22T11:34:23.152Z"
   },
   {
    "duration": 18,
    "start_time": "2024-09-22T11:34:23.167Z"
   },
   {
    "duration": 11,
    "start_time": "2024-09-22T11:34:23.187Z"
   },
   {
    "duration": 2804,
    "start_time": "2024-09-22T11:34:23.199Z"
   },
   {
    "duration": 60,
    "start_time": "2024-09-22T11:34:26.005Z"
   },
   {
    "duration": 74,
    "start_time": "2024-09-22T11:34:26.067Z"
   },
   {
    "duration": 26,
    "start_time": "2024-09-22T11:34:26.143Z"
   },
   {
    "duration": 18,
    "start_time": "2024-09-22T11:34:26.170Z"
   },
   {
    "duration": 101,
    "start_time": "2024-09-22T11:34:26.189Z"
   },
   {
    "duration": 2361,
    "start_time": "2024-09-22T11:34:26.291Z"
   },
   {
    "duration": 1108,
    "start_time": "2024-09-22T11:34:28.654Z"
   },
   {
    "duration": 8,
    "start_time": "2024-09-22T11:34:29.765Z"
   },
   {
    "duration": 3480,
    "start_time": "2024-09-22T11:34:29.775Z"
   },
   {
    "duration": 10,
    "start_time": "2024-09-22T11:34:33.257Z"
   },
   {
    "duration": 72,
    "start_time": "2024-09-22T11:34:33.269Z"
   },
   {
    "duration": 3,
    "start_time": "2024-09-22T11:34:33.342Z"
   },
   {
    "duration": 3,
    "start_time": "2024-09-22T11:34:33.347Z"
   },
   {
    "duration": 722,
    "start_time": "2024-09-22T11:34:33.352Z"
   },
   {
    "duration": 3,
    "start_time": "2024-09-22T11:34:34.076Z"
   },
   {
    "duration": 37,
    "start_time": "2024-09-22T11:34:34.083Z"
   },
   {
    "duration": 122,
    "start_time": "2024-09-22T11:34:34.122Z"
   },
   {
    "duration": 0,
    "start_time": "2024-09-22T11:34:34.246Z"
   },
   {
    "duration": 0,
    "start_time": "2024-09-22T11:34:34.247Z"
   },
   {
    "duration": 0,
    "start_time": "2024-09-22T11:34:34.248Z"
   },
   {
    "duration": 0,
    "start_time": "2024-09-22T11:34:34.250Z"
   },
   {
    "duration": 21,
    "start_time": "2024-09-22T11:35:17.565Z"
   },
   {
    "duration": 8454,
    "start_time": "2024-09-22T11:35:24.963Z"
   },
   {
    "duration": 1354,
    "start_time": "2024-09-22T11:35:33.419Z"
   },
   {
    "duration": 1105,
    "start_time": "2024-09-22T11:35:34.774Z"
   },
   {
    "duration": 13,
    "start_time": "2024-09-22T11:35:35.881Z"
   },
   {
    "duration": 166,
    "start_time": "2024-09-22T11:35:35.896Z"
   },
   {
    "duration": 39,
    "start_time": "2024-09-22T11:35:36.064Z"
   },
   {
    "duration": 38,
    "start_time": "2024-09-22T11:35:36.105Z"
   },
   {
    "duration": 60,
    "start_time": "2024-09-22T11:35:36.144Z"
   },
   {
    "duration": 92,
    "start_time": "2024-09-22T11:35:36.206Z"
   },
   {
    "duration": 41,
    "start_time": "2024-09-22T11:35:36.300Z"
   },
   {
    "duration": 82,
    "start_time": "2024-09-22T11:35:36.343Z"
   },
   {
    "duration": 58,
    "start_time": "2024-09-22T11:35:36.427Z"
   },
   {
    "duration": 26,
    "start_time": "2024-09-22T11:35:36.487Z"
   },
   {
    "duration": 79,
    "start_time": "2024-09-22T11:35:36.516Z"
   },
   {
    "duration": 34,
    "start_time": "2024-09-22T11:35:36.597Z"
   },
   {
    "duration": 158,
    "start_time": "2024-09-22T11:35:36.632Z"
   },
   {
    "duration": 1453,
    "start_time": "2024-09-22T11:35:36.792Z"
   },
   {
    "duration": 36,
    "start_time": "2024-09-22T11:35:38.247Z"
   },
   {
    "duration": 44,
    "start_time": "2024-09-22T11:35:38.285Z"
   },
   {
    "duration": 14,
    "start_time": "2024-09-22T11:35:38.330Z"
   },
   {
    "duration": 76,
    "start_time": "2024-09-22T11:35:38.346Z"
   },
   {
    "duration": 11,
    "start_time": "2024-09-22T11:35:38.424Z"
   },
   {
    "duration": 19,
    "start_time": "2024-09-22T11:35:38.437Z"
   },
   {
    "duration": 6,
    "start_time": "2024-09-22T11:35:38.457Z"
   },
   {
    "duration": 2723,
    "start_time": "2024-09-22T11:35:38.464Z"
   },
   {
    "duration": 63,
    "start_time": "2024-09-22T11:35:41.189Z"
   },
   {
    "duration": 72,
    "start_time": "2024-09-22T11:35:41.254Z"
   },
   {
    "duration": 21,
    "start_time": "2024-09-22T11:35:41.328Z"
   },
   {
    "duration": 17,
    "start_time": "2024-09-22T11:35:41.351Z"
   },
   {
    "duration": 61,
    "start_time": "2024-09-22T11:35:41.369Z"
   },
   {
    "duration": 2404,
    "start_time": "2024-09-22T11:35:41.432Z"
   },
   {
    "duration": 1121,
    "start_time": "2024-09-22T11:35:43.838Z"
   },
   {
    "duration": 7,
    "start_time": "2024-09-22T11:35:44.960Z"
   },
   {
    "duration": 3460,
    "start_time": "2024-09-22T11:35:44.968Z"
   },
   {
    "duration": 10,
    "start_time": "2024-09-22T11:35:48.430Z"
   },
   {
    "duration": 64,
    "start_time": "2024-09-22T11:35:48.441Z"
   },
   {
    "duration": 13,
    "start_time": "2024-09-22T11:35:48.508Z"
   },
   {
    "duration": 25,
    "start_time": "2024-09-22T11:35:48.523Z"
   },
   {
    "duration": 712,
    "start_time": "2024-09-22T11:35:48.550Z"
   },
   {
    "duration": 5,
    "start_time": "2024-09-22T11:35:49.263Z"
   },
   {
    "duration": 9649,
    "start_time": "2024-09-22T11:35:49.273Z"
   },
   {
    "duration": 29016,
    "start_time": "2024-09-22T11:35:58.924Z"
   },
   {
    "duration": 0,
    "start_time": "2024-09-22T11:36:27.942Z"
   },
   {
    "duration": 0,
    "start_time": "2024-09-22T11:36:27.943Z"
   },
   {
    "duration": 0,
    "start_time": "2024-09-22T11:36:27.945Z"
   },
   {
    "duration": 0,
    "start_time": "2024-09-22T11:36:27.946Z"
   },
   {
    "duration": 0,
    "start_time": "2024-09-22T11:36:27.947Z"
   },
   {
    "duration": 0,
    "start_time": "2024-09-22T11:36:27.948Z"
   },
   {
    "duration": 0,
    "start_time": "2024-09-22T11:36:27.950Z"
   },
   {
    "duration": 0,
    "start_time": "2024-09-22T11:36:27.951Z"
   },
   {
    "duration": 0,
    "start_time": "2024-09-22T11:36:27.952Z"
   },
   {
    "duration": 8398,
    "start_time": "2024-09-22T11:36:31.555Z"
   },
   {
    "duration": 1327,
    "start_time": "2024-09-22T11:36:39.956Z"
   },
   {
    "duration": 1134,
    "start_time": "2024-09-22T11:36:41.284Z"
   },
   {
    "duration": 14,
    "start_time": "2024-09-22T11:36:42.419Z"
   },
   {
    "duration": 155,
    "start_time": "2024-09-22T11:36:42.436Z"
   },
   {
    "duration": 43,
    "start_time": "2024-09-22T11:36:42.593Z"
   },
   {
    "duration": 48,
    "start_time": "2024-09-22T11:36:42.638Z"
   },
   {
    "duration": 51,
    "start_time": "2024-09-22T11:36:42.688Z"
   },
   {
    "duration": 55,
    "start_time": "2024-09-22T11:36:42.741Z"
   },
   {
    "duration": 39,
    "start_time": "2024-09-22T11:36:42.798Z"
   },
   {
    "duration": 30,
    "start_time": "2024-09-22T11:36:42.838Z"
   },
   {
    "duration": 53,
    "start_time": "2024-09-22T11:36:42.870Z"
   },
   {
    "duration": 27,
    "start_time": "2024-09-22T11:36:42.924Z"
   },
   {
    "duration": 36,
    "start_time": "2024-09-22T11:36:42.955Z"
   },
   {
    "duration": 47,
    "start_time": "2024-09-22T11:36:42.992Z"
   },
   {
    "duration": 150,
    "start_time": "2024-09-22T11:36:43.041Z"
   },
   {
    "duration": 1484,
    "start_time": "2024-09-22T11:36:43.193Z"
   },
   {
    "duration": 44,
    "start_time": "2024-09-22T11:36:44.679Z"
   },
   {
    "duration": 29,
    "start_time": "2024-09-22T11:36:44.725Z"
   },
   {
    "duration": 14,
    "start_time": "2024-09-22T11:36:44.756Z"
   },
   {
    "duration": 27,
    "start_time": "2024-09-22T11:36:44.772Z"
   },
   {
    "duration": 11,
    "start_time": "2024-09-22T11:36:44.821Z"
   },
   {
    "duration": 11,
    "start_time": "2024-09-22T11:36:44.833Z"
   },
   {
    "duration": 7,
    "start_time": "2024-09-22T11:36:44.845Z"
   },
   {
    "duration": 2834,
    "start_time": "2024-09-22T11:36:44.853Z"
   },
   {
    "duration": 63,
    "start_time": "2024-09-22T11:36:47.689Z"
   },
   {
    "duration": 79,
    "start_time": "2024-09-22T11:36:47.754Z"
   },
   {
    "duration": 22,
    "start_time": "2024-09-22T11:36:47.834Z"
   },
   {
    "duration": 28,
    "start_time": "2024-09-22T11:36:47.857Z"
   },
   {
    "duration": 51,
    "start_time": "2024-09-22T11:36:47.887Z"
   },
   {
    "duration": 2352,
    "start_time": "2024-09-22T11:36:47.939Z"
   },
   {
    "duration": 1107,
    "start_time": "2024-09-22T11:36:50.293Z"
   },
   {
    "duration": 6,
    "start_time": "2024-09-22T11:36:51.402Z"
   },
   {
    "duration": 3522,
    "start_time": "2024-09-22T11:36:51.410Z"
   },
   {
    "duration": 11,
    "start_time": "2024-09-22T11:36:54.934Z"
   },
   {
    "duration": 78,
    "start_time": "2024-09-22T11:36:54.947Z"
   },
   {
    "duration": 3,
    "start_time": "2024-09-22T11:36:55.027Z"
   },
   {
    "duration": 25,
    "start_time": "2024-09-22T11:36:55.033Z"
   },
   {
    "duration": 746,
    "start_time": "2024-09-22T11:36:55.060Z"
   },
   {
    "duration": 5,
    "start_time": "2024-09-22T11:36:55.807Z"
   },
   {
    "duration": 635437,
    "start_time": "2024-09-22T11:37:11.539Z"
   },
   {
    "duration": 35811,
    "start_time": "2024-09-22T11:49:24.128Z"
   },
   {
    "duration": 54048,
    "start_time": "2024-09-22T11:51:43.790Z"
   },
   {
    "duration": 57200,
    "start_time": "2024-09-22T11:53:43.628Z"
   },
   {
    "duration": 95,
    "start_time": "2024-09-22T11:54:40.830Z"
   },
   {
    "duration": 79832,
    "start_time": "2024-09-22T11:56:00.305Z"
   },
   {
    "duration": 94,
    "start_time": "2024-09-22T11:57:20.139Z"
   },
   {
    "duration": 340807,
    "start_time": "2024-09-22T11:57:52.419Z"
   },
   {
    "duration": 21,
    "start_time": "2024-09-22T12:03:33.228Z"
   },
   {
    "duration": 2373,
    "start_time": "2024-09-22T12:05:28.888Z"
   },
   {
    "duration": 21,
    "start_time": "2024-09-22T12:05:44.052Z"
   },
   {
    "duration": 22,
    "start_time": "2024-09-22T12:06:08.254Z"
   },
   {
    "duration": 21,
    "start_time": "2024-09-22T12:06:15.881Z"
   },
   {
    "duration": 22,
    "start_time": "2024-09-22T12:06:20.684Z"
   },
   {
    "duration": 22,
    "start_time": "2024-09-22T12:06:26.080Z"
   },
   {
    "duration": 33,
    "start_time": "2024-09-22T12:09:12.070Z"
   },
   {
    "duration": 18,
    "start_time": "2024-09-22T12:10:59.543Z"
   },
   {
    "duration": 16,
    "start_time": "2024-09-22T12:11:08.872Z"
   },
   {
    "duration": 18,
    "start_time": "2024-09-22T12:11:21.733Z"
   },
   {
    "duration": 25,
    "start_time": "2024-09-22T12:11:27.755Z"
   },
   {
    "duration": 221908,
    "start_time": "2024-09-22T12:11:57.922Z"
   },
   {
    "duration": 98,
    "start_time": "2024-09-22T12:15:39.832Z"
   },
   {
    "duration": 20,
    "start_time": "2024-09-22T12:15:39.931Z"
   },
   {
    "duration": 35,
    "start_time": "2024-09-22T12:15:39.953Z"
   },
   {
    "duration": 42,
    "start_time": "2024-09-22T12:15:39.990Z"
   },
   {
    "duration": 5,
    "start_time": "2024-09-22T12:17:01.613Z"
   },
   {
    "duration": 379196,
    "start_time": "2024-09-22T12:19:54.925Z"
   },
   {
    "duration": 22,
    "start_time": "2024-09-22T12:26:14.123Z"
   },
   {
    "duration": 22,
    "start_time": "2024-09-22T12:26:14.147Z"
   },
   {
    "duration": 58,
    "start_time": "2024-09-22T12:26:14.171Z"
   },
   {
    "duration": 19,
    "start_time": "2024-09-22T12:26:14.231Z"
   },
   {
    "duration": 3,
    "start_time": "2024-09-22T12:26:14.252Z"
   },
   {
    "duration": 7189,
    "start_time": "2024-09-22T12:28:10.938Z"
   },
   {
    "duration": 13,
    "start_time": "2024-09-22T12:30:00.536Z"
   },
   {
    "duration": 61,
    "start_time": "2024-09-22T12:30:27.488Z"
   },
   {
    "duration": 8,
    "start_time": "2024-09-22T12:31:20.018Z"
   },
   {
    "duration": 5,
    "start_time": "2024-09-22T12:31:41.920Z"
   },
   {
    "duration": 62,
    "start_time": "2024-09-22T12:31:55.322Z"
   },
   {
    "duration": 14,
    "start_time": "2024-09-22T12:33:01.881Z"
   },
   {
    "duration": 21,
    "start_time": "2024-09-22T12:35:11.299Z"
   },
   {
    "duration": 10,
    "start_time": "2024-09-22T12:36:06.462Z"
   },
   {
    "duration": 3,
    "start_time": "2024-09-22T12:36:13.292Z"
   },
   {
    "duration": 9,
    "start_time": "2024-09-22T12:36:18.575Z"
   },
   {
    "duration": 11,
    "start_time": "2024-09-22T12:37:05.973Z"
   },
   {
    "duration": 3,
    "start_time": "2024-09-22T12:37:12.376Z"
   },
   {
    "duration": 11,
    "start_time": "2024-09-22T12:38:26.281Z"
   },
   {
    "duration": 10,
    "start_time": "2024-09-22T12:38:35.357Z"
   },
   {
    "duration": 277,
    "start_time": "2024-09-22T12:39:15.424Z"
   },
   {
    "duration": 306,
    "start_time": "2024-09-22T12:39:23.766Z"
   },
   {
    "duration": 1027,
    "start_time": "2024-09-22T12:54:24.414Z"
   },
   {
    "duration": 60,
    "start_time": "2024-09-22T12:54:31.602Z"
   },
   {
    "duration": 66,
    "start_time": "2024-09-22T12:55:30.096Z"
   },
   {
    "duration": 9,
    "start_time": "2024-09-22T12:55:33.076Z"
   },
   {
    "duration": 8286,
    "start_time": "2024-09-22T12:58:19.908Z"
   },
   {
    "duration": 1390,
    "start_time": "2024-09-22T12:58:28.197Z"
   },
   {
    "duration": 1160,
    "start_time": "2024-09-22T12:58:29.589Z"
   },
   {
    "duration": 15,
    "start_time": "2024-09-22T12:58:30.751Z"
   },
   {
    "duration": 168,
    "start_time": "2024-09-22T12:58:30.768Z"
   },
   {
    "duration": 41,
    "start_time": "2024-09-22T12:58:30.937Z"
   },
   {
    "duration": 45,
    "start_time": "2024-09-22T12:58:30.980Z"
   },
   {
    "duration": 46,
    "start_time": "2024-09-22T12:58:31.027Z"
   },
   {
    "duration": 49,
    "start_time": "2024-09-22T12:58:31.075Z"
   },
   {
    "duration": 43,
    "start_time": "2024-09-22T12:58:31.128Z"
   },
   {
    "duration": 36,
    "start_time": "2024-09-22T12:58:31.173Z"
   },
   {
    "duration": 40,
    "start_time": "2024-09-22T12:58:31.211Z"
   },
   {
    "duration": 29,
    "start_time": "2024-09-22T12:58:31.253Z"
   },
   {
    "duration": 51,
    "start_time": "2024-09-22T12:58:31.284Z"
   },
   {
    "duration": 40,
    "start_time": "2024-09-22T12:58:31.337Z"
   },
   {
    "duration": 147,
    "start_time": "2024-09-22T12:58:31.379Z"
   },
   {
    "duration": 1561,
    "start_time": "2024-09-22T12:58:31.527Z"
   },
   {
    "duration": 36,
    "start_time": "2024-09-22T12:58:33.090Z"
   },
   {
    "duration": 39,
    "start_time": "2024-09-22T12:58:33.128Z"
   },
   {
    "duration": 23,
    "start_time": "2024-09-22T12:58:33.169Z"
   },
   {
    "duration": 42,
    "start_time": "2024-09-22T12:58:33.194Z"
   },
   {
    "duration": 24,
    "start_time": "2024-09-22T12:58:33.238Z"
   },
   {
    "duration": 58,
    "start_time": "2024-09-22T12:58:33.263Z"
   },
   {
    "duration": 46,
    "start_time": "2024-09-22T12:58:33.323Z"
   },
   {
    "duration": 2812,
    "start_time": "2024-09-22T12:58:33.371Z"
   },
   {
    "duration": 61,
    "start_time": "2024-09-22T12:58:36.185Z"
   },
   {
    "duration": 76,
    "start_time": "2024-09-22T12:58:36.247Z"
   },
   {
    "duration": 22,
    "start_time": "2024-09-22T12:58:36.326Z"
   },
   {
    "duration": 16,
    "start_time": "2024-09-22T12:58:36.349Z"
   },
   {
    "duration": 61,
    "start_time": "2024-09-22T12:58:36.367Z"
   },
   {
    "duration": 2422,
    "start_time": "2024-09-22T12:58:36.429Z"
   },
   {
    "duration": 1137,
    "start_time": "2024-09-22T12:58:38.853Z"
   },
   {
    "duration": 7,
    "start_time": "2024-09-22T12:58:39.992Z"
   },
   {
    "duration": 3440,
    "start_time": "2024-09-22T12:58:40.000Z"
   },
   {
    "duration": 13,
    "start_time": "2024-09-22T12:58:43.442Z"
   },
   {
    "duration": 79,
    "start_time": "2024-09-22T12:58:43.457Z"
   },
   {
    "duration": 2,
    "start_time": "2024-09-22T12:58:43.538Z"
   },
   {
    "duration": 20,
    "start_time": "2024-09-22T12:58:43.542Z"
   },
   {
    "duration": 744,
    "start_time": "2024-09-22T12:58:43.564Z"
   },
   {
    "duration": 11,
    "start_time": "2024-09-22T12:58:44.309Z"
   },
   {
    "duration": 9603,
    "start_time": "2024-09-22T12:58:44.321Z"
   },
   {
    "duration": 64902,
    "start_time": "2024-09-22T12:58:53.926Z"
   },
   {
    "duration": 6,
    "start_time": "2024-09-22T12:59:58.830Z"
   },
   {
    "duration": 25713,
    "start_time": "2024-09-22T12:59:58.838Z"
   },
   {
    "duration": 317201,
    "start_time": "2024-09-22T13:00:24.620Z"
   },
   {
    "duration": 20,
    "start_time": "2024-09-22T13:05:41.823Z"
   },
   {
    "duration": 6,
    "start_time": "2024-09-22T13:06:18.991Z"
   },
   {
    "duration": 5,
    "start_time": "2024-09-22T13:06:32.116Z"
   },
   {
    "duration": 5,
    "start_time": "2024-09-22T13:06:36.290Z"
   },
   {
    "duration": 8,
    "start_time": "2024-09-22T13:06:55.824Z"
   },
   {
    "duration": 4,
    "start_time": "2024-09-22T13:07:30.746Z"
   },
   {
    "duration": 5,
    "start_time": "2024-09-22T13:07:49.466Z"
   },
   {
    "duration": 7,
    "start_time": "2024-09-22T13:07:51.572Z"
   },
   {
    "duration": 127,
    "start_time": "2024-09-22T13:09:08.062Z"
   },
   {
    "duration": 13,
    "start_time": "2024-09-22T13:09:29.076Z"
   },
   {
    "duration": 32,
    "start_time": "2024-09-22T13:10:00.324Z"
   },
   {
    "duration": 16,
    "start_time": "2024-09-22T13:10:23.530Z"
   },
   {
    "duration": 5,
    "start_time": "2024-09-22T13:10:31.492Z"
   },
   {
    "duration": 23,
    "start_time": "2024-09-22T13:10:33.764Z"
   },
   {
    "duration": 314886,
    "start_time": "2024-09-22T13:18:03.658Z"
   },
   {
    "duration": 89,
    "start_time": "2024-09-22T13:23:18.546Z"
   },
   {
    "duration": 10,
    "start_time": "2024-09-22T13:25:07.134Z"
   },
   {
    "duration": 9,
    "start_time": "2024-09-22T13:25:12.037Z"
   },
   {
    "duration": 252,
    "start_time": "2024-09-22T13:26:29.294Z"
   },
   {
    "duration": 223,
    "start_time": "2024-09-22T13:26:59.508Z"
   },
   {
    "duration": 232,
    "start_time": "2024-09-22T13:27:02.700Z"
   },
   {
    "duration": 8631,
    "start_time": "2024-09-22T13:39:46.401Z"
   },
   {
    "duration": 7,
    "start_time": "2024-09-22T13:39:55.121Z"
   },
   {
    "duration": 11,
    "start_time": "2024-09-22T13:40:07.286Z"
   },
   {
    "duration": 6,
    "start_time": "2024-09-22T13:40:14.196Z"
   },
   {
    "duration": 10,
    "start_time": "2024-09-22T13:40:14.911Z"
   },
   {
    "duration": 9313,
    "start_time": "2024-09-22T13:40:30.612Z"
   },
   {
    "duration": 6,
    "start_time": "2024-09-22T13:40:52.519Z"
   },
   {
    "duration": 9,
    "start_time": "2024-09-22T13:40:52.706Z"
   },
   {
    "duration": 8425,
    "start_time": "2024-09-22T13:41:34.428Z"
   },
   {
    "duration": 1342,
    "start_time": "2024-09-22T13:41:42.855Z"
   },
   {
    "duration": 1129,
    "start_time": "2024-09-22T13:41:44.199Z"
   },
   {
    "duration": 14,
    "start_time": "2024-09-22T13:41:45.329Z"
   },
   {
    "duration": 189,
    "start_time": "2024-09-22T13:41:45.345Z"
   },
   {
    "duration": 38,
    "start_time": "2024-09-22T13:41:45.536Z"
   },
   {
    "duration": 30,
    "start_time": "2024-09-22T13:41:45.576Z"
   },
   {
    "duration": 48,
    "start_time": "2024-09-22T13:41:45.608Z"
   },
   {
    "duration": 23,
    "start_time": "2024-09-22T13:41:45.657Z"
   },
   {
    "duration": 55,
    "start_time": "2024-09-22T13:41:45.682Z"
   },
   {
    "duration": 22,
    "start_time": "2024-09-22T13:41:45.739Z"
   },
   {
    "duration": 58,
    "start_time": "2024-09-22T13:41:45.763Z"
   },
   {
    "duration": 23,
    "start_time": "2024-09-22T13:41:45.823Z"
   },
   {
    "duration": 38,
    "start_time": "2024-09-22T13:41:45.849Z"
   },
   {
    "duration": 41,
    "start_time": "2024-09-22T13:41:45.889Z"
   },
   {
    "duration": 158,
    "start_time": "2024-09-22T13:41:45.932Z"
   },
   {
    "duration": 1411,
    "start_time": "2024-09-22T13:41:46.091Z"
   },
   {
    "duration": 40,
    "start_time": "2024-09-22T13:41:47.503Z"
   },
   {
    "duration": 29,
    "start_time": "2024-09-22T13:41:47.545Z"
   },
   {
    "duration": 13,
    "start_time": "2024-09-22T13:41:47.575Z"
   },
   {
    "duration": 38,
    "start_time": "2024-09-22T13:41:47.590Z"
   },
   {
    "duration": 35,
    "start_time": "2024-09-22T13:41:47.629Z"
   },
   {
    "duration": 39,
    "start_time": "2024-09-22T13:41:47.665Z"
   },
   {
    "duration": 6,
    "start_time": "2024-09-22T13:41:47.706Z"
   },
   {
    "duration": 2727,
    "start_time": "2024-09-22T13:41:47.713Z"
   },
   {
    "duration": 63,
    "start_time": "2024-09-22T13:41:50.441Z"
   },
   {
    "duration": 73,
    "start_time": "2024-09-22T13:41:50.505Z"
   },
   {
    "duration": 22,
    "start_time": "2024-09-22T13:41:50.579Z"
   },
   {
    "duration": 23,
    "start_time": "2024-09-22T13:41:50.603Z"
   },
   {
    "duration": 44,
    "start_time": "2024-09-22T13:41:50.627Z"
   },
   {
    "duration": 2399,
    "start_time": "2024-09-22T13:41:50.673Z"
   },
   {
    "duration": 1118,
    "start_time": "2024-09-22T13:41:53.074Z"
   },
   {
    "duration": 7,
    "start_time": "2024-09-22T13:41:54.194Z"
   },
   {
    "duration": 3511,
    "start_time": "2024-09-22T13:41:54.203Z"
   },
   {
    "duration": 11,
    "start_time": "2024-09-22T13:41:57.716Z"
   },
   {
    "duration": 59,
    "start_time": "2024-09-22T13:41:57.728Z"
   },
   {
    "duration": 3,
    "start_time": "2024-09-22T13:41:57.790Z"
   },
   {
    "duration": 21,
    "start_time": "2024-09-22T13:41:57.796Z"
   },
   {
    "duration": 703,
    "start_time": "2024-09-22T13:41:57.821Z"
   },
   {
    "duration": 4,
    "start_time": "2024-09-22T13:41:58.526Z"
   },
   {
    "duration": 9392,
    "start_time": "2024-09-22T13:41:58.533Z"
   },
   {
    "duration": 330614,
    "start_time": "2024-09-22T13:42:07.927Z"
   },
   {
    "duration": 9697,
    "start_time": "2024-09-22T13:47:38.542Z"
   },
   {
    "duration": 80,
    "start_time": "2024-09-22T13:47:48.242Z"
   },
   {
    "duration": 134,
    "start_time": "2024-09-22T13:47:48.324Z"
   },
   {
    "duration": 7,
    "start_time": "2024-09-22T13:47:48.460Z"
   },
   {
    "duration": 40,
    "start_time": "2024-09-22T13:47:48.468Z"
   },
   {
    "duration": 147,
    "start_time": "2024-09-22T13:47:48.510Z"
   },
   {
    "duration": 364,
    "start_time": "2024-09-22T13:48:15.168Z"
   },
   {
    "duration": 8455,
    "start_time": "2024-09-22T13:51:01.290Z"
   },
   {
    "duration": 1504,
    "start_time": "2024-09-22T13:51:09.748Z"
   },
   {
    "duration": 1107,
    "start_time": "2024-09-22T13:51:11.253Z"
   },
   {
    "duration": 14,
    "start_time": "2024-09-22T13:51:12.362Z"
   },
   {
    "duration": 166,
    "start_time": "2024-09-22T13:51:12.378Z"
   },
   {
    "duration": 38,
    "start_time": "2024-09-22T13:51:12.545Z"
   },
   {
    "duration": 24,
    "start_time": "2024-09-22T13:51:12.584Z"
   },
   {
    "duration": 39,
    "start_time": "2024-09-22T13:51:12.621Z"
   },
   {
    "duration": 25,
    "start_time": "2024-09-22T13:51:12.662Z"
   },
   {
    "duration": 52,
    "start_time": "2024-09-22T13:51:12.688Z"
   },
   {
    "duration": 63,
    "start_time": "2024-09-22T13:51:12.742Z"
   },
   {
    "duration": 40,
    "start_time": "2024-09-22T13:51:12.807Z"
   },
   {
    "duration": 23,
    "start_time": "2024-09-22T13:51:12.848Z"
   },
   {
    "duration": 114,
    "start_time": "2024-09-22T13:51:12.874Z"
   },
   {
    "duration": 29,
    "start_time": "2024-09-22T13:51:12.990Z"
   },
   {
    "duration": 160,
    "start_time": "2024-09-22T13:51:13.021Z"
   },
   {
    "duration": 1432,
    "start_time": "2024-09-22T13:51:13.182Z"
   },
   {
    "duration": 34,
    "start_time": "2024-09-22T13:51:14.616Z"
   },
   {
    "duration": 29,
    "start_time": "2024-09-22T13:51:14.652Z"
   },
   {
    "duration": 14,
    "start_time": "2024-09-22T13:51:14.682Z"
   },
   {
    "duration": 42,
    "start_time": "2024-09-22T13:51:14.698Z"
   },
   {
    "duration": 72,
    "start_time": "2024-09-22T13:51:14.741Z"
   },
   {
    "duration": 6,
    "start_time": "2024-09-22T13:51:14.814Z"
   },
   {
    "duration": 17,
    "start_time": "2024-09-22T13:51:14.821Z"
   },
   {
    "duration": 2816,
    "start_time": "2024-09-22T13:51:14.839Z"
   },
   {
    "duration": 61,
    "start_time": "2024-09-22T13:51:17.657Z"
   },
   {
    "duration": 71,
    "start_time": "2024-09-22T13:51:17.719Z"
   },
   {
    "duration": 33,
    "start_time": "2024-09-22T13:51:17.792Z"
   },
   {
    "duration": 17,
    "start_time": "2024-09-22T13:51:17.827Z"
   },
   {
    "duration": 46,
    "start_time": "2024-09-22T13:51:17.845Z"
   },
   {
    "duration": 2452,
    "start_time": "2024-09-22T13:51:17.893Z"
   },
   {
    "duration": 1126,
    "start_time": "2024-09-22T13:51:20.347Z"
   },
   {
    "duration": 8,
    "start_time": "2024-09-22T13:51:21.475Z"
   },
   {
    "duration": 3446,
    "start_time": "2024-09-22T13:51:21.484Z"
   },
   {
    "duration": 10,
    "start_time": "2024-09-22T13:51:24.932Z"
   },
   {
    "duration": 64,
    "start_time": "2024-09-22T13:51:24.944Z"
   },
   {
    "duration": 3,
    "start_time": "2024-09-22T13:51:25.009Z"
   },
   {
    "duration": 4,
    "start_time": "2024-09-22T13:51:25.019Z"
   },
   {
    "duration": 767,
    "start_time": "2024-09-22T13:51:25.025Z"
   },
   {
    "duration": 5,
    "start_time": "2024-09-22T13:51:25.793Z"
   },
   {
    "duration": 9422,
    "start_time": "2024-09-22T13:51:25.801Z"
   },
   {
    "duration": 468810,
    "start_time": "2024-09-22T13:51:35.226Z"
   },
   {
    "duration": 8191,
    "start_time": "2024-09-22T13:59:24.037Z"
   },
   {
    "duration": 92,
    "start_time": "2024-09-22T13:59:32.230Z"
   },
   {
    "duration": 110,
    "start_time": "2024-09-22T13:59:32.323Z"
   },
   {
    "duration": 10,
    "start_time": "2024-09-22T13:59:32.435Z"
   },
   {
    "duration": 35,
    "start_time": "2024-09-22T13:59:32.446Z"
   },
   {
    "duration": 252,
    "start_time": "2024-09-22T13:59:32.483Z"
   },
   {
    "duration": 8351,
    "start_time": "2024-09-22T14:10:57.554Z"
   },
   {
    "duration": 1367,
    "start_time": "2024-09-22T14:11:05.908Z"
   },
   {
    "duration": 1133,
    "start_time": "2024-09-22T14:11:07.276Z"
   },
   {
    "duration": 14,
    "start_time": "2024-09-22T14:11:08.420Z"
   },
   {
    "duration": 171,
    "start_time": "2024-09-22T14:11:08.436Z"
   },
   {
    "duration": 41,
    "start_time": "2024-09-22T14:11:08.608Z"
   },
   {
    "duration": 29,
    "start_time": "2024-09-22T14:11:08.650Z"
   },
   {
    "duration": 51,
    "start_time": "2024-09-22T14:11:08.681Z"
   },
   {
    "duration": 28,
    "start_time": "2024-09-22T14:11:08.734Z"
   },
   {
    "duration": 59,
    "start_time": "2024-09-22T14:11:08.764Z"
   },
   {
    "duration": 83,
    "start_time": "2024-09-22T14:11:08.824Z"
   },
   {
    "duration": 39,
    "start_time": "2024-09-22T14:11:08.908Z"
   },
   {
    "duration": 25,
    "start_time": "2024-09-22T14:11:08.948Z"
   },
   {
    "duration": 107,
    "start_time": "2024-09-22T14:11:08.975Z"
   },
   {
    "duration": 28,
    "start_time": "2024-09-22T14:11:09.083Z"
   },
   {
    "duration": 146,
    "start_time": "2024-09-22T14:11:09.113Z"
   },
   {
    "duration": 1514,
    "start_time": "2024-09-22T14:11:09.261Z"
   },
   {
    "duration": 44,
    "start_time": "2024-09-22T14:11:10.777Z"
   },
   {
    "duration": 92,
    "start_time": "2024-09-22T14:11:10.823Z"
   },
   {
    "duration": 14,
    "start_time": "2024-09-22T14:11:10.916Z"
   },
   {
    "duration": 26,
    "start_time": "2024-09-22T14:11:10.932Z"
   },
   {
    "duration": 95,
    "start_time": "2024-09-22T14:11:10.960Z"
   },
   {
    "duration": 5,
    "start_time": "2024-09-22T14:11:11.057Z"
   },
   {
    "duration": 9,
    "start_time": "2024-09-22T14:11:11.063Z"
   },
   {
    "duration": 2819,
    "start_time": "2024-09-22T14:11:11.073Z"
   },
   {
    "duration": 62,
    "start_time": "2024-09-22T14:11:13.894Z"
   },
   {
    "duration": 80,
    "start_time": "2024-09-22T14:11:13.957Z"
   },
   {
    "duration": 23,
    "start_time": "2024-09-22T14:11:14.041Z"
   },
   {
    "duration": 17,
    "start_time": "2024-09-22T14:11:14.066Z"
   },
   {
    "duration": 64,
    "start_time": "2024-09-22T14:11:14.085Z"
   },
   {
    "duration": 2436,
    "start_time": "2024-09-22T14:11:14.150Z"
   },
   {
    "duration": 1136,
    "start_time": "2024-09-22T14:11:16.588Z"
   },
   {
    "duration": 7,
    "start_time": "2024-09-22T14:11:17.726Z"
   },
   {
    "duration": 3534,
    "start_time": "2024-09-22T14:11:17.735Z"
   },
   {
    "duration": 10,
    "start_time": "2024-09-22T14:11:21.271Z"
   },
   {
    "duration": 79,
    "start_time": "2024-09-22T14:11:21.283Z"
   },
   {
    "duration": 3,
    "start_time": "2024-09-22T14:11:21.363Z"
   },
   {
    "duration": 12,
    "start_time": "2024-09-22T14:11:21.368Z"
   },
   {
    "duration": 747,
    "start_time": "2024-09-22T14:11:21.382Z"
   },
   {
    "duration": 4,
    "start_time": "2024-09-22T14:11:22.131Z"
   },
   {
    "duration": 8486,
    "start_time": "2024-09-22T14:11:22.137Z"
   },
   {
    "duration": 676519,
    "start_time": "2024-09-22T14:11:30.625Z"
   },
   {
    "duration": 9377,
    "start_time": "2024-09-22T14:22:47.145Z"
   },
   {
    "duration": 97,
    "start_time": "2024-09-22T14:22:56.526Z"
   },
   {
    "duration": 68,
    "start_time": "2024-09-22T14:22:56.625Z"
   },
   {
    "duration": 9,
    "start_time": "2024-09-22T14:22:56.695Z"
   },
   {
    "duration": 25,
    "start_time": "2024-09-22T14:22:56.705Z"
   },
   {
    "duration": 306,
    "start_time": "2024-09-22T14:22:56.731Z"
   },
   {
    "duration": 29,
    "start_time": "2024-09-22T14:38:23.259Z"
   },
   {
    "duration": 5705,
    "start_time": "2024-09-22T14:38:23.416Z"
   },
   {
    "duration": 5,
    "start_time": "2024-09-22T14:38:29.124Z"
   },
   {
    "duration": 5901,
    "start_time": "2024-09-22T14:39:54.737Z"
   },
   {
    "duration": 87,
    "start_time": "2024-09-22T14:40:00.641Z"
   },
   {
    "duration": 122,
    "start_time": "2024-09-22T14:41:11.052Z"
   },
   {
    "duration": 5606,
    "start_time": "2024-09-22T14:41:11.226Z"
   },
   {
    "duration": 85,
    "start_time": "2024-09-22T14:41:16.836Z"
   },
   {
    "duration": 8,
    "start_time": "2024-09-22T14:41:16.924Z"
   },
   {
    "duration": 8408,
    "start_time": "2024-09-22T14:44:39.202Z"
   },
   {
    "duration": 1352,
    "start_time": "2024-09-22T14:44:47.613Z"
   },
   {
    "duration": 1095,
    "start_time": "2024-09-22T14:44:48.967Z"
   },
   {
    "duration": 14,
    "start_time": "2024-09-22T14:44:50.064Z"
   },
   {
    "duration": 166,
    "start_time": "2024-09-22T14:44:50.081Z"
   },
   {
    "duration": 38,
    "start_time": "2024-09-22T14:44:50.249Z"
   },
   {
    "duration": 42,
    "start_time": "2024-09-22T14:44:50.289Z"
   },
   {
    "duration": 39,
    "start_time": "2024-09-22T14:44:50.333Z"
   },
   {
    "duration": 33,
    "start_time": "2024-09-22T14:44:50.374Z"
   },
   {
    "duration": 46,
    "start_time": "2024-09-22T14:44:50.409Z"
   },
   {
    "duration": 49,
    "start_time": "2024-09-22T14:44:50.457Z"
   },
   {
    "duration": 45,
    "start_time": "2024-09-22T14:44:50.508Z"
   },
   {
    "duration": 31,
    "start_time": "2024-09-22T14:44:50.554Z"
   },
   {
    "duration": 58,
    "start_time": "2024-09-22T14:44:50.590Z"
   },
   {
    "duration": 27,
    "start_time": "2024-09-22T14:44:50.650Z"
   },
   {
    "duration": 163,
    "start_time": "2024-09-22T14:44:50.679Z"
   },
   {
    "duration": 1493,
    "start_time": "2024-09-22T14:44:50.843Z"
   },
   {
    "duration": 34,
    "start_time": "2024-09-22T14:44:52.338Z"
   },
   {
    "duration": 49,
    "start_time": "2024-09-22T14:44:52.374Z"
   },
   {
    "duration": 14,
    "start_time": "2024-09-22T14:44:52.425Z"
   },
   {
    "duration": 35,
    "start_time": "2024-09-22T14:44:52.440Z"
   },
   {
    "duration": 29,
    "start_time": "2024-09-22T14:44:52.476Z"
   },
   {
    "duration": 9,
    "start_time": "2024-09-22T14:44:52.507Z"
   },
   {
    "duration": 9,
    "start_time": "2024-09-22T14:44:52.517Z"
   },
   {
    "duration": 2815,
    "start_time": "2024-09-22T14:44:52.528Z"
   },
   {
    "duration": 63,
    "start_time": "2024-09-22T14:44:55.345Z"
   },
   {
    "duration": 72,
    "start_time": "2024-09-22T14:44:55.409Z"
   },
   {
    "duration": 23,
    "start_time": "2024-09-22T14:44:55.482Z"
   },
   {
    "duration": 27,
    "start_time": "2024-09-22T14:44:55.507Z"
   },
   {
    "duration": 75,
    "start_time": "2024-09-22T14:44:55.536Z"
   },
   {
    "duration": 2463,
    "start_time": "2024-09-22T14:44:55.613Z"
   },
   {
    "duration": 1113,
    "start_time": "2024-09-22T14:44:58.078Z"
   },
   {
    "duration": 6,
    "start_time": "2024-09-22T14:44:59.193Z"
   },
   {
    "duration": 3559,
    "start_time": "2024-09-22T14:44:59.201Z"
   },
   {
    "duration": 12,
    "start_time": "2024-09-22T14:45:02.761Z"
   },
   {
    "duration": 103,
    "start_time": "2024-09-22T14:45:02.775Z"
   },
   {
    "duration": 4,
    "start_time": "2024-09-22T14:45:02.880Z"
   },
   {
    "duration": 14,
    "start_time": "2024-09-22T14:45:02.886Z"
   },
   {
    "duration": 802,
    "start_time": "2024-09-22T14:45:02.902Z"
   },
   {
    "duration": 5,
    "start_time": "2024-09-22T14:45:03.705Z"
   },
   {
    "duration": 7505,
    "start_time": "2024-09-22T14:45:03.720Z"
   },
   {
    "duration": 538903,
    "start_time": "2024-09-22T14:45:11.228Z"
   },
   {
    "duration": 24,
    "start_time": "2024-09-22T14:54:10.133Z"
   },
   {
    "duration": 5467,
    "start_time": "2024-09-22T14:54:10.159Z"
   },
   {
    "duration": 93,
    "start_time": "2024-09-22T14:54:15.628Z"
   },
   {
    "duration": 10,
    "start_time": "2024-09-22T14:54:15.723Z"
   },
   {
    "duration": 111,
    "start_time": "2024-09-22T14:54:15.735Z"
   },
   {
    "duration": 8,
    "start_time": "2024-09-22T14:54:15.848Z"
   },
   {
    "duration": 15,
    "start_time": "2024-09-22T14:54:15.857Z"
   },
   {
    "duration": 261,
    "start_time": "2024-09-22T14:54:15.874Z"
   },
   {
    "duration": 246,
    "start_time": "2024-09-22T14:55:49.980Z"
   },
   {
    "duration": 11866,
    "start_time": "2024-09-23T10:02:39.709Z"
   },
   {
    "duration": 1335,
    "start_time": "2024-09-23T10:02:51.577Z"
   },
   {
    "duration": 2818,
    "start_time": "2024-09-23T10:02:52.913Z"
   },
   {
    "duration": 11,
    "start_time": "2024-09-23T10:02:55.732Z"
   },
   {
    "duration": 215,
    "start_time": "2024-09-23T10:02:55.745Z"
   },
   {
    "duration": 31,
    "start_time": "2024-09-23T10:02:55.961Z"
   },
   {
    "duration": 30,
    "start_time": "2024-09-23T10:02:55.993Z"
   },
   {
    "duration": 32,
    "start_time": "2024-09-23T10:02:56.024Z"
   },
   {
    "duration": 27,
    "start_time": "2024-09-23T10:02:56.057Z"
   },
   {
    "duration": 36,
    "start_time": "2024-09-23T10:02:56.086Z"
   },
   {
    "duration": 26,
    "start_time": "2024-09-23T10:02:56.123Z"
   },
   {
    "duration": 38,
    "start_time": "2024-09-23T10:02:56.151Z"
   },
   {
    "duration": 22,
    "start_time": "2024-09-23T10:02:56.190Z"
   },
   {
    "duration": 42,
    "start_time": "2024-09-23T10:02:56.214Z"
   },
   {
    "duration": 53,
    "start_time": "2024-09-23T10:02:56.258Z"
   },
   {
    "duration": 132,
    "start_time": "2024-09-23T10:02:56.313Z"
   },
   {
    "duration": 1097,
    "start_time": "2024-09-23T10:02:56.446Z"
   },
   {
    "duration": 26,
    "start_time": "2024-09-23T10:02:57.544Z"
   },
   {
    "duration": 36,
    "start_time": "2024-09-23T10:02:57.571Z"
   },
   {
    "duration": 15,
    "start_time": "2024-09-23T10:02:57.608Z"
   },
   {
    "duration": 24,
    "start_time": "2024-09-23T10:02:57.625Z"
   },
   {
    "duration": 8,
    "start_time": "2024-09-23T10:02:57.651Z"
   },
   {
    "duration": 4,
    "start_time": "2024-09-23T10:02:57.661Z"
   },
   {
    "duration": 6,
    "start_time": "2024-09-23T10:02:57.666Z"
   },
   {
    "duration": 2080,
    "start_time": "2024-09-23T10:02:57.673Z"
   },
   {
    "duration": 53,
    "start_time": "2024-09-23T10:02:59.754Z"
   },
   {
    "duration": 214,
    "start_time": "2024-09-23T10:02:59.808Z"
   },
   {
    "duration": 21,
    "start_time": "2024-09-23T10:03:00.024Z"
   },
   {
    "duration": 47,
    "start_time": "2024-09-23T10:03:00.046Z"
   },
   {
    "duration": 53,
    "start_time": "2024-09-23T10:03:00.094Z"
   },
   {
    "duration": 1772,
    "start_time": "2024-09-23T10:03:00.149Z"
   },
   {
    "duration": 912,
    "start_time": "2024-09-23T10:03:01.922Z"
   },
   {
    "duration": 6,
    "start_time": "2024-09-23T10:03:02.835Z"
   },
   {
    "duration": 2784,
    "start_time": "2024-09-23T10:03:02.842Z"
   },
   {
    "duration": 7,
    "start_time": "2024-09-23T10:03:05.628Z"
   },
   {
    "duration": 100,
    "start_time": "2024-09-23T10:03:05.636Z"
   },
   {
    "duration": 2,
    "start_time": "2024-09-23T10:03:05.738Z"
   },
   {
    "duration": 172,
    "start_time": "2024-09-23T10:03:05.741Z"
   },
   {
    "duration": 628,
    "start_time": "2024-09-23T10:03:05.914Z"
   },
   {
    "duration": 3,
    "start_time": "2024-09-23T10:03:06.544Z"
   },
   {
    "duration": 3080370,
    "start_time": "2024-09-23T10:03:06.550Z"
   },
   {
    "duration": 0,
    "start_time": "2024-09-23T10:54:26.922Z"
   },
   {
    "duration": 0,
    "start_time": "2024-09-23T10:54:26.923Z"
   },
   {
    "duration": 0,
    "start_time": "2024-09-23T10:54:26.924Z"
   },
   {
    "duration": 0,
    "start_time": "2024-09-23T10:54:26.925Z"
   },
   {
    "duration": 0,
    "start_time": "2024-09-23T10:54:26.926Z"
   },
   {
    "duration": 0,
    "start_time": "2024-09-23T10:54:26.927Z"
   },
   {
    "duration": 0,
    "start_time": "2024-09-23T10:54:26.928Z"
   },
   {
    "duration": 0,
    "start_time": "2024-09-23T10:54:26.929Z"
   },
   {
    "duration": 8447,
    "start_time": "2024-09-23T10:55:05.106Z"
   },
   {
    "duration": 1210,
    "start_time": "2024-09-23T10:55:13.555Z"
   },
   {
    "duration": 851,
    "start_time": "2024-09-23T10:55:14.767Z"
   },
   {
    "duration": 11,
    "start_time": "2024-09-23T10:55:15.619Z"
   },
   {
    "duration": 197,
    "start_time": "2024-09-23T10:55:15.632Z"
   },
   {
    "duration": 27,
    "start_time": "2024-09-23T10:55:15.830Z"
   },
   {
    "duration": 20,
    "start_time": "2024-09-23T10:55:15.859Z"
   },
   {
    "duration": 37,
    "start_time": "2024-09-23T10:55:15.880Z"
   },
   {
    "duration": 173,
    "start_time": "2024-09-23T10:55:15.918Z"
   },
   {
    "duration": 51,
    "start_time": "2024-09-23T10:55:16.093Z"
   },
   {
    "duration": 58,
    "start_time": "2024-09-23T10:55:16.145Z"
   },
   {
    "duration": 42,
    "start_time": "2024-09-23T10:55:16.204Z"
   },
   {
    "duration": 32,
    "start_time": "2024-09-23T10:55:16.247Z"
   },
   {
    "duration": 43,
    "start_time": "2024-09-23T10:55:16.282Z"
   },
   {
    "duration": 24,
    "start_time": "2024-09-23T10:55:16.327Z"
   },
   {
    "duration": 136,
    "start_time": "2024-09-23T10:55:16.352Z"
   },
   {
    "duration": 1211,
    "start_time": "2024-09-23T10:55:16.489Z"
   },
   {
    "duration": 35,
    "start_time": "2024-09-23T10:55:17.701Z"
   },
   {
    "duration": 31,
    "start_time": "2024-09-23T10:55:17.738Z"
   },
   {
    "duration": 17,
    "start_time": "2024-09-23T10:55:17.771Z"
   },
   {
    "duration": 25,
    "start_time": "2024-09-23T10:55:17.789Z"
   },
   {
    "duration": 30,
    "start_time": "2024-09-23T10:55:17.816Z"
   },
   {
    "duration": 5,
    "start_time": "2024-09-23T10:55:17.847Z"
   },
   {
    "duration": 8,
    "start_time": "2024-09-23T10:55:17.854Z"
   },
   {
    "duration": 2214,
    "start_time": "2024-09-23T10:55:17.863Z"
   },
   {
    "duration": 57,
    "start_time": "2024-09-23T10:55:20.079Z"
   },
   {
    "duration": 72,
    "start_time": "2024-09-23T10:55:20.138Z"
   },
   {
    "duration": 22,
    "start_time": "2024-09-23T10:55:20.212Z"
   },
   {
    "duration": 16,
    "start_time": "2024-09-23T10:55:20.235Z"
   },
   {
    "duration": 60,
    "start_time": "2024-09-23T10:55:20.252Z"
   },
   {
    "duration": 1874,
    "start_time": "2024-09-23T10:55:20.314Z"
   },
   {
    "duration": 899,
    "start_time": "2024-09-23T10:55:22.190Z"
   },
   {
    "duration": 6,
    "start_time": "2024-09-23T10:55:23.090Z"
   },
   {
    "duration": 3092,
    "start_time": "2024-09-23T10:55:23.097Z"
   },
   {
    "duration": 8,
    "start_time": "2024-09-23T10:55:26.190Z"
   },
   {
    "duration": 65,
    "start_time": "2024-09-23T10:55:26.200Z"
   },
   {
    "duration": 2,
    "start_time": "2024-09-23T10:55:26.266Z"
   },
   {
    "duration": 9,
    "start_time": "2024-09-23T10:55:26.269Z"
   },
   {
    "duration": 600,
    "start_time": "2024-09-23T10:55:26.279Z"
   },
   {
    "duration": 3,
    "start_time": "2024-09-23T10:55:26.881Z"
   },
   {
    "duration": 1533521,
    "start_time": "2024-09-23T10:55:26.888Z"
   },
   {
    "duration": 0,
    "start_time": "2024-09-23T11:21:00.410Z"
   },
   {
    "duration": 0,
    "start_time": "2024-09-23T11:21:00.411Z"
   },
   {
    "duration": 0,
    "start_time": "2024-09-23T11:21:00.412Z"
   },
   {
    "duration": 8566,
    "start_time": "2024-09-23T11:21:47.969Z"
   },
   {
    "duration": 1606,
    "start_time": "2024-09-23T11:21:56.537Z"
   },
   {
    "duration": 841,
    "start_time": "2024-09-23T11:21:58.145Z"
   },
   {
    "duration": 12,
    "start_time": "2024-09-23T11:21:58.987Z"
   },
   {
    "duration": 127,
    "start_time": "2024-09-23T11:21:59.001Z"
   },
   {
    "duration": 29,
    "start_time": "2024-09-23T11:21:59.129Z"
   },
   {
    "duration": 23,
    "start_time": "2024-09-23T11:21:59.160Z"
   },
   {
    "duration": 55,
    "start_time": "2024-09-23T11:21:59.185Z"
   },
   {
    "duration": 26,
    "start_time": "2024-09-23T11:21:59.242Z"
   },
   {
    "duration": 39,
    "start_time": "2024-09-23T11:21:59.269Z"
   },
   {
    "duration": 20,
    "start_time": "2024-09-23T11:21:59.309Z"
   },
   {
    "duration": 33,
    "start_time": "2024-09-23T11:21:59.330Z"
   },
   {
    "duration": 24,
    "start_time": "2024-09-23T11:21:59.364Z"
   },
   {
    "duration": 41,
    "start_time": "2024-09-23T11:21:59.391Z"
   },
   {
    "duration": 29,
    "start_time": "2024-09-23T11:21:59.433Z"
   },
   {
    "duration": 163,
    "start_time": "2024-09-23T11:21:59.464Z"
   },
   {
    "duration": 1136,
    "start_time": "2024-09-23T11:21:59.628Z"
   },
   {
    "duration": 28,
    "start_time": "2024-09-23T11:22:00.766Z"
   },
   {
    "duration": 34,
    "start_time": "2024-09-23T11:22:00.796Z"
   },
   {
    "duration": 12,
    "start_time": "2024-09-23T11:22:00.832Z"
   },
   {
    "duration": 40,
    "start_time": "2024-09-23T11:22:00.846Z"
   },
   {
    "duration": 34,
    "start_time": "2024-09-23T11:22:00.887Z"
   },
   {
    "duration": 12,
    "start_time": "2024-09-23T11:22:00.923Z"
   },
   {
    "duration": 5,
    "start_time": "2024-09-23T11:22:00.936Z"
   },
   {
    "duration": 2235,
    "start_time": "2024-09-23T11:22:00.942Z"
   },
   {
    "duration": 58,
    "start_time": "2024-09-23T11:22:03.179Z"
   },
   {
    "duration": 71,
    "start_time": "2024-09-23T11:22:03.238Z"
   },
   {
    "duration": 22,
    "start_time": "2024-09-23T11:22:03.310Z"
   },
   {
    "duration": 16,
    "start_time": "2024-09-23T11:22:03.333Z"
   },
   {
    "duration": 56,
    "start_time": "2024-09-23T11:22:03.351Z"
   },
   {
    "duration": 1927,
    "start_time": "2024-09-23T11:22:03.408Z"
   },
   {
    "duration": 1555,
    "start_time": "2024-09-23T11:22:05.336Z"
   },
   {
    "duration": 6,
    "start_time": "2024-09-23T11:22:06.892Z"
   },
   {
    "duration": 2981,
    "start_time": "2024-09-23T11:22:06.906Z"
   },
   {
    "duration": 10,
    "start_time": "2024-09-23T11:22:09.888Z"
   },
   {
    "duration": 63,
    "start_time": "2024-09-23T11:22:09.899Z"
   },
   {
    "duration": 2,
    "start_time": "2024-09-23T11:22:09.964Z"
   },
   {
    "duration": 23,
    "start_time": "2024-09-23T11:22:09.967Z"
   },
   {
    "duration": 692,
    "start_time": "2024-09-23T11:22:09.992Z"
   },
   {
    "duration": 4,
    "start_time": "2024-09-23T11:22:10.685Z"
   },
   {
    "duration": 718611,
    "start_time": "2024-09-23T11:22:10.692Z"
   },
   {
    "duration": 0,
    "start_time": "2024-09-23T11:34:09.304Z"
   },
   {
    "duration": 0,
    "start_time": "2024-09-23T11:34:09.306Z"
   },
   {
    "duration": 8693,
    "start_time": "2024-09-23T11:35:18.399Z"
   },
   {
    "duration": 1278,
    "start_time": "2024-09-23T11:35:27.094Z"
   },
   {
    "duration": 857,
    "start_time": "2024-09-23T11:35:28.373Z"
   },
   {
    "duration": 13,
    "start_time": "2024-09-23T11:35:29.232Z"
   },
   {
    "duration": 126,
    "start_time": "2024-09-23T11:35:29.247Z"
   },
   {
    "duration": 38,
    "start_time": "2024-09-23T11:35:29.374Z"
   },
   {
    "duration": 22,
    "start_time": "2024-09-23T11:35:29.413Z"
   },
   {
    "duration": 35,
    "start_time": "2024-09-23T11:35:29.437Z"
   },
   {
    "duration": 39,
    "start_time": "2024-09-23T11:35:29.473Z"
   },
   {
    "duration": 62,
    "start_time": "2024-09-23T11:35:29.514Z"
   },
   {
    "duration": 37,
    "start_time": "2024-09-23T11:35:29.578Z"
   },
   {
    "duration": 30,
    "start_time": "2024-09-23T11:35:29.616Z"
   },
   {
    "duration": 28,
    "start_time": "2024-09-23T11:35:29.647Z"
   },
   {
    "duration": 51,
    "start_time": "2024-09-23T11:35:29.679Z"
   },
   {
    "duration": 27,
    "start_time": "2024-09-23T11:35:29.732Z"
   },
   {
    "duration": 111,
    "start_time": "2024-09-23T11:35:29.761Z"
   },
   {
    "duration": 1233,
    "start_time": "2024-09-23T11:35:29.874Z"
   },
   {
    "duration": 28,
    "start_time": "2024-09-23T11:35:31.109Z"
   },
   {
    "duration": 23,
    "start_time": "2024-09-23T11:35:31.138Z"
   },
   {
    "duration": 18,
    "start_time": "2024-09-23T11:35:31.163Z"
   },
   {
    "duration": 46,
    "start_time": "2024-09-23T11:35:31.182Z"
   },
   {
    "duration": 17,
    "start_time": "2024-09-23T11:35:31.230Z"
   },
   {
    "duration": 22,
    "start_time": "2024-09-23T11:35:31.249Z"
   },
   {
    "duration": 29,
    "start_time": "2024-09-23T11:35:31.273Z"
   },
   {
    "duration": 2294,
    "start_time": "2024-09-23T11:35:31.303Z"
   },
   {
    "duration": 58,
    "start_time": "2024-09-23T11:35:33.599Z"
   },
   {
    "duration": 69,
    "start_time": "2024-09-23T11:35:33.659Z"
   },
   {
    "duration": 21,
    "start_time": "2024-09-23T11:35:33.730Z"
   },
   {
    "duration": 17,
    "start_time": "2024-09-23T11:35:33.752Z"
   },
   {
    "duration": 98,
    "start_time": "2024-09-23T11:35:33.771Z"
   },
   {
    "duration": 2008,
    "start_time": "2024-09-23T11:35:33.871Z"
   },
   {
    "duration": 945,
    "start_time": "2024-09-23T11:35:35.880Z"
   },
   {
    "duration": 8,
    "start_time": "2024-09-23T11:35:36.826Z"
   },
   {
    "duration": 2922,
    "start_time": "2024-09-23T11:35:36.836Z"
   },
   {
    "duration": 9,
    "start_time": "2024-09-23T11:35:39.759Z"
   },
   {
    "duration": 66,
    "start_time": "2024-09-23T11:35:39.770Z"
   },
   {
    "duration": 13,
    "start_time": "2024-09-23T11:35:39.837Z"
   },
   {
    "duration": 5,
    "start_time": "2024-09-23T11:35:39.852Z"
   },
   {
    "duration": 606,
    "start_time": "2024-09-23T11:35:39.858Z"
   },
   {
    "duration": 3,
    "start_time": "2024-09-23T11:35:40.465Z"
   },
   {
    "duration": 8596,
    "start_time": "2024-09-23T11:49:12.070Z"
   },
   {
    "duration": 1198,
    "start_time": "2024-09-23T11:49:20.668Z"
   },
   {
    "duration": 949,
    "start_time": "2024-09-23T11:49:21.867Z"
   },
   {
    "duration": 11,
    "start_time": "2024-09-23T11:49:22.822Z"
   },
   {
    "duration": 128,
    "start_time": "2024-09-23T11:49:22.835Z"
   },
   {
    "duration": 29,
    "start_time": "2024-09-23T11:49:22.964Z"
   },
   {
    "duration": 26,
    "start_time": "2024-09-23T11:49:22.995Z"
   },
   {
    "duration": 39,
    "start_time": "2024-09-23T11:49:23.023Z"
   },
   {
    "duration": 23,
    "start_time": "2024-09-23T11:49:23.064Z"
   },
   {
    "duration": 39,
    "start_time": "2024-09-23T11:49:23.090Z"
   },
   {
    "duration": 20,
    "start_time": "2024-09-23T11:49:23.130Z"
   },
   {
    "duration": 34,
    "start_time": "2024-09-23T11:49:23.152Z"
   },
   {
    "duration": 46,
    "start_time": "2024-09-23T11:49:23.187Z"
   },
   {
    "duration": 53,
    "start_time": "2024-09-23T11:49:23.234Z"
   },
   {
    "duration": 29,
    "start_time": "2024-09-23T11:49:23.288Z"
   },
   {
    "duration": 112,
    "start_time": "2024-09-23T11:49:23.318Z"
   },
   {
    "duration": 1288,
    "start_time": "2024-09-23T11:49:23.432Z"
   },
   {
    "duration": 29,
    "start_time": "2024-09-23T11:49:24.722Z"
   },
   {
    "duration": 27,
    "start_time": "2024-09-23T11:49:24.753Z"
   },
   {
    "duration": 14,
    "start_time": "2024-09-23T11:49:24.781Z"
   },
   {
    "duration": 36,
    "start_time": "2024-09-23T11:49:24.796Z"
   },
   {
    "duration": 9,
    "start_time": "2024-09-23T11:49:24.833Z"
   },
   {
    "duration": 42,
    "start_time": "2024-09-23T11:49:24.843Z"
   },
   {
    "duration": 11,
    "start_time": "2024-09-23T11:49:24.886Z"
   },
   {
    "duration": 2287,
    "start_time": "2024-09-23T11:49:24.898Z"
   },
   {
    "duration": 63,
    "start_time": "2024-09-23T11:49:27.187Z"
   },
   {
    "duration": 89,
    "start_time": "2024-09-23T11:49:27.252Z"
   },
   {
    "duration": 22,
    "start_time": "2024-09-23T11:49:27.345Z"
   },
   {
    "duration": 26,
    "start_time": "2024-09-23T11:49:27.368Z"
   },
   {
    "duration": 64,
    "start_time": "2024-09-23T11:49:27.396Z"
   },
   {
    "duration": 2020,
    "start_time": "2024-09-23T11:49:27.461Z"
   },
   {
    "duration": 947,
    "start_time": "2024-09-23T11:49:29.482Z"
   },
   {
    "duration": 6,
    "start_time": "2024-09-23T11:49:30.430Z"
   },
   {
    "duration": 3095,
    "start_time": "2024-09-23T11:49:30.438Z"
   },
   {
    "duration": 9,
    "start_time": "2024-09-23T11:49:33.534Z"
   },
   {
    "duration": 115,
    "start_time": "2024-09-23T11:49:33.544Z"
   },
   {
    "duration": 3,
    "start_time": "2024-09-23T11:49:33.660Z"
   },
   {
    "duration": 31,
    "start_time": "2024-09-23T11:49:33.664Z"
   },
   {
    "duration": 624,
    "start_time": "2024-09-23T11:49:33.697Z"
   },
   {
    "duration": 3,
    "start_time": "2024-09-23T11:49:34.323Z"
   },
   {
    "duration": 380794,
    "start_time": "2024-09-23T11:49:34.328Z"
   },
   {
    "duration": 0,
    "start_time": "2024-09-23T11:55:55.124Z"
   },
   {
    "duration": 0,
    "start_time": "2024-09-23T11:55:55.126Z"
   },
   {
    "duration": 0,
    "start_time": "2024-09-23T11:55:55.127Z"
   },
   {
    "duration": 8151,
    "start_time": "2024-09-23T11:56:18.666Z"
   },
   {
    "duration": 1201,
    "start_time": "2024-09-23T11:56:26.820Z"
   },
   {
    "duration": 901,
    "start_time": "2024-09-23T11:56:28.023Z"
   },
   {
    "duration": 12,
    "start_time": "2024-09-23T11:56:28.926Z"
   },
   {
    "duration": 107,
    "start_time": "2024-09-23T11:56:28.939Z"
   },
   {
    "duration": 27,
    "start_time": "2024-09-23T11:56:29.048Z"
   },
   {
    "duration": 30,
    "start_time": "2024-09-23T11:56:29.077Z"
   },
   {
    "duration": 33,
    "start_time": "2024-09-23T11:56:29.109Z"
   },
   {
    "duration": 20,
    "start_time": "2024-09-23T11:56:29.144Z"
   },
   {
    "duration": 39,
    "start_time": "2024-09-23T11:56:29.165Z"
   },
   {
    "duration": 37,
    "start_time": "2024-09-23T11:56:29.205Z"
   },
   {
    "duration": 34,
    "start_time": "2024-09-23T11:56:29.244Z"
   },
   {
    "duration": 48,
    "start_time": "2024-09-23T11:56:29.279Z"
   },
   {
    "duration": 27,
    "start_time": "2024-09-23T11:56:29.329Z"
   },
   {
    "duration": 134,
    "start_time": "2024-09-23T11:56:29.358Z"
   },
   {
    "duration": 112,
    "start_time": "2024-09-23T11:56:29.493Z"
   },
   {
    "duration": 1184,
    "start_time": "2024-09-23T11:56:29.607Z"
   },
   {
    "duration": 35,
    "start_time": "2024-09-23T11:56:30.792Z"
   },
   {
    "duration": 21,
    "start_time": "2024-09-23T11:56:30.828Z"
   },
   {
    "duration": 75,
    "start_time": "2024-09-23T11:56:30.850Z"
   },
   {
    "duration": 123,
    "start_time": "2024-09-23T11:56:30.927Z"
   },
   {
    "duration": 46,
    "start_time": "2024-09-23T11:56:31.051Z"
   },
   {
    "duration": 21,
    "start_time": "2024-09-23T11:56:31.098Z"
   },
   {
    "duration": 35,
    "start_time": "2024-09-23T11:56:31.120Z"
   },
   {
    "duration": 2317,
    "start_time": "2024-09-23T11:56:31.156Z"
   },
   {
    "duration": 58,
    "start_time": "2024-09-23T11:56:33.475Z"
   },
   {
    "duration": 65,
    "start_time": "2024-09-23T11:56:33.534Z"
   },
   {
    "duration": 57,
    "start_time": "2024-09-23T11:56:33.607Z"
   },
   {
    "duration": 29,
    "start_time": "2024-09-23T11:56:33.665Z"
   },
   {
    "duration": 75,
    "start_time": "2024-09-23T11:56:33.696Z"
   },
   {
    "duration": 1905,
    "start_time": "2024-09-23T11:56:33.772Z"
   },
   {
    "duration": 910,
    "start_time": "2024-09-23T11:56:35.678Z"
   },
   {
    "duration": 6,
    "start_time": "2024-09-23T11:56:36.589Z"
   },
   {
    "duration": 3088,
    "start_time": "2024-09-23T11:56:36.596Z"
   },
   {
    "duration": 8,
    "start_time": "2024-09-23T11:56:39.686Z"
   },
   {
    "duration": 49,
    "start_time": "2024-09-23T11:56:39.696Z"
   },
   {
    "duration": 3,
    "start_time": "2024-09-23T11:56:39.746Z"
   },
   {
    "duration": 8,
    "start_time": "2024-09-23T11:56:39.750Z"
   },
   {
    "duration": 594,
    "start_time": "2024-09-23T11:56:39.759Z"
   },
   {
    "duration": 4,
    "start_time": "2024-09-23T11:56:40.354Z"
   },
   {
    "duration": 202687,
    "start_time": "2024-09-23T11:56:58.724Z"
   },
   {
    "duration": 18,
    "start_time": "2024-09-23T12:02:37.021Z"
   },
   {
    "duration": 238,
    "start_time": "2024-09-23T12:02:37.386Z"
   },
   {
    "duration": 8043,
    "start_time": "2024-09-23T12:04:04.659Z"
   },
   {
    "duration": 1240,
    "start_time": "2024-09-23T12:04:12.703Z"
   },
   {
    "duration": 792,
    "start_time": "2024-09-23T12:04:13.944Z"
   },
   {
    "duration": 10,
    "start_time": "2024-09-23T12:04:14.737Z"
   },
   {
    "duration": 105,
    "start_time": "2024-09-23T12:04:14.749Z"
   },
   {
    "duration": 26,
    "start_time": "2024-09-23T12:04:14.856Z"
   },
   {
    "duration": 42,
    "start_time": "2024-09-23T12:04:14.883Z"
   },
   {
    "duration": 31,
    "start_time": "2024-09-23T12:04:14.927Z"
   },
   {
    "duration": 22,
    "start_time": "2024-09-23T12:04:14.959Z"
   },
   {
    "duration": 36,
    "start_time": "2024-09-23T12:04:14.982Z"
   },
   {
    "duration": 68,
    "start_time": "2024-09-23T12:04:15.020Z"
   },
   {
    "duration": 55,
    "start_time": "2024-09-23T12:04:15.089Z"
   },
   {
    "duration": 56,
    "start_time": "2024-09-23T12:04:15.145Z"
   },
   {
    "duration": 32,
    "start_time": "2024-09-23T12:04:15.204Z"
   },
   {
    "duration": 66,
    "start_time": "2024-09-23T12:04:15.238Z"
   },
   {
    "duration": 100,
    "start_time": "2024-09-23T12:04:15.305Z"
   },
   {
    "duration": 1103,
    "start_time": "2024-09-23T12:04:15.406Z"
   },
   {
    "duration": 25,
    "start_time": "2024-09-23T12:04:16.511Z"
   },
   {
    "duration": 21,
    "start_time": "2024-09-23T12:04:16.537Z"
   },
   {
    "duration": 88,
    "start_time": "2024-09-23T12:04:16.559Z"
   },
   {
    "duration": 22,
    "start_time": "2024-09-23T12:04:16.648Z"
   },
   {
    "duration": 56,
    "start_time": "2024-09-23T12:04:16.671Z"
   },
   {
    "duration": 4,
    "start_time": "2024-09-23T12:04:16.729Z"
   },
   {
    "duration": 6,
    "start_time": "2024-09-23T12:04:16.735Z"
   },
   {
    "duration": 2063,
    "start_time": "2024-09-23T12:04:16.742Z"
   },
   {
    "duration": 56,
    "start_time": "2024-09-23T12:04:18.807Z"
   },
   {
    "duration": 73,
    "start_time": "2024-09-23T12:04:18.864Z"
   },
   {
    "duration": 20,
    "start_time": "2024-09-23T12:04:18.938Z"
   },
   {
    "duration": 16,
    "start_time": "2024-09-23T12:04:18.959Z"
   },
   {
    "duration": 58,
    "start_time": "2024-09-23T12:04:18.976Z"
   },
   {
    "duration": 1812,
    "start_time": "2024-09-23T12:04:19.036Z"
   },
   {
    "duration": 837,
    "start_time": "2024-09-23T12:04:20.850Z"
   },
   {
    "duration": 6,
    "start_time": "2024-09-23T12:04:21.688Z"
   },
   {
    "duration": 2745,
    "start_time": "2024-09-23T12:04:21.696Z"
   },
   {
    "duration": 8,
    "start_time": "2024-09-23T12:04:24.443Z"
   },
   {
    "duration": 67,
    "start_time": "2024-09-23T12:04:24.452Z"
   },
   {
    "duration": 2,
    "start_time": "2024-09-23T12:04:24.520Z"
   },
   {
    "duration": 7,
    "start_time": "2024-09-23T12:04:24.523Z"
   },
   {
    "duration": 576,
    "start_time": "2024-09-23T12:04:24.531Z"
   },
   {
    "duration": 3,
    "start_time": "2024-09-23T12:04:25.108Z"
   },
   {
    "duration": 4,
    "start_time": "2024-09-23T12:38:02.610Z"
   },
   {
    "duration": 2,
    "start_time": "2024-09-23T12:38:16.773Z"
   },
   {
    "duration": 8801,
    "start_time": "2024-09-23T12:44:44.656Z"
   },
   {
    "duration": 1147,
    "start_time": "2024-09-23T12:44:53.460Z"
   },
   {
    "duration": 844,
    "start_time": "2024-09-23T12:44:54.617Z"
   },
   {
    "duration": 11,
    "start_time": "2024-09-23T12:44:55.463Z"
   },
   {
    "duration": 121,
    "start_time": "2024-09-23T12:44:55.476Z"
   },
   {
    "duration": 37,
    "start_time": "2024-09-23T12:44:55.599Z"
   },
   {
    "duration": 17,
    "start_time": "2024-09-23T12:44:55.638Z"
   },
   {
    "duration": 29,
    "start_time": "2024-09-23T12:44:55.657Z"
   },
   {
    "duration": 37,
    "start_time": "2024-09-23T12:44:55.687Z"
   },
   {
    "duration": 101,
    "start_time": "2024-09-23T12:44:55.725Z"
   },
   {
    "duration": 15,
    "start_time": "2024-09-23T12:44:55.827Z"
   },
   {
    "duration": 31,
    "start_time": "2024-09-23T12:44:55.843Z"
   },
   {
    "duration": 22,
    "start_time": "2024-09-23T12:44:55.876Z"
   },
   {
    "duration": 33,
    "start_time": "2024-09-23T12:44:55.901Z"
   },
   {
    "duration": 17,
    "start_time": "2024-09-23T12:44:55.935Z"
   },
   {
    "duration": 102,
    "start_time": "2024-09-23T12:44:55.953Z"
   },
   {
    "duration": 1132,
    "start_time": "2024-09-23T12:44:56.057Z"
   },
   {
    "duration": 31,
    "start_time": "2024-09-23T12:44:57.191Z"
   },
   {
    "duration": 20,
    "start_time": "2024-09-23T12:44:57.223Z"
   },
   {
    "duration": 27,
    "start_time": "2024-09-23T12:44:57.244Z"
   },
   {
    "duration": 26,
    "start_time": "2024-09-23T12:44:57.273Z"
   },
   {
    "duration": 29,
    "start_time": "2024-09-23T12:44:57.301Z"
   },
   {
    "duration": 6,
    "start_time": "2024-09-23T12:44:57.332Z"
   },
   {
    "duration": 14,
    "start_time": "2024-09-23T12:44:57.340Z"
   },
   {
    "duration": 2090,
    "start_time": "2024-09-23T12:44:57.355Z"
   },
   {
    "duration": 51,
    "start_time": "2024-09-23T12:44:59.446Z"
   },
   {
    "duration": 68,
    "start_time": "2024-09-23T12:44:59.498Z"
   },
   {
    "duration": 20,
    "start_time": "2024-09-23T12:44:59.567Z"
   },
   {
    "duration": 19,
    "start_time": "2024-09-23T12:44:59.588Z"
   },
   {
    "duration": 44,
    "start_time": "2024-09-23T12:44:59.612Z"
   },
   {
    "duration": 1830,
    "start_time": "2024-09-23T12:44:59.657Z"
   },
   {
    "duration": 945,
    "start_time": "2024-09-23T12:45:01.488Z"
   },
   {
    "duration": 6,
    "start_time": "2024-09-23T12:45:02.434Z"
   },
   {
    "duration": 2994,
    "start_time": "2024-09-23T12:45:02.441Z"
   },
   {
    "duration": 8,
    "start_time": "2024-09-23T12:45:05.436Z"
   },
   {
    "duration": 56,
    "start_time": "2024-09-23T12:45:05.445Z"
   },
   {
    "duration": 2,
    "start_time": "2024-09-23T12:45:05.503Z"
   },
   {
    "duration": 49,
    "start_time": "2024-09-23T12:45:05.506Z"
   },
   {
    "duration": 601,
    "start_time": "2024-09-23T12:45:05.556Z"
   },
   {
    "duration": 5,
    "start_time": "2024-09-23T12:45:06.158Z"
   },
   {
    "duration": 85652,
    "start_time": "2024-09-23T12:45:06.166Z"
   },
   {
    "duration": 14,
    "start_time": "2024-09-23T12:46:31.819Z"
   },
   {
    "duration": 27,
    "start_time": "2024-09-23T12:46:31.834Z"
   },
   {
    "duration": 4247,
    "start_time": "2024-09-23T12:46:31.862Z"
   },
   {
    "duration": 3,
    "start_time": "2024-09-23T12:47:49.568Z"
   },
   {
    "duration": 17268,
    "start_time": "2024-09-23T12:48:05.334Z"
   },
   {
    "duration": 5,
    "start_time": "2024-09-23T12:48:22.604Z"
   },
   {
    "duration": 35,
    "start_time": "2024-09-23T12:48:22.610Z"
   },
   {
    "duration": 0,
    "start_time": "2024-09-23T12:48:22.646Z"
   },
   {
    "duration": 8305,
    "start_time": "2024-09-23T12:48:35.779Z"
   },
   {
    "duration": 1160,
    "start_time": "2024-09-23T12:48:44.086Z"
   },
   {
    "duration": 808,
    "start_time": "2024-09-23T12:48:45.247Z"
   },
   {
    "duration": 11,
    "start_time": "2024-09-23T12:48:46.056Z"
   },
   {
    "duration": 108,
    "start_time": "2024-09-23T12:48:46.069Z"
   },
   {
    "duration": 39,
    "start_time": "2024-09-23T12:48:46.178Z"
   },
   {
    "duration": 58,
    "start_time": "2024-09-23T12:48:46.218Z"
   },
   {
    "duration": 26,
    "start_time": "2024-09-23T12:48:46.277Z"
   },
   {
    "duration": 131,
    "start_time": "2024-09-23T12:48:46.305Z"
   },
   {
    "duration": 35,
    "start_time": "2024-09-23T12:48:46.437Z"
   },
   {
    "duration": 14,
    "start_time": "2024-09-23T12:48:46.474Z"
   },
   {
    "duration": 36,
    "start_time": "2024-09-23T12:48:46.489Z"
   },
   {
    "duration": 23,
    "start_time": "2024-09-23T12:48:46.526Z"
   },
   {
    "duration": 27,
    "start_time": "2024-09-23T12:48:46.551Z"
   },
   {
    "duration": 19,
    "start_time": "2024-09-23T12:48:46.580Z"
   },
   {
    "duration": 95,
    "start_time": "2024-09-23T12:48:46.600Z"
   },
   {
    "duration": 1140,
    "start_time": "2024-09-23T12:48:46.697Z"
   },
   {
    "duration": 25,
    "start_time": "2024-09-23T12:48:47.838Z"
   },
   {
    "duration": 19,
    "start_time": "2024-09-23T12:48:47.865Z"
   },
   {
    "duration": 31,
    "start_time": "2024-09-23T12:48:47.885Z"
   },
   {
    "duration": 19,
    "start_time": "2024-09-23T12:48:47.919Z"
   },
   {
    "duration": 11,
    "start_time": "2024-09-23T12:48:47.939Z"
   },
   {
    "duration": 4,
    "start_time": "2024-09-23T12:48:47.951Z"
   },
   {
    "duration": 5,
    "start_time": "2024-09-23T12:48:47.956Z"
   },
   {
    "duration": 2107,
    "start_time": "2024-09-23T12:48:47.962Z"
   },
   {
    "duration": 56,
    "start_time": "2024-09-23T12:48:50.071Z"
   },
   {
    "duration": 64,
    "start_time": "2024-09-23T12:48:50.128Z"
   },
   {
    "duration": 28,
    "start_time": "2024-09-23T12:48:50.193Z"
   },
   {
    "duration": 57,
    "start_time": "2024-09-23T12:48:50.225Z"
   },
   {
    "duration": 42,
    "start_time": "2024-09-23T12:48:50.283Z"
   },
   {
    "duration": 1897,
    "start_time": "2024-09-23T12:48:50.326Z"
   },
   {
    "duration": 876,
    "start_time": "2024-09-23T12:48:52.225Z"
   },
   {
    "duration": 17,
    "start_time": "2024-09-23T12:48:53.103Z"
   },
   {
    "duration": 2855,
    "start_time": "2024-09-23T12:48:53.122Z"
   },
   {
    "duration": 8,
    "start_time": "2024-09-23T12:48:55.978Z"
   },
   {
    "duration": 77,
    "start_time": "2024-09-23T12:48:55.988Z"
   },
   {
    "duration": 3,
    "start_time": "2024-09-23T12:48:56.066Z"
   },
   {
    "duration": 12,
    "start_time": "2024-09-23T12:48:56.070Z"
   },
   {
    "duration": 559,
    "start_time": "2024-09-23T12:48:56.083Z"
   },
   {
    "duration": 3,
    "start_time": "2024-09-23T12:48:56.644Z"
   },
   {
    "duration": 522475,
    "start_time": "2024-09-23T12:48:56.650Z"
   },
   {
    "duration": 189,
    "start_time": "2024-09-23T12:57:39.126Z"
   },
   {
    "duration": 0,
    "start_time": "2024-09-23T12:57:39.316Z"
   },
   {
    "duration": 0,
    "start_time": "2024-09-23T12:57:39.317Z"
   },
   {
    "duration": 27,
    "start_time": "2024-09-23T13:00:21.295Z"
   },
   {
    "duration": 280,
    "start_time": "2024-09-23T13:00:28.630Z"
   },
   {
    "duration": 7944,
    "start_time": "2024-09-23T13:03:32.014Z"
   },
   {
    "duration": 1142,
    "start_time": "2024-09-23T13:03:39.961Z"
   },
   {
    "duration": 824,
    "start_time": "2024-09-23T13:03:41.104Z"
   },
   {
    "duration": 11,
    "start_time": "2024-09-23T13:03:41.929Z"
   },
   {
    "duration": 124,
    "start_time": "2024-09-23T13:03:41.941Z"
   },
   {
    "duration": 27,
    "start_time": "2024-09-23T13:03:42.066Z"
   },
   {
    "duration": 36,
    "start_time": "2024-09-23T13:03:42.094Z"
   },
   {
    "duration": 26,
    "start_time": "2024-09-23T13:03:42.131Z"
   },
   {
    "duration": 16,
    "start_time": "2024-09-23T13:03:42.158Z"
   },
   {
    "duration": 37,
    "start_time": "2024-09-23T13:03:42.176Z"
   },
   {
    "duration": 27,
    "start_time": "2024-09-23T13:03:42.215Z"
   },
   {
    "duration": 91,
    "start_time": "2024-09-23T13:03:42.244Z"
   },
   {
    "duration": 41,
    "start_time": "2024-09-23T13:03:42.336Z"
   },
   {
    "duration": 120,
    "start_time": "2024-09-23T13:03:42.380Z"
   },
   {
    "duration": 30,
    "start_time": "2024-09-23T13:03:42.501Z"
   },
   {
    "duration": 120,
    "start_time": "2024-09-23T13:03:42.533Z"
   },
   {
    "duration": 1182,
    "start_time": "2024-09-23T13:03:42.655Z"
   },
   {
    "duration": 28,
    "start_time": "2024-09-23T13:03:43.839Z"
   },
   {
    "duration": 35,
    "start_time": "2024-09-23T13:03:43.869Z"
   },
   {
    "duration": 15,
    "start_time": "2024-09-23T13:03:43.905Z"
   },
   {
    "duration": 37,
    "start_time": "2024-09-23T13:03:43.921Z"
   },
   {
    "duration": 23,
    "start_time": "2024-09-23T13:03:43.959Z"
   },
   {
    "duration": 21,
    "start_time": "2024-09-23T13:03:43.984Z"
   },
   {
    "duration": 24,
    "start_time": "2024-09-23T13:03:44.006Z"
   },
   {
    "duration": 2198,
    "start_time": "2024-09-23T13:03:44.031Z"
   },
   {
    "duration": 53,
    "start_time": "2024-09-23T13:03:46.231Z"
   },
   {
    "duration": 120,
    "start_time": "2024-09-23T13:03:46.286Z"
   },
   {
    "duration": 117,
    "start_time": "2024-09-23T13:03:46.408Z"
   },
   {
    "duration": 17,
    "start_time": "2024-09-23T13:03:46.526Z"
   },
   {
    "duration": 40,
    "start_time": "2024-09-23T13:03:46.544Z"
   },
   {
    "duration": 1906,
    "start_time": "2024-09-23T13:03:46.586Z"
   },
   {
    "duration": 905,
    "start_time": "2024-09-23T13:03:48.496Z"
   },
   {
    "duration": 8,
    "start_time": "2024-09-23T13:03:49.403Z"
   },
   {
    "duration": 2839,
    "start_time": "2024-09-23T13:03:49.412Z"
   },
   {
    "duration": 9,
    "start_time": "2024-09-23T13:03:52.253Z"
   },
   {
    "duration": 110,
    "start_time": "2024-09-23T13:03:52.263Z"
   },
   {
    "duration": 107,
    "start_time": "2024-09-23T13:03:52.374Z"
   },
   {
    "duration": 16,
    "start_time": "2024-09-23T13:03:52.482Z"
   },
   {
    "duration": 577,
    "start_time": "2024-09-23T13:03:52.499Z"
   },
   {
    "duration": 3,
    "start_time": "2024-09-23T13:03:53.077Z"
   },
   {
    "duration": 2009913,
    "start_time": "2024-09-23T13:03:53.083Z"
   },
   {
    "duration": 9,
    "start_time": "2024-09-23T13:37:22.997Z"
   },
   {
    "duration": 0,
    "start_time": "2024-09-23T13:37:23.020Z"
   },
   {
    "duration": 8345,
    "start_time": "2024-09-23T13:37:56.757Z"
   },
   {
    "duration": 1171,
    "start_time": "2024-09-23T13:38:05.104Z"
   },
   {
    "duration": 881,
    "start_time": "2024-09-23T13:38:06.276Z"
   },
   {
    "duration": 11,
    "start_time": "2024-09-23T13:38:07.159Z"
   },
   {
    "duration": 114,
    "start_time": "2024-09-23T13:38:07.171Z"
   },
   {
    "duration": 40,
    "start_time": "2024-09-23T13:38:07.287Z"
   },
   {
    "duration": 25,
    "start_time": "2024-09-23T13:38:07.329Z"
   },
   {
    "duration": 25,
    "start_time": "2024-09-23T13:38:07.355Z"
   },
   {
    "duration": 37,
    "start_time": "2024-09-23T13:38:07.382Z"
   },
   {
    "duration": 50,
    "start_time": "2024-09-23T13:38:07.421Z"
   },
   {
    "duration": 26,
    "start_time": "2024-09-23T13:38:07.472Z"
   },
   {
    "duration": 42,
    "start_time": "2024-09-23T13:38:07.500Z"
   },
   {
    "duration": 27,
    "start_time": "2024-09-23T13:38:07.544Z"
   },
   {
    "duration": 27,
    "start_time": "2024-09-23T13:38:07.574Z"
   },
   {
    "duration": 26,
    "start_time": "2024-09-23T13:38:07.602Z"
   },
   {
    "duration": 97,
    "start_time": "2024-09-23T13:38:07.629Z"
   },
   {
    "duration": 1190,
    "start_time": "2024-09-23T13:38:07.728Z"
   },
   {
    "duration": 26,
    "start_time": "2024-09-23T13:38:08.919Z"
   },
   {
    "duration": 28,
    "start_time": "2024-09-23T13:38:08.947Z"
   },
   {
    "duration": 57,
    "start_time": "2024-09-23T13:38:08.977Z"
   },
   {
    "duration": 28,
    "start_time": "2024-09-23T13:38:09.035Z"
   },
   {
    "duration": 11,
    "start_time": "2024-09-23T13:38:09.064Z"
   },
   {
    "duration": 7,
    "start_time": "2024-09-23T13:38:09.076Z"
   },
   {
    "duration": 98,
    "start_time": "2024-09-23T13:38:09.084Z"
   },
   {
    "duration": 2165,
    "start_time": "2024-09-23T13:38:09.184Z"
   },
   {
    "duration": 52,
    "start_time": "2024-09-23T13:38:11.351Z"
   },
   {
    "duration": 79,
    "start_time": "2024-09-23T13:38:11.404Z"
   },
   {
    "duration": 21,
    "start_time": "2024-09-23T13:38:11.484Z"
   },
   {
    "duration": 18,
    "start_time": "2024-09-23T13:38:11.516Z"
   },
   {
    "duration": 43,
    "start_time": "2024-09-23T13:38:11.536Z"
   },
   {
    "duration": 1870,
    "start_time": "2024-09-23T13:38:11.580Z"
   },
   {
    "duration": 889,
    "start_time": "2024-09-23T13:38:13.451Z"
   },
   {
    "duration": 5,
    "start_time": "2024-09-23T13:38:14.341Z"
   },
   {
    "duration": 2879,
    "start_time": "2024-09-23T13:38:14.347Z"
   },
   {
    "duration": 10,
    "start_time": "2024-09-23T13:38:17.228Z"
   },
   {
    "duration": 60,
    "start_time": "2024-09-23T13:38:17.239Z"
   },
   {
    "duration": 2,
    "start_time": "2024-09-23T13:38:17.301Z"
   },
   {
    "duration": 4,
    "start_time": "2024-09-23T13:38:17.325Z"
   },
   {
    "duration": 600,
    "start_time": "2024-09-23T13:38:17.330Z"
   },
   {
    "duration": 3,
    "start_time": "2024-09-23T13:38:17.932Z"
   },
   {
    "duration": 1725712,
    "start_time": "2024-09-23T14:05:50.412Z"
   },
   {
    "duration": 10,
    "start_time": "2024-09-23T14:34:36.125Z"
   },
   {
    "duration": 0,
    "start_time": "2024-09-23T14:34:36.136Z"
   }
  ],
  "kernelspec": {
   "display_name": "Python 3 (ipykernel)",
   "language": "python",
   "name": "python3"
  },
  "language_info": {
   "codemirror_mode": {
    "name": "ipython",
    "version": 3
   },
   "file_extension": ".py",
   "mimetype": "text/x-python",
   "name": "python",
   "nbconvert_exporter": "python",
   "pygments_lexer": "ipython3",
   "version": "3.11.7"
  },
  "toc": {
   "base_numbering": 1,
   "nav_menu": {},
   "number_sections": true,
   "sideBar": true,
   "skip_h1_title": true,
   "title_cell": "Table of Contents",
   "title_sidebar": "Contents",
   "toc_cell": false,
   "toc_position": {
    "height": "calc(100% - 180px)",
    "left": "10px",
    "top": "150px",
    "width": "292px"
   },
   "toc_section_display": true,
   "toc_window_display": true
  }
 },
 "nbformat": 4,
 "nbformat_minor": 4
}
