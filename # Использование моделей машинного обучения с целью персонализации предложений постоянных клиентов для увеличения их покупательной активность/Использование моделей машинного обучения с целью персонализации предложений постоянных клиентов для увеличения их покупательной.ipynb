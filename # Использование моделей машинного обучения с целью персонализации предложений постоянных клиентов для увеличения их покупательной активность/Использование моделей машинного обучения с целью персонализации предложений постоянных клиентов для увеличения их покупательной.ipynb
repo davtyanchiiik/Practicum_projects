{
 "cells": [
  {
   "cell_type": "markdown",
   "metadata": {
    "id": "H6cQIZr3ElW1"
   },
   "source": [
    "# Использование моделей машинного обучения с целью персонализации предложений постоянных клиентов для увеличения их покупательной активность.\n",
    "\n",
    "**Описание данных:**\n",
    "\n",
    "Будем работать с четырьмя датасетами: market_file.csv, market_money.csv, market_time.csv, money.csv.\n",
    "\n",
    "\n",
    "- Файл market_file.csv содержит данные о поведении покупателя на сайте, о коммуникациях с покупателем и его продуктовом поведении. Описание данных:\n",
    "    - id — номер покупателя в корпоративной базе данных.\n",
    "    - Покупательская активность — рассчитанный класс покупательской активности (целевой признак): «снизилась» или «прежний уровень».\n",
    "    - Тип сервиса — уровень сервиса, например «премиум» и «стандарт».\n",
    "    - Разрешить сообщать — информация о том, можно ли присылать покупателю дополнительные предложения о товаре. Согласие на это даёт покупатель.\n",
    "    - Маркет_актив_6_мес — среднемесячное значение маркетинговых коммуникаций компании, которое приходилось на покупателя за последние 6 месяцев. Это значение показывает, какое число рассылок, звонков, показов рекламы и прочего приходилось на клиента.\n",
    "    - Маркет_актив_тек_мес — количество маркетинговых коммуникаций в текущем месяце.\n",
    "    - Длительность — значение, которое показывает, сколько дней прошло с момента регистрации покупателя на сайте.\n",
    "    - Акционные_покупки — среднемесячная доля покупок по акции от общего числа покупок за последние 6 месяцев.\n",
    "    - Популярная_категория — самая популярная категория товаров у покупателя за последние 6 месяцев.\n",
    "    - Средний_просмотр_категорий_за_визит — показывает, сколько в среднем категорий покупатель просмотрел за визит в течение последнего месяца.\n",
    "    - Неоплаченные_продукты_штук_квартал — общее число неоплаченных товаров в корзине за последние 3 месяца.\n",
    "    - Ошибка_сервиса — число сбоев, которые коснулись покупателя во время посещения сайта.\n",
    "    - Страниц_за_визит — среднее количество страниц, которые просмотрел покупатель за один визит на сайт за последние 3 месяца.\n",
    "\n",
    "\n",
    "- Файл market_money.csv - это таблица с данными о выручке, которую получает магазин с покупателя, то есть сколько покупатель всего потратил за период взаимодействия с сайтом. Описание данных:\n",
    "    - id — номер покупателя в корпоративной базе данных.\n",
    "    - Период — название периода, во время которого зафиксирована выручка. Например, 'текущий_месяц' или 'предыдущий_месяц'.\n",
    "    - Выручка — сумма выручки за период.\n",
    "\n",
    "\n",
    "- Файл market_time.csv — это таблица с данными о времени (в минутах), которое покупатель провёл на сайте в течение периода. Описание данных:\n",
    "    - id — номер покупателя в корпоративной базе данных.\n",
    "    - Период — название периода, во время которого зафиксировано общее время.\n",
    "    - минут — значение времени, проведённого на сайте, в минутах.\n",
    "\n",
    "\n",
    "- Файл money.csv — это таблица с данными о среднемесячной прибыли покупателя за последние 3 месяца: какую прибыль получает магазин от продаж каждому покупателю. Описание данных:\n",
    "    - id — номер покупателя в корпоративной базе данных.\n",
    "    - Прибыль — значение прибыли.\n",
    "\n",
    "**Описание проекта:** Интернет-магазин «В один клик» продаёт разные товары: для детей, для дома, мелкую бытовую технику, косметику и даже продукты. Отчёт магазина за прошлый период показал, что активность покупателей начала снижаться. Привлекать новых клиентов уже не так эффективно: о магазине и так знает большая часть целевой аудитории. Возможный выход — удерживать активность постоянных клиентов. Сделать это можно с помощью персонализированных предложений.\n",
    "«В один клик» — современная компания, поэтому её руководство не хочет принимать решения просто так — только на основе анализа данных и бизнес-моделирования. У компании есть небольшой отдел цифровых технологий, и вам предстоит побыть в роли стажёра в этом отделе. \n",
    "Итак, вашему отделу поручили разработать решение, которое позволит персонализировать предложения постоянным клиентам, чтобы увеличить их покупательскую активность.\n",
    "\n",
    "\n",
    "**Цель проекта:** разработать решение, которое позволит персонализировать предложения постоянным клиентам, чтобы увеличить их покупательскую активность.\n",
    "\n",
    "\n",
    "**План работ:**\n",
    "* Загрузить данные\n",
    "* Предобработать данные\n",
    "* Провести исследовательский анализ данных\n",
    "* Объединить таблицы\n",
    "* Провести корреляционный анализ принзнаков \n",
    "* Исопльзовать пайпалйны\n",
    "* Провести анализ важности признаков\n",
    "* Провести сегментацию покупателей\n",
    "* Составить итоговые выводы"
   ]
  },
  {
   "cell_type": "code",
   "execution_count": 1,
   "metadata": {},
   "outputs": [
    {
     "name": "stdout",
     "output_type": "stream",
     "text": [
      "Collecting shap\n",
      "  Downloading shap-0.46.0-cp39-cp39-manylinux_2_12_x86_64.manylinux2010_x86_64.manylinux_2_17_x86_64.manylinux2014_x86_64.whl (539 kB)\n",
      "\u001b[K     |████████████████████████████████| 539 kB 1.9 MB/s eta 0:00:01\n",
      "\u001b[?25hRequirement already satisfied: packaging>20.9 in /opt/conda/lib/python3.9/site-packages (from shap) (21.3)\n",
      "Requirement already satisfied: scikit-learn in /opt/conda/lib/python3.9/site-packages (from shap) (0.24.1)\n",
      "Requirement already satisfied: pandas in /opt/conda/lib/python3.9/site-packages (from shap) (1.2.4)\n",
      "Collecting slicer==0.0.8\n",
      "  Downloading slicer-0.0.8-py3-none-any.whl (15 kB)\n",
      "Collecting cloudpickle\n",
      "  Downloading cloudpickle-3.0.0-py3-none-any.whl (20 kB)\n",
      "Requirement already satisfied: scipy in /opt/conda/lib/python3.9/site-packages (from shap) (1.9.1)\n",
      "Requirement already satisfied: numba in /opt/conda/lib/python3.9/site-packages (from shap) (0.56.0)\n",
      "Requirement already satisfied: numpy in /opt/conda/lib/python3.9/site-packages (from shap) (1.21.1)\n",
      "Requirement already satisfied: tqdm>=4.27.0 in /opt/conda/lib/python3.9/site-packages (from shap) (4.61.2)\n",
      "Requirement already satisfied: pyparsing!=3.0.5,>=2.0.2 in /opt/conda/lib/python3.9/site-packages (from packaging>20.9->shap) (2.4.7)\n",
      "Requirement already satisfied: setuptools in /opt/conda/lib/python3.9/site-packages (from numba->shap) (49.6.0.post20210108)\n",
      "Requirement already satisfied: llvmlite<0.40,>=0.39.0dev0 in /opt/conda/lib/python3.9/site-packages (from numba->shap) (0.39.0)\n",
      "Requirement already satisfied: python-dateutil>=2.7.3 in /opt/conda/lib/python3.9/site-packages (from pandas->shap) (2.8.1)\n",
      "Requirement already satisfied: pytz>=2017.3 in /opt/conda/lib/python3.9/site-packages (from pandas->shap) (2021.1)\n",
      "Requirement already satisfied: six>=1.5 in /opt/conda/lib/python3.9/site-packages (from python-dateutil>=2.7.3->pandas->shap) (1.16.0)\n",
      "Requirement already satisfied: threadpoolctl>=2.0.0 in /opt/conda/lib/python3.9/site-packages (from scikit-learn->shap) (3.1.0)\n",
      "Requirement already satisfied: joblib>=0.11 in /opt/conda/lib/python3.9/site-packages (from scikit-learn->shap) (1.1.0)\n",
      "Installing collected packages: slicer, cloudpickle, shap\n",
      "Successfully installed cloudpickle-3.0.0 shap-0.46.0 slicer-0.0.8\n"
     ]
    }
   ],
   "source": [
    "!pip install shap\n",
    "\n",
    "import shap\n",
    "import numpy as np\n",
    "import pandas as pd\n",
    "import seaborn as sns\n",
    "import matplotlib.pyplot as plt\n",
    "\n",
    "from sklearn.model_selection import train_test_split\n",
    "from sklearn.metrics import accuracy_score, roc_auc_score\n",
    "from sklearn.pipeline import Pipeline\n",
    "from sklearn.compose import ColumnTransformer\n",
    "from sklearn.preprocessing import (\n",
    "    OneHotEncoder, \n",
    "    OrdinalEncoder, \n",
    "    StandardScaler, \n",
    "    MinMaxScaler, \n",
    "    LabelEncoder\n",
    ")\n",
    "from sklearn.impute import SimpleImputer\n",
    "\n",
    "from sklearn.linear_model import LogisticRegression\n",
    "from sklearn.neighbors import KNeighborsClassifier\n",
    "from sklearn.tree import DecisionTreeClassifier\n",
    "from sklearn.svm import SVC\n",
    "\n",
    "from sklearn.model_selection import RandomizedSearchCV, GridSearchCV"
   ]
  },
  {
   "cell_type": "markdown",
   "metadata": {},
   "source": [
    "## Загрузка данных"
   ]
  },
  {
   "cell_type": "code",
   "execution_count": 2,
   "metadata": {},
   "outputs": [],
   "source": [
    "market_file = pd.read_csv('/datasets/market_file.csv')\n",
    "market_money = pd.read_csv('/datasets/market_money.csv')\n",
    "market_time = pd.read_csv('/datasets/market_time.csv')\n",
    "money = pd.read_csv('/datasets/money.csv', sep=';', decimal = ',')"
   ]
  },
  {
   "cell_type": "code",
   "execution_count": 3,
   "metadata": {},
   "outputs": [
    {
     "name": "stdout",
     "output_type": "stream",
     "text": [
      "<class 'pandas.core.frame.DataFrame'>\n",
      "RangeIndex: 1300 entries, 0 to 1299\n",
      "Data columns (total 13 columns):\n",
      " #   Column                               Non-Null Count  Dtype  \n",
      "---  ------                               --------------  -----  \n",
      " 0   id                                   1300 non-null   int64  \n",
      " 1   Покупательская активность            1300 non-null   object \n",
      " 2   Тип сервиса                          1300 non-null   object \n",
      " 3   Разрешить сообщать                   1300 non-null   object \n",
      " 4   Маркет_актив_6_мес                   1300 non-null   float64\n",
      " 5   Маркет_актив_тек_мес                 1300 non-null   int64  \n",
      " 6   Длительность                         1300 non-null   int64  \n",
      " 7   Акционные_покупки                    1300 non-null   float64\n",
      " 8   Популярная_категория                 1300 non-null   object \n",
      " 9   Средний_просмотр_категорий_за_визит  1300 non-null   int64  \n",
      " 10  Неоплаченные_продукты_штук_квартал   1300 non-null   int64  \n",
      " 11  Ошибка_сервиса                       1300 non-null   int64  \n",
      " 12  Страниц_за_визит                     1300 non-null   int64  \n",
      "dtypes: float64(2), int64(7), object(4)\n",
      "memory usage: 132.2+ KB\n"
     ]
    },
    {
     "data": {
      "text/html": [
       "<div>\n",
       "<style scoped>\n",
       "    .dataframe tbody tr th:only-of-type {\n",
       "        vertical-align: middle;\n",
       "    }\n",
       "\n",
       "    .dataframe tbody tr th {\n",
       "        vertical-align: top;\n",
       "    }\n",
       "\n",
       "    .dataframe thead th {\n",
       "        text-align: right;\n",
       "    }\n",
       "</style>\n",
       "<table border=\"1\" class=\"dataframe\">\n",
       "  <thead>\n",
       "    <tr style=\"text-align: right;\">\n",
       "      <th></th>\n",
       "      <th>id</th>\n",
       "      <th>Покупательская активность</th>\n",
       "      <th>Тип сервиса</th>\n",
       "      <th>Разрешить сообщать</th>\n",
       "      <th>Маркет_актив_6_мес</th>\n",
       "      <th>Маркет_актив_тек_мес</th>\n",
       "      <th>Длительность</th>\n",
       "      <th>Акционные_покупки</th>\n",
       "      <th>Популярная_категория</th>\n",
       "      <th>Средний_просмотр_категорий_за_визит</th>\n",
       "      <th>Неоплаченные_продукты_штук_квартал</th>\n",
       "      <th>Ошибка_сервиса</th>\n",
       "      <th>Страниц_за_визит</th>\n",
       "    </tr>\n",
       "  </thead>\n",
       "  <tbody>\n",
       "    <tr>\n",
       "      <th>0</th>\n",
       "      <td>215348</td>\n",
       "      <td>Снизилась</td>\n",
       "      <td>премиум</td>\n",
       "      <td>да</td>\n",
       "      <td>3.4</td>\n",
       "      <td>5</td>\n",
       "      <td>121</td>\n",
       "      <td>0.00</td>\n",
       "      <td>Товары для детей</td>\n",
       "      <td>6</td>\n",
       "      <td>2</td>\n",
       "      <td>1</td>\n",
       "      <td>5</td>\n",
       "    </tr>\n",
       "    <tr>\n",
       "      <th>1</th>\n",
       "      <td>215349</td>\n",
       "      <td>Снизилась</td>\n",
       "      <td>премиум</td>\n",
       "      <td>да</td>\n",
       "      <td>4.4</td>\n",
       "      <td>4</td>\n",
       "      <td>819</td>\n",
       "      <td>0.75</td>\n",
       "      <td>Товары для детей</td>\n",
       "      <td>4</td>\n",
       "      <td>4</td>\n",
       "      <td>2</td>\n",
       "      <td>5</td>\n",
       "    </tr>\n",
       "    <tr>\n",
       "      <th>2</th>\n",
       "      <td>215350</td>\n",
       "      <td>Снизилась</td>\n",
       "      <td>стандартт</td>\n",
       "      <td>нет</td>\n",
       "      <td>4.9</td>\n",
       "      <td>3</td>\n",
       "      <td>539</td>\n",
       "      <td>0.14</td>\n",
       "      <td>Домашний текстиль</td>\n",
       "      <td>5</td>\n",
       "      <td>2</td>\n",
       "      <td>1</td>\n",
       "      <td>5</td>\n",
       "    </tr>\n",
       "    <tr>\n",
       "      <th>3</th>\n",
       "      <td>215351</td>\n",
       "      <td>Снизилась</td>\n",
       "      <td>стандартт</td>\n",
       "      <td>да</td>\n",
       "      <td>3.2</td>\n",
       "      <td>5</td>\n",
       "      <td>896</td>\n",
       "      <td>0.99</td>\n",
       "      <td>Товары для детей</td>\n",
       "      <td>5</td>\n",
       "      <td>0</td>\n",
       "      <td>6</td>\n",
       "      <td>4</td>\n",
       "    </tr>\n",
       "    <tr>\n",
       "      <th>4</th>\n",
       "      <td>215352</td>\n",
       "      <td>Снизилась</td>\n",
       "      <td>стандартт</td>\n",
       "      <td>нет</td>\n",
       "      <td>5.1</td>\n",
       "      <td>3</td>\n",
       "      <td>1064</td>\n",
       "      <td>0.94</td>\n",
       "      <td>Товары для детей</td>\n",
       "      <td>3</td>\n",
       "      <td>2</td>\n",
       "      <td>3</td>\n",
       "      <td>2</td>\n",
       "    </tr>\n",
       "  </tbody>\n",
       "</table>\n",
       "</div>"
      ],
      "text/plain": [
       "       id Покупательская активность Тип сервиса Разрешить сообщать  \\\n",
       "0  215348                 Снизилась     премиум                 да   \n",
       "1  215349                 Снизилась     премиум                 да   \n",
       "2  215350                 Снизилась   стандартт                нет   \n",
       "3  215351                 Снизилась   стандартт                 да   \n",
       "4  215352                 Снизилась   стандартт                нет   \n",
       "\n",
       "   Маркет_актив_6_мес  Маркет_актив_тек_мес  Длительность  Акционные_покупки  \\\n",
       "0                 3.4                     5           121               0.00   \n",
       "1                 4.4                     4           819               0.75   \n",
       "2                 4.9                     3           539               0.14   \n",
       "3                 3.2                     5           896               0.99   \n",
       "4                 5.1                     3          1064               0.94   \n",
       "\n",
       "  Популярная_категория  Средний_просмотр_категорий_за_визит  \\\n",
       "0     Товары для детей                                    6   \n",
       "1     Товары для детей                                    4   \n",
       "2    Домашний текстиль                                    5   \n",
       "3     Товары для детей                                    5   \n",
       "4     Товары для детей                                    3   \n",
       "\n",
       "   Неоплаченные_продукты_штук_квартал  Ошибка_сервиса  Страниц_за_визит  \n",
       "0                                   2               1                 5  \n",
       "1                                   4               2                 5  \n",
       "2                                   2               1                 5  \n",
       "3                                   0               6                 4  \n",
       "4                                   2               3                 2  "
      ]
     },
     "execution_count": 3,
     "metadata": {},
     "output_type": "execute_result"
    }
   ],
   "source": [
    "market_file.info()\n",
    "market_file.head()"
   ]
  },
  {
   "cell_type": "code",
   "execution_count": 4,
   "metadata": {},
   "outputs": [
    {
     "name": "stdout",
     "output_type": "stream",
     "text": [
      "<class 'pandas.core.frame.DataFrame'>\n",
      "RangeIndex: 3900 entries, 0 to 3899\n",
      "Data columns (total 3 columns):\n",
      " #   Column   Non-Null Count  Dtype  \n",
      "---  ------   --------------  -----  \n",
      " 0   id       3900 non-null   int64  \n",
      " 1   Период   3900 non-null   object \n",
      " 2   Выручка  3900 non-null   float64\n",
      "dtypes: float64(1), int64(1), object(1)\n",
      "memory usage: 91.5+ KB\n"
     ]
    },
    {
     "data": {
      "text/html": [
       "<div>\n",
       "<style scoped>\n",
       "    .dataframe tbody tr th:only-of-type {\n",
       "        vertical-align: middle;\n",
       "    }\n",
       "\n",
       "    .dataframe tbody tr th {\n",
       "        vertical-align: top;\n",
       "    }\n",
       "\n",
       "    .dataframe thead th {\n",
       "        text-align: right;\n",
       "    }\n",
       "</style>\n",
       "<table border=\"1\" class=\"dataframe\">\n",
       "  <thead>\n",
       "    <tr style=\"text-align: right;\">\n",
       "      <th></th>\n",
       "      <th>id</th>\n",
       "      <th>Период</th>\n",
       "      <th>Выручка</th>\n",
       "    </tr>\n",
       "  </thead>\n",
       "  <tbody>\n",
       "    <tr>\n",
       "      <th>0</th>\n",
       "      <td>215348</td>\n",
       "      <td>препредыдущий_месяц</td>\n",
       "      <td>0.0</td>\n",
       "    </tr>\n",
       "    <tr>\n",
       "      <th>1</th>\n",
       "      <td>215348</td>\n",
       "      <td>текущий_месяц</td>\n",
       "      <td>3293.1</td>\n",
       "    </tr>\n",
       "    <tr>\n",
       "      <th>2</th>\n",
       "      <td>215348</td>\n",
       "      <td>предыдущий_месяц</td>\n",
       "      <td>0.0</td>\n",
       "    </tr>\n",
       "    <tr>\n",
       "      <th>3</th>\n",
       "      <td>215349</td>\n",
       "      <td>препредыдущий_месяц</td>\n",
       "      <td>4472.0</td>\n",
       "    </tr>\n",
       "    <tr>\n",
       "      <th>4</th>\n",
       "      <td>215349</td>\n",
       "      <td>текущий_месяц</td>\n",
       "      <td>4971.6</td>\n",
       "    </tr>\n",
       "  </tbody>\n",
       "</table>\n",
       "</div>"
      ],
      "text/plain": [
       "       id               Период  Выручка\n",
       "0  215348  препредыдущий_месяц      0.0\n",
       "1  215348        текущий_месяц   3293.1\n",
       "2  215348     предыдущий_месяц      0.0\n",
       "3  215349  препредыдущий_месяц   4472.0\n",
       "4  215349        текущий_месяц   4971.6"
      ]
     },
     "execution_count": 4,
     "metadata": {},
     "output_type": "execute_result"
    }
   ],
   "source": [
    "market_money.info()\n",
    "market_money.head()"
   ]
  },
  {
   "cell_type": "code",
   "execution_count": 5,
   "metadata": {},
   "outputs": [
    {
     "name": "stdout",
     "output_type": "stream",
     "text": [
      "<class 'pandas.core.frame.DataFrame'>\n",
      "RangeIndex: 2600 entries, 0 to 2599\n",
      "Data columns (total 3 columns):\n",
      " #   Column  Non-Null Count  Dtype \n",
      "---  ------  --------------  ----- \n",
      " 0   id      2600 non-null   int64 \n",
      " 1   Период  2600 non-null   object\n",
      " 2   минут   2600 non-null   int64 \n",
      "dtypes: int64(2), object(1)\n",
      "memory usage: 61.1+ KB\n"
     ]
    },
    {
     "data": {
      "text/html": [
       "<div>\n",
       "<style scoped>\n",
       "    .dataframe tbody tr th:only-of-type {\n",
       "        vertical-align: middle;\n",
       "    }\n",
       "\n",
       "    .dataframe tbody tr th {\n",
       "        vertical-align: top;\n",
       "    }\n",
       "\n",
       "    .dataframe thead th {\n",
       "        text-align: right;\n",
       "    }\n",
       "</style>\n",
       "<table border=\"1\" class=\"dataframe\">\n",
       "  <thead>\n",
       "    <tr style=\"text-align: right;\">\n",
       "      <th></th>\n",
       "      <th>id</th>\n",
       "      <th>Период</th>\n",
       "      <th>минут</th>\n",
       "    </tr>\n",
       "  </thead>\n",
       "  <tbody>\n",
       "    <tr>\n",
       "      <th>0</th>\n",
       "      <td>215348</td>\n",
       "      <td>текущий_месяц</td>\n",
       "      <td>14</td>\n",
       "    </tr>\n",
       "    <tr>\n",
       "      <th>1</th>\n",
       "      <td>215348</td>\n",
       "      <td>предыдцщий_месяц</td>\n",
       "      <td>13</td>\n",
       "    </tr>\n",
       "    <tr>\n",
       "      <th>2</th>\n",
       "      <td>215349</td>\n",
       "      <td>текущий_месяц</td>\n",
       "      <td>10</td>\n",
       "    </tr>\n",
       "    <tr>\n",
       "      <th>3</th>\n",
       "      <td>215349</td>\n",
       "      <td>предыдцщий_месяц</td>\n",
       "      <td>12</td>\n",
       "    </tr>\n",
       "    <tr>\n",
       "      <th>4</th>\n",
       "      <td>215350</td>\n",
       "      <td>текущий_месяц</td>\n",
       "      <td>13</td>\n",
       "    </tr>\n",
       "  </tbody>\n",
       "</table>\n",
       "</div>"
      ],
      "text/plain": [
       "       id            Период  минут\n",
       "0  215348     текущий_месяц     14\n",
       "1  215348  предыдцщий_месяц     13\n",
       "2  215349     текущий_месяц     10\n",
       "3  215349  предыдцщий_месяц     12\n",
       "4  215350     текущий_месяц     13"
      ]
     },
     "execution_count": 5,
     "metadata": {},
     "output_type": "execute_result"
    }
   ],
   "source": [
    "market_time.info()\n",
    "market_time.head()"
   ]
  },
  {
   "cell_type": "code",
   "execution_count": 6,
   "metadata": {},
   "outputs": [
    {
     "name": "stdout",
     "output_type": "stream",
     "text": [
      "<class 'pandas.core.frame.DataFrame'>\n",
      "RangeIndex: 1300 entries, 0 to 1299\n",
      "Data columns (total 2 columns):\n",
      " #   Column   Non-Null Count  Dtype  \n",
      "---  ------   --------------  -----  \n",
      " 0   id       1300 non-null   int64  \n",
      " 1   Прибыль  1300 non-null   float64\n",
      "dtypes: float64(1), int64(1)\n",
      "memory usage: 20.4 KB\n"
     ]
    },
    {
     "data": {
      "text/html": [
       "<div>\n",
       "<style scoped>\n",
       "    .dataframe tbody tr th:only-of-type {\n",
       "        vertical-align: middle;\n",
       "    }\n",
       "\n",
       "    .dataframe tbody tr th {\n",
       "        vertical-align: top;\n",
       "    }\n",
       "\n",
       "    .dataframe thead th {\n",
       "        text-align: right;\n",
       "    }\n",
       "</style>\n",
       "<table border=\"1\" class=\"dataframe\">\n",
       "  <thead>\n",
       "    <tr style=\"text-align: right;\">\n",
       "      <th></th>\n",
       "      <th>id</th>\n",
       "      <th>Прибыль</th>\n",
       "    </tr>\n",
       "  </thead>\n",
       "  <tbody>\n",
       "    <tr>\n",
       "      <th>0</th>\n",
       "      <td>215348</td>\n",
       "      <td>0.98</td>\n",
       "    </tr>\n",
       "    <tr>\n",
       "      <th>1</th>\n",
       "      <td>215349</td>\n",
       "      <td>4.16</td>\n",
       "    </tr>\n",
       "    <tr>\n",
       "      <th>2</th>\n",
       "      <td>215350</td>\n",
       "      <td>3.13</td>\n",
       "    </tr>\n",
       "    <tr>\n",
       "      <th>3</th>\n",
       "      <td>215351</td>\n",
       "      <td>4.87</td>\n",
       "    </tr>\n",
       "    <tr>\n",
       "      <th>4</th>\n",
       "      <td>215352</td>\n",
       "      <td>4.21</td>\n",
       "    </tr>\n",
       "  </tbody>\n",
       "</table>\n",
       "</div>"
      ],
      "text/plain": [
       "       id  Прибыль\n",
       "0  215348     0.98\n",
       "1  215349     4.16\n",
       "2  215350     3.13\n",
       "3  215351     4.87\n",
       "4  215352     4.21"
      ]
     },
     "execution_count": 6,
     "metadata": {},
     "output_type": "execute_result"
    }
   ],
   "source": [
    "money.info()\n",
    "money.head()"
   ]
  },
  {
   "cell_type": "markdown",
   "metadata": {},
   "source": [
    "**Вывод:** Данные соответствуют описанию задачи. Названия некоторых столбцов необходимо будет изменить в соответствии со стандартами оформления данных на этапе предобработки."
   ]
  },
  {
   "cell_type": "markdown",
   "metadata": {},
   "source": [
    "## Предобработка данных"
   ]
  },
  {
   "cell_type": "markdown",
   "metadata": {},
   "source": [
    "### Датафрейм market_file"
   ]
  },
  {
   "cell_type": "code",
   "execution_count": 7,
   "metadata": {},
   "outputs": [
    {
     "data": {
      "text/html": [
       "<div>\n",
       "<style scoped>\n",
       "    .dataframe tbody tr th:only-of-type {\n",
       "        vertical-align: middle;\n",
       "    }\n",
       "\n",
       "    .dataframe tbody tr th {\n",
       "        vertical-align: top;\n",
       "    }\n",
       "\n",
       "    .dataframe thead th {\n",
       "        text-align: right;\n",
       "    }\n",
       "</style>\n",
       "<table border=\"1\" class=\"dataframe\">\n",
       "  <thead>\n",
       "    <tr style=\"text-align: right;\">\n",
       "      <th></th>\n",
       "      <th>id</th>\n",
       "      <th>покупательская_активность</th>\n",
       "      <th>тип_сервиса</th>\n",
       "      <th>разрешить_сообщать</th>\n",
       "      <th>маркет_актив_6_мес</th>\n",
       "      <th>маркет_актив_тек_мес</th>\n",
       "      <th>длительность</th>\n",
       "      <th>акционные_покупки</th>\n",
       "      <th>популярная_категория</th>\n",
       "      <th>средний_просмотр_категорий_за_визит</th>\n",
       "      <th>неоплаченные_продукты_штук_квартал</th>\n",
       "      <th>ошибка_сервиса</th>\n",
       "      <th>страниц_за_визит</th>\n",
       "    </tr>\n",
       "  </thead>\n",
       "  <tbody>\n",
       "    <tr>\n",
       "      <th>0</th>\n",
       "      <td>215348</td>\n",
       "      <td>Снизилась</td>\n",
       "      <td>премиум</td>\n",
       "      <td>да</td>\n",
       "      <td>3.4</td>\n",
       "      <td>5</td>\n",
       "      <td>121</td>\n",
       "      <td>0.00</td>\n",
       "      <td>Товары для детей</td>\n",
       "      <td>6</td>\n",
       "      <td>2</td>\n",
       "      <td>1</td>\n",
       "      <td>5</td>\n",
       "    </tr>\n",
       "    <tr>\n",
       "      <th>1</th>\n",
       "      <td>215349</td>\n",
       "      <td>Снизилась</td>\n",
       "      <td>премиум</td>\n",
       "      <td>да</td>\n",
       "      <td>4.4</td>\n",
       "      <td>4</td>\n",
       "      <td>819</td>\n",
       "      <td>0.75</td>\n",
       "      <td>Товары для детей</td>\n",
       "      <td>4</td>\n",
       "      <td>4</td>\n",
       "      <td>2</td>\n",
       "      <td>5</td>\n",
       "    </tr>\n",
       "    <tr>\n",
       "      <th>2</th>\n",
       "      <td>215350</td>\n",
       "      <td>Снизилась</td>\n",
       "      <td>стандартт</td>\n",
       "      <td>нет</td>\n",
       "      <td>4.9</td>\n",
       "      <td>3</td>\n",
       "      <td>539</td>\n",
       "      <td>0.14</td>\n",
       "      <td>Домашний текстиль</td>\n",
       "      <td>5</td>\n",
       "      <td>2</td>\n",
       "      <td>1</td>\n",
       "      <td>5</td>\n",
       "    </tr>\n",
       "    <tr>\n",
       "      <th>3</th>\n",
       "      <td>215351</td>\n",
       "      <td>Снизилась</td>\n",
       "      <td>стандартт</td>\n",
       "      <td>да</td>\n",
       "      <td>3.2</td>\n",
       "      <td>5</td>\n",
       "      <td>896</td>\n",
       "      <td>0.99</td>\n",
       "      <td>Товары для детей</td>\n",
       "      <td>5</td>\n",
       "      <td>0</td>\n",
       "      <td>6</td>\n",
       "      <td>4</td>\n",
       "    </tr>\n",
       "    <tr>\n",
       "      <th>4</th>\n",
       "      <td>215352</td>\n",
       "      <td>Снизилась</td>\n",
       "      <td>стандартт</td>\n",
       "      <td>нет</td>\n",
       "      <td>5.1</td>\n",
       "      <td>3</td>\n",
       "      <td>1064</td>\n",
       "      <td>0.94</td>\n",
       "      <td>Товары для детей</td>\n",
       "      <td>3</td>\n",
       "      <td>2</td>\n",
       "      <td>3</td>\n",
       "      <td>2</td>\n",
       "    </tr>\n",
       "  </tbody>\n",
       "</table>\n",
       "</div>"
      ],
      "text/plain": [
       "       id покупательская_активность тип_сервиса разрешить_сообщать  \\\n",
       "0  215348                 Снизилась     премиум                 да   \n",
       "1  215349                 Снизилась     премиум                 да   \n",
       "2  215350                 Снизилась   стандартт                нет   \n",
       "3  215351                 Снизилась   стандартт                 да   \n",
       "4  215352                 Снизилась   стандартт                нет   \n",
       "\n",
       "   маркет_актив_6_мес  маркет_актив_тек_мес  длительность  акционные_покупки  \\\n",
       "0                 3.4                     5           121               0.00   \n",
       "1                 4.4                     4           819               0.75   \n",
       "2                 4.9                     3           539               0.14   \n",
       "3                 3.2                     5           896               0.99   \n",
       "4                 5.1                     3          1064               0.94   \n",
       "\n",
       "  популярная_категория  средний_просмотр_категорий_за_визит  \\\n",
       "0     Товары для детей                                    6   \n",
       "1     Товары для детей                                    4   \n",
       "2    Домашний текстиль                                    5   \n",
       "3     Товары для детей                                    5   \n",
       "4     Товары для детей                                    3   \n",
       "\n",
       "   неоплаченные_продукты_штук_квартал  ошибка_сервиса  страниц_за_визит  \n",
       "0                                   2               1                 5  \n",
       "1                                   4               2                 5  \n",
       "2                                   2               1                 5  \n",
       "3                                   0               6                 4  \n",
       "4                                   2               3                 2  "
      ]
     },
     "execution_count": 7,
     "metadata": {},
     "output_type": "execute_result"
    }
   ],
   "source": [
    "# Приведение названий столбцов датафрейма market_file к нормальному оформлению\n",
    "market_file.columns = ['id', 'покупательская_активность', 'тип_сервиса', 'разрешить_сообщать',\n",
    "       'маркет_актив_6_мес', 'маркет_актив_тек_мес', 'длительность',\n",
    "       'акционные_покупки', 'популярная_категория',\n",
    "       'средний_просмотр_категорий_за_визит',\n",
    "       'неоплаченные_продукты_штук_квартал', 'ошибка_сервиса',\n",
    "       'страниц_за_визит']\n",
    "market_file.head()"
   ]
  },
  {
   "cell_type": "code",
   "execution_count": 8,
   "metadata": {},
   "outputs": [
    {
     "data": {
      "text/plain": [
       "id                                     0\n",
       "покупательская_активность              0\n",
       "тип_сервиса                            0\n",
       "разрешить_сообщать                     0\n",
       "маркет_актив_6_мес                     0\n",
       "маркет_актив_тек_мес                   0\n",
       "длительность                           0\n",
       "акционные_покупки                      0\n",
       "популярная_категория                   0\n",
       "средний_просмотр_категорий_за_визит    0\n",
       "неоплаченные_продукты_штук_квартал     0\n",
       "ошибка_сервиса                         0\n",
       "страниц_за_визит                       0\n",
       "dtype: int64"
      ]
     },
     "execution_count": 8,
     "metadata": {},
     "output_type": "execute_result"
    }
   ],
   "source": [
    "# Проверка пропусков\n",
    "market_file.isna().sum()"
   ]
  },
  {
   "cell_type": "code",
   "execution_count": 9,
   "metadata": {},
   "outputs": [
    {
     "name": "stdout",
     "output_type": "stream",
     "text": [
      "Количество дубликатов: 0\n"
     ]
    }
   ],
   "source": [
    "# Поиск явных дубликатов\n",
    "print('Количество дубликатов:', market_file.duplicated().sum())"
   ]
  },
  {
   "cell_type": "code",
   "execution_count": 10,
   "metadata": {},
   "outputs": [
    {
     "data": {
      "text/plain": [
       "стандарт    924\n",
       "премиум     376\n",
       "Name: тип_сервиса, dtype: int64"
      ]
     },
     "execution_count": 10,
     "metadata": {},
     "output_type": "execute_result"
    }
   ],
   "source": [
    "# Обработка неявных дубликатов\n",
    "market_file['тип_сервиса'].replace('стандартт', 'стандарт', inplace=True)\n",
    "market_file['тип_сервиса'].value_counts()"
   ]
  },
  {
   "cell_type": "markdown",
   "metadata": {},
   "source": [
    "### Датафрейм market_money"
   ]
  },
  {
   "cell_type": "code",
   "execution_count": 11,
   "metadata": {},
   "outputs": [
    {
     "data": {
      "text/html": [
       "<div>\n",
       "<style scoped>\n",
       "    .dataframe tbody tr th:only-of-type {\n",
       "        vertical-align: middle;\n",
       "    }\n",
       "\n",
       "    .dataframe tbody tr th {\n",
       "        vertical-align: top;\n",
       "    }\n",
       "\n",
       "    .dataframe thead th {\n",
       "        text-align: right;\n",
       "    }\n",
       "</style>\n",
       "<table border=\"1\" class=\"dataframe\">\n",
       "  <thead>\n",
       "    <tr style=\"text-align: right;\">\n",
       "      <th></th>\n",
       "      <th>id</th>\n",
       "      <th>период</th>\n",
       "      <th>выручка</th>\n",
       "    </tr>\n",
       "  </thead>\n",
       "  <tbody>\n",
       "    <tr>\n",
       "      <th>0</th>\n",
       "      <td>215348</td>\n",
       "      <td>препредыдущий_месяц</td>\n",
       "      <td>0.0</td>\n",
       "    </tr>\n",
       "    <tr>\n",
       "      <th>1</th>\n",
       "      <td>215348</td>\n",
       "      <td>текущий_месяц</td>\n",
       "      <td>3293.1</td>\n",
       "    </tr>\n",
       "    <tr>\n",
       "      <th>2</th>\n",
       "      <td>215348</td>\n",
       "      <td>предыдущий_месяц</td>\n",
       "      <td>0.0</td>\n",
       "    </tr>\n",
       "    <tr>\n",
       "      <th>3</th>\n",
       "      <td>215349</td>\n",
       "      <td>препредыдущий_месяц</td>\n",
       "      <td>4472.0</td>\n",
       "    </tr>\n",
       "    <tr>\n",
       "      <th>4</th>\n",
       "      <td>215349</td>\n",
       "      <td>текущий_месяц</td>\n",
       "      <td>4971.6</td>\n",
       "    </tr>\n",
       "  </tbody>\n",
       "</table>\n",
       "</div>"
      ],
      "text/plain": [
       "       id               период  выручка\n",
       "0  215348  препредыдущий_месяц      0.0\n",
       "1  215348        текущий_месяц   3293.1\n",
       "2  215348     предыдущий_месяц      0.0\n",
       "3  215349  препредыдущий_месяц   4472.0\n",
       "4  215349        текущий_месяц   4971.6"
      ]
     },
     "execution_count": 11,
     "metadata": {},
     "output_type": "execute_result"
    }
   ],
   "source": [
    "# Приведение названий столбцов датафрейма market_money к нормальному оформлению\n",
    "market_money.columns = market_money.columns.str.lower()\n",
    "market_money.head()"
   ]
  },
  {
   "cell_type": "code",
   "execution_count": 12,
   "metadata": {},
   "outputs": [
    {
     "data": {
      "text/plain": [
       "id         0\n",
       "период     0\n",
       "выручка    0\n",
       "dtype: int64"
      ]
     },
     "execution_count": 12,
     "metadata": {},
     "output_type": "execute_result"
    }
   ],
   "source": [
    "# Проверка пропусков\n",
    "market_money.isna().sum()"
   ]
  },
  {
   "cell_type": "code",
   "execution_count": 13,
   "metadata": {},
   "outputs": [
    {
     "name": "stdout",
     "output_type": "stream",
     "text": [
      "Количество дубликатов: 0\n"
     ]
    }
   ],
   "source": [
    "# Поиск дубликатов\n",
    "print('Количество дубликатов:', market_money.duplicated().sum())"
   ]
  },
  {
   "cell_type": "code",
   "execution_count": 14,
   "metadata": {},
   "outputs": [
    {
     "data": {
      "text/plain": [
       "предыдущий_месяц    2600\n",
       "текущий_месяц       1300\n",
       "Name: период, dtype: int64"
      ]
     },
     "execution_count": 14,
     "metadata": {},
     "output_type": "execute_result"
    }
   ],
   "source": [
    "# Обработка неявных дубликатов\n",
    "market_money['период'].replace('препредыдущий_месяц', 'предыдущий_месяц', inplace=True)\n",
    "market_money['период'].value_counts()"
   ]
  },
  {
   "cell_type": "markdown",
   "metadata": {},
   "source": [
    "### Датафрейм market_time"
   ]
  },
  {
   "cell_type": "code",
   "execution_count": 15,
   "metadata": {},
   "outputs": [
    {
     "data": {
      "text/html": [
       "<div>\n",
       "<style scoped>\n",
       "    .dataframe tbody tr th:only-of-type {\n",
       "        vertical-align: middle;\n",
       "    }\n",
       "\n",
       "    .dataframe tbody tr th {\n",
       "        vertical-align: top;\n",
       "    }\n",
       "\n",
       "    .dataframe thead th {\n",
       "        text-align: right;\n",
       "    }\n",
       "</style>\n",
       "<table border=\"1\" class=\"dataframe\">\n",
       "  <thead>\n",
       "    <tr style=\"text-align: right;\">\n",
       "      <th></th>\n",
       "      <th>id</th>\n",
       "      <th>период</th>\n",
       "      <th>минут</th>\n",
       "    </tr>\n",
       "  </thead>\n",
       "  <tbody>\n",
       "    <tr>\n",
       "      <th>0</th>\n",
       "      <td>215348</td>\n",
       "      <td>текущий_месяц</td>\n",
       "      <td>14</td>\n",
       "    </tr>\n",
       "    <tr>\n",
       "      <th>1</th>\n",
       "      <td>215348</td>\n",
       "      <td>предыдцщий_месяц</td>\n",
       "      <td>13</td>\n",
       "    </tr>\n",
       "    <tr>\n",
       "      <th>2</th>\n",
       "      <td>215349</td>\n",
       "      <td>текущий_месяц</td>\n",
       "      <td>10</td>\n",
       "    </tr>\n",
       "    <tr>\n",
       "      <th>3</th>\n",
       "      <td>215349</td>\n",
       "      <td>предыдцщий_месяц</td>\n",
       "      <td>12</td>\n",
       "    </tr>\n",
       "    <tr>\n",
       "      <th>4</th>\n",
       "      <td>215350</td>\n",
       "      <td>текущий_месяц</td>\n",
       "      <td>13</td>\n",
       "    </tr>\n",
       "  </tbody>\n",
       "</table>\n",
       "</div>"
      ],
      "text/plain": [
       "       id            период  минут\n",
       "0  215348     текущий_месяц     14\n",
       "1  215348  предыдцщий_месяц     13\n",
       "2  215349     текущий_месяц     10\n",
       "3  215349  предыдцщий_месяц     12\n",
       "4  215350     текущий_месяц     13"
      ]
     },
     "execution_count": 15,
     "metadata": {},
     "output_type": "execute_result"
    }
   ],
   "source": [
    "# Приведение названий столбцов датафрейма market_time к нормальному оформлению\n",
    "market_time.columns = market_time.columns.str.lower()\n",
    "market_time.head()"
   ]
  },
  {
   "cell_type": "code",
   "execution_count": 16,
   "metadata": {},
   "outputs": [
    {
     "data": {
      "text/plain": [
       "id        0\n",
       "период    0\n",
       "минут     0\n",
       "dtype: int64"
      ]
     },
     "execution_count": 16,
     "metadata": {},
     "output_type": "execute_result"
    }
   ],
   "source": [
    "# Проверка пропусков\n",
    "market_time.isna().sum()"
   ]
  },
  {
   "cell_type": "code",
   "execution_count": 17,
   "metadata": {},
   "outputs": [
    {
     "name": "stdout",
     "output_type": "stream",
     "text": [
      "Количество дубликатов: 0\n"
     ]
    }
   ],
   "source": [
    "# Поиск дубликатов\n",
    "print('Количество дубликатов:', market_time.duplicated().sum())"
   ]
  },
  {
   "cell_type": "markdown",
   "metadata": {},
   "source": [
    "### Датафрейм money"
   ]
  },
  {
   "cell_type": "code",
   "execution_count": 18,
   "metadata": {},
   "outputs": [
    {
     "data": {
      "text/html": [
       "<div>\n",
       "<style scoped>\n",
       "    .dataframe tbody tr th:only-of-type {\n",
       "        vertical-align: middle;\n",
       "    }\n",
       "\n",
       "    .dataframe tbody tr th {\n",
       "        vertical-align: top;\n",
       "    }\n",
       "\n",
       "    .dataframe thead th {\n",
       "        text-align: right;\n",
       "    }\n",
       "</style>\n",
       "<table border=\"1\" class=\"dataframe\">\n",
       "  <thead>\n",
       "    <tr style=\"text-align: right;\">\n",
       "      <th></th>\n",
       "      <th>id</th>\n",
       "      <th>прибыль</th>\n",
       "    </tr>\n",
       "  </thead>\n",
       "  <tbody>\n",
       "    <tr>\n",
       "      <th>0</th>\n",
       "      <td>215348</td>\n",
       "      <td>0.98</td>\n",
       "    </tr>\n",
       "    <tr>\n",
       "      <th>1</th>\n",
       "      <td>215349</td>\n",
       "      <td>4.16</td>\n",
       "    </tr>\n",
       "    <tr>\n",
       "      <th>2</th>\n",
       "      <td>215350</td>\n",
       "      <td>3.13</td>\n",
       "    </tr>\n",
       "    <tr>\n",
       "      <th>3</th>\n",
       "      <td>215351</td>\n",
       "      <td>4.87</td>\n",
       "    </tr>\n",
       "    <tr>\n",
       "      <th>4</th>\n",
       "      <td>215352</td>\n",
       "      <td>4.21</td>\n",
       "    </tr>\n",
       "  </tbody>\n",
       "</table>\n",
       "</div>"
      ],
      "text/plain": [
       "       id  прибыль\n",
       "0  215348     0.98\n",
       "1  215349     4.16\n",
       "2  215350     3.13\n",
       "3  215351     4.87\n",
       "4  215352     4.21"
      ]
     },
     "execution_count": 18,
     "metadata": {},
     "output_type": "execute_result"
    }
   ],
   "source": [
    "# Приведение названий столбцов датафрейма market_time к нормальному оформлению\n",
    "money.columns = money.columns.str.lower()\n",
    "money.head()"
   ]
  },
  {
   "cell_type": "code",
   "execution_count": 19,
   "metadata": {},
   "outputs": [
    {
     "data": {
      "text/plain": [
       "id         0\n",
       "прибыль    0\n",
       "dtype: int64"
      ]
     },
     "execution_count": 19,
     "metadata": {},
     "output_type": "execute_result"
    }
   ],
   "source": [
    "# Проверка пропусков\n",
    "money.isna().sum()"
   ]
  },
  {
   "cell_type": "code",
   "execution_count": 20,
   "metadata": {},
   "outputs": [
    {
     "name": "stdout",
     "output_type": "stream",
     "text": [
      "Количество дубликатов: 0\n"
     ]
    }
   ],
   "source": [
    "# Поиск дубликатов\n",
    "print('Количество дубликатов:', money.duplicated().sum())"
   ]
  },
  {
   "cell_type": "markdown",
   "metadata": {},
   "source": [
    "**Вывод:** На этапе предобработке данных названия столбцов были приведены к нормальному виду во всех датафремах. Пропуски и явные дубликаты в данных отсутствовали. А неявные были обработаны."
   ]
  },
  {
   "cell_type": "markdown",
   "metadata": {},
   "source": [
    "## Исследовательский анализ данных"
   ]
  },
  {
   "cell_type": "markdown",
   "metadata": {},
   "source": [
    "### Датафрейм market_file"
   ]
  },
  {
   "cell_type": "code",
   "execution_count": 21,
   "metadata": {},
   "outputs": [
    {
     "data": {
      "image/png": "[encoded data removed]",
      "text/plain": [
       "<Figure size 1440x1440 with 9 Axes>"
      ]
     },
     "metadata": {
      "needs_background": "light"
     },
     "output_type": "display_data"
    }
   ],
   "source": [
    "# Выбросы отсутсвуют \n",
    "market_file.hist(figsize=(20, 20));"
   ]
  },
  {
   "cell_type": "code",
   "execution_count": 22,
   "metadata": {},
   "outputs": [
    {
     "data": {
      "text/html": [
       "<div>\n",
       "<style scoped>\n",
       "    .dataframe tbody tr th:only-of-type {\n",
       "        vertical-align: middle;\n",
       "    }\n",
       "\n",
       "    .dataframe tbody tr th {\n",
       "        vertical-align: top;\n",
       "    }\n",
       "\n",
       "    .dataframe thead th {\n",
       "        text-align: right;\n",
       "    }\n",
       "</style>\n",
       "<table border=\"1\" class=\"dataframe\">\n",
       "  <thead>\n",
       "    <tr style=\"text-align: right;\">\n",
       "      <th></th>\n",
       "      <th>id</th>\n",
       "      <th>покупательская_активность</th>\n",
       "      <th>тип_сервиса</th>\n",
       "      <th>разрешить_сообщать</th>\n",
       "      <th>маркет_актив_6_мес</th>\n",
       "      <th>маркет_актив_тек_мес</th>\n",
       "      <th>длительность</th>\n",
       "      <th>акционные_покупки</th>\n",
       "      <th>популярная_категория</th>\n",
       "      <th>средний_просмотр_категорий_за_визит</th>\n",
       "      <th>неоплаченные_продукты_штук_квартал</th>\n",
       "      <th>ошибка_сервиса</th>\n",
       "      <th>страниц_за_визит</th>\n",
       "    </tr>\n",
       "  </thead>\n",
       "  <tbody>\n",
       "    <tr>\n",
       "      <th>0</th>\n",
       "      <td>215348</td>\n",
       "      <td>Снизилась</td>\n",
       "      <td>премиум</td>\n",
       "      <td>да</td>\n",
       "      <td>3.4</td>\n",
       "      <td>5</td>\n",
       "      <td>121</td>\n",
       "      <td>0.00</td>\n",
       "      <td>Товары для детей</td>\n",
       "      <td>6</td>\n",
       "      <td>2</td>\n",
       "      <td>1</td>\n",
       "      <td>5</td>\n",
       "    </tr>\n",
       "    <tr>\n",
       "      <th>1</th>\n",
       "      <td>215349</td>\n",
       "      <td>Снизилась</td>\n",
       "      <td>премиум</td>\n",
       "      <td>да</td>\n",
       "      <td>4.4</td>\n",
       "      <td>4</td>\n",
       "      <td>819</td>\n",
       "      <td>0.75</td>\n",
       "      <td>Товары для детей</td>\n",
       "      <td>4</td>\n",
       "      <td>4</td>\n",
       "      <td>2</td>\n",
       "      <td>5</td>\n",
       "    </tr>\n",
       "    <tr>\n",
       "      <th>2</th>\n",
       "      <td>215350</td>\n",
       "      <td>Снизилась</td>\n",
       "      <td>стандарт</td>\n",
       "      <td>нет</td>\n",
       "      <td>4.9</td>\n",
       "      <td>3</td>\n",
       "      <td>539</td>\n",
       "      <td>0.14</td>\n",
       "      <td>Домашний текстиль</td>\n",
       "      <td>5</td>\n",
       "      <td>2</td>\n",
       "      <td>1</td>\n",
       "      <td>5</td>\n",
       "    </tr>\n",
       "    <tr>\n",
       "      <th>3</th>\n",
       "      <td>215351</td>\n",
       "      <td>Снизилась</td>\n",
       "      <td>стандарт</td>\n",
       "      <td>да</td>\n",
       "      <td>3.2</td>\n",
       "      <td>5</td>\n",
       "      <td>896</td>\n",
       "      <td>0.99</td>\n",
       "      <td>Товары для детей</td>\n",
       "      <td>5</td>\n",
       "      <td>0</td>\n",
       "      <td>6</td>\n",
       "      <td>4</td>\n",
       "    </tr>\n",
       "    <tr>\n",
       "      <th>4</th>\n",
       "      <td>215352</td>\n",
       "      <td>Снизилась</td>\n",
       "      <td>стандарт</td>\n",
       "      <td>нет</td>\n",
       "      <td>5.1</td>\n",
       "      <td>3</td>\n",
       "      <td>1064</td>\n",
       "      <td>0.94</td>\n",
       "      <td>Товары для детей</td>\n",
       "      <td>3</td>\n",
       "      <td>2</td>\n",
       "      <td>3</td>\n",
       "      <td>2</td>\n",
       "    </tr>\n",
       "  </tbody>\n",
       "</table>\n",
       "</div>"
      ],
      "text/plain": [
       "       id покупательская_активность тип_сервиса разрешить_сообщать  \\\n",
       "0  215348                 Снизилась     премиум                 да   \n",
       "1  215349                 Снизилась     премиум                 да   \n",
       "2  215350                 Снизилась    стандарт                нет   \n",
       "3  215351                 Снизилась    стандарт                 да   \n",
       "4  215352                 Снизилась    стандарт                нет   \n",
       "\n",
       "   маркет_актив_6_мес  маркет_актив_тек_мес  длительность  акционные_покупки  \\\n",
       "0                 3.4                     5           121               0.00   \n",
       "1                 4.4                     4           819               0.75   \n",
       "2                 4.9                     3           539               0.14   \n",
       "3                 3.2                     5           896               0.99   \n",
       "4                 5.1                     3          1064               0.94   \n",
       "\n",
       "  популярная_категория  средний_просмотр_категорий_за_визит  \\\n",
       "0     Товары для детей                                    6   \n",
       "1     Товары для детей                                    4   \n",
       "2    Домашний текстиль                                    5   \n",
       "3     Товары для детей                                    5   \n",
       "4     Товары для детей                                    3   \n",
       "\n",
       "   неоплаченные_продукты_штук_квартал  ошибка_сервиса  страниц_за_визит  \n",
       "0                                   2               1                 5  \n",
       "1                                   4               2                 5  \n",
       "2                                   2               1                 5  \n",
       "3                                   0               6                 4  \n",
       "4                                   2               3                 2  "
      ]
     },
     "execution_count": 22,
     "metadata": {},
     "output_type": "execute_result"
    }
   ],
   "source": [
    "market_file.head()"
   ]
  },
  {
   "cell_type": "code",
   "execution_count": 23,
   "metadata": {},
   "outputs": [
    {
     "data": {
      "text/plain": [
       "<AxesSubplot:title={'center':'Boxplot'}>"
      ]
     },
     "execution_count": 23,
     "metadata": {},
     "output_type": "execute_result"
    },
    {
     "data": {
      "image/png": "[encoded data removed]",
      "text/plain": [
       "<Figure size 1440x1440 with 1 Axes>"
      ]
     },
     "metadata": {
      "needs_background": "light"
     },
     "output_type": "display_data"
    }
   ],
   "source": [
    "to_box = market_file.drop(['id', 'длительность', 'маркет_актив_тек_мес', 'акционные_покупки'], axis=1)\n",
    "\n",
    "#График «ящик с усами» по глобальным продажам игр в разбивке по платформам.\n",
    "plt.figure(figsize=(20, 20))\n",
    "plt.grid(True)\n",
    "plt.title('Boxplot')\n",
    "sns.boxplot(data=to_box)"
   ]
  },
  {
   "cell_type": "code",
   "execution_count": 24,
   "metadata": {},
   "outputs": [
    {
     "data": {
      "text/plain": [
       "<AxesSubplot:title={'center':'Boxplot'}>"
      ]
     },
     "execution_count": 24,
     "metadata": {},
     "output_type": "execute_result"
    },
    {
     "data": {
      "image/png": "[encoded data removed]",
      "text/plain": [
       "<Figure size 576x576 with 1 Axes>"
      ]
     },
     "metadata": {
      "needs_background": "light"
     },
     "output_type": "display_data"
    }
   ],
   "source": [
    "#График «ящик с усами» \n",
    "plt.figure(figsize=(8, 8))\n",
    "plt.grid(True)\n",
    "plt.title('Boxplot')\n",
    "sns.boxplot(data=market_file['длительность'])"
   ]
  },
  {
   "cell_type": "code",
   "execution_count": 25,
   "metadata": {},
   "outputs": [
    {
     "data": {
      "text/plain": [
       "('маркет_актив_тек_мес', 'акционные_покупки')"
      ]
     },
     "execution_count": 25,
     "metadata": {},
     "output_type": "execute_result"
    }
   ],
   "source": [
    "'маркет_актив_тек_мес', 'акционные_покупки'"
   ]
  },
  {
   "cell_type": "code",
   "execution_count": 26,
   "metadata": {},
   "outputs": [
    {
     "data": {
      "text/plain": [
       "<AxesSubplot:title={'center':'Boxplot'}>"
      ]
     },
     "execution_count": 26,
     "metadata": {},
     "output_type": "execute_result"
    },
    {
     "data": {
      "image/png": "[encoded data removed]",
      "text/plain": [
       "<Figure size 576x576 with 1 Axes>"
      ]
     },
     "metadata": {
      "needs_background": "light"
     },
     "output_type": "display_data"
    }
   ],
   "source": [
    "#График «ящик с усами» \n",
    "plt.figure(figsize=(8, 8))\n",
    "plt.grid(True)\n",
    "plt.title('Boxplot')\n",
    "sns.boxplot(data=market_file['акционные_покупки'])"
   ]
  },
  {
   "cell_type": "code",
   "execution_count": 27,
   "metadata": {},
   "outputs": [
    {
     "data": {
      "text/plain": [
       "<AxesSubplot:title={'center':'Boxplot'}>"
      ]
     },
     "execution_count": 27,
     "metadata": {},
     "output_type": "execute_result"
    },
    {
     "data": {
      "image/png": "[encoded data removed]",
      "text/plain": [
       "<Figure size 576x576 with 1 Axes>"
      ]
     },
     "metadata": {
      "needs_background": "light"
     },
     "output_type": "display_data"
    }
   ],
   "source": [
    "#График «ящик с усами» \n",
    "plt.figure(figsize=(8, 8))\n",
    "plt.grid(True)\n",
    "plt.title('Boxplot')\n",
    "sns.boxplot(data=market_file['маркет_актив_тек_мес'])"
   ]
  },
  {
   "cell_type": "code",
   "execution_count": 28,
   "metadata": {},
   "outputs": [
    {
     "data": {
      "text/html": [
       "<div>\n",
       "<style scoped>\n",
       "    .dataframe tbody tr th:only-of-type {\n",
       "        vertical-align: middle;\n",
       "    }\n",
       "\n",
       "    .dataframe tbody tr th {\n",
       "        vertical-align: top;\n",
       "    }\n",
       "\n",
       "    .dataframe thead th {\n",
       "        text-align: right;\n",
       "    }\n",
       "</style>\n",
       "<table border=\"1\" class=\"dataframe\">\n",
       "  <thead>\n",
       "    <tr style=\"text-align: right;\">\n",
       "      <th></th>\n",
       "      <th>id</th>\n",
       "      <th>маркет_актив_6_мес</th>\n",
       "      <th>маркет_актив_тек_мес</th>\n",
       "      <th>длительность</th>\n",
       "      <th>акционные_покупки</th>\n",
       "      <th>средний_просмотр_категорий_за_визит</th>\n",
       "      <th>неоплаченные_продукты_штук_квартал</th>\n",
       "      <th>ошибка_сервиса</th>\n",
       "      <th>страниц_за_визит</th>\n",
       "    </tr>\n",
       "  </thead>\n",
       "  <tbody>\n",
       "    <tr>\n",
       "      <th>count</th>\n",
       "      <td>1300.000000</td>\n",
       "      <td>1300.000000</td>\n",
       "      <td>1300.000000</td>\n",
       "      <td>1300.000000</td>\n",
       "      <td>1300.000000</td>\n",
       "      <td>1300.00000</td>\n",
       "      <td>1300.000000</td>\n",
       "      <td>1300.000000</td>\n",
       "      <td>1300.000000</td>\n",
       "    </tr>\n",
       "    <tr>\n",
       "      <th>mean</th>\n",
       "      <td>215997.500000</td>\n",
       "      <td>4.253769</td>\n",
       "      <td>4.011538</td>\n",
       "      <td>601.898462</td>\n",
       "      <td>0.319808</td>\n",
       "      <td>3.27000</td>\n",
       "      <td>2.840000</td>\n",
       "      <td>4.185385</td>\n",
       "      <td>8.176923</td>\n",
       "    </tr>\n",
       "    <tr>\n",
       "      <th>std</th>\n",
       "      <td>375.421985</td>\n",
       "      <td>1.014814</td>\n",
       "      <td>0.696868</td>\n",
       "      <td>249.856289</td>\n",
       "      <td>0.249843</td>\n",
       "      <td>1.35535</td>\n",
       "      <td>1.971451</td>\n",
       "      <td>1.955298</td>\n",
       "      <td>3.978126</td>\n",
       "    </tr>\n",
       "    <tr>\n",
       "      <th>min</th>\n",
       "      <td>215348.000000</td>\n",
       "      <td>0.900000</td>\n",
       "      <td>3.000000</td>\n",
       "      <td>110.000000</td>\n",
       "      <td>0.000000</td>\n",
       "      <td>1.00000</td>\n",
       "      <td>0.000000</td>\n",
       "      <td>0.000000</td>\n",
       "      <td>1.000000</td>\n",
       "    </tr>\n",
       "    <tr>\n",
       "      <th>25%</th>\n",
       "      <td>215672.750000</td>\n",
       "      <td>3.700000</td>\n",
       "      <td>4.000000</td>\n",
       "      <td>405.500000</td>\n",
       "      <td>0.170000</td>\n",
       "      <td>2.00000</td>\n",
       "      <td>1.000000</td>\n",
       "      <td>3.000000</td>\n",
       "      <td>5.000000</td>\n",
       "    </tr>\n",
       "    <tr>\n",
       "      <th>50%</th>\n",
       "      <td>215997.500000</td>\n",
       "      <td>4.200000</td>\n",
       "      <td>4.000000</td>\n",
       "      <td>606.000000</td>\n",
       "      <td>0.240000</td>\n",
       "      <td>3.00000</td>\n",
       "      <td>3.000000</td>\n",
       "      <td>4.000000</td>\n",
       "      <td>8.000000</td>\n",
       "    </tr>\n",
       "    <tr>\n",
       "      <th>75%</th>\n",
       "      <td>216322.250000</td>\n",
       "      <td>4.900000</td>\n",
       "      <td>4.000000</td>\n",
       "      <td>806.000000</td>\n",
       "      <td>0.300000</td>\n",
       "      <td>4.00000</td>\n",
       "      <td>4.000000</td>\n",
       "      <td>6.000000</td>\n",
       "      <td>11.000000</td>\n",
       "    </tr>\n",
       "    <tr>\n",
       "      <th>max</th>\n",
       "      <td>216647.000000</td>\n",
       "      <td>6.600000</td>\n",
       "      <td>5.000000</td>\n",
       "      <td>1079.000000</td>\n",
       "      <td>0.990000</td>\n",
       "      <td>6.00000</td>\n",
       "      <td>10.000000</td>\n",
       "      <td>9.000000</td>\n",
       "      <td>20.000000</td>\n",
       "    </tr>\n",
       "  </tbody>\n",
       "</table>\n",
       "</div>"
      ],
      "text/plain": [
       "                  id  маркет_актив_6_мес  маркет_актив_тек_мес  длительность  \\\n",
       "count    1300.000000         1300.000000           1300.000000   1300.000000   \n",
       "mean   215997.500000            4.253769              4.011538    601.898462   \n",
       "std       375.421985            1.014814              0.696868    249.856289   \n",
       "min    215348.000000            0.900000              3.000000    110.000000   \n",
       "25%    215672.750000            3.700000              4.000000    405.500000   \n",
       "50%    215997.500000            4.200000              4.000000    606.000000   \n",
       "75%    216322.250000            4.900000              4.000000    806.000000   \n",
       "max    216647.000000            6.600000              5.000000   1079.000000   \n",
       "\n",
       "       акционные_покупки  средний_просмотр_категорий_за_визит  \\\n",
       "count        1300.000000                           1300.00000   \n",
       "mean            0.319808                              3.27000   \n",
       "std             0.249843                              1.35535   \n",
       "min             0.000000                              1.00000   \n",
       "25%             0.170000                              2.00000   \n",
       "50%             0.240000                              3.00000   \n",
       "75%             0.300000                              4.00000   \n",
       "max             0.990000                              6.00000   \n",
       "\n",
       "       неоплаченные_продукты_штук_квартал  ошибка_сервиса  страниц_за_визит  \n",
       "count                         1300.000000     1300.000000       1300.000000  \n",
       "mean                             2.840000        4.185385          8.176923  \n",
       "std                              1.971451        1.955298          3.978126  \n",
       "min                              0.000000        0.000000          1.000000  \n",
       "25%                              1.000000        3.000000          5.000000  \n",
       "50%                              3.000000        4.000000          8.000000  \n",
       "75%                              4.000000        6.000000         11.000000  \n",
       "max                             10.000000        9.000000         20.000000  "
      ]
     },
     "execution_count": 28,
     "metadata": {},
     "output_type": "execute_result"
    }
   ],
   "source": [
    "market_file.describe()"
   ]
  },
  {
   "cell_type": "code",
   "execution_count": 29,
   "metadata": {},
   "outputs": [
    {
     "name": "stdout",
     "output_type": "stream",
     "text": [
      "<class 'pandas.core.frame.DataFrame'>\n",
      "RangeIndex: 1300 entries, 0 to 1299\n",
      "Data columns (total 13 columns):\n",
      " #   Column                               Non-Null Count  Dtype  \n",
      "---  ------                               --------------  -----  \n",
      " 0   id                                   1300 non-null   int64  \n",
      " 1   покупательская_активность            1300 non-null   object \n",
      " 2   тип_сервиса                          1300 non-null   object \n",
      " 3   разрешить_сообщать                   1300 non-null   object \n",
      " 4   маркет_актив_6_мес                   1300 non-null   float64\n",
      " 5   маркет_актив_тек_мес                 1300 non-null   int64  \n",
      " 6   длительность                         1300 non-null   int64  \n",
      " 7   акционные_покупки                    1300 non-null   float64\n",
      " 8   популярная_категория                 1300 non-null   object \n",
      " 9   средний_просмотр_категорий_за_визит  1300 non-null   int64  \n",
      " 10  неоплаченные_продукты_штук_квартал   1300 non-null   int64  \n",
      " 11  ошибка_сервиса                       1300 non-null   int64  \n",
      " 12  страниц_за_визит                     1300 non-null   int64  \n",
      "dtypes: float64(2), int64(7), object(4)\n",
      "memory usage: 132.2+ KB\n"
     ]
    }
   ],
   "source": [
    "market_file.info()"
   ]
  },
  {
   "cell_type": "code",
   "execution_count": 30,
   "metadata": {},
   "outputs": [],
   "source": [
    "def pie(df, column):\n",
    "    df[column].value_counts().plot(kind='pie', grid=True, figsize=(16, 8))\n",
    "    print (df[column].value_counts() / df[column].count())"
   ]
  },
  {
   "cell_type": "code",
   "execution_count": 31,
   "metadata": {},
   "outputs": [
    {
     "name": "stdout",
     "output_type": "stream",
     "text": [
      "Прежний уровень    0.616923\n",
      "Снизилась          0.383077\n",
      "Name: покупательская_активность, dtype: float64\n"
     ]
    },
    {
     "data": {
      "image/png": "[encoded data removed]",
      "text/plain": [
       "<Figure size 1152x576 with 1 Axes>"
      ]
     },
     "metadata": {},
     "output_type": "display_data"
    }
   ],
   "source": [
    "pie(market_file, 'покупательская_активность')"
   ]
  },
  {
   "cell_type": "code",
   "execution_count": 32,
   "metadata": {},
   "outputs": [
    {
     "name": "stdout",
     "output_type": "stream",
     "text": [
      "стандарт    0.710769\n",
      "премиум     0.289231\n",
      "Name: тип_сервиса, dtype: float64\n"
     ]
    },
    {
     "data": {
      "image/png": "[encoded data removed]",
      "text/plain": [
       "<Figure size 1152x576 with 1 Axes>"
      ]
     },
     "metadata": {},
     "output_type": "display_data"
    }
   ],
   "source": [
    "pie(market_file, 'тип_сервиса')"
   ]
  },
  {
   "cell_type": "code",
   "execution_count": 33,
   "metadata": {},
   "outputs": [
    {
     "name": "stdout",
     "output_type": "stream",
     "text": [
      "да     0.74\n",
      "нет    0.26\n",
      "Name: разрешить_сообщать, dtype: float64\n"
     ]
    },
    {
     "data": {
      "image/png": "[encoded data removed]",
      "text/plain": [
       "<Figure size 1152x576 with 1 Axes>"
      ]
     },
     "metadata": {},
     "output_type": "display_data"
    }
   ],
   "source": [
    "pie(market_file, 'разрешить_сообщать')"
   ]
  },
  {
   "cell_type": "code",
   "execution_count": 34,
   "metadata": {},
   "outputs": [
    {
     "name": "stdout",
     "output_type": "stream",
     "text": [
      "Товары для детей                        0.253846\n",
      "Домашний текстиль                       0.193077\n",
      "Косметика и аксесуары                   0.171538\n",
      "Техника для красоты и здоровья          0.141538\n",
      "Мелкая бытовая техника и электроника    0.133846\n",
      "Кухонная посуда                         0.106154\n",
      "Name: популярная_категория, dtype: float64\n"
     ]
    },
    {
     "data": {
      "image/png": "[encoded data removed]",
      "text/plain": [
       "<Figure size 1152x576 with 1 Axes>"
      ]
     },
     "metadata": {},
     "output_type": "display_data"
    }
   ],
   "source": [
    "pie(market_file, 'популярная_категория')"
   ]
  },
  {
   "cell_type": "markdown",
   "metadata": {},
   "source": [
    "В столбцах: 'покупательская_активность', 'тип_сервиса' и 'разрешить_сообщать' наблюдается дисбаланс в значениях. "
   ]
  },
  {
   "cell_type": "markdown",
   "metadata": {},
   "source": [
    "### Датафрейм market_money"
   ]
  },
  {
   "cell_type": "code",
   "execution_count": 35,
   "metadata": {},
   "outputs": [
    {
     "data": {
      "image/png": "[encoded data removed]",
      "text/plain": [
       "<Figure size 1440x720 with 2 Axes>"
      ]
     },
     "metadata": {
      "needs_background": "light"
     },
     "output_type": "display_data"
    }
   ],
   "source": [
    "market_money.hist(figsize=(20, 10));"
   ]
  },
  {
   "cell_type": "code",
   "execution_count": 36,
   "metadata": {},
   "outputs": [
    {
     "data": {
      "text/html": [
       "<div>\n",
       "<style scoped>\n",
       "    .dataframe tbody tr th:only-of-type {\n",
       "        vertical-align: middle;\n",
       "    }\n",
       "\n",
       "    .dataframe tbody tr th {\n",
       "        vertical-align: top;\n",
       "    }\n",
       "\n",
       "    .dataframe thead th {\n",
       "        text-align: right;\n",
       "    }\n",
       "</style>\n",
       "<table border=\"1\" class=\"dataframe\">\n",
       "  <thead>\n",
       "    <tr style=\"text-align: right;\">\n",
       "      <th></th>\n",
       "      <th>id</th>\n",
       "      <th>выручка</th>\n",
       "    </tr>\n",
       "  </thead>\n",
       "  <tbody>\n",
       "    <tr>\n",
       "      <th>count</th>\n",
       "      <td>3900.000000</td>\n",
       "      <td>3900.000000</td>\n",
       "    </tr>\n",
       "    <tr>\n",
       "      <th>mean</th>\n",
       "      <td>215997.500000</td>\n",
       "      <td>5025.696051</td>\n",
       "    </tr>\n",
       "    <tr>\n",
       "      <th>std</th>\n",
       "      <td>375.325686</td>\n",
       "      <td>1777.704104</td>\n",
       "    </tr>\n",
       "    <tr>\n",
       "      <th>min</th>\n",
       "      <td>215348.000000</td>\n",
       "      <td>0.000000</td>\n",
       "    </tr>\n",
       "    <tr>\n",
       "      <th>25%</th>\n",
       "      <td>215672.750000</td>\n",
       "      <td>4590.150000</td>\n",
       "    </tr>\n",
       "    <tr>\n",
       "      <th>50%</th>\n",
       "      <td>215997.500000</td>\n",
       "      <td>4957.500000</td>\n",
       "    </tr>\n",
       "    <tr>\n",
       "      <th>75%</th>\n",
       "      <td>216322.250000</td>\n",
       "      <td>5363.000000</td>\n",
       "    </tr>\n",
       "    <tr>\n",
       "      <th>max</th>\n",
       "      <td>216647.000000</td>\n",
       "      <td>106862.200000</td>\n",
       "    </tr>\n",
       "  </tbody>\n",
       "</table>\n",
       "</div>"
      ],
      "text/plain": [
       "                  id        выручка\n",
       "count    3900.000000    3900.000000\n",
       "mean   215997.500000    5025.696051\n",
       "std       375.325686    1777.704104\n",
       "min    215348.000000       0.000000\n",
       "25%    215672.750000    4590.150000\n",
       "50%    215997.500000    4957.500000\n",
       "75%    216322.250000    5363.000000\n",
       "max    216647.000000  106862.200000"
      ]
     },
     "execution_count": 36,
     "metadata": {},
     "output_type": "execute_result"
    }
   ],
   "source": [
    "market_money.describe()"
   ]
  },
  {
   "cell_type": "code",
   "execution_count": 37,
   "metadata": {},
   "outputs": [
    {
     "name": "stdout",
     "output_type": "stream",
     "text": [
      "<class 'pandas.core.frame.DataFrame'>\n",
      "RangeIndex: 3900 entries, 0 to 3899\n",
      "Data columns (total 3 columns):\n",
      " #   Column   Non-Null Count  Dtype  \n",
      "---  ------   --------------  -----  \n",
      " 0   id       3900 non-null   int64  \n",
      " 1   период   3900 non-null   object \n",
      " 2   выручка  3900 non-null   float64\n",
      "dtypes: float64(1), int64(1), object(1)\n",
      "memory usage: 91.5+ KB\n"
     ]
    }
   ],
   "source": [
    "# Избавимся от выброса\n",
    "#market_money = market_money[market_money['выручка'] != 106862.2]\n",
    "#market_money = market_money[market_money['выручка'] != 0]\n",
    "market_money.info()"
   ]
  },
  {
   "cell_type": "code",
   "execution_count": 38,
   "metadata": {},
   "outputs": [
    {
     "data": {
      "image/png": "[encoded data removed]",
      "text/plain": [
       "<Figure size 1440x720 with 1 Axes>"
      ]
     },
     "metadata": {
      "needs_background": "light"
     },
     "output_type": "display_data"
    }
   ],
   "source": [
    "# Выбросы отсутсвуют \n",
    "market_money['выручка'].hist(figsize=(20, 10));"
   ]
  },
  {
   "cell_type": "code",
   "execution_count": 39,
   "metadata": {},
   "outputs": [
    {
     "data": {
      "text/plain": [
       "count      3900.000000\n",
       "mean       5025.696051\n",
       "std        1777.704104\n",
       "min           0.000000\n",
       "25%        4590.150000\n",
       "50%        4957.500000\n",
       "75%        5363.000000\n",
       "max      106862.200000\n",
       "Name: выручка, dtype: float64"
      ]
     },
     "execution_count": 39,
     "metadata": {},
     "output_type": "execute_result"
    }
   ],
   "source": [
    "market_money['выручка'].describe()"
   ]
  },
  {
   "cell_type": "code",
   "execution_count": 40,
   "metadata": {},
   "outputs": [
    {
     "name": "stdout",
     "output_type": "stream",
     "text": [
      "предыдущий_месяц    0.666667\n",
      "текущий_месяц       0.333333\n",
      "Name: период, dtype: float64\n"
     ]
    },
    {
     "data": {
      "image/png": "[encoded data removed]",
      "text/plain": [
       "<Figure size 1152x576 with 1 Axes>"
      ]
     },
     "metadata": {},
     "output_type": "display_data"
    }
   ],
   "source": [
    "pie(market_money, 'период')"
   ]
  },
  {
   "cell_type": "markdown",
   "metadata": {},
   "source": [
    "### Датафрейм market_time"
   ]
  },
  {
   "cell_type": "code",
   "execution_count": 41,
   "metadata": {},
   "outputs": [
    {
     "data": {
      "image/png": "[encoded data removed]",
      "text/plain": [
       "<Figure size 1440x720 with 2 Axes>"
      ]
     },
     "metadata": {
      "needs_background": "light"
     },
     "output_type": "display_data"
    }
   ],
   "source": [
    "market_time.hist(figsize=(20, 10));"
   ]
  },
  {
   "cell_type": "code",
   "execution_count": 42,
   "metadata": {},
   "outputs": [
    {
     "data": {
      "text/html": [
       "<div>\n",
       "<style scoped>\n",
       "    .dataframe tbody tr th:only-of-type {\n",
       "        vertical-align: middle;\n",
       "    }\n",
       "\n",
       "    .dataframe tbody tr th {\n",
       "        vertical-align: top;\n",
       "    }\n",
       "\n",
       "    .dataframe thead th {\n",
       "        text-align: right;\n",
       "    }\n",
       "</style>\n",
       "<table border=\"1\" class=\"dataframe\">\n",
       "  <thead>\n",
       "    <tr style=\"text-align: right;\">\n",
       "      <th></th>\n",
       "      <th>id</th>\n",
       "      <th>минут</th>\n",
       "    </tr>\n",
       "  </thead>\n",
       "  <tbody>\n",
       "    <tr>\n",
       "      <th>count</th>\n",
       "      <td>2600.000000</td>\n",
       "      <td>2600.000000</td>\n",
       "    </tr>\n",
       "    <tr>\n",
       "      <th>mean</th>\n",
       "      <td>215997.500000</td>\n",
       "      <td>13.336154</td>\n",
       "    </tr>\n",
       "    <tr>\n",
       "      <th>std</th>\n",
       "      <td>375.349754</td>\n",
       "      <td>4.080198</td>\n",
       "    </tr>\n",
       "    <tr>\n",
       "      <th>min</th>\n",
       "      <td>215348.000000</td>\n",
       "      <td>4.000000</td>\n",
       "    </tr>\n",
       "    <tr>\n",
       "      <th>25%</th>\n",
       "      <td>215672.750000</td>\n",
       "      <td>10.000000</td>\n",
       "    </tr>\n",
       "    <tr>\n",
       "      <th>50%</th>\n",
       "      <td>215997.500000</td>\n",
       "      <td>13.000000</td>\n",
       "    </tr>\n",
       "    <tr>\n",
       "      <th>75%</th>\n",
       "      <td>216322.250000</td>\n",
       "      <td>16.000000</td>\n",
       "    </tr>\n",
       "    <tr>\n",
       "      <th>max</th>\n",
       "      <td>216647.000000</td>\n",
       "      <td>23.000000</td>\n",
       "    </tr>\n",
       "  </tbody>\n",
       "</table>\n",
       "</div>"
      ],
      "text/plain": [
       "                  id        минут\n",
       "count    2600.000000  2600.000000\n",
       "mean   215997.500000    13.336154\n",
       "std       375.349754     4.080198\n",
       "min    215348.000000     4.000000\n",
       "25%    215672.750000    10.000000\n",
       "50%    215997.500000    13.000000\n",
       "75%    216322.250000    16.000000\n",
       "max    216647.000000    23.000000"
      ]
     },
     "execution_count": 42,
     "metadata": {},
     "output_type": "execute_result"
    }
   ],
   "source": [
    "market_time.describe()"
   ]
  },
  {
   "cell_type": "code",
   "execution_count": 43,
   "metadata": {},
   "outputs": [
    {
     "name": "stdout",
     "output_type": "stream",
     "text": [
      "предыдцщий_месяц    0.5\n",
      "текущий_месяц       0.5\n",
      "Name: период, dtype: float64\n"
     ]
    },
    {
     "data": {
      "image/png": "[encoded data removed]",
      "text/plain": [
       "<Figure size 1152x576 with 1 Axes>"
      ]
     },
     "metadata": {},
     "output_type": "display_data"
    }
   ],
   "source": [
    "pie(market_time, 'период')"
   ]
  },
  {
   "cell_type": "markdown",
   "metadata": {},
   "source": [
    "### Датафрейм  money"
   ]
  },
  {
   "cell_type": "code",
   "execution_count": 44,
   "metadata": {},
   "outputs": [
    {
     "data": {
      "image/png": "[encoded data removed]",
      "text/plain": [
       "<Figure size 1440x720 with 2 Axes>"
      ]
     },
     "metadata": {
      "needs_background": "light"
     },
     "output_type": "display_data"
    }
   ],
   "source": [
    "money.hist(figsize=(20, 10));"
   ]
  },
  {
   "cell_type": "code",
   "execution_count": 45,
   "metadata": {},
   "outputs": [
    {
     "data": {
      "text/html": [
       "<div>\n",
       "<style scoped>\n",
       "    .dataframe tbody tr th:only-of-type {\n",
       "        vertical-align: middle;\n",
       "    }\n",
       "\n",
       "    .dataframe tbody tr th {\n",
       "        vertical-align: top;\n",
       "    }\n",
       "\n",
       "    .dataframe thead th {\n",
       "        text-align: right;\n",
       "    }\n",
       "</style>\n",
       "<table border=\"1\" class=\"dataframe\">\n",
       "  <thead>\n",
       "    <tr style=\"text-align: right;\">\n",
       "      <th></th>\n",
       "      <th>id</th>\n",
       "      <th>прибыль</th>\n",
       "    </tr>\n",
       "  </thead>\n",
       "  <tbody>\n",
       "    <tr>\n",
       "      <th>count</th>\n",
       "      <td>1300.000000</td>\n",
       "      <td>1300.000000</td>\n",
       "    </tr>\n",
       "    <tr>\n",
       "      <th>mean</th>\n",
       "      <td>215997.500000</td>\n",
       "      <td>3.996631</td>\n",
       "    </tr>\n",
       "    <tr>\n",
       "      <th>std</th>\n",
       "      <td>375.421985</td>\n",
       "      <td>1.013722</td>\n",
       "    </tr>\n",
       "    <tr>\n",
       "      <th>min</th>\n",
       "      <td>215348.000000</td>\n",
       "      <td>0.860000</td>\n",
       "    </tr>\n",
       "    <tr>\n",
       "      <th>25%</th>\n",
       "      <td>215672.750000</td>\n",
       "      <td>3.300000</td>\n",
       "    </tr>\n",
       "    <tr>\n",
       "      <th>50%</th>\n",
       "      <td>215997.500000</td>\n",
       "      <td>4.045000</td>\n",
       "    </tr>\n",
       "    <tr>\n",
       "      <th>75%</th>\n",
       "      <td>216322.250000</td>\n",
       "      <td>4.670000</td>\n",
       "    </tr>\n",
       "    <tr>\n",
       "      <th>max</th>\n",
       "      <td>216647.000000</td>\n",
       "      <td>7.430000</td>\n",
       "    </tr>\n",
       "  </tbody>\n",
       "</table>\n",
       "</div>"
      ],
      "text/plain": [
       "                  id      прибыль\n",
       "count    1300.000000  1300.000000\n",
       "mean   215997.500000     3.996631\n",
       "std       375.421985     1.013722\n",
       "min    215348.000000     0.860000\n",
       "25%    215672.750000     3.300000\n",
       "50%    215997.500000     4.045000\n",
       "75%    216322.250000     4.670000\n",
       "max    216647.000000     7.430000"
      ]
     },
     "execution_count": 45,
     "metadata": {},
     "output_type": "execute_result"
    }
   ],
   "source": [
    "money.describe()"
   ]
  },
  {
   "cell_type": "markdown",
   "metadata": {},
   "source": [
    "**Вывод:** \n",
    "- В столбцах датафрейма market_file: 'покупательская_активность', 'тип_сервиса' и 'разрешить_сообщать' наблюдается дисбаланс в значениях. <ыли удалены выбросы в столбцах 'акционные_покупки', 'маркет_актив_6_мес', 'неоплаченные_продукты_штук_квартал', 'страниц_за_визит'.\n",
    "- В датафреме market_money были удалены выбросы в столбце 'выручка'. Замечен дисбаланс в столбце 'период'.\n",
    "- В датафреме market_time не были замечены выбросы и дисбаланс.\n",
    "- В датафреме money не было замечено выбросов.\n",
    "\n",
    "Для того чтобы отобрать пользователей с активностью не менее трех месяцев нужно взять id пользователей из датафрейма money, так как это таблица с данными о среднемесячной прибыли покупателя за последние 3 месяца."
   ]
  },
  {
   "cell_type": "markdown",
   "metadata": {},
   "source": [
    "## Объединение таблиц"
   ]
  },
  {
   "cell_type": "code",
   "execution_count": 46,
   "metadata": {},
   "outputs": [
    {
     "name": "stdout",
     "output_type": "stream",
     "text": [
      "<class 'pandas.core.frame.DataFrame'>\n",
      "RangeIndex: 1300 entries, 0 to 1299\n",
      "Data columns (total 3 columns):\n",
      " #   Column                    Non-Null Count  Dtype  \n",
      "---  ------                    --------------  -----  \n",
      " 0   id                        1300 non-null   int64  \n",
      " 1   выручка_предыдущий_месяц  1300 non-null   float64\n",
      " 2   выручка_текущий_месяц     1300 non-null   float64\n",
      "dtypes: float64(2), int64(1)\n",
      "memory usage: 30.6 KB\n"
     ]
    }
   ],
   "source": [
    "m_money = pd.pivot_table(market_money, index='id', columns='период', values='выручка')\n",
    "m_money = m_money.reset_index()\n",
    "m_money.columns = ['id', 'выручка_предыдущий_месяц', 'выручка_текущий_месяц']\n",
    "m_money.info()"
   ]
  },
  {
   "cell_type": "code",
   "execution_count": 47,
   "metadata": {},
   "outputs": [
    {
     "data": {
      "text/html": [
       "<div>\n",
       "<style scoped>\n",
       "    .dataframe tbody tr th:only-of-type {\n",
       "        vertical-align: middle;\n",
       "    }\n",
       "\n",
       "    .dataframe tbody tr th {\n",
       "        vertical-align: top;\n",
       "    }\n",
       "\n",
       "    .dataframe thead th {\n",
       "        text-align: right;\n",
       "    }\n",
       "</style>\n",
       "<table border=\"1\" class=\"dataframe\">\n",
       "  <thead>\n",
       "    <tr style=\"text-align: right;\">\n",
       "      <th></th>\n",
       "      <th>id</th>\n",
       "      <th>минут_предыдущий_месяц</th>\n",
       "      <th>минут_текущий_месяц</th>\n",
       "    </tr>\n",
       "  </thead>\n",
       "  <tbody>\n",
       "    <tr>\n",
       "      <th>0</th>\n",
       "      <td>215348</td>\n",
       "      <td>13</td>\n",
       "      <td>14</td>\n",
       "    </tr>\n",
       "    <tr>\n",
       "      <th>1</th>\n",
       "      <td>215349</td>\n",
       "      <td>12</td>\n",
       "      <td>10</td>\n",
       "    </tr>\n",
       "    <tr>\n",
       "      <th>2</th>\n",
       "      <td>215350</td>\n",
       "      <td>8</td>\n",
       "      <td>13</td>\n",
       "    </tr>\n",
       "    <tr>\n",
       "      <th>3</th>\n",
       "      <td>215351</td>\n",
       "      <td>11</td>\n",
       "      <td>13</td>\n",
       "    </tr>\n",
       "    <tr>\n",
       "      <th>4</th>\n",
       "      <td>215352</td>\n",
       "      <td>8</td>\n",
       "      <td>11</td>\n",
       "    </tr>\n",
       "    <tr>\n",
       "      <th>...</th>\n",
       "      <td>...</td>\n",
       "      <td>...</td>\n",
       "      <td>...</td>\n",
       "    </tr>\n",
       "    <tr>\n",
       "      <th>1295</th>\n",
       "      <td>216643</td>\n",
       "      <td>14</td>\n",
       "      <td>7</td>\n",
       "    </tr>\n",
       "    <tr>\n",
       "      <th>1296</th>\n",
       "      <td>216644</td>\n",
       "      <td>12</td>\n",
       "      <td>11</td>\n",
       "    </tr>\n",
       "    <tr>\n",
       "      <th>1297</th>\n",
       "      <td>216645</td>\n",
       "      <td>12</td>\n",
       "      <td>18</td>\n",
       "    </tr>\n",
       "    <tr>\n",
       "      <th>1298</th>\n",
       "      <td>216646</td>\n",
       "      <td>18</td>\n",
       "      <td>7</td>\n",
       "    </tr>\n",
       "    <tr>\n",
       "      <th>1299</th>\n",
       "      <td>216647</td>\n",
       "      <td>15</td>\n",
       "      <td>10</td>\n",
       "    </tr>\n",
       "  </tbody>\n",
       "</table>\n",
       "<p>1300 rows × 3 columns</p>\n",
       "</div>"
      ],
      "text/plain": [
       "          id  минут_предыдущий_месяц  минут_текущий_месяц\n",
       "0     215348                      13                   14\n",
       "1     215349                      12                   10\n",
       "2     215350                       8                   13\n",
       "3     215351                      11                   13\n",
       "4     215352                       8                   11\n",
       "...      ...                     ...                  ...\n",
       "1295  216643                      14                    7\n",
       "1296  216644                      12                   11\n",
       "1297  216645                      12                   18\n",
       "1298  216646                      18                    7\n",
       "1299  216647                      15                   10\n",
       "\n",
       "[1300 rows x 3 columns]"
      ]
     },
     "execution_count": 47,
     "metadata": {},
     "output_type": "execute_result"
    }
   ],
   "source": [
    "m_time = pd.pivot_table(market_time, index='id', columns='период', values='минут')\n",
    "m_time = m_time.reset_index()\n",
    "m_time.columns = ['id', 'минут_предыдущий_месяц', 'минут_текущий_месяц']\n",
    "m_time"
   ]
  },
  {
   "cell_type": "code",
   "execution_count": 48,
   "metadata": {},
   "outputs": [],
   "source": [
    "# Переимнование столбцов\n",
    "# print(market_money.columns, '\\n', market_time.columns, '\\n')\n",
    "# market_money = market_money.rename(columns={'период':'период_деньги'})\n",
    "# market_time = market_time.rename(columns={'период':'период_время'})\n",
    "# print(market_money.columns, '\\n', market_time.columns)"
   ]
  },
  {
   "cell_type": "code",
   "execution_count": 49,
   "metadata": {},
   "outputs": [],
   "source": [
    "# Установим новые индексы\n",
    "market_file = market_file.set_index('id')\n",
    "m_money = m_money.set_index('id')\n",
    "m_time = m_time.set_index('id')\n",
    "money = money.set_index('id')"
   ]
  },
  {
   "cell_type": "code",
   "execution_count": 50,
   "metadata": {},
   "outputs": [
    {
     "data": {
      "text/html": [
       "<div>\n",
       "<style scoped>\n",
       "    .dataframe tbody tr th:only-of-type {\n",
       "        vertical-align: middle;\n",
       "    }\n",
       "\n",
       "    .dataframe tbody tr th {\n",
       "        vertical-align: top;\n",
       "    }\n",
       "\n",
       "    .dataframe thead th {\n",
       "        text-align: right;\n",
       "    }\n",
       "</style>\n",
       "<table border=\"1\" class=\"dataframe\">\n",
       "  <thead>\n",
       "    <tr style=\"text-align: right;\">\n",
       "      <th></th>\n",
       "      <th>покупательская_активность</th>\n",
       "      <th>тип_сервиса</th>\n",
       "      <th>разрешить_сообщать</th>\n",
       "      <th>маркет_актив_6_мес</th>\n",
       "      <th>маркет_актив_тек_мес</th>\n",
       "      <th>длительность</th>\n",
       "      <th>акционные_покупки</th>\n",
       "      <th>популярная_категория</th>\n",
       "      <th>средний_просмотр_категорий_за_визит</th>\n",
       "      <th>неоплаченные_продукты_штук_квартал</th>\n",
       "      <th>ошибка_сервиса</th>\n",
       "      <th>страниц_за_визит</th>\n",
       "      <th>выручка_предыдущий_месяц</th>\n",
       "      <th>выручка_текущий_месяц</th>\n",
       "      <th>минут_предыдущий_месяц</th>\n",
       "      <th>минут_текущий_месяц</th>\n",
       "    </tr>\n",
       "    <tr>\n",
       "      <th>id</th>\n",
       "      <th></th>\n",
       "      <th></th>\n",
       "      <th></th>\n",
       "      <th></th>\n",
       "      <th></th>\n",
       "      <th></th>\n",
       "      <th></th>\n",
       "      <th></th>\n",
       "      <th></th>\n",
       "      <th></th>\n",
       "      <th></th>\n",
       "      <th></th>\n",
       "      <th></th>\n",
       "      <th></th>\n",
       "      <th></th>\n",
       "      <th></th>\n",
       "    </tr>\n",
       "  </thead>\n",
       "  <tbody>\n",
       "    <tr>\n",
       "      <th>215349</th>\n",
       "      <td>Снизилась</td>\n",
       "      <td>премиум</td>\n",
       "      <td>да</td>\n",
       "      <td>4.4</td>\n",
       "      <td>4</td>\n",
       "      <td>819</td>\n",
       "      <td>0.75</td>\n",
       "      <td>Товары для детей</td>\n",
       "      <td>4</td>\n",
       "      <td>4</td>\n",
       "      <td>2</td>\n",
       "      <td>5</td>\n",
       "      <td>4844.00</td>\n",
       "      <td>4971.6</td>\n",
       "      <td>12</td>\n",
       "      <td>10</td>\n",
       "    </tr>\n",
       "    <tr>\n",
       "      <th>215350</th>\n",
       "      <td>Снизилась</td>\n",
       "      <td>стандарт</td>\n",
       "      <td>нет</td>\n",
       "      <td>4.9</td>\n",
       "      <td>3</td>\n",
       "      <td>539</td>\n",
       "      <td>0.14</td>\n",
       "      <td>Домашний текстиль</td>\n",
       "      <td>5</td>\n",
       "      <td>2</td>\n",
       "      <td>1</td>\n",
       "      <td>5</td>\n",
       "      <td>5141.75</td>\n",
       "      <td>5058.4</td>\n",
       "      <td>8</td>\n",
       "      <td>13</td>\n",
       "    </tr>\n",
       "    <tr>\n",
       "      <th>215351</th>\n",
       "      <td>Снизилась</td>\n",
       "      <td>стандарт</td>\n",
       "      <td>да</td>\n",
       "      <td>3.2</td>\n",
       "      <td>5</td>\n",
       "      <td>896</td>\n",
       "      <td>0.99</td>\n",
       "      <td>Товары для детей</td>\n",
       "      <td>5</td>\n",
       "      <td>0</td>\n",
       "      <td>6</td>\n",
       "      <td>4</td>\n",
       "      <td>5475.50</td>\n",
       "      <td>6610.4</td>\n",
       "      <td>11</td>\n",
       "      <td>13</td>\n",
       "    </tr>\n",
       "    <tr>\n",
       "      <th>215352</th>\n",
       "      <td>Снизилась</td>\n",
       "      <td>стандарт</td>\n",
       "      <td>нет</td>\n",
       "      <td>5.1</td>\n",
       "      <td>3</td>\n",
       "      <td>1064</td>\n",
       "      <td>0.94</td>\n",
       "      <td>Товары для детей</td>\n",
       "      <td>3</td>\n",
       "      <td>2</td>\n",
       "      <td>3</td>\n",
       "      <td>2</td>\n",
       "      <td>5200.75</td>\n",
       "      <td>5872.5</td>\n",
       "      <td>8</td>\n",
       "      <td>11</td>\n",
       "    </tr>\n",
       "    <tr>\n",
       "      <th>215353</th>\n",
       "      <td>Снизилась</td>\n",
       "      <td>стандарт</td>\n",
       "      <td>да</td>\n",
       "      <td>3.3</td>\n",
       "      <td>4</td>\n",
       "      <td>762</td>\n",
       "      <td>0.26</td>\n",
       "      <td>Домашний текстиль</td>\n",
       "      <td>4</td>\n",
       "      <td>1</td>\n",
       "      <td>1</td>\n",
       "      <td>4</td>\n",
       "      <td>4931.25</td>\n",
       "      <td>5388.5</td>\n",
       "      <td>10</td>\n",
       "      <td>10</td>\n",
       "    </tr>\n",
       "    <tr>\n",
       "      <th>215354</th>\n",
       "      <td>Снизилась</td>\n",
       "      <td>стандарт</td>\n",
       "      <td>да</td>\n",
       "      <td>5.1</td>\n",
       "      <td>3</td>\n",
       "      <td>431</td>\n",
       "      <td>0.23</td>\n",
       "      <td>Косметика и аксесуары</td>\n",
       "      <td>2</td>\n",
       "      <td>3</td>\n",
       "      <td>7</td>\n",
       "      <td>2</td>\n",
       "      <td>5094.00</td>\n",
       "      <td>5869.6</td>\n",
       "      <td>11</td>\n",
       "      <td>12</td>\n",
       "    </tr>\n",
       "    <tr>\n",
       "      <th>215355</th>\n",
       "      <td>Снизилась</td>\n",
       "      <td>стандарт</td>\n",
       "      <td>нет</td>\n",
       "      <td>4.7</td>\n",
       "      <td>4</td>\n",
       "      <td>284</td>\n",
       "      <td>0.17</td>\n",
       "      <td>Товары для детей</td>\n",
       "      <td>5</td>\n",
       "      <td>1</td>\n",
       "      <td>6</td>\n",
       "      <td>4</td>\n",
       "      <td>4006.00</td>\n",
       "      <td>3772.6</td>\n",
       "      <td>12</td>\n",
       "      <td>10</td>\n",
       "    </tr>\n",
       "    <tr>\n",
       "      <th>215356</th>\n",
       "      <td>Снизилась</td>\n",
       "      <td>стандарт</td>\n",
       "      <td>да</td>\n",
       "      <td>4.2</td>\n",
       "      <td>4</td>\n",
       "      <td>192</td>\n",
       "      <td>0.14</td>\n",
       "      <td>Косметика и аксесуары</td>\n",
       "      <td>2</td>\n",
       "      <td>2</td>\n",
       "      <td>1</td>\n",
       "      <td>3</td>\n",
       "      <td>4289.75</td>\n",
       "      <td>4566.4</td>\n",
       "      <td>6</td>\n",
       "      <td>7</td>\n",
       "    </tr>\n",
       "    <tr>\n",
       "      <th>215358</th>\n",
       "      <td>Снизилась</td>\n",
       "      <td>стандарт</td>\n",
       "      <td>да</td>\n",
       "      <td>4.7</td>\n",
       "      <td>4</td>\n",
       "      <td>450</td>\n",
       "      <td>0.13</td>\n",
       "      <td>Домашний текстиль</td>\n",
       "      <td>4</td>\n",
       "      <td>2</td>\n",
       "      <td>6</td>\n",
       "      <td>4</td>\n",
       "      <td>4107.50</td>\n",
       "      <td>4209.5</td>\n",
       "      <td>14</td>\n",
       "      <td>10</td>\n",
       "    </tr>\n",
       "    <tr>\n",
       "      <th>215360</th>\n",
       "      <td>Снизилась</td>\n",
       "      <td>премиум</td>\n",
       "      <td>да</td>\n",
       "      <td>3.9</td>\n",
       "      <td>3</td>\n",
       "      <td>623</td>\n",
       "      <td>0.35</td>\n",
       "      <td>Кухонная посуда</td>\n",
       "      <td>3</td>\n",
       "      <td>1</td>\n",
       "      <td>4</td>\n",
       "      <td>7</td>\n",
       "      <td>5429.75</td>\n",
       "      <td>5834.9</td>\n",
       "      <td>9</td>\n",
       "      <td>6</td>\n",
       "    </tr>\n",
       "  </tbody>\n",
       "</table>\n",
       "</div>"
      ],
      "text/plain": [
       "       покупательская_активность тип_сервиса разрешить_сообщать  \\\n",
       "id                                                                \n",
       "215349                 Снизилась     премиум                 да   \n",
       "215350                 Снизилась    стандарт                нет   \n",
       "215351                 Снизилась    стандарт                 да   \n",
       "215352                 Снизилась    стандарт                нет   \n",
       "215353                 Снизилась    стандарт                 да   \n",
       "215354                 Снизилась    стандарт                 да   \n",
       "215355                 Снизилась    стандарт                нет   \n",
       "215356                 Снизилась    стандарт                 да   \n",
       "215358                 Снизилась    стандарт                 да   \n",
       "215360                 Снизилась     премиум                 да   \n",
       "\n",
       "        маркет_актив_6_мес  маркет_актив_тек_мес  длительность  \\\n",
       "id                                                               \n",
       "215349                 4.4                     4           819   \n",
       "215350                 4.9                     3           539   \n",
       "215351                 3.2                     5           896   \n",
       "215352                 5.1                     3          1064   \n",
       "215353                 3.3                     4           762   \n",
       "215354                 5.1                     3           431   \n",
       "215355                 4.7                     4           284   \n",
       "215356                 4.2                     4           192   \n",
       "215358                 4.7                     4           450   \n",
       "215360                 3.9                     3           623   \n",
       "\n",
       "        акционные_покупки   популярная_категория  \\\n",
       "id                                                 \n",
       "215349               0.75       Товары для детей   \n",
       "215350               0.14      Домашний текстиль   \n",
       "215351               0.99       Товары для детей   \n",
       "215352               0.94       Товары для детей   \n",
       "215353               0.26      Домашний текстиль   \n",
       "215354               0.23  Косметика и аксесуары   \n",
       "215355               0.17       Товары для детей   \n",
       "215356               0.14  Косметика и аксесуары   \n",
       "215358               0.13      Домашний текстиль   \n",
       "215360               0.35        Кухонная посуда   \n",
       "\n",
       "        средний_просмотр_категорий_за_визит  \\\n",
       "id                                            \n",
       "215349                                    4   \n",
       "215350                                    5   \n",
       "215351                                    5   \n",
       "215352                                    3   \n",
       "215353                                    4   \n",
       "215354                                    2   \n",
       "215355                                    5   \n",
       "215356                                    2   \n",
       "215358                                    4   \n",
       "215360                                    3   \n",
       "\n",
       "        неоплаченные_продукты_штук_квартал  ошибка_сервиса  страниц_за_визит  \\\n",
       "id                                                                             \n",
       "215349                                   4               2                 5   \n",
       "215350                                   2               1                 5   \n",
       "215351                                   0               6                 4   \n",
       "215352                                   2               3                 2   \n",
       "215353                                   1               1                 4   \n",
       "215354                                   3               7                 2   \n",
       "215355                                   1               6                 4   \n",
       "215356                                   2               1                 3   \n",
       "215358                                   2               6                 4   \n",
       "215360                                   1               4                 7   \n",
       "\n",
       "        выручка_предыдущий_месяц  выручка_текущий_месяц  \\\n",
       "id                                                        \n",
       "215349                   4844.00                 4971.6   \n",
       "215350                   5141.75                 5058.4   \n",
       "215351                   5475.50                 6610.4   \n",
       "215352                   5200.75                 5872.5   \n",
       "215353                   4931.25                 5388.5   \n",
       "215354                   5094.00                 5869.6   \n",
       "215355                   4006.00                 3772.6   \n",
       "215356                   4289.75                 4566.4   \n",
       "215358                   4107.50                 4209.5   \n",
       "215360                   5429.75                 5834.9   \n",
       "\n",
       "        минут_предыдущий_месяц  минут_текущий_месяц  \n",
       "id                                                   \n",
       "215349                      12                   10  \n",
       "215350                       8                   13  \n",
       "215351                      11                   13  \n",
       "215352                       8                   11  \n",
       "215353                      10                   10  \n",
       "215354                      11                   12  \n",
       "215355                      12                   10  \n",
       "215356                       6                    7  \n",
       "215358                      14                   10  \n",
       "215360                       9                    6  "
      ]
     },
     "execution_count": 50,
     "metadata": {},
     "output_type": "execute_result"
    }
   ],
   "source": [
    "# Объединим таблицы\n",
    "data = market_file.join(m_money, on='id')\n",
    "data = data.join(m_time, on='id')\n",
    "data = data.fillna(0)\n",
    "data = data[data['выручка_предыдущий_месяц'] != 0]\n",
    "data = data[data['выручка_текущий_месяц'] != 106862.2]\n",
    "data.head(10)"
   ]
  },
  {
   "cell_type": "code",
   "execution_count": 51,
   "metadata": {},
   "outputs": [
    {
     "name": "stdout",
     "output_type": "stream",
     "text": [
      "<class 'pandas.core.frame.DataFrame'>\n",
      "Int64Index: 1296 entries, 215349 to 216647\n",
      "Data columns (total 16 columns):\n",
      " #   Column                               Non-Null Count  Dtype  \n",
      "---  ------                               --------------  -----  \n",
      " 0   покупательская_активность            1296 non-null   object \n",
      " 1   тип_сервиса                          1296 non-null   object \n",
      " 2   разрешить_сообщать                   1296 non-null   object \n",
      " 3   маркет_актив_6_мес                   1296 non-null   float64\n",
      " 4   маркет_актив_тек_мес                 1296 non-null   int64  \n",
      " 5   длительность                         1296 non-null   int64  \n",
      " 6   акционные_покупки                    1296 non-null   float64\n",
      " 7   популярная_категория                 1296 non-null   object \n",
      " 8   средний_просмотр_категорий_за_визит  1296 non-null   int64  \n",
      " 9   неоплаченные_продукты_штук_квартал   1296 non-null   int64  \n",
      " 10  ошибка_сервиса                       1296 non-null   int64  \n",
      " 11  страниц_за_визит                     1296 non-null   int64  \n",
      " 12  выручка_предыдущий_месяц             1296 non-null   float64\n",
      " 13  выручка_текущий_месяц                1296 non-null   float64\n",
      " 14  минут_предыдущий_месяц               1296 non-null   int64  \n",
      " 15  минут_текущий_месяц                  1296 non-null   int64  \n",
      "dtypes: float64(4), int64(8), object(4)\n",
      "memory usage: 172.1+ KB\n"
     ]
    }
   ],
   "source": [
    "data.info()"
   ]
  },
  {
   "cell_type": "markdown",
   "metadata": {},
   "source": [
    "**Вывод:** Объединение прошло успешно. Количество столбцов и их типы соответсуют ожиданиям."
   ]
  },
  {
   "cell_type": "markdown",
   "metadata": {},
   "source": [
    "## Корреляционный анализ"
   ]
  },
  {
   "cell_type": "code",
   "execution_count": 52,
   "metadata": {},
   "outputs": [
    {
     "data": {
      "image/png": "[encoded data removed]",
      "text/plain": [
       "<Figure size 1080x504 with 2 Axes>"
      ]
     },
     "metadata": {
      "needs_background": "light"
     },
     "output_type": "display_data"
    }
   ],
   "source": [
    "plt.figure(figsize=(15, 7))\n",
    "cm = data.corr(method='spearman')\n",
    "sns.heatmap(cm, annot=True, fmt='.2f', cmap='Blues');"
   ]
  },
  {
   "cell_type": "markdown",
   "metadata": {},
   "source": [
    "**Вывод:** Мультиколлинеарность отсутсвует."
   ]
  },
  {
   "cell_type": "markdown",
   "metadata": {},
   "source": [
    "## Использование пайплайнов"
   ]
  },
  {
   "cell_type": "code",
   "execution_count": 53,
   "metadata": {},
   "outputs": [],
   "source": [
    "# Отбор признаков и разбиение на тренировочную и тестовую выборки\n",
    "RANDOM_STATE = 42\n",
    "TEST_SIZE = 0.25\n",
    "\n",
    "label_encoder = LabelEncoder()\n",
    "label_encoder.classes = np.array(['Снизилась', 'Не снизилась'])   \n",
    "\n",
    "X = data.drop('покупательская_активность', axis=1)\n",
    "y = label_encoder.fit_transform(data['покупательская_активность'])\n",
    "\n",
    "X_train, X_test, y_train, y_test = train_test_split(\n",
    "    X, \n",
    "    y,\n",
    "    test_size=TEST_SIZE,\n",
    "    random_state=RANDOM_STATE,\n",
    "    stratify=y\n",
    ")"
   ]
  },
  {
   "cell_type": "code",
   "execution_count": 54,
   "metadata": {},
   "outputs": [
    {
     "data": {
      "text/html": [
       "<div>\n",
       "<style scoped>\n",
       "    .dataframe tbody tr th:only-of-type {\n",
       "        vertical-align: middle;\n",
       "    }\n",
       "\n",
       "    .dataframe tbody tr th {\n",
       "        vertical-align: top;\n",
       "    }\n",
       "\n",
       "    .dataframe thead th {\n",
       "        text-align: right;\n",
       "    }\n",
       "</style>\n",
       "<table border=\"1\" class=\"dataframe\">\n",
       "  <thead>\n",
       "    <tr style=\"text-align: right;\">\n",
       "      <th></th>\n",
       "      <th>тип_сервиса</th>\n",
       "      <th>разрешить_сообщать</th>\n",
       "      <th>маркет_актив_6_мес</th>\n",
       "      <th>маркет_актив_тек_мес</th>\n",
       "      <th>длительность</th>\n",
       "      <th>акционные_покупки</th>\n",
       "      <th>популярная_категория</th>\n",
       "      <th>средний_просмотр_категорий_за_визит</th>\n",
       "      <th>неоплаченные_продукты_штук_квартал</th>\n",
       "      <th>ошибка_сервиса</th>\n",
       "      <th>страниц_за_визит</th>\n",
       "      <th>выручка_предыдущий_месяц</th>\n",
       "      <th>выручка_текущий_месяц</th>\n",
       "      <th>минут_предыдущий_месяц</th>\n",
       "      <th>минут_текущий_месяц</th>\n",
       "    </tr>\n",
       "    <tr>\n",
       "      <th>id</th>\n",
       "      <th></th>\n",
       "      <th></th>\n",
       "      <th></th>\n",
       "      <th></th>\n",
       "      <th></th>\n",
       "      <th></th>\n",
       "      <th></th>\n",
       "      <th></th>\n",
       "      <th></th>\n",
       "      <th></th>\n",
       "      <th></th>\n",
       "      <th></th>\n",
       "      <th></th>\n",
       "      <th></th>\n",
       "      <th></th>\n",
       "    </tr>\n",
       "  </thead>\n",
       "  <tbody>\n",
       "    <tr>\n",
       "      <th>215858</th>\n",
       "      <td>стандарт</td>\n",
       "      <td>да</td>\n",
       "      <td>5.5</td>\n",
       "      <td>4</td>\n",
       "      <td>510</td>\n",
       "      <td>0.15</td>\n",
       "      <td>Мелкая бытовая техника и электроника</td>\n",
       "      <td>2</td>\n",
       "      <td>4</td>\n",
       "      <td>7</td>\n",
       "      <td>16</td>\n",
       "      <td>4758.75</td>\n",
       "      <td>6014.2</td>\n",
       "      <td>20</td>\n",
       "      <td>6</td>\n",
       "    </tr>\n",
       "    <tr>\n",
       "      <th>215361</th>\n",
       "      <td>стандарт</td>\n",
       "      <td>да</td>\n",
       "      <td>5.1</td>\n",
       "      <td>4</td>\n",
       "      <td>199</td>\n",
       "      <td>0.23</td>\n",
       "      <td>Техника для красоты и здоровья</td>\n",
       "      <td>4</td>\n",
       "      <td>5</td>\n",
       "      <td>2</td>\n",
       "      <td>3</td>\n",
       "      <td>5498.50</td>\n",
       "      <td>3789.7</td>\n",
       "      <td>11</td>\n",
       "      <td>13</td>\n",
       "    </tr>\n",
       "    <tr>\n",
       "      <th>215884</th>\n",
       "      <td>стандарт</td>\n",
       "      <td>да</td>\n",
       "      <td>4.3</td>\n",
       "      <td>5</td>\n",
       "      <td>997</td>\n",
       "      <td>0.17</td>\n",
       "      <td>Мелкая бытовая техника и электроника</td>\n",
       "      <td>5</td>\n",
       "      <td>1</td>\n",
       "      <td>3</td>\n",
       "      <td>11</td>\n",
       "      <td>4369.50</td>\n",
       "      <td>3798.4</td>\n",
       "      <td>13</td>\n",
       "      <td>10</td>\n",
       "    </tr>\n",
       "    <tr>\n",
       "      <th>216564</th>\n",
       "      <td>стандарт</td>\n",
       "      <td>да</td>\n",
       "      <td>5.6</td>\n",
       "      <td>4</td>\n",
       "      <td>342</td>\n",
       "      <td>0.94</td>\n",
       "      <td>Кухонная посуда</td>\n",
       "      <td>2</td>\n",
       "      <td>7</td>\n",
       "      <td>5</td>\n",
       "      <td>8</td>\n",
       "      <td>5099.50</td>\n",
       "      <td>4766.2</td>\n",
       "      <td>14</td>\n",
       "      <td>19</td>\n",
       "    </tr>\n",
       "    <tr>\n",
       "      <th>215715</th>\n",
       "      <td>премиум</td>\n",
       "      <td>да</td>\n",
       "      <td>3.6</td>\n",
       "      <td>5</td>\n",
       "      <td>873</td>\n",
       "      <td>0.39</td>\n",
       "      <td>Товары для детей</td>\n",
       "      <td>3</td>\n",
       "      <td>2</td>\n",
       "      <td>2</td>\n",
       "      <td>5</td>\n",
       "      <td>4203.50</td>\n",
       "      <td>4600.0</td>\n",
       "      <td>10</td>\n",
       "      <td>10</td>\n",
       "    </tr>\n",
       "    <tr>\n",
       "      <th>216533</th>\n",
       "      <td>стандарт</td>\n",
       "      <td>нет</td>\n",
       "      <td>5.7</td>\n",
       "      <td>5</td>\n",
       "      <td>769</td>\n",
       "      <td>0.14</td>\n",
       "      <td>Техника для красоты и здоровья</td>\n",
       "      <td>4</td>\n",
       "      <td>1</td>\n",
       "      <td>8</td>\n",
       "      <td>10</td>\n",
       "      <td>5396.50</td>\n",
       "      <td>5180.3</td>\n",
       "      <td>15</td>\n",
       "      <td>20</td>\n",
       "    </tr>\n",
       "    <tr>\n",
       "      <th>215674</th>\n",
       "      <td>стандарт</td>\n",
       "      <td>да</td>\n",
       "      <td>3.0</td>\n",
       "      <td>4</td>\n",
       "      <td>304</td>\n",
       "      <td>0.25</td>\n",
       "      <td>Домашний текстиль</td>\n",
       "      <td>1</td>\n",
       "      <td>6</td>\n",
       "      <td>5</td>\n",
       "      <td>3</td>\n",
       "      <td>4547.25</td>\n",
       "      <td>4762.2</td>\n",
       "      <td>11</td>\n",
       "      <td>11</td>\n",
       "    </tr>\n",
       "    <tr>\n",
       "      <th>216334</th>\n",
       "      <td>премиум</td>\n",
       "      <td>да</td>\n",
       "      <td>6.1</td>\n",
       "      <td>3</td>\n",
       "      <td>1056</td>\n",
       "      <td>0.17</td>\n",
       "      <td>Домашний текстиль</td>\n",
       "      <td>2</td>\n",
       "      <td>3</td>\n",
       "      <td>7</td>\n",
       "      <td>8</td>\n",
       "      <td>5041.25</td>\n",
       "      <td>4423.0</td>\n",
       "      <td>15</td>\n",
       "      <td>17</td>\n",
       "    </tr>\n",
       "    <tr>\n",
       "      <th>216186</th>\n",
       "      <td>стандарт</td>\n",
       "      <td>да</td>\n",
       "      <td>4.3</td>\n",
       "      <td>4</td>\n",
       "      <td>831</td>\n",
       "      <td>0.21</td>\n",
       "      <td>Мелкая бытовая техника и электроника</td>\n",
       "      <td>5</td>\n",
       "      <td>2</td>\n",
       "      <td>3</td>\n",
       "      <td>7</td>\n",
       "      <td>4284.50</td>\n",
       "      <td>3287.0</td>\n",
       "      <td>11</td>\n",
       "      <td>17</td>\n",
       "    </tr>\n",
       "    <tr>\n",
       "      <th>216526</th>\n",
       "      <td>стандарт</td>\n",
       "      <td>да</td>\n",
       "      <td>5.6</td>\n",
       "      <td>4</td>\n",
       "      <td>157</td>\n",
       "      <td>0.30</td>\n",
       "      <td>Товары для детей</td>\n",
       "      <td>6</td>\n",
       "      <td>3</td>\n",
       "      <td>2</td>\n",
       "      <td>9</td>\n",
       "      <td>4580.00</td>\n",
       "      <td>4765.0</td>\n",
       "      <td>13</td>\n",
       "      <td>14</td>\n",
       "    </tr>\n",
       "  </tbody>\n",
       "</table>\n",
       "</div>"
      ],
      "text/plain": [
       "       тип_сервиса разрешить_сообщать  маркет_актив_6_мес  \\\n",
       "id                                                          \n",
       "215858    стандарт                 да                 5.5   \n",
       "215361    стандарт                 да                 5.1   \n",
       "215884    стандарт                 да                 4.3   \n",
       "216564    стандарт                 да                 5.6   \n",
       "215715     премиум                 да                 3.6   \n",
       "216533    стандарт                нет                 5.7   \n",
       "215674    стандарт                 да                 3.0   \n",
       "216334     премиум                 да                 6.1   \n",
       "216186    стандарт                 да                 4.3   \n",
       "216526    стандарт                 да                 5.6   \n",
       "\n",
       "        маркет_актив_тек_мес  длительность  акционные_покупки  \\\n",
       "id                                                              \n",
       "215858                     4           510               0.15   \n",
       "215361                     4           199               0.23   \n",
       "215884                     5           997               0.17   \n",
       "216564                     4           342               0.94   \n",
       "215715                     5           873               0.39   \n",
       "216533                     5           769               0.14   \n",
       "215674                     4           304               0.25   \n",
       "216334                     3          1056               0.17   \n",
       "216186                     4           831               0.21   \n",
       "216526                     4           157               0.30   \n",
       "\n",
       "                        популярная_категория  \\\n",
       "id                                             \n",
       "215858  Мелкая бытовая техника и электроника   \n",
       "215361        Техника для красоты и здоровья   \n",
       "215884  Мелкая бытовая техника и электроника   \n",
       "216564                       Кухонная посуда   \n",
       "215715                      Товары для детей   \n",
       "216533        Техника для красоты и здоровья   \n",
       "215674                     Домашний текстиль   \n",
       "216334                     Домашний текстиль   \n",
       "216186  Мелкая бытовая техника и электроника   \n",
       "216526                      Товары для детей   \n",
       "\n",
       "        средний_просмотр_категорий_за_визит  \\\n",
       "id                                            \n",
       "215858                                    2   \n",
       "215361                                    4   \n",
       "215884                                    5   \n",
       "216564                                    2   \n",
       "215715                                    3   \n",
       "216533                                    4   \n",
       "215674                                    1   \n",
       "216334                                    2   \n",
       "216186                                    5   \n",
       "216526                                    6   \n",
       "\n",
       "        неоплаченные_продукты_штук_квартал  ошибка_сервиса  страниц_за_визит  \\\n",
       "id                                                                             \n",
       "215858                                   4               7                16   \n",
       "215361                                   5               2                 3   \n",
       "215884                                   1               3                11   \n",
       "216564                                   7               5                 8   \n",
       "215715                                   2               2                 5   \n",
       "216533                                   1               8                10   \n",
       "215674                                   6               5                 3   \n",
       "216334                                   3               7                 8   \n",
       "216186                                   2               3                 7   \n",
       "216526                                   3               2                 9   \n",
       "\n",
       "        выручка_предыдущий_месяц  выручка_текущий_месяц  \\\n",
       "id                                                        \n",
       "215858                   4758.75                 6014.2   \n",
       "215361                   5498.50                 3789.7   \n",
       "215884                   4369.50                 3798.4   \n",
       "216564                   5099.50                 4766.2   \n",
       "215715                   4203.50                 4600.0   \n",
       "216533                   5396.50                 5180.3   \n",
       "215674                   4547.25                 4762.2   \n",
       "216334                   5041.25                 4423.0   \n",
       "216186                   4284.50                 3287.0   \n",
       "216526                   4580.00                 4765.0   \n",
       "\n",
       "        минут_предыдущий_месяц  минут_текущий_месяц  \n",
       "id                                                   \n",
       "215858                      20                    6  \n",
       "215361                      11                   13  \n",
       "215884                      13                   10  \n",
       "216564                      14                   19  \n",
       "215715                      10                   10  \n",
       "216533                      15                   20  \n",
       "215674                      11                   11  \n",
       "216334                      15                   17  \n",
       "216186                      11                   17  \n",
       "216526                      13                   14  "
      ]
     },
     "execution_count": 54,
     "metadata": {},
     "output_type": "execute_result"
    }
   ],
   "source": [
    "X_train.head(10)"
   ]
  },
  {
   "cell_type": "code",
   "execution_count": 55,
   "metadata": {},
   "outputs": [],
   "source": [
    "ohe_columns = ['популярная_категория', 'разрешить_сообщать']\n",
    "ord_columns = ['тип_сервиса']\n",
    "num_columns = ['маркет_актив_6_мес', 'маркет_актив_тек_мес', 'длительность', 'акционные_покупки', \n",
    "               'средний_просмотр_категорий_за_визит', 'неоплаченные_продукты_штук_квартал', \n",
    "               'ошибка_сервиса', 'страниц_за_визит', 'выручка_предыдущий_месяц', 'выручка_текущий_месяц',\n",
    "               'минут_предыдущий_месяц', 'минут_текущий_месяц']"
   ]
  },
  {
   "cell_type": "code",
   "execution_count": 56,
   "metadata": {},
   "outputs": [],
   "source": [
    "data_preprocessor = ColumnTransformer(\n",
    "    [\n",
    "        ('ohe', OneHotEncoder(drop='first', handle_unknown='error'), ohe_columns),\n",
    "        ('ord', OrdinalEncoder(), ord_columns),\n",
    "        ('num', StandardScaler(), num_columns)\n",
    "    ],\n",
    "    remainder='passthrough'\n",
    ")"
   ]
  },
  {
   "cell_type": "code",
   "execution_count": 57,
   "metadata": {},
   "outputs": [],
   "source": [
    "pipe_final = Pipeline(\n",
    "    [\n",
    "        ('preprocessor', data_preprocessor),\n",
    "        ('models', DecisionTreeClassifier(random_state=RANDOM_STATE))\n",
    "    ]\n",
    ")"
   ]
  },
  {
   "cell_type": "code",
   "execution_count": 58,
   "metadata": {},
   "outputs": [],
   "source": [
    "param_grid = [\n",
    "    # словарь для модели DecisionTreeClassifier()\n",
    "    {\n",
    "        'models': [DecisionTreeClassifier(random_state=RANDOM_STATE)],\n",
    "        'models__max_depth': range(2, 10),\n",
    "        'models__max_features': range(2, 10),\n",
    "        'preprocessor__num': [StandardScaler(), MinMaxScaler(), 'passthrough']  \n",
    "    },\n",
    "    \n",
    "    # словарь для модели KNeighborsClassifier() \n",
    "    {\n",
    "        'models': [KNeighborsClassifier()],\n",
    "        'models__n_neighbors': range(10, 50),\n",
    "        'preprocessor__num': [StandardScaler(), MinMaxScaler(), 'passthrough']   \n",
    "    },\n",
    "\n",
    "    # словарь для модели LogisticRegression()\n",
    "    {\n",
    "        'models': [LogisticRegression(\n",
    "            random_state=RANDOM_STATE, \n",
    "            solver='liblinear', \n",
    "            penalty='l1'\n",
    "        )],\n",
    "        'models__C': [1, 10, 50, 100],\n",
    "        'preprocessor__num': [StandardScaler(), MinMaxScaler(), 'passthrough']  \n",
    "    },\n",
    "    # словарь для модели SVC()\n",
    "    {\n",
    "        'models': [SVC(\n",
    "            probability=True\n",
    "        )],\n",
    "        'models__kernel': ['linear', 'rbf'],\n",
    "        'preprocessor__num': [StandardScaler(), MinMaxScaler(), 'passthrough']  \n",
    "    }\n",
    "]"
   ]
  },
  {
   "cell_type": "code",
   "execution_count": 59,
   "metadata": {},
   "outputs": [],
   "source": [
    "randomized_search = RandomizedSearchCV(\n",
    "    pipe_final, \n",
    "    param_grid, \n",
    "    cv=5,\n",
    "    scoring='roc_auc',\n",
    "    random_state=RANDOM_STATE,\n",
    "    n_jobs=-1\n",
    ")"
   ]
  },
  {
   "cell_type": "code",
   "execution_count": 60,
   "metadata": {},
   "outputs": [
    {
     "name": "stdout",
     "output_type": "stream",
     "text": [
      "Лучшая модель и её параметры:\n",
      "\n",
      " Pipeline(steps=[('preprocessor',\n",
      "                 ColumnTransformer(remainder='passthrough',\n",
      "                                   transformers=[('ohe',\n",
      "                                                  OneHotEncoder(drop='first'),\n",
      "                                                  ['популярная_категория',\n",
      "                                                   'разрешить_сообщать']),\n",
      "                                                 ('ord', OrdinalEncoder(),\n",
      "                                                  ['тип_сервиса']),\n",
      "                                                 ('num', StandardScaler(),\n",
      "                                                  ['маркет_актив_6_мес',\n",
      "                                                   'маркет_актив_тек_мес',\n",
      "                                                   'длительность',\n",
      "                                                   'акционные_покупки',\n",
      "                                                   'средний_просмотр_категорий_за_визит',\n",
      "                                                   'неоплаченные_продукты_штук_квартал',\n",
      "                                                   'ошибка_сервиса',\n",
      "                                                   'страниц_за_визит',\n",
      "                                                   'выручка_предыдущий_месяц',\n",
      "                                                   'выручка_текущий_месяц',\n",
      "                                                   'минут_предыдущий_месяц',\n",
      "                                                   'минут_текущий_месяц'])])),\n",
      "                ('models', KNeighborsClassifier(n_neighbors=19))])\n",
      "Метрика лучшей модели на кросс валидацинной выборке: 0.9004234482416301\n",
      "Метрика ROC-AUC на тестовой выборке: 0.9192856853941673\n"
     ]
    }
   ],
   "source": [
    "randomized_search.fit(X_train, y_train)\n",
    "\n",
    "print('Лучшая модель и её параметры:\\n\\n', randomized_search.best_estimator_)\n",
    "print ('Метрика лучшей модели на кросс валидацинной выборке:', randomized_search.best_score_)\n",
    "\n",
    "y_test_pred = randomized_search.predict_proba(X_test)[:, 1]\n",
    "print(f'Метрика ROC-AUC на тестовой выборке: {roc_auc_score(y_test, y_test_pred)}')"
   ]
  },
  {
   "cell_type": "markdown",
   "metadata": {},
   "source": [
    "**Вывод:** ROC-AUC будет подходящей для задачи метрикой, так как используется несколько принципаильно разных моделей.\n",
    "Лучшая модель имеет высокиие показатели как на тренировочной выборке, так и на тестовой. Однако, на основе разницы метрик, можно сделать вывод о переобученности модели."
   ]
  },
  {
   "cell_type": "markdown",
   "metadata": {},
   "source": [
    "## Анализ важности признаков"
   ]
  },
  {
   "cell_type": "code",
   "execution_count": 61,
   "metadata": {},
   "outputs": [],
   "source": [
    "best_model = randomized_search.best_estimator_.named_steps['models']\n",
    "preprocessor = randomized_search.best_estimator_.named_steps['preprocessor']\n",
    "\n",
    "X_train_new = preprocessor.transform(X_train)\n",
    "X_test_new = preprocessor.transform(X_test)\n",
    "\n",
    "feature_names = np.concatenate(\n",
    "    [\n",
    "        preprocessor.named_transformers_['ohe'].get_feature_names(input_features=ohe_columns),\n",
    "        ord_columns,\n",
    "        num_columns\n",
    "    ]\n",
    ")\n",
    "X_train_new = pd.DataFrame(X_train_new, columns=feature_names)"
   ]
  },
  {
   "cell_type": "code",
   "execution_count": 62,
   "metadata": {},
   "outputs": [
    {
     "data": {
      "application/vnd.jupyter.widget-view+json": {
       "model_id": "3767ccc04afc4670a886dd281c44238b",
       "version_major": 2,
       "version_minor": 0
      },
      "text/plain": [
       "  0%|          | 0/100 [00:00<?, ?it/s]"
      ]
     },
     "metadata": {},
     "output_type": "display_data"
    }
   ],
   "source": [
    "X_train_new_ = shap.sample(X_train_new, 100, random_state=RANDOM_STATE)\n",
    "\n",
    "explainer = shap.KernelExplainer(best_model.predict_proba, X_train_new_)\n",
    "shap_values = explainer(X_train_new_)"
   ]
  },
  {
   "cell_type": "code",
   "execution_count": 63,
   "metadata": {},
   "outputs": [
    {
     "data": {
      "image/png": "[encoded data removed]",
      "text/plain": [
       "<Figure size 576x396 with 2 Axes>"
      ]
     },
     "metadata": {
      "needs_background": "light"
     },
     "output_type": "display_data"
    }
   ],
   "source": [
    "shap.plots.beeswarm(shap_values[:,:,1])"
   ]
  },
  {
   "cell_type": "markdown",
   "metadata": {},
   "source": [
    "**Вывод:** \n",
    "\n",
    "Мало значимые признаки:\n",
    "- Неоплаченные продукты штук квартал \n",
    "- Маркет актив 6 мес\n",
    "- Длительность\n",
    "- Ошибка сервиса\n",
    "\n",
    "Признаки с наибольшим влиянием на целевой признак:\n",
    "- Минут за предыдущий месяц\n",
    "- Страницы за визит \n",
    "- Минут за текущий месяц\n",
    "- Средний просмотр категорий за визит  \n",
    "- Акционные покупки\n",
    "\n",
    "Интерпритация:\n",
    "- Чем больше минут пользователь проводит на сайте, тем выше его пренадлежность к классу 0. \n",
    "- Чем больше страниц пользователь посещает за визит, тем выше его пренадлежность к классу 0. \n",
    "- Чем больше категорий пользователь просматривает за визит, тем выше его пренадлежность к классу 0. \n",
    "- Чем меньше пользователь делает аукционных покупок, тем выше его пренадлежность к классу 0. \n",
    "\n",
    "Такие признаки, как количество страниц за визит, акционные покупки и количество минут, проведенных на сайте, оказывают значительное влияние на целевой признак. Это означает, что данные метрики важно учитывать при разработке стратегии повышения пользовательской активности и увеличения продаж."
   ]
  },
  {
   "cell_type": "markdown",
   "metadata": {},
   "source": [
    "## Сегментация покупателей"
   ]
  },
  {
   "cell_type": "markdown",
   "metadata": {},
   "source": [
    "### Сегментация покупателей"
   ]
  },
  {
   "cell_type": "code",
   "execution_count": 64,
   "metadata": {},
   "outputs": [],
   "source": [
    "X = preprocessor.transform(X)"
   ]
  },
  {
   "cell_type": "code",
   "execution_count": 65,
   "metadata": {},
   "outputs": [
    {
     "name": "stdout",
     "output_type": "stream",
     "text": [
      "<class 'pandas.core.frame.DataFrame'>\n",
      "Int64Index: 204 entries, 215356 to 215747\n",
      "Data columns (total 17 columns):\n",
      " #   Column                               Non-Null Count  Dtype  \n",
      "---  ------                               --------------  -----  \n",
      " 0   покупательская_активность            204 non-null    object \n",
      " 1   тип_сервиса                          204 non-null    object \n",
      " 2   разрешить_сообщать                   204 non-null    object \n",
      " 3   маркет_актив_6_мес                   204 non-null    float64\n",
      " 4   маркет_актив_тек_мес                 204 non-null    int64  \n",
      " 5   длительность                         204 non-null    int64  \n",
      " 6   акционные_покупки                    204 non-null    float64\n",
      " 7   популярная_категория                 204 non-null    object \n",
      " 8   средний_просмотр_категорий_за_визит  204 non-null    int64  \n",
      " 9   неоплаченные_продукты_штук_квартал   204 non-null    int64  \n",
      " 10  ошибка_сервиса                       204 non-null    int64  \n",
      " 11  страниц_за_визит                     204 non-null    int64  \n",
      " 12  выручка_предыдущий_месяц             204 non-null    float64\n",
      " 13  выручка_текущий_месяц                204 non-null    float64\n",
      " 14  минут_предыдущий_месяц               204 non-null    int64  \n",
      " 15  минут_текущий_месяц                  204 non-null    int64  \n",
      " 16  прибыль                              204 non-null    float64\n",
      "dtypes: float64(5), int64(8), object(4)\n",
      "memory usage: 28.7+ KB\n"
     ]
    }
   ],
   "source": [
    "predictions = best_model.predict_proba(X)[:, 1]\n",
    "predictions_1 = np.where(predictions > 0.9, True, False)\n",
    "down = data[predictions_1] \n",
    "down = down.join(money, on='id')\n",
    "down.info()"
   ]
  },
  {
   "cell_type": "markdown",
   "metadata": {},
   "source": [
    "### Графическое и аналитическое исследование группы покупателей"
   ]
  },
  {
   "cell_type": "code",
   "execution_count": 66,
   "metadata": {},
   "outputs": [
    {
     "data": {
      "text/html": [
       "<div>\n",
       "<style scoped>\n",
       "    .dataframe tbody tr th:only-of-type {\n",
       "        vertical-align: middle;\n",
       "    }\n",
       "\n",
       "    .dataframe tbody tr th {\n",
       "        vertical-align: top;\n",
       "    }\n",
       "\n",
       "    .dataframe thead th {\n",
       "        text-align: right;\n",
       "    }\n",
       "</style>\n",
       "<table border=\"1\" class=\"dataframe\">\n",
       "  <thead>\n",
       "    <tr style=\"text-align: right;\">\n",
       "      <th></th>\n",
       "      <th>покупательская_активность</th>\n",
       "      <th>тип_сервиса</th>\n",
       "      <th>разрешить_сообщать</th>\n",
       "      <th>маркет_актив_6_мес</th>\n",
       "      <th>маркет_актив_тек_мес</th>\n",
       "      <th>длительность</th>\n",
       "      <th>акционные_покупки</th>\n",
       "      <th>популярная_категория</th>\n",
       "      <th>средний_просмотр_категорий_за_визит</th>\n",
       "      <th>неоплаченные_продукты_штук_квартал</th>\n",
       "      <th>ошибка_сервиса</th>\n",
       "      <th>страниц_за_визит</th>\n",
       "      <th>выручка_предыдущий_месяц</th>\n",
       "      <th>выручка_текущий_месяц</th>\n",
       "      <th>минут_предыдущий_месяц</th>\n",
       "      <th>минут_текущий_месяц</th>\n",
       "      <th>прибыль</th>\n",
       "    </tr>\n",
       "    <tr>\n",
       "      <th>id</th>\n",
       "      <th></th>\n",
       "      <th></th>\n",
       "      <th></th>\n",
       "      <th></th>\n",
       "      <th></th>\n",
       "      <th></th>\n",
       "      <th></th>\n",
       "      <th></th>\n",
       "      <th></th>\n",
       "      <th></th>\n",
       "      <th></th>\n",
       "      <th></th>\n",
       "      <th></th>\n",
       "      <th></th>\n",
       "      <th></th>\n",
       "      <th></th>\n",
       "      <th></th>\n",
       "    </tr>\n",
       "  </thead>\n",
       "  <tbody>\n",
       "    <tr>\n",
       "      <th>215368</th>\n",
       "      <td>Снизилась</td>\n",
       "      <td>премиум</td>\n",
       "      <td>да</td>\n",
       "      <td>3.8</td>\n",
       "      <td>5</td>\n",
       "      <td>829</td>\n",
       "      <td>0.24</td>\n",
       "      <td>Техника для красоты и здоровья</td>\n",
       "      <td>2</td>\n",
       "      <td>2</td>\n",
       "      <td>6</td>\n",
       "      <td>1</td>\n",
       "      <td>5179.50</td>\n",
       "      <td>5591.6</td>\n",
       "      <td>11</td>\n",
       "      <td>9</td>\n",
       "      <td>6.27</td>\n",
       "    </tr>\n",
       "    <tr>\n",
       "      <th>215383</th>\n",
       "      <td>Снизилась</td>\n",
       "      <td>стандарт</td>\n",
       "      <td>да</td>\n",
       "      <td>2.7</td>\n",
       "      <td>4</td>\n",
       "      <td>504</td>\n",
       "      <td>0.33</td>\n",
       "      <td>Техника для красоты и здоровья</td>\n",
       "      <td>2</td>\n",
       "      <td>4</td>\n",
       "      <td>2</td>\n",
       "      <td>4</td>\n",
       "      <td>5144.50</td>\n",
       "      <td>5989.0</td>\n",
       "      <td>7</td>\n",
       "      <td>10</td>\n",
       "      <td>4.27</td>\n",
       "    </tr>\n",
       "    <tr>\n",
       "      <th>215398</th>\n",
       "      <td>Снизилась</td>\n",
       "      <td>премиум</td>\n",
       "      <td>да</td>\n",
       "      <td>3.5</td>\n",
       "      <td>5</td>\n",
       "      <td>882</td>\n",
       "      <td>0.22</td>\n",
       "      <td>Мелкая бытовая техника и электроника</td>\n",
       "      <td>3</td>\n",
       "      <td>2</td>\n",
       "      <td>6</td>\n",
       "      <td>3</td>\n",
       "      <td>5043.75</td>\n",
       "      <td>5854.2</td>\n",
       "      <td>5</td>\n",
       "      <td>6</td>\n",
       "      <td>4.77</td>\n",
       "    </tr>\n",
       "    <tr>\n",
       "      <th>215403</th>\n",
       "      <td>Снизилась</td>\n",
       "      <td>премиум</td>\n",
       "      <td>да</td>\n",
       "      <td>1.7</td>\n",
       "      <td>5</td>\n",
       "      <td>771</td>\n",
       "      <td>0.39</td>\n",
       "      <td>Техника для красоты и здоровья</td>\n",
       "      <td>1</td>\n",
       "      <td>8</td>\n",
       "      <td>2</td>\n",
       "      <td>5</td>\n",
       "      <td>5390.50</td>\n",
       "      <td>6427.2</td>\n",
       "      <td>7</td>\n",
       "      <td>8</td>\n",
       "      <td>3.73</td>\n",
       "    </tr>\n",
       "    <tr>\n",
       "      <th>215421</th>\n",
       "      <td>Снизилась</td>\n",
       "      <td>премиум</td>\n",
       "      <td>нет</td>\n",
       "      <td>4.0</td>\n",
       "      <td>5</td>\n",
       "      <td>523</td>\n",
       "      <td>0.94</td>\n",
       "      <td>Техника для красоты и здоровья</td>\n",
       "      <td>1</td>\n",
       "      <td>10</td>\n",
       "      <td>7</td>\n",
       "      <td>5</td>\n",
       "      <td>4850.75</td>\n",
       "      <td>5322.9</td>\n",
       "      <td>11</td>\n",
       "      <td>13</td>\n",
       "      <td>3.18</td>\n",
       "    </tr>\n",
       "  </tbody>\n",
       "</table>\n",
       "</div>"
      ],
      "text/plain": [
       "       покупательская_активность тип_сервиса разрешить_сообщать  \\\n",
       "id                                                                \n",
       "215368                 Снизилась     премиум                 да   \n",
       "215383                 Снизилась    стандарт                 да   \n",
       "215398                 Снизилась     премиум                 да   \n",
       "215403                 Снизилась     премиум                 да   \n",
       "215421                 Снизилась     премиум                нет   \n",
       "\n",
       "        маркет_актив_6_мес  маркет_актив_тек_мес  длительность  \\\n",
       "id                                                               \n",
       "215368                 3.8                     5           829   \n",
       "215383                 2.7                     4           504   \n",
       "215398                 3.5                     5           882   \n",
       "215403                 1.7                     5           771   \n",
       "215421                 4.0                     5           523   \n",
       "\n",
       "        акционные_покупки                  популярная_категория  \\\n",
       "id                                                                \n",
       "215368               0.24        Техника для красоты и здоровья   \n",
       "215383               0.33        Техника для красоты и здоровья   \n",
       "215398               0.22  Мелкая бытовая техника и электроника   \n",
       "215403               0.39        Техника для красоты и здоровья   \n",
       "215421               0.94        Техника для красоты и здоровья   \n",
       "\n",
       "        средний_просмотр_категорий_за_визит  \\\n",
       "id                                            \n",
       "215368                                    2   \n",
       "215383                                    2   \n",
       "215398                                    3   \n",
       "215403                                    1   \n",
       "215421                                    1   \n",
       "\n",
       "        неоплаченные_продукты_штук_квартал  ошибка_сервиса  страниц_за_визит  \\\n",
       "id                                                                             \n",
       "215368                                   2               6                 1   \n",
       "215383                                   4               2                 4   \n",
       "215398                                   2               6                 3   \n",
       "215403                                   8               2                 5   \n",
       "215421                                  10               7                 5   \n",
       "\n",
       "        выручка_предыдущий_месяц  выручка_текущий_месяц  \\\n",
       "id                                                        \n",
       "215368                   5179.50                 5591.6   \n",
       "215383                   5144.50                 5989.0   \n",
       "215398                   5043.75                 5854.2   \n",
       "215403                   5390.50                 6427.2   \n",
       "215421                   4850.75                 5322.9   \n",
       "\n",
       "        минут_предыдущий_месяц  минут_текущий_месяц  прибыль  \n",
       "id                                                            \n",
       "215368                      11                    9     6.27  \n",
       "215383                       7                   10     4.27  \n",
       "215398                       5                    6     4.77  \n",
       "215403                       7                    8     3.73  \n",
       "215421                      11                   13     3.18  "
      ]
     },
     "execution_count": 66,
     "metadata": {},
     "output_type": "execute_result"
    }
   ],
   "source": [
    "# Отберем группу клиентов, которые покупают только технику, то есть товары с длинным жизненным циклом.\n",
    "segment = down[(down['популярная_категория'] == 'Техника для красоты и здоровья') | \n",
    "               (down['популярная_категория'] == 'Мелкая бытовая техника и электроника')]\n",
    "segment.head()"
   ]
  },
  {
   "cell_type": "code",
   "execution_count": 67,
   "metadata": {},
   "outputs": [
    {
     "data": {
      "image/png": "[encoded data removed]",
      "text/plain": [
       "<Figure size 720x720 with 6 Axes>"
      ]
     },
     "metadata": {
      "needs_background": "light"
     },
     "output_type": "display_data"
    }
   ],
   "source": [
    "# Рассмотрим признаки с наибольшим влиянием на целевой\n",
    "to_hist = segment[['акционные_покупки', 'страниц_за_визит', 'минут_предыдущий_месяц', \n",
    "                   'минут_текущий_месяц', 'средний_просмотр_категорий_за_визит', 'прибыль']]\n",
    "to_hist.hist(figsize=(10, 10));"
   ]
  },
  {
   "cell_type": "code",
   "execution_count": 68,
   "metadata": {},
   "outputs": [
    {
     "data": {
      "text/html": [
       "<div>\n",
       "<style scoped>\n",
       "    .dataframe tbody tr th:only-of-type {\n",
       "        vertical-align: middle;\n",
       "    }\n",
       "\n",
       "    .dataframe tbody tr th {\n",
       "        vertical-align: top;\n",
       "    }\n",
       "\n",
       "    .dataframe thead th {\n",
       "        text-align: right;\n",
       "    }\n",
       "</style>\n",
       "<table border=\"1\" class=\"dataframe\">\n",
       "  <thead>\n",
       "    <tr style=\"text-align: right;\">\n",
       "      <th></th>\n",
       "      <th>акционные_покупки</th>\n",
       "      <th>страниц_за_визит</th>\n",
       "      <th>минут_предыдущий_месяц</th>\n",
       "      <th>минут_текущий_месяц</th>\n",
       "      <th>средний_просмотр_категорий_за_визит</th>\n",
       "      <th>прибыль</th>\n",
       "    </tr>\n",
       "  </thead>\n",
       "  <tbody>\n",
       "    <tr>\n",
       "      <th>count</th>\n",
       "      <td>27.000000</td>\n",
       "      <td>27.000000</td>\n",
       "      <td>27.000000</td>\n",
       "      <td>27.000000</td>\n",
       "      <td>27.000000</td>\n",
       "      <td>27.000000</td>\n",
       "    </tr>\n",
       "    <tr>\n",
       "      <th>mean</th>\n",
       "      <td>0.528148</td>\n",
       "      <td>3.740741</td>\n",
       "      <td>9.962963</td>\n",
       "      <td>10.444444</td>\n",
       "      <td>1.888889</td>\n",
       "      <td>4.295556</td>\n",
       "    </tr>\n",
       "    <tr>\n",
       "      <th>std</th>\n",
       "      <td>0.320325</td>\n",
       "      <td>1.258589</td>\n",
       "      <td>2.311867</td>\n",
       "      <td>2.562050</td>\n",
       "      <td>0.800641</td>\n",
       "      <td>0.886347</td>\n",
       "    </tr>\n",
       "    <tr>\n",
       "      <th>min</th>\n",
       "      <td>0.220000</td>\n",
       "      <td>1.000000</td>\n",
       "      <td>5.000000</td>\n",
       "      <td>6.000000</td>\n",
       "      <td>1.000000</td>\n",
       "      <td>2.700000</td>\n",
       "    </tr>\n",
       "    <tr>\n",
       "      <th>25%</th>\n",
       "      <td>0.245000</td>\n",
       "      <td>3.000000</td>\n",
       "      <td>8.000000</td>\n",
       "      <td>8.500000</td>\n",
       "      <td>1.000000</td>\n",
       "      <td>3.635000</td>\n",
       "    </tr>\n",
       "    <tr>\n",
       "      <th>50%</th>\n",
       "      <td>0.350000</td>\n",
       "      <td>4.000000</td>\n",
       "      <td>10.000000</td>\n",
       "      <td>10.000000</td>\n",
       "      <td>2.000000</td>\n",
       "      <td>4.260000</td>\n",
       "    </tr>\n",
       "    <tr>\n",
       "      <th>75%</th>\n",
       "      <td>0.915000</td>\n",
       "      <td>5.000000</td>\n",
       "      <td>11.500000</td>\n",
       "      <td>13.000000</td>\n",
       "      <td>2.500000</td>\n",
       "      <td>4.890000</td>\n",
       "    </tr>\n",
       "    <tr>\n",
       "      <th>max</th>\n",
       "      <td>0.980000</td>\n",
       "      <td>6.000000</td>\n",
       "      <td>14.000000</td>\n",
       "      <td>14.000000</td>\n",
       "      <td>3.000000</td>\n",
       "      <td>6.270000</td>\n",
       "    </tr>\n",
       "  </tbody>\n",
       "</table>\n",
       "</div>"
      ],
      "text/plain": [
       "       акционные_покупки  страниц_за_визит  минут_предыдущий_месяц  \\\n",
       "count          27.000000         27.000000               27.000000   \n",
       "mean            0.528148          3.740741                9.962963   \n",
       "std             0.320325          1.258589                2.311867   \n",
       "min             0.220000          1.000000                5.000000   \n",
       "25%             0.245000          3.000000                8.000000   \n",
       "50%             0.350000          4.000000               10.000000   \n",
       "75%             0.915000          5.000000               11.500000   \n",
       "max             0.980000          6.000000               14.000000   \n",
       "\n",
       "       минут_текущий_месяц  средний_просмотр_категорий_за_визит    прибыль  \n",
       "count            27.000000                            27.000000  27.000000  \n",
       "mean             10.444444                             1.888889   4.295556  \n",
       "std               2.562050                             0.800641   0.886347  \n",
       "min               6.000000                             1.000000   2.700000  \n",
       "25%               8.500000                             1.000000   3.635000  \n",
       "50%              10.000000                             2.000000   4.260000  \n",
       "75%              13.000000                             2.500000   4.890000  \n",
       "max              14.000000                             3.000000   6.270000  "
      ]
     },
     "execution_count": 68,
     "metadata": {},
     "output_type": "execute_result"
    }
   ],
   "source": [
    "to_hist.describe()"
   ]
  },
  {
   "cell_type": "code",
   "execution_count": 69,
   "metadata": {},
   "outputs": [
    {
     "data": {
      "text/html": [
       "<div>\n",
       "<style scoped>\n",
       "    .dataframe tbody tr th:only-of-type {\n",
       "        vertical-align: middle;\n",
       "    }\n",
       "\n",
       "    .dataframe tbody tr th {\n",
       "        vertical-align: top;\n",
       "    }\n",
       "\n",
       "    .dataframe thead th {\n",
       "        text-align: right;\n",
       "    }\n",
       "</style>\n",
       "<table border=\"1\" class=\"dataframe\">\n",
       "  <thead>\n",
       "    <tr style=\"text-align: right;\">\n",
       "      <th></th>\n",
       "      <th>покупательская_активность</th>\n",
       "      <th>тип_сервиса</th>\n",
       "      <th>разрешить_сообщать</th>\n",
       "      <th>маркет_актив_6_мес</th>\n",
       "      <th>маркет_актив_тек_мес</th>\n",
       "      <th>длительность</th>\n",
       "      <th>акционные_покупки</th>\n",
       "      <th>популярная_категория</th>\n",
       "      <th>средний_просмотр_категорий_за_визит</th>\n",
       "      <th>неоплаченные_продукты_штук_квартал</th>\n",
       "      <th>ошибка_сервиса</th>\n",
       "      <th>страниц_за_визит</th>\n",
       "      <th>выручка_предыдущий_месяц</th>\n",
       "      <th>выручка_текущий_месяц</th>\n",
       "      <th>минут_предыдущий_месяц</th>\n",
       "      <th>минут_текущий_месяц</th>\n",
       "    </tr>\n",
       "    <tr>\n",
       "      <th>id</th>\n",
       "      <th></th>\n",
       "      <th></th>\n",
       "      <th></th>\n",
       "      <th></th>\n",
       "      <th></th>\n",
       "      <th></th>\n",
       "      <th></th>\n",
       "      <th></th>\n",
       "      <th></th>\n",
       "      <th></th>\n",
       "      <th></th>\n",
       "      <th></th>\n",
       "      <th></th>\n",
       "      <th></th>\n",
       "      <th></th>\n",
       "      <th></th>\n",
       "    </tr>\n",
       "  </thead>\n",
       "  <tbody>\n",
       "    <tr>\n",
       "      <th>215349</th>\n",
       "      <td>Снизилась</td>\n",
       "      <td>премиум</td>\n",
       "      <td>да</td>\n",
       "      <td>4.4</td>\n",
       "      <td>4</td>\n",
       "      <td>819</td>\n",
       "      <td>0.75</td>\n",
       "      <td>Товары для детей</td>\n",
       "      <td>4</td>\n",
       "      <td>4</td>\n",
       "      <td>2</td>\n",
       "      <td>5</td>\n",
       "      <td>4844.00</td>\n",
       "      <td>4971.6</td>\n",
       "      <td>12</td>\n",
       "      <td>10</td>\n",
       "    </tr>\n",
       "    <tr>\n",
       "      <th>215350</th>\n",
       "      <td>Снизилась</td>\n",
       "      <td>стандарт</td>\n",
       "      <td>нет</td>\n",
       "      <td>4.9</td>\n",
       "      <td>3</td>\n",
       "      <td>539</td>\n",
       "      <td>0.14</td>\n",
       "      <td>Домашний текстиль</td>\n",
       "      <td>5</td>\n",
       "      <td>2</td>\n",
       "      <td>1</td>\n",
       "      <td>5</td>\n",
       "      <td>5141.75</td>\n",
       "      <td>5058.4</td>\n",
       "      <td>8</td>\n",
       "      <td>13</td>\n",
       "    </tr>\n",
       "    <tr>\n",
       "      <th>215351</th>\n",
       "      <td>Снизилась</td>\n",
       "      <td>стандарт</td>\n",
       "      <td>да</td>\n",
       "      <td>3.2</td>\n",
       "      <td>5</td>\n",
       "      <td>896</td>\n",
       "      <td>0.99</td>\n",
       "      <td>Товары для детей</td>\n",
       "      <td>5</td>\n",
       "      <td>0</td>\n",
       "      <td>6</td>\n",
       "      <td>4</td>\n",
       "      <td>5475.50</td>\n",
       "      <td>6610.4</td>\n",
       "      <td>11</td>\n",
       "      <td>13</td>\n",
       "    </tr>\n",
       "    <tr>\n",
       "      <th>215352</th>\n",
       "      <td>Снизилась</td>\n",
       "      <td>стандарт</td>\n",
       "      <td>нет</td>\n",
       "      <td>5.1</td>\n",
       "      <td>3</td>\n",
       "      <td>1064</td>\n",
       "      <td>0.94</td>\n",
       "      <td>Товары для детей</td>\n",
       "      <td>3</td>\n",
       "      <td>2</td>\n",
       "      <td>3</td>\n",
       "      <td>2</td>\n",
       "      <td>5200.75</td>\n",
       "      <td>5872.5</td>\n",
       "      <td>8</td>\n",
       "      <td>11</td>\n",
       "    </tr>\n",
       "    <tr>\n",
       "      <th>215353</th>\n",
       "      <td>Снизилась</td>\n",
       "      <td>стандарт</td>\n",
       "      <td>да</td>\n",
       "      <td>3.3</td>\n",
       "      <td>4</td>\n",
       "      <td>762</td>\n",
       "      <td>0.26</td>\n",
       "      <td>Домашний текстиль</td>\n",
       "      <td>4</td>\n",
       "      <td>1</td>\n",
       "      <td>1</td>\n",
       "      <td>4</td>\n",
       "      <td>4931.25</td>\n",
       "      <td>5388.5</td>\n",
       "      <td>10</td>\n",
       "      <td>10</td>\n",
       "    </tr>\n",
       "  </tbody>\n",
       "</table>\n",
       "</div>"
      ],
      "text/plain": [
       "       покупательская_активность тип_сервиса разрешить_сообщать  \\\n",
       "id                                                                \n",
       "215349                 Снизилась     премиум                 да   \n",
       "215350                 Снизилась    стандарт                нет   \n",
       "215351                 Снизилась    стандарт                 да   \n",
       "215352                 Снизилась    стандарт                нет   \n",
       "215353                 Снизилась    стандарт                 да   \n",
       "\n",
       "        маркет_актив_6_мес  маркет_актив_тек_мес  длительность  \\\n",
       "id                                                               \n",
       "215349                 4.4                     4           819   \n",
       "215350                 4.9                     3           539   \n",
       "215351                 3.2                     5           896   \n",
       "215352                 5.1                     3          1064   \n",
       "215353                 3.3                     4           762   \n",
       "\n",
       "        акционные_покупки популярная_категория  \\\n",
       "id                                               \n",
       "215349               0.75     Товары для детей   \n",
       "215350               0.14    Домашний текстиль   \n",
       "215351               0.99     Товары для детей   \n",
       "215352               0.94     Товары для детей   \n",
       "215353               0.26    Домашний текстиль   \n",
       "\n",
       "        средний_просмотр_категорий_за_визит  \\\n",
       "id                                            \n",
       "215349                                    4   \n",
       "215350                                    5   \n",
       "215351                                    5   \n",
       "215352                                    3   \n",
       "215353                                    4   \n",
       "\n",
       "        неоплаченные_продукты_штук_квартал  ошибка_сервиса  страниц_за_визит  \\\n",
       "id                                                                             \n",
       "215349                                   4               2                 5   \n",
       "215350                                   2               1                 5   \n",
       "215351                                   0               6                 4   \n",
       "215352                                   2               3                 2   \n",
       "215353                                   1               1                 4   \n",
       "\n",
       "        выручка_предыдущий_месяц  выручка_текущий_месяц  \\\n",
       "id                                                        \n",
       "215349                   4844.00                 4971.6   \n",
       "215350                   5141.75                 5058.4   \n",
       "215351                   5475.50                 6610.4   \n",
       "215352                   5200.75                 5872.5   \n",
       "215353                   4931.25                 5388.5   \n",
       "\n",
       "        минут_предыдущий_месяц  минут_текущий_месяц  \n",
       "id                                                   \n",
       "215349                      12                   10  \n",
       "215350                       8                   13  \n",
       "215351                      11                   13  \n",
       "215352                       8                   11  \n",
       "215353                      10                   10  "
      ]
     },
     "execution_count": 69,
     "metadata": {},
     "output_type": "execute_result"
    }
   ],
   "source": [
    "data.head()"
   ]
  },
  {
   "cell_type": "code",
   "execution_count": 70,
   "metadata": {},
   "outputs": [
    {
     "data": {
      "image/png": "[encoded data removed]",
      "text/plain": [
       "<Figure size 720x720 with 6 Axes>"
      ]
     },
     "metadata": {
      "needs_background": "light"
     },
     "output_type": "display_data"
    }
   ],
   "source": [
    "comp_data = data.join(money, on='id')\n",
    "comp_data = comp_data[['акционные_покупки', 'страниц_за_визит', 'минут_предыдущий_месяц', \n",
    "                  'минут_текущий_месяц', 'средний_просмотр_категорий_за_визит', 'прибыль']]\n",
    "comp_data.hist(figsize=(10, 10));"
   ]
  },
  {
   "cell_type": "code",
   "execution_count": 71,
   "metadata": {},
   "outputs": [
    {
     "data": {
      "text/html": [
       "<div>\n",
       "<style scoped>\n",
       "    .dataframe tbody tr th:only-of-type {\n",
       "        vertical-align: middle;\n",
       "    }\n",
       "\n",
       "    .dataframe tbody tr th {\n",
       "        vertical-align: top;\n",
       "    }\n",
       "\n",
       "    .dataframe thead th {\n",
       "        text-align: right;\n",
       "    }\n",
       "</style>\n",
       "<table border=\"1\" class=\"dataframe\">\n",
       "  <thead>\n",
       "    <tr style=\"text-align: right;\">\n",
       "      <th></th>\n",
       "      <th>акционные_покупки</th>\n",
       "      <th>страниц_за_визит</th>\n",
       "      <th>минут_предыдущий_месяц</th>\n",
       "      <th>минут_текущий_месяц</th>\n",
       "      <th>средний_просмотр_категорий_за_визит</th>\n",
       "      <th>прибыль</th>\n",
       "    </tr>\n",
       "  </thead>\n",
       "  <tbody>\n",
       "    <tr>\n",
       "      <th>count</th>\n",
       "      <td>1296.000000</td>\n",
       "      <td>1296.000000</td>\n",
       "      <td>1296.000000</td>\n",
       "      <td>1296.000000</td>\n",
       "      <td>1296.000000</td>\n",
       "      <td>1296.000000</td>\n",
       "    </tr>\n",
       "    <tr>\n",
       "      <th>mean</th>\n",
       "      <td>0.320069</td>\n",
       "      <td>8.187500</td>\n",
       "      <td>13.470679</td>\n",
       "      <td>13.210648</td>\n",
       "      <td>3.267747</td>\n",
       "      <td>3.997701</td>\n",
       "    </tr>\n",
       "    <tr>\n",
       "      <th>std</th>\n",
       "      <td>0.249159</td>\n",
       "      <td>3.978459</td>\n",
       "      <td>3.937630</td>\n",
       "      <td>4.221794</td>\n",
       "      <td>1.355125</td>\n",
       "      <td>1.011198</td>\n",
       "    </tr>\n",
       "    <tr>\n",
       "      <th>min</th>\n",
       "      <td>0.110000</td>\n",
       "      <td>1.000000</td>\n",
       "      <td>5.000000</td>\n",
       "      <td>4.000000</td>\n",
       "      <td>1.000000</td>\n",
       "      <td>0.860000</td>\n",
       "    </tr>\n",
       "    <tr>\n",
       "      <th>25%</th>\n",
       "      <td>0.170000</td>\n",
       "      <td>5.000000</td>\n",
       "      <td>10.750000</td>\n",
       "      <td>10.000000</td>\n",
       "      <td>2.000000</td>\n",
       "      <td>3.300000</td>\n",
       "    </tr>\n",
       "    <tr>\n",
       "      <th>50%</th>\n",
       "      <td>0.240000</td>\n",
       "      <td>8.000000</td>\n",
       "      <td>13.000000</td>\n",
       "      <td>13.000000</td>\n",
       "      <td>3.000000</td>\n",
       "      <td>4.045000</td>\n",
       "    </tr>\n",
       "    <tr>\n",
       "      <th>75%</th>\n",
       "      <td>0.300000</td>\n",
       "      <td>11.000000</td>\n",
       "      <td>17.000000</td>\n",
       "      <td>16.000000</td>\n",
       "      <td>4.000000</td>\n",
       "      <td>4.670000</td>\n",
       "    </tr>\n",
       "    <tr>\n",
       "      <th>max</th>\n",
       "      <td>0.990000</td>\n",
       "      <td>20.000000</td>\n",
       "      <td>23.000000</td>\n",
       "      <td>23.000000</td>\n",
       "      <td>6.000000</td>\n",
       "      <td>7.430000</td>\n",
       "    </tr>\n",
       "  </tbody>\n",
       "</table>\n",
       "</div>"
      ],
      "text/plain": [
       "       акционные_покупки  страниц_за_визит  минут_предыдущий_месяц  \\\n",
       "count        1296.000000       1296.000000             1296.000000   \n",
       "mean            0.320069          8.187500               13.470679   \n",
       "std             0.249159          3.978459                3.937630   \n",
       "min             0.110000          1.000000                5.000000   \n",
       "25%             0.170000          5.000000               10.750000   \n",
       "50%             0.240000          8.000000               13.000000   \n",
       "75%             0.300000         11.000000               17.000000   \n",
       "max             0.990000         20.000000               23.000000   \n",
       "\n",
       "       минут_текущий_месяц  средний_просмотр_категорий_за_визит      прибыль  \n",
       "count          1296.000000                          1296.000000  1296.000000  \n",
       "mean             13.210648                             3.267747     3.997701  \n",
       "std               4.221794                             1.355125     1.011198  \n",
       "min               4.000000                             1.000000     0.860000  \n",
       "25%              10.000000                             2.000000     3.300000  \n",
       "50%              13.000000                             3.000000     4.045000  \n",
       "75%              16.000000                             4.000000     4.670000  \n",
       "max              23.000000                             6.000000     7.430000  "
      ]
     },
     "execution_count": 71,
     "metadata": {},
     "output_type": "execute_result"
    }
   ],
   "source": [
    "comp_data.describe()"
   ]
  },
  {
   "cell_type": "markdown",
   "metadata": {},
   "source": [
    "**Вывод:** для исследования была выбрана группа клиентов, которые покупают только технику, то есть товары с длинным жизненным циклом. Для увеличения её покупательской активности было предложено:  \n",
    "- увеличить количество рекомендаций карточек товаров на основе запросов пользователя, так как количество страниц за визит в два раза меньше среднего по всем данным.\n",
    "- с целью стимулирования пользователей к покупке, предлагается увеличить количество персонализированных акционных предложений, так как наблюдаются аномально низкие значения в диапозоне от 0.5 до 0.8 в признаке акционные_покупки. Также справделиво для всего датафрейма.\n",
    "- так как прибыль данного сегмента пользователей выше средней по всей выборке из-за высоких цен на технику в сравнении с другими категориями, то предлагаю рекомендовать пользователям подкатегории из категории техники, которые они еще не приобрели. Например, пользователь купил чайник, в таком случае можно порекомендовать ему другую  кухонную технику.  "
   ]
  },
  {
   "cell_type": "markdown",
   "metadata": {},
   "source": [
    "## Общий вывод\n",
    "\n",
    "\n",
    "* На этапк загрузки данных было выявлено, что данные соответствуют описанию задачи. \n",
    "* На этапе предобработке данных названия столбцов были приведены к нормальному виду во всех датафремах. Пропуски и явные дубликаты в данных отсутствовали. А неявные были обработаны.\n",
    "* На эатпе исследовательского анализа данных были сделаны следующие выводы. \n",
    "    - В столбцах датафрейма market_file: 'покупательская_активность', 'тип_сервиса' и 'разрешить_сообщать' наблюдается дисбаланс в значениях. \n",
    "    - В датафреме market_money были удалены выбросы в столбце 'выручка'. Замечен дисбаланс в столбце 'период'.\n",
    "    - В датафреме market_time не были замечены выбросы и дисбаланс.\n",
    "    - В датафреме money не было замечено выбросов.\n",
    "    - Для того чтобы отобрать пользователей с активностью не менее трех месяцев нужно взять id пользователей из датафрейма money, так как это таблица с данными о среднемесячной прибыли покупателя за последние 3 месяца.\n",
    "\n",
    "* Далее были успешно объединены таблицы \n",
    "* Во время корреляционного анализа принзнаков мультиколлинеарность не была выявлена\n",
    "* С исопльзованием пайпалйнов была выбрана наилучшая модель (KNeighborsClassifier (n_neighbors=9)), которая имеет высокиие показатели как на тренировочной выборке, так и на тестовой. Однако, на основе разницы метрик, можно сделать вывод о переобученности модели. ROC-AUC будет подходящей для задачи метрикой, так как используется несколько принципаильно разных моделей.\n",
    "* На эатпе анализа важности признаков были сделаны следующие выводы:\n",
    "        Мало значимые признаки:\n",
    "        - Ошибка сервиса \n",
    "        - Неоплаченные продукты штук квартал \n",
    "        - Длительность\n",
    "        - Популярная категория \n",
    "        - Маркет актив 6 мес\n",
    "\n",
    "        Признаки с наибольшим влиянием на целевой признак:\n",
    "        - Страницы за визит \n",
    "        - Акционные покупки \n",
    "        - Минут \n",
    "        - Средний просмотр категорий за визит \n",
    "\n",
    "         Интерпритация:\n",
    "        - Чем больше страниц пользователь посещает за визит, тем выше его пренадлежность к классу 1. \n",
    "        - Чем больше пользователь делает аукционных покупок, тем выше его пренадлежность к классу 0. \n",
    "        - Чем больше мину пользователь проводит на сайте, тем выше его пренадлежность к классу 1. \n",
    "\n",
    "\n",
    "        Такие признаки, как количество страниц за визит, акционные покупки и количество минут, проведенных на сайте, оказывают значительное влияние на целевой признак. Это означает, что данные метрики важно учитывать при разработке стратегии повышения пользовательской активности и увеличения продаж.\n",
    "* Для исследования была выбрана группа клиентов, которые покупают только технику, то есть товары с длинным жизненным циклом. Для увеличения её покупательской активности было предложено:  \n",
    "    - увеличить количество рекомендаций карточек товаров на основе запросов пользователя, так как количество страниц за визит в два раза меньше среднего по всем данным.\n",
    "    - с целью стимулирования пользователей к покупке, предлагается увеличить количество персонализированных акционных предложений, так как наблюдаются аномально низкие значения в диапозоне от 0.5 до 0.8 в признаке акционные_покупки. Также справделиво для всего датафрейма.\n"
   ]
  }
 ],
 "metadata": {
  "ExecuteTimeLog": [
   {
    "duration": 15,
    "start_time": "2024-07-23T11:58:09.202Z"
   },
   {
    "duration": 423,
    "start_time": "2024-07-23T12:02:42.873Z"
   },
   {
    "duration": 421,
    "start_time": "2024-07-23T12:04:26.149Z"
   },
   {
    "duration": 372,
    "start_time": "2024-07-23T12:10:39.224Z"
   },
   {
    "duration": 101,
    "start_time": "2024-07-23T12:10:39.597Z"
   },
   {
    "duration": 25,
    "start_time": "2024-07-23T12:10:39.700Z"
   },
   {
    "duration": 14,
    "start_time": "2024-07-23T12:10:39.727Z"
   },
   {
    "duration": 33,
    "start_time": "2024-07-23T12:10:39.742Z"
   },
   {
    "duration": 22,
    "start_time": "2024-07-23T12:10:39.776Z"
   },
   {
    "duration": 354,
    "start_time": "2024-07-23T12:19:52.733Z"
   },
   {
    "duration": 106,
    "start_time": "2024-07-23T12:19:53.089Z"
   },
   {
    "duration": 19,
    "start_time": "2024-07-23T12:19:53.197Z"
   },
   {
    "duration": 20,
    "start_time": "2024-07-23T12:19:53.218Z"
   },
   {
    "duration": 12,
    "start_time": "2024-07-23T12:19:53.241Z"
   },
   {
    "duration": 43,
    "start_time": "2024-07-23T12:19:53.255Z"
   },
   {
    "duration": 426,
    "start_time": "2024-07-23T12:20:16.070Z"
   },
   {
    "duration": 101,
    "start_time": "2024-07-23T12:20:16.498Z"
   },
   {
    "duration": 29,
    "start_time": "2024-07-23T12:20:16.601Z"
   },
   {
    "duration": 14,
    "start_time": "2024-07-23T12:20:16.632Z"
   },
   {
    "duration": 14,
    "start_time": "2024-07-23T12:20:16.647Z"
   },
   {
    "duration": 35,
    "start_time": "2024-07-23T12:20:16.662Z"
   },
   {
    "duration": 90,
    "start_time": "2024-07-23T12:24:27.900Z"
   },
   {
    "duration": 20,
    "start_time": "2024-07-23T12:24:29.933Z"
   },
   {
    "duration": 15,
    "start_time": "2024-07-23T12:24:30.134Z"
   },
   {
    "duration": 13,
    "start_time": "2024-07-23T12:24:30.436Z"
   },
   {
    "duration": 14,
    "start_time": "2024-07-23T12:24:32.243Z"
   },
   {
    "duration": 414,
    "start_time": "2024-07-23T12:24:57.869Z"
   },
   {
    "duration": 93,
    "start_time": "2024-07-23T12:24:58.285Z"
   },
   {
    "duration": 38,
    "start_time": "2024-07-23T12:24:58.381Z"
   },
   {
    "duration": 15,
    "start_time": "2024-07-23T12:24:58.421Z"
   },
   {
    "duration": 15,
    "start_time": "2024-07-23T12:24:58.438Z"
   },
   {
    "duration": 37,
    "start_time": "2024-07-23T12:24:58.455Z"
   },
   {
    "duration": 100,
    "start_time": "2024-07-23T12:27:43.377Z"
   },
   {
    "duration": 29,
    "start_time": "2024-07-23T12:27:45.836Z"
   },
   {
    "duration": 93,
    "start_time": "2024-07-23T12:28:00.058Z"
   },
   {
    "duration": 24,
    "start_time": "2024-07-23T12:28:00.347Z"
   },
   {
    "duration": 16,
    "start_time": "2024-07-23T12:28:00.992Z"
   },
   {
    "duration": 93,
    "start_time": "2024-07-23T12:28:17.833Z"
   },
   {
    "duration": 22,
    "start_time": "2024-07-23T12:28:19.441Z"
   },
   {
    "duration": 17,
    "start_time": "2024-07-23T12:28:19.745Z"
   },
   {
    "duration": 15,
    "start_time": "2024-07-23T12:28:20.045Z"
   },
   {
    "duration": 12,
    "start_time": "2024-07-23T12:28:20.451Z"
   },
   {
    "duration": 92,
    "start_time": "2024-07-23T12:29:02.566Z"
   },
   {
    "duration": 19,
    "start_time": "2024-07-23T12:29:02.980Z"
   },
   {
    "duration": 15,
    "start_time": "2024-07-23T12:29:03.459Z"
   },
   {
    "duration": 12,
    "start_time": "2024-07-23T12:29:03.994Z"
   },
   {
    "duration": 14,
    "start_time": "2024-07-23T12:29:04.389Z"
   },
   {
    "duration": 4,
    "start_time": "2024-07-23T12:57:23.647Z"
   },
   {
    "duration": 12,
    "start_time": "2024-07-23T12:58:53.157Z"
   },
   {
    "duration": 12,
    "start_time": "2024-07-23T12:59:36.589Z"
   },
   {
    "duration": 6,
    "start_time": "2024-07-23T12:59:48.664Z"
   },
   {
    "duration": 64,
    "start_time": "2024-07-23T13:00:14.538Z"
   },
   {
    "duration": 11,
    "start_time": "2024-07-23T13:00:22.184Z"
   },
   {
    "duration": 7,
    "start_time": "2024-07-23T13:00:33.701Z"
   },
   {
    "duration": 7,
    "start_time": "2024-07-23T13:00:41.497Z"
   },
   {
    "duration": 17,
    "start_time": "2024-07-23T13:01:14.102Z"
   },
   {
    "duration": 7,
    "start_time": "2024-07-23T13:05:10.375Z"
   },
   {
    "duration": 9,
    "start_time": "2024-07-23T13:05:29.133Z"
   },
   {
    "duration": 6,
    "start_time": "2024-07-23T13:05:33.525Z"
   },
   {
    "duration": 8,
    "start_time": "2024-07-23T13:05:36.215Z"
   },
   {
    "duration": 5,
    "start_time": "2024-07-23T13:06:11.037Z"
   },
   {
    "duration": 5,
    "start_time": "2024-07-23T13:06:20.264Z"
   },
   {
    "duration": 7,
    "start_time": "2024-07-23T13:06:37.390Z"
   },
   {
    "duration": 7,
    "start_time": "2024-07-23T13:06:51.052Z"
   },
   {
    "duration": 7,
    "start_time": "2024-07-23T13:06:56.013Z"
   },
   {
    "duration": 431,
    "start_time": "2024-07-23T13:07:07.970Z"
   },
   {
    "duration": 95,
    "start_time": "2024-07-23T13:07:08.404Z"
   },
   {
    "duration": 26,
    "start_time": "2024-07-23T13:07:08.500Z"
   },
   {
    "duration": 19,
    "start_time": "2024-07-23T13:07:08.527Z"
   },
   {
    "duration": 13,
    "start_time": "2024-07-23T13:07:08.547Z"
   },
   {
    "duration": 12,
    "start_time": "2024-07-23T13:07:08.561Z"
   },
   {
    "duration": 20,
    "start_time": "2024-07-23T13:07:08.574Z"
   },
   {
    "duration": 9,
    "start_time": "2024-07-23T13:07:08.595Z"
   },
   {
    "duration": 7,
    "start_time": "2024-07-23T13:07:08.605Z"
   },
   {
    "duration": 78,
    "start_time": "2024-07-23T13:07:08.614Z"
   },
   {
    "duration": 11,
    "start_time": "2024-07-23T13:07:08.694Z"
   },
   {
    "duration": 86,
    "start_time": "2024-07-23T13:07:08.706Z"
   },
   {
    "duration": 11,
    "start_time": "2024-07-23T13:07:08.794Z"
   },
   {
    "duration": 6,
    "start_time": "2024-07-23T13:07:34.848Z"
   },
   {
    "duration": 5,
    "start_time": "2024-07-23T13:07:57.713Z"
   },
   {
    "duration": 7,
    "start_time": "2024-07-23T13:08:14.339Z"
   },
   {
    "duration": 7,
    "start_time": "2024-07-23T13:08:20.273Z"
   },
   {
    "duration": 5,
    "start_time": "2024-07-23T13:08:29.705Z"
   },
   {
    "duration": 5,
    "start_time": "2024-07-23T13:09:12.496Z"
   },
   {
    "duration": 4,
    "start_time": "2024-07-23T13:09:16.613Z"
   },
   {
    "duration": 1860,
    "start_time": "2024-07-23T13:17:16.087Z"
   },
   {
    "duration": 45,
    "start_time": "2024-07-23T13:19:08.980Z"
   },
   {
    "duration": 47,
    "start_time": "2024-07-24T19:11:02.539Z"
   },
   {
    "duration": 409,
    "start_time": "2024-07-24T19:11:12.465Z"
   },
   {
    "duration": 389,
    "start_time": "2024-07-24T19:11:12.875Z"
   },
   {
    "duration": 26,
    "start_time": "2024-07-24T19:11:13.268Z"
   },
   {
    "duration": 31,
    "start_time": "2024-07-24T19:11:13.295Z"
   },
   {
    "duration": 15,
    "start_time": "2024-07-24T19:11:13.327Z"
   },
   {
    "duration": 13,
    "start_time": "2024-07-24T19:11:13.343Z"
   },
   {
    "duration": 32,
    "start_time": "2024-07-24T19:11:13.358Z"
   },
   {
    "duration": 6,
    "start_time": "2024-07-24T19:11:13.392Z"
   },
   {
    "duration": 7,
    "start_time": "2024-07-24T19:11:13.400Z"
   },
   {
    "duration": 15,
    "start_time": "2024-07-24T19:11:13.408Z"
   },
   {
    "duration": 12,
    "start_time": "2024-07-24T19:11:13.424Z"
   },
   {
    "duration": 8,
    "start_time": "2024-07-24T19:11:13.437Z"
   },
   {
    "duration": 36,
    "start_time": "2024-07-24T19:11:13.446Z"
   },
   {
    "duration": 5,
    "start_time": "2024-07-24T19:11:13.484Z"
   },
   {
    "duration": 11,
    "start_time": "2024-07-24T19:11:13.490Z"
   },
   {
    "duration": 9,
    "start_time": "2024-07-24T19:11:13.503Z"
   },
   {
    "duration": 6,
    "start_time": "2024-07-24T19:11:13.514Z"
   },
   {
    "duration": 5,
    "start_time": "2024-07-24T19:11:13.521Z"
   },
   {
    "duration": 1638,
    "start_time": "2024-07-24T19:11:13.527Z"
   },
   {
    "duration": 40,
    "start_time": "2024-07-24T19:11:15.167Z"
   },
   {
    "duration": 66,
    "start_time": "2024-07-24T19:11:15.208Z"
   },
   {
    "duration": 92,
    "start_time": "2024-07-24T19:12:39.138Z"
   },
   {
    "duration": 16216,
    "start_time": "2024-07-24T19:13:35.690Z"
   },
   {
    "duration": 91,
    "start_time": "2024-07-24T19:15:45.065Z"
   },
   {
    "duration": 5,
    "start_time": "2024-07-24T19:16:54.994Z"
   },
   {
    "duration": 5,
    "start_time": "2024-07-24T19:18:19.136Z"
   },
   {
    "duration": 14,
    "start_time": "2024-07-24T19:19:10.979Z"
   },
   {
    "duration": 81,
    "start_time": "2024-07-24T19:19:15.139Z"
   },
   {
    "duration": 3,
    "start_time": "2024-07-24T19:20:21.906Z"
   },
   {
    "duration": 81,
    "start_time": "2024-07-24T19:20:29.247Z"
   },
   {
    "duration": 77,
    "start_time": "2024-07-24T19:20:37.058Z"
   },
   {
    "duration": 3,
    "start_time": "2024-07-24T19:20:52.426Z"
   },
   {
    "duration": 85,
    "start_time": "2024-07-24T19:21:13.930Z"
   },
   {
    "duration": 78,
    "start_time": "2024-07-24T19:21:22.419Z"
   },
   {
    "duration": 78,
    "start_time": "2024-07-24T19:21:34.344Z"
   },
   {
    "duration": 3,
    "start_time": "2024-07-24T19:21:59.679Z"
   },
   {
    "duration": 85,
    "start_time": "2024-07-24T19:22:00.042Z"
   },
   {
    "duration": 86,
    "start_time": "2024-07-24T19:22:03.098Z"
   },
   {
    "duration": 77,
    "start_time": "2024-07-24T19:22:05.191Z"
   },
   {
    "duration": 282,
    "start_time": "2024-07-24T19:22:16.886Z"
   },
   {
    "duration": 127,
    "start_time": "2024-07-24T19:22:57.161Z"
   },
   {
    "duration": 347,
    "start_time": "2024-07-24T19:23:45.804Z"
   },
   {
    "duration": 258,
    "start_time": "2024-07-24T19:23:54.501Z"
   },
   {
    "duration": 295,
    "start_time": "2024-07-24T19:23:59.857Z"
   },
   {
    "duration": 301,
    "start_time": "2024-07-24T19:24:03.210Z"
   },
   {
    "duration": 15,
    "start_time": "2024-07-24T19:24:18.889Z"
   },
   {
    "duration": 595,
    "start_time": "2024-07-24T19:25:22.681Z"
   },
   {
    "duration": 12,
    "start_time": "2024-07-24T19:25:34.331Z"
   },
   {
    "duration": 90,
    "start_time": "2024-07-24T19:26:27.516Z"
   },
   {
    "duration": 78,
    "start_time": "2024-07-24T19:26:42.046Z"
   },
   {
    "duration": 274,
    "start_time": "2024-07-24T19:27:43.867Z"
   },
   {
    "duration": 14,
    "start_time": "2024-07-24T19:28:10.409Z"
   },
   {
    "duration": 379,
    "start_time": "2024-07-25T10:06:32.560Z"
   },
   {
    "duration": 445,
    "start_time": "2024-07-25T10:06:32.940Z"
   },
   {
    "duration": 27,
    "start_time": "2024-07-25T10:06:33.386Z"
   },
   {
    "duration": 13,
    "start_time": "2024-07-25T10:06:33.415Z"
   },
   {
    "duration": 60,
    "start_time": "2024-07-25T10:06:33.430Z"
   },
   {
    "duration": 14,
    "start_time": "2024-07-25T10:06:33.492Z"
   },
   {
    "duration": 12,
    "start_time": "2024-07-25T10:06:33.508Z"
   },
   {
    "duration": 6,
    "start_time": "2024-07-25T10:06:33.522Z"
   },
   {
    "duration": 8,
    "start_time": "2024-07-25T10:06:33.529Z"
   },
   {
    "duration": 6,
    "start_time": "2024-07-25T10:06:33.539Z"
   },
   {
    "duration": 8,
    "start_time": "2024-07-25T10:06:33.546Z"
   },
   {
    "duration": 43,
    "start_time": "2024-07-25T10:06:33.555Z"
   },
   {
    "duration": 10,
    "start_time": "2024-07-25T10:06:33.600Z"
   },
   {
    "duration": 7,
    "start_time": "2024-07-25T10:06:33.614Z"
   },
   {
    "duration": 5,
    "start_time": "2024-07-25T10:06:33.623Z"
   },
   {
    "duration": 4,
    "start_time": "2024-07-25T10:06:33.630Z"
   },
   {
    "duration": 10,
    "start_time": "2024-07-25T10:06:33.636Z"
   },
   {
    "duration": 8,
    "start_time": "2024-07-25T10:06:33.647Z"
   },
   {
    "duration": 6,
    "start_time": "2024-07-25T10:06:33.656Z"
   },
   {
    "duration": 1605,
    "start_time": "2024-07-25T10:06:33.695Z"
   },
   {
    "duration": 35,
    "start_time": "2024-07-25T10:06:35.302Z"
   },
   {
    "duration": 17,
    "start_time": "2024-07-25T10:06:35.338Z"
   },
   {
    "duration": 5,
    "start_time": "2024-07-25T10:06:35.357Z"
   },
   {
    "duration": 138,
    "start_time": "2024-07-25T10:06:35.363Z"
   },
   {
    "duration": 95,
    "start_time": "2024-07-25T10:06:35.502Z"
   },
   {
    "duration": 79,
    "start_time": "2024-07-25T10:06:35.598Z"
   },
   {
    "duration": 133,
    "start_time": "2024-07-25T10:06:35.678Z"
   },
   {
    "duration": 299,
    "start_time": "2024-07-25T10:06:35.812Z"
   },
   {
    "duration": 14,
    "start_time": "2024-07-25T10:06:36.113Z"
   },
   {
    "duration": 4,
    "start_time": "2024-07-25T10:06:36.129Z"
   },
   {
    "duration": 192,
    "start_time": "2024-07-25T10:06:36.134Z"
   },
   {
    "duration": 8,
    "start_time": "2024-07-25T10:06:36.328Z"
   },
   {
    "duration": 104,
    "start_time": "2024-07-25T10:06:36.337Z"
   },
   {
    "duration": 273,
    "start_time": "2024-07-25T10:06:36.443Z"
   },
   {
    "duration": 12,
    "start_time": "2024-07-25T10:06:36.717Z"
   },
   {
    "duration": 86,
    "start_time": "2024-07-25T10:06:36.731Z"
   },
   {
    "duration": 337,
    "start_time": "2024-07-25T10:06:36.819Z"
   },
   {
    "duration": 13,
    "start_time": "2024-07-25T10:06:37.157Z"
   },
   {
    "duration": 5,
    "start_time": "2024-07-25T10:27:06.516Z"
   },
   {
    "duration": 175,
    "start_time": "2024-07-25T10:27:07.324Z"
   },
   {
    "duration": 7,
    "start_time": "2024-07-25T10:27:09.003Z"
   },
   {
    "duration": 5,
    "start_time": "2024-07-25T10:32:49.182Z"
   },
   {
    "duration": 7,
    "start_time": "2024-07-25T10:33:09.830Z"
   },
   {
    "duration": 87,
    "start_time": "2024-07-25T10:33:14.958Z"
   },
   {
    "duration": 4,
    "start_time": "2024-07-25T10:45:30.493Z"
   },
   {
    "duration": 3,
    "start_time": "2024-07-25T10:46:19.019Z"
   },
   {
    "duration": 64,
    "start_time": "2024-07-25T10:46:24.776Z"
   },
   {
    "duration": 3,
    "start_time": "2024-07-25T10:46:31.733Z"
   },
   {
    "duration": 3,
    "start_time": "2024-07-25T10:46:42.904Z"
   },
   {
    "duration": 4,
    "start_time": "2024-07-25T10:46:48.249Z"
   },
   {
    "duration": 8,
    "start_time": "2024-07-25T10:47:05.149Z"
   },
   {
    "duration": 71,
    "start_time": "2024-07-25T10:51:23.993Z"
   },
   {
    "duration": 5,
    "start_time": "2024-07-25T10:54:06.202Z"
   },
   {
    "duration": 22,
    "start_time": "2024-07-25T10:54:06.917Z"
   },
   {
    "duration": 22,
    "start_time": "2024-07-25T10:54:13.700Z"
   },
   {
    "duration": 15,
    "start_time": "2024-07-25T10:55:01.699Z"
   },
   {
    "duration": 61,
    "start_time": "2024-07-25T10:56:12.164Z"
   },
   {
    "duration": 457,
    "start_time": "2024-07-25T10:59:18.184Z"
   },
   {
    "duration": 44,
    "start_time": "2024-07-25T10:59:55.987Z"
   },
   {
    "duration": 1103,
    "start_time": "2024-07-25T11:00:04.727Z"
   },
   {
    "duration": 894,
    "start_time": "2024-07-25T11:00:37.808Z"
   },
   {
    "duration": 9,
    "start_time": "2024-07-25T11:00:56.904Z"
   },
   {
    "duration": 6593,
    "start_time": "2024-07-25T11:01:00.119Z"
   },
   {
    "duration": 46383,
    "start_time": "2024-07-25T11:01:10.458Z"
   },
   {
    "duration": 900,
    "start_time": "2024-07-25T11:04:07.818Z"
   },
   {
    "duration": 11,
    "start_time": "2024-07-25T11:07:30.123Z"
   },
   {
    "duration": 10,
    "start_time": "2024-07-25T11:07:44.537Z"
   },
   {
    "duration": 939,
    "start_time": "2024-07-25T11:08:01.143Z"
   },
   {
    "duration": 259,
    "start_time": "2024-07-25T11:54:15.137Z"
   },
   {
    "duration": 11,
    "start_time": "2024-07-25T11:55:08.660Z"
   },
   {
    "duration": 1329,
    "start_time": "2024-07-25T11:55:28.132Z"
   },
   {
    "duration": 103,
    "start_time": "2024-07-25T11:55:29.462Z"
   },
   {
    "duration": 23,
    "start_time": "2024-07-25T11:55:29.566Z"
   },
   {
    "duration": 14,
    "start_time": "2024-07-25T11:55:29.590Z"
   },
   {
    "duration": 24,
    "start_time": "2024-07-25T11:55:29.605Z"
   },
   {
    "duration": 12,
    "start_time": "2024-07-25T11:55:29.631Z"
   },
   {
    "duration": 20,
    "start_time": "2024-07-25T11:55:29.645Z"
   },
   {
    "duration": 19,
    "start_time": "2024-07-25T11:55:29.667Z"
   },
   {
    "duration": 6,
    "start_time": "2024-07-25T11:55:29.688Z"
   },
   {
    "duration": 5,
    "start_time": "2024-07-25T11:55:29.696Z"
   },
   {
    "duration": 8,
    "start_time": "2024-07-25T11:55:29.702Z"
   },
   {
    "duration": 8,
    "start_time": "2024-07-25T11:55:29.711Z"
   },
   {
    "duration": 5,
    "start_time": "2024-07-25T11:55:29.720Z"
   },
   {
    "duration": 9,
    "start_time": "2024-07-25T11:55:29.726Z"
   },
   {
    "duration": 7,
    "start_time": "2024-07-25T11:55:29.736Z"
   },
   {
    "duration": 4,
    "start_time": "2024-07-25T11:55:29.745Z"
   },
   {
    "duration": 8,
    "start_time": "2024-07-25T11:55:29.750Z"
   },
   {
    "duration": 40,
    "start_time": "2024-07-25T11:55:29.759Z"
   },
   {
    "duration": 8,
    "start_time": "2024-07-25T11:55:29.800Z"
   },
   {
    "duration": 5,
    "start_time": "2024-07-25T11:55:29.809Z"
   },
   {
    "duration": 1248,
    "start_time": "2024-07-25T11:55:29.815Z"
   },
   {
    "duration": 40,
    "start_time": "2024-07-25T11:55:31.065Z"
   },
   {
    "duration": 10,
    "start_time": "2024-07-25T11:55:31.106Z"
   },
   {
    "duration": 29,
    "start_time": "2024-07-25T11:55:31.117Z"
   },
   {
    "duration": 130,
    "start_time": "2024-07-25T11:55:31.148Z"
   },
   {
    "duration": 87,
    "start_time": "2024-07-25T11:55:31.279Z"
   },
   {
    "duration": 94,
    "start_time": "2024-07-25T11:55:31.368Z"
   },
   {
    "duration": 138,
    "start_time": "2024-07-25T11:55:31.465Z"
   },
   {
    "duration": 313,
    "start_time": "2024-07-25T11:55:31.605Z"
   },
   {
    "duration": 13,
    "start_time": "2024-07-25T11:55:31.920Z"
   },
   {
    "duration": 4,
    "start_time": "2024-07-25T11:55:31.935Z"
   },
   {
    "duration": 175,
    "start_time": "2024-07-25T11:55:31.941Z"
   },
   {
    "duration": 7,
    "start_time": "2024-07-25T11:55:32.118Z"
   },
   {
    "duration": 95,
    "start_time": "2024-07-25T11:55:32.126Z"
   },
   {
    "duration": 296,
    "start_time": "2024-07-25T11:55:32.222Z"
   },
   {
    "duration": 13,
    "start_time": "2024-07-25T11:55:32.519Z"
   },
   {
    "duration": 93,
    "start_time": "2024-07-25T11:55:32.533Z"
   },
   {
    "duration": 269,
    "start_time": "2024-07-25T11:55:32.628Z"
   },
   {
    "duration": 13,
    "start_time": "2024-07-25T11:55:32.899Z"
   },
   {
    "duration": 17,
    "start_time": "2024-07-25T11:55:32.913Z"
   },
   {
    "duration": 14,
    "start_time": "2024-07-25T11:55:32.931Z"
   },
   {
    "duration": 21,
    "start_time": "2024-07-25T11:55:32.947Z"
   },
   {
    "duration": 12,
    "start_time": "2024-07-25T11:55:32.969Z"
   },
   {
    "duration": 1051,
    "start_time": "2024-07-25T11:55:32.982Z"
   },
   {
    "duration": 8,
    "start_time": "2024-07-25T11:55:34.034Z"
   },
   {
    "duration": 12,
    "start_time": "2024-07-25T11:56:41.711Z"
   },
   {
    "duration": 11,
    "start_time": "2024-07-25T11:57:31.291Z"
   },
   {
    "duration": 12,
    "start_time": "2024-07-25T11:58:05.196Z"
   },
   {
    "duration": 14,
    "start_time": "2024-07-25T12:01:41.489Z"
   },
   {
    "duration": 19,
    "start_time": "2024-07-25T12:01:46.448Z"
   },
   {
    "duration": 4,
    "start_time": "2024-07-25T12:06:45.096Z"
   },
   {
    "duration": 100,
    "start_time": "2024-07-25T12:12:07.906Z"
   },
   {
    "duration": 3,
    "start_time": "2024-07-25T12:12:16.844Z"
   },
   {
    "duration": 3,
    "start_time": "2024-07-25T12:13:38.479Z"
   },
   {
    "duration": 61,
    "start_time": "2024-07-25T13:02:10.484Z"
   },
   {
    "duration": 15,
    "start_time": "2024-07-25T13:02:22.171Z"
   },
   {
    "duration": 4,
    "start_time": "2024-07-25T13:04:23.186Z"
   },
   {
    "duration": 3,
    "start_time": "2024-07-25T13:04:50.970Z"
   },
   {
    "duration": 37861,
    "start_time": "2024-07-25T13:05:19.613Z"
   },
   {
    "duration": 4,
    "start_time": "2024-07-25T13:07:29.112Z"
   },
   {
    "duration": 2,
    "start_time": "2024-07-25T13:07:29.602Z"
   },
   {
    "duration": 13579,
    "start_time": "2024-07-25T13:07:30.222Z"
   },
   {
    "duration": 5,
    "start_time": "2024-07-25T13:07:50.437Z"
   },
   {
    "duration": 3,
    "start_time": "2024-07-25T13:07:50.951Z"
   },
   {
    "duration": 16625,
    "start_time": "2024-07-25T13:07:52.589Z"
   },
   {
    "duration": 3,
    "start_time": "2024-07-25T13:11:23.931Z"
   },
   {
    "duration": 4,
    "start_time": "2024-07-25T13:11:26.273Z"
   },
   {
    "duration": 3,
    "start_time": "2024-07-25T13:11:26.609Z"
   },
   {
    "duration": 16799,
    "start_time": "2024-07-25T13:11:27.013Z"
   },
   {
    "duration": 10,
    "start_time": "2024-07-25T13:12:23.677Z"
   },
   {
    "duration": 2,
    "start_time": "2024-07-25T13:12:29.417Z"
   },
   {
    "duration": 1297,
    "start_time": "2024-07-25T14:04:42.219Z"
   },
   {
    "duration": 101,
    "start_time": "2024-07-25T14:04:43.518Z"
   },
   {
    "duration": 22,
    "start_time": "2024-07-25T14:04:43.620Z"
   },
   {
    "duration": 13,
    "start_time": "2024-07-25T14:04:43.643Z"
   },
   {
    "duration": 12,
    "start_time": "2024-07-25T14:04:43.658Z"
   },
   {
    "duration": 11,
    "start_time": "2024-07-25T14:04:43.671Z"
   },
   {
    "duration": 22,
    "start_time": "2024-07-25T14:04:43.684Z"
   },
   {
    "duration": 23,
    "start_time": "2024-07-25T14:04:43.707Z"
   },
   {
    "duration": 10,
    "start_time": "2024-07-25T14:04:43.731Z"
   },
   {
    "duration": 5,
    "start_time": "2024-07-25T14:04:43.742Z"
   },
   {
    "duration": 10,
    "start_time": "2024-07-25T14:04:43.748Z"
   },
   {
    "duration": 20,
    "start_time": "2024-07-25T14:04:43.759Z"
   },
   {
    "duration": 4,
    "start_time": "2024-07-25T14:04:43.781Z"
   },
   {
    "duration": 5,
    "start_time": "2024-07-25T14:04:43.787Z"
   },
   {
    "duration": 24,
    "start_time": "2024-07-25T14:04:43.793Z"
   },
   {
    "duration": 5,
    "start_time": "2024-07-25T14:04:43.819Z"
   },
   {
    "duration": 5,
    "start_time": "2024-07-25T14:04:43.826Z"
   },
   {
    "duration": 6,
    "start_time": "2024-07-25T14:04:43.832Z"
   },
   {
    "duration": 7,
    "start_time": "2024-07-25T14:04:43.839Z"
   },
   {
    "duration": 6,
    "start_time": "2024-07-25T14:04:43.847Z"
   },
   {
    "duration": 1202,
    "start_time": "2024-07-25T14:04:43.854Z"
   },
   {
    "duration": 42,
    "start_time": "2024-07-25T14:04:45.057Z"
   },
   {
    "duration": 9,
    "start_time": "2024-07-25T14:04:45.100Z"
   },
   {
    "duration": 32,
    "start_time": "2024-07-25T14:04:45.111Z"
   },
   {
    "duration": 121,
    "start_time": "2024-07-25T14:04:45.144Z"
   },
   {
    "duration": 101,
    "start_time": "2024-07-25T14:04:45.266Z"
   },
   {
    "duration": 97,
    "start_time": "2024-07-25T14:04:45.369Z"
   },
   {
    "duration": 128,
    "start_time": "2024-07-25T14:04:45.468Z"
   },
   {
    "duration": 301,
    "start_time": "2024-07-25T14:04:45.599Z"
   },
   {
    "duration": 14,
    "start_time": "2024-07-25T14:04:45.901Z"
   },
   {
    "duration": 4,
    "start_time": "2024-07-25T14:04:45.917Z"
   },
   {
    "duration": 174,
    "start_time": "2024-07-25T14:04:45.922Z"
   },
   {
    "duration": 7,
    "start_time": "2024-07-25T14:04:46.097Z"
   },
   {
    "duration": 91,
    "start_time": "2024-07-25T14:04:46.105Z"
   },
   {
    "duration": 268,
    "start_time": "2024-07-25T14:04:46.198Z"
   },
   {
    "duration": 13,
    "start_time": "2024-07-25T14:04:46.468Z"
   },
   {
    "duration": 87,
    "start_time": "2024-07-25T14:04:46.482Z"
   },
   {
    "duration": 268,
    "start_time": "2024-07-25T14:04:46.570Z"
   },
   {
    "duration": 13,
    "start_time": "2024-07-25T14:04:46.840Z"
   },
   {
    "duration": 5,
    "start_time": "2024-07-25T14:04:46.854Z"
   },
   {
    "duration": 4,
    "start_time": "2024-07-25T14:04:46.862Z"
   },
   {
    "duration": 46,
    "start_time": "2024-07-25T14:04:46.867Z"
   },
   {
    "duration": 13,
    "start_time": "2024-07-25T14:04:46.914Z"
   },
   {
    "duration": 980,
    "start_time": "2024-07-25T14:04:46.928Z"
   },
   {
    "duration": 11,
    "start_time": "2024-07-25T14:04:47.910Z"
   },
   {
    "duration": 2,
    "start_time": "2024-07-25T14:04:47.923Z"
   },
   {
    "duration": 4,
    "start_time": "2024-07-25T14:04:47.926Z"
   },
   {
    "duration": 4,
    "start_time": "2024-07-25T14:04:47.932Z"
   },
   {
    "duration": 5,
    "start_time": "2024-07-25T14:04:47.937Z"
   },
   {
    "duration": 3,
    "start_time": "2024-07-25T14:04:47.943Z"
   },
   {
    "duration": 16872,
    "start_time": "2024-07-25T14:04:47.948Z"
   },
   {
    "duration": 3,
    "start_time": "2024-07-25T14:05:04.822Z"
   },
   {
    "duration": 3733,
    "start_time": "2024-07-25T14:05:04.826Z"
   },
   {
    "duration": 5,
    "start_time": "2024-07-25T14:06:24.000Z"
   },
   {
    "duration": 3,
    "start_time": "2024-07-25T14:06:24.513Z"
   },
   {
    "duration": 3841,
    "start_time": "2024-07-25T14:06:25.943Z"
   },
   {
    "duration": 70,
    "start_time": "2024-07-25T18:34:35.315Z"
   },
   {
    "duration": 1469,
    "start_time": "2024-07-25T18:34:41.025Z"
   },
   {
    "duration": 447,
    "start_time": "2024-07-25T18:34:42.495Z"
   },
   {
    "duration": 24,
    "start_time": "2024-07-25T18:34:42.944Z"
   },
   {
    "duration": 21,
    "start_time": "2024-07-25T18:34:42.969Z"
   },
   {
    "duration": 15,
    "start_time": "2024-07-25T18:34:42.992Z"
   },
   {
    "duration": 26,
    "start_time": "2024-07-25T18:34:43.008Z"
   },
   {
    "duration": 19,
    "start_time": "2024-07-25T18:34:43.035Z"
   },
   {
    "duration": 18,
    "start_time": "2024-07-25T18:34:43.056Z"
   },
   {
    "duration": 16,
    "start_time": "2024-07-25T18:34:43.075Z"
   },
   {
    "duration": 25,
    "start_time": "2024-07-25T18:34:43.093Z"
   },
   {
    "duration": 13,
    "start_time": "2024-07-25T18:34:43.120Z"
   },
   {
    "duration": 7,
    "start_time": "2024-07-25T18:34:43.134Z"
   },
   {
    "duration": 5,
    "start_time": "2024-07-25T18:34:43.142Z"
   },
   {
    "duration": 17,
    "start_time": "2024-07-25T18:34:43.149Z"
   },
   {
    "duration": 8,
    "start_time": "2024-07-25T18:34:43.167Z"
   },
   {
    "duration": 9,
    "start_time": "2024-07-25T18:34:43.176Z"
   },
   {
    "duration": 27,
    "start_time": "2024-07-25T18:34:43.186Z"
   },
   {
    "duration": 7,
    "start_time": "2024-07-25T18:34:43.214Z"
   },
   {
    "duration": 15,
    "start_time": "2024-07-25T18:34:43.222Z"
   },
   {
    "duration": 4,
    "start_time": "2024-07-25T18:34:43.239Z"
   },
   {
    "duration": 1194,
    "start_time": "2024-07-25T18:34:43.244Z"
   },
   {
    "duration": 28,
    "start_time": "2024-07-25T18:34:44.440Z"
   },
   {
    "duration": 27,
    "start_time": "2024-07-25T18:34:44.469Z"
   },
   {
    "duration": 3,
    "start_time": "2024-07-25T18:34:44.497Z"
   },
   {
    "duration": 82,
    "start_time": "2024-07-25T18:34:44.501Z"
   },
   {
    "duration": 75,
    "start_time": "2024-07-25T18:34:44.595Z"
   },
   {
    "duration": 90,
    "start_time": "2024-07-25T18:34:44.671Z"
   },
   {
    "duration": 135,
    "start_time": "2024-07-25T18:34:44.762Z"
   },
   {
    "duration": 291,
    "start_time": "2024-07-25T18:34:44.898Z"
   },
   {
    "duration": 16,
    "start_time": "2024-07-25T18:34:45.190Z"
   },
   {
    "duration": 16,
    "start_time": "2024-07-25T18:34:45.207Z"
   },
   {
    "duration": 199,
    "start_time": "2024-07-25T18:34:45.225Z"
   },
   {
    "duration": 8,
    "start_time": "2024-07-25T18:34:45.426Z"
   },
   {
    "duration": 110,
    "start_time": "2024-07-25T18:34:45.435Z"
   },
   {
    "duration": 264,
    "start_time": "2024-07-25T18:34:45.546Z"
   },
   {
    "duration": 13,
    "start_time": "2024-07-25T18:34:45.811Z"
   },
   {
    "duration": 95,
    "start_time": "2024-07-25T18:34:45.826Z"
   },
   {
    "duration": 271,
    "start_time": "2024-07-25T18:34:45.922Z"
   },
   {
    "duration": 13,
    "start_time": "2024-07-25T18:34:46.195Z"
   },
   {
    "duration": 13,
    "start_time": "2024-07-25T18:34:46.209Z"
   },
   {
    "duration": 13,
    "start_time": "2024-07-25T18:34:46.226Z"
   },
   {
    "duration": 22,
    "start_time": "2024-07-25T18:34:46.240Z"
   },
   {
    "duration": 12,
    "start_time": "2024-07-25T18:34:46.263Z"
   },
   {
    "duration": 1056,
    "start_time": "2024-07-25T18:34:46.277Z"
   },
   {
    "duration": 12,
    "start_time": "2024-07-25T18:34:47.334Z"
   },
   {
    "duration": 5,
    "start_time": "2024-07-25T18:34:47.348Z"
   },
   {
    "duration": 6,
    "start_time": "2024-07-25T18:34:47.354Z"
   },
   {
    "duration": 11,
    "start_time": "2024-07-25T18:34:47.361Z"
   },
   {
    "duration": 5,
    "start_time": "2024-07-25T18:34:47.373Z"
   },
   {
    "duration": 8,
    "start_time": "2024-07-25T18:34:47.379Z"
   },
   {
    "duration": 3842,
    "start_time": "2024-07-25T18:34:47.388Z"
   },
   {
    "duration": 9,
    "start_time": "2024-07-25T18:34:51.232Z"
   },
   {
    "duration": 4,
    "start_time": "2024-07-25T18:35:12.239Z"
   },
   {
    "duration": 3,
    "start_time": "2024-07-25T18:35:12.474Z"
   },
   {
    "duration": 6542,
    "start_time": "2024-07-25T18:35:12.854Z"
   },
   {
    "duration": 5,
    "start_time": "2024-07-25T18:35:27.635Z"
   },
   {
    "duration": 2,
    "start_time": "2024-07-25T18:35:27.972Z"
   },
   {
    "duration": 4046,
    "start_time": "2024-07-25T18:35:28.290Z"
   },
   {
    "duration": 5,
    "start_time": "2024-07-25T18:35:53.903Z"
   },
   {
    "duration": 102,
    "start_time": "2024-07-25T18:39:23.259Z"
   },
   {
    "duration": 4335,
    "start_time": "2024-07-25T18:39:35.264Z"
   },
   {
    "duration": 2213,
    "start_time": "2024-07-25T18:39:43.288Z"
   },
   {
    "duration": 2153,
    "start_time": "2024-07-25T18:39:50.616Z"
   },
   {
    "duration": 29,
    "start_time": "2024-07-25T18:40:46.256Z"
   },
   {
    "duration": 57,
    "start_time": "2024-07-25T18:43:22.346Z"
   },
   {
    "duration": 30,
    "start_time": "2024-07-25T18:43:28.374Z"
   },
   {
    "duration": 28,
    "start_time": "2024-07-25T18:43:38.492Z"
   },
   {
    "duration": 28,
    "start_time": "2024-07-25T18:43:49.609Z"
   },
   {
    "duration": 29,
    "start_time": "2024-07-25T18:43:52.227Z"
   },
   {
    "duration": 22,
    "start_time": "2024-07-25T18:44:04.264Z"
   },
   {
    "duration": 23,
    "start_time": "2024-07-25T18:45:47.737Z"
   },
   {
    "duration": 34,
    "start_time": "2024-07-25T18:53:51.115Z"
   },
   {
    "duration": 33,
    "start_time": "2024-07-25T18:54:16.814Z"
   },
   {
    "duration": 3950,
    "start_time": "2024-07-25T18:58:28.932Z"
   },
   {
    "duration": 98,
    "start_time": "2024-07-25T18:58:32.884Z"
   },
   {
    "duration": 22,
    "start_time": "2024-07-25T18:58:32.984Z"
   },
   {
    "duration": 13,
    "start_time": "2024-07-25T18:58:33.007Z"
   },
   {
    "duration": 12,
    "start_time": "2024-07-25T18:58:33.021Z"
   },
   {
    "duration": 11,
    "start_time": "2024-07-25T18:58:33.034Z"
   },
   {
    "duration": 11,
    "start_time": "2024-07-25T18:58:33.046Z"
   },
   {
    "duration": 6,
    "start_time": "2024-07-25T18:58:33.058Z"
   },
   {
    "duration": 34,
    "start_time": "2024-07-25T18:58:33.065Z"
   },
   {
    "duration": 5,
    "start_time": "2024-07-25T18:58:33.101Z"
   },
   {
    "duration": 7,
    "start_time": "2024-07-25T18:58:33.108Z"
   },
   {
    "duration": 8,
    "start_time": "2024-07-25T18:58:33.116Z"
   },
   {
    "duration": 4,
    "start_time": "2024-07-25T18:58:33.125Z"
   },
   {
    "duration": 15,
    "start_time": "2024-07-25T18:58:33.131Z"
   },
   {
    "duration": 6,
    "start_time": "2024-07-25T18:58:33.148Z"
   },
   {
    "duration": 5,
    "start_time": "2024-07-25T18:58:33.155Z"
   },
   {
    "duration": 6,
    "start_time": "2024-07-25T18:58:33.161Z"
   },
   {
    "duration": 31,
    "start_time": "2024-07-25T18:58:33.168Z"
   },
   {
    "duration": 4,
    "start_time": "2024-07-25T18:58:33.201Z"
   },
   {
    "duration": 3,
    "start_time": "2024-07-25T18:58:33.207Z"
   },
   {
    "duration": 1112,
    "start_time": "2024-07-25T18:58:33.211Z"
   },
   {
    "duration": 125,
    "start_time": "2024-07-25T18:58:34.325Z"
   },
   {
    "duration": 9,
    "start_time": "2024-07-25T18:58:34.452Z"
   },
   {
    "duration": 3,
    "start_time": "2024-07-25T18:58:34.462Z"
   },
   {
    "duration": 94,
    "start_time": "2024-07-25T18:58:34.467Z"
   },
   {
    "duration": 79,
    "start_time": "2024-07-25T18:58:34.562Z"
   },
   {
    "duration": 87,
    "start_time": "2024-07-25T18:58:34.642Z"
   },
   {
    "duration": 122,
    "start_time": "2024-07-25T18:58:34.730Z"
   },
   {
    "duration": 284,
    "start_time": "2024-07-25T18:58:34.853Z"
   },
   {
    "duration": 13,
    "start_time": "2024-07-25T18:58:35.138Z"
   },
   {
    "duration": 3,
    "start_time": "2024-07-25T18:58:35.153Z"
   },
   {
    "duration": 181,
    "start_time": "2024-07-25T18:58:35.158Z"
   },
   {
    "duration": 8,
    "start_time": "2024-07-25T18:58:35.340Z"
   },
   {
    "duration": 96,
    "start_time": "2024-07-25T18:58:35.350Z"
   },
   {
    "duration": 289,
    "start_time": "2024-07-25T18:58:35.448Z"
   },
   {
    "duration": 13,
    "start_time": "2024-07-25T18:58:35.738Z"
   },
   {
    "duration": 96,
    "start_time": "2024-07-25T18:58:35.752Z"
   },
   {
    "duration": 287,
    "start_time": "2024-07-25T18:58:35.850Z"
   },
   {
    "duration": 13,
    "start_time": "2024-07-25T18:58:36.138Z"
   },
   {
    "duration": 22,
    "start_time": "2024-07-25T18:58:36.152Z"
   },
   {
    "duration": 15,
    "start_time": "2024-07-25T18:58:36.178Z"
   },
   {
    "duration": 21,
    "start_time": "2024-07-25T18:58:36.194Z"
   },
   {
    "duration": 12,
    "start_time": "2024-07-25T18:58:36.217Z"
   },
   {
    "duration": 965,
    "start_time": "2024-07-25T18:58:36.231Z"
   },
   {
    "duration": 10,
    "start_time": "2024-07-25T18:58:37.198Z"
   },
   {
    "duration": 2,
    "start_time": "2024-07-25T18:58:37.210Z"
   },
   {
    "duration": 5,
    "start_time": "2024-07-25T18:58:37.213Z"
   },
   {
    "duration": 6,
    "start_time": "2024-07-25T18:58:37.219Z"
   },
   {
    "duration": 4,
    "start_time": "2024-07-25T18:58:37.226Z"
   },
   {
    "duration": 15,
    "start_time": "2024-07-25T18:58:37.231Z"
   },
   {
    "duration": 3861,
    "start_time": "2024-07-25T18:58:37.248Z"
   },
   {
    "duration": 153,
    "start_time": "2024-07-25T18:58:41.111Z"
   },
   {
    "duration": 22851,
    "start_time": "2024-07-25T18:59:10.953Z"
   },
   {
    "duration": 6941,
    "start_time": "2024-07-25T19:00:57.358Z"
   },
   {
    "duration": 3798,
    "start_time": "2024-07-25T19:01:32.567Z"
   },
   {
    "duration": 6283,
    "start_time": "2024-07-26T11:40:39.347Z"
   },
   {
    "duration": 314,
    "start_time": "2024-07-26T11:40:45.632Z"
   },
   {
    "duration": 24,
    "start_time": "2024-07-26T11:40:45.948Z"
   },
   {
    "duration": 13,
    "start_time": "2024-07-26T11:40:45.974Z"
   },
   {
    "duration": 13,
    "start_time": "2024-07-26T11:40:45.989Z"
   },
   {
    "duration": 12,
    "start_time": "2024-07-26T11:40:46.003Z"
   },
   {
    "duration": 13,
    "start_time": "2024-07-26T11:40:46.017Z"
   },
   {
    "duration": 13,
    "start_time": "2024-07-26T11:40:46.031Z"
   },
   {
    "duration": 6,
    "start_time": "2024-07-26T11:40:46.045Z"
   },
   {
    "duration": 8,
    "start_time": "2024-07-26T11:40:46.054Z"
   },
   {
    "duration": 19,
    "start_time": "2024-07-26T11:40:46.063Z"
   },
   {
    "duration": 6,
    "start_time": "2024-07-26T11:40:46.083Z"
   },
   {
    "duration": 8,
    "start_time": "2024-07-26T11:40:46.091Z"
   },
   {
    "duration": 16,
    "start_time": "2024-07-26T11:40:46.100Z"
   },
   {
    "duration": 7,
    "start_time": "2024-07-26T11:40:46.117Z"
   },
   {
    "duration": 19,
    "start_time": "2024-07-26T11:40:46.126Z"
   },
   {
    "duration": 4,
    "start_time": "2024-07-26T11:40:46.146Z"
   },
   {
    "duration": 11,
    "start_time": "2024-07-26T11:40:46.151Z"
   },
   {
    "duration": 7,
    "start_time": "2024-07-26T11:40:46.163Z"
   },
   {
    "duration": 10,
    "start_time": "2024-07-26T11:40:46.171Z"
   },
   {
    "duration": 1155,
    "start_time": "2024-07-26T11:40:46.182Z"
   },
   {
    "duration": 107,
    "start_time": "2024-07-26T11:40:47.339Z"
   },
   {
    "duration": 9,
    "start_time": "2024-07-26T11:40:47.448Z"
   },
   {
    "duration": 6,
    "start_time": "2024-07-26T11:40:47.459Z"
   },
   {
    "duration": 100,
    "start_time": "2024-07-26T11:40:47.466Z"
   },
   {
    "duration": 90,
    "start_time": "2024-07-26T11:40:47.567Z"
   },
   {
    "duration": 93,
    "start_time": "2024-07-26T11:40:47.658Z"
   },
   {
    "duration": 136,
    "start_time": "2024-07-26T11:40:47.755Z"
   },
   {
    "duration": 301,
    "start_time": "2024-07-26T11:40:47.893Z"
   },
   {
    "duration": 20,
    "start_time": "2024-07-26T11:40:48.195Z"
   },
   {
    "duration": 4,
    "start_time": "2024-07-26T11:40:48.216Z"
   },
   {
    "duration": 174,
    "start_time": "2024-07-26T11:40:48.221Z"
   },
   {
    "duration": 7,
    "start_time": "2024-07-26T11:40:48.396Z"
   },
   {
    "duration": 78,
    "start_time": "2024-07-26T11:40:48.412Z"
   },
   {
    "duration": 273,
    "start_time": "2024-07-26T11:40:48.491Z"
   },
   {
    "duration": 12,
    "start_time": "2024-07-26T11:40:48.766Z"
   },
   {
    "duration": 91,
    "start_time": "2024-07-26T11:40:48.779Z"
   },
   {
    "duration": 290,
    "start_time": "2024-07-26T11:40:48.871Z"
   },
   {
    "duration": 15,
    "start_time": "2024-07-26T11:40:49.163Z"
   },
   {
    "duration": 5,
    "start_time": "2024-07-26T11:40:49.180Z"
   },
   {
    "duration": 27,
    "start_time": "2024-07-26T11:40:49.187Z"
   },
   {
    "duration": 21,
    "start_time": "2024-07-26T11:40:49.215Z"
   },
   {
    "duration": 13,
    "start_time": "2024-07-26T11:40:49.238Z"
   },
   {
    "duration": 1058,
    "start_time": "2024-07-26T11:40:49.252Z"
   },
   {
    "duration": 11,
    "start_time": "2024-07-26T11:40:50.311Z"
   },
   {
    "duration": 26,
    "start_time": "2024-07-26T11:40:50.324Z"
   },
   {
    "duration": 7,
    "start_time": "2024-07-26T11:40:50.351Z"
   },
   {
    "duration": 4,
    "start_time": "2024-07-26T11:40:50.359Z"
   },
   {
    "duration": 5,
    "start_time": "2024-07-26T11:40:50.364Z"
   },
   {
    "duration": 4,
    "start_time": "2024-07-26T11:40:50.371Z"
   },
   {
    "duration": 4174,
    "start_time": "2024-07-26T11:40:50.377Z"
   },
   {
    "duration": 25,
    "start_time": "2024-07-26T11:42:07.187Z"
   },
   {
    "duration": 7615,
    "start_time": "2024-07-26T11:45:28.976Z"
   },
   {
    "duration": 4489,
    "start_time": "2024-07-26T11:46:00.303Z"
   },
   {
    "duration": 3879,
    "start_time": "2024-07-26T11:46:19.563Z"
   },
   {
    "duration": 3910,
    "start_time": "2024-07-26T11:46:48.720Z"
   },
   {
    "duration": 3941,
    "start_time": "2024-07-26T11:46:57.798Z"
   },
   {
    "duration": 3962,
    "start_time": "2024-07-26T11:47:34.439Z"
   },
   {
    "duration": 4048,
    "start_time": "2024-07-26T11:48:34.219Z"
   },
   {
    "duration": 23355,
    "start_time": "2024-07-26T11:49:36.612Z"
   },
   {
    "duration": 23373,
    "start_time": "2024-07-26T16:30:49.447Z"
   },
   {
    "duration": 23551,
    "start_time": "2024-07-26T16:31:53.063Z"
   },
   {
    "duration": 14,
    "start_time": "2024-07-26T16:33:08.767Z"
   },
   {
    "duration": 23575,
    "start_time": "2024-07-26T16:34:49.743Z"
   },
   {
    "duration": 16,
    "start_time": "2024-07-26T16:35:57.102Z"
   },
   {
    "duration": 11,
    "start_time": "2024-07-26T16:36:00.106Z"
   },
   {
    "duration": 23487,
    "start_time": "2024-07-26T16:36:06.132Z"
   },
   {
    "duration": 13,
    "start_time": "2024-07-26T16:37:27.245Z"
   },
   {
    "duration": 0,
    "start_time": "2024-07-26T16:37:43.236Z"
   },
   {
    "duration": 3973,
    "start_time": "2024-07-26T16:37:45.195Z"
   },
   {
    "duration": 23494,
    "start_time": "2024-07-26T16:37:58.023Z"
   },
   {
    "duration": 24055,
    "start_time": "2024-07-26T16:38:43.637Z"
   },
   {
    "duration": 87864,
    "start_time": "2024-07-26T16:39:26.429Z"
   },
   {
    "duration": 82,
    "start_time": "2024-07-26T16:41:07.678Z"
   },
   {
    "duration": 84,
    "start_time": "2024-07-26T16:41:21.245Z"
   },
   {
    "duration": 489,
    "start_time": "2024-07-26T16:41:29.212Z"
   },
   {
    "duration": 504,
    "start_time": "2024-07-26T16:41:47.197Z"
   },
   {
    "duration": 88084,
    "start_time": "2024-07-26T16:41:53.838Z"
   },
   {
    "duration": 573,
    "start_time": "2024-07-26T16:43:22.017Z"
   },
   {
    "duration": 492,
    "start_time": "2024-07-26T16:43:22.591Z"
   },
   {
    "duration": 20,
    "start_time": "2024-07-26T16:56:47.646Z"
   },
   {
    "duration": 9944,
    "start_time": "2024-07-26T16:56:54.093Z"
   },
   {
    "duration": 4470,
    "start_time": "2024-07-26T16:57:45.858Z"
   },
   {
    "duration": 81,
    "start_time": "2024-07-26T16:57:50.330Z"
   },
   {
    "duration": 24,
    "start_time": "2024-07-26T16:57:50.413Z"
   },
   {
    "duration": 14,
    "start_time": "2024-07-26T16:57:50.439Z"
   },
   {
    "duration": 14,
    "start_time": "2024-07-26T16:57:50.454Z"
   },
   {
    "duration": 17,
    "start_time": "2024-07-26T16:57:50.469Z"
   },
   {
    "duration": 13,
    "start_time": "2024-07-26T16:57:50.511Z"
   },
   {
    "duration": 20,
    "start_time": "2024-07-26T16:57:50.526Z"
   },
   {
    "duration": 9,
    "start_time": "2024-07-26T16:57:50.547Z"
   },
   {
    "duration": 6,
    "start_time": "2024-07-26T16:57:50.558Z"
   },
   {
    "duration": 7,
    "start_time": "2024-07-26T16:57:50.565Z"
   },
   {
    "duration": 32,
    "start_time": "2024-07-26T16:57:50.574Z"
   },
   {
    "duration": 14,
    "start_time": "2024-07-26T16:57:50.608Z"
   },
   {
    "duration": 22,
    "start_time": "2024-07-26T16:57:50.624Z"
   },
   {
    "duration": 25,
    "start_time": "2024-07-26T16:57:50.647Z"
   },
   {
    "duration": 6,
    "start_time": "2024-07-26T16:57:50.673Z"
   },
   {
    "duration": 7,
    "start_time": "2024-07-26T16:57:50.680Z"
   },
   {
    "duration": 8,
    "start_time": "2024-07-26T16:57:50.688Z"
   },
   {
    "duration": 6,
    "start_time": "2024-07-26T16:57:50.697Z"
   },
   {
    "duration": 6,
    "start_time": "2024-07-26T16:57:50.704Z"
   },
   {
    "duration": 1136,
    "start_time": "2024-07-26T16:57:50.711Z"
   },
   {
    "duration": 107,
    "start_time": "2024-07-26T16:57:51.849Z"
   },
   {
    "duration": 9,
    "start_time": "2024-07-26T16:57:51.958Z"
   },
   {
    "duration": 3,
    "start_time": "2024-07-26T16:57:51.969Z"
   },
   {
    "duration": 100,
    "start_time": "2024-07-26T16:57:51.973Z"
   },
   {
    "duration": 92,
    "start_time": "2024-07-26T16:57:52.075Z"
   },
   {
    "duration": 94,
    "start_time": "2024-07-26T16:57:52.168Z"
   },
   {
    "duration": 133,
    "start_time": "2024-07-26T16:57:52.266Z"
   },
   {
    "duration": 305,
    "start_time": "2024-07-26T16:57:52.400Z"
   },
   {
    "duration": 15,
    "start_time": "2024-07-26T16:57:52.707Z"
   },
   {
    "duration": 5,
    "start_time": "2024-07-26T16:57:52.724Z"
   },
   {
    "duration": 184,
    "start_time": "2024-07-26T16:57:52.730Z"
   },
   {
    "duration": 8,
    "start_time": "2024-07-26T16:57:52.915Z"
   },
   {
    "duration": 91,
    "start_time": "2024-07-26T16:57:52.924Z"
   },
   {
    "duration": 281,
    "start_time": "2024-07-26T16:57:53.017Z"
   },
   {
    "duration": 20,
    "start_time": "2024-07-26T16:57:53.299Z"
   },
   {
    "duration": 84,
    "start_time": "2024-07-26T16:57:53.320Z"
   },
   {
    "duration": 278,
    "start_time": "2024-07-26T16:57:53.406Z"
   },
   {
    "duration": 14,
    "start_time": "2024-07-26T16:57:53.685Z"
   },
   {
    "duration": 6,
    "start_time": "2024-07-26T16:57:53.711Z"
   },
   {
    "duration": 5,
    "start_time": "2024-07-26T16:57:53.719Z"
   },
   {
    "duration": 21,
    "start_time": "2024-07-26T16:57:53.725Z"
   },
   {
    "duration": 12,
    "start_time": "2024-07-26T16:57:53.747Z"
   },
   {
    "duration": 1022,
    "start_time": "2024-07-26T16:57:53.760Z"
   },
   {
    "duration": 11,
    "start_time": "2024-07-26T16:57:54.783Z"
   },
   {
    "duration": 7,
    "start_time": "2024-07-26T16:57:54.795Z"
   },
   {
    "duration": 3,
    "start_time": "2024-07-26T16:57:54.804Z"
   },
   {
    "duration": 4,
    "start_time": "2024-07-26T16:57:54.808Z"
   },
   {
    "duration": 9,
    "start_time": "2024-07-26T16:57:54.814Z"
   },
   {
    "duration": 4,
    "start_time": "2024-07-26T16:57:54.824Z"
   },
   {
    "duration": 4298,
    "start_time": "2024-07-26T16:57:54.829Z"
   },
   {
    "duration": 28,
    "start_time": "2024-07-26T16:57:59.129Z"
   },
   {
    "duration": 42087,
    "start_time": "2024-07-26T16:57:59.159Z"
   },
   {
    "duration": 0,
    "start_time": "2024-07-26T16:58:41.248Z"
   },
   {
    "duration": 0,
    "start_time": "2024-07-26T16:58:41.249Z"
   },
   {
    "duration": 542896,
    "start_time": "2024-07-26T16:58:45.218Z"
   },
   {
    "duration": 488,
    "start_time": "2024-07-26T17:09:18.235Z"
   },
   {
    "duration": 14537,
    "start_time": "2024-07-26T17:17:40.692Z"
   },
   {
    "duration": 4,
    "start_time": "2024-07-26T17:24:41.309Z"
   },
   {
    "duration": 4,
    "start_time": "2024-07-26T17:24:54.799Z"
   },
   {
    "duration": 15,
    "start_time": "2024-07-26T17:25:24.698Z"
   },
   {
    "duration": 3,
    "start_time": "2024-07-26T17:25:39.472Z"
   },
   {
    "duration": 20,
    "start_time": "2024-07-26T17:31:46.338Z"
   },
   {
    "duration": 17,
    "start_time": "2024-07-26T17:32:01.818Z"
   },
   {
    "duration": 17,
    "start_time": "2024-07-26T17:32:03.867Z"
   },
   {
    "duration": 19,
    "start_time": "2024-07-26T17:32:11.005Z"
   },
   {
    "duration": 4,
    "start_time": "2024-07-26T17:32:20.140Z"
   },
   {
    "duration": 699,
    "start_time": "2024-07-26T17:33:23.671Z"
   },
   {
    "duration": 773,
    "start_time": "2024-07-26T17:33:28.586Z"
   },
   {
    "duration": 4,
    "start_time": "2024-07-26T17:33:34.659Z"
   },
   {
    "duration": 20,
    "start_time": "2024-07-26T17:34:23.658Z"
   },
   {
    "duration": 8,
    "start_time": "2024-07-26T17:35:05.101Z"
   },
   {
    "duration": 26,
    "start_time": "2024-07-26T17:35:11.454Z"
   },
   {
    "duration": 15,
    "start_time": "2024-07-26T17:35:21.855Z"
   },
   {
    "duration": 4478,
    "start_time": "2024-07-26T17:36:32.160Z"
   },
   {
    "duration": 79,
    "start_time": "2024-07-26T17:36:36.640Z"
   },
   {
    "duration": 23,
    "start_time": "2024-07-26T17:36:36.721Z"
   },
   {
    "duration": 13,
    "start_time": "2024-07-26T17:36:36.746Z"
   },
   {
    "duration": 12,
    "start_time": "2024-07-26T17:36:36.761Z"
   },
   {
    "duration": 17,
    "start_time": "2024-07-26T17:36:36.774Z"
   },
   {
    "duration": 30,
    "start_time": "2024-07-26T17:36:36.792Z"
   },
   {
    "duration": 43,
    "start_time": "2024-07-26T17:36:36.823Z"
   },
   {
    "duration": 9,
    "start_time": "2024-07-26T17:36:36.867Z"
   },
   {
    "duration": 11,
    "start_time": "2024-07-26T17:36:36.878Z"
   },
   {
    "duration": 9,
    "start_time": "2024-07-26T17:36:36.891Z"
   },
   {
    "duration": 7,
    "start_time": "2024-07-26T17:36:36.902Z"
   },
   {
    "duration": 12,
    "start_time": "2024-07-26T17:36:36.910Z"
   },
   {
    "duration": 10,
    "start_time": "2024-07-26T17:36:36.925Z"
   },
   {
    "duration": 12,
    "start_time": "2024-07-26T17:36:36.937Z"
   },
   {
    "duration": 6,
    "start_time": "2024-07-26T17:36:36.950Z"
   },
   {
    "duration": 25,
    "start_time": "2024-07-26T17:36:36.957Z"
   },
   {
    "duration": 12,
    "start_time": "2024-07-26T17:36:36.984Z"
   },
   {
    "duration": 8,
    "start_time": "2024-07-26T17:36:36.998Z"
   },
   {
    "duration": 17,
    "start_time": "2024-07-26T17:36:37.007Z"
   },
   {
    "duration": 1154,
    "start_time": "2024-07-26T17:36:37.025Z"
   },
   {
    "duration": 113,
    "start_time": "2024-07-26T17:36:38.181Z"
   },
   {
    "duration": 17,
    "start_time": "2024-07-26T17:36:38.296Z"
   },
   {
    "duration": 4,
    "start_time": "2024-07-26T17:36:38.314Z"
   },
   {
    "duration": 107,
    "start_time": "2024-07-26T17:36:38.320Z"
   },
   {
    "duration": 92,
    "start_time": "2024-07-26T17:36:38.428Z"
   },
   {
    "duration": 95,
    "start_time": "2024-07-26T17:36:38.522Z"
   },
   {
    "duration": 144,
    "start_time": "2024-07-26T17:36:38.619Z"
   },
   {
    "duration": 302,
    "start_time": "2024-07-26T17:36:38.765Z"
   },
   {
    "duration": 12,
    "start_time": "2024-07-26T17:36:39.069Z"
   },
   {
    "duration": 17,
    "start_time": "2024-07-26T17:36:39.083Z"
   },
   {
    "duration": 172,
    "start_time": "2024-07-26T17:36:39.102Z"
   },
   {
    "duration": 7,
    "start_time": "2024-07-26T17:36:39.276Z"
   },
   {
    "duration": 96,
    "start_time": "2024-07-26T17:36:39.284Z"
   },
   {
    "duration": 278,
    "start_time": "2024-07-26T17:36:39.381Z"
   },
   {
    "duration": 16,
    "start_time": "2024-07-26T17:36:39.661Z"
   },
   {
    "duration": 142,
    "start_time": "2024-07-26T17:36:39.679Z"
   },
   {
    "duration": 277,
    "start_time": "2024-07-26T17:36:39.823Z"
   },
   {
    "duration": 19,
    "start_time": "2024-07-26T17:36:40.102Z"
   },
   {
    "duration": 6,
    "start_time": "2024-07-26T17:36:40.123Z"
   },
   {
    "duration": 13,
    "start_time": "2024-07-26T17:36:40.132Z"
   },
   {
    "duration": 21,
    "start_time": "2024-07-26T17:36:40.146Z"
   },
   {
    "duration": 12,
    "start_time": "2024-07-26T17:36:40.168Z"
   },
   {
    "duration": 1013,
    "start_time": "2024-07-26T17:36:40.181Z"
   },
   {
    "duration": 12,
    "start_time": "2024-07-26T17:36:41.195Z"
   },
   {
    "duration": 8,
    "start_time": "2024-07-26T17:36:41.208Z"
   },
   {
    "duration": 6,
    "start_time": "2024-07-26T17:36:41.218Z"
   },
   {
    "duration": 9,
    "start_time": "2024-07-26T17:36:41.225Z"
   },
   {
    "duration": 5,
    "start_time": "2024-07-26T17:36:41.235Z"
   },
   {
    "duration": 9,
    "start_time": "2024-07-26T17:36:41.241Z"
   },
   {
    "duration": 4178,
    "start_time": "2024-07-26T17:36:41.251Z"
   },
   {
    "duration": 22,
    "start_time": "2024-07-26T17:36:45.431Z"
   },
   {
    "duration": 4941,
    "start_time": "2024-07-26T17:37:40.998Z"
   },
   {
    "duration": 82,
    "start_time": "2024-07-26T17:37:45.941Z"
   },
   {
    "duration": 24,
    "start_time": "2024-07-26T17:37:46.025Z"
   },
   {
    "duration": 14,
    "start_time": "2024-07-26T17:37:46.051Z"
   },
   {
    "duration": 16,
    "start_time": "2024-07-26T17:37:46.067Z"
   },
   {
    "duration": 32,
    "start_time": "2024-07-26T17:37:46.084Z"
   },
   {
    "duration": 14,
    "start_time": "2024-07-26T17:37:46.118Z"
   },
   {
    "duration": 18,
    "start_time": "2024-07-26T17:37:46.134Z"
   },
   {
    "duration": 9,
    "start_time": "2024-07-26T17:37:46.154Z"
   },
   {
    "duration": 16,
    "start_time": "2024-07-26T17:37:46.165Z"
   },
   {
    "duration": 13,
    "start_time": "2024-07-26T17:37:46.183Z"
   },
   {
    "duration": 6,
    "start_time": "2024-07-26T17:37:46.198Z"
   },
   {
    "duration": 5,
    "start_time": "2024-07-26T17:37:46.212Z"
   },
   {
    "duration": 5,
    "start_time": "2024-07-26T17:37:46.221Z"
   },
   {
    "duration": 6,
    "start_time": "2024-07-26T17:37:46.228Z"
   },
   {
    "duration": 6,
    "start_time": "2024-07-26T17:37:46.236Z"
   },
   {
    "duration": 6,
    "start_time": "2024-07-26T17:37:46.244Z"
   },
   {
    "duration": 8,
    "start_time": "2024-07-26T17:37:46.251Z"
   },
   {
    "duration": 6,
    "start_time": "2024-07-26T17:37:46.261Z"
   },
   {
    "duration": 45,
    "start_time": "2024-07-26T17:37:46.269Z"
   },
   {
    "duration": 1212,
    "start_time": "2024-07-26T17:37:46.315Z"
   },
   {
    "duration": 125,
    "start_time": "2024-07-26T17:37:47.529Z"
   },
   {
    "duration": 10,
    "start_time": "2024-07-26T17:37:47.655Z"
   },
   {
    "duration": 98,
    "start_time": "2024-07-26T17:37:47.666Z"
   },
   {
    "duration": 100,
    "start_time": "2024-07-26T17:37:47.766Z"
   },
   {
    "duration": 92,
    "start_time": "2024-07-26T17:37:47.867Z"
   },
   {
    "duration": 102,
    "start_time": "2024-07-26T17:37:47.961Z"
   },
   {
    "duration": 138,
    "start_time": "2024-07-26T17:37:48.064Z"
   },
   {
    "duration": 311,
    "start_time": "2024-07-26T17:37:48.204Z"
   },
   {
    "duration": 14,
    "start_time": "2024-07-26T17:37:48.517Z"
   },
   {
    "duration": 17,
    "start_time": "2024-07-26T17:37:48.533Z"
   },
   {
    "duration": 188,
    "start_time": "2024-07-26T17:37:48.553Z"
   },
   {
    "duration": 6,
    "start_time": "2024-07-26T17:37:48.743Z"
   },
   {
    "duration": 102,
    "start_time": "2024-07-26T17:37:48.751Z"
   },
   {
    "duration": 286,
    "start_time": "2024-07-26T17:37:48.854Z"
   },
   {
    "duration": 13,
    "start_time": "2024-07-26T17:37:49.141Z"
   },
   {
    "duration": 97,
    "start_time": "2024-07-26T17:37:49.155Z"
   },
   {
    "duration": 293,
    "start_time": "2024-07-26T17:37:49.253Z"
   },
   {
    "duration": 13,
    "start_time": "2024-07-26T17:37:49.547Z"
   },
   {
    "duration": 14,
    "start_time": "2024-07-26T17:37:49.562Z"
   },
   {
    "duration": 5,
    "start_time": "2024-07-26T17:37:49.580Z"
   },
   {
    "duration": 36,
    "start_time": "2024-07-26T17:37:49.586Z"
   },
   {
    "duration": 13,
    "start_time": "2024-07-26T17:37:49.624Z"
   },
   {
    "duration": 1004,
    "start_time": "2024-07-26T17:37:49.638Z"
   },
   {
    "duration": 10,
    "start_time": "2024-07-26T17:37:50.644Z"
   },
   {
    "duration": 3,
    "start_time": "2024-07-26T17:37:50.656Z"
   },
   {
    "duration": 9,
    "start_time": "2024-07-26T17:37:50.660Z"
   },
   {
    "duration": 13,
    "start_time": "2024-07-26T17:37:50.671Z"
   },
   {
    "duration": 7,
    "start_time": "2024-07-26T17:37:50.686Z"
   },
   {
    "duration": 6,
    "start_time": "2024-07-26T17:37:50.695Z"
   },
   {
    "duration": 4280,
    "start_time": "2024-07-26T17:37:50.702Z"
   },
   {
    "duration": 36,
    "start_time": "2024-07-26T17:37:54.983Z"
   },
   {
    "duration": 23700,
    "start_time": "2024-07-26T17:37:55.021Z"
   },
   {
    "duration": 573,
    "start_time": "2024-07-26T17:38:18.813Z"
   },
   {
    "duration": 24,
    "start_time": "2024-07-26T17:38:19.388Z"
   },
   {
    "duration": 143,
    "start_time": "2024-07-26T17:38:19.413Z"
   },
   {
    "duration": 0,
    "start_time": "2024-07-26T17:38:19.557Z"
   },
   {
    "duration": 679,
    "start_time": "2024-07-26T17:38:40.016Z"
   },
   {
    "duration": 20,
    "start_time": "2024-07-26T17:38:42.492Z"
   },
   {
    "duration": 8,
    "start_time": "2024-07-26T17:38:55.187Z"
   },
   {
    "duration": 22,
    "start_time": "2024-07-26T17:39:06.665Z"
   },
   {
    "duration": 20,
    "start_time": "2024-07-26T17:39:34.632Z"
   },
   {
    "duration": 22,
    "start_time": "2024-07-26T17:39:51.653Z"
   },
   {
    "duration": 25,
    "start_time": "2024-07-26T17:40:19.661Z"
   },
   {
    "duration": 12,
    "start_time": "2024-07-26T17:40:42.866Z"
   },
   {
    "duration": 9,
    "start_time": "2024-07-26T17:41:47.837Z"
   },
   {
    "duration": 11,
    "start_time": "2024-07-26T17:43:08.585Z"
   },
   {
    "duration": 10,
    "start_time": "2024-07-26T17:44:16.631Z"
   },
   {
    "duration": 4391,
    "start_time": "2024-07-26T17:44:26.887Z"
   },
   {
    "duration": 83,
    "start_time": "2024-07-26T17:44:31.280Z"
   },
   {
    "duration": 22,
    "start_time": "2024-07-26T17:44:31.364Z"
   },
   {
    "duration": 50,
    "start_time": "2024-07-26T17:44:31.388Z"
   },
   {
    "duration": 27,
    "start_time": "2024-07-26T17:44:31.440Z"
   },
   {
    "duration": 13,
    "start_time": "2024-07-26T17:44:31.469Z"
   },
   {
    "duration": 57,
    "start_time": "2024-07-26T17:44:31.483Z"
   },
   {
    "duration": 8,
    "start_time": "2024-07-26T17:44:31.541Z"
   },
   {
    "duration": 6,
    "start_time": "2024-07-26T17:44:31.551Z"
   },
   {
    "duration": 13,
    "start_time": "2024-07-26T17:44:31.558Z"
   },
   {
    "duration": 10,
    "start_time": "2024-07-26T17:44:31.572Z"
   },
   {
    "duration": 8,
    "start_time": "2024-07-26T17:44:31.583Z"
   },
   {
    "duration": 9,
    "start_time": "2024-07-26T17:44:31.592Z"
   },
   {
    "duration": 8,
    "start_time": "2024-07-26T17:44:31.603Z"
   },
   {
    "duration": 8,
    "start_time": "2024-07-26T17:44:31.612Z"
   },
   {
    "duration": 10,
    "start_time": "2024-07-26T17:44:31.621Z"
   },
   {
    "duration": 6,
    "start_time": "2024-07-26T17:44:31.633Z"
   },
   {
    "duration": 9,
    "start_time": "2024-07-26T17:44:31.640Z"
   },
   {
    "duration": 8,
    "start_time": "2024-07-26T17:44:31.650Z"
   },
   {
    "duration": 4,
    "start_time": "2024-07-26T17:44:31.659Z"
   },
   {
    "duration": 1215,
    "start_time": "2024-07-26T17:44:31.665Z"
   },
   {
    "duration": 117,
    "start_time": "2024-07-26T17:44:32.881Z"
   },
   {
    "duration": 12,
    "start_time": "2024-07-26T17:44:33.000Z"
   },
   {
    "duration": 39,
    "start_time": "2024-07-26T17:44:33.014Z"
   },
   {
    "duration": 103,
    "start_time": "2024-07-26T17:44:33.054Z"
   },
   {
    "duration": 91,
    "start_time": "2024-07-26T17:44:33.159Z"
   },
   {
    "duration": 95,
    "start_time": "2024-07-26T17:44:33.252Z"
   },
   {
    "duration": 135,
    "start_time": "2024-07-26T17:44:33.348Z"
   },
   {
    "duration": 300,
    "start_time": "2024-07-26T17:44:33.484Z"
   },
   {
    "duration": 12,
    "start_time": "2024-07-26T17:44:33.786Z"
   },
   {
    "duration": 22,
    "start_time": "2024-07-26T17:44:33.799Z"
   },
   {
    "duration": 179,
    "start_time": "2024-07-26T17:44:33.823Z"
   },
   {
    "duration": 10,
    "start_time": "2024-07-26T17:44:34.004Z"
   },
   {
    "duration": 88,
    "start_time": "2024-07-26T17:44:34.015Z"
   },
   {
    "duration": 301,
    "start_time": "2024-07-26T17:44:34.111Z"
   },
   {
    "duration": 13,
    "start_time": "2024-07-26T17:44:34.413Z"
   },
   {
    "duration": 91,
    "start_time": "2024-07-26T17:44:34.427Z"
   },
   {
    "duration": 287,
    "start_time": "2024-07-26T17:44:34.519Z"
   },
   {
    "duration": 14,
    "start_time": "2024-07-26T17:44:34.808Z"
   },
   {
    "duration": 14,
    "start_time": "2024-07-26T17:44:34.823Z"
   },
   {
    "duration": 9,
    "start_time": "2024-07-26T17:44:34.841Z"
   },
   {
    "duration": 32,
    "start_time": "2024-07-26T17:44:34.852Z"
   },
   {
    "duration": 27,
    "start_time": "2024-07-26T17:44:34.885Z"
   },
   {
    "duration": 988,
    "start_time": "2024-07-26T17:44:34.914Z"
   },
   {
    "duration": 10,
    "start_time": "2024-07-26T17:44:35.904Z"
   },
   {
    "duration": 10,
    "start_time": "2024-07-26T17:44:35.916Z"
   },
   {
    "duration": 22,
    "start_time": "2024-07-26T17:44:35.928Z"
   },
   {
    "duration": 40,
    "start_time": "2024-07-26T17:44:35.952Z"
   },
   {
    "duration": 27,
    "start_time": "2024-07-26T17:44:35.994Z"
   },
   {
    "duration": 12,
    "start_time": "2024-07-26T17:44:36.023Z"
   },
   {
    "duration": 4150,
    "start_time": "2024-07-26T17:44:36.036Z"
   },
   {
    "duration": 34,
    "start_time": "2024-07-26T17:44:40.188Z"
   },
   {
    "duration": 23588,
    "start_time": "2024-07-26T17:44:40.224Z"
   },
   {
    "duration": 581,
    "start_time": "2024-07-26T17:45:03.814Z"
   },
   {
    "duration": 26,
    "start_time": "2024-07-26T17:45:04.397Z"
   },
   {
    "duration": 731,
    "start_time": "2024-07-26T17:45:04.425Z"
   },
   {
    "duration": 25,
    "start_time": "2024-07-26T17:45:05.157Z"
   },
   {
    "duration": 11,
    "start_time": "2024-07-26T17:45:05.183Z"
   },
   {
    "duration": 24,
    "start_time": "2024-07-26T17:45:32.581Z"
   },
   {
    "duration": 144,
    "start_time": "2024-07-26T17:45:53.667Z"
   },
   {
    "duration": 22,
    "start_time": "2024-07-26T17:46:02.778Z"
   },
   {
    "duration": 35,
    "start_time": "2024-07-26T17:46:15.919Z"
   },
   {
    "duration": 11,
    "start_time": "2024-07-26T17:46:53.540Z"
   },
   {
    "duration": 25,
    "start_time": "2024-07-26T20:17:08.192Z"
   },
   {
    "duration": 9,
    "start_time": "2024-07-26T20:19:49.032Z"
   },
   {
    "duration": 5,
    "start_time": "2024-07-26T20:19:52.186Z"
   },
   {
    "duration": 7,
    "start_time": "2024-07-26T20:24:03.850Z"
   },
   {
    "duration": 34,
    "start_time": "2024-07-26T20:24:10.310Z"
   },
   {
    "duration": 23,
    "start_time": "2024-07-26T20:25:24.574Z"
   },
   {
    "duration": 1283,
    "start_time": "2024-07-26T20:26:27.232Z"
   },
   {
    "duration": 32,
    "start_time": "2024-07-26T20:26:43.397Z"
   },
   {
    "duration": 929,
    "start_time": "2024-07-26T20:28:46.462Z"
   },
   {
    "duration": 933,
    "start_time": "2024-07-26T20:29:19.617Z"
   },
   {
    "duration": 934,
    "start_time": "2024-07-26T20:29:25.392Z"
   },
   {
    "duration": 11,
    "start_time": "2024-07-26T20:30:05.442Z"
   },
   {
    "duration": 622,
    "start_time": "2024-07-26T20:30:30.105Z"
   },
   {
    "duration": 23,
    "start_time": "2024-07-26T20:32:55.873Z"
   },
   {
    "duration": 446,
    "start_time": "2024-07-26T20:33:06.693Z"
   },
   {
    "duration": 12,
    "start_time": "2024-07-26T20:36:33.595Z"
   },
   {
    "duration": 399,
    "start_time": "2024-07-26T20:37:01.624Z"
   },
   {
    "duration": 411,
    "start_time": "2024-07-26T20:38:00.192Z"
   },
   {
    "duration": 17,
    "start_time": "2024-07-26T20:38:09.306Z"
   },
   {
    "duration": 4460,
    "start_time": "2024-07-26T20:43:16.384Z"
   },
   {
    "duration": 79,
    "start_time": "2024-07-26T20:43:20.846Z"
   },
   {
    "duration": 22,
    "start_time": "2024-07-26T20:43:20.927Z"
   },
   {
    "duration": 13,
    "start_time": "2024-07-26T20:43:20.950Z"
   },
   {
    "duration": 13,
    "start_time": "2024-07-26T20:43:20.965Z"
   },
   {
    "duration": 13,
    "start_time": "2024-07-26T20:43:20.979Z"
   },
   {
    "duration": 27,
    "start_time": "2024-07-26T20:43:20.993Z"
   },
   {
    "duration": 7,
    "start_time": "2024-07-26T20:43:21.022Z"
   },
   {
    "duration": 7,
    "start_time": "2024-07-26T20:43:21.030Z"
   },
   {
    "duration": 6,
    "start_time": "2024-07-26T20:43:21.039Z"
   },
   {
    "duration": 8,
    "start_time": "2024-07-26T20:43:21.047Z"
   },
   {
    "duration": 9,
    "start_time": "2024-07-26T20:43:21.057Z"
   },
   {
    "duration": 49,
    "start_time": "2024-07-26T20:43:21.067Z"
   },
   {
    "duration": 75,
    "start_time": "2024-07-26T20:43:21.120Z"
   },
   {
    "duration": 23,
    "start_time": "2024-07-26T20:43:21.197Z"
   },
   {
    "duration": 5,
    "start_time": "2024-07-26T20:43:21.222Z"
   },
   {
    "duration": 5,
    "start_time": "2024-07-26T20:43:21.229Z"
   },
   {
    "duration": 7,
    "start_time": "2024-07-26T20:43:21.235Z"
   },
   {
    "duration": 5,
    "start_time": "2024-07-26T20:43:21.243Z"
   },
   {
    "duration": 4,
    "start_time": "2024-07-26T20:43:21.249Z"
   },
   {
    "duration": 1160,
    "start_time": "2024-07-26T20:43:21.254Z"
   },
   {
    "duration": 113,
    "start_time": "2024-07-26T20:43:22.415Z"
   },
   {
    "duration": 9,
    "start_time": "2024-07-26T20:43:22.529Z"
   },
   {
    "duration": 3,
    "start_time": "2024-07-26T20:43:22.540Z"
   },
   {
    "duration": 106,
    "start_time": "2024-07-26T20:43:22.545Z"
   },
   {
    "duration": 101,
    "start_time": "2024-07-26T20:43:22.654Z"
   },
   {
    "duration": 108,
    "start_time": "2024-07-26T20:43:22.757Z"
   },
   {
    "duration": 139,
    "start_time": "2024-07-26T20:43:22.866Z"
   },
   {
    "duration": 301,
    "start_time": "2024-07-26T20:43:23.006Z"
   },
   {
    "duration": 14,
    "start_time": "2024-07-26T20:43:23.311Z"
   },
   {
    "duration": 6,
    "start_time": "2024-07-26T20:43:23.327Z"
   },
   {
    "duration": 180,
    "start_time": "2024-07-26T20:43:23.335Z"
   },
   {
    "duration": 6,
    "start_time": "2024-07-26T20:43:23.517Z"
   },
   {
    "duration": 91,
    "start_time": "2024-07-26T20:43:23.524Z"
   },
   {
    "duration": 275,
    "start_time": "2024-07-26T20:43:23.617Z"
   },
   {
    "duration": 19,
    "start_time": "2024-07-26T20:43:23.894Z"
   },
   {
    "duration": 97,
    "start_time": "2024-07-26T20:43:23.915Z"
   },
   {
    "duration": 300,
    "start_time": "2024-07-26T20:43:24.013Z"
   },
   {
    "duration": 14,
    "start_time": "2024-07-26T20:43:24.315Z"
   },
   {
    "duration": 16,
    "start_time": "2024-07-26T20:43:24.331Z"
   },
   {
    "duration": 5,
    "start_time": "2024-07-26T20:43:24.352Z"
   },
   {
    "duration": 22,
    "start_time": "2024-07-26T20:43:24.358Z"
   },
   {
    "duration": 35,
    "start_time": "2024-07-26T20:43:24.381Z"
   },
   {
    "duration": 980,
    "start_time": "2024-07-26T20:43:24.418Z"
   },
   {
    "duration": 11,
    "start_time": "2024-07-26T20:43:25.399Z"
   },
   {
    "duration": 3,
    "start_time": "2024-07-26T20:43:25.412Z"
   },
   {
    "duration": 8,
    "start_time": "2024-07-26T20:43:25.416Z"
   },
   {
    "duration": 3,
    "start_time": "2024-07-26T20:43:25.426Z"
   },
   {
    "duration": 7,
    "start_time": "2024-07-26T20:43:25.431Z"
   },
   {
    "duration": 8,
    "start_time": "2024-07-26T20:43:25.439Z"
   },
   {
    "duration": 4277,
    "start_time": "2024-07-26T20:43:25.448Z"
   },
   {
    "duration": 24,
    "start_time": "2024-07-26T20:43:29.727Z"
   },
   {
    "duration": 24959,
    "start_time": "2024-07-26T20:43:29.753Z"
   },
   {
    "duration": 633,
    "start_time": "2024-07-26T20:43:54.715Z"
   },
   {
    "duration": 18,
    "start_time": "2024-07-26T20:43:55.349Z"
   },
   {
    "duration": 885,
    "start_time": "2024-07-26T20:43:55.368Z"
   },
   {
    "duration": 148,
    "start_time": "2024-07-26T20:43:56.255Z"
   },
   {
    "duration": 0,
    "start_time": "2024-07-26T20:43:56.404Z"
   },
   {
    "duration": 0,
    "start_time": "2024-07-26T20:43:56.405Z"
   },
   {
    "duration": 0,
    "start_time": "2024-07-26T20:43:56.406Z"
   },
   {
    "duration": 0,
    "start_time": "2024-07-26T20:43:56.406Z"
   },
   {
    "duration": 0,
    "start_time": "2024-07-26T20:43:56.412Z"
   },
   {
    "duration": 0,
    "start_time": "2024-07-26T20:43:56.413Z"
   },
   {
    "duration": 16,
    "start_time": "2024-07-26T20:53:37.479Z"
   },
   {
    "duration": 439,
    "start_time": "2024-07-26T20:53:38.112Z"
   },
   {
    "duration": 18,
    "start_time": "2024-07-26T20:53:38.674Z"
   },
   {
    "duration": 394,
    "start_time": "2024-07-26T20:53:40.667Z"
   },
   {
    "duration": 17,
    "start_time": "2024-07-26T20:53:41.063Z"
   },
   {
    "duration": 4410,
    "start_time": "2024-07-26T21:02:13.161Z"
   },
   {
    "duration": 81,
    "start_time": "2024-07-26T21:02:17.573Z"
   },
   {
    "duration": 24,
    "start_time": "2024-07-26T21:02:17.655Z"
   },
   {
    "duration": 13,
    "start_time": "2024-07-26T21:02:17.680Z"
   },
   {
    "duration": 25,
    "start_time": "2024-07-26T21:02:17.695Z"
   },
   {
    "duration": 12,
    "start_time": "2024-07-26T21:02:17.722Z"
   },
   {
    "duration": 10,
    "start_time": "2024-07-26T21:02:17.736Z"
   },
   {
    "duration": 21,
    "start_time": "2024-07-26T21:02:17.748Z"
   },
   {
    "duration": 9,
    "start_time": "2024-07-26T21:02:17.771Z"
   },
   {
    "duration": 7,
    "start_time": "2024-07-26T21:02:17.781Z"
   },
   {
    "duration": 11,
    "start_time": "2024-07-26T21:02:17.789Z"
   },
   {
    "duration": 6,
    "start_time": "2024-07-26T21:02:17.812Z"
   },
   {
    "duration": 5,
    "start_time": "2024-07-26T21:02:17.820Z"
   },
   {
    "duration": 6,
    "start_time": "2024-07-26T21:02:17.827Z"
   },
   {
    "duration": 9,
    "start_time": "2024-07-26T21:02:17.834Z"
   },
   {
    "duration": 7,
    "start_time": "2024-07-26T21:02:17.844Z"
   },
   {
    "duration": 9,
    "start_time": "2024-07-26T21:02:17.852Z"
   },
   {
    "duration": 6,
    "start_time": "2024-07-26T21:02:17.863Z"
   },
   {
    "duration": 15,
    "start_time": "2024-07-26T21:02:17.870Z"
   },
   {
    "duration": 27,
    "start_time": "2024-07-26T21:02:17.886Z"
   },
   {
    "duration": 1119,
    "start_time": "2024-07-26T21:02:17.914Z"
   },
   {
    "duration": 114,
    "start_time": "2024-07-26T21:02:19.035Z"
   },
   {
    "duration": 11,
    "start_time": "2024-07-26T21:02:19.150Z"
   },
   {
    "duration": 11,
    "start_time": "2024-07-26T21:02:19.163Z"
   },
   {
    "duration": 100,
    "start_time": "2024-07-26T21:02:19.175Z"
   },
   {
    "duration": 91,
    "start_time": "2024-07-26T21:02:19.276Z"
   },
   {
    "duration": 86,
    "start_time": "2024-07-26T21:02:19.368Z"
   },
   {
    "duration": 133,
    "start_time": "2024-07-26T21:02:19.456Z"
   },
   {
    "duration": 301,
    "start_time": "2024-07-26T21:02:19.591Z"
   },
   {
    "duration": 19,
    "start_time": "2024-07-26T21:02:19.894Z"
   },
   {
    "duration": 4,
    "start_time": "2024-07-26T21:02:19.915Z"
   },
   {
    "duration": 188,
    "start_time": "2024-07-26T21:02:19.920Z"
   },
   {
    "duration": 6,
    "start_time": "2024-07-26T21:02:20.111Z"
   },
   {
    "duration": 98,
    "start_time": "2024-07-26T21:02:20.119Z"
   },
   {
    "duration": 269,
    "start_time": "2024-07-26T21:02:20.218Z"
   },
   {
    "duration": 11,
    "start_time": "2024-07-26T21:02:20.489Z"
   },
   {
    "duration": 83,
    "start_time": "2024-07-26T21:02:20.502Z"
   },
   {
    "duration": 288,
    "start_time": "2024-07-26T21:02:20.586Z"
   },
   {
    "duration": 14,
    "start_time": "2024-07-26T21:02:20.876Z"
   },
   {
    "duration": 25,
    "start_time": "2024-07-26T21:02:20.892Z"
   },
   {
    "duration": 9,
    "start_time": "2024-07-26T21:02:20.922Z"
   },
   {
    "duration": 30,
    "start_time": "2024-07-26T21:02:20.933Z"
   },
   {
    "duration": 12,
    "start_time": "2024-07-26T21:02:20.965Z"
   },
   {
    "duration": 992,
    "start_time": "2024-07-26T21:02:20.978Z"
   },
   {
    "duration": 11,
    "start_time": "2024-07-26T21:02:21.971Z"
   },
   {
    "duration": 14,
    "start_time": "2024-07-26T21:02:21.983Z"
   },
   {
    "duration": 33,
    "start_time": "2024-07-26T21:02:21.998Z"
   },
   {
    "duration": 21,
    "start_time": "2024-07-26T21:02:22.033Z"
   },
   {
    "duration": 38,
    "start_time": "2024-07-26T21:02:22.055Z"
   },
   {
    "duration": 36,
    "start_time": "2024-07-26T21:02:22.094Z"
   },
   {
    "duration": 4198,
    "start_time": "2024-07-26T21:02:22.131Z"
   },
   {
    "duration": 25,
    "start_time": "2024-07-26T21:02:26.331Z"
   },
   {
    "duration": 23664,
    "start_time": "2024-07-26T21:02:26.357Z"
   },
   {
    "duration": 586,
    "start_time": "2024-07-26T21:02:50.113Z"
   },
   {
    "duration": 26,
    "start_time": "2024-07-26T21:02:50.701Z"
   },
   {
    "duration": 735,
    "start_time": "2024-07-26T21:02:50.729Z"
   },
   {
    "duration": 17,
    "start_time": "2024-07-26T21:02:51.465Z"
   },
   {
    "duration": 424,
    "start_time": "2024-07-26T21:02:51.484Z"
   },
   {
    "duration": 17,
    "start_time": "2024-07-26T21:02:51.912Z"
   },
   {
    "duration": 416,
    "start_time": "2024-07-26T21:02:51.931Z"
   },
   {
    "duration": 18,
    "start_time": "2024-07-26T21:02:52.349Z"
   },
   {
    "duration": 7800,
    "start_time": "2024-07-27T04:29:46.692Z"
   },
   {
    "duration": 389,
    "start_time": "2024-07-27T04:29:54.493Z"
   },
   {
    "duration": 26,
    "start_time": "2024-07-27T04:29:54.884Z"
   },
   {
    "duration": 16,
    "start_time": "2024-07-27T04:29:54.913Z"
   },
   {
    "duration": 14,
    "start_time": "2024-07-27T04:29:54.930Z"
   },
   {
    "duration": 41,
    "start_time": "2024-07-27T04:29:54.945Z"
   },
   {
    "duration": 39,
    "start_time": "2024-07-27T04:29:54.988Z"
   },
   {
    "duration": 11,
    "start_time": "2024-07-27T04:29:55.029Z"
   },
   {
    "duration": 8,
    "start_time": "2024-07-27T04:29:55.042Z"
   },
   {
    "duration": 5,
    "start_time": "2024-07-27T04:29:55.053Z"
   },
   {
    "duration": 14,
    "start_time": "2024-07-27T04:29:55.059Z"
   },
   {
    "duration": 27,
    "start_time": "2024-07-27T04:29:55.075Z"
   },
   {
    "duration": 7,
    "start_time": "2024-07-27T04:29:55.103Z"
   },
   {
    "duration": 8,
    "start_time": "2024-07-27T04:29:55.112Z"
   },
   {
    "duration": 37,
    "start_time": "2024-07-27T04:29:55.121Z"
   },
   {
    "duration": 12,
    "start_time": "2024-07-27T04:29:55.160Z"
   },
   {
    "duration": 9,
    "start_time": "2024-07-27T04:29:55.173Z"
   },
   {
    "duration": 18,
    "start_time": "2024-07-27T04:29:55.183Z"
   },
   {
    "duration": 15,
    "start_time": "2024-07-27T04:29:55.203Z"
   },
   {
    "duration": 18,
    "start_time": "2024-07-27T04:29:55.219Z"
   },
   {
    "duration": 1189,
    "start_time": "2024-07-27T04:29:55.239Z"
   },
   {
    "duration": 133,
    "start_time": "2024-07-27T04:29:56.429Z"
   },
   {
    "duration": 10,
    "start_time": "2024-07-27T04:29:56.563Z"
   },
   {
    "duration": 3,
    "start_time": "2024-07-27T04:29:56.583Z"
   },
   {
    "duration": 101,
    "start_time": "2024-07-27T04:29:56.588Z"
   },
   {
    "duration": 96,
    "start_time": "2024-07-27T04:29:56.690Z"
   },
   {
    "duration": 96,
    "start_time": "2024-07-27T04:29:56.788Z"
   },
   {
    "duration": 129,
    "start_time": "2024-07-27T04:29:56.887Z"
   },
   {
    "duration": 306,
    "start_time": "2024-07-27T04:29:57.018Z"
   },
   {
    "duration": 14,
    "start_time": "2024-07-27T04:29:57.325Z"
   },
   {
    "duration": 9,
    "start_time": "2024-07-27T04:29:57.340Z"
   },
   {
    "duration": 189,
    "start_time": "2024-07-27T04:29:57.351Z"
   },
   {
    "duration": 8,
    "start_time": "2024-07-27T04:29:57.541Z"
   },
   {
    "duration": 98,
    "start_time": "2024-07-27T04:29:57.550Z"
   },
   {
    "duration": 291,
    "start_time": "2024-07-27T04:29:57.649Z"
   },
   {
    "duration": 15,
    "start_time": "2024-07-27T04:29:57.941Z"
   },
   {
    "duration": 92,
    "start_time": "2024-07-27T04:29:57.957Z"
   },
   {
    "duration": 284,
    "start_time": "2024-07-27T04:29:58.050Z"
   },
   {
    "duration": 14,
    "start_time": "2024-07-27T04:29:58.336Z"
   },
   {
    "duration": 6,
    "start_time": "2024-07-27T04:29:58.351Z"
   },
   {
    "duration": 30,
    "start_time": "2024-07-27T04:29:58.359Z"
   },
   {
    "duration": 35,
    "start_time": "2024-07-27T04:29:58.392Z"
   },
   {
    "duration": 67,
    "start_time": "2024-07-27T04:29:58.429Z"
   },
   {
    "duration": 1095,
    "start_time": "2024-07-27T04:29:58.497Z"
   },
   {
    "duration": 14,
    "start_time": "2024-07-27T04:29:59.594Z"
   },
   {
    "duration": 8,
    "start_time": "2024-07-27T04:29:59.610Z"
   },
   {
    "duration": 18,
    "start_time": "2024-07-27T04:29:59.620Z"
   },
   {
    "duration": 27,
    "start_time": "2024-07-27T04:29:59.640Z"
   },
   {
    "duration": 33,
    "start_time": "2024-07-27T04:29:59.669Z"
   },
   {
    "duration": 12,
    "start_time": "2024-07-27T04:29:59.703Z"
   },
   {
    "duration": 4196,
    "start_time": "2024-07-27T04:29:59.716Z"
   },
   {
    "duration": 25,
    "start_time": "2024-07-27T04:30:03.913Z"
   },
   {
    "duration": 24458,
    "start_time": "2024-07-27T04:30:03.940Z"
   },
   {
    "duration": 690,
    "start_time": "2024-07-27T04:30:28.399Z"
   },
   {
    "duration": 18,
    "start_time": "2024-07-27T04:30:29.091Z"
   },
   {
    "duration": 747,
    "start_time": "2024-07-27T04:30:29.111Z"
   },
   {
    "duration": 26,
    "start_time": "2024-07-27T04:30:29.859Z"
   },
   {
    "duration": 442,
    "start_time": "2024-07-27T04:30:29.887Z"
   },
   {
    "duration": 18,
    "start_time": "2024-07-27T04:30:30.331Z"
   },
   {
    "duration": 451,
    "start_time": "2024-07-27T04:30:30.351Z"
   },
   {
    "duration": 24,
    "start_time": "2024-07-27T04:30:30.804Z"
   },
   {
    "duration": 58,
    "start_time": "2024-07-27T09:40:48.981Z"
   },
   {
    "duration": 6523,
    "start_time": "2024-07-28T12:42:18.532Z"
   },
   {
    "duration": 327,
    "start_time": "2024-07-28T12:42:25.057Z"
   },
   {
    "duration": 28,
    "start_time": "2024-07-28T12:42:25.386Z"
   },
   {
    "duration": 20,
    "start_time": "2024-07-28T12:42:25.416Z"
   },
   {
    "duration": 25,
    "start_time": "2024-07-28T12:42:25.438Z"
   },
   {
    "duration": 55,
    "start_time": "2024-07-28T12:42:25.465Z"
   },
   {
    "duration": 42,
    "start_time": "2024-07-28T12:42:25.521Z"
   },
   {
    "duration": 43,
    "start_time": "2024-07-28T12:42:25.565Z"
   },
   {
    "duration": 11,
    "start_time": "2024-07-28T12:42:25.609Z"
   },
   {
    "duration": 24,
    "start_time": "2024-07-28T12:42:25.622Z"
   },
   {
    "duration": 9,
    "start_time": "2024-07-28T12:42:25.648Z"
   },
   {
    "duration": 12,
    "start_time": "2024-07-28T12:42:25.658Z"
   },
   {
    "duration": 7,
    "start_time": "2024-07-28T12:42:25.672Z"
   },
   {
    "duration": 11,
    "start_time": "2024-07-28T12:42:25.680Z"
   },
   {
    "duration": 12,
    "start_time": "2024-07-28T12:42:25.693Z"
   },
   {
    "duration": 7,
    "start_time": "2024-07-28T12:42:25.707Z"
   },
   {
    "duration": 7,
    "start_time": "2024-07-28T12:42:25.716Z"
   },
   {
    "duration": 14,
    "start_time": "2024-07-28T12:42:25.755Z"
   },
   {
    "duration": 17,
    "start_time": "2024-07-28T12:42:25.771Z"
   },
   {
    "duration": 33,
    "start_time": "2024-07-28T12:42:25.790Z"
   },
   {
    "duration": 1293,
    "start_time": "2024-07-28T12:42:36.021Z"
   },
   {
    "duration": 1398,
    "start_time": "2024-07-28T12:42:47.517Z"
   },
   {
    "duration": 215,
    "start_time": "2024-07-28T12:42:51.792Z"
   },
   {
    "duration": 346,
    "start_time": "2024-07-28T12:43:01.309Z"
   },
   {
    "duration": 125,
    "start_time": "2024-07-28T12:47:07.803Z"
   },
   {
    "duration": 245,
    "start_time": "2024-07-28T12:47:19.987Z"
   },
   {
    "duration": 142,
    "start_time": "2024-07-28T12:47:52.679Z"
   },
   {
    "duration": 379,
    "start_time": "2024-07-28T12:48:04.923Z"
   },
   {
    "duration": 250,
    "start_time": "2024-07-28T12:49:51.508Z"
   },
   {
    "duration": 1154,
    "start_time": "2024-07-28T12:50:22.423Z"
   },
   {
    "duration": 1185,
    "start_time": "2024-07-28T12:50:32.581Z"
   },
   {
    "duration": 139,
    "start_time": "2024-07-28T12:50:36.995Z"
   },
   {
    "duration": 105,
    "start_time": "2024-07-28T12:50:47.236Z"
   },
   {
    "duration": 13,
    "start_time": "2024-07-28T12:51:39.856Z"
   },
   {
    "duration": 347,
    "start_time": "2024-07-28T12:52:15.617Z"
   },
   {
    "duration": 315,
    "start_time": "2024-07-28T12:52:22.910Z"
   },
   {
    "duration": 1135,
    "start_time": "2024-07-28T12:53:14.977Z"
   },
   {
    "duration": 149,
    "start_time": "2024-07-28T12:53:28.453Z"
   },
   {
    "duration": 109,
    "start_time": "2024-07-28T12:53:40.612Z"
   },
   {
    "duration": 123,
    "start_time": "2024-07-28T12:53:55.915Z"
   },
   {
    "duration": 305,
    "start_time": "2024-07-28T12:57:43.293Z"
   },
   {
    "duration": 102,
    "start_time": "2024-07-28T12:57:52.312Z"
   },
   {
    "duration": 251,
    "start_time": "2024-07-28T12:57:57.558Z"
   },
   {
    "duration": 128,
    "start_time": "2024-07-28T12:58:04.772Z"
   },
   {
    "duration": 4490,
    "start_time": "2024-07-28T13:02:23.305Z"
   },
   {
    "duration": 89,
    "start_time": "2024-07-28T13:02:27.797Z"
   },
   {
    "duration": 27,
    "start_time": "2024-07-28T13:02:27.889Z"
   },
   {
    "duration": 56,
    "start_time": "2024-07-28T13:02:27.918Z"
   },
   {
    "duration": 46,
    "start_time": "2024-07-28T13:02:27.976Z"
   },
   {
    "duration": 16,
    "start_time": "2024-07-28T13:02:28.023Z"
   },
   {
    "duration": 20,
    "start_time": "2024-07-28T13:02:28.040Z"
   },
   {
    "duration": 27,
    "start_time": "2024-07-28T13:02:28.061Z"
   },
   {
    "duration": 29,
    "start_time": "2024-07-28T13:02:28.090Z"
   },
   {
    "duration": 7,
    "start_time": "2024-07-28T13:02:28.123Z"
   },
   {
    "duration": 9,
    "start_time": "2024-07-28T13:02:28.133Z"
   },
   {
    "duration": 12,
    "start_time": "2024-07-28T13:02:28.144Z"
   },
   {
    "duration": 21,
    "start_time": "2024-07-28T13:02:28.158Z"
   },
   {
    "duration": 15,
    "start_time": "2024-07-28T13:02:28.181Z"
   },
   {
    "duration": 14,
    "start_time": "2024-07-28T13:02:28.198Z"
   },
   {
    "duration": 17,
    "start_time": "2024-07-28T13:02:28.213Z"
   },
   {
    "duration": 7,
    "start_time": "2024-07-28T13:02:28.231Z"
   },
   {
    "duration": 8,
    "start_time": "2024-07-28T13:02:28.239Z"
   },
   {
    "duration": 16,
    "start_time": "2024-07-28T13:02:28.249Z"
   },
   {
    "duration": 17,
    "start_time": "2024-07-28T13:02:28.266Z"
   },
   {
    "duration": 1376,
    "start_time": "2024-07-28T13:02:28.285Z"
   },
   {
    "duration": 14,
    "start_time": "2024-07-28T13:02:29.662Z"
   },
   {
    "duration": 444,
    "start_time": "2024-07-28T13:02:29.677Z"
   },
   {
    "duration": 118,
    "start_time": "2024-07-28T13:02:30.123Z"
   },
   {
    "duration": 15,
    "start_time": "2024-07-28T13:02:30.242Z"
   },
   {
    "duration": 157,
    "start_time": "2024-07-28T13:02:30.259Z"
   },
   {
    "duration": 140,
    "start_time": "2024-07-28T13:02:30.418Z"
   },
   {
    "duration": 35,
    "start_time": "2024-07-28T13:02:42.978Z"
   },
   {
    "duration": 670,
    "start_time": "2024-07-28T13:06:14.537Z"
   },
   {
    "duration": 1178,
    "start_time": "2024-07-28T13:06:22.423Z"
   },
   {
    "duration": 34,
    "start_time": "2024-07-28T13:07:00.013Z"
   },
   {
    "duration": 291,
    "start_time": "2024-07-28T13:07:15.674Z"
   },
   {
    "duration": 6,
    "start_time": "2024-07-28T13:07:35.651Z"
   },
   {
    "duration": 32,
    "start_time": "2024-07-28T13:07:37.124Z"
   },
   {
    "duration": 294,
    "start_time": "2024-07-28T13:07:37.833Z"
   },
   {
    "duration": 6,
    "start_time": "2024-07-28T13:08:20.819Z"
   },
   {
    "duration": 31,
    "start_time": "2024-07-28T13:08:21.658Z"
   },
   {
    "duration": 353,
    "start_time": "2024-07-28T13:08:22.138Z"
   },
   {
    "duration": 264,
    "start_time": "2024-07-28T13:08:40.891Z"
   },
   {
    "duration": 4515,
    "start_time": "2024-07-28T13:08:56.474Z"
   },
   {
    "duration": 89,
    "start_time": "2024-07-28T13:09:00.991Z"
   },
   {
    "duration": 26,
    "start_time": "2024-07-28T13:09:01.082Z"
   },
   {
    "duration": 36,
    "start_time": "2024-07-28T13:09:01.110Z"
   },
   {
    "duration": 65,
    "start_time": "2024-07-28T13:09:01.148Z"
   },
   {
    "duration": 80,
    "start_time": "2024-07-28T13:09:01.215Z"
   },
   {
    "duration": 61,
    "start_time": "2024-07-28T13:09:01.297Z"
   },
   {
    "duration": 50,
    "start_time": "2024-07-28T13:09:01.360Z"
   },
   {
    "duration": 153,
    "start_time": "2024-07-28T13:09:01.412Z"
   },
   {
    "duration": 103,
    "start_time": "2024-07-28T13:09:01.568Z"
   },
   {
    "duration": 78,
    "start_time": "2024-07-28T13:09:01.673Z"
   },
   {
    "duration": 141,
    "start_time": "2024-07-28T13:09:01.753Z"
   },
   {
    "duration": 124,
    "start_time": "2024-07-28T13:09:01.896Z"
   },
   {
    "duration": 85,
    "start_time": "2024-07-28T13:09:02.021Z"
   },
   {
    "duration": 120,
    "start_time": "2024-07-28T13:09:02.108Z"
   },
   {
    "duration": 59,
    "start_time": "2024-07-28T13:09:02.230Z"
   },
   {
    "duration": 25,
    "start_time": "2024-07-28T13:09:02.291Z"
   },
   {
    "duration": 28,
    "start_time": "2024-07-28T13:09:02.318Z"
   },
   {
    "duration": 25,
    "start_time": "2024-07-28T13:09:02.348Z"
   },
   {
    "duration": 31,
    "start_time": "2024-07-28T13:09:02.375Z"
   },
   {
    "duration": 1470,
    "start_time": "2024-07-28T13:09:02.407Z"
   },
   {
    "duration": 14,
    "start_time": "2024-07-28T13:09:03.879Z"
   },
   {
    "duration": 426,
    "start_time": "2024-07-28T13:09:03.895Z"
   },
   {
    "duration": 115,
    "start_time": "2024-07-28T13:09:04.323Z"
   },
   {
    "duration": 5,
    "start_time": "2024-07-28T13:09:04.440Z"
   },
   {
    "duration": 141,
    "start_time": "2024-07-28T13:09:04.455Z"
   },
   {
    "duration": 160,
    "start_time": "2024-07-28T13:09:04.598Z"
   },
   {
    "duration": 33,
    "start_time": "2024-07-28T13:09:04.763Z"
   },
   {
    "duration": 8,
    "start_time": "2024-07-28T13:09:04.798Z"
   },
   {
    "duration": 70,
    "start_time": "2024-07-28T13:09:04.808Z"
   },
   {
    "duration": 344,
    "start_time": "2024-07-28T13:09:04.880Z"
   },
   {
    "duration": 105,
    "start_time": "2024-07-28T13:09:19.368Z"
   },
   {
    "duration": 6,
    "start_time": "2024-07-28T13:09:51.885Z"
   },
   {
    "duration": 32,
    "start_time": "2024-07-28T13:09:52.599Z"
   },
   {
    "duration": 304,
    "start_time": "2024-07-28T13:09:53.186Z"
   },
   {
    "duration": 102,
    "start_time": "2024-07-28T13:09:55.260Z"
   },
   {
    "duration": 6,
    "start_time": "2024-07-28T13:10:02.388Z"
   },
   {
    "duration": 8,
    "start_time": "2024-07-28T13:10:35.122Z"
   },
   {
    "duration": 31,
    "start_time": "2024-07-28T13:10:35.564Z"
   },
   {
    "duration": 278,
    "start_time": "2024-07-28T13:10:36.181Z"
   },
   {
    "duration": 109,
    "start_time": "2024-07-28T13:10:41.113Z"
   },
   {
    "duration": 4530,
    "start_time": "2024-07-28T13:11:00.225Z"
   },
   {
    "duration": 89,
    "start_time": "2024-07-28T13:11:04.757Z"
   },
   {
    "duration": 26,
    "start_time": "2024-07-28T13:11:04.848Z"
   },
   {
    "duration": 17,
    "start_time": "2024-07-28T13:11:04.876Z"
   },
   {
    "duration": 38,
    "start_time": "2024-07-28T13:11:04.895Z"
   },
   {
    "duration": 22,
    "start_time": "2024-07-28T13:11:04.935Z"
   },
   {
    "duration": 15,
    "start_time": "2024-07-28T13:11:04.959Z"
   },
   {
    "duration": 15,
    "start_time": "2024-07-28T13:11:04.976Z"
   },
   {
    "duration": 11,
    "start_time": "2024-07-28T13:11:04.993Z"
   },
   {
    "duration": 16,
    "start_time": "2024-07-28T13:11:05.006Z"
   },
   {
    "duration": 20,
    "start_time": "2024-07-28T13:11:05.024Z"
   },
   {
    "duration": 21,
    "start_time": "2024-07-28T13:11:05.045Z"
   },
   {
    "duration": 21,
    "start_time": "2024-07-28T13:11:05.067Z"
   },
   {
    "duration": 10,
    "start_time": "2024-07-28T13:11:05.090Z"
   },
   {
    "duration": 16,
    "start_time": "2024-07-28T13:11:05.101Z"
   },
   {
    "duration": 10,
    "start_time": "2024-07-28T13:11:05.119Z"
   },
   {
    "duration": 12,
    "start_time": "2024-07-28T13:11:05.130Z"
   },
   {
    "duration": 20,
    "start_time": "2024-07-28T13:11:05.143Z"
   },
   {
    "duration": 18,
    "start_time": "2024-07-28T13:11:05.164Z"
   },
   {
    "duration": 19,
    "start_time": "2024-07-28T13:11:05.184Z"
   },
   {
    "duration": 1307,
    "start_time": "2024-07-28T13:11:05.205Z"
   },
   {
    "duration": 13,
    "start_time": "2024-07-28T13:11:06.514Z"
   },
   {
    "duration": 430,
    "start_time": "2024-07-28T13:11:06.528Z"
   },
   {
    "duration": 119,
    "start_time": "2024-07-28T13:11:06.960Z"
   },
   {
    "duration": 4,
    "start_time": "2024-07-28T13:11:07.081Z"
   },
   {
    "duration": 132,
    "start_time": "2024-07-28T13:11:07.086Z"
   },
   {
    "duration": 130,
    "start_time": "2024-07-28T13:11:07.219Z"
   },
   {
    "duration": 32,
    "start_time": "2024-07-28T13:11:07.357Z"
   },
   {
    "duration": 9,
    "start_time": "2024-07-28T13:11:07.391Z"
   },
   {
    "duration": 55,
    "start_time": "2024-07-28T13:11:07.401Z"
   },
   {
    "duration": 341,
    "start_time": "2024-07-28T13:11:07.458Z"
   },
   {
    "duration": 119,
    "start_time": "2024-07-28T13:11:07.801Z"
   },
   {
    "duration": 4382,
    "start_time": "2024-07-28T13:20:07.974Z"
   },
   {
    "duration": 89,
    "start_time": "2024-07-28T13:20:12.358Z"
   },
   {
    "duration": 25,
    "start_time": "2024-07-28T13:20:12.451Z"
   },
   {
    "duration": 14,
    "start_time": "2024-07-28T13:20:12.478Z"
   },
   {
    "duration": 18,
    "start_time": "2024-07-28T13:20:12.494Z"
   },
   {
    "duration": 14,
    "start_time": "2024-07-28T13:20:12.514Z"
   },
   {
    "duration": 38,
    "start_time": "2024-07-28T13:20:12.530Z"
   },
   {
    "duration": 7,
    "start_time": "2024-07-28T13:20:12.569Z"
   },
   {
    "duration": 9,
    "start_time": "2024-07-28T13:20:12.578Z"
   },
   {
    "duration": 8,
    "start_time": "2024-07-28T13:20:12.589Z"
   },
   {
    "duration": 102,
    "start_time": "2024-07-28T13:20:12.599Z"
   },
   {
    "duration": 12,
    "start_time": "2024-07-28T13:20:12.703Z"
   },
   {
    "duration": 7,
    "start_time": "2024-07-28T13:20:12.717Z"
   },
   {
    "duration": 9,
    "start_time": "2024-07-28T13:20:12.726Z"
   },
   {
    "duration": 38,
    "start_time": "2024-07-28T13:20:12.737Z"
   },
   {
    "duration": 9,
    "start_time": "2024-07-28T13:20:12.778Z"
   },
   {
    "duration": 7,
    "start_time": "2024-07-28T13:20:12.789Z"
   },
   {
    "duration": 7,
    "start_time": "2024-07-28T13:20:12.798Z"
   },
   {
    "duration": 20,
    "start_time": "2024-07-28T13:20:12.806Z"
   },
   {
    "duration": 17,
    "start_time": "2024-07-28T13:20:12.827Z"
   },
   {
    "duration": 1317,
    "start_time": "2024-07-28T13:20:12.846Z"
   },
   {
    "duration": 13,
    "start_time": "2024-07-28T13:20:14.165Z"
   },
   {
    "duration": 438,
    "start_time": "2024-07-28T13:20:14.179Z"
   },
   {
    "duration": 117,
    "start_time": "2024-07-28T13:20:14.619Z"
   },
   {
    "duration": 4,
    "start_time": "2024-07-28T13:20:14.737Z"
   },
   {
    "duration": 130,
    "start_time": "2024-07-28T13:20:14.742Z"
   },
   {
    "duration": 142,
    "start_time": "2024-07-28T13:20:14.876Z"
   },
   {
    "duration": 48,
    "start_time": "2024-07-28T13:20:15.020Z"
   },
   {
    "duration": 8,
    "start_time": "2024-07-28T13:20:15.069Z"
   },
   {
    "duration": 76,
    "start_time": "2024-07-28T13:20:15.079Z"
   },
   {
    "duration": 20,
    "start_time": "2024-07-28T13:20:15.157Z"
   },
   {
    "duration": 38,
    "start_time": "2024-07-28T13:20:15.179Z"
   },
   {
    "duration": 141,
    "start_time": "2024-07-28T13:20:15.219Z"
   },
   {
    "duration": 104,
    "start_time": "2024-07-28T13:20:15.362Z"
   },
   {
    "duration": 105,
    "start_time": "2024-07-28T13:20:15.468Z"
   },
   {
    "duration": 155,
    "start_time": "2024-07-28T13:20:15.575Z"
   },
   {
    "duration": 326,
    "start_time": "2024-07-28T13:20:15.732Z"
   },
   {
    "duration": 14,
    "start_time": "2024-07-28T13:20:16.060Z"
   },
   {
    "duration": 5,
    "start_time": "2024-07-28T13:20:16.075Z"
   },
   {
    "duration": 211,
    "start_time": "2024-07-28T13:20:16.082Z"
   },
   {
    "duration": 9,
    "start_time": "2024-07-28T13:20:16.294Z"
   },
   {
    "duration": 108,
    "start_time": "2024-07-28T13:20:16.304Z"
   },
   {
    "duration": 313,
    "start_time": "2024-07-28T13:20:16.413Z"
   },
   {
    "duration": 15,
    "start_time": "2024-07-28T13:20:16.728Z"
   },
   {
    "duration": 98,
    "start_time": "2024-07-28T13:20:16.745Z"
   },
   {
    "duration": 336,
    "start_time": "2024-07-28T13:20:16.855Z"
   },
   {
    "duration": 21,
    "start_time": "2024-07-28T13:20:17.193Z"
   },
   {
    "duration": 11,
    "start_time": "2024-07-28T13:20:17.216Z"
   },
   {
    "duration": 26,
    "start_time": "2024-07-28T13:20:17.229Z"
   },
   {
    "duration": 26,
    "start_time": "2024-07-28T13:20:17.257Z"
   },
   {
    "duration": 15,
    "start_time": "2024-07-28T13:20:17.285Z"
   },
   {
    "duration": 1174,
    "start_time": "2024-07-28T13:20:17.302Z"
   },
   {
    "duration": 12,
    "start_time": "2024-07-28T13:20:18.478Z"
   },
   {
    "duration": 3,
    "start_time": "2024-07-28T13:20:18.491Z"
   },
   {
    "duration": 16,
    "start_time": "2024-07-28T13:20:18.496Z"
   },
   {
    "duration": 3,
    "start_time": "2024-07-28T13:20:18.514Z"
   },
   {
    "duration": 5,
    "start_time": "2024-07-28T13:20:18.519Z"
   },
   {
    "duration": 13,
    "start_time": "2024-07-28T13:20:18.526Z"
   },
   {
    "duration": 3372,
    "start_time": "2024-07-28T13:20:18.541Z"
   },
   {
    "duration": 53,
    "start_time": "2024-07-28T13:20:21.914Z"
   },
   {
    "duration": 25594,
    "start_time": "2024-07-28T13:20:21.969Z"
   },
   {
    "duration": 733,
    "start_time": "2024-07-28T13:20:47.568Z"
   },
   {
    "duration": 19,
    "start_time": "2024-07-28T13:20:48.302Z"
   },
   {
    "duration": 659,
    "start_time": "2024-07-28T13:20:48.322Z"
   },
   {
    "duration": 18,
    "start_time": "2024-07-28T13:20:48.983Z"
   },
   {
    "duration": 527,
    "start_time": "2024-07-28T13:20:49.003Z"
   },
   {
    "duration": 31,
    "start_time": "2024-07-28T13:20:49.532Z"
   },
   {
    "duration": 509,
    "start_time": "2024-07-28T13:20:49.564Z"
   },
   {
    "duration": 21,
    "start_time": "2024-07-28T13:20:50.075Z"
   },
   {
    "duration": 10,
    "start_time": "2024-07-28T13:25:30.570Z"
   },
   {
    "duration": 7,
    "start_time": "2024-07-28T13:25:42.086Z"
   },
   {
    "duration": 4540,
    "start_time": "2024-07-28T13:27:24.772Z"
   },
   {
    "duration": 89,
    "start_time": "2024-07-28T13:27:29.314Z"
   },
   {
    "duration": 25,
    "start_time": "2024-07-28T13:27:29.405Z"
   },
   {
    "duration": 15,
    "start_time": "2024-07-28T13:27:29.432Z"
   },
   {
    "duration": 23,
    "start_time": "2024-07-28T13:27:29.448Z"
   },
   {
    "duration": 24,
    "start_time": "2024-07-28T13:27:29.472Z"
   },
   {
    "duration": 16,
    "start_time": "2024-07-28T13:27:29.498Z"
   },
   {
    "duration": 12,
    "start_time": "2024-07-28T13:27:29.515Z"
   },
   {
    "duration": 10,
    "start_time": "2024-07-28T13:27:29.528Z"
   },
   {
    "duration": 15,
    "start_time": "2024-07-28T13:27:29.540Z"
   },
   {
    "duration": 11,
    "start_time": "2024-07-28T13:27:29.556Z"
   },
   {
    "duration": 24,
    "start_time": "2024-07-28T13:27:29.568Z"
   },
   {
    "duration": 11,
    "start_time": "2024-07-28T13:27:29.594Z"
   },
   {
    "duration": 8,
    "start_time": "2024-07-28T13:27:29.606Z"
   },
   {
    "duration": 16,
    "start_time": "2024-07-28T13:27:29.615Z"
   },
   {
    "duration": 9,
    "start_time": "2024-07-28T13:27:29.632Z"
   },
   {
    "duration": 7,
    "start_time": "2024-07-28T13:27:29.642Z"
   },
   {
    "duration": 8,
    "start_time": "2024-07-28T13:27:29.654Z"
   },
   {
    "duration": 7,
    "start_time": "2024-07-28T13:27:29.664Z"
   },
   {
    "duration": 17,
    "start_time": "2024-07-28T13:27:29.673Z"
   },
   {
    "duration": 1327,
    "start_time": "2024-07-28T13:27:29.692Z"
   },
   {
    "duration": 14,
    "start_time": "2024-07-28T13:27:31.021Z"
   },
   {
    "duration": 472,
    "start_time": "2024-07-28T13:27:31.037Z"
   },
   {
    "duration": 118,
    "start_time": "2024-07-28T13:27:31.511Z"
   },
   {
    "duration": 4,
    "start_time": "2024-07-28T13:27:31.631Z"
   },
   {
    "duration": 144,
    "start_time": "2024-07-28T13:27:31.637Z"
   },
   {
    "duration": 135,
    "start_time": "2024-07-28T13:27:31.783Z"
   },
   {
    "duration": 46,
    "start_time": "2024-07-28T13:27:31.923Z"
   },
   {
    "duration": 8,
    "start_time": "2024-07-28T13:27:31.971Z"
   },
   {
    "duration": 132,
    "start_time": "2024-07-28T13:27:31.981Z"
   },
   {
    "duration": 12,
    "start_time": "2024-07-28T13:27:32.115Z"
   },
   {
    "duration": 6,
    "start_time": "2024-07-28T13:27:32.129Z"
   },
   {
    "duration": 129,
    "start_time": "2024-07-28T13:27:32.137Z"
   },
   {
    "duration": 98,
    "start_time": "2024-07-28T13:27:32.267Z"
   },
   {
    "duration": 101,
    "start_time": "2024-07-28T13:27:32.367Z"
   },
   {
    "duration": 140,
    "start_time": "2024-07-28T13:27:32.470Z"
   },
   {
    "duration": 345,
    "start_time": "2024-07-28T13:27:32.612Z"
   },
   {
    "duration": 17,
    "start_time": "2024-07-28T13:27:32.959Z"
   },
   {
    "duration": 5,
    "start_time": "2024-07-28T13:27:32.978Z"
   },
   {
    "duration": 220,
    "start_time": "2024-07-28T13:27:32.985Z"
   },
   {
    "duration": 8,
    "start_time": "2024-07-28T13:27:33.206Z"
   },
   {
    "duration": 107,
    "start_time": "2024-07-28T13:27:33.216Z"
   },
   {
    "duration": 320,
    "start_time": "2024-07-28T13:27:33.324Z"
   },
   {
    "duration": 19,
    "start_time": "2024-07-28T13:27:33.645Z"
   },
   {
    "duration": 99,
    "start_time": "2024-07-28T13:27:33.666Z"
   },
   {
    "duration": 317,
    "start_time": "2024-07-28T13:27:33.767Z"
   },
   {
    "duration": 17,
    "start_time": "2024-07-28T13:27:34.085Z"
   },
   {
    "duration": 14,
    "start_time": "2024-07-28T13:27:34.104Z"
   },
   {
    "duration": 11,
    "start_time": "2024-07-28T13:27:34.120Z"
   },
   {
    "duration": 24,
    "start_time": "2024-07-28T13:27:34.133Z"
   },
   {
    "duration": 8,
    "start_time": "2024-07-28T13:27:59.382Z"
   },
   {
    "duration": 208,
    "start_time": "2024-07-28T13:44:19.337Z"
   },
   {
    "duration": 9,
    "start_time": "2024-07-28T13:48:22.069Z"
   },
   {
    "duration": 9,
    "start_time": "2024-07-28T13:48:22.590Z"
   },
   {
    "duration": 152,
    "start_time": "2024-07-28T13:48:33.507Z"
   },
   {
    "duration": 11,
    "start_time": "2024-07-28T13:48:46.286Z"
   },
   {
    "duration": 13,
    "start_time": "2024-07-28T13:49:16.335Z"
   },
   {
    "duration": 12,
    "start_time": "2024-07-28T13:49:17.069Z"
   },
   {
    "duration": 13,
    "start_time": "2024-07-28T13:49:56.513Z"
   },
   {
    "duration": 17,
    "start_time": "2024-07-28T13:49:56.899Z"
   },
   {
    "duration": 308,
    "start_time": "2024-07-28T13:50:45.587Z"
   },
   {
    "duration": 12,
    "start_time": "2024-07-28T13:50:57.856Z"
   },
   {
    "duration": 17,
    "start_time": "2024-07-28T13:57:35.175Z"
   },
   {
    "duration": 15,
    "start_time": "2024-07-28T13:57:43.771Z"
   },
   {
    "duration": 12,
    "start_time": "2024-07-28T13:57:57.183Z"
   },
   {
    "duration": 19,
    "start_time": "2024-07-28T14:01:04.084Z"
   },
   {
    "duration": 17,
    "start_time": "2024-07-28T14:01:43.704Z"
   },
   {
    "duration": 14,
    "start_time": "2024-07-28T14:02:40.974Z"
   },
   {
    "duration": 13,
    "start_time": "2024-07-28T14:02:47.766Z"
   },
   {
    "duration": 11,
    "start_time": "2024-07-28T14:02:56.192Z"
   },
   {
    "duration": 13,
    "start_time": "2024-07-28T14:02:59.940Z"
   },
   {
    "duration": 13,
    "start_time": "2024-07-28T14:03:04.102Z"
   },
   {
    "duration": 14,
    "start_time": "2024-07-28T14:05:37.313Z"
   },
   {
    "duration": 24,
    "start_time": "2024-07-28T14:06:03.490Z"
   },
   {
    "duration": 23,
    "start_time": "2024-07-28T14:06:12.730Z"
   },
   {
    "duration": 19,
    "start_time": "2024-07-28T14:06:43.762Z"
   },
   {
    "duration": 7,
    "start_time": "2024-07-28T14:06:54.755Z"
   },
   {
    "duration": 20,
    "start_time": "2024-07-28T14:07:01.813Z"
   },
   {
    "duration": 22,
    "start_time": "2024-07-28T14:07:24.195Z"
   },
   {
    "duration": 25,
    "start_time": "2024-07-28T14:07:24.597Z"
   },
   {
    "duration": 20,
    "start_time": "2024-07-28T14:07:41.801Z"
   },
   {
    "duration": 20,
    "start_time": "2024-07-28T14:07:54.903Z"
   },
   {
    "duration": 10,
    "start_time": "2024-07-28T14:08:18.324Z"
   },
   {
    "duration": 23,
    "start_time": "2024-07-28T14:08:26.200Z"
   },
   {
    "duration": 4535,
    "start_time": "2024-07-28T14:09:18.938Z"
   },
   {
    "duration": 89,
    "start_time": "2024-07-28T14:09:23.475Z"
   },
   {
    "duration": 25,
    "start_time": "2024-07-28T14:09:23.566Z"
   },
   {
    "duration": 16,
    "start_time": "2024-07-28T14:09:23.593Z"
   },
   {
    "duration": 17,
    "start_time": "2024-07-28T14:09:23.611Z"
   },
   {
    "duration": 32,
    "start_time": "2024-07-28T14:09:23.630Z"
   },
   {
    "duration": 24,
    "start_time": "2024-07-28T14:09:23.664Z"
   },
   {
    "duration": 9,
    "start_time": "2024-07-28T14:09:23.690Z"
   },
   {
    "duration": 11,
    "start_time": "2024-07-28T14:09:23.701Z"
   },
   {
    "duration": 30,
    "start_time": "2024-07-28T14:09:23.716Z"
   },
   {
    "duration": 22,
    "start_time": "2024-07-28T14:09:23.748Z"
   },
   {
    "duration": 8,
    "start_time": "2024-07-28T14:09:23.772Z"
   },
   {
    "duration": 10,
    "start_time": "2024-07-28T14:09:23.782Z"
   },
   {
    "duration": 8,
    "start_time": "2024-07-28T14:09:23.794Z"
   },
   {
    "duration": 22,
    "start_time": "2024-07-28T14:09:23.804Z"
   },
   {
    "duration": 25,
    "start_time": "2024-07-28T14:09:23.828Z"
   },
   {
    "duration": 11,
    "start_time": "2024-07-28T14:09:23.855Z"
   },
   {
    "duration": 15,
    "start_time": "2024-07-28T14:09:23.868Z"
   },
   {
    "duration": 12,
    "start_time": "2024-07-28T14:09:23.885Z"
   },
   {
    "duration": 26,
    "start_time": "2024-07-28T14:09:23.899Z"
   },
   {
    "duration": 1318,
    "start_time": "2024-07-28T14:09:23.926Z"
   },
   {
    "duration": 22,
    "start_time": "2024-07-28T14:09:25.245Z"
   },
   {
    "duration": 416,
    "start_time": "2024-07-28T14:09:25.268Z"
   },
   {
    "duration": 115,
    "start_time": "2024-07-28T14:09:25.686Z"
   },
   {
    "duration": 5,
    "start_time": "2024-07-28T14:09:25.802Z"
   },
   {
    "duration": 124,
    "start_time": "2024-07-28T14:09:25.809Z"
   },
   {
    "duration": 137,
    "start_time": "2024-07-28T14:09:25.935Z"
   },
   {
    "duration": 33,
    "start_time": "2024-07-28T14:09:26.076Z"
   },
   {
    "duration": 8,
    "start_time": "2024-07-28T14:09:26.110Z"
   },
   {
    "duration": 87,
    "start_time": "2024-07-28T14:09:26.120Z"
   },
   {
    "duration": 39,
    "start_time": "2024-07-28T14:09:26.209Z"
   },
   {
    "duration": 19,
    "start_time": "2024-07-28T14:09:26.249Z"
   },
   {
    "duration": 100,
    "start_time": "2024-07-28T14:09:26.270Z"
   },
   {
    "duration": 94,
    "start_time": "2024-07-28T14:09:26.372Z"
   },
   {
    "duration": 105,
    "start_time": "2024-07-28T14:09:26.468Z"
   },
   {
    "duration": 138,
    "start_time": "2024-07-28T14:09:26.574Z"
   },
   {
    "duration": 333,
    "start_time": "2024-07-28T14:09:26.713Z"
   },
   {
    "duration": 18,
    "start_time": "2024-07-28T14:09:27.048Z"
   },
   {
    "duration": 24,
    "start_time": "2024-07-28T14:09:27.068Z"
   },
   {
    "duration": 229,
    "start_time": "2024-07-28T14:09:27.093Z"
   },
   {
    "duration": 10,
    "start_time": "2024-07-28T14:09:27.324Z"
   },
   {
    "duration": 119,
    "start_time": "2024-07-28T14:09:27.336Z"
   },
   {
    "duration": 461,
    "start_time": "2024-07-28T14:09:27.457Z"
   },
   {
    "duration": 14,
    "start_time": "2024-07-28T14:09:27.920Z"
   },
   {
    "duration": 117,
    "start_time": "2024-07-28T14:09:27.936Z"
   },
   {
    "duration": 297,
    "start_time": "2024-07-28T14:09:28.054Z"
   },
   {
    "duration": 16,
    "start_time": "2024-07-28T14:09:28.353Z"
   },
   {
    "duration": 45,
    "start_time": "2024-07-28T14:09:28.371Z"
   },
   {
    "duration": 148,
    "start_time": "2024-07-28T14:09:28.418Z"
   },
   {
    "duration": 3,
    "start_time": "2024-07-28T14:09:28.568Z"
   },
   {
    "duration": 47,
    "start_time": "2024-07-28T14:09:28.572Z"
   },
   {
    "duration": 187,
    "start_time": "2024-07-28T14:09:28.621Z"
   },
   {
    "duration": 0,
    "start_time": "2024-07-28T14:09:28.810Z"
   },
   {
    "duration": 21,
    "start_time": "2024-07-28T14:10:23.711Z"
   },
   {
    "duration": 2,
    "start_time": "2024-07-28T14:10:27.224Z"
   },
   {
    "duration": 13,
    "start_time": "2024-07-28T14:10:27.459Z"
   },
   {
    "duration": 19,
    "start_time": "2024-07-28T14:10:28.059Z"
   },
   {
    "duration": 4576,
    "start_time": "2024-07-28T14:10:59.804Z"
   },
   {
    "duration": 89,
    "start_time": "2024-07-28T14:11:04.383Z"
   },
   {
    "duration": 28,
    "start_time": "2024-07-28T14:11:04.474Z"
   },
   {
    "duration": 17,
    "start_time": "2024-07-28T14:11:04.503Z"
   },
   {
    "duration": 43,
    "start_time": "2024-07-28T14:11:04.522Z"
   },
   {
    "duration": 33,
    "start_time": "2024-07-28T14:11:04.567Z"
   },
   {
    "duration": 40,
    "start_time": "2024-07-28T14:11:04.602Z"
   },
   {
    "duration": 34,
    "start_time": "2024-07-28T14:11:04.644Z"
   },
   {
    "duration": 35,
    "start_time": "2024-07-28T14:11:04.679Z"
   },
   {
    "duration": 65,
    "start_time": "2024-07-28T14:11:04.716Z"
   },
   {
    "duration": 35,
    "start_time": "2024-07-28T14:11:04.783Z"
   },
   {
    "duration": 54,
    "start_time": "2024-07-28T14:11:04.820Z"
   },
   {
    "duration": 38,
    "start_time": "2024-07-28T14:11:04.876Z"
   },
   {
    "duration": 28,
    "start_time": "2024-07-28T14:11:04.917Z"
   },
   {
    "duration": 41,
    "start_time": "2024-07-28T14:11:04.947Z"
   },
   {
    "duration": 56,
    "start_time": "2024-07-28T14:11:04.990Z"
   },
   {
    "duration": 34,
    "start_time": "2024-07-28T14:11:05.048Z"
   },
   {
    "duration": 28,
    "start_time": "2024-07-28T14:11:05.084Z"
   },
   {
    "duration": 80,
    "start_time": "2024-07-28T14:11:05.114Z"
   },
   {
    "duration": 21,
    "start_time": "2024-07-28T14:11:05.196Z"
   },
   {
    "duration": 1336,
    "start_time": "2024-07-28T14:11:05.219Z"
   },
   {
    "duration": 12,
    "start_time": "2024-07-28T14:11:06.557Z"
   },
   {
    "duration": 440,
    "start_time": "2024-07-28T14:11:06.571Z"
   },
   {
    "duration": 118,
    "start_time": "2024-07-28T14:11:07.013Z"
   },
   {
    "duration": 4,
    "start_time": "2024-07-28T14:11:07.133Z"
   },
   {
    "duration": 131,
    "start_time": "2024-07-28T14:11:07.139Z"
   },
   {
    "duration": 133,
    "start_time": "2024-07-28T14:11:07.271Z"
   },
   {
    "duration": 33,
    "start_time": "2024-07-28T14:11:07.405Z"
   },
   {
    "duration": 21,
    "start_time": "2024-07-28T14:11:07.439Z"
   },
   {
    "duration": 32,
    "start_time": "2024-07-28T14:11:07.462Z"
   },
   {
    "duration": 11,
    "start_time": "2024-07-28T14:11:07.496Z"
   },
   {
    "duration": 10,
    "start_time": "2024-07-28T14:11:07.509Z"
   },
   {
    "duration": 135,
    "start_time": "2024-07-28T14:11:07.521Z"
   },
   {
    "duration": 101,
    "start_time": "2024-07-28T14:11:07.658Z"
   },
   {
    "duration": 98,
    "start_time": "2024-07-28T14:11:07.760Z"
   },
   {
    "duration": 147,
    "start_time": "2024-07-28T14:11:07.859Z"
   },
   {
    "duration": 348,
    "start_time": "2024-07-28T14:11:08.008Z"
   },
   {
    "duration": 16,
    "start_time": "2024-07-28T14:11:08.357Z"
   },
   {
    "duration": 34,
    "start_time": "2024-07-28T14:11:08.375Z"
   },
   {
    "duration": 183,
    "start_time": "2024-07-28T14:11:08.411Z"
   },
   {
    "duration": 8,
    "start_time": "2024-07-28T14:11:08.597Z"
   },
   {
    "duration": 107,
    "start_time": "2024-07-28T14:11:08.607Z"
   },
   {
    "duration": 307,
    "start_time": "2024-07-28T14:11:08.716Z"
   },
   {
    "duration": 14,
    "start_time": "2024-07-28T14:11:09.025Z"
   },
   {
    "duration": 99,
    "start_time": "2024-07-28T14:11:09.041Z"
   },
   {
    "duration": 324,
    "start_time": "2024-07-28T14:11:09.142Z"
   },
   {
    "duration": 15,
    "start_time": "2024-07-28T14:11:09.467Z"
   },
   {
    "duration": 22,
    "start_time": "2024-07-28T14:11:09.484Z"
   },
   {
    "duration": 4,
    "start_time": "2024-07-28T14:11:41.157Z"
   },
   {
    "duration": 4,
    "start_time": "2024-07-28T14:11:56.948Z"
   },
   {
    "duration": 144,
    "start_time": "2024-07-28T14:12:03.067Z"
   },
   {
    "duration": 10,
    "start_time": "2024-07-28T14:12:37.757Z"
   },
   {
    "duration": 13,
    "start_time": "2024-07-28T14:12:55.580Z"
   },
   {
    "duration": 5016,
    "start_time": "2024-07-28T14:13:25.953Z"
   },
   {
    "duration": 91,
    "start_time": "2024-07-28T14:13:30.971Z"
   },
   {
    "duration": 44,
    "start_time": "2024-07-28T14:13:31.064Z"
   },
   {
    "duration": 100,
    "start_time": "2024-07-28T14:13:31.111Z"
   },
   {
    "duration": 58,
    "start_time": "2024-07-28T14:13:31.213Z"
   },
   {
    "duration": 79,
    "start_time": "2024-07-28T14:13:31.273Z"
   },
   {
    "duration": 72,
    "start_time": "2024-07-28T14:13:31.355Z"
   },
   {
    "duration": 154,
    "start_time": "2024-07-28T14:13:31.429Z"
   },
   {
    "duration": 113,
    "start_time": "2024-07-28T14:13:31.585Z"
   },
   {
    "duration": 89,
    "start_time": "2024-07-28T14:13:31.701Z"
   },
   {
    "duration": 59,
    "start_time": "2024-07-28T14:13:31.792Z"
   },
   {
    "duration": 42,
    "start_time": "2024-07-28T14:13:31.852Z"
   },
   {
    "duration": 48,
    "start_time": "2024-07-28T14:13:31.895Z"
   },
   {
    "duration": 32,
    "start_time": "2024-07-28T14:13:31.945Z"
   },
   {
    "duration": 34,
    "start_time": "2024-07-28T14:13:31.979Z"
   },
   {
    "duration": 19,
    "start_time": "2024-07-28T14:13:32.015Z"
   },
   {
    "duration": 17,
    "start_time": "2024-07-28T14:13:32.037Z"
   },
   {
    "duration": 34,
    "start_time": "2024-07-28T14:13:32.056Z"
   },
   {
    "duration": 15,
    "start_time": "2024-07-28T14:13:32.092Z"
   },
   {
    "duration": 13,
    "start_time": "2024-07-28T14:13:32.108Z"
   },
   {
    "duration": 1423,
    "start_time": "2024-07-28T14:13:32.122Z"
   },
   {
    "duration": 17,
    "start_time": "2024-07-28T14:13:33.547Z"
   },
   {
    "duration": 446,
    "start_time": "2024-07-28T14:13:33.566Z"
   },
   {
    "duration": 122,
    "start_time": "2024-07-28T14:13:34.015Z"
   },
   {
    "duration": 17,
    "start_time": "2024-07-28T14:13:34.139Z"
   },
   {
    "duration": 130,
    "start_time": "2024-07-28T14:13:34.158Z"
   },
   {
    "duration": 139,
    "start_time": "2024-07-28T14:13:34.290Z"
   },
   {
    "duration": 41,
    "start_time": "2024-07-28T14:13:34.433Z"
   },
   {
    "duration": 7,
    "start_time": "2024-07-28T14:13:34.476Z"
   },
   {
    "duration": 34,
    "start_time": "2024-07-28T14:13:34.484Z"
   },
   {
    "duration": 11,
    "start_time": "2024-07-28T14:13:34.520Z"
   },
   {
    "duration": 5,
    "start_time": "2024-07-28T14:13:34.556Z"
   },
   {
    "duration": 102,
    "start_time": "2024-07-28T14:13:34.563Z"
   },
   {
    "duration": 103,
    "start_time": "2024-07-28T14:13:34.666Z"
   },
   {
    "duration": 107,
    "start_time": "2024-07-28T14:13:34.771Z"
   },
   {
    "duration": 141,
    "start_time": "2024-07-28T14:13:34.880Z"
   },
   {
    "duration": 343,
    "start_time": "2024-07-28T14:13:35.023Z"
   },
   {
    "duration": 17,
    "start_time": "2024-07-28T14:13:35.368Z"
   },
   {
    "duration": 5,
    "start_time": "2024-07-28T14:13:35.386Z"
   },
   {
    "duration": 203,
    "start_time": "2024-07-28T14:13:35.393Z"
   },
   {
    "duration": 8,
    "start_time": "2024-07-28T14:13:35.597Z"
   },
   {
    "duration": 105,
    "start_time": "2024-07-28T14:13:35.607Z"
   },
   {
    "duration": 328,
    "start_time": "2024-07-28T14:13:35.714Z"
   },
   {
    "duration": 21,
    "start_time": "2024-07-28T14:13:36.044Z"
   },
   {
    "duration": 106,
    "start_time": "2024-07-28T14:13:36.067Z"
   },
   {
    "duration": 327,
    "start_time": "2024-07-28T14:13:36.175Z"
   },
   {
    "duration": 15,
    "start_time": "2024-07-28T14:13:36.503Z"
   },
   {
    "duration": 55,
    "start_time": "2024-07-28T14:13:36.520Z"
   },
   {
    "duration": 148,
    "start_time": "2024-07-28T14:13:36.577Z"
   },
   {
    "duration": 2,
    "start_time": "2024-07-28T14:13:36.727Z"
   },
   {
    "duration": 48,
    "start_time": "2024-07-28T14:13:36.730Z"
   },
   {
    "duration": 9,
    "start_time": "2024-07-28T14:13:36.779Z"
   },
   {
    "duration": 7,
    "start_time": "2024-07-28T14:13:52.445Z"
   },
   {
    "duration": 9,
    "start_time": "2024-07-28T14:14:02.227Z"
   },
   {
    "duration": 9,
    "start_time": "2024-07-28T14:14:21.047Z"
   },
   {
    "duration": 4685,
    "start_time": "2024-07-28T14:15:00.806Z"
   },
   {
    "duration": 90,
    "start_time": "2024-07-28T14:15:05.493Z"
   },
   {
    "duration": 27,
    "start_time": "2024-07-28T14:15:05.584Z"
   },
   {
    "duration": 17,
    "start_time": "2024-07-28T14:15:05.613Z"
   },
   {
    "duration": 31,
    "start_time": "2024-07-28T14:15:05.632Z"
   },
   {
    "duration": 35,
    "start_time": "2024-07-28T14:15:05.665Z"
   },
   {
    "duration": 39,
    "start_time": "2024-07-28T14:15:05.701Z"
   },
   {
    "duration": 13,
    "start_time": "2024-07-28T14:15:05.741Z"
   },
   {
    "duration": 8,
    "start_time": "2024-07-28T14:15:05.756Z"
   },
   {
    "duration": 13,
    "start_time": "2024-07-28T14:15:05.765Z"
   },
   {
    "duration": 11,
    "start_time": "2024-07-28T14:15:05.780Z"
   },
   {
    "duration": 29,
    "start_time": "2024-07-28T14:15:05.793Z"
   },
   {
    "duration": 11,
    "start_time": "2024-07-28T14:15:05.824Z"
   },
   {
    "duration": 7,
    "start_time": "2024-07-28T14:15:05.839Z"
   },
   {
    "duration": 9,
    "start_time": "2024-07-28T14:15:05.848Z"
   },
   {
    "duration": 28,
    "start_time": "2024-07-28T14:15:05.859Z"
   },
   {
    "duration": 6,
    "start_time": "2024-07-28T14:15:05.889Z"
   },
   {
    "duration": 12,
    "start_time": "2024-07-28T14:15:05.897Z"
   },
   {
    "duration": 9,
    "start_time": "2024-07-28T14:15:05.911Z"
   },
   {
    "duration": 6,
    "start_time": "2024-07-28T14:15:05.921Z"
   },
   {
    "duration": 1348,
    "start_time": "2024-07-28T14:15:05.928Z"
   },
   {
    "duration": 13,
    "start_time": "2024-07-28T14:15:07.278Z"
   },
   {
    "duration": 493,
    "start_time": "2024-07-28T14:15:07.292Z"
   },
   {
    "duration": 129,
    "start_time": "2024-07-28T14:15:07.787Z"
   },
   {
    "duration": 5,
    "start_time": "2024-07-28T14:15:07.919Z"
   },
   {
    "duration": 153,
    "start_time": "2024-07-28T14:15:07.926Z"
   },
   {
    "duration": 131,
    "start_time": "2024-07-28T14:15:08.081Z"
   },
   {
    "duration": 42,
    "start_time": "2024-07-28T14:15:08.214Z"
   },
   {
    "duration": 8,
    "start_time": "2024-07-28T14:15:08.257Z"
   },
   {
    "duration": 64,
    "start_time": "2024-07-28T14:15:08.266Z"
   },
   {
    "duration": 12,
    "start_time": "2024-07-28T14:15:08.332Z"
   },
   {
    "duration": 11,
    "start_time": "2024-07-28T14:15:08.345Z"
   },
   {
    "duration": 99,
    "start_time": "2024-07-28T14:15:08.358Z"
   },
   {
    "duration": 99,
    "start_time": "2024-07-28T14:15:08.459Z"
   },
   {
    "duration": 99,
    "start_time": "2024-07-28T14:15:08.560Z"
   },
   {
    "duration": 142,
    "start_time": "2024-07-28T14:15:08.660Z"
   },
   {
    "duration": 346,
    "start_time": "2024-07-28T14:15:08.804Z"
   },
   {
    "duration": 14,
    "start_time": "2024-07-28T14:15:09.155Z"
   },
   {
    "duration": 7,
    "start_time": "2024-07-28T14:15:09.171Z"
   },
   {
    "duration": 217,
    "start_time": "2024-07-28T14:15:09.180Z"
   },
   {
    "duration": 9,
    "start_time": "2024-07-28T14:15:09.401Z"
   },
   {
    "duration": 114,
    "start_time": "2024-07-28T14:15:09.412Z"
   },
   {
    "duration": 310,
    "start_time": "2024-07-28T14:15:09.528Z"
   },
   {
    "duration": 22,
    "start_time": "2024-07-28T14:15:09.840Z"
   },
   {
    "duration": 93,
    "start_time": "2024-07-28T14:15:09.864Z"
   },
   {
    "duration": 320,
    "start_time": "2024-07-28T14:15:09.958Z"
   },
   {
    "duration": 15,
    "start_time": "2024-07-28T14:15:10.280Z"
   },
   {
    "duration": 30,
    "start_time": "2024-07-28T14:15:10.297Z"
   },
   {
    "duration": 154,
    "start_time": "2024-07-28T14:15:10.329Z"
   },
   {
    "duration": 3,
    "start_time": "2024-07-28T14:15:10.485Z"
   },
   {
    "duration": 6,
    "start_time": "2024-07-28T14:15:13.062Z"
   },
   {
    "duration": 23,
    "start_time": "2024-07-28T14:15:26.604Z"
   },
   {
    "duration": 1356,
    "start_time": "2024-07-28T14:16:49.566Z"
   },
   {
    "duration": 5090,
    "start_time": "2024-07-28T14:17:08.173Z"
   },
   {
    "duration": 117,
    "start_time": "2024-07-28T14:17:13.265Z"
   },
   {
    "duration": 28,
    "start_time": "2024-07-28T14:17:13.384Z"
   },
   {
    "duration": 16,
    "start_time": "2024-07-28T14:17:13.456Z"
   },
   {
    "duration": 15,
    "start_time": "2024-07-28T14:17:13.474Z"
   },
   {
    "duration": 69,
    "start_time": "2024-07-28T14:17:13.491Z"
   },
   {
    "duration": 20,
    "start_time": "2024-07-28T14:17:13.562Z"
   },
   {
    "duration": 22,
    "start_time": "2024-07-28T14:17:13.583Z"
   },
   {
    "duration": 50,
    "start_time": "2024-07-28T14:17:13.606Z"
   },
   {
    "duration": 7,
    "start_time": "2024-07-28T14:17:13.658Z"
   },
   {
    "duration": 39,
    "start_time": "2024-07-28T14:17:13.667Z"
   },
   {
    "duration": 15,
    "start_time": "2024-07-28T14:17:13.709Z"
   },
   {
    "duration": 10,
    "start_time": "2024-07-28T14:17:13.726Z"
   },
   {
    "duration": 6,
    "start_time": "2024-07-28T14:17:13.739Z"
   },
   {
    "duration": 13,
    "start_time": "2024-07-28T14:17:13.747Z"
   },
   {
    "duration": 7,
    "start_time": "2024-07-28T14:17:13.762Z"
   },
   {
    "duration": 25,
    "start_time": "2024-07-28T14:17:13.770Z"
   },
   {
    "duration": 21,
    "start_time": "2024-07-28T14:17:13.797Z"
   },
   {
    "duration": 12,
    "start_time": "2024-07-28T14:17:13.820Z"
   },
   {
    "duration": 16,
    "start_time": "2024-07-28T14:17:13.834Z"
   },
   {
    "duration": 1375,
    "start_time": "2024-07-28T14:17:13.852Z"
   },
   {
    "duration": 13,
    "start_time": "2024-07-28T14:17:15.229Z"
   },
   {
    "duration": 446,
    "start_time": "2024-07-28T14:17:15.244Z"
   },
   {
    "duration": 120,
    "start_time": "2024-07-28T14:17:15.692Z"
   },
   {
    "duration": 4,
    "start_time": "2024-07-28T14:17:15.813Z"
   },
   {
    "duration": 129,
    "start_time": "2024-07-28T14:17:15.818Z"
   },
   {
    "duration": 134,
    "start_time": "2024-07-28T14:17:15.949Z"
   },
   {
    "duration": 34,
    "start_time": "2024-07-28T14:17:16.085Z"
   },
   {
    "duration": 8,
    "start_time": "2024-07-28T14:17:16.121Z"
   },
   {
    "duration": 55,
    "start_time": "2024-07-28T14:17:16.130Z"
   },
   {
    "duration": 12,
    "start_time": "2024-07-28T14:17:16.186Z"
   },
   {
    "duration": 11,
    "start_time": "2024-07-28T14:17:16.200Z"
   },
   {
    "duration": 106,
    "start_time": "2024-07-28T14:17:16.213Z"
   },
   {
    "duration": 101,
    "start_time": "2024-07-28T14:17:16.320Z"
   },
   {
    "duration": 102,
    "start_time": "2024-07-28T14:17:16.422Z"
   },
   {
    "duration": 141,
    "start_time": "2024-07-28T14:17:16.526Z"
   },
   {
    "duration": 352,
    "start_time": "2024-07-28T14:17:16.668Z"
   },
   {
    "duration": 16,
    "start_time": "2024-07-28T14:17:17.021Z"
   },
   {
    "duration": 19,
    "start_time": "2024-07-28T14:17:17.039Z"
   },
   {
    "duration": 227,
    "start_time": "2024-07-28T14:17:17.060Z"
   },
   {
    "duration": 8,
    "start_time": "2024-07-28T14:17:17.293Z"
   },
   {
    "duration": 113,
    "start_time": "2024-07-28T14:17:17.303Z"
   },
   {
    "duration": 344,
    "start_time": "2024-07-28T14:17:17.418Z"
   },
   {
    "duration": 16,
    "start_time": "2024-07-28T14:17:17.763Z"
   },
   {
    "duration": 107,
    "start_time": "2024-07-28T14:17:17.781Z"
   },
   {
    "duration": 329,
    "start_time": "2024-07-28T14:17:17.890Z"
   },
   {
    "duration": 15,
    "start_time": "2024-07-28T14:17:18.221Z"
   },
   {
    "duration": 35,
    "start_time": "2024-07-28T14:17:18.238Z"
   },
   {
    "duration": 153,
    "start_time": "2024-07-28T14:17:18.274Z"
   },
   {
    "duration": 3,
    "start_time": "2024-07-28T14:17:18.429Z"
   },
   {
    "duration": 15,
    "start_time": "2024-07-28T14:17:18.433Z"
   },
   {
    "duration": 22,
    "start_time": "2024-07-28T14:17:18.454Z"
   },
   {
    "duration": 12,
    "start_time": "2024-07-28T14:17:18.478Z"
   },
   {
    "duration": 1329,
    "start_time": "2024-07-28T14:17:18.491Z"
   },
   {
    "duration": 9,
    "start_time": "2024-07-28T14:17:19.821Z"
   },
   {
    "duration": 23,
    "start_time": "2024-07-28T14:17:19.832Z"
   },
   {
    "duration": 4,
    "start_time": "2024-07-28T14:17:19.857Z"
   },
   {
    "duration": 21,
    "start_time": "2024-07-28T14:17:19.862Z"
   },
   {
    "duration": 7,
    "start_time": "2024-07-28T14:17:19.884Z"
   },
   {
    "duration": 14,
    "start_time": "2024-07-28T14:17:19.893Z"
   },
   {
    "duration": 7653,
    "start_time": "2024-07-28T14:17:19.909Z"
   },
   {
    "duration": 0,
    "start_time": "2024-07-28T14:17:27.565Z"
   },
   {
    "duration": 0,
    "start_time": "2024-07-28T14:17:27.566Z"
   },
   {
    "duration": 0,
    "start_time": "2024-07-28T14:17:27.567Z"
   },
   {
    "duration": 0,
    "start_time": "2024-07-28T14:17:27.570Z"
   },
   {
    "duration": 0,
    "start_time": "2024-07-28T14:17:27.571Z"
   },
   {
    "duration": 0,
    "start_time": "2024-07-28T14:17:27.573Z"
   },
   {
    "duration": 0,
    "start_time": "2024-07-28T14:17:27.574Z"
   },
   {
    "duration": 0,
    "start_time": "2024-07-28T14:17:27.576Z"
   },
   {
    "duration": 0,
    "start_time": "2024-07-28T14:17:27.577Z"
   },
   {
    "duration": 0,
    "start_time": "2024-07-28T14:17:27.579Z"
   },
   {
    "duration": 12,
    "start_time": "2024-07-28T14:19:02.296Z"
   },
   {
    "duration": 18,
    "start_time": "2024-07-28T14:19:11.621Z"
   },
   {
    "duration": 5,
    "start_time": "2024-07-28T14:26:16.255Z"
   },
   {
    "duration": 16,
    "start_time": "2024-07-28T14:27:53.048Z"
   },
   {
    "duration": 29,
    "start_time": "2024-07-28T14:27:57.792Z"
   },
   {
    "duration": 15,
    "start_time": "2024-07-28T14:28:46.169Z"
   },
   {
    "duration": 12,
    "start_time": "2024-07-28T14:33:30.398Z"
   },
   {
    "duration": 5,
    "start_time": "2024-07-28T14:34:06.700Z"
   },
   {
    "duration": 4,
    "start_time": "2024-07-28T14:42:52.543Z"
   },
   {
    "duration": 3,
    "start_time": "2024-07-28T14:44:35.533Z"
   },
   {
    "duration": 3,
    "start_time": "2024-07-28T14:44:36.233Z"
   },
   {
    "duration": 6,
    "start_time": "2024-07-28T14:44:36.936Z"
   },
   {
    "duration": 4,
    "start_time": "2024-07-28T14:44:38.474Z"
   },
   {
    "duration": 6683,
    "start_time": "2024-07-28T14:44:39.062Z"
   },
   {
    "duration": 4591,
    "start_time": "2024-07-28T14:44:56.242Z"
   },
   {
    "duration": 91,
    "start_time": "2024-07-28T14:45:00.836Z"
   },
   {
    "duration": 26,
    "start_time": "2024-07-28T14:45:00.929Z"
   },
   {
    "duration": 239,
    "start_time": "2024-07-28T14:45:00.957Z"
   },
   {
    "duration": 63,
    "start_time": "2024-07-28T14:45:01.198Z"
   },
   {
    "duration": 92,
    "start_time": "2024-07-28T14:45:01.263Z"
   },
   {
    "duration": 39,
    "start_time": "2024-07-28T14:45:01.357Z"
   },
   {
    "duration": 70,
    "start_time": "2024-07-28T14:45:01.398Z"
   },
   {
    "duration": 148,
    "start_time": "2024-07-28T14:45:01.470Z"
   },
   {
    "duration": 83,
    "start_time": "2024-07-28T14:45:01.621Z"
   },
   {
    "duration": 47,
    "start_time": "2024-07-28T14:45:01.705Z"
   },
   {
    "duration": 66,
    "start_time": "2024-07-28T14:45:01.754Z"
   },
   {
    "duration": 39,
    "start_time": "2024-07-28T14:45:01.822Z"
   },
   {
    "duration": 96,
    "start_time": "2024-07-28T14:45:01.862Z"
   },
   {
    "duration": 78,
    "start_time": "2024-07-28T14:45:01.960Z"
   },
   {
    "duration": 14,
    "start_time": "2024-07-28T14:45:02.040Z"
   },
   {
    "duration": 86,
    "start_time": "2024-07-28T14:45:02.056Z"
   },
   {
    "duration": 18,
    "start_time": "2024-07-28T14:45:02.144Z"
   },
   {
    "duration": 47,
    "start_time": "2024-07-28T14:45:02.163Z"
   },
   {
    "duration": 37,
    "start_time": "2024-07-28T14:45:02.212Z"
   },
   {
    "duration": 1321,
    "start_time": "2024-07-28T14:45:02.251Z"
   },
   {
    "duration": 14,
    "start_time": "2024-07-28T14:45:03.574Z"
   },
   {
    "duration": 434,
    "start_time": "2024-07-28T14:45:03.589Z"
   },
   {
    "duration": 132,
    "start_time": "2024-07-28T14:45:04.025Z"
   },
   {
    "duration": 4,
    "start_time": "2024-07-28T14:45:04.159Z"
   },
   {
    "duration": 130,
    "start_time": "2024-07-28T14:45:04.165Z"
   },
   {
    "duration": 134,
    "start_time": "2024-07-28T14:45:04.297Z"
   },
   {
    "duration": 40,
    "start_time": "2024-07-28T14:45:04.435Z"
   },
   {
    "duration": 7,
    "start_time": "2024-07-28T14:45:04.476Z"
   },
   {
    "duration": 41,
    "start_time": "2024-07-28T14:45:04.485Z"
   },
   {
    "duration": 29,
    "start_time": "2024-07-28T14:45:04.527Z"
   },
   {
    "duration": 9,
    "start_time": "2024-07-28T14:45:04.558Z"
   },
   {
    "duration": 101,
    "start_time": "2024-07-28T14:45:04.569Z"
   },
   {
    "duration": 100,
    "start_time": "2024-07-28T14:45:04.672Z"
   },
   {
    "duration": 104,
    "start_time": "2024-07-28T14:45:04.774Z"
   },
   {
    "duration": 153,
    "start_time": "2024-07-28T14:45:04.880Z"
   },
   {
    "duration": 339,
    "start_time": "2024-07-28T14:45:05.035Z"
   },
   {
    "duration": 15,
    "start_time": "2024-07-28T14:45:05.375Z"
   },
   {
    "duration": 5,
    "start_time": "2024-07-28T14:45:05.392Z"
   },
   {
    "duration": 206,
    "start_time": "2024-07-28T14:45:05.398Z"
   },
   {
    "duration": 8,
    "start_time": "2024-07-28T14:45:05.605Z"
   },
   {
    "duration": 103,
    "start_time": "2024-07-28T14:45:05.615Z"
   },
   {
    "duration": 322,
    "start_time": "2024-07-28T14:45:05.720Z"
   },
   {
    "duration": 24,
    "start_time": "2024-07-28T14:45:06.044Z"
   },
   {
    "duration": 101,
    "start_time": "2024-07-28T14:45:06.069Z"
   },
   {
    "duration": 432,
    "start_time": "2024-07-28T14:45:06.172Z"
   },
   {
    "duration": 15,
    "start_time": "2024-07-28T14:45:06.606Z"
   },
   {
    "duration": 36,
    "start_time": "2024-07-28T14:45:06.622Z"
   },
   {
    "duration": 20,
    "start_time": "2024-07-28T14:45:06.659Z"
   },
   {
    "duration": 3,
    "start_time": "2024-07-28T14:45:06.681Z"
   },
   {
    "duration": 12,
    "start_time": "2024-07-28T14:45:06.686Z"
   },
   {
    "duration": 24,
    "start_time": "2024-07-28T14:45:06.699Z"
   },
   {
    "duration": 37,
    "start_time": "2024-07-28T14:45:06.725Z"
   },
   {
    "duration": 1354,
    "start_time": "2024-07-28T14:45:06.764Z"
   },
   {
    "duration": 10,
    "start_time": "2024-07-28T14:45:08.120Z"
   },
   {
    "duration": 32,
    "start_time": "2024-07-28T14:45:08.132Z"
   },
   {
    "duration": 14,
    "start_time": "2024-07-28T14:45:08.165Z"
   },
   {
    "duration": 16,
    "start_time": "2024-07-28T14:45:08.181Z"
   },
   {
    "duration": 10,
    "start_time": "2024-07-28T14:45:08.199Z"
   },
   {
    "duration": 6,
    "start_time": "2024-07-28T14:45:08.210Z"
   },
   {
    "duration": 16,
    "start_time": "2024-07-28T14:45:08.218Z"
   },
   {
    "duration": 7424,
    "start_time": "2024-07-28T14:45:08.236Z"
   },
   {
    "duration": 0,
    "start_time": "2024-07-28T14:45:15.662Z"
   },
   {
    "duration": 0,
    "start_time": "2024-07-28T14:45:15.664Z"
   },
   {
    "duration": 0,
    "start_time": "2024-07-28T14:45:15.665Z"
   },
   {
    "duration": 0,
    "start_time": "2024-07-28T14:45:15.667Z"
   },
   {
    "duration": 0,
    "start_time": "2024-07-28T14:45:15.668Z"
   },
   {
    "duration": 0,
    "start_time": "2024-07-28T14:45:15.670Z"
   },
   {
    "duration": 0,
    "start_time": "2024-07-28T14:45:15.671Z"
   },
   {
    "duration": 0,
    "start_time": "2024-07-28T14:45:15.673Z"
   },
   {
    "duration": 0,
    "start_time": "2024-07-28T14:45:15.674Z"
   },
   {
    "duration": 0,
    "start_time": "2024-07-28T14:45:15.675Z"
   },
   {
    "duration": 3,
    "start_time": "2024-07-28T14:45:47.384Z"
   },
   {
    "duration": 3,
    "start_time": "2024-07-28T14:45:49.688Z"
   },
   {
    "duration": 4,
    "start_time": "2024-07-28T14:45:50.262Z"
   },
   {
    "duration": 5,
    "start_time": "2024-07-28T14:45:50.882Z"
   },
   {
    "duration": 3,
    "start_time": "2024-07-28T14:45:51.670Z"
   },
   {
    "duration": 593,
    "start_time": "2024-07-28T14:45:52.222Z"
   },
   {
    "duration": 18,
    "start_time": "2024-07-28T14:47:07.708Z"
   },
   {
    "duration": 4570,
    "start_time": "2024-07-28T14:48:31.786Z"
   },
   {
    "duration": 89,
    "start_time": "2024-07-28T14:48:36.359Z"
   },
   {
    "duration": 27,
    "start_time": "2024-07-28T14:48:36.449Z"
   },
   {
    "duration": 32,
    "start_time": "2024-07-28T14:48:36.478Z"
   },
   {
    "duration": 16,
    "start_time": "2024-07-28T14:48:36.512Z"
   },
   {
    "duration": 33,
    "start_time": "2024-07-28T14:48:36.530Z"
   },
   {
    "duration": 23,
    "start_time": "2024-07-28T14:48:36.565Z"
   },
   {
    "duration": 14,
    "start_time": "2024-07-28T14:48:36.590Z"
   },
   {
    "duration": 11,
    "start_time": "2024-07-28T14:48:36.605Z"
   },
   {
    "duration": 6,
    "start_time": "2024-07-28T14:48:36.619Z"
   },
   {
    "duration": 8,
    "start_time": "2024-07-28T14:48:36.627Z"
   },
   {
    "duration": 24,
    "start_time": "2024-07-28T14:48:36.637Z"
   },
   {
    "duration": 81,
    "start_time": "2024-07-28T14:48:36.663Z"
   },
   {
    "duration": 14,
    "start_time": "2024-07-28T14:48:36.746Z"
   },
   {
    "duration": 14,
    "start_time": "2024-07-28T14:48:36.762Z"
   },
   {
    "duration": 28,
    "start_time": "2024-07-28T14:48:36.777Z"
   },
   {
    "duration": 9,
    "start_time": "2024-07-28T14:48:36.806Z"
   },
   {
    "duration": 8,
    "start_time": "2024-07-28T14:48:36.817Z"
   },
   {
    "duration": 16,
    "start_time": "2024-07-28T14:48:36.826Z"
   },
   {
    "duration": 6,
    "start_time": "2024-07-28T14:48:36.843Z"
   },
   {
    "duration": 1373,
    "start_time": "2024-07-28T14:48:36.851Z"
   },
   {
    "duration": 13,
    "start_time": "2024-07-28T14:48:38.225Z"
   },
   {
    "duration": 432,
    "start_time": "2024-07-28T14:48:38.241Z"
   },
   {
    "duration": 196,
    "start_time": "2024-07-28T14:48:38.675Z"
   },
   {
    "duration": 4,
    "start_time": "2024-07-28T14:48:38.873Z"
   },
   {
    "duration": 296,
    "start_time": "2024-07-28T14:48:38.878Z"
   },
   {
    "duration": 280,
    "start_time": "2024-07-28T14:48:39.176Z"
   },
   {
    "duration": 33,
    "start_time": "2024-07-28T14:48:39.460Z"
   },
   {
    "duration": 60,
    "start_time": "2024-07-28T14:48:39.495Z"
   },
   {
    "duration": 34,
    "start_time": "2024-07-28T14:48:39.557Z"
   },
   {
    "duration": 64,
    "start_time": "2024-07-28T14:48:39.592Z"
   },
   {
    "duration": 3,
    "start_time": "2024-07-28T14:48:39.658Z"
   },
   {
    "duration": 195,
    "start_time": "2024-07-28T14:48:39.663Z"
   },
   {
    "duration": 197,
    "start_time": "2024-07-28T14:48:39.860Z"
   },
   {
    "duration": 197,
    "start_time": "2024-07-28T14:48:40.059Z"
   },
   {
    "duration": 158,
    "start_time": "2024-07-28T14:48:40.258Z"
   },
   {
    "duration": 334,
    "start_time": "2024-07-28T14:48:40.417Z"
   },
   {
    "duration": 16,
    "start_time": "2024-07-28T14:48:40.752Z"
   },
   {
    "duration": 5,
    "start_time": "2024-07-28T14:48:40.770Z"
   },
   {
    "duration": 199,
    "start_time": "2024-07-28T14:48:40.777Z"
   },
   {
    "duration": 9,
    "start_time": "2024-07-28T14:48:40.978Z"
   },
   {
    "duration": 174,
    "start_time": "2024-07-28T14:48:40.988Z"
   },
   {
    "duration": 311,
    "start_time": "2024-07-28T14:48:41.165Z"
   },
   {
    "duration": 15,
    "start_time": "2024-07-28T14:48:41.478Z"
   },
   {
    "duration": 104,
    "start_time": "2024-07-28T14:48:41.494Z"
   },
   {
    "duration": 455,
    "start_time": "2024-07-28T14:48:41.600Z"
   },
   {
    "duration": 16,
    "start_time": "2024-07-28T14:48:42.057Z"
   },
   {
    "duration": 21,
    "start_time": "2024-07-28T14:48:42.075Z"
   },
   {
    "duration": 20,
    "start_time": "2024-07-28T14:48:42.098Z"
   },
   {
    "duration": 34,
    "start_time": "2024-07-28T14:48:42.121Z"
   },
   {
    "duration": 6,
    "start_time": "2024-07-28T14:48:42.158Z"
   },
   {
    "duration": 24,
    "start_time": "2024-07-28T14:48:42.166Z"
   },
   {
    "duration": 17,
    "start_time": "2024-07-28T14:48:42.192Z"
   },
   {
    "duration": 1299,
    "start_time": "2024-07-28T14:48:42.211Z"
   },
   {
    "duration": 12,
    "start_time": "2024-07-28T14:48:43.512Z"
   },
   {
    "duration": 34,
    "start_time": "2024-07-28T14:48:43.526Z"
   },
   {
    "duration": 4,
    "start_time": "2024-07-28T14:48:43.562Z"
   },
   {
    "duration": 5,
    "start_time": "2024-07-28T14:48:43.568Z"
   },
   {
    "duration": 4,
    "start_time": "2024-07-28T14:48:43.575Z"
   },
   {
    "duration": 22,
    "start_time": "2024-07-28T14:48:43.580Z"
   },
   {
    "duration": 6,
    "start_time": "2024-07-28T14:48:43.604Z"
   },
   {
    "duration": 692,
    "start_time": "2024-07-28T14:48:43.611Z"
   },
   {
    "duration": 0,
    "start_time": "2024-07-28T14:48:44.305Z"
   },
   {
    "duration": 0,
    "start_time": "2024-07-28T14:48:44.306Z"
   },
   {
    "duration": 0,
    "start_time": "2024-07-28T14:48:44.307Z"
   },
   {
    "duration": 0,
    "start_time": "2024-07-28T14:48:44.308Z"
   },
   {
    "duration": 0,
    "start_time": "2024-07-28T14:48:44.309Z"
   },
   {
    "duration": 0,
    "start_time": "2024-07-28T14:48:44.310Z"
   },
   {
    "duration": 0,
    "start_time": "2024-07-28T14:48:44.312Z"
   },
   {
    "duration": 0,
    "start_time": "2024-07-28T14:48:44.313Z"
   },
   {
    "duration": 0,
    "start_time": "2024-07-28T14:48:44.314Z"
   },
   {
    "duration": 0,
    "start_time": "2024-07-28T14:48:44.315Z"
   },
   {
    "duration": 25,
    "start_time": "2024-07-28T14:49:35.759Z"
   },
   {
    "duration": 4543,
    "start_time": "2024-07-28T14:50:30.354Z"
   },
   {
    "duration": 90,
    "start_time": "2024-07-28T14:50:34.899Z"
   },
   {
    "duration": 26,
    "start_time": "2024-07-28T14:50:34.991Z"
   },
   {
    "duration": 64,
    "start_time": "2024-07-28T14:50:35.020Z"
   },
   {
    "duration": 15,
    "start_time": "2024-07-28T14:50:35.086Z"
   },
   {
    "duration": 15,
    "start_time": "2024-07-28T14:50:35.103Z"
   },
   {
    "duration": 15,
    "start_time": "2024-07-28T14:50:35.120Z"
   },
   {
    "duration": 23,
    "start_time": "2024-07-28T14:50:35.136Z"
   },
   {
    "duration": 8,
    "start_time": "2024-07-28T14:50:35.161Z"
   },
   {
    "duration": 7,
    "start_time": "2024-07-28T14:50:35.173Z"
   },
   {
    "duration": 12,
    "start_time": "2024-07-28T14:50:35.182Z"
   },
   {
    "duration": 8,
    "start_time": "2024-07-28T14:50:35.197Z"
   },
   {
    "duration": 25,
    "start_time": "2024-07-28T14:50:35.207Z"
   },
   {
    "duration": 26,
    "start_time": "2024-07-28T14:50:35.234Z"
   },
   {
    "duration": 11,
    "start_time": "2024-07-28T14:50:35.262Z"
   },
   {
    "duration": 6,
    "start_time": "2024-07-28T14:50:35.274Z"
   },
   {
    "duration": 12,
    "start_time": "2024-07-28T14:50:35.282Z"
   },
   {
    "duration": 11,
    "start_time": "2024-07-28T14:50:35.295Z"
   },
   {
    "duration": 16,
    "start_time": "2024-07-28T14:50:35.307Z"
   },
   {
    "duration": 15,
    "start_time": "2024-07-28T14:50:35.325Z"
   },
   {
    "duration": 1340,
    "start_time": "2024-07-28T14:50:35.341Z"
   },
   {
    "duration": 13,
    "start_time": "2024-07-28T14:50:36.683Z"
   },
   {
    "duration": 469,
    "start_time": "2024-07-28T14:50:36.698Z"
   },
   {
    "duration": 120,
    "start_time": "2024-07-28T14:50:37.169Z"
   },
   {
    "duration": 4,
    "start_time": "2024-07-28T14:50:37.291Z"
   },
   {
    "duration": 138,
    "start_time": "2024-07-28T14:50:37.296Z"
   },
   {
    "duration": 152,
    "start_time": "2024-07-28T14:50:37.443Z"
   },
   {
    "duration": 43,
    "start_time": "2024-07-28T14:50:37.600Z"
   },
   {
    "duration": 8,
    "start_time": "2024-07-28T14:50:37.656Z"
   },
   {
    "duration": 36,
    "start_time": "2024-07-28T14:50:37.665Z"
   },
   {
    "duration": 12,
    "start_time": "2024-07-28T14:50:37.702Z"
   },
   {
    "duration": 8,
    "start_time": "2024-07-28T14:50:37.716Z"
   },
   {
    "duration": 117,
    "start_time": "2024-07-28T14:50:37.726Z"
   },
   {
    "duration": 95,
    "start_time": "2024-07-28T14:50:37.844Z"
   },
   {
    "duration": 100,
    "start_time": "2024-07-28T14:50:37.941Z"
   },
   {
    "duration": 149,
    "start_time": "2024-07-28T14:50:38.043Z"
   },
   {
    "duration": 333,
    "start_time": "2024-07-28T14:50:38.194Z"
   },
   {
    "duration": 26,
    "start_time": "2024-07-28T14:50:38.529Z"
   },
   {
    "duration": 5,
    "start_time": "2024-07-28T14:50:38.557Z"
   },
   {
    "duration": 199,
    "start_time": "2024-07-28T14:50:38.564Z"
   },
   {
    "duration": 9,
    "start_time": "2024-07-28T14:50:38.764Z"
   },
   {
    "duration": 134,
    "start_time": "2024-07-28T14:50:38.775Z"
   },
   {
    "duration": 328,
    "start_time": "2024-07-28T14:50:38.910Z"
   },
   {
    "duration": 21,
    "start_time": "2024-07-28T14:50:39.239Z"
   },
   {
    "duration": 96,
    "start_time": "2024-07-28T14:50:39.261Z"
   },
   {
    "duration": 428,
    "start_time": "2024-07-28T14:50:39.358Z"
   },
   {
    "duration": 15,
    "start_time": "2024-07-28T14:50:39.787Z"
   },
   {
    "duration": 35,
    "start_time": "2024-07-28T14:50:39.803Z"
   },
   {
    "duration": 26,
    "start_time": "2024-07-28T14:50:39.840Z"
   },
   {
    "duration": 2,
    "start_time": "2024-07-28T14:50:39.868Z"
   },
   {
    "duration": 16,
    "start_time": "2024-07-28T14:50:39.872Z"
   },
   {
    "duration": 35,
    "start_time": "2024-07-28T14:50:39.890Z"
   },
   {
    "duration": 28,
    "start_time": "2024-07-28T14:50:39.927Z"
   },
   {
    "duration": 1263,
    "start_time": "2024-07-28T14:50:39.957Z"
   },
   {
    "duration": 8,
    "start_time": "2024-07-28T14:50:41.222Z"
   },
   {
    "duration": 28,
    "start_time": "2024-07-28T14:50:41.232Z"
   },
   {
    "duration": 21,
    "start_time": "2024-07-28T14:50:41.262Z"
   },
   {
    "duration": 20,
    "start_time": "2024-07-28T14:50:41.284Z"
   },
   {
    "duration": 17,
    "start_time": "2024-07-28T14:50:41.305Z"
   },
   {
    "duration": 11,
    "start_time": "2024-07-28T14:50:41.324Z"
   },
   {
    "duration": 25,
    "start_time": "2024-07-28T14:50:41.336Z"
   },
   {
    "duration": 5492,
    "start_time": "2024-07-28T14:50:41.363Z"
   },
   {
    "duration": 17,
    "start_time": "2024-07-28T14:50:46.857Z"
   },
   {
    "duration": 15679,
    "start_time": "2024-07-28T14:50:46.877Z"
   },
   {
    "duration": 647,
    "start_time": "2024-07-28T14:51:02.559Z"
   },
   {
    "duration": 11,
    "start_time": "2024-07-28T14:51:03.208Z"
   },
   {
    "duration": 247,
    "start_time": "2024-07-28T14:51:03.221Z"
   },
   {
    "duration": 17,
    "start_time": "2024-07-28T14:51:03.470Z"
   },
   {
    "duration": 167,
    "start_time": "2024-07-28T14:51:03.489Z"
   },
   {
    "duration": 0,
    "start_time": "2024-07-28T14:51:03.659Z"
   },
   {
    "duration": 0,
    "start_time": "2024-07-28T14:51:03.660Z"
   },
   {
    "duration": 0,
    "start_time": "2024-07-28T14:51:03.661Z"
   },
   {
    "duration": 5,
    "start_time": "2024-07-28T14:52:21.909Z"
   },
   {
    "duration": 3,
    "start_time": "2024-07-28T14:52:22.267Z"
   },
   {
    "duration": 4878,
    "start_time": "2024-07-28T14:52:22.778Z"
   },
   {
    "duration": 3,
    "start_time": "2024-07-28T14:52:54.309Z"
   },
   {
    "duration": 4717,
    "start_time": "2024-07-28T14:52:57.047Z"
   },
   {
    "duration": 5,
    "start_time": "2024-07-28T14:53:22.025Z"
   },
   {
    "duration": 3,
    "start_time": "2024-07-28T14:53:22.368Z"
   },
   {
    "duration": 7300,
    "start_time": "2024-07-28T14:53:22.856Z"
   },
   {
    "duration": 56,
    "start_time": "2024-07-28T14:59:53.171Z"
   },
   {
    "duration": 7173,
    "start_time": "2024-07-28T15:03:04.683Z"
   },
   {
    "duration": 5,
    "start_time": "2024-07-28T15:03:22.798Z"
   },
   {
    "duration": 4,
    "start_time": "2024-07-28T15:03:23.148Z"
   },
   {
    "duration": 2842,
    "start_time": "2024-07-28T15:03:23.415Z"
   },
   {
    "duration": 2851,
    "start_time": "2024-07-28T15:03:36.013Z"
   },
   {
    "duration": 4541,
    "start_time": "2024-07-28T15:11:35.344Z"
   },
   {
    "duration": 89,
    "start_time": "2024-07-28T15:11:39.887Z"
   },
   {
    "duration": 28,
    "start_time": "2024-07-28T15:11:39.977Z"
   },
   {
    "duration": 16,
    "start_time": "2024-07-28T15:11:40.007Z"
   },
   {
    "duration": 14,
    "start_time": "2024-07-28T15:11:40.025Z"
   },
   {
    "duration": 35,
    "start_time": "2024-07-28T15:11:40.041Z"
   },
   {
    "duration": 41,
    "start_time": "2024-07-28T15:11:40.078Z"
   },
   {
    "duration": 16,
    "start_time": "2024-07-28T15:11:40.121Z"
   },
   {
    "duration": 7,
    "start_time": "2024-07-28T15:11:40.139Z"
   },
   {
    "duration": 9,
    "start_time": "2024-07-28T15:11:40.149Z"
   },
   {
    "duration": 17,
    "start_time": "2024-07-28T15:11:40.160Z"
   },
   {
    "duration": 12,
    "start_time": "2024-07-28T15:11:40.179Z"
   },
   {
    "duration": 20,
    "start_time": "2024-07-28T15:11:40.193Z"
   },
   {
    "duration": 9,
    "start_time": "2024-07-28T15:11:40.215Z"
   },
   {
    "duration": 12,
    "start_time": "2024-07-28T15:11:40.226Z"
   },
   {
    "duration": 12,
    "start_time": "2024-07-28T15:11:40.240Z"
   },
   {
    "duration": 10,
    "start_time": "2024-07-28T15:11:40.260Z"
   },
   {
    "duration": 13,
    "start_time": "2024-07-28T15:11:40.272Z"
   },
   {
    "duration": 10,
    "start_time": "2024-07-28T15:11:40.286Z"
   },
   {
    "duration": 22,
    "start_time": "2024-07-28T15:11:40.297Z"
   },
   {
    "duration": 1373,
    "start_time": "2024-07-28T15:11:40.321Z"
   },
   {
    "duration": 13,
    "start_time": "2024-07-28T15:11:41.696Z"
   },
   {
    "duration": 453,
    "start_time": "2024-07-28T15:11:41.711Z"
   },
   {
    "duration": 124,
    "start_time": "2024-07-28T15:11:42.167Z"
   },
   {
    "duration": 5,
    "start_time": "2024-07-28T15:11:42.293Z"
   },
   {
    "duration": 131,
    "start_time": "2024-07-28T15:11:42.300Z"
   },
   {
    "duration": 150,
    "start_time": "2024-07-28T15:11:42.433Z"
   },
   {
    "duration": 36,
    "start_time": "2024-07-28T15:11:42.588Z"
   },
   {
    "duration": 29,
    "start_time": "2024-07-28T15:11:42.626Z"
   },
   {
    "duration": 35,
    "start_time": "2024-07-28T15:11:42.657Z"
   },
   {
    "duration": 12,
    "start_time": "2024-07-28T15:11:42.694Z"
   },
   {
    "duration": 25,
    "start_time": "2024-07-28T15:11:42.709Z"
   },
   {
    "duration": 107,
    "start_time": "2024-07-28T15:11:42.736Z"
   },
   {
    "duration": 111,
    "start_time": "2024-07-28T15:11:42.845Z"
   },
   {
    "duration": 103,
    "start_time": "2024-07-28T15:11:42.958Z"
   },
   {
    "duration": 149,
    "start_time": "2024-07-28T15:11:43.063Z"
   },
   {
    "duration": 345,
    "start_time": "2024-07-28T15:11:43.213Z"
   },
   {
    "duration": 16,
    "start_time": "2024-07-28T15:11:43.560Z"
   },
   {
    "duration": 5,
    "start_time": "2024-07-28T15:11:43.577Z"
   },
   {
    "duration": 202,
    "start_time": "2024-07-28T15:11:43.584Z"
   },
   {
    "duration": 8,
    "start_time": "2024-07-28T15:11:43.787Z"
   },
   {
    "duration": 102,
    "start_time": "2024-07-28T15:11:43.797Z"
   },
   {
    "duration": 305,
    "start_time": "2024-07-28T15:11:43.900Z"
   },
   {
    "duration": 15,
    "start_time": "2024-07-28T15:11:44.207Z"
   },
   {
    "duration": 104,
    "start_time": "2024-07-28T15:11:44.224Z"
   },
   {
    "duration": 465,
    "start_time": "2024-07-28T15:11:44.330Z"
   },
   {
    "duration": 17,
    "start_time": "2024-07-28T15:11:44.797Z"
   },
   {
    "duration": 42,
    "start_time": "2024-07-28T15:11:44.816Z"
   },
   {
    "duration": 21,
    "start_time": "2024-07-28T15:11:44.860Z"
   },
   {
    "duration": 3,
    "start_time": "2024-07-28T15:11:44.883Z"
   },
   {
    "duration": 19,
    "start_time": "2024-07-28T15:11:44.887Z"
   },
   {
    "duration": 28,
    "start_time": "2024-07-28T15:11:44.908Z"
   },
   {
    "duration": 29,
    "start_time": "2024-07-28T15:11:44.937Z"
   },
   {
    "duration": 1292,
    "start_time": "2024-07-28T15:11:44.968Z"
   },
   {
    "duration": 11,
    "start_time": "2024-07-28T15:11:46.262Z"
   },
   {
    "duration": 45,
    "start_time": "2024-07-28T15:11:46.275Z"
   },
   {
    "duration": 4,
    "start_time": "2024-07-28T15:11:46.322Z"
   },
   {
    "duration": 8,
    "start_time": "2024-07-28T15:11:46.327Z"
   },
   {
    "duration": 25,
    "start_time": "2024-07-28T15:11:46.337Z"
   },
   {
    "duration": 11,
    "start_time": "2024-07-28T15:11:46.363Z"
   },
   {
    "duration": 6,
    "start_time": "2024-07-28T15:11:46.376Z"
   },
   {
    "duration": 2770,
    "start_time": "2024-07-28T15:11:46.384Z"
   },
   {
    "duration": 19,
    "start_time": "2024-07-28T15:11:49.157Z"
   },
   {
    "duration": 13996,
    "start_time": "2024-07-28T15:11:49.178Z"
   },
   {
    "duration": 634,
    "start_time": "2024-07-28T15:12:03.257Z"
   },
   {
    "duration": 13,
    "start_time": "2024-07-28T15:12:03.892Z"
   },
   {
    "duration": 253,
    "start_time": "2024-07-28T15:12:03.907Z"
   },
   {
    "duration": 17,
    "start_time": "2024-07-28T15:12:04.162Z"
   },
   {
    "duration": 155,
    "start_time": "2024-07-28T15:12:04.181Z"
   },
   {
    "duration": 0,
    "start_time": "2024-07-28T15:12:04.338Z"
   },
   {
    "duration": 0,
    "start_time": "2024-07-28T15:12:04.339Z"
   },
   {
    "duration": 0,
    "start_time": "2024-07-28T15:12:04.340Z"
   },
   {
    "duration": 2973,
    "start_time": "2024-07-28T15:17:59.486Z"
   },
   {
    "duration": 2589,
    "start_time": "2024-07-28T15:18:28.674Z"
   },
   {
    "duration": 610,
    "start_time": "2024-07-28T15:19:02.524Z"
   },
   {
    "duration": 4497,
    "start_time": "2024-07-28T15:19:19.653Z"
   },
   {
    "duration": 89,
    "start_time": "2024-07-28T15:19:24.154Z"
   },
   {
    "duration": 25,
    "start_time": "2024-07-28T15:19:24.245Z"
   },
   {
    "duration": 16,
    "start_time": "2024-07-28T15:19:24.272Z"
   },
   {
    "duration": 14,
    "start_time": "2024-07-28T15:19:24.289Z"
   },
   {
    "duration": 14,
    "start_time": "2024-07-28T15:19:24.305Z"
   },
   {
    "duration": 47,
    "start_time": "2024-07-28T15:19:24.320Z"
   },
   {
    "duration": 6,
    "start_time": "2024-07-28T15:19:24.369Z"
   },
   {
    "duration": 28,
    "start_time": "2024-07-28T15:19:24.377Z"
   },
   {
    "duration": 9,
    "start_time": "2024-07-28T15:19:24.409Z"
   },
   {
    "duration": 9,
    "start_time": "2024-07-28T15:19:24.420Z"
   },
   {
    "duration": 19,
    "start_time": "2024-07-28T15:19:24.431Z"
   },
   {
    "duration": 21,
    "start_time": "2024-07-28T15:19:24.451Z"
   },
   {
    "duration": 42,
    "start_time": "2024-07-28T15:19:24.483Z"
   },
   {
    "duration": 23,
    "start_time": "2024-07-28T15:19:24.527Z"
   },
   {
    "duration": 15,
    "start_time": "2024-07-28T15:19:24.552Z"
   },
   {
    "duration": 7,
    "start_time": "2024-07-28T15:19:24.569Z"
   },
   {
    "duration": 28,
    "start_time": "2024-07-28T15:19:24.578Z"
   },
   {
    "duration": 16,
    "start_time": "2024-07-28T15:19:24.608Z"
   },
   {
    "duration": 5,
    "start_time": "2024-07-28T15:19:24.626Z"
   },
   {
    "duration": 1371,
    "start_time": "2024-07-28T15:19:24.633Z"
   },
   {
    "duration": 13,
    "start_time": "2024-07-28T15:19:26.006Z"
   },
   {
    "duration": 438,
    "start_time": "2024-07-28T15:19:26.021Z"
   },
   {
    "duration": 127,
    "start_time": "2024-07-28T15:19:26.461Z"
   },
   {
    "duration": 4,
    "start_time": "2024-07-28T15:19:26.590Z"
   },
   {
    "duration": 140,
    "start_time": "2024-07-28T15:19:26.596Z"
   },
   {
    "duration": 149,
    "start_time": "2024-07-28T15:19:26.738Z"
   },
   {
    "duration": 33,
    "start_time": "2024-07-28T15:19:26.891Z"
   },
   {
    "duration": 8,
    "start_time": "2024-07-28T15:19:26.926Z"
   },
   {
    "duration": 51,
    "start_time": "2024-07-28T15:19:26.935Z"
   },
   {
    "duration": 12,
    "start_time": "2024-07-28T15:19:26.987Z"
   },
   {
    "duration": 14,
    "start_time": "2024-07-28T15:19:27.001Z"
   },
   {
    "duration": 117,
    "start_time": "2024-07-28T15:19:27.018Z"
   },
   {
    "duration": 119,
    "start_time": "2024-07-28T15:19:27.137Z"
   },
   {
    "duration": 99,
    "start_time": "2024-07-28T15:19:27.258Z"
   },
   {
    "duration": 179,
    "start_time": "2024-07-28T15:19:27.358Z"
   },
   {
    "duration": 523,
    "start_time": "2024-07-28T15:19:27.539Z"
   },
   {
    "duration": 16,
    "start_time": "2024-07-28T15:19:28.064Z"
   },
   {
    "duration": 6,
    "start_time": "2024-07-28T15:19:28.081Z"
   },
   {
    "duration": 209,
    "start_time": "2024-07-28T15:19:28.089Z"
   },
   {
    "duration": 8,
    "start_time": "2024-07-28T15:19:28.300Z"
   },
   {
    "duration": 109,
    "start_time": "2024-07-28T15:19:28.310Z"
   },
   {
    "duration": 304,
    "start_time": "2024-07-28T15:19:28.421Z"
   },
   {
    "duration": 15,
    "start_time": "2024-07-28T15:19:28.726Z"
   },
   {
    "duration": 97,
    "start_time": "2024-07-28T15:19:28.742Z"
   },
   {
    "duration": 461,
    "start_time": "2024-07-28T15:19:28.840Z"
   },
   {
    "duration": 16,
    "start_time": "2024-07-28T15:19:29.303Z"
   },
   {
    "duration": 36,
    "start_time": "2024-07-28T15:19:29.320Z"
   },
   {
    "duration": 21,
    "start_time": "2024-07-28T15:19:29.358Z"
   },
   {
    "duration": 8,
    "start_time": "2024-07-28T15:19:29.381Z"
   },
   {
    "duration": 18,
    "start_time": "2024-07-28T15:19:29.391Z"
   },
   {
    "duration": 35,
    "start_time": "2024-07-28T15:19:29.411Z"
   },
   {
    "duration": 16,
    "start_time": "2024-07-28T15:19:29.448Z"
   },
   {
    "duration": 1268,
    "start_time": "2024-07-28T15:19:29.466Z"
   },
   {
    "duration": 22,
    "start_time": "2024-07-28T15:19:30.737Z"
   },
   {
    "duration": 101,
    "start_time": "2024-07-28T15:19:30.761Z"
   },
   {
    "duration": 64,
    "start_time": "2024-07-28T15:19:30.864Z"
   },
   {
    "duration": 62,
    "start_time": "2024-07-28T15:19:30.930Z"
   },
   {
    "duration": 77,
    "start_time": "2024-07-28T15:19:30.993Z"
   },
   {
    "duration": 108,
    "start_time": "2024-07-28T15:19:31.072Z"
   },
   {
    "duration": 113,
    "start_time": "2024-07-28T15:19:31.182Z"
   },
   {
    "duration": 2661,
    "start_time": "2024-07-28T15:19:31.296Z"
   },
   {
    "duration": 109,
    "start_time": "2024-07-28T15:19:33.959Z"
   },
   {
    "duration": 13887,
    "start_time": "2024-07-28T15:19:34.069Z"
   },
   {
    "duration": 643,
    "start_time": "2024-07-28T15:19:47.959Z"
   },
   {
    "duration": 11,
    "start_time": "2024-07-28T15:19:48.604Z"
   },
   {
    "duration": 248,
    "start_time": "2024-07-28T15:19:48.616Z"
   },
   {
    "duration": 18,
    "start_time": "2024-07-28T15:19:48.865Z"
   },
   {
    "duration": 637,
    "start_time": "2024-07-28T15:19:48.885Z"
   },
   {
    "duration": 32,
    "start_time": "2024-07-28T15:19:49.524Z"
   },
   {
    "duration": 146,
    "start_time": "2024-07-28T15:19:49.558Z"
   },
   {
    "duration": 0,
    "start_time": "2024-07-28T15:19:49.706Z"
   },
   {
    "duration": 720,
    "start_time": "2024-07-28T15:22:21.693Z"
   },
   {
    "duration": 24,
    "start_time": "2024-07-28T15:22:25.537Z"
   },
   {
    "duration": 683,
    "start_time": "2024-07-28T15:26:51.291Z"
   },
   {
    "duration": 17,
    "start_time": "2024-07-28T15:26:55.612Z"
   },
   {
    "duration": 557,
    "start_time": "2024-07-28T15:27:04.467Z"
   },
   {
    "duration": 16,
    "start_time": "2024-07-28T15:27:23.426Z"
   },
   {
    "duration": 635,
    "start_time": "2024-07-28T15:28:10.149Z"
   },
   {
    "duration": 27,
    "start_time": "2024-07-28T15:31:05.835Z"
   },
   {
    "duration": 4536,
    "start_time": "2024-07-28T15:31:15.164Z"
   },
   {
    "duration": 89,
    "start_time": "2024-07-28T15:31:19.702Z"
   },
   {
    "duration": 28,
    "start_time": "2024-07-28T15:31:19.793Z"
   },
   {
    "duration": 27,
    "start_time": "2024-07-28T15:31:19.823Z"
   },
   {
    "duration": 17,
    "start_time": "2024-07-28T15:31:19.852Z"
   },
   {
    "duration": 15,
    "start_time": "2024-07-28T15:31:19.871Z"
   },
   {
    "duration": 13,
    "start_time": "2024-07-28T15:31:19.888Z"
   },
   {
    "duration": 7,
    "start_time": "2024-07-28T15:31:19.902Z"
   },
   {
    "duration": 29,
    "start_time": "2024-07-28T15:31:19.911Z"
   },
   {
    "duration": 22,
    "start_time": "2024-07-28T15:31:19.943Z"
   },
   {
    "duration": 9,
    "start_time": "2024-07-28T15:31:19.966Z"
   },
   {
    "duration": 12,
    "start_time": "2024-07-28T15:31:19.976Z"
   },
   {
    "duration": 17,
    "start_time": "2024-07-28T15:31:19.989Z"
   },
   {
    "duration": 43,
    "start_time": "2024-07-28T15:31:20.008Z"
   },
   {
    "duration": 36,
    "start_time": "2024-07-28T15:31:20.053Z"
   },
   {
    "duration": 13,
    "start_time": "2024-07-28T15:31:20.091Z"
   },
   {
    "duration": 29,
    "start_time": "2024-07-28T15:31:20.105Z"
   },
   {
    "duration": 30,
    "start_time": "2024-07-28T15:31:20.136Z"
   },
   {
    "duration": 23,
    "start_time": "2024-07-28T15:31:20.167Z"
   },
   {
    "duration": 11,
    "start_time": "2024-07-28T15:31:20.192Z"
   },
   {
    "duration": 1317,
    "start_time": "2024-07-28T15:31:20.204Z"
   },
   {
    "duration": 12,
    "start_time": "2024-07-28T15:31:21.523Z"
   },
   {
    "duration": 425,
    "start_time": "2024-07-28T15:31:21.537Z"
   },
   {
    "duration": 117,
    "start_time": "2024-07-28T15:31:21.964Z"
   },
   {
    "duration": 4,
    "start_time": "2024-07-28T15:31:22.083Z"
   },
   {
    "duration": 153,
    "start_time": "2024-07-28T15:31:22.089Z"
   },
   {
    "duration": 150,
    "start_time": "2024-07-28T15:31:22.244Z"
   },
   {
    "duration": 36,
    "start_time": "2024-07-28T15:31:22.400Z"
   },
   {
    "duration": 23,
    "start_time": "2024-07-28T15:31:22.438Z"
   },
   {
    "duration": 34,
    "start_time": "2024-07-28T15:31:22.463Z"
   },
   {
    "duration": 12,
    "start_time": "2024-07-28T15:31:22.499Z"
   },
   {
    "duration": 54,
    "start_time": "2024-07-28T15:31:22.512Z"
   },
   {
    "duration": 93,
    "start_time": "2024-07-28T15:31:22.568Z"
   },
   {
    "duration": 101,
    "start_time": "2024-07-28T15:31:22.662Z"
   },
   {
    "duration": 100,
    "start_time": "2024-07-28T15:31:22.765Z"
   },
   {
    "duration": 138,
    "start_time": "2024-07-28T15:31:22.867Z"
   },
   {
    "duration": 340,
    "start_time": "2024-07-28T15:31:23.007Z"
   },
   {
    "duration": 16,
    "start_time": "2024-07-28T15:31:23.354Z"
   },
   {
    "duration": 8,
    "start_time": "2024-07-28T15:31:23.371Z"
   },
   {
    "duration": 227,
    "start_time": "2024-07-28T15:31:23.380Z"
   },
   {
    "duration": 8,
    "start_time": "2024-07-28T15:31:23.609Z"
   },
   {
    "duration": 112,
    "start_time": "2024-07-28T15:31:23.619Z"
   },
   {
    "duration": 344,
    "start_time": "2024-07-28T15:31:23.733Z"
   },
   {
    "duration": 16,
    "start_time": "2024-07-28T15:31:24.079Z"
   },
   {
    "duration": 106,
    "start_time": "2024-07-28T15:31:24.096Z"
   },
   {
    "duration": 444,
    "start_time": "2024-07-28T15:31:24.204Z"
   },
   {
    "duration": 16,
    "start_time": "2024-07-28T15:31:24.651Z"
   },
   {
    "duration": 38,
    "start_time": "2024-07-28T15:31:24.669Z"
   },
   {
    "duration": 22,
    "start_time": "2024-07-28T15:31:24.709Z"
   },
   {
    "duration": 3,
    "start_time": "2024-07-28T15:31:24.733Z"
   },
   {
    "duration": 23,
    "start_time": "2024-07-28T15:31:24.737Z"
   },
   {
    "duration": 25,
    "start_time": "2024-07-28T15:31:24.762Z"
   },
   {
    "duration": 12,
    "start_time": "2024-07-28T15:31:24.789Z"
   },
   {
    "duration": 1291,
    "start_time": "2024-07-28T15:31:24.803Z"
   },
   {
    "duration": 9,
    "start_time": "2024-07-28T15:31:26.096Z"
   },
   {
    "duration": 22,
    "start_time": "2024-07-28T15:31:26.106Z"
   },
   {
    "duration": 9,
    "start_time": "2024-07-28T15:31:26.130Z"
   },
   {
    "duration": 8,
    "start_time": "2024-07-28T15:31:26.140Z"
   },
   {
    "duration": 9,
    "start_time": "2024-07-28T15:31:26.155Z"
   },
   {
    "duration": 5,
    "start_time": "2024-07-28T15:31:26.166Z"
   },
   {
    "duration": 18,
    "start_time": "2024-07-28T15:31:26.173Z"
   },
   {
    "duration": 2765,
    "start_time": "2024-07-28T15:31:26.192Z"
   },
   {
    "duration": 111,
    "start_time": "2024-07-28T15:31:28.959Z"
   },
   {
    "duration": 14284,
    "start_time": "2024-07-28T15:31:29.072Z"
   },
   {
    "duration": 522,
    "start_time": "2024-07-28T15:31:43.358Z"
   },
   {
    "duration": 9,
    "start_time": "2024-07-28T15:31:43.883Z"
   },
   {
    "duration": 174,
    "start_time": "2024-07-28T15:31:43.894Z"
   },
   {
    "duration": 19,
    "start_time": "2024-07-28T15:31:44.070Z"
   },
   {
    "duration": 713,
    "start_time": "2024-07-28T15:31:44.090Z"
   },
   {
    "duration": 25,
    "start_time": "2024-07-28T15:31:44.804Z"
   },
   {
    "duration": 31,
    "start_time": "2024-07-28T15:31:44.831Z"
   },
   {
    "duration": 782,
    "start_time": "2024-07-28T15:31:44.864Z"
   },
   {
    "duration": 31,
    "start_time": "2024-07-28T15:31:45.648Z"
   },
   {
    "duration": 50,
    "start_time": "2024-07-28T22:11:02.231Z"
   },
   {
    "duration": 6016,
    "start_time": "2024-07-28T22:21:30.649Z"
   },
   {
    "duration": 405,
    "start_time": "2024-07-28T22:21:36.667Z"
   },
   {
    "duration": 25,
    "start_time": "2024-07-28T22:21:37.074Z"
   },
   {
    "duration": 25,
    "start_time": "2024-07-28T22:21:37.101Z"
   },
   {
    "duration": 20,
    "start_time": "2024-07-28T22:21:37.128Z"
   },
   {
    "duration": 14,
    "start_time": "2024-07-28T22:21:37.149Z"
   },
   {
    "duration": 13,
    "start_time": "2024-07-28T22:21:37.165Z"
   },
   {
    "duration": 12,
    "start_time": "2024-07-28T22:21:37.179Z"
   },
   {
    "duration": 18,
    "start_time": "2024-07-28T22:21:37.192Z"
   },
   {
    "duration": 6,
    "start_time": "2024-07-28T22:21:37.212Z"
   },
   {
    "duration": 8,
    "start_time": "2024-07-28T22:21:37.220Z"
   },
   {
    "duration": 16,
    "start_time": "2024-07-28T22:21:37.229Z"
   },
   {
    "duration": 9,
    "start_time": "2024-07-28T22:21:37.246Z"
   },
   {
    "duration": 8,
    "start_time": "2024-07-28T22:21:37.256Z"
   },
   {
    "duration": 14,
    "start_time": "2024-07-28T22:21:37.265Z"
   },
   {
    "duration": 32,
    "start_time": "2024-07-28T22:21:37.281Z"
   },
   {
    "duration": 12,
    "start_time": "2024-07-28T22:21:37.316Z"
   },
   {
    "duration": 29,
    "start_time": "2024-07-28T22:21:37.330Z"
   },
   {
    "duration": 5,
    "start_time": "2024-07-28T22:21:37.361Z"
   },
   {
    "duration": 11,
    "start_time": "2024-07-28T22:21:37.368Z"
   },
   {
    "duration": 1278,
    "start_time": "2024-07-28T22:21:37.380Z"
   },
   {
    "duration": 13,
    "start_time": "2024-07-28T22:21:38.660Z"
   },
   {
    "duration": 411,
    "start_time": "2024-07-28T22:21:38.674Z"
   },
   {
    "duration": 111,
    "start_time": "2024-07-28T22:21:39.087Z"
   },
   {
    "duration": 4,
    "start_time": "2024-07-28T22:21:39.207Z"
   },
   {
    "duration": 117,
    "start_time": "2024-07-28T22:21:39.212Z"
   },
   {
    "duration": 133,
    "start_time": "2024-07-28T22:21:39.330Z"
   },
   {
    "duration": 45,
    "start_time": "2024-07-28T22:21:39.468Z"
   },
   {
    "duration": 11,
    "start_time": "2024-07-28T22:21:39.515Z"
   },
   {
    "duration": 4,
    "start_time": "2024-07-28T22:21:39.528Z"
   },
   {
    "duration": 110,
    "start_time": "2024-07-28T22:21:39.534Z"
   },
   {
    "duration": 103,
    "start_time": "2024-07-28T22:21:39.646Z"
   },
   {
    "duration": 99,
    "start_time": "2024-07-28T22:21:39.751Z"
   },
   {
    "duration": 142,
    "start_time": "2024-07-28T22:21:39.851Z"
   },
   {
    "duration": 323,
    "start_time": "2024-07-28T22:21:39.995Z"
   },
   {
    "duration": 14,
    "start_time": "2024-07-28T22:21:40.320Z"
   },
   {
    "duration": 5,
    "start_time": "2024-07-28T22:21:40.335Z"
   },
   {
    "duration": 195,
    "start_time": "2024-07-28T22:21:40.342Z"
   },
   {
    "duration": 7,
    "start_time": "2024-07-28T22:21:40.539Z"
   },
   {
    "duration": 105,
    "start_time": "2024-07-28T22:21:40.548Z"
   },
   {
    "duration": 309,
    "start_time": "2024-07-28T22:21:40.655Z"
   },
   {
    "duration": 15,
    "start_time": "2024-07-28T22:21:40.965Z"
   },
   {
    "duration": 99,
    "start_time": "2024-07-28T22:21:40.981Z"
   },
   {
    "duration": 322,
    "start_time": "2024-07-28T22:21:41.082Z"
   },
   {
    "duration": 16,
    "start_time": "2024-07-28T22:21:41.405Z"
   },
   {
    "duration": 34,
    "start_time": "2024-07-28T22:21:41.423Z"
   },
   {
    "duration": 18,
    "start_time": "2024-07-28T22:21:41.459Z"
   },
   {
    "duration": 2,
    "start_time": "2024-07-28T22:21:41.479Z"
   },
   {
    "duration": 25,
    "start_time": "2024-07-28T22:21:41.482Z"
   },
   {
    "duration": 135,
    "start_time": "2024-07-28T22:21:41.509Z"
   },
   {
    "duration": 12,
    "start_time": "2024-07-28T22:21:41.646Z"
   },
   {
    "duration": 1360,
    "start_time": "2024-07-28T22:21:41.660Z"
   },
   {
    "duration": 8,
    "start_time": "2024-07-28T22:21:43.022Z"
   },
   {
    "duration": 16,
    "start_time": "2024-07-28T22:21:43.031Z"
   },
   {
    "duration": 3,
    "start_time": "2024-07-28T22:21:43.049Z"
   },
   {
    "duration": 6,
    "start_time": "2024-07-28T22:21:43.054Z"
   },
   {
    "duration": 5,
    "start_time": "2024-07-28T22:21:43.061Z"
   },
   {
    "duration": 5,
    "start_time": "2024-07-28T22:21:43.067Z"
   },
   {
    "duration": 4,
    "start_time": "2024-07-28T22:21:43.074Z"
   },
   {
    "duration": 2829,
    "start_time": "2024-07-28T22:21:43.080Z"
   },
   {
    "duration": 16,
    "start_time": "2024-07-28T22:21:45.911Z"
   },
   {
    "duration": 15382,
    "start_time": "2024-07-28T22:21:45.928Z"
   },
   {
    "duration": 621,
    "start_time": "2024-07-28T22:22:01.312Z"
   },
   {
    "duration": 10,
    "start_time": "2024-07-28T22:22:01.934Z"
   },
   {
    "duration": 185,
    "start_time": "2024-07-28T22:22:01.946Z"
   },
   {
    "duration": 17,
    "start_time": "2024-07-28T22:22:02.133Z"
   },
   {
    "duration": 675,
    "start_time": "2024-07-28T22:22:02.152Z"
   },
   {
    "duration": 30,
    "start_time": "2024-07-28T22:22:02.829Z"
   },
   {
    "duration": 15,
    "start_time": "2024-07-28T22:22:02.861Z"
   },
   {
    "duration": 670,
    "start_time": "2024-07-28T22:22:02.877Z"
   },
   {
    "duration": 26,
    "start_time": "2024-07-28T22:22:03.549Z"
   },
   {
    "duration": 2985,
    "start_time": "2024-07-28T22:26:46.724Z"
   },
   {
    "duration": 4519,
    "start_time": "2024-07-28T22:27:58.971Z"
   },
   {
    "duration": 93,
    "start_time": "2024-07-28T22:28:03.492Z"
   },
   {
    "duration": 25,
    "start_time": "2024-07-28T22:28:03.587Z"
   },
   {
    "duration": 16,
    "start_time": "2024-07-28T22:28:03.613Z"
   },
   {
    "duration": 18,
    "start_time": "2024-07-28T22:28:03.630Z"
   },
   {
    "duration": 14,
    "start_time": "2024-07-28T22:28:03.650Z"
   },
   {
    "duration": 17,
    "start_time": "2024-07-28T22:28:03.665Z"
   },
   {
    "duration": 6,
    "start_time": "2024-07-28T22:28:03.708Z"
   },
   {
    "duration": 7,
    "start_time": "2024-07-28T22:28:03.716Z"
   },
   {
    "duration": 12,
    "start_time": "2024-07-28T22:28:03.725Z"
   },
   {
    "duration": 11,
    "start_time": "2024-07-28T22:28:03.739Z"
   },
   {
    "duration": 6,
    "start_time": "2024-07-28T22:28:03.752Z"
   },
   {
    "duration": 6,
    "start_time": "2024-07-28T22:28:03.759Z"
   },
   {
    "duration": 7,
    "start_time": "2024-07-28T22:28:03.766Z"
   },
   {
    "duration": 8,
    "start_time": "2024-07-28T22:28:03.808Z"
   },
   {
    "duration": 6,
    "start_time": "2024-07-28T22:28:03.817Z"
   },
   {
    "duration": 22,
    "start_time": "2024-07-28T22:28:03.824Z"
   },
   {
    "duration": 11,
    "start_time": "2024-07-28T22:28:03.848Z"
   },
   {
    "duration": 7,
    "start_time": "2024-07-28T22:28:03.861Z"
   },
   {
    "duration": 6,
    "start_time": "2024-07-28T22:28:03.869Z"
   },
   {
    "duration": 1326,
    "start_time": "2024-07-28T22:28:03.877Z"
   },
   {
    "duration": 13,
    "start_time": "2024-07-28T22:28:05.206Z"
   },
   {
    "duration": 419,
    "start_time": "2024-07-28T22:28:05.221Z"
   },
   {
    "duration": 119,
    "start_time": "2024-07-28T22:28:05.642Z"
   },
   {
    "duration": 4,
    "start_time": "2024-07-28T22:28:05.762Z"
   },
   {
    "duration": 121,
    "start_time": "2024-07-28T22:28:05.768Z"
   },
   {
    "duration": 133,
    "start_time": "2024-07-28T22:28:05.891Z"
   },
   {
    "duration": 32,
    "start_time": "2024-07-28T22:28:06.029Z"
   },
   {
    "duration": 10,
    "start_time": "2024-07-28T22:28:06.063Z"
   },
   {
    "duration": 4,
    "start_time": "2024-07-28T22:28:06.075Z"
   },
   {
    "duration": 116,
    "start_time": "2024-07-28T22:28:06.080Z"
   },
   {
    "duration": 92,
    "start_time": "2024-07-28T22:28:06.197Z"
   },
   {
    "duration": 89,
    "start_time": "2024-07-28T22:28:06.307Z"
   },
   {
    "duration": 134,
    "start_time": "2024-07-28T22:28:06.407Z"
   },
   {
    "duration": 336,
    "start_time": "2024-07-28T22:28:06.542Z"
   },
   {
    "duration": 15,
    "start_time": "2024-07-28T22:28:06.879Z"
   },
   {
    "duration": 4,
    "start_time": "2024-07-28T22:28:06.908Z"
   },
   {
    "duration": 189,
    "start_time": "2024-07-28T22:28:06.914Z"
   },
   {
    "duration": 9,
    "start_time": "2024-07-28T22:28:07.104Z"
   },
   {
    "duration": 98,
    "start_time": "2024-07-28T22:28:07.114Z"
   },
   {
    "duration": 330,
    "start_time": "2024-07-28T22:28:07.213Z"
   },
   {
    "duration": 14,
    "start_time": "2024-07-28T22:28:07.545Z"
   },
   {
    "duration": 101,
    "start_time": "2024-07-28T22:28:07.560Z"
   },
   {
    "duration": 423,
    "start_time": "2024-07-28T22:28:07.664Z"
   },
   {
    "duration": 22,
    "start_time": "2024-07-28T22:28:08.089Z"
   },
   {
    "duration": 19,
    "start_time": "2024-07-28T22:28:08.113Z"
   },
   {
    "duration": 18,
    "start_time": "2024-07-28T22:28:08.134Z"
   },
   {
    "duration": 3,
    "start_time": "2024-07-28T22:28:08.153Z"
   },
   {
    "duration": 10,
    "start_time": "2024-07-28T22:28:08.157Z"
   },
   {
    "duration": 47,
    "start_time": "2024-07-28T22:28:08.169Z"
   },
   {
    "duration": 11,
    "start_time": "2024-07-28T22:28:08.217Z"
   },
   {
    "duration": 1242,
    "start_time": "2024-07-28T22:28:08.230Z"
   },
   {
    "duration": 9,
    "start_time": "2024-07-28T22:28:09.473Z"
   },
   {
    "duration": 46,
    "start_time": "2024-07-28T22:28:09.483Z"
   },
   {
    "duration": 21,
    "start_time": "2024-07-28T22:28:09.530Z"
   },
   {
    "duration": 30,
    "start_time": "2024-07-28T22:28:09.552Z"
   },
   {
    "duration": 22,
    "start_time": "2024-07-28T22:28:09.584Z"
   },
   {
    "duration": 30,
    "start_time": "2024-07-28T22:28:09.607Z"
   },
   {
    "duration": 43,
    "start_time": "2024-07-28T22:28:09.638Z"
   },
   {
    "duration": 2732,
    "start_time": "2024-07-28T22:28:09.683Z"
   },
   {
    "duration": 103,
    "start_time": "2024-07-28T22:28:12.417Z"
   },
   {
    "duration": 15494,
    "start_time": "2024-07-28T22:28:12.522Z"
   },
   {
    "duration": 629,
    "start_time": "2024-07-28T22:28:28.109Z"
   },
   {
    "duration": 10,
    "start_time": "2024-07-28T22:28:28.739Z"
   },
   {
    "duration": 185,
    "start_time": "2024-07-28T22:28:28.750Z"
   },
   {
    "duration": 18,
    "start_time": "2024-07-28T22:28:28.937Z"
   },
   {
    "duration": 634,
    "start_time": "2024-07-28T22:28:28.956Z"
   },
   {
    "duration": 35,
    "start_time": "2024-07-28T22:28:29.592Z"
   },
   {
    "duration": 14,
    "start_time": "2024-07-28T22:28:29.629Z"
   },
   {
    "duration": 765,
    "start_time": "2024-07-28T22:28:29.644Z"
   },
   {
    "duration": 25,
    "start_time": "2024-07-28T22:28:30.411Z"
   },
   {
    "duration": 7954,
    "start_time": "2024-07-29T04:43:21.272Z"
   },
   {
    "duration": 321,
    "start_time": "2024-07-29T04:43:29.228Z"
   },
   {
    "duration": 22,
    "start_time": "2024-07-29T04:43:29.550Z"
   },
   {
    "duration": 28,
    "start_time": "2024-07-29T04:43:29.574Z"
   },
   {
    "duration": 12,
    "start_time": "2024-07-29T04:43:29.604Z"
   },
   {
    "duration": 18,
    "start_time": "2024-07-29T04:43:29.617Z"
   },
   {
    "duration": 12,
    "start_time": "2024-07-29T04:43:29.637Z"
   },
   {
    "duration": 127,
    "start_time": "2024-07-29T04:43:29.650Z"
   },
   {
    "duration": 7,
    "start_time": "2024-07-29T04:43:29.778Z"
   },
   {
    "duration": 8,
    "start_time": "2024-07-29T04:43:29.787Z"
   },
   {
    "duration": 10,
    "start_time": "2024-07-29T04:43:29.796Z"
   },
   {
    "duration": 6,
    "start_time": "2024-07-29T04:43:29.808Z"
   },
   {
    "duration": 4,
    "start_time": "2024-07-29T04:43:29.815Z"
   },
   {
    "duration": 8,
    "start_time": "2024-07-29T04:43:29.820Z"
   },
   {
    "duration": 6,
    "start_time": "2024-07-29T04:43:29.829Z"
   },
   {
    "duration": 5,
    "start_time": "2024-07-29T04:43:29.836Z"
   },
   {
    "duration": 7,
    "start_time": "2024-07-29T04:43:29.842Z"
   },
   {
    "duration": 5,
    "start_time": "2024-07-29T04:43:29.850Z"
   },
   {
    "duration": 15,
    "start_time": "2024-07-29T04:43:29.856Z"
   },
   {
    "duration": 10,
    "start_time": "2024-07-29T04:43:29.872Z"
   },
   {
    "duration": 1045,
    "start_time": "2024-07-29T04:43:29.883Z"
   },
   {
    "duration": 12,
    "start_time": "2024-07-29T04:43:30.929Z"
   },
   {
    "duration": 548,
    "start_time": "2024-07-29T04:43:30.943Z"
   },
   {
    "duration": 133,
    "start_time": "2024-07-29T04:43:31.492Z"
   },
   {
    "duration": 3,
    "start_time": "2024-07-29T04:43:31.627Z"
   },
   {
    "duration": 106,
    "start_time": "2024-07-29T04:43:31.631Z"
   },
   {
    "duration": 158,
    "start_time": "2024-07-29T04:43:31.739Z"
   },
   {
    "duration": 26,
    "start_time": "2024-07-29T04:43:31.902Z"
   },
   {
    "duration": 8,
    "start_time": "2024-07-29T04:43:31.929Z"
   },
   {
    "duration": 24,
    "start_time": "2024-07-29T04:43:31.938Z"
   },
   {
    "duration": 91,
    "start_time": "2024-07-29T04:43:31.964Z"
   },
   {
    "duration": 82,
    "start_time": "2024-07-29T04:43:32.056Z"
   },
   {
    "duration": 81,
    "start_time": "2024-07-29T04:43:32.140Z"
   },
   {
    "duration": 124,
    "start_time": "2024-07-29T04:43:32.222Z"
   },
   {
    "duration": 293,
    "start_time": "2024-07-29T04:43:32.347Z"
   },
   {
    "duration": 13,
    "start_time": "2024-07-29T04:43:32.642Z"
   },
   {
    "duration": 4,
    "start_time": "2024-07-29T04:43:32.656Z"
   },
   {
    "duration": 168,
    "start_time": "2024-07-29T04:43:32.661Z"
   },
   {
    "duration": 8,
    "start_time": "2024-07-29T04:43:32.830Z"
   },
   {
    "duration": 86,
    "start_time": "2024-07-29T04:43:32.840Z"
   },
   {
    "duration": 252,
    "start_time": "2024-07-29T04:43:32.928Z"
   },
   {
    "duration": 21,
    "start_time": "2024-07-29T04:43:33.182Z"
   },
   {
    "duration": 91,
    "start_time": "2024-07-29T04:43:33.204Z"
   },
   {
    "duration": 256,
    "start_time": "2024-07-29T04:43:33.296Z"
   },
   {
    "duration": 13,
    "start_time": "2024-07-29T04:43:33.553Z"
   },
   {
    "duration": 17,
    "start_time": "2024-07-29T04:43:33.567Z"
   },
   {
    "duration": 103,
    "start_time": "2024-07-29T04:43:33.601Z"
   },
   {
    "duration": 2,
    "start_time": "2024-07-29T04:43:33.705Z"
   },
   {
    "duration": 65,
    "start_time": "2024-07-29T04:43:33.708Z"
   },
   {
    "duration": 34,
    "start_time": "2024-07-29T04:43:33.774Z"
   },
   {
    "duration": 10,
    "start_time": "2024-07-29T04:43:33.810Z"
   },
   {
    "duration": 19,
    "start_time": "2024-07-29T04:43:46.915Z"
   },
   {
    "duration": 9,
    "start_time": "2024-07-29T04:44:09.896Z"
   },
   {
    "duration": 46,
    "start_time": "2024-07-29T07:22:24.850Z"
   },
   {
    "duration": 6366,
    "start_time": "2024-07-29T07:22:33.657Z"
   },
   {
    "duration": 324,
    "start_time": "2024-07-29T07:22:40.025Z"
   },
   {
    "duration": 24,
    "start_time": "2024-07-29T07:22:40.351Z"
   },
   {
    "duration": 14,
    "start_time": "2024-07-29T07:22:40.378Z"
   },
   {
    "duration": 16,
    "start_time": "2024-07-29T07:22:40.394Z"
   },
   {
    "duration": 77,
    "start_time": "2024-07-29T07:22:40.411Z"
   },
   {
    "duration": 18,
    "start_time": "2024-07-29T07:22:40.489Z"
   },
   {
    "duration": 6,
    "start_time": "2024-07-29T07:22:40.509Z"
   },
   {
    "duration": 7,
    "start_time": "2024-07-29T07:22:40.517Z"
   },
   {
    "duration": 6,
    "start_time": "2024-07-29T07:22:40.526Z"
   },
   {
    "duration": 14,
    "start_time": "2024-07-29T07:22:40.533Z"
   },
   {
    "duration": 9,
    "start_time": "2024-07-29T07:22:40.548Z"
   },
   {
    "duration": 8,
    "start_time": "2024-07-29T07:22:40.558Z"
   },
   {
    "duration": 8,
    "start_time": "2024-07-29T07:22:40.567Z"
   },
   {
    "duration": 12,
    "start_time": "2024-07-29T07:22:40.576Z"
   },
   {
    "duration": 25,
    "start_time": "2024-07-29T07:22:40.589Z"
   },
   {
    "duration": 4,
    "start_time": "2024-07-29T07:22:40.616Z"
   },
   {
    "duration": 7,
    "start_time": "2024-07-29T07:22:40.621Z"
   },
   {
    "duration": 13,
    "start_time": "2024-07-29T07:22:40.629Z"
   },
   {
    "duration": 27,
    "start_time": "2024-07-29T07:22:40.644Z"
   },
   {
    "duration": 1109,
    "start_time": "2024-07-29T07:22:40.672Z"
   },
   {
    "duration": 11,
    "start_time": "2024-07-29T07:22:41.783Z"
   },
   {
    "duration": 359,
    "start_time": "2024-07-29T07:22:41.795Z"
   },
   {
    "duration": 102,
    "start_time": "2024-07-29T07:22:42.156Z"
   },
   {
    "duration": 4,
    "start_time": "2024-07-29T07:22:42.260Z"
   },
   {
    "duration": 112,
    "start_time": "2024-07-29T07:22:42.265Z"
   },
   {
    "duration": 118,
    "start_time": "2024-07-29T07:22:42.378Z"
   },
   {
    "duration": 43,
    "start_time": "2024-07-29T07:22:42.499Z"
   },
   {
    "duration": 10,
    "start_time": "2024-07-29T07:22:42.543Z"
   },
   {
    "duration": 11,
    "start_time": "2024-07-29T07:22:42.554Z"
   },
   {
    "duration": 106,
    "start_time": "2024-07-29T07:22:42.566Z"
   },
   {
    "duration": 85,
    "start_time": "2024-07-29T07:22:42.674Z"
   },
   {
    "duration": 97,
    "start_time": "2024-07-29T07:22:42.761Z"
   },
   {
    "duration": 130,
    "start_time": "2024-07-29T07:22:42.860Z"
   },
   {
    "duration": 289,
    "start_time": "2024-07-29T07:22:42.991Z"
   },
   {
    "duration": 12,
    "start_time": "2024-07-29T07:22:43.282Z"
   },
   {
    "duration": 4,
    "start_time": "2024-07-29T07:22:43.295Z"
   },
   {
    "duration": 175,
    "start_time": "2024-07-29T07:22:43.301Z"
   },
   {
    "duration": 7,
    "start_time": "2024-07-29T07:22:43.477Z"
   },
   {
    "duration": 91,
    "start_time": "2024-07-29T07:22:43.486Z"
   },
   {
    "duration": 283,
    "start_time": "2024-07-29T07:22:43.578Z"
   },
   {
    "duration": 12,
    "start_time": "2024-07-29T07:22:43.863Z"
   },
   {
    "duration": 122,
    "start_time": "2024-07-29T07:22:43.876Z"
   },
   {
    "duration": 274,
    "start_time": "2024-07-29T07:22:43.999Z"
   },
   {
    "duration": 13,
    "start_time": "2024-07-29T07:22:44.275Z"
   },
   {
    "duration": 34,
    "start_time": "2024-07-29T07:22:44.289Z"
   },
   {
    "duration": 106,
    "start_time": "2024-07-29T07:22:44.325Z"
   },
   {
    "duration": 2,
    "start_time": "2024-07-29T07:22:44.432Z"
   },
   {
    "duration": 48,
    "start_time": "2024-07-29T07:22:44.435Z"
   },
   {
    "duration": 19,
    "start_time": "2024-07-29T07:22:44.484Z"
   },
   {
    "duration": 15,
    "start_time": "2024-07-29T07:22:52.027Z"
   },
   {
    "duration": 13,
    "start_time": "2024-07-29T07:23:44.920Z"
   },
   {
    "duration": 8,
    "start_time": "2024-07-29T07:24:39.823Z"
   },
   {
    "duration": 7,
    "start_time": "2024-07-29T07:24:49.696Z"
   },
   {
    "duration": 8,
    "start_time": "2024-07-29T07:24:53.394Z"
   },
   {
    "duration": 10,
    "start_time": "2024-07-29T07:25:03.124Z"
   },
   {
    "duration": 14,
    "start_time": "2024-07-29T07:25:09.044Z"
   },
   {
    "duration": 13,
    "start_time": "2024-07-29T07:25:25.391Z"
   },
   {
    "duration": 12,
    "start_time": "2024-07-29T07:25:37.449Z"
   },
   {
    "duration": 9,
    "start_time": "2024-07-29T07:25:46.868Z"
   },
   {
    "duration": 12,
    "start_time": "2024-07-29T07:25:49.644Z"
   },
   {
    "duration": 9,
    "start_time": "2024-07-29T07:25:54.587Z"
   },
   {
    "duration": 8,
    "start_time": "2024-07-29T07:26:30.368Z"
   },
   {
    "duration": 8,
    "start_time": "2024-07-29T07:26:34.201Z"
   },
   {
    "duration": 8,
    "start_time": "2024-07-29T07:26:37.272Z"
   },
   {
    "duration": 8,
    "start_time": "2024-07-29T07:26:40.568Z"
   },
   {
    "duration": 14,
    "start_time": "2024-07-29T07:26:46.313Z"
   },
   {
    "duration": 10,
    "start_time": "2024-07-29T07:27:49.038Z"
   },
   {
    "duration": 4489,
    "start_time": "2024-07-29T07:28:37.460Z"
   },
   {
    "duration": 82,
    "start_time": "2024-07-29T07:28:41.951Z"
   },
   {
    "duration": 22,
    "start_time": "2024-07-29T07:28:42.034Z"
   },
   {
    "duration": 28,
    "start_time": "2024-07-29T07:28:42.058Z"
   },
   {
    "duration": 12,
    "start_time": "2024-07-29T07:28:42.088Z"
   },
   {
    "duration": 24,
    "start_time": "2024-07-29T07:28:42.102Z"
   },
   {
    "duration": 12,
    "start_time": "2024-07-29T07:28:42.128Z"
   },
   {
    "duration": 18,
    "start_time": "2024-07-29T07:28:42.141Z"
   },
   {
    "duration": 28,
    "start_time": "2024-07-29T07:28:42.160Z"
   },
   {
    "duration": 13,
    "start_time": "2024-07-29T07:28:42.190Z"
   },
   {
    "duration": 16,
    "start_time": "2024-07-29T07:28:42.205Z"
   },
   {
    "duration": 10,
    "start_time": "2024-07-29T07:28:42.222Z"
   },
   {
    "duration": 5,
    "start_time": "2024-07-29T07:28:42.233Z"
   },
   {
    "duration": 8,
    "start_time": "2024-07-29T07:28:42.239Z"
   },
   {
    "duration": 11,
    "start_time": "2024-07-29T07:28:42.248Z"
   },
   {
    "duration": 8,
    "start_time": "2024-07-29T07:28:42.260Z"
   },
   {
    "duration": 20,
    "start_time": "2024-07-29T07:28:42.270Z"
   },
   {
    "duration": 7,
    "start_time": "2024-07-29T07:28:42.292Z"
   },
   {
    "duration": 15,
    "start_time": "2024-07-29T07:28:42.300Z"
   },
   {
    "duration": 11,
    "start_time": "2024-07-29T07:28:42.316Z"
   },
   {
    "duration": 1162,
    "start_time": "2024-07-29T07:28:42.329Z"
   },
   {
    "duration": 10,
    "start_time": "2024-07-29T07:28:43.493Z"
   },
   {
    "duration": 367,
    "start_time": "2024-07-29T07:28:43.512Z"
   },
   {
    "duration": 107,
    "start_time": "2024-07-29T07:28:43.880Z"
   },
   {
    "duration": 4,
    "start_time": "2024-07-29T07:28:43.989Z"
   },
   {
    "duration": 120,
    "start_time": "2024-07-29T07:28:43.994Z"
   },
   {
    "duration": 138,
    "start_time": "2024-07-29T07:28:44.116Z"
   },
   {
    "duration": 32,
    "start_time": "2024-07-29T07:28:44.258Z"
   },
   {
    "duration": 40,
    "start_time": "2024-07-29T07:28:44.291Z"
   },
   {
    "duration": 7,
    "start_time": "2024-07-29T07:28:44.332Z"
   },
   {
    "duration": 94,
    "start_time": "2024-07-29T07:28:44.340Z"
   },
   {
    "duration": 94,
    "start_time": "2024-07-29T07:28:44.435Z"
   },
   {
    "duration": 89,
    "start_time": "2024-07-29T07:28:44.531Z"
   },
   {
    "duration": 139,
    "start_time": "2024-07-29T07:28:44.622Z"
   },
   {
    "duration": 284,
    "start_time": "2024-07-29T07:28:44.762Z"
   },
   {
    "duration": 12,
    "start_time": "2024-07-29T07:28:45.048Z"
   },
   {
    "duration": 24,
    "start_time": "2024-07-29T07:28:45.062Z"
   },
   {
    "duration": 238,
    "start_time": "2024-07-29T07:28:45.087Z"
   },
   {
    "duration": 7,
    "start_time": "2024-07-29T07:28:45.327Z"
   },
   {
    "duration": 119,
    "start_time": "2024-07-29T07:28:45.335Z"
   },
   {
    "duration": 270,
    "start_time": "2024-07-29T07:28:45.455Z"
   },
   {
    "duration": 16,
    "start_time": "2024-07-29T07:28:45.726Z"
   },
   {
    "duration": 99,
    "start_time": "2024-07-29T07:28:45.745Z"
   },
   {
    "duration": 283,
    "start_time": "2024-07-29T07:28:45.845Z"
   },
   {
    "duration": 13,
    "start_time": "2024-07-29T07:28:46.129Z"
   },
   {
    "duration": 18,
    "start_time": "2024-07-29T07:28:46.144Z"
   },
   {
    "duration": 125,
    "start_time": "2024-07-29T07:28:46.163Z"
   },
   {
    "duration": 2,
    "start_time": "2024-07-29T07:28:46.290Z"
   },
   {
    "duration": 13,
    "start_time": "2024-07-29T07:28:46.294Z"
   },
   {
    "duration": 20,
    "start_time": "2024-07-29T07:28:46.311Z"
   },
   {
    "duration": 8,
    "start_time": "2024-07-29T07:28:46.333Z"
   },
   {
    "duration": 7,
    "start_time": "2024-07-29T07:29:32.588Z"
   },
   {
    "duration": 8,
    "start_time": "2024-07-29T07:29:38.434Z"
   },
   {
    "duration": 13,
    "start_time": "2024-07-29T07:29:50.238Z"
   },
   {
    "duration": 8,
    "start_time": "2024-07-29T07:33:55.725Z"
   },
   {
    "duration": 11,
    "start_time": "2024-07-29T07:33:58.367Z"
   },
   {
    "duration": 9,
    "start_time": "2024-07-29T07:34:08.504Z"
   },
   {
    "duration": 8,
    "start_time": "2024-07-29T07:34:12.718Z"
   },
   {
    "duration": 8,
    "start_time": "2024-07-29T07:34:16.617Z"
   },
   {
    "duration": 13,
    "start_time": "2024-07-29T07:34:19.619Z"
   },
   {
    "duration": 8,
    "start_time": "2024-07-29T07:34:58.057Z"
   },
   {
    "duration": 22,
    "start_time": "2024-07-29T07:35:02.240Z"
   },
   {
    "duration": 19,
    "start_time": "2024-07-29T07:35:08.831Z"
   },
   {
    "duration": 9,
    "start_time": "2024-07-29T07:35:15.113Z"
   },
   {
    "duration": 12,
    "start_time": "2024-07-29T07:35:18.315Z"
   },
   {
    "duration": 12,
    "start_time": "2024-07-29T07:35:24.822Z"
   },
   {
    "duration": 8,
    "start_time": "2024-07-29T07:35:30.937Z"
   },
   {
    "duration": 14,
    "start_time": "2024-07-29T07:35:38.796Z"
   },
   {
    "duration": 4,
    "start_time": "2024-07-29T07:35:43.865Z"
   },
   {
    "duration": 17,
    "start_time": "2024-07-29T07:35:48.668Z"
   },
   {
    "duration": 22,
    "start_time": "2024-07-29T07:35:53.099Z"
   },
   {
    "duration": 10,
    "start_time": "2024-07-29T07:35:56.760Z"
   },
   {
    "duration": 32,
    "start_time": "2024-07-29T07:36:43.507Z"
   },
   {
    "duration": 70,
    "start_time": "2024-07-29T07:37:25.234Z"
   },
   {
    "duration": 1062,
    "start_time": "2024-07-29T07:37:30.909Z"
   },
   {
    "duration": 8,
    "start_time": "2024-07-29T07:37:42.033Z"
   },
   {
    "duration": 9,
    "start_time": "2024-07-29T07:37:45.494Z"
   },
   {
    "duration": 4350,
    "start_time": "2024-07-29T09:04:22.216Z"
   },
   {
    "duration": 83,
    "start_time": "2024-07-29T09:04:26.569Z"
   },
   {
    "duration": 24,
    "start_time": "2024-07-29T09:04:26.654Z"
   },
   {
    "duration": 14,
    "start_time": "2024-07-29T09:04:26.680Z"
   },
   {
    "duration": 25,
    "start_time": "2024-07-29T09:04:26.695Z"
   },
   {
    "duration": 14,
    "start_time": "2024-07-29T09:04:26.721Z"
   },
   {
    "duration": 14,
    "start_time": "2024-07-29T09:04:26.736Z"
   },
   {
    "duration": 7,
    "start_time": "2024-07-29T09:04:26.751Z"
   },
   {
    "duration": 7,
    "start_time": "2024-07-29T09:04:26.760Z"
   },
   {
    "duration": 6,
    "start_time": "2024-07-29T09:04:26.770Z"
   },
   {
    "duration": 8,
    "start_time": "2024-07-29T09:04:26.812Z"
   },
   {
    "duration": 6,
    "start_time": "2024-07-29T09:04:26.821Z"
   },
   {
    "duration": 4,
    "start_time": "2024-07-29T09:04:26.829Z"
   },
   {
    "duration": 7,
    "start_time": "2024-07-29T09:04:26.834Z"
   },
   {
    "duration": 7,
    "start_time": "2024-07-29T09:04:26.843Z"
   },
   {
    "duration": 9,
    "start_time": "2024-07-29T09:04:26.851Z"
   },
   {
    "duration": 15,
    "start_time": "2024-07-29T09:04:26.861Z"
   },
   {
    "duration": 8,
    "start_time": "2024-07-29T09:04:26.877Z"
   },
   {
    "duration": 27,
    "start_time": "2024-07-29T09:04:26.886Z"
   },
   {
    "duration": 5,
    "start_time": "2024-07-29T09:04:26.914Z"
   },
   {
    "duration": 1192,
    "start_time": "2024-07-29T09:04:26.920Z"
   },
   {
    "duration": 12,
    "start_time": "2024-07-29T09:04:28.114Z"
   },
   {
    "duration": 403,
    "start_time": "2024-07-29T09:04:28.128Z"
   },
   {
    "duration": 98,
    "start_time": "2024-07-29T09:04:28.533Z"
   },
   {
    "duration": 4,
    "start_time": "2024-07-29T09:04:28.632Z"
   },
   {
    "duration": 110,
    "start_time": "2024-07-29T09:04:28.637Z"
   },
   {
    "duration": 120,
    "start_time": "2024-07-29T09:04:28.748Z"
   },
   {
    "duration": 26,
    "start_time": "2024-07-29T09:04:28.871Z"
   },
   {
    "duration": 9,
    "start_time": "2024-07-29T09:04:28.911Z"
   },
   {
    "duration": 12,
    "start_time": "2024-07-29T09:04:28.922Z"
   },
   {
    "duration": 94,
    "start_time": "2024-07-29T09:04:28.935Z"
   },
   {
    "duration": 90,
    "start_time": "2024-07-29T09:04:29.030Z"
   },
   {
    "duration": 110,
    "start_time": "2024-07-29T09:04:29.121Z"
   },
   {
    "duration": 131,
    "start_time": "2024-07-29T09:04:29.233Z"
   },
   {
    "duration": 310,
    "start_time": "2024-07-29T09:04:29.366Z"
   },
   {
    "duration": 14,
    "start_time": "2024-07-29T09:04:29.678Z"
   },
   {
    "duration": 4,
    "start_time": "2024-07-29T09:04:29.693Z"
   },
   {
    "duration": 185,
    "start_time": "2024-07-29T09:04:29.712Z"
   },
   {
    "duration": 14,
    "start_time": "2024-07-29T09:04:29.898Z"
   },
   {
    "duration": 84,
    "start_time": "2024-07-29T09:04:29.914Z"
   },
   {
    "duration": 279,
    "start_time": "2024-07-29T09:04:29.999Z"
   },
   {
    "duration": 13,
    "start_time": "2024-07-29T09:04:30.280Z"
   },
   {
    "duration": 204,
    "start_time": "2024-07-29T09:04:30.294Z"
   },
   {
    "duration": 275,
    "start_time": "2024-07-29T09:04:30.500Z"
   },
   {
    "duration": 14,
    "start_time": "2024-07-29T09:04:30.777Z"
   },
   {
    "duration": 76,
    "start_time": "2024-07-29T09:04:30.792Z"
   },
   {
    "duration": 139,
    "start_time": "2024-07-29T09:04:30.869Z"
   },
   {
    "duration": 2,
    "start_time": "2024-07-29T09:04:31.012Z"
   },
   {
    "duration": 79,
    "start_time": "2024-07-29T09:04:31.016Z"
   },
   {
    "duration": 57,
    "start_time": "2024-07-29T09:04:31.097Z"
   },
   {
    "duration": 11,
    "start_time": "2024-07-29T09:04:37.542Z"
   },
   {
    "duration": 5,
    "start_time": "2024-07-29T09:05:48.050Z"
   },
   {
    "duration": 4441,
    "start_time": "2024-07-29T09:06:04.406Z"
   },
   {
    "duration": 81,
    "start_time": "2024-07-29T09:06:08.849Z"
   },
   {
    "duration": 21,
    "start_time": "2024-07-29T09:06:08.932Z"
   },
   {
    "duration": 29,
    "start_time": "2024-07-29T09:06:08.955Z"
   },
   {
    "duration": 13,
    "start_time": "2024-07-29T09:06:08.986Z"
   },
   {
    "duration": 27,
    "start_time": "2024-07-29T09:06:09.000Z"
   },
   {
    "duration": 14,
    "start_time": "2024-07-29T09:06:09.028Z"
   },
   {
    "duration": 5,
    "start_time": "2024-07-29T09:06:09.043Z"
   },
   {
    "duration": 11,
    "start_time": "2024-07-29T09:06:09.050Z"
   },
   {
    "duration": 6,
    "start_time": "2024-07-29T09:06:09.063Z"
   },
   {
    "duration": 15,
    "start_time": "2024-07-29T09:06:09.070Z"
   },
   {
    "duration": 12,
    "start_time": "2024-07-29T09:06:09.087Z"
   },
   {
    "duration": 5,
    "start_time": "2024-07-29T09:06:09.111Z"
   },
   {
    "duration": 8,
    "start_time": "2024-07-29T09:06:09.118Z"
   },
   {
    "duration": 8,
    "start_time": "2024-07-29T09:06:09.128Z"
   },
   {
    "duration": 6,
    "start_time": "2024-07-29T09:06:09.137Z"
   },
   {
    "duration": 4,
    "start_time": "2024-07-29T09:06:09.145Z"
   },
   {
    "duration": 11,
    "start_time": "2024-07-29T09:06:09.151Z"
   },
   {
    "duration": 11,
    "start_time": "2024-07-29T09:06:09.164Z"
   },
   {
    "duration": 36,
    "start_time": "2024-07-29T09:06:09.176Z"
   },
   {
    "duration": 1128,
    "start_time": "2024-07-29T09:06:09.214Z"
   },
   {
    "duration": 10,
    "start_time": "2024-07-29T09:06:10.343Z"
   },
   {
    "duration": 421,
    "start_time": "2024-07-29T09:06:10.355Z"
   },
   {
    "duration": 108,
    "start_time": "2024-07-29T09:06:10.777Z"
   },
   {
    "duration": 4,
    "start_time": "2024-07-29T09:06:10.887Z"
   },
   {
    "duration": 120,
    "start_time": "2024-07-29T09:06:10.893Z"
   },
   {
    "duration": 118,
    "start_time": "2024-07-29T09:06:11.015Z"
   },
   {
    "duration": 29,
    "start_time": "2024-07-29T09:06:11.137Z"
   },
   {
    "duration": 10,
    "start_time": "2024-07-29T09:06:11.167Z"
   },
   {
    "duration": 5,
    "start_time": "2024-07-29T09:06:11.178Z"
   },
   {
    "duration": 111,
    "start_time": "2024-07-29T09:06:11.184Z"
   },
   {
    "duration": 89,
    "start_time": "2024-07-29T09:06:11.297Z"
   },
   {
    "duration": 92,
    "start_time": "2024-07-29T09:06:11.387Z"
   },
   {
    "duration": 139,
    "start_time": "2024-07-29T09:06:11.481Z"
   },
   {
    "duration": 313,
    "start_time": "2024-07-29T09:06:11.622Z"
   },
   {
    "duration": 13,
    "start_time": "2024-07-29T09:06:11.936Z"
   },
   {
    "duration": 23,
    "start_time": "2024-07-29T09:06:11.950Z"
   },
   {
    "duration": 171,
    "start_time": "2024-07-29T09:06:11.975Z"
   },
   {
    "duration": 7,
    "start_time": "2024-07-29T09:06:12.147Z"
   },
   {
    "duration": 95,
    "start_time": "2024-07-29T09:06:12.155Z"
   },
   {
    "duration": 276,
    "start_time": "2024-07-29T09:06:12.252Z"
   },
   {
    "duration": 12,
    "start_time": "2024-07-29T09:06:12.529Z"
   },
   {
    "duration": 92,
    "start_time": "2024-07-29T09:06:12.542Z"
   },
   {
    "duration": 283,
    "start_time": "2024-07-29T09:06:12.636Z"
   },
   {
    "duration": 22,
    "start_time": "2024-07-29T09:06:12.921Z"
   },
   {
    "duration": 26,
    "start_time": "2024-07-29T09:06:12.945Z"
   },
   {
    "duration": 134,
    "start_time": "2024-07-29T09:06:12.972Z"
   },
   {
    "duration": 3,
    "start_time": "2024-07-29T09:06:13.112Z"
   },
   {
    "duration": 9,
    "start_time": "2024-07-29T09:06:13.116Z"
   },
   {
    "duration": 41,
    "start_time": "2024-07-29T09:06:13.126Z"
   },
   {
    "duration": 12,
    "start_time": "2024-07-29T09:06:13.169Z"
   },
   {
    "duration": 9,
    "start_time": "2024-07-29T09:06:51.737Z"
   },
   {
    "duration": 10,
    "start_time": "2024-07-29T09:06:55.539Z"
   },
   {
    "duration": 11,
    "start_time": "2024-07-29T09:07:19.343Z"
   },
   {
    "duration": 46,
    "start_time": "2024-07-29T09:09:32.929Z"
   },
   {
    "duration": 4330,
    "start_time": "2024-07-29T09:09:54.892Z"
   },
   {
    "duration": 81,
    "start_time": "2024-07-29T09:09:59.224Z"
   },
   {
    "duration": 22,
    "start_time": "2024-07-29T09:09:59.307Z"
   },
   {
    "duration": 15,
    "start_time": "2024-07-29T09:09:59.331Z"
   },
   {
    "duration": 15,
    "start_time": "2024-07-29T09:09:59.348Z"
   },
   {
    "duration": 14,
    "start_time": "2024-07-29T09:09:59.365Z"
   },
   {
    "duration": 40,
    "start_time": "2024-07-29T09:09:59.381Z"
   },
   {
    "duration": 15,
    "start_time": "2024-07-29T09:09:59.422Z"
   },
   {
    "duration": 7,
    "start_time": "2024-07-29T09:09:59.438Z"
   },
   {
    "duration": 6,
    "start_time": "2024-07-29T09:09:59.447Z"
   },
   {
    "duration": 11,
    "start_time": "2024-07-29T09:09:59.454Z"
   },
   {
    "duration": 41,
    "start_time": "2024-07-29T09:09:59.466Z"
   },
   {
    "duration": 5,
    "start_time": "2024-07-29T09:09:59.508Z"
   },
   {
    "duration": 23,
    "start_time": "2024-07-29T09:09:59.514Z"
   },
   {
    "duration": 7,
    "start_time": "2024-07-29T09:09:59.538Z"
   },
   {
    "duration": 19,
    "start_time": "2024-07-29T09:09:59.547Z"
   },
   {
    "duration": 6,
    "start_time": "2024-07-29T09:09:59.568Z"
   },
   {
    "duration": 6,
    "start_time": "2024-07-29T09:09:59.576Z"
   },
   {
    "duration": 6,
    "start_time": "2024-07-29T09:09:59.584Z"
   },
   {
    "duration": 5,
    "start_time": "2024-07-29T09:09:59.591Z"
   },
   {
    "duration": 1097,
    "start_time": "2024-07-29T09:09:59.597Z"
   },
   {
    "duration": 23,
    "start_time": "2024-07-29T09:10:00.695Z"
   },
   {
    "duration": 526,
    "start_time": "2024-07-29T09:10:00.720Z"
   },
   {
    "duration": 105,
    "start_time": "2024-07-29T09:10:01.248Z"
   },
   {
    "duration": 3,
    "start_time": "2024-07-29T09:10:01.355Z"
   },
   {
    "duration": 122,
    "start_time": "2024-07-29T09:10:01.359Z"
   },
   {
    "duration": 111,
    "start_time": "2024-07-29T09:10:01.483Z"
   },
   {
    "duration": 34,
    "start_time": "2024-07-29T09:10:01.597Z"
   },
   {
    "duration": 43,
    "start_time": "2024-07-29T09:10:01.633Z"
   },
   {
    "duration": 46,
    "start_time": "2024-07-29T09:10:01.677Z"
   },
   {
    "duration": 135,
    "start_time": "2024-07-29T09:10:01.724Z"
   },
   {
    "duration": 84,
    "start_time": "2024-07-29T09:10:01.860Z"
   },
   {
    "duration": 87,
    "start_time": "2024-07-29T09:10:01.946Z"
   },
   {
    "duration": 141,
    "start_time": "2024-07-29T09:10:02.035Z"
   },
   {
    "duration": 287,
    "start_time": "2024-07-29T09:10:02.177Z"
   },
   {
    "duration": 13,
    "start_time": "2024-07-29T09:10:02.465Z"
   },
   {
    "duration": 27,
    "start_time": "2024-07-29T09:10:02.479Z"
   },
   {
    "duration": 170,
    "start_time": "2024-07-29T09:10:02.507Z"
   },
   {
    "duration": 7,
    "start_time": "2024-07-29T09:10:02.679Z"
   },
   {
    "duration": 96,
    "start_time": "2024-07-29T09:10:02.687Z"
   },
   {
    "duration": 259,
    "start_time": "2024-07-29T09:10:02.785Z"
   },
   {
    "duration": 11,
    "start_time": "2024-07-29T09:10:03.046Z"
   },
   {
    "duration": 112,
    "start_time": "2024-07-29T09:10:03.058Z"
   },
   {
    "duration": 278,
    "start_time": "2024-07-29T09:10:03.171Z"
   },
   {
    "duration": 14,
    "start_time": "2024-07-29T09:10:03.450Z"
   },
   {
    "duration": 19,
    "start_time": "2024-07-29T09:10:03.466Z"
   },
   {
    "duration": 40,
    "start_time": "2024-07-29T09:10:03.486Z"
   },
   {
    "duration": 22,
    "start_time": "2024-07-29T09:10:03.527Z"
   },
   {
    "duration": 15,
    "start_time": "2024-07-29T09:10:03.550Z"
   },
   {
    "duration": 117,
    "start_time": "2024-07-29T09:10:03.567Z"
   },
   {
    "duration": 10,
    "start_time": "2024-07-29T09:10:03.686Z"
   },
   {
    "duration": 1163,
    "start_time": "2024-07-29T09:11:08.045Z"
   },
   {
    "duration": 15,
    "start_time": "2024-07-29T09:11:12.793Z"
   },
   {
    "duration": 16,
    "start_time": "2024-07-29T09:11:15.814Z"
   },
   {
    "duration": 19,
    "start_time": "2024-07-29T09:12:06.197Z"
   },
   {
    "duration": 4388,
    "start_time": "2024-07-29T09:12:18.516Z"
   },
   {
    "duration": 81,
    "start_time": "2024-07-29T09:12:22.906Z"
   },
   {
    "duration": 22,
    "start_time": "2024-07-29T09:12:22.988Z"
   },
   {
    "duration": 15,
    "start_time": "2024-07-29T09:12:23.011Z"
   },
   {
    "duration": 16,
    "start_time": "2024-07-29T09:12:23.027Z"
   },
   {
    "duration": 13,
    "start_time": "2024-07-29T09:12:23.045Z"
   },
   {
    "duration": 24,
    "start_time": "2024-07-29T09:12:23.059Z"
   },
   {
    "duration": 13,
    "start_time": "2024-07-29T09:12:23.084Z"
   },
   {
    "duration": 14,
    "start_time": "2024-07-29T09:12:23.098Z"
   },
   {
    "duration": 6,
    "start_time": "2024-07-29T09:12:23.115Z"
   },
   {
    "duration": 20,
    "start_time": "2024-07-29T09:12:23.122Z"
   },
   {
    "duration": 8,
    "start_time": "2024-07-29T09:12:23.143Z"
   },
   {
    "duration": 7,
    "start_time": "2024-07-29T09:12:23.152Z"
   },
   {
    "duration": 13,
    "start_time": "2024-07-29T09:12:23.160Z"
   },
   {
    "duration": 8,
    "start_time": "2024-07-29T09:12:23.174Z"
   },
   {
    "duration": 13,
    "start_time": "2024-07-29T09:12:23.183Z"
   },
   {
    "duration": 7,
    "start_time": "2024-07-29T09:12:23.198Z"
   },
   {
    "duration": 10,
    "start_time": "2024-07-29T09:12:23.206Z"
   },
   {
    "duration": 15,
    "start_time": "2024-07-29T09:12:23.218Z"
   },
   {
    "duration": 23,
    "start_time": "2024-07-29T09:12:23.234Z"
   },
   {
    "duration": 1154,
    "start_time": "2024-07-29T09:12:23.258Z"
   },
   {
    "duration": 11,
    "start_time": "2024-07-29T09:12:24.413Z"
   },
   {
    "duration": 370,
    "start_time": "2024-07-29T09:12:24.425Z"
   },
   {
    "duration": 98,
    "start_time": "2024-07-29T09:12:24.796Z"
   },
   {
    "duration": 3,
    "start_time": "2024-07-29T09:12:24.896Z"
   },
   {
    "duration": 112,
    "start_time": "2024-07-29T09:12:24.900Z"
   },
   {
    "duration": 119,
    "start_time": "2024-07-29T09:12:25.013Z"
   },
   {
    "duration": 27,
    "start_time": "2024-07-29T09:12:25.136Z"
   },
   {
    "duration": 10,
    "start_time": "2024-07-29T09:12:25.164Z"
   },
   {
    "duration": 10,
    "start_time": "2024-07-29T09:12:25.175Z"
   },
   {
    "duration": 98,
    "start_time": "2024-07-29T09:12:25.186Z"
   },
   {
    "duration": 87,
    "start_time": "2024-07-29T09:12:25.286Z"
   },
   {
    "duration": 87,
    "start_time": "2024-07-29T09:12:25.374Z"
   },
   {
    "duration": 127,
    "start_time": "2024-07-29T09:12:25.463Z"
   },
   {
    "duration": 294,
    "start_time": "2024-07-29T09:12:25.592Z"
   },
   {
    "duration": 12,
    "start_time": "2024-07-29T09:12:25.888Z"
   },
   {
    "duration": 8,
    "start_time": "2024-07-29T09:12:25.912Z"
   },
   {
    "duration": 185,
    "start_time": "2024-07-29T09:12:25.921Z"
   },
   {
    "duration": 7,
    "start_time": "2024-07-29T09:12:26.112Z"
   },
   {
    "duration": 95,
    "start_time": "2024-07-29T09:12:26.120Z"
   },
   {
    "duration": 267,
    "start_time": "2024-07-29T09:12:26.216Z"
   },
   {
    "duration": 12,
    "start_time": "2024-07-29T09:12:26.485Z"
   },
   {
    "duration": 83,
    "start_time": "2024-07-29T09:12:26.498Z"
   },
   {
    "duration": 283,
    "start_time": "2024-07-29T09:12:26.583Z"
   },
   {
    "duration": 13,
    "start_time": "2024-07-29T09:12:26.867Z"
   },
   {
    "duration": 22,
    "start_time": "2024-07-29T09:12:26.881Z"
   },
   {
    "duration": 101,
    "start_time": "2024-07-29T09:12:26.912Z"
   },
   {
    "duration": 3,
    "start_time": "2024-07-29T09:12:27.014Z"
   },
   {
    "duration": 15,
    "start_time": "2024-07-29T09:12:27.018Z"
   },
   {
    "duration": 31,
    "start_time": "2024-07-29T09:12:27.035Z"
   },
   {
    "duration": 10,
    "start_time": "2024-07-29T09:12:27.068Z"
   },
   {
    "duration": 1244,
    "start_time": "2024-07-29T09:13:06.008Z"
   },
   {
    "duration": 18,
    "start_time": "2024-07-29T09:13:22.850Z"
   },
   {
    "duration": 18,
    "start_time": "2024-07-29T09:13:29.134Z"
   },
   {
    "duration": 4449,
    "start_time": "2024-07-29T09:13:48.092Z"
   },
   {
    "duration": 82,
    "start_time": "2024-07-29T09:13:52.543Z"
   },
   {
    "duration": 22,
    "start_time": "2024-07-29T09:13:52.627Z"
   },
   {
    "duration": 13,
    "start_time": "2024-07-29T09:13:52.650Z"
   },
   {
    "duration": 22,
    "start_time": "2024-07-29T09:13:52.664Z"
   },
   {
    "duration": 26,
    "start_time": "2024-07-29T09:13:52.687Z"
   },
   {
    "duration": 43,
    "start_time": "2024-07-29T09:13:52.715Z"
   },
   {
    "duration": 41,
    "start_time": "2024-07-29T09:13:52.760Z"
   },
   {
    "duration": 8,
    "start_time": "2024-07-29T09:13:52.803Z"
   },
   {
    "duration": 12,
    "start_time": "2024-07-29T09:13:52.814Z"
   },
   {
    "duration": 9,
    "start_time": "2024-07-29T09:13:52.827Z"
   },
   {
    "duration": 28,
    "start_time": "2024-07-29T09:13:52.838Z"
   },
   {
    "duration": 5,
    "start_time": "2024-07-29T09:13:52.867Z"
   },
   {
    "duration": 13,
    "start_time": "2024-07-29T09:13:52.873Z"
   },
   {
    "duration": 15,
    "start_time": "2024-07-29T09:13:52.888Z"
   },
   {
    "duration": 10,
    "start_time": "2024-07-29T09:13:52.904Z"
   },
   {
    "duration": 15,
    "start_time": "2024-07-29T09:13:52.915Z"
   },
   {
    "duration": 8,
    "start_time": "2024-07-29T09:13:52.931Z"
   },
   {
    "duration": 9,
    "start_time": "2024-07-29T09:13:52.941Z"
   },
   {
    "duration": 7,
    "start_time": "2024-07-29T09:13:52.951Z"
   },
   {
    "duration": 1312,
    "start_time": "2024-07-29T09:13:52.959Z"
   },
   {
    "duration": 11,
    "start_time": "2024-07-29T09:13:54.272Z"
   },
   {
    "duration": 365,
    "start_time": "2024-07-29T09:13:54.285Z"
   },
   {
    "duration": 113,
    "start_time": "2024-07-29T09:13:54.652Z"
   },
   {
    "duration": 3,
    "start_time": "2024-07-29T09:13:54.767Z"
   },
   {
    "duration": 136,
    "start_time": "2024-07-29T09:13:54.772Z"
   },
   {
    "duration": 112,
    "start_time": "2024-07-29T09:13:54.911Z"
   },
   {
    "duration": 26,
    "start_time": "2024-07-29T09:13:55.026Z"
   },
   {
    "duration": 9,
    "start_time": "2024-07-29T09:13:55.054Z"
   },
   {
    "duration": 3,
    "start_time": "2024-07-29T09:13:55.064Z"
   },
   {
    "duration": 106,
    "start_time": "2024-07-29T09:13:55.068Z"
   },
   {
    "duration": 91,
    "start_time": "2024-07-29T09:13:55.176Z"
   },
   {
    "duration": 90,
    "start_time": "2024-07-29T09:13:55.268Z"
   },
   {
    "duration": 128,
    "start_time": "2024-07-29T09:13:55.359Z"
   },
   {
    "duration": 282,
    "start_time": "2024-07-29T09:13:55.489Z"
   },
   {
    "duration": 17,
    "start_time": "2024-07-29T09:13:55.772Z"
   },
   {
    "duration": 25,
    "start_time": "2024-07-29T09:13:55.791Z"
   },
   {
    "duration": 176,
    "start_time": "2024-07-29T09:13:55.817Z"
   },
   {
    "duration": 8,
    "start_time": "2024-07-29T09:13:55.994Z"
   },
   {
    "duration": 96,
    "start_time": "2024-07-29T09:13:56.003Z"
   },
   {
    "duration": 262,
    "start_time": "2024-07-29T09:13:56.111Z"
   },
   {
    "duration": 12,
    "start_time": "2024-07-29T09:13:56.375Z"
   },
   {
    "duration": 121,
    "start_time": "2024-07-29T09:13:56.389Z"
   },
   {
    "duration": 275,
    "start_time": "2024-07-29T09:13:56.511Z"
   },
   {
    "duration": 13,
    "start_time": "2024-07-29T09:13:56.788Z"
   },
   {
    "duration": 18,
    "start_time": "2024-07-29T09:13:56.812Z"
   },
   {
    "duration": 100,
    "start_time": "2024-07-29T09:13:56.831Z"
   },
   {
    "duration": 1,
    "start_time": "2024-07-29T09:13:56.933Z"
   },
   {
    "duration": 20,
    "start_time": "2024-07-29T09:13:56.936Z"
   },
   {
    "duration": 30,
    "start_time": "2024-07-29T09:13:56.958Z"
   },
   {
    "duration": 10,
    "start_time": "2024-07-29T09:13:56.989Z"
   },
   {
    "duration": 20,
    "start_time": "2024-07-29T09:14:29.463Z"
   },
   {
    "duration": 11,
    "start_time": "2024-07-29T09:14:30.883Z"
   },
   {
    "duration": 18,
    "start_time": "2024-07-29T09:14:42.351Z"
   },
   {
    "duration": 16,
    "start_time": "2024-07-29T09:14:42.736Z"
   },
   {
    "duration": 2,
    "start_time": "2024-07-29T09:14:43.122Z"
   },
   {
    "duration": 136,
    "start_time": "2024-07-29T09:14:43.496Z"
   },
   {
    "duration": 19,
    "start_time": "2024-07-29T09:14:45.939Z"
   },
   {
    "duration": 4432,
    "start_time": "2024-07-29T09:15:15.894Z"
   },
   {
    "duration": 82,
    "start_time": "2024-07-29T09:15:20.327Z"
   },
   {
    "duration": 41,
    "start_time": "2024-07-29T09:15:20.411Z"
   },
   {
    "duration": 14,
    "start_time": "2024-07-29T09:15:20.455Z"
   },
   {
    "duration": 17,
    "start_time": "2024-07-29T09:15:20.470Z"
   },
   {
    "duration": 20,
    "start_time": "2024-07-29T09:15:20.489Z"
   },
   {
    "duration": 20,
    "start_time": "2024-07-29T09:15:20.511Z"
   },
   {
    "duration": 27,
    "start_time": "2024-07-29T09:15:20.533Z"
   },
   {
    "duration": 22,
    "start_time": "2024-07-29T09:15:20.561Z"
   },
   {
    "duration": 12,
    "start_time": "2024-07-29T09:15:20.585Z"
   },
   {
    "duration": 25,
    "start_time": "2024-07-29T09:15:20.598Z"
   },
   {
    "duration": 16,
    "start_time": "2024-07-29T09:15:20.625Z"
   },
   {
    "duration": 13,
    "start_time": "2024-07-29T09:15:20.642Z"
   },
   {
    "duration": 30,
    "start_time": "2024-07-29T09:15:20.657Z"
   },
   {
    "duration": 27,
    "start_time": "2024-07-29T09:15:20.688Z"
   },
   {
    "duration": 119,
    "start_time": "2024-07-29T09:15:20.717Z"
   },
   {
    "duration": 7,
    "start_time": "2024-07-29T09:15:20.837Z"
   },
   {
    "duration": 15,
    "start_time": "2024-07-29T09:15:20.846Z"
   },
   {
    "duration": 26,
    "start_time": "2024-07-29T09:15:20.862Z"
   },
   {
    "duration": 26,
    "start_time": "2024-07-29T09:15:20.890Z"
   },
   {
    "duration": 1137,
    "start_time": "2024-07-29T09:15:20.918Z"
   },
   {
    "duration": 11,
    "start_time": "2024-07-29T09:15:22.056Z"
   },
   {
    "duration": 383,
    "start_time": "2024-07-29T09:15:22.068Z"
   },
   {
    "duration": 104,
    "start_time": "2024-07-29T09:15:22.453Z"
   },
   {
    "duration": 4,
    "start_time": "2024-07-29T09:15:22.558Z"
   },
   {
    "duration": 115,
    "start_time": "2024-07-29T09:15:22.563Z"
   },
   {
    "duration": 118,
    "start_time": "2024-07-29T09:15:22.679Z"
   },
   {
    "duration": 35,
    "start_time": "2024-07-29T09:15:22.800Z"
   },
   {
    "duration": 9,
    "start_time": "2024-07-29T09:15:22.837Z"
   },
   {
    "duration": 4,
    "start_time": "2024-07-29T09:15:22.847Z"
   },
   {
    "duration": 99,
    "start_time": "2024-07-29T09:15:22.852Z"
   },
   {
    "duration": 92,
    "start_time": "2024-07-29T09:15:22.952Z"
   },
   {
    "duration": 95,
    "start_time": "2024-07-29T09:15:23.046Z"
   },
   {
    "duration": 128,
    "start_time": "2024-07-29T09:15:23.143Z"
   },
   {
    "duration": 286,
    "start_time": "2024-07-29T09:15:23.273Z"
   },
   {
    "duration": 12,
    "start_time": "2024-07-29T09:15:23.560Z"
   },
   {
    "duration": 11,
    "start_time": "2024-07-29T09:15:23.574Z"
   },
   {
    "duration": 196,
    "start_time": "2024-07-29T09:15:23.587Z"
   },
   {
    "duration": 7,
    "start_time": "2024-07-29T09:15:23.785Z"
   },
   {
    "duration": 91,
    "start_time": "2024-07-29T09:15:23.793Z"
   },
   {
    "duration": 273,
    "start_time": "2024-07-29T09:15:23.885Z"
   },
   {
    "duration": 13,
    "start_time": "2024-07-29T09:15:24.159Z"
   },
   {
    "duration": 93,
    "start_time": "2024-07-29T09:15:24.173Z"
   },
   {
    "duration": 287,
    "start_time": "2024-07-29T09:15:24.268Z"
   },
   {
    "duration": 14,
    "start_time": "2024-07-29T09:15:24.556Z"
   },
   {
    "duration": 22,
    "start_time": "2024-07-29T09:15:24.571Z"
   },
   {
    "duration": 111,
    "start_time": "2024-07-29T09:15:24.594Z"
   },
   {
    "duration": 5,
    "start_time": "2024-07-29T09:15:24.707Z"
   },
   {
    "duration": 7,
    "start_time": "2024-07-29T09:15:24.714Z"
   },
   {
    "duration": 111,
    "start_time": "2024-07-29T09:15:24.722Z"
   },
   {
    "duration": 11,
    "start_time": "2024-07-29T09:15:24.835Z"
   },
   {
    "duration": 72,
    "start_time": "2024-07-29T09:16:53.104Z"
   },
   {
    "duration": 4687,
    "start_time": "2024-07-29T09:27:21.821Z"
   },
   {
    "duration": 92,
    "start_time": "2024-07-29T09:27:26.511Z"
   },
   {
    "duration": 31,
    "start_time": "2024-07-29T09:27:26.605Z"
   },
   {
    "duration": 15,
    "start_time": "2024-07-29T09:27:26.638Z"
   },
   {
    "duration": 15,
    "start_time": "2024-07-29T09:27:26.654Z"
   },
   {
    "duration": 14,
    "start_time": "2024-07-29T09:27:26.670Z"
   },
   {
    "duration": 13,
    "start_time": "2024-07-29T09:27:26.712Z"
   },
   {
    "duration": 11,
    "start_time": "2024-07-29T09:27:26.726Z"
   },
   {
    "duration": 11,
    "start_time": "2024-07-29T09:27:26.739Z"
   },
   {
    "duration": 7,
    "start_time": "2024-07-29T09:27:26.753Z"
   },
   {
    "duration": 9,
    "start_time": "2024-07-29T09:27:26.761Z"
   },
   {
    "duration": 34,
    "start_time": "2024-07-29T09:27:26.771Z"
   },
   {
    "duration": 40,
    "start_time": "2024-07-29T09:27:26.807Z"
   },
   {
    "duration": 7,
    "start_time": "2024-07-29T09:27:26.848Z"
   },
   {
    "duration": 8,
    "start_time": "2024-07-29T09:27:26.856Z"
   },
   {
    "duration": 10,
    "start_time": "2024-07-29T09:27:26.865Z"
   },
   {
    "duration": 7,
    "start_time": "2024-07-29T09:27:26.876Z"
   },
   {
    "duration": 13,
    "start_time": "2024-07-29T09:27:26.884Z"
   },
   {
    "duration": 13,
    "start_time": "2024-07-29T09:27:26.898Z"
   },
   {
    "duration": 10,
    "start_time": "2024-07-29T09:27:26.912Z"
   },
   {
    "duration": 1239,
    "start_time": "2024-07-29T09:27:26.924Z"
   },
   {
    "duration": 15,
    "start_time": "2024-07-29T09:27:28.164Z"
   },
   {
    "duration": 417,
    "start_time": "2024-07-29T09:27:28.181Z"
   },
   {
    "duration": 116,
    "start_time": "2024-07-29T09:27:28.600Z"
   },
   {
    "duration": 4,
    "start_time": "2024-07-29T09:27:28.718Z"
   },
   {
    "duration": 125,
    "start_time": "2024-07-29T09:27:28.724Z"
   },
   {
    "duration": 132,
    "start_time": "2024-07-29T09:27:28.850Z"
   },
   {
    "duration": 37,
    "start_time": "2024-07-29T09:27:28.986Z"
   },
   {
    "duration": 10,
    "start_time": "2024-07-29T09:27:29.025Z"
   },
   {
    "duration": 4,
    "start_time": "2024-07-29T09:27:29.036Z"
   },
   {
    "duration": 108,
    "start_time": "2024-07-29T09:27:29.041Z"
   },
   {
    "duration": 100,
    "start_time": "2024-07-29T09:27:29.151Z"
   },
   {
    "duration": 116,
    "start_time": "2024-07-29T09:27:29.252Z"
   },
   {
    "duration": 150,
    "start_time": "2024-07-29T09:27:29.370Z"
   },
   {
    "duration": 303,
    "start_time": "2024-07-29T09:27:29.522Z"
   },
   {
    "duration": 14,
    "start_time": "2024-07-29T09:27:29.827Z"
   },
   {
    "duration": 10,
    "start_time": "2024-07-29T09:27:29.843Z"
   },
   {
    "duration": 202,
    "start_time": "2024-07-29T09:27:29.855Z"
   },
   {
    "duration": 8,
    "start_time": "2024-07-29T09:27:30.058Z"
   },
   {
    "duration": 122,
    "start_time": "2024-07-29T09:27:30.067Z"
   },
   {
    "duration": 290,
    "start_time": "2024-07-29T09:27:30.190Z"
   },
   {
    "duration": 14,
    "start_time": "2024-07-29T09:27:30.482Z"
   },
   {
    "duration": 132,
    "start_time": "2024-07-29T09:27:30.498Z"
   },
   {
    "duration": 302,
    "start_time": "2024-07-29T09:27:30.632Z"
   },
   {
    "duration": 15,
    "start_time": "2024-07-29T09:27:30.936Z"
   },
   {
    "duration": 33,
    "start_time": "2024-07-29T09:27:30.953Z"
   },
   {
    "duration": 143,
    "start_time": "2024-07-29T09:27:30.988Z"
   },
   {
    "duration": 3,
    "start_time": "2024-07-29T09:27:31.133Z"
   },
   {
    "duration": 44,
    "start_time": "2024-07-29T09:27:31.138Z"
   },
   {
    "duration": 59,
    "start_time": "2024-07-29T09:27:31.184Z"
   },
   {
    "duration": 45,
    "start_time": "2024-07-29T09:27:31.245Z"
   },
   {
    "duration": 1166,
    "start_time": "2024-07-29T09:27:31.292Z"
   },
   {
    "duration": 7,
    "start_time": "2024-07-29T09:27:32.460Z"
   },
   {
    "duration": 35,
    "start_time": "2024-07-29T09:27:32.468Z"
   },
   {
    "duration": 3,
    "start_time": "2024-07-29T09:27:32.504Z"
   },
   {
    "duration": 7,
    "start_time": "2024-07-29T09:27:32.509Z"
   },
   {
    "duration": 9,
    "start_time": "2024-07-29T09:27:32.517Z"
   },
   {
    "duration": 7,
    "start_time": "2024-07-29T09:27:32.527Z"
   },
   {
    "duration": 6,
    "start_time": "2024-07-29T09:27:32.536Z"
   },
   {
    "duration": 2386,
    "start_time": "2024-07-29T09:27:32.544Z"
   },
   {
    "duration": 105,
    "start_time": "2024-07-29T09:27:35.013Z"
   },
   {
    "duration": 12699,
    "start_time": "2024-07-29T09:27:35.119Z"
   },
   {
    "duration": 697,
    "start_time": "2024-07-29T09:27:47.820Z"
   },
   {
    "duration": 11,
    "start_time": "2024-07-29T09:27:48.518Z"
   },
   {
    "duration": 206,
    "start_time": "2024-07-29T09:27:48.531Z"
   },
   {
    "duration": 21,
    "start_time": "2024-07-29T09:27:48.739Z"
   },
   {
    "duration": 547,
    "start_time": "2024-07-29T09:27:48.762Z"
   },
   {
    "duration": 20,
    "start_time": "2024-07-29T09:27:49.311Z"
   },
   {
    "duration": 19,
    "start_time": "2024-07-29T09:27:49.333Z"
   },
   {
    "duration": 560,
    "start_time": "2024-07-29T09:27:49.354Z"
   },
   {
    "duration": 22,
    "start_time": "2024-07-29T09:27:49.915Z"
   },
   {
    "duration": 640,
    "start_time": "2024-07-29T09:32:32.463Z"
   },
   {
    "duration": 437,
    "start_time": "2024-07-29T09:32:53.250Z"
   },
   {
    "duration": 4539,
    "start_time": "2024-07-29T09:33:26.377Z"
   },
   {
    "duration": 83,
    "start_time": "2024-07-29T09:33:30.918Z"
   },
   {
    "duration": 22,
    "start_time": "2024-07-29T09:33:31.002Z"
   },
   {
    "duration": 35,
    "start_time": "2024-07-29T09:33:31.025Z"
   },
   {
    "duration": 46,
    "start_time": "2024-07-29T09:33:31.062Z"
   },
   {
    "duration": 49,
    "start_time": "2024-07-29T09:33:31.109Z"
   },
   {
    "duration": 52,
    "start_time": "2024-07-29T09:33:31.159Z"
   },
   {
    "duration": 31,
    "start_time": "2024-07-29T09:33:31.213Z"
   },
   {
    "duration": 36,
    "start_time": "2024-07-29T09:33:31.245Z"
   },
   {
    "duration": 27,
    "start_time": "2024-07-29T09:33:31.283Z"
   },
   {
    "duration": 33,
    "start_time": "2024-07-29T09:33:31.312Z"
   },
   {
    "duration": 51,
    "start_time": "2024-07-29T09:33:31.347Z"
   },
   {
    "duration": 34,
    "start_time": "2024-07-29T09:33:31.400Z"
   },
   {
    "duration": 86,
    "start_time": "2024-07-29T09:33:31.435Z"
   },
   {
    "duration": 82,
    "start_time": "2024-07-29T09:33:31.522Z"
   },
   {
    "duration": 93,
    "start_time": "2024-07-29T09:33:31.605Z"
   },
   {
    "duration": 49,
    "start_time": "2024-07-29T09:33:31.700Z"
   },
   {
    "duration": 10,
    "start_time": "2024-07-29T09:33:31.751Z"
   },
   {
    "duration": 7,
    "start_time": "2024-07-29T09:33:31.763Z"
   },
   {
    "duration": 10,
    "start_time": "2024-07-29T09:33:31.771Z"
   },
   {
    "duration": 1145,
    "start_time": "2024-07-29T09:33:31.783Z"
   },
   {
    "duration": 12,
    "start_time": "2024-07-29T09:33:32.929Z"
   },
   {
    "duration": 390,
    "start_time": "2024-07-29T09:33:32.942Z"
   },
   {
    "duration": 111,
    "start_time": "2024-07-29T09:33:33.333Z"
   },
   {
    "duration": 4,
    "start_time": "2024-07-29T09:33:33.446Z"
   },
   {
    "duration": 112,
    "start_time": "2024-07-29T09:33:33.452Z"
   },
   {
    "duration": 124,
    "start_time": "2024-07-29T09:33:33.565Z"
   },
   {
    "duration": 35,
    "start_time": "2024-07-29T09:33:33.694Z"
   },
   {
    "duration": 10,
    "start_time": "2024-07-29T09:33:33.731Z"
   },
   {
    "duration": 2,
    "start_time": "2024-07-29T09:33:33.743Z"
   },
   {
    "duration": 109,
    "start_time": "2024-07-29T09:33:33.747Z"
   },
   {
    "duration": 92,
    "start_time": "2024-07-29T09:33:33.858Z"
   },
   {
    "duration": 97,
    "start_time": "2024-07-29T09:33:33.952Z"
   },
   {
    "duration": 137,
    "start_time": "2024-07-29T09:33:34.050Z"
   },
   {
    "duration": 304,
    "start_time": "2024-07-29T09:33:34.188Z"
   },
   {
    "duration": 24,
    "start_time": "2024-07-29T09:33:34.493Z"
   },
   {
    "duration": 26,
    "start_time": "2024-07-29T09:33:34.518Z"
   },
   {
    "duration": 180,
    "start_time": "2024-07-29T09:33:34.545Z"
   },
   {
    "duration": 7,
    "start_time": "2024-07-29T09:33:34.726Z"
   },
   {
    "duration": 94,
    "start_time": "2024-07-29T09:33:34.734Z"
   },
   {
    "duration": 282,
    "start_time": "2024-07-29T09:33:34.830Z"
   },
   {
    "duration": 18,
    "start_time": "2024-07-29T09:33:35.113Z"
   },
   {
    "duration": 101,
    "start_time": "2024-07-29T09:33:35.132Z"
   },
   {
    "duration": 309,
    "start_time": "2024-07-29T09:33:35.235Z"
   },
   {
    "duration": 19,
    "start_time": "2024-07-29T09:33:35.545Z"
   },
   {
    "duration": 19,
    "start_time": "2024-07-29T09:33:35.565Z"
   },
   {
    "duration": 143,
    "start_time": "2024-07-29T09:33:35.585Z"
   },
   {
    "duration": 3,
    "start_time": "2024-07-29T09:33:35.730Z"
   },
   {
    "duration": 14,
    "start_time": "2024-07-29T09:33:35.735Z"
   },
   {
    "duration": 24,
    "start_time": "2024-07-29T09:33:35.750Z"
   },
   {
    "duration": 38,
    "start_time": "2024-07-29T09:33:35.776Z"
   },
   {
    "duration": 1170,
    "start_time": "2024-07-29T09:33:35.816Z"
   },
   {
    "duration": 10,
    "start_time": "2024-07-29T09:33:36.989Z"
   },
   {
    "duration": 16,
    "start_time": "2024-07-29T09:33:37.000Z"
   },
   {
    "duration": 33,
    "start_time": "2024-07-29T09:33:37.017Z"
   },
   {
    "duration": 6,
    "start_time": "2024-07-29T09:33:37.053Z"
   },
   {
    "duration": 12,
    "start_time": "2024-07-29T09:33:37.061Z"
   },
   {
    "duration": 9,
    "start_time": "2024-07-29T09:33:37.074Z"
   },
   {
    "duration": 11,
    "start_time": "2024-07-29T09:33:37.084Z"
   },
   {
    "duration": 2426,
    "start_time": "2024-07-29T09:33:37.096Z"
   },
   {
    "duration": 101,
    "start_time": "2024-07-29T09:33:39.611Z"
   },
   {
    "duration": 286498,
    "start_time": "2024-07-29T09:33:39.714Z"
   },
   {
    "duration": 584,
    "start_time": "2024-07-29T09:38:26.214Z"
   },
   {
    "duration": 19,
    "start_time": "2024-07-29T09:38:26.800Z"
   },
   {
    "duration": 210,
    "start_time": "2024-07-29T09:38:26.821Z"
   },
   {
    "duration": 21,
    "start_time": "2024-07-29T09:38:27.033Z"
   },
   {
    "duration": 593,
    "start_time": "2024-07-29T09:38:27.056Z"
   },
   {
    "duration": 22,
    "start_time": "2024-07-29T09:38:27.651Z"
   },
   {
    "duration": 20,
    "start_time": "2024-07-29T09:38:27.675Z"
   },
   {
    "duration": 636,
    "start_time": "2024-07-29T09:38:27.696Z"
   },
   {
    "duration": 22,
    "start_time": "2024-07-29T09:38:28.333Z"
   },
   {
    "duration": 4525,
    "start_time": "2024-07-29T09:39:30.543Z"
   },
   {
    "duration": 83,
    "start_time": "2024-07-29T09:39:35.069Z"
   },
   {
    "duration": 22,
    "start_time": "2024-07-29T09:39:35.154Z"
   },
   {
    "duration": 36,
    "start_time": "2024-07-29T09:39:35.178Z"
   },
   {
    "duration": 41,
    "start_time": "2024-07-29T09:39:35.215Z"
   },
   {
    "duration": 18,
    "start_time": "2024-07-29T09:39:35.258Z"
   },
   {
    "duration": 18,
    "start_time": "2024-07-29T09:39:35.277Z"
   },
   {
    "duration": 18,
    "start_time": "2024-07-29T09:39:35.296Z"
   },
   {
    "duration": 27,
    "start_time": "2024-07-29T09:39:35.316Z"
   },
   {
    "duration": 6,
    "start_time": "2024-07-29T09:39:35.347Z"
   },
   {
    "duration": 12,
    "start_time": "2024-07-29T09:39:35.355Z"
   },
   {
    "duration": 13,
    "start_time": "2024-07-29T09:39:35.368Z"
   },
   {
    "duration": 19,
    "start_time": "2024-07-29T09:39:35.382Z"
   },
   {
    "duration": 8,
    "start_time": "2024-07-29T09:39:35.403Z"
   },
   {
    "duration": 28,
    "start_time": "2024-07-29T09:39:35.412Z"
   },
   {
    "duration": 14,
    "start_time": "2024-07-29T09:39:35.442Z"
   },
   {
    "duration": 31,
    "start_time": "2024-07-29T09:39:35.457Z"
   },
   {
    "duration": 15,
    "start_time": "2024-07-29T09:39:35.490Z"
   },
   {
    "duration": 6,
    "start_time": "2024-07-29T09:39:35.507Z"
   },
   {
    "duration": 7,
    "start_time": "2024-07-29T09:39:35.515Z"
   },
   {
    "duration": 1152,
    "start_time": "2024-07-29T09:39:35.524Z"
   },
   {
    "duration": 12,
    "start_time": "2024-07-29T09:39:36.677Z"
   },
   {
    "duration": 403,
    "start_time": "2024-07-29T09:39:36.691Z"
   },
   {
    "duration": 110,
    "start_time": "2024-07-29T09:39:37.096Z"
   },
   {
    "duration": 3,
    "start_time": "2024-07-29T09:39:37.212Z"
   },
   {
    "duration": 109,
    "start_time": "2024-07-29T09:39:37.216Z"
   },
   {
    "duration": 115,
    "start_time": "2024-07-29T09:39:37.326Z"
   },
   {
    "duration": 26,
    "start_time": "2024-07-29T09:39:37.445Z"
   },
   {
    "duration": 9,
    "start_time": "2024-07-29T09:39:37.472Z"
   },
   {
    "duration": 5,
    "start_time": "2024-07-29T09:39:37.482Z"
   },
   {
    "duration": 105,
    "start_time": "2024-07-29T09:39:37.488Z"
   },
   {
    "duration": 89,
    "start_time": "2024-07-29T09:39:37.594Z"
   },
   {
    "duration": 102,
    "start_time": "2024-07-29T09:39:37.684Z"
   },
   {
    "duration": 136,
    "start_time": "2024-07-29T09:39:37.787Z"
   },
   {
    "duration": 304,
    "start_time": "2024-07-29T09:39:37.924Z"
   },
   {
    "duration": 13,
    "start_time": "2024-07-29T09:39:38.229Z"
   },
   {
    "duration": 10,
    "start_time": "2024-07-29T09:39:38.243Z"
   },
   {
    "duration": 195,
    "start_time": "2024-07-29T09:39:38.255Z"
   },
   {
    "duration": 8,
    "start_time": "2024-07-29T09:39:38.452Z"
   },
   {
    "duration": 126,
    "start_time": "2024-07-29T09:39:38.461Z"
   },
   {
    "duration": 282,
    "start_time": "2024-07-29T09:39:38.589Z"
   },
   {
    "duration": 13,
    "start_time": "2024-07-29T09:39:38.872Z"
   },
   {
    "duration": 140,
    "start_time": "2024-07-29T09:39:38.887Z"
   },
   {
    "duration": 314,
    "start_time": "2024-07-29T09:39:39.029Z"
   },
   {
    "duration": 11,
    "start_time": "2024-07-29T09:39:39.345Z"
   },
   {
    "duration": 19,
    "start_time": "2024-07-29T09:39:39.357Z"
   },
   {
    "duration": 114,
    "start_time": "2024-07-29T09:39:39.377Z"
   },
   {
    "duration": 2,
    "start_time": "2024-07-29T09:39:39.493Z"
   },
   {
    "duration": 16,
    "start_time": "2024-07-29T09:39:39.497Z"
   },
   {
    "duration": 26,
    "start_time": "2024-07-29T09:39:39.515Z"
   },
   {
    "duration": 10,
    "start_time": "2024-07-29T09:39:39.543Z"
   },
   {
    "duration": 1168,
    "start_time": "2024-07-29T09:39:39.554Z"
   },
   {
    "duration": 10,
    "start_time": "2024-07-29T09:39:40.723Z"
   },
   {
    "duration": 23,
    "start_time": "2024-07-29T09:39:40.734Z"
   },
   {
    "duration": 17,
    "start_time": "2024-07-29T09:39:40.759Z"
   },
   {
    "duration": 29,
    "start_time": "2024-07-29T09:39:40.778Z"
   },
   {
    "duration": 17,
    "start_time": "2024-07-29T09:39:40.809Z"
   },
   {
    "duration": 13,
    "start_time": "2024-07-29T09:39:40.828Z"
   },
   {
    "duration": 85,
    "start_time": "2024-07-29T09:39:40.842Z"
   },
   {
    "duration": 2203,
    "start_time": "2024-07-29T09:39:40.928Z"
   },
   {
    "duration": 181,
    "start_time": "2024-07-29T09:39:43.133Z"
   },
   {
    "duration": 767196,
    "start_time": "2024-07-29T09:39:43.316Z"
   },
   {
    "duration": 621,
    "start_time": "2024-07-29T09:52:30.514Z"
   },
   {
    "duration": 10,
    "start_time": "2024-07-29T09:52:31.137Z"
   },
   {
    "duration": 267,
    "start_time": "2024-07-29T09:52:31.148Z"
   },
   {
    "duration": 16,
    "start_time": "2024-07-29T09:52:31.417Z"
   },
   {
    "duration": 543,
    "start_time": "2024-07-29T09:52:31.434Z"
   },
   {
    "duration": 20,
    "start_time": "2024-07-29T09:52:31.979Z"
   },
   {
    "duration": 27,
    "start_time": "2024-07-29T09:52:32.000Z"
   },
   {
    "duration": 667,
    "start_time": "2024-07-29T09:52:32.028Z"
   },
   {
    "duration": 28,
    "start_time": "2024-07-29T09:52:32.696Z"
   },
   {
    "duration": 7846,
    "start_time": "2024-07-29T18:01:13.276Z"
   }
  ],
  "colab": {
   "provenance": []
  },
  "kernelspec": {
   "display_name": "Python 3 (ipykernel)",
   "language": "python",
   "name": "python3"
  },
  "language_info": {
   "codemirror_mode": {
    "name": "ipython",
    "version": 3
   },
   "file_extension": ".py",
   "mimetype": "text/x-python",
   "name": "python",
   "nbconvert_exporter": "python",
   "pygments_lexer": "ipython3",
   "version": "3.11.7"
  },
  "toc": {
   "base_numbering": 1,
   "nav_menu": {},
   "number_sections": true,
   "sideBar": true,
   "skip_h1_title": true,
   "title_cell": "Table of Contents",
   "title_sidebar": "Contents",
   "toc_cell": false,
   "toc_position": {
    "height": "calc(100% - 180px)",
    "left": "10px",
    "top": "150px",
    "width": "289px"
   },
   "toc_section_display": true,
   "toc_window_display": true
  }
 },
 "nbformat": 4,
 "nbformat_minor": 4
}
