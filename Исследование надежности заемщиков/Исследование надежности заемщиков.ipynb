{
 "cells": [
  {
   "cell_type": "markdown",
   "id": "aba73e59",
   "metadata": {
    "deletable": false,
    "editable": false,
    "id": "c81daeeb"
   },
   "source": [
    "# Исследование надежности заемщиков\n"
   ]
  },
  {
   "cell_type": "markdown",
   "id": "7a51316e-45b2-4362-8808-3620c9f95852",
   "metadata": {},
   "source": [
    "**Описание проекта:** Заказчик — кредитный отдел банка. Нужно разобраться, влияет ли семейное положение и количество детей клиента на факт погашения кредита в срок. Входные данные от банка — статистика о платёжеспособности клиентов.\n",
    "Результаты исследования будут учтены при построении модели кредитного скоринга — специальной системы, которая оценивает способность потенциального заёмщика вернуть кредит банку.\n",
    "\n",
    "\n",
    "\n",
    "  \n",
    "**Описание данных:**\n",
    "\n",
    "- children — количество детей в семье\n",
    "- days_employed — общий трудовой стаж в днях\n",
    "- dob_years — возраст клиента в годах\n",
    "- education — уровень образования клиента\n",
    "- education_id — идентификатор уровня образования\n",
    "- family_status — семейное положение\n",
    "- family_status_id — идентификатор семейного положения\n",
    "- gender — пол клиента\n",
    "- income_type — тип занятости\n",
    "- debt — имел ли задолженность по возврату кредитов\n",
    "- total_income — ежемесячный доход\n",
    "- purpose — цель получения кредита   "
   ]
  },
  {
   "cell_type": "markdown",
   "id": "db891e54",
   "metadata": {
    "deletable": false,
    "editable": false,
    "id": "827c20bf"
   },
   "source": [
    "Во второй части проекта вы выполните шаги 3 и 4. Их вручную проверит ревьюер.\n",
    "Чтобы вам не пришлось писать код заново для шагов 1 и 2, мы добавили авторские решения в ячейки с кодом. \n",
    "\n"
   ]
  },
  {
   "cell_type": "markdown",
   "id": "13dc2ace",
   "metadata": {
    "deletable": false,
    "editable": false,
    "id": "744d7639"
   },
   "source": [
    "## Откройте таблицу и изучите общую информацию о данных"
   ]
  },
  {
   "cell_type": "markdown",
   "id": "eda216a2",
   "metadata": {
    "deletable": false,
    "editable": false,
    "id": "e7a14c31"
   },
   "source": [
    "**Задание 1. Импортируйте библиотеку pandas. Считайте данные из csv-файла в датафрейм и сохраните в переменную `data`. Путь к файлу:**\n",
    "\n",
    "`/datasets/data.csv`"
   ]
  },
  {
   "cell_type": "code",
   "execution_count": 2,
   "id": "359d2e36",
   "metadata": {
    "deletable": false,
    "id": "7bcf75c9"
   },
   "outputs": [],
   "source": [
    "import pandas as pd\n",
    "\n",
    "try:\n",
    "    data = pd.read_csv('/datasets/data.csv')\n",
    "except:\n",
    "    data = pd.read_csv('https://code.s3.yandex.net/datasets/data.csv')"
   ]
  },
  {
   "cell_type": "markdown",
   "id": "88df6429",
   "metadata": {
    "deletable": false,
    "editable": false,
    "id": "b8038fe3"
   },
   "source": [
    "**Задание 2. Выведите первые 20 строчек датафрейма `data` на экран.**"
   ]
  },
  {
   "cell_type": "code",
   "execution_count": 3,
   "id": "eb8bd73d",
   "metadata": {
    "deletable": false,
    "id": "2a7cab99",
    "outputId": "1a8f3ef2-d323-4ec2-ddf7-89670b5944c4"
   },
   "outputs": [
    {
     "data": {
      "text/html": [
       "<div>\n",
       "<style scoped>\n",
       "    .dataframe tbody tr th:only-of-type {\n",
       "        vertical-align: middle;\n",
       "    }\n",
       "\n",
       "    .dataframe tbody tr th {\n",
       "        vertical-align: top;\n",
       "    }\n",
       "\n",
       "    .dataframe thead th {\n",
       "        text-align: right;\n",
       "    }\n",
       "</style>\n",
       "<table border=\"1\" class=\"dataframe\">\n",
       "  <thead>\n",
       "    <tr style=\"text-align: right;\">\n",
       "      <th></th>\n",
       "      <th>children</th>\n",
       "      <th>days_employed</th>\n",
       "      <th>dob_years</th>\n",
       "      <th>education</th>\n",
       "      <th>education_id</th>\n",
       "      <th>family_status</th>\n",
       "      <th>family_status_id</th>\n",
       "      <th>gender</th>\n",
       "      <th>income_type</th>\n",
       "      <th>debt</th>\n",
       "      <th>total_income</th>\n",
       "      <th>purpose</th>\n",
       "    </tr>\n",
       "  </thead>\n",
       "  <tbody>\n",
       "    <tr>\n",
       "      <th>0</th>\n",
       "      <td>1</td>\n",
       "      <td>-8437.673028</td>\n",
       "      <td>42</td>\n",
       "      <td>высшее</td>\n",
       "      <td>0</td>\n",
       "      <td>женат / замужем</td>\n",
       "      <td>0</td>\n",
       "      <td>F</td>\n",
       "      <td>сотрудник</td>\n",
       "      <td>0</td>\n",
       "      <td>253875.639453</td>\n",
       "      <td>покупка жилья</td>\n",
       "    </tr>\n",
       "    <tr>\n",
       "      <th>1</th>\n",
       "      <td>1</td>\n",
       "      <td>-4024.803754</td>\n",
       "      <td>36</td>\n",
       "      <td>среднее</td>\n",
       "      <td>1</td>\n",
       "      <td>женат / замужем</td>\n",
       "      <td>0</td>\n",
       "      <td>F</td>\n",
       "      <td>сотрудник</td>\n",
       "      <td>0</td>\n",
       "      <td>112080.014102</td>\n",
       "      <td>приобретение автомобиля</td>\n",
       "    </tr>\n",
       "    <tr>\n",
       "      <th>2</th>\n",
       "      <td>0</td>\n",
       "      <td>-5623.422610</td>\n",
       "      <td>33</td>\n",
       "      <td>Среднее</td>\n",
       "      <td>1</td>\n",
       "      <td>женат / замужем</td>\n",
       "      <td>0</td>\n",
       "      <td>M</td>\n",
       "      <td>сотрудник</td>\n",
       "      <td>0</td>\n",
       "      <td>145885.952297</td>\n",
       "      <td>покупка жилья</td>\n",
       "    </tr>\n",
       "    <tr>\n",
       "      <th>3</th>\n",
       "      <td>3</td>\n",
       "      <td>-4124.747207</td>\n",
       "      <td>32</td>\n",
       "      <td>среднее</td>\n",
       "      <td>1</td>\n",
       "      <td>женат / замужем</td>\n",
       "      <td>0</td>\n",
       "      <td>M</td>\n",
       "      <td>сотрудник</td>\n",
       "      <td>0</td>\n",
       "      <td>267628.550329</td>\n",
       "      <td>дополнительное образование</td>\n",
       "    </tr>\n",
       "    <tr>\n",
       "      <th>4</th>\n",
       "      <td>0</td>\n",
       "      <td>340266.072047</td>\n",
       "      <td>53</td>\n",
       "      <td>среднее</td>\n",
       "      <td>1</td>\n",
       "      <td>гражданский брак</td>\n",
       "      <td>1</td>\n",
       "      <td>F</td>\n",
       "      <td>пенсионер</td>\n",
       "      <td>0</td>\n",
       "      <td>158616.077870</td>\n",
       "      <td>сыграть свадьбу</td>\n",
       "    </tr>\n",
       "    <tr>\n",
       "      <th>5</th>\n",
       "      <td>0</td>\n",
       "      <td>-926.185831</td>\n",
       "      <td>27</td>\n",
       "      <td>высшее</td>\n",
       "      <td>0</td>\n",
       "      <td>гражданский брак</td>\n",
       "      <td>1</td>\n",
       "      <td>M</td>\n",
       "      <td>компаньон</td>\n",
       "      <td>0</td>\n",
       "      <td>255763.565419</td>\n",
       "      <td>покупка жилья</td>\n",
       "    </tr>\n",
       "    <tr>\n",
       "      <th>6</th>\n",
       "      <td>0</td>\n",
       "      <td>-2879.202052</td>\n",
       "      <td>43</td>\n",
       "      <td>высшее</td>\n",
       "      <td>0</td>\n",
       "      <td>женат / замужем</td>\n",
       "      <td>0</td>\n",
       "      <td>F</td>\n",
       "      <td>компаньон</td>\n",
       "      <td>0</td>\n",
       "      <td>240525.971920</td>\n",
       "      <td>операции с жильем</td>\n",
       "    </tr>\n",
       "    <tr>\n",
       "      <th>7</th>\n",
       "      <td>0</td>\n",
       "      <td>-152.779569</td>\n",
       "      <td>50</td>\n",
       "      <td>СРЕДНЕЕ</td>\n",
       "      <td>1</td>\n",
       "      <td>женат / замужем</td>\n",
       "      <td>0</td>\n",
       "      <td>M</td>\n",
       "      <td>сотрудник</td>\n",
       "      <td>0</td>\n",
       "      <td>135823.934197</td>\n",
       "      <td>образование</td>\n",
       "    </tr>\n",
       "    <tr>\n",
       "      <th>8</th>\n",
       "      <td>2</td>\n",
       "      <td>-6929.865299</td>\n",
       "      <td>35</td>\n",
       "      <td>ВЫСШЕЕ</td>\n",
       "      <td>0</td>\n",
       "      <td>гражданский брак</td>\n",
       "      <td>1</td>\n",
       "      <td>F</td>\n",
       "      <td>сотрудник</td>\n",
       "      <td>0</td>\n",
       "      <td>95856.832424</td>\n",
       "      <td>на проведение свадьбы</td>\n",
       "    </tr>\n",
       "    <tr>\n",
       "      <th>9</th>\n",
       "      <td>0</td>\n",
       "      <td>-2188.756445</td>\n",
       "      <td>41</td>\n",
       "      <td>среднее</td>\n",
       "      <td>1</td>\n",
       "      <td>женат / замужем</td>\n",
       "      <td>0</td>\n",
       "      <td>M</td>\n",
       "      <td>сотрудник</td>\n",
       "      <td>0</td>\n",
       "      <td>144425.938277</td>\n",
       "      <td>покупка жилья для семьи</td>\n",
       "    </tr>\n",
       "    <tr>\n",
       "      <th>10</th>\n",
       "      <td>2</td>\n",
       "      <td>-4171.483647</td>\n",
       "      <td>36</td>\n",
       "      <td>высшее</td>\n",
       "      <td>0</td>\n",
       "      <td>женат / замужем</td>\n",
       "      <td>0</td>\n",
       "      <td>M</td>\n",
       "      <td>компаньон</td>\n",
       "      <td>0</td>\n",
       "      <td>113943.491460</td>\n",
       "      <td>покупка недвижимости</td>\n",
       "    </tr>\n",
       "    <tr>\n",
       "      <th>11</th>\n",
       "      <td>0</td>\n",
       "      <td>-792.701887</td>\n",
       "      <td>40</td>\n",
       "      <td>среднее</td>\n",
       "      <td>1</td>\n",
       "      <td>женат / замужем</td>\n",
       "      <td>0</td>\n",
       "      <td>F</td>\n",
       "      <td>сотрудник</td>\n",
       "      <td>0</td>\n",
       "      <td>77069.234271</td>\n",
       "      <td>покупка коммерческой недвижимости</td>\n",
       "    </tr>\n",
       "    <tr>\n",
       "      <th>12</th>\n",
       "      <td>0</td>\n",
       "      <td>NaN</td>\n",
       "      <td>65</td>\n",
       "      <td>среднее</td>\n",
       "      <td>1</td>\n",
       "      <td>гражданский брак</td>\n",
       "      <td>1</td>\n",
       "      <td>M</td>\n",
       "      <td>пенсионер</td>\n",
       "      <td>0</td>\n",
       "      <td>NaN</td>\n",
       "      <td>сыграть свадьбу</td>\n",
       "    </tr>\n",
       "    <tr>\n",
       "      <th>13</th>\n",
       "      <td>0</td>\n",
       "      <td>-1846.641941</td>\n",
       "      <td>54</td>\n",
       "      <td>неоконченное высшее</td>\n",
       "      <td>2</td>\n",
       "      <td>женат / замужем</td>\n",
       "      <td>0</td>\n",
       "      <td>F</td>\n",
       "      <td>сотрудник</td>\n",
       "      <td>0</td>\n",
       "      <td>130458.228857</td>\n",
       "      <td>приобретение автомобиля</td>\n",
       "    </tr>\n",
       "    <tr>\n",
       "      <th>14</th>\n",
       "      <td>0</td>\n",
       "      <td>-1844.956182</td>\n",
       "      <td>56</td>\n",
       "      <td>высшее</td>\n",
       "      <td>0</td>\n",
       "      <td>гражданский брак</td>\n",
       "      <td>1</td>\n",
       "      <td>F</td>\n",
       "      <td>компаньон</td>\n",
       "      <td>1</td>\n",
       "      <td>165127.911772</td>\n",
       "      <td>покупка жилой недвижимости</td>\n",
       "    </tr>\n",
       "    <tr>\n",
       "      <th>15</th>\n",
       "      <td>1</td>\n",
       "      <td>-972.364419</td>\n",
       "      <td>26</td>\n",
       "      <td>среднее</td>\n",
       "      <td>1</td>\n",
       "      <td>женат / замужем</td>\n",
       "      <td>0</td>\n",
       "      <td>F</td>\n",
       "      <td>сотрудник</td>\n",
       "      <td>0</td>\n",
       "      <td>116820.904450</td>\n",
       "      <td>строительство собственной недвижимости</td>\n",
       "    </tr>\n",
       "    <tr>\n",
       "      <th>16</th>\n",
       "      <td>0</td>\n",
       "      <td>-1719.934226</td>\n",
       "      <td>35</td>\n",
       "      <td>среднее</td>\n",
       "      <td>1</td>\n",
       "      <td>женат / замужем</td>\n",
       "      <td>0</td>\n",
       "      <td>F</td>\n",
       "      <td>сотрудник</td>\n",
       "      <td>0</td>\n",
       "      <td>289202.704229</td>\n",
       "      <td>недвижимость</td>\n",
       "    </tr>\n",
       "    <tr>\n",
       "      <th>17</th>\n",
       "      <td>0</td>\n",
       "      <td>-2369.999720</td>\n",
       "      <td>33</td>\n",
       "      <td>высшее</td>\n",
       "      <td>0</td>\n",
       "      <td>гражданский брак</td>\n",
       "      <td>1</td>\n",
       "      <td>M</td>\n",
       "      <td>сотрудник</td>\n",
       "      <td>0</td>\n",
       "      <td>90410.586745</td>\n",
       "      <td>строительство недвижимости</td>\n",
       "    </tr>\n",
       "    <tr>\n",
       "      <th>18</th>\n",
       "      <td>0</td>\n",
       "      <td>400281.136913</td>\n",
       "      <td>53</td>\n",
       "      <td>среднее</td>\n",
       "      <td>1</td>\n",
       "      <td>вдовец / вдова</td>\n",
       "      <td>2</td>\n",
       "      <td>F</td>\n",
       "      <td>пенсионер</td>\n",
       "      <td>0</td>\n",
       "      <td>56823.777243</td>\n",
       "      <td>на покупку подержанного автомобиля</td>\n",
       "    </tr>\n",
       "    <tr>\n",
       "      <th>19</th>\n",
       "      <td>0</td>\n",
       "      <td>-10038.818549</td>\n",
       "      <td>48</td>\n",
       "      <td>СРЕДНЕЕ</td>\n",
       "      <td>1</td>\n",
       "      <td>в разводе</td>\n",
       "      <td>3</td>\n",
       "      <td>F</td>\n",
       "      <td>сотрудник</td>\n",
       "      <td>0</td>\n",
       "      <td>242831.107982</td>\n",
       "      <td>на покупку своего автомобиля</td>\n",
       "    </tr>\n",
       "  </tbody>\n",
       "</table>\n",
       "</div>"
      ],
      "text/plain": [
       "    children  days_employed  dob_years            education  education_id  \\\n",
       "0          1   -8437.673028         42               высшее             0   \n",
       "1          1   -4024.803754         36              среднее             1   \n",
       "2          0   -5623.422610         33              Среднее             1   \n",
       "3          3   -4124.747207         32              среднее             1   \n",
       "4          0  340266.072047         53              среднее             1   \n",
       "5          0    -926.185831         27               высшее             0   \n",
       "6          0   -2879.202052         43               высшее             0   \n",
       "7          0    -152.779569         50              СРЕДНЕЕ             1   \n",
       "8          2   -6929.865299         35               ВЫСШЕЕ             0   \n",
       "9          0   -2188.756445         41              среднее             1   \n",
       "10         2   -4171.483647         36               высшее             0   \n",
       "11         0    -792.701887         40              среднее             1   \n",
       "12         0            NaN         65              среднее             1   \n",
       "13         0   -1846.641941         54  неоконченное высшее             2   \n",
       "14         0   -1844.956182         56               высшее             0   \n",
       "15         1    -972.364419         26              среднее             1   \n",
       "16         0   -1719.934226         35              среднее             1   \n",
       "17         0   -2369.999720         33               высшее             0   \n",
       "18         0  400281.136913         53              среднее             1   \n",
       "19         0  -10038.818549         48              СРЕДНЕЕ             1   \n",
       "\n",
       "       family_status  family_status_id gender income_type  debt  \\\n",
       "0    женат / замужем                 0      F   сотрудник     0   \n",
       "1    женат / замужем                 0      F   сотрудник     0   \n",
       "2    женат / замужем                 0      M   сотрудник     0   \n",
       "3    женат / замужем                 0      M   сотрудник     0   \n",
       "4   гражданский брак                 1      F   пенсионер     0   \n",
       "5   гражданский брак                 1      M   компаньон     0   \n",
       "6    женат / замужем                 0      F   компаньон     0   \n",
       "7    женат / замужем                 0      M   сотрудник     0   \n",
       "8   гражданский брак                 1      F   сотрудник     0   \n",
       "9    женат / замужем                 0      M   сотрудник     0   \n",
       "10   женат / замужем                 0      M   компаньон     0   \n",
       "11   женат / замужем                 0      F   сотрудник     0   \n",
       "12  гражданский брак                 1      M   пенсионер     0   \n",
       "13   женат / замужем                 0      F   сотрудник     0   \n",
       "14  гражданский брак                 1      F   компаньон     1   \n",
       "15   женат / замужем                 0      F   сотрудник     0   \n",
       "16   женат / замужем                 0      F   сотрудник     0   \n",
       "17  гражданский брак                 1      M   сотрудник     0   \n",
       "18    вдовец / вдова                 2      F   пенсионер     0   \n",
       "19         в разводе                 3      F   сотрудник     0   \n",
       "\n",
       "     total_income                                 purpose  \n",
       "0   253875.639453                           покупка жилья  \n",
       "1   112080.014102                 приобретение автомобиля  \n",
       "2   145885.952297                           покупка жилья  \n",
       "3   267628.550329              дополнительное образование  \n",
       "4   158616.077870                         сыграть свадьбу  \n",
       "5   255763.565419                           покупка жилья  \n",
       "6   240525.971920                       операции с жильем  \n",
       "7   135823.934197                             образование  \n",
       "8    95856.832424                   на проведение свадьбы  \n",
       "9   144425.938277                 покупка жилья для семьи  \n",
       "10  113943.491460                    покупка недвижимости  \n",
       "11   77069.234271       покупка коммерческой недвижимости  \n",
       "12            NaN                         сыграть свадьбу  \n",
       "13  130458.228857                 приобретение автомобиля  \n",
       "14  165127.911772              покупка жилой недвижимости  \n",
       "15  116820.904450  строительство собственной недвижимости  \n",
       "16  289202.704229                            недвижимость  \n",
       "17   90410.586745              строительство недвижимости  \n",
       "18   56823.777243      на покупку подержанного автомобиля  \n",
       "19  242831.107982            на покупку своего автомобиля  "
      ]
     },
     "execution_count": 3,
     "metadata": {},
     "output_type": "execute_result"
    }
   ],
   "source": [
    "data.head(20)"
   ]
  },
  {
   "cell_type": "markdown",
   "id": "6aae606f",
   "metadata": {
    "deletable": false,
    "editable": false,
    "id": "1c12e233"
   },
   "source": [
    "**Задание 3. Выведите основную информацию о датафрейме с помощью метода `info()`.**"
   ]
  },
  {
   "cell_type": "code",
   "execution_count": 4,
   "id": "03d584f5",
   "metadata": {
    "deletable": false,
    "id": "2b757bca",
    "outputId": "15376089-8dad-46c9-b520-c05248d43158"
   },
   "outputs": [
    {
     "name": "stdout",
     "output_type": "stream",
     "text": [
      "<class 'pandas.core.frame.DataFrame'>\n",
      "RangeIndex: 21525 entries, 0 to 21524\n",
      "Data columns (total 12 columns):\n",
      " #   Column            Non-Null Count  Dtype  \n",
      "---  ------            --------------  -----  \n",
      " 0   children          21525 non-null  int64  \n",
      " 1   days_employed     19351 non-null  float64\n",
      " 2   dob_years         21525 non-null  int64  \n",
      " 3   education         21525 non-null  object \n",
      " 4   education_id      21525 non-null  int64  \n",
      " 5   family_status     21525 non-null  object \n",
      " 6   family_status_id  21525 non-null  int64  \n",
      " 7   gender            21525 non-null  object \n",
      " 8   income_type       21525 non-null  object \n",
      " 9   debt              21525 non-null  int64  \n",
      " 10  total_income      19351 non-null  float64\n",
      " 11  purpose           21525 non-null  object \n",
      "dtypes: float64(2), int64(5), object(5)\n",
      "memory usage: 2.0+ MB\n"
     ]
    }
   ],
   "source": [
    "data.info()"
   ]
  },
  {
   "cell_type": "markdown",
   "id": "529c2ba0-184d-43a8-be89-365dbc08be23",
   "metadata": {},
   "source": [
    "**Вывод:** Данные соответствуют описанию задачи. В данных присутсвуют пропуски. Нужно будет изменить типы данных некоторых столбцов."
   ]
  },
  {
   "cell_type": "markdown",
   "id": "bcea0956",
   "metadata": {
    "deletable": false,
    "editable": false,
    "id": "333ec665"
   },
   "source": [
    "## Предобработка данных"
   ]
  },
  {
   "cell_type": "markdown",
   "id": "0d753729",
   "metadata": {
    "deletable": false,
    "editable": false,
    "id": "02d92d53"
   },
   "source": [
    "### Удаление пропусков"
   ]
  },
  {
   "cell_type": "markdown",
   "id": "546c4083",
   "metadata": {
    "deletable": false,
    "editable": false,
    "id": "cd84967c"
   },
   "source": [
    "**Задание 4. Выведите количество пропущенных значений для каждого столбца. Используйте комбинацию двух методов.**"
   ]
  },
  {
   "cell_type": "code",
   "execution_count": 5,
   "id": "2dc5c611",
   "metadata": {
    "deletable": false,
    "id": "7f9b2309",
    "outputId": "81f4d817-781c-465c-ed15-91ce4446810d"
   },
   "outputs": [
    {
     "data": {
      "text/plain": [
       "children               0\n",
       "days_employed       2174\n",
       "dob_years              0\n",
       "education              0\n",
       "education_id           0\n",
       "family_status          0\n",
       "family_status_id       0\n",
       "gender                 0\n",
       "income_type            0\n",
       "debt                   0\n",
       "total_income        2174\n",
       "purpose                0\n",
       "dtype: int64"
      ]
     },
     "execution_count": 5,
     "metadata": {},
     "output_type": "execute_result"
    }
   ],
   "source": [
    "data.isna().sum()"
   ]
  },
  {
   "cell_type": "markdown",
   "id": "1fe97549",
   "metadata": {
    "deletable": false,
    "editable": false,
    "id": "db86e27b"
   },
   "source": [
    "**Задание 5. В двух столбцах есть пропущенные значения. Один из них — `days_employed`. Пропуски в этом столбце вы обработаете на следующем этапе. Другой столбец с пропущенными значениями — `total_income` — хранит данные о доходах. На сумму дохода сильнее всего влияет тип занятости, поэтому заполнить пропуски в этом столбце нужно медианным значением по каждому типу из столбца `income_type`. Например, у человека с типом занятости `сотрудник` пропуск в столбце `total_income` должен быть заполнен медианным доходом среди всех записей с тем же типом.**"
   ]
  },
  {
   "cell_type": "code",
   "execution_count": 6,
   "id": "b6e57990",
   "metadata": {
    "deletable": false,
    "id": "42006a93"
   },
   "outputs": [],
   "source": [
    "for t in data['income_type'].unique():\n",
    "    data.loc[(data['income_type'] == t) & (data['total_income'].isna()), 'total_income'] = \\\n",
    "    data.loc[(data['income_type'] == t), 'total_income'].median()"
   ]
  },
  {
   "cell_type": "markdown",
   "id": "a24ef90c",
   "metadata": {
    "deletable": false,
    "editable": false,
    "id": "89da5ece"
   },
   "source": [
    "### Обработка аномальных значений"
   ]
  },
  {
   "cell_type": "markdown",
   "id": "80a04b9f",
   "metadata": {
    "deletable": false,
    "editable": false,
    "id": "57964554"
   },
   "source": [
    "**Задание 6. В данных могут встречаться артефакты (аномалии) — значения, которые не отражают действительность и появились по какой-то ошибке. таким артефактом будет отрицательное количество дней трудового стажа в столбце `days_employed`. Для реальных данных это нормально. Обработайте значения в этом столбце: замените все отрицательные значения положительными с помощью метода `abs()`.**"
   ]
  },
  {
   "cell_type": "code",
   "execution_count": 7,
   "id": "269fecdb",
   "metadata": {
    "deletable": false,
    "id": "f6f055bf"
   },
   "outputs": [],
   "source": [
    "data['days_employed'] = data['days_employed'].abs()"
   ]
  },
  {
   "cell_type": "markdown",
   "id": "b95ffd7a",
   "metadata": {
    "deletable": false,
    "editable": false,
    "id": "6107dd2f"
   },
   "source": [
    "**Задание 7. Для каждого типа занятости выведите медианное значение трудового стажа `days_employed` в днях.**"
   ]
  },
  {
   "cell_type": "code",
   "execution_count": 8,
   "id": "cb3680da",
   "metadata": {
    "deletable": false,
    "id": "85a5faf6",
    "outputId": "801ef80e-522b-4668-f34e-565af7432bcf"
   },
   "outputs": [
    {
     "data": {
      "text/plain": [
       "income_type\n",
       "безработный        366413.652744\n",
       "в декрете            3296.759962\n",
       "госслужащий          2689.368353\n",
       "компаньон            1547.382223\n",
       "пенсионер          365213.306266\n",
       "предприниматель       520.848083\n",
       "сотрудник            1574.202821\n",
       "студент               578.751554\n",
       "Name: days_employed, dtype: float64"
      ]
     },
     "execution_count": 8,
     "metadata": {},
     "output_type": "execute_result"
    }
   ],
   "source": [
    "data.groupby('income_type')['days_employed'].agg('median')"
   ]
  },
  {
   "cell_type": "markdown",
   "id": "5662a90e",
   "metadata": {
    "deletable": false,
    "editable": false,
    "id": "38d1a030"
   },
   "source": [
    "У двух типов (безработные и пенсионеры) получатся аномально большие значения. Исправить такие значения сложно, поэтому оставьте их как есть. Тем более этот столбец не понадобится вам для исследования."
   ]
  },
  {
   "cell_type": "markdown",
   "id": "be973956",
   "metadata": {
    "deletable": false,
    "editable": false,
    "id": "d8a9f147"
   },
   "source": [
    "**Задание 8. Выведите перечень уникальных значений столбца `children`.**"
   ]
  },
  {
   "cell_type": "code",
   "execution_count": 9,
   "id": "a5f07f34",
   "metadata": {
    "deletable": false,
    "id": "ef5056eb",
    "outputId": "6975b15c-7f95-4697-d16d-a0c79b657b03"
   },
   "outputs": [
    {
     "data": {
      "text/plain": [
       "array([ 1,  0,  3,  2, -1,  4, 20,  5])"
      ]
     },
     "execution_count": 9,
     "metadata": {},
     "output_type": "execute_result"
    }
   ],
   "source": [
    "data['children'].unique()"
   ]
  },
  {
   "cell_type": "markdown",
   "id": "a8dccd9e",
   "metadata": {
    "deletable": false,
    "editable": false,
    "id": "40b9ebf2"
   },
   "source": [
    "**Задание 9. В столбце `children` есть два аномальных значения. Удалите строки, в которых встречаются такие аномальные значения из датафрейма `data`.**"
   ]
  },
  {
   "cell_type": "code",
   "execution_count": 10,
   "id": "4fa42907",
   "metadata": {
    "deletable": false,
    "id": "3ff9801d"
   },
   "outputs": [],
   "source": [
    "data = data[(data['children'] != -1) & (data['children'] != 20)]"
   ]
  },
  {
   "cell_type": "markdown",
   "id": "8c3a536b",
   "metadata": {
    "deletable": false,
    "editable": false,
    "id": "bbc4d0ce"
   },
   "source": [
    "**Задание 10. Ещё раз выведите перечень уникальных значений столбца `children`, чтобы убедиться, что артефакты удалены.**"
   ]
  },
  {
   "cell_type": "code",
   "execution_count": 11,
   "id": "a82d993e",
   "metadata": {
    "deletable": false,
    "id": "ad4fa8b7",
    "outputId": "b2097101-d49d-44d9-901b-32a65c9463d1"
   },
   "outputs": [
    {
     "data": {
      "text/plain": [
       "array([1, 0, 3, 2, 4, 5])"
      ]
     },
     "execution_count": 11,
     "metadata": {},
     "output_type": "execute_result"
    }
   ],
   "source": [
    "data['children'].unique()"
   ]
  },
  {
   "cell_type": "markdown",
   "id": "34896b1b",
   "metadata": {
    "deletable": false,
    "editable": false,
    "id": "75440b63"
   },
   "source": [
    "### Удаление пропусков (продолжение)"
   ]
  },
  {
   "cell_type": "markdown",
   "id": "441ade93",
   "metadata": {
    "deletable": false,
    "editable": false,
    "id": "f4ea573f"
   },
   "source": [
    "**Задание 11. Заполните пропуски в столбце `days_employed` медианными значениями по каждого типа занятости `income_type`.**"
   ]
  },
  {
   "cell_type": "code",
   "execution_count": 12,
   "id": "24463e59",
   "metadata": {
    "deletable": false,
    "id": "af6b1a7e"
   },
   "outputs": [],
   "source": [
    "for t in data['income_type'].unique():\n",
    "    data.loc[(data['income_type'] == t) & (data['days_employed'].isna()), 'days_employed'] = \\\n",
    "    data.loc[(data['income_type'] == t), 'days_employed'].median()"
   ]
  },
  {
   "cell_type": "markdown",
   "id": "5de7b0ad",
   "metadata": {
    "deletable": false,
    "editable": false,
    "id": "2753f40d"
   },
   "source": [
    "**Задание 12. Убедитесь, что все пропуски заполнены. Проверьте себя и ещё раз выведите количество пропущенных значений для каждого столбца с помощью двух методов.**"
   ]
  },
  {
   "cell_type": "code",
   "execution_count": 13,
   "id": "cfe332f2",
   "metadata": {
    "deletable": false,
    "id": "55f78bc2",
    "outputId": "8da1e4e1-358e-4e87-98c9-f261bce0a7b2"
   },
   "outputs": [
    {
     "data": {
      "text/plain": [
       "children            0\n",
       "days_employed       0\n",
       "dob_years           0\n",
       "education           0\n",
       "education_id        0\n",
       "family_status       0\n",
       "family_status_id    0\n",
       "gender              0\n",
       "income_type         0\n",
       "debt                0\n",
       "total_income        0\n",
       "purpose             0\n",
       "dtype: int64"
      ]
     },
     "execution_count": 13,
     "metadata": {},
     "output_type": "execute_result"
    }
   ],
   "source": [
    "data.isna().sum()"
   ]
  },
  {
   "cell_type": "markdown",
   "id": "8675fe65",
   "metadata": {
    "deletable": false,
    "editable": false,
    "id": "ddc81e43"
   },
   "source": [
    "### Изменение типов данных"
   ]
  },
  {
   "cell_type": "markdown",
   "id": "bd320f97",
   "metadata": {
    "deletable": false,
    "editable": false,
    "id": "42d19d24"
   },
   "source": [
    "**Задание 13. Замените вещественный тип данных в столбце `total_income` на целочисленный с помощью метода `astype()`.**"
   ]
  },
  {
   "cell_type": "code",
   "execution_count": 14,
   "id": "3d0b72d7",
   "metadata": {
    "deletable": false,
    "id": "920b65ad"
   },
   "outputs": [],
   "source": [
    "data['total_income'] = data['total_income'].astype(int)"
   ]
  },
  {
   "cell_type": "markdown",
   "id": "7e266ea3",
   "metadata": {
    "deletable": false,
    "editable": false,
    "id": "80c420ba"
   },
   "source": [
    "### Обработка дубликатов"
   ]
  },
  {
   "cell_type": "markdown",
   "id": "ea36967b",
   "metadata": {
    "deletable": false,
    "editable": false
   },
   "source": [
    "**Задание 14. Обработайте неявные дубликаты в столбце `education`. В этом столбце есть одни и те же значения, но записанные по-разному: с использованием заглавных и строчных букв. Приведите их к нижнему регистру. Проверьте остальные столбцы.**"
   ]
  },
  {
   "cell_type": "code",
   "execution_count": 15,
   "id": "d42564ce",
   "metadata": {
    "deletable": false
   },
   "outputs": [],
   "source": [
    "data['education'] = data['education'].str.lower()"
   ]
  },
  {
   "cell_type": "markdown",
   "id": "35ee193a",
   "metadata": {
    "deletable": false,
    "editable": false,
    "id": "dc587695"
   },
   "source": [
    "**Задание 15. Выведите на экран количество строк-дубликатов в данных. Если такие строки присутствуют, удалите их.**"
   ]
  },
  {
   "cell_type": "code",
   "execution_count": 16,
   "id": "afba7e19",
   "metadata": {
    "deletable": false,
    "id": "3ee445e4",
    "outputId": "9684deba-1934-42d1-99e1-cda61740f822"
   },
   "outputs": [
    {
     "data": {
      "text/plain": [
       "71"
      ]
     },
     "execution_count": 16,
     "metadata": {},
     "output_type": "execute_result"
    }
   ],
   "source": [
    "data.duplicated().sum()"
   ]
  },
  {
   "cell_type": "code",
   "execution_count": 17,
   "id": "6ae9b18f",
   "metadata": {
    "deletable": false,
    "id": "8575fe05"
   },
   "outputs": [],
   "source": [
    "data = data.drop_duplicates()"
   ]
  },
  {
   "cell_type": "markdown",
   "id": "4c615624",
   "metadata": {
    "deletable": false,
    "editable": false,
    "id": "9904cf55"
   },
   "source": [
    "### Категоризация данных"
   ]
  },
  {
   "cell_type": "markdown",
   "id": "f5a26a41",
   "metadata": {
    "deletable": false,
    "editable": false,
    "id": "72fcc8a2"
   },
   "source": [
    "**Задание 16. На основании диапазонов, указанных ниже, создайте в датафрейме `data` столбец `total_income_category` с категориями:**\n",
    "\n",
    "- 0–30000 — `'E'`;\n",
    "- 30001–50000 — `'D'`;\n",
    "- 50001–200000 — `'C'`;\n",
    "- 200001–1000000 — `'B'`;\n",
    "- 1000001 и выше — `'A'`.\n",
    "\n",
    "\n",
    "**Например, кредитополучателю с доходом 25000 нужно назначить категорию `'E'`, а клиенту, получающему 235000, — `'B'`. Используйте собственную функцию с именем `categorize_income()` и метод `apply()`.**"
   ]
  },
  {
   "cell_type": "code",
   "execution_count": 18,
   "id": "b3ee4365",
   "metadata": {
    "deletable": false,
    "id": "e1771346"
   },
   "outputs": [],
   "source": [
    "def categorize_income(income):\n",
    "    try:\n",
    "        if 0 <= income <= 30000:\n",
    "            return 'E'\n",
    "        elif 30001 <= income <= 50000:\n",
    "            return 'D'\n",
    "        elif 50001 <= income <= 200000:\n",
    "            return 'C'\n",
    "        elif 200001 <= income <= 1000000:\n",
    "            return 'B'\n",
    "        elif income >= 1000001:\n",
    "            return 'A'\n",
    "    except:\n",
    "        pass"
   ]
  },
  {
   "cell_type": "code",
   "execution_count": 19,
   "id": "f14a6fd4",
   "metadata": {
    "deletable": false,
    "id": "d5f3586d"
   },
   "outputs": [],
   "source": [
    "data['total_income_category'] = data['total_income'].apply(categorize_income)"
   ]
  },
  {
   "cell_type": "markdown",
   "id": "26dbc047",
   "metadata": {
    "deletable": false,
    "editable": false,
    "id": "dde49b5c"
   },
   "source": [
    "**Задание 17. Выведите на экран перечень уникальных целей взятия кредита из столбца `purpose`.**"
   ]
  },
  {
   "cell_type": "code",
   "execution_count": 20,
   "id": "3ac7c49c",
   "metadata": {
    "deletable": false,
    "id": "f67ce9b3",
    "outputId": "673c12d9-7d7e-4ae0-9812-c622c89dd244"
   },
   "outputs": [
    {
     "data": {
      "text/plain": [
       "array(['покупка жилья', 'приобретение автомобиля',\n",
       "       'дополнительное образование', 'сыграть свадьбу',\n",
       "       'операции с жильем', 'образование', 'на проведение свадьбы',\n",
       "       'покупка жилья для семьи', 'покупка недвижимости',\n",
       "       'покупка коммерческой недвижимости', 'покупка жилой недвижимости',\n",
       "       'строительство собственной недвижимости', 'недвижимость',\n",
       "       'строительство недвижимости', 'на покупку подержанного автомобиля',\n",
       "       'на покупку своего автомобиля',\n",
       "       'операции с коммерческой недвижимостью',\n",
       "       'строительство жилой недвижимости', 'жилье',\n",
       "       'операции со своей недвижимостью', 'автомобили',\n",
       "       'заняться образованием', 'сделка с подержанным автомобилем',\n",
       "       'получение образования', 'автомобиль', 'свадьба',\n",
       "       'получение дополнительного образования', 'покупка своего жилья',\n",
       "       'операции с недвижимостью', 'получение высшего образования',\n",
       "       'свой автомобиль', 'сделка с автомобилем',\n",
       "       'профильное образование', 'высшее образование',\n",
       "       'покупка жилья для сдачи', 'на покупку автомобиля', 'ремонт жилью',\n",
       "       'заняться высшим образованием'], dtype=object)"
      ]
     },
     "execution_count": 20,
     "metadata": {},
     "output_type": "execute_result"
    }
   ],
   "source": [
    "data['purpose'].unique()"
   ]
  },
  {
   "cell_type": "markdown",
   "id": "ba69d275",
   "metadata": {
    "deletable": false,
    "editable": false,
    "id": "85d0aef0"
   },
   "source": [
    "**Задание 18. Создайте функцию, которая на основании данных из столбца `purpose` сформирует новый столбец `purpose_category`, в который войдут следующие категории:**\n",
    "\n",
    "- `'операции с автомобилем'`,\n",
    "- `'операции с недвижимостью'`,\n",
    "- `'проведение свадьбы'`,\n",
    "- `'получение образования'`.\n",
    "\n",
    "**Например, если в столбце `purpose` находится подстрока `'на покупку автомобиля'`, то в столбце `purpose_category` должна появиться строка `'операции с автомобилем'`.**\n",
    "\n",
    "**Используйте собственную функцию с именем `categorize_purpose()` и метод `apply()`. Изучите данные в столбце `purpose` и определите, какие подстроки помогут вам правильно определить категорию.**"
   ]
  },
  {
   "cell_type": "code",
   "execution_count": 21,
   "id": "7b903180",
   "metadata": {
    "deletable": false,
    "id": "e149fab4"
   },
   "outputs": [],
   "source": [
    "def categorize_purpose(row):\n",
    "    try:\n",
    "        if 'автом' in row:\n",
    "            return 'операции с автомобилем'\n",
    "        elif 'жил' in row or 'недвиж' in row:\n",
    "            return 'операции с недвижимостью'\n",
    "        elif 'свад' in row:\n",
    "            return 'проведение свадьбы'\n",
    "        elif 'образов' in row:\n",
    "            return 'получение образования'\n",
    "    except:\n",
    "        return 'нет категории'"
   ]
  },
  {
   "cell_type": "code",
   "execution_count": 22,
   "id": "5ae61a80",
   "metadata": {
    "deletable": false,
    "id": "bf36e69b"
   },
   "outputs": [],
   "source": [
    "data['purpose_category'] = data['purpose'].apply(categorize_purpose)"
   ]
  },
  {
   "cell_type": "markdown",
   "id": "d8831197",
   "metadata": {
    "deletable": false,
    "editable": false,
    "id": "09b242bf"
   },
   "source": [
    "### Шаг 3. Исследуйте данные и ответьте на вопросы"
   ]
  },
  {
   "cell_type": "markdown",
   "id": "d4425c15",
   "metadata": {
    "deletable": false,
    "editable": false,
    "id": "c5d66278"
   },
   "source": [
    "#### 3.1 Есть ли зависимость между количеством детей и возвратом кредита в срок?"
   ]
  },
  {
   "cell_type": "code",
   "execution_count": 23,
   "id": "ac36e754",
   "metadata": {
    "deletable": false,
    "id": "2cacfc4a"
   },
   "outputs": [
    {
     "name": "stdout",
     "output_type": "stream",
     "text": [
      "<class 'pandas.core.frame.DataFrame'>\n",
      "Int64Index: 21331 entries, 0 to 21524\n",
      "Data columns (total 14 columns):\n",
      " #   Column                 Non-Null Count  Dtype  \n",
      "---  ------                 --------------  -----  \n",
      " 0   children               21331 non-null  int64  \n",
      " 1   days_employed          21331 non-null  float64\n",
      " 2   dob_years              21331 non-null  int64  \n",
      " 3   education              21331 non-null  object \n",
      " 4   education_id           21331 non-null  int64  \n",
      " 5   family_status          21331 non-null  object \n",
      " 6   family_status_id       21331 non-null  int64  \n",
      " 7   gender                 21331 non-null  object \n",
      " 8   income_type            21331 non-null  object \n",
      " 9   debt                   21331 non-null  int64  \n",
      " 10  total_income           21331 non-null  int64  \n",
      " 11  purpose                21331 non-null  object \n",
      " 12  total_income_category  21331 non-null  object \n",
      " 13  purpose_category       21331 non-null  object \n",
      "dtypes: float64(1), int64(6), object(7)\n",
      "memory usage: 2.4+ MB\n"
     ]
    }
   ],
   "source": [
    "data.info()"
   ]
  },
  {
   "cell_type": "code",
   "execution_count": 24,
   "id": "629e89d0",
   "metadata": {},
   "outputs": [
    {
     "data": {
      "text/html": [
       "<div>\n",
       "<style scoped>\n",
       "    .dataframe tbody tr th:only-of-type {\n",
       "        vertical-align: middle;\n",
       "    }\n",
       "\n",
       "    .dataframe tbody tr th {\n",
       "        vertical-align: top;\n",
       "    }\n",
       "\n",
       "    .dataframe thead th {\n",
       "        text-align: right;\n",
       "    }\n",
       "</style>\n",
       "<table border=\"1\" class=\"dataframe\">\n",
       "  <thead>\n",
       "    <tr style=\"text-align: right;\">\n",
       "      <th></th>\n",
       "      <th>count</th>\n",
       "      <th>sum</th>\n",
       "      <th>mean</th>\n",
       "    </tr>\n",
       "    <tr>\n",
       "      <th>children</th>\n",
       "      <th></th>\n",
       "      <th></th>\n",
       "      <th></th>\n",
       "    </tr>\n",
       "  </thead>\n",
       "  <tbody>\n",
       "    <tr>\n",
       "      <th>4</th>\n",
       "      <td>41</td>\n",
       "      <td>4</td>\n",
       "      <td>0.097561</td>\n",
       "    </tr>\n",
       "    <tr>\n",
       "      <th>2</th>\n",
       "      <td>2052</td>\n",
       "      <td>194</td>\n",
       "      <td>0.094542</td>\n",
       "    </tr>\n",
       "    <tr>\n",
       "      <th>1</th>\n",
       "      <td>4808</td>\n",
       "      <td>444</td>\n",
       "      <td>0.092346</td>\n",
       "    </tr>\n",
       "    <tr>\n",
       "      <th>3</th>\n",
       "      <td>330</td>\n",
       "      <td>27</td>\n",
       "      <td>0.081818</td>\n",
       "    </tr>\n",
       "    <tr>\n",
       "      <th>0</th>\n",
       "      <td>14091</td>\n",
       "      <td>1063</td>\n",
       "      <td>0.075438</td>\n",
       "    </tr>\n",
       "    <tr>\n",
       "      <th>5</th>\n",
       "      <td>9</td>\n",
       "      <td>0</td>\n",
       "      <td>0.000000</td>\n",
       "    </tr>\n",
       "  </tbody>\n",
       "</table>\n",
       "</div>"
      ],
      "text/plain": [
       "          count   sum      mean\n",
       "children                       \n",
       "4            41     4  0.097561\n",
       "2          2052   194  0.094542\n",
       "1          4808   444  0.092346\n",
       "3           330    27  0.081818\n",
       "0         14091  1063  0.075438\n",
       "5             9     0  0.000000"
      ]
     },
     "execution_count": 24,
     "metadata": {},
     "output_type": "execute_result"
    }
   ],
   "source": [
    "children_to_debt = data.groupby('children')['debt'].agg(['count', 'sum', 'mean'])\n",
    "children_to_debt.sort_values(by='mean', ascending=False)"
   ]
  },
  {
   "cell_type": "markdown",
   "id": "8bc0e1d2",
   "metadata": {
    "deletable": false,
    "id": "3a6b99ec"
   },
   "source": [
    "**Вывод:** Из-за недостаточности данных предлагаю не учитывать результаты семей, в которых есть 3, 4 или 5 детей. Взаимосвязь прослеживается. Можно сделать вывод, что самыми благонадежными заемщикам будут бездетные люди - у них самый низкий процент просрочки. А с появлением детей он начинает увеличиваться. Причем, чем больше детей. тем больше просроченных платежей. "
   ]
  },
  {
   "cell_type": "markdown",
   "id": "e8976935",
   "metadata": {
    "deletable": false,
    "editable": false,
    "id": "97be82ca"
   },
   "source": [
    "#### 3.2 Есть ли зависимость между семейным положением и возвратом кредита в срок?"
   ]
  },
  {
   "cell_type": "code",
   "execution_count": 25,
   "id": "77001fa4",
   "metadata": {
    "deletable": false,
    "id": "dc3f7ee8"
   },
   "outputs": [
    {
     "data": {
      "text/html": [
       "<div>\n",
       "<style scoped>\n",
       "    .dataframe tbody tr th:only-of-type {\n",
       "        vertical-align: middle;\n",
       "    }\n",
       "\n",
       "    .dataframe tbody tr th {\n",
       "        vertical-align: top;\n",
       "    }\n",
       "\n",
       "    .dataframe thead th {\n",
       "        text-align: right;\n",
       "    }\n",
       "</style>\n",
       "<table border=\"1\" class=\"dataframe\">\n",
       "  <thead>\n",
       "    <tr style=\"text-align: right;\">\n",
       "      <th></th>\n",
       "      <th>count</th>\n",
       "      <th>sum</th>\n",
       "      <th>mean</th>\n",
       "    </tr>\n",
       "    <tr>\n",
       "      <th>family_status</th>\n",
       "      <th></th>\n",
       "      <th></th>\n",
       "      <th></th>\n",
       "    </tr>\n",
       "  </thead>\n",
       "  <tbody>\n",
       "    <tr>\n",
       "      <th>Не женат / не замужем</th>\n",
       "      <td>2796</td>\n",
       "      <td>273</td>\n",
       "      <td>0.097639</td>\n",
       "    </tr>\n",
       "    <tr>\n",
       "      <th>гражданский брак</th>\n",
       "      <td>4134</td>\n",
       "      <td>385</td>\n",
       "      <td>0.093130</td>\n",
       "    </tr>\n",
       "    <tr>\n",
       "      <th>женат / замужем</th>\n",
       "      <td>12261</td>\n",
       "      <td>927</td>\n",
       "      <td>0.075606</td>\n",
       "    </tr>\n",
       "    <tr>\n",
       "      <th>в разводе</th>\n",
       "      <td>1189</td>\n",
       "      <td>84</td>\n",
       "      <td>0.070648</td>\n",
       "    </tr>\n",
       "    <tr>\n",
       "      <th>вдовец / вдова</th>\n",
       "      <td>951</td>\n",
       "      <td>63</td>\n",
       "      <td>0.066246</td>\n",
       "    </tr>\n",
       "  </tbody>\n",
       "</table>\n",
       "</div>"
      ],
      "text/plain": [
       "                       count  sum      mean\n",
       "family_status                              \n",
       "Не женат / не замужем   2796  273  0.097639\n",
       "гражданский брак        4134  385  0.093130\n",
       "женат / замужем        12261  927  0.075606\n",
       "в разводе               1189   84  0.070648\n",
       "вдовец / вдова           951   63  0.066246"
      ]
     },
     "execution_count": 25,
     "metadata": {},
     "output_type": "execute_result"
    }
   ],
   "source": [
    "family_status_to_debt = data.groupby('family_status')['debt'].agg(['count', 'sum', 'mean'])\n",
    "family_status_to_debt.sort_values(by='mean', ascending=False)"
   ]
  },
  {
   "cell_type": "markdown",
   "id": "cf1fb6b4",
   "metadata": {
    "deletable": false,
    "id": "1cef7837"
   },
   "source": [
    "**Вывод:** Зависимость есть. Люди, не состоящие браке или состоящие но в гражданском браке, чаще имеют просрочку по платежу. Те же кто находятся в браке или разведены имеют более низкий процент просрочки. А вдовы и вдовцы являются самыми благонадежными заемщиками."
   ]
  },
  {
   "cell_type": "markdown",
   "id": "db487119",
   "metadata": {
    "deletable": false,
    "editable": false,
    "id": "1e8b2fca"
   },
   "source": [
    "#### 3.3 Есть ли зависимость между уровнем дохода и возвратом кредита в срок?"
   ]
  },
  {
   "cell_type": "code",
   "execution_count": 26,
   "id": "a11b8b67",
   "metadata": {
    "deletable": false,
    "id": "cd7e3720"
   },
   "outputs": [
    {
     "data": {
      "text/html": [
       "<div>\n",
       "<style scoped>\n",
       "    .dataframe tbody tr th:only-of-type {\n",
       "        vertical-align: middle;\n",
       "    }\n",
       "\n",
       "    .dataframe tbody tr th {\n",
       "        vertical-align: top;\n",
       "    }\n",
       "\n",
       "    .dataframe thead th {\n",
       "        text-align: right;\n",
       "    }\n",
       "</style>\n",
       "<table border=\"1\" class=\"dataframe\">\n",
       "  <thead>\n",
       "    <tr style=\"text-align: right;\">\n",
       "      <th></th>\n",
       "      <th>count</th>\n",
       "      <th>sum</th>\n",
       "      <th>mean</th>\n",
       "    </tr>\n",
       "    <tr>\n",
       "      <th>total_income_category</th>\n",
       "      <th></th>\n",
       "      <th></th>\n",
       "      <th></th>\n",
       "    </tr>\n",
       "  </thead>\n",
       "  <tbody>\n",
       "    <tr>\n",
       "      <th>E</th>\n",
       "      <td>22</td>\n",
       "      <td>2</td>\n",
       "      <td>0.090909</td>\n",
       "    </tr>\n",
       "    <tr>\n",
       "      <th>C</th>\n",
       "      <td>15921</td>\n",
       "      <td>1353</td>\n",
       "      <td>0.084982</td>\n",
       "    </tr>\n",
       "    <tr>\n",
       "      <th>A</th>\n",
       "      <td>25</td>\n",
       "      <td>2</td>\n",
       "      <td>0.080000</td>\n",
       "    </tr>\n",
       "    <tr>\n",
       "      <th>B</th>\n",
       "      <td>5014</td>\n",
       "      <td>354</td>\n",
       "      <td>0.070602</td>\n",
       "    </tr>\n",
       "    <tr>\n",
       "      <th>D</th>\n",
       "      <td>349</td>\n",
       "      <td>21</td>\n",
       "      <td>0.060172</td>\n",
       "    </tr>\n",
       "  </tbody>\n",
       "</table>\n",
       "</div>"
      ],
      "text/plain": [
       "                       count   sum      mean\n",
       "total_income_category                       \n",
       "E                         22     2  0.090909\n",
       "C                      15921  1353  0.084982\n",
       "A                         25     2  0.080000\n",
       "B                       5014   354  0.070602\n",
       "D                        349    21  0.060172"
      ]
     },
     "execution_count": 26,
     "metadata": {},
     "output_type": "execute_result"
    }
   ],
   "source": [
    "total_income_category_to_debt = data.groupby('total_income_category')['debt'].agg(['count', 'sum', 'mean'])\n",
    "total_income_category_to_debt.sort_values(by='mean', ascending=False)"
   ]
  },
  {
   "cell_type": "markdown",
   "id": "5b9d9f53",
   "metadata": {
    "deletable": false,
    "id": "e8593def"
   },
   "source": [
    "**Вывод:** Резуьтаты категорий A, D и E предлагаю не учитывать ввиду недостаточности данных. Что же касается остальных категорий, то можно сделать вывод о том, что уровень благонадежности заемщика имеет прямую зависимость  от уровня его заработка. Возможно, данных недостаточно."
   ]
  },
  {
   "cell_type": "markdown",
   "id": "6691db7b",
   "metadata": {
    "deletable": false,
    "editable": false,
    "id": "99ecbd1f"
   },
   "source": [
    "#### 3.4 Как разные цели кредита влияют на его возврат в срок?"
   ]
  },
  {
   "cell_type": "code",
   "execution_count": 27,
   "id": "c068ac6e",
   "metadata": {
    "deletable": false,
    "id": "2b687290"
   },
   "outputs": [
    {
     "data": {
      "text/html": [
       "<div>\n",
       "<style scoped>\n",
       "    .dataframe tbody tr th:only-of-type {\n",
       "        vertical-align: middle;\n",
       "    }\n",
       "\n",
       "    .dataframe tbody tr th {\n",
       "        vertical-align: top;\n",
       "    }\n",
       "\n",
       "    .dataframe thead th {\n",
       "        text-align: right;\n",
       "    }\n",
       "</style>\n",
       "<table border=\"1\" class=\"dataframe\">\n",
       "  <thead>\n",
       "    <tr style=\"text-align: right;\">\n",
       "      <th></th>\n",
       "      <th>count</th>\n",
       "      <th>sum</th>\n",
       "      <th>mean</th>\n",
       "    </tr>\n",
       "    <tr>\n",
       "      <th>purpose_category</th>\n",
       "      <th></th>\n",
       "      <th></th>\n",
       "      <th></th>\n",
       "    </tr>\n",
       "  </thead>\n",
       "  <tbody>\n",
       "    <tr>\n",
       "      <th>операции с автомобилем</th>\n",
       "      <td>4279</td>\n",
       "      <td>400</td>\n",
       "      <td>0.093480</td>\n",
       "    </tr>\n",
       "    <tr>\n",
       "      <th>получение образования</th>\n",
       "      <td>3988</td>\n",
       "      <td>369</td>\n",
       "      <td>0.092528</td>\n",
       "    </tr>\n",
       "    <tr>\n",
       "      <th>проведение свадьбы</th>\n",
       "      <td>2313</td>\n",
       "      <td>183</td>\n",
       "      <td>0.079118</td>\n",
       "    </tr>\n",
       "    <tr>\n",
       "      <th>операции с недвижимостью</th>\n",
       "      <td>10751</td>\n",
       "      <td>780</td>\n",
       "      <td>0.072551</td>\n",
       "    </tr>\n",
       "  </tbody>\n",
       "</table>\n",
       "</div>"
      ],
      "text/plain": [
       "                          count  sum      mean\n",
       "purpose_category                              \n",
       "операции с автомобилем     4279  400  0.093480\n",
       "получение образования      3988  369  0.092528\n",
       "проведение свадьбы         2313  183  0.079118\n",
       "операции с недвижимостью  10751  780  0.072551"
      ]
     },
     "execution_count": 27,
     "metadata": {},
     "output_type": "execute_result"
    }
   ],
   "source": [
    "purpose_to_debt = data.groupby('purpose_category')['debt'].agg(['count', 'sum', 'mean'])\n",
    "purpose_to_debt.sort_values(by='mean', ascending=False)"
   ]
  },
  {
   "cell_type": "markdown",
   "id": "6d2f823e",
   "metadata": {
    "deletable": false,
    "id": "b4bb2ce6"
   },
   "source": [
    "**Вывод:** Наиболее благонадежными целями взятия кредита являются операции с недвижимостью - у них самый низкий процент просрочки. Далее идут заемы с целью проведения свадьбы. А самыми рисковыми целями являются операции с автомобилем и получение образования. "
   ]
  },
  {
   "cell_type": "markdown",
   "id": "4a54c216",
   "metadata": {
    "deletable": false,
    "editable": false,
    "id": "09c3ac4c"
   },
   "source": [
    "#### 3.5 Приведите возможные причины появления пропусков в исходных данных."
   ]
  },
  {
   "cell_type": "markdown",
   "id": "3273df3d",
   "metadata": {
    "deletable": false,
    "id": "9da2ceda"
   },
   "source": [
    "*Ответ:* Пропуски были в столбцах total_income и days_employed. Учитывая что они оба относятся к данным о професии, можно сделать вывод, что возникла техническая ошибка в разделе хранения данных, ответсвенном за эту область. Также рано исключать человеческий фактор: возможно, заемщик не указал эти данные или работник банка не внес их в систему."
   ]
  },
  {
   "cell_type": "markdown",
   "id": "4ab59bff",
   "metadata": {
    "deletable": false,
    "editable": false,
    "id": "7b0487d6"
   },
   "source": [
    "#### 3.6 Объясните, почему заполнить пропуски медианным значением — лучшее решение для количественных переменных."
   ]
  },
  {
   "cell_type": "markdown",
   "id": "37ea5197",
   "metadata": {
    "deletable": false,
    "id": "7ecf2b8e"
   },
   "source": [
    "*Ответ:* Учитывая категории данных, можно сделать вывод об отсуствии нормального распределения. Следовательно, среднее количество плохо бы отражало действительность. Медиана - лучший вариант."
   ]
  },
  {
   "cell_type": "markdown",
   "id": "41bd62f8",
   "metadata": {
    "deletable": false,
    "editable": false,
    "id": "6db5255a"
   },
   "source": [
    "### Шаг 4: общий вывод."
   ]
  },
  {
   "cell_type": "markdown",
   "id": "f562b3b0",
   "metadata": {
    "deletable": false,
    "id": "bad65432"
   },
   "source": [
    "На основе проанализированных данных можно сделать несколько основных выводов:\n",
    "* Предобработка данных\n",
    "    + В двух столбцах `days_employed` и `total_income` присутствовали пропущенные значения, которые были заполнены медианными значениями соответсвующего типа из столбца `income_type`\n",
    "    + В данных встречались аномалии. Отрицательное количество дней трудового стажа в столбце `days_employed`, был исправлено с помощью метода `abs()`. А в столбце `children` были удалены строки, в которых встречались аномальные значения.\n",
    "    + Был заменен вещественный тип данных в столбце `total_income` на целочисленный с помощью метода `astype()`.\n",
    "    + Были обработаны неявные дубликаты в столбце `education`. В этом столбце были одни и те же значения, но записанные по-разному: с использованием заглавных и строчных букв. Все значения были приведены к нижнему регистру, после чего удалены дубликаты.\n",
    "    + Кредитополучателям были присвоены категории, соответсующие их доходу с помощью собственной функции `categorize_income()` и метода `apply()`.\n",
    "    + Цели кредитополучателей были сгрупированы по 4 основным категориям, с помощью собственной функции `categorize_purpose` и метода `apply()`.\n",
    "    \n",
    "\n",
    "* Выявленные зависимости просрочки от разных факторов в общем виде\n",
    "    + Можно сделать вывод, что самыми благонадежными заемщикам будут бездетные люди - у них самый низкий процент просрочки. А с появлением детей он начинает увеличиваться. Причем, чем больше детей. тем больше просроченных платежей. \n",
    "    + Люди, не состоящие браке или состоящие но в гражданском браке, чаще имеют просрочку по платежу. Те же кто находятся в браке или разведены имеют более низкий процент просрочки. А вдовы и вдовцы являются самыми благонадежными заемщиками.\n",
    "    + Можно сделать вывод о том, что уровень благонадежности заемщика имеет прямую зависимость  от уровня его заработка. \n",
    "    + Цели взятия кредита влияют на процент просрочки выплат. Самыми надежными являются цели, связанные с долгосроынчными планами - операции с недвижимостью и проведение свадьбы. Далее по надежности идут цели с меньшим горизонтом планирования (4-6 лет или меньше) - операции с автомобилем и получение образования.\n",
    "\n",
    "\n",
    "* Портреты надежного и рискованного заемщика\n",
    "    + Наиболее надежным заемщиком будет являться бездетныый вдовец, получающий средства на операции с недвижимостью или проведение свадьбы, и, имеющий заработок в диапозоне от 200001 до 1000000 рублей.\n",
    "    + Наименее надежным заемщиком будет являться челоек, не состоящий в браке, с двумя детьми, который берет кредит с целью покупки машины или обучения, а также имеющий доход менее 200000 рублей.\n",
    "\n",
    "\n",
    "* Рекомендации заказчику\n",
    "    + Рекомендую учитывать выводы, полученные в результате анализа при выдаче кредита.\n",
    "\n"
   ]
  }
 ],
 "metadata": {
  "ExecuteTimeLog": [
   {
    "duration": 737,
    "start_time": "2024-04-01T20:34:59.613Z"
   },
   {
    "duration": 24,
    "start_time": "2024-04-01T20:35:00.352Z"
   },
   {
    "duration": 103,
    "start_time": "2024-04-01T20:35:00.377Z"
   },
   {
    "duration": 52,
    "start_time": "2024-04-01T20:35:00.482Z"
   },
   {
    "duration": 85,
    "start_time": "2024-04-01T20:35:00.536Z"
   },
   {
    "duration": 226,
    "start_time": "2024-04-01T20:35:00.623Z"
   },
   {
    "duration": 118,
    "start_time": "2024-04-01T20:35:00.851Z"
   },
   {
    "duration": 50,
    "start_time": "2024-04-01T20:35:00.970Z"
   },
   {
    "duration": 75,
    "start_time": "2024-04-01T20:35:01.022Z"
   },
   {
    "duration": 202,
    "start_time": "2024-04-01T20:35:01.099Z"
   },
   {
    "duration": 258,
    "start_time": "2024-04-01T20:35:01.303Z"
   },
   {
    "duration": 86,
    "start_time": "2024-04-01T20:35:01.563Z"
   },
   {
    "duration": 131,
    "start_time": "2024-04-01T20:35:01.651Z"
   },
   {
    "duration": 128,
    "start_time": "2024-04-01T20:35:01.784Z"
   },
   {
    "duration": 118,
    "start_time": "2024-04-01T20:35:01.913Z"
   },
   {
    "duration": 61,
    "start_time": "2024-04-01T20:35:02.034Z"
   },
   {
    "duration": 96,
    "start_time": "2024-04-01T20:35:02.097Z"
   },
   {
    "duration": 65,
    "start_time": "2024-04-01T20:35:02.195Z"
   },
   {
    "duration": 17,
    "start_time": "2024-04-01T20:35:02.262Z"
   },
   {
    "duration": 21,
    "start_time": "2024-04-01T20:35:02.281Z"
   },
   {
    "duration": 70,
    "start_time": "2024-04-01T20:35:02.303Z"
   },
   {
    "duration": 18,
    "start_time": "2024-04-01T20:35:07.459Z"
   },
   {
    "duration": 84,
    "start_time": "2024-04-01T20:45:43.643Z"
   },
   {
    "duration": 78,
    "start_time": "2024-04-01T20:45:49.341Z"
   },
   {
    "duration": 12,
    "start_time": "2024-04-01T20:45:58.214Z"
   },
   {
    "duration": 11,
    "start_time": "2024-04-01T20:46:10.727Z"
   },
   {
    "duration": 11,
    "start_time": "2024-04-01T20:46:16.069Z"
   },
   {
    "duration": 12,
    "start_time": "2024-04-01T20:46:32.782Z"
   },
   {
    "duration": 14,
    "start_time": "2024-04-01T20:46:39.211Z"
   },
   {
    "duration": 12,
    "start_time": "2024-04-01T20:46:57.544Z"
   },
   {
    "duration": 11,
    "start_time": "2024-04-01T20:47:09.086Z"
   },
   {
    "duration": 14,
    "start_time": "2024-04-01T20:49:38.224Z"
   },
   {
    "duration": 82,
    "start_time": "2024-04-01T20:49:47.888Z"
   },
   {
    "duration": 16,
    "start_time": "2024-04-01T20:49:54.631Z"
   },
   {
    "duration": 13,
    "start_time": "2024-04-01T20:50:05.077Z"
   },
   {
    "duration": 15,
    "start_time": "2024-04-01T20:50:47.213Z"
   },
   {
    "duration": 17,
    "start_time": "2024-04-01T20:51:02.581Z"
   },
   {
    "duration": 14,
    "start_time": "2024-04-01T20:53:11.767Z"
   },
   {
    "duration": 14,
    "start_time": "2024-04-01T20:53:17.201Z"
   },
   {
    "duration": 13,
    "start_time": "2024-04-01T20:53:20.716Z"
   },
   {
    "duration": 1399,
    "start_time": "2024-04-01T21:03:57.252Z"
   },
   {
    "duration": 27,
    "start_time": "2024-04-01T21:04:12.205Z"
   },
   {
    "duration": 18,
    "start_time": "2024-04-01T21:04:42.222Z"
   },
   {
    "duration": 18,
    "start_time": "2024-04-01T21:05:01.944Z"
   },
   {
    "duration": 20,
    "start_time": "2024-04-01T21:14:26.723Z"
   },
   {
    "duration": 23,
    "start_time": "2024-04-01T21:14:38.039Z"
   },
   {
    "duration": 17,
    "start_time": "2024-04-01T21:17:58.008Z"
   },
   {
    "duration": 16,
    "start_time": "2024-04-01T21:18:18.641Z"
   },
   {
    "duration": 15,
    "start_time": "2024-04-01T21:18:32.860Z"
   },
   {
    "duration": 13,
    "start_time": "2024-04-01T21:18:55.514Z"
   },
   {
    "duration": 17,
    "start_time": "2024-04-01T21:19:49.913Z"
   },
   {
    "duration": 1491,
    "start_time": "2024-04-01T21:23:07.682Z"
   },
   {
    "duration": 34,
    "start_time": "2024-04-01T21:23:21.288Z"
   },
   {
    "duration": 570,
    "start_time": "2024-04-01T21:24:11.805Z"
   },
   {
    "duration": 31,
    "start_time": "2024-04-01T21:24:12.377Z"
   },
   {
    "duration": 16,
    "start_time": "2024-04-01T21:24:12.410Z"
   },
   {
    "duration": 22,
    "start_time": "2024-04-01T21:24:12.428Z"
   },
   {
    "duration": 51,
    "start_time": "2024-04-01T21:24:12.452Z"
   },
   {
    "duration": 4,
    "start_time": "2024-04-01T21:24:12.505Z"
   },
   {
    "duration": 24,
    "start_time": "2024-04-01T21:24:12.510Z"
   },
   {
    "duration": 29,
    "start_time": "2024-04-01T21:24:12.536Z"
   },
   {
    "duration": 44,
    "start_time": "2024-04-01T21:24:12.567Z"
   },
   {
    "duration": 11,
    "start_time": "2024-04-01T21:24:12.613Z"
   },
   {
    "duration": 78,
    "start_time": "2024-04-01T21:24:12.625Z"
   },
   {
    "duration": 12,
    "start_time": "2024-04-01T21:24:12.705Z"
   },
   {
    "duration": 44,
    "start_time": "2024-04-01T21:24:12.718Z"
   },
   {
    "duration": 49,
    "start_time": "2024-04-01T21:24:12.765Z"
   },
   {
    "duration": 51,
    "start_time": "2024-04-01T21:24:12.816Z"
   },
   {
    "duration": 21,
    "start_time": "2024-04-01T21:24:12.868Z"
   },
   {
    "duration": 17,
    "start_time": "2024-04-01T21:24:12.891Z"
   },
   {
    "duration": 59,
    "start_time": "2024-04-01T21:24:12.909Z"
   },
   {
    "duration": 36,
    "start_time": "2024-04-01T21:24:12.969Z"
   },
   {
    "duration": 27,
    "start_time": "2024-04-01T21:24:13.007Z"
   },
   {
    "duration": 46,
    "start_time": "2024-04-01T21:24:13.036Z"
   },
   {
    "duration": 59,
    "start_time": "2024-04-01T21:24:13.083Z"
   },
   {
    "duration": 30,
    "start_time": "2024-04-01T21:24:13.144Z"
   },
   {
    "duration": 41,
    "start_time": "2024-04-01T21:24:13.176Z"
   },
   {
    "duration": 21,
    "start_time": "2024-04-01T21:24:13.219Z"
   },
   {
    "duration": 32,
    "start_time": "2024-04-01T21:24:13.242Z"
   },
   {
    "duration": 604,
    "start_time": "2024-04-02T07:01:45.698Z"
   },
   {
    "duration": 22,
    "start_time": "2024-04-02T07:01:46.304Z"
   },
   {
    "duration": 66,
    "start_time": "2024-04-02T07:01:46.328Z"
   },
   {
    "duration": 23,
    "start_time": "2024-04-02T07:01:46.396Z"
   },
   {
    "duration": 61,
    "start_time": "2024-04-02T07:01:46.421Z"
   },
   {
    "duration": 4,
    "start_time": "2024-04-02T07:01:46.483Z"
   },
   {
    "duration": 13,
    "start_time": "2024-04-02T07:01:46.488Z"
   },
   {
    "duration": 13,
    "start_time": "2024-04-02T07:01:46.502Z"
   },
   {
    "duration": 31,
    "start_time": "2024-04-02T07:01:46.516Z"
   },
   {
    "duration": 8,
    "start_time": "2024-04-02T07:01:46.549Z"
   },
   {
    "duration": 51,
    "start_time": "2024-04-02T07:01:46.558Z"
   },
   {
    "duration": 11,
    "start_time": "2024-04-02T07:01:46.610Z"
   },
   {
    "duration": 13,
    "start_time": "2024-04-02T07:01:46.623Z"
   },
   {
    "duration": 60,
    "start_time": "2024-04-02T07:01:46.639Z"
   },
   {
    "duration": 39,
    "start_time": "2024-04-02T07:01:46.701Z"
   },
   {
    "duration": 23,
    "start_time": "2024-04-02T07:01:46.743Z"
   },
   {
    "duration": 5,
    "start_time": "2024-04-02T07:01:46.769Z"
   },
   {
    "duration": 49,
    "start_time": "2024-04-02T07:01:46.776Z"
   },
   {
    "duration": 37,
    "start_time": "2024-04-02T07:01:46.827Z"
   },
   {
    "duration": 18,
    "start_time": "2024-04-02T07:01:46.866Z"
   },
   {
    "duration": 19,
    "start_time": "2024-04-02T07:01:46.886Z"
   },
   {
    "duration": 26,
    "start_time": "2024-04-02T07:01:46.906Z"
   },
   {
    "duration": 15,
    "start_time": "2024-04-02T07:01:46.934Z"
   },
   {
    "duration": 22,
    "start_time": "2024-04-02T07:01:46.951Z"
   },
   {
    "duration": 32,
    "start_time": "2024-04-02T07:01:46.974Z"
   },
   {
    "duration": 17,
    "start_time": "2024-04-02T07:01:47.008Z"
   },
   {
    "duration": 16,
    "start_time": "2024-04-02T07:02:24.150Z"
   },
   {
    "duration": 483,
    "start_time": "2024-04-02T07:03:04.162Z"
   },
   {
    "duration": 22,
    "start_time": "2024-04-02T07:03:04.647Z"
   },
   {
    "duration": 18,
    "start_time": "2024-04-02T07:03:04.671Z"
   },
   {
    "duration": 10,
    "start_time": "2024-04-02T07:03:04.690Z"
   },
   {
    "duration": 56,
    "start_time": "2024-04-02T07:03:04.702Z"
   },
   {
    "duration": 3,
    "start_time": "2024-04-02T07:03:04.759Z"
   },
   {
    "duration": 31,
    "start_time": "2024-04-02T07:03:04.764Z"
   },
   {
    "duration": 11,
    "start_time": "2024-04-02T07:03:04.796Z"
   },
   {
    "duration": 7,
    "start_time": "2024-04-02T07:03:04.809Z"
   },
   {
    "duration": 6,
    "start_time": "2024-04-02T07:03:04.817Z"
   },
   {
    "duration": 35,
    "start_time": "2024-04-02T07:03:04.824Z"
   },
   {
    "duration": 10,
    "start_time": "2024-04-02T07:03:04.860Z"
   },
   {
    "duration": 6,
    "start_time": "2024-04-02T07:03:04.872Z"
   },
   {
    "duration": 11,
    "start_time": "2024-04-02T07:03:04.881Z"
   },
   {
    "duration": 28,
    "start_time": "2024-04-02T07:03:04.893Z"
   },
   {
    "duration": 15,
    "start_time": "2024-04-02T07:03:04.923Z"
   },
   {
    "duration": 3,
    "start_time": "2024-04-02T07:03:04.939Z"
   },
   {
    "duration": 26,
    "start_time": "2024-04-02T07:03:04.944Z"
   },
   {
    "duration": 20,
    "start_time": "2024-04-02T07:03:04.971Z"
   },
   {
    "duration": 16,
    "start_time": "2024-04-02T07:03:04.992Z"
   },
   {
    "duration": 12,
    "start_time": "2024-04-02T07:03:05.010Z"
   },
   {
    "duration": 23,
    "start_time": "2024-04-02T07:03:05.024Z"
   },
   {
    "duration": 13,
    "start_time": "2024-04-02T07:03:05.049Z"
   },
   {
    "duration": 30,
    "start_time": "2024-04-02T07:03:05.064Z"
   },
   {
    "duration": 15,
    "start_time": "2024-04-02T07:03:05.096Z"
   },
   {
    "duration": 33,
    "start_time": "2024-04-02T07:03:05.113Z"
   },
   {
    "duration": 590,
    "start_time": "2024-04-02T08:13:52.592Z"
   },
   {
    "duration": 23,
    "start_time": "2024-04-02T08:13:53.184Z"
   },
   {
    "duration": 16,
    "start_time": "2024-04-02T08:13:53.208Z"
   },
   {
    "duration": 9,
    "start_time": "2024-04-02T08:13:53.226Z"
   },
   {
    "duration": 46,
    "start_time": "2024-04-02T08:13:53.237Z"
   },
   {
    "duration": 3,
    "start_time": "2024-04-02T08:13:53.285Z"
   },
   {
    "duration": 9,
    "start_time": "2024-04-02T08:13:53.289Z"
   },
   {
    "duration": 4,
    "start_time": "2024-04-02T08:13:53.299Z"
   },
   {
    "duration": 6,
    "start_time": "2024-04-02T08:13:53.305Z"
   },
   {
    "duration": 4,
    "start_time": "2024-04-02T08:13:53.315Z"
   },
   {
    "duration": 65,
    "start_time": "2024-04-02T08:13:53.321Z"
   },
   {
    "duration": 10,
    "start_time": "2024-04-02T08:13:53.388Z"
   },
   {
    "duration": 4,
    "start_time": "2024-04-02T08:13:53.400Z"
   },
   {
    "duration": 18,
    "start_time": "2024-04-02T08:13:53.405Z"
   },
   {
    "duration": 19,
    "start_time": "2024-04-02T08:13:53.425Z"
   },
   {
    "duration": 29,
    "start_time": "2024-04-02T08:13:53.445Z"
   },
   {
    "duration": 3,
    "start_time": "2024-04-02T08:13:53.476Z"
   },
   {
    "duration": 14,
    "start_time": "2024-04-02T08:13:53.481Z"
   },
   {
    "duration": 9,
    "start_time": "2024-04-02T08:13:53.496Z"
   },
   {
    "duration": 4,
    "start_time": "2024-04-02T08:13:53.507Z"
   },
   {
    "duration": 21,
    "start_time": "2024-04-02T08:13:53.512Z"
   },
   {
    "duration": 30,
    "start_time": "2024-04-02T08:13:53.535Z"
   },
   {
    "duration": 13,
    "start_time": "2024-04-02T08:13:53.566Z"
   },
   {
    "duration": 16,
    "start_time": "2024-04-02T08:13:53.580Z"
   },
   {
    "duration": 14,
    "start_time": "2024-04-02T08:13:53.597Z"
   },
   {
    "duration": 16,
    "start_time": "2024-04-02T08:13:53.612Z"
   },
   {
    "duration": 49,
    "start_time": "2024-04-03T07:28:36.391Z"
   },
   {
    "duration": 583,
    "start_time": "2024-04-03T07:28:41.664Z"
   },
   {
    "duration": 23,
    "start_time": "2024-04-03T07:28:42.249Z"
   },
   {
    "duration": 18,
    "start_time": "2024-04-03T07:28:42.274Z"
   },
   {
    "duration": 10,
    "start_time": "2024-04-03T07:28:42.293Z"
   },
   {
    "duration": 60,
    "start_time": "2024-04-03T07:28:42.305Z"
   },
   {
    "duration": 4,
    "start_time": "2024-04-03T07:28:42.366Z"
   },
   {
    "duration": 13,
    "start_time": "2024-04-03T07:28:42.371Z"
   },
   {
    "duration": 4,
    "start_time": "2024-04-03T07:28:42.385Z"
   },
   {
    "duration": 49,
    "start_time": "2024-04-03T07:28:42.390Z"
   },
   {
    "duration": 4,
    "start_time": "2024-04-03T07:28:42.440Z"
   },
   {
    "duration": 34,
    "start_time": "2024-04-03T07:28:42.446Z"
   },
   {
    "duration": 10,
    "start_time": "2024-04-03T07:28:42.481Z"
   },
   {
    "duration": 14,
    "start_time": "2024-04-03T07:28:42.492Z"
   },
   {
    "duration": 36,
    "start_time": "2024-04-03T07:28:42.508Z"
   },
   {
    "duration": 34,
    "start_time": "2024-04-03T07:28:42.545Z"
   },
   {
    "duration": 16,
    "start_time": "2024-04-03T07:28:42.581Z"
   },
   {
    "duration": 3,
    "start_time": "2024-04-03T07:28:42.599Z"
   },
   {
    "duration": 15,
    "start_time": "2024-04-03T07:28:42.604Z"
   },
   {
    "duration": 6,
    "start_time": "2024-04-03T07:28:42.620Z"
   },
   {
    "duration": 5,
    "start_time": "2024-04-03T07:28:42.627Z"
   },
   {
    "duration": 18,
    "start_time": "2024-04-03T07:28:42.634Z"
   },
   {
    "duration": 19,
    "start_time": "2024-04-03T07:28:42.653Z"
   },
   {
    "duration": 35,
    "start_time": "2024-04-03T07:28:45.213Z"
   },
   {
    "duration": 12,
    "start_time": "2024-04-03T07:28:53.111Z"
   },
   {
    "duration": 13,
    "start_time": "2024-04-03T07:29:13.867Z"
   },
   {
    "duration": 12,
    "start_time": "2024-04-03T07:29:49.153Z"
   },
   {
    "duration": 13,
    "start_time": "2024-04-03T07:34:15.347Z"
   },
   {
    "duration": 16,
    "start_time": "2024-04-03T07:34:36.627Z"
   },
   {
    "duration": 12,
    "start_time": "2024-04-03T07:34:53.955Z"
   },
   {
    "duration": 13,
    "start_time": "2024-04-03T07:35:40.856Z"
   },
   {
    "duration": 13,
    "start_time": "2024-04-03T07:36:07.758Z"
   },
   {
    "duration": 14,
    "start_time": "2024-04-03T07:37:28.337Z"
   },
   {
    "duration": 12,
    "start_time": "2024-04-03T07:37:46.294Z"
   },
   {
    "duration": 13,
    "start_time": "2024-04-03T07:41:46.553Z"
   },
   {
    "duration": 57,
    "start_time": "2024-04-03T07:44:25.663Z"
   },
   {
    "duration": 77,
    "start_time": "2024-04-03T08:27:54.066Z"
   },
   {
    "duration": 15,
    "start_time": "2024-04-03T08:27:54.145Z"
   },
   {
    "duration": 15,
    "start_time": "2024-04-03T08:27:54.162Z"
   },
   {
    "duration": 10,
    "start_time": "2024-04-03T08:27:54.179Z"
   },
   {
    "duration": 68,
    "start_time": "2024-04-03T08:27:54.190Z"
   },
   {
    "duration": 4,
    "start_time": "2024-04-03T08:27:54.259Z"
   },
   {
    "duration": 14,
    "start_time": "2024-04-03T08:27:54.265Z"
   },
   {
    "duration": 9,
    "start_time": "2024-04-03T08:27:54.280Z"
   },
   {
    "duration": 7,
    "start_time": "2024-04-03T08:27:54.291Z"
   },
   {
    "duration": 5,
    "start_time": "2024-04-03T08:27:54.301Z"
   },
   {
    "duration": 63,
    "start_time": "2024-04-03T08:27:54.308Z"
   },
   {
    "duration": 11,
    "start_time": "2024-04-03T08:27:54.373Z"
   },
   {
    "duration": 3,
    "start_time": "2024-04-03T08:27:54.385Z"
   },
   {
    "duration": 11,
    "start_time": "2024-04-03T08:27:54.390Z"
   },
   {
    "duration": 18,
    "start_time": "2024-04-03T08:27:54.402Z"
   },
   {
    "duration": 42,
    "start_time": "2024-04-03T08:27:54.421Z"
   },
   {
    "duration": 6,
    "start_time": "2024-04-03T08:27:54.465Z"
   },
   {
    "duration": 14,
    "start_time": "2024-04-03T08:27:54.472Z"
   },
   {
    "duration": 5,
    "start_time": "2024-04-03T08:27:54.488Z"
   },
   {
    "duration": 4,
    "start_time": "2024-04-03T08:27:54.495Z"
   },
   {
    "duration": 12,
    "start_time": "2024-04-03T08:27:54.500Z"
   },
   {
    "duration": 38,
    "start_time": "2024-04-03T08:27:54.514Z"
   },
   {
    "duration": 13,
    "start_time": "2024-04-03T08:27:54.553Z"
   },
   {
    "duration": 12,
    "start_time": "2024-04-03T08:27:54.567Z"
   },
   {
    "duration": 13,
    "start_time": "2024-04-03T08:27:54.580Z"
   },
   {
    "duration": 13,
    "start_time": "2024-04-03T08:27:54.594Z"
   },
   {
    "duration": 467,
    "start_time": "2024-04-04T09:43:18.045Z"
   },
   {
    "duration": 22,
    "start_time": "2024-04-04T09:43:18.515Z"
   },
   {
    "duration": 38,
    "start_time": "2024-04-04T09:43:18.539Z"
   },
   {
    "duration": 53,
    "start_time": "2024-04-04T09:43:18.579Z"
   },
   {
    "duration": 91,
    "start_time": "2024-04-04T09:43:18.635Z"
   },
   {
    "duration": 5,
    "start_time": "2024-04-04T09:43:18.728Z"
   },
   {
    "duration": 27,
    "start_time": "2024-04-04T09:43:18.734Z"
   },
   {
    "duration": 29,
    "start_time": "2024-04-04T09:43:18.763Z"
   },
   {
    "duration": 38,
    "start_time": "2024-04-04T09:43:18.795Z"
   },
   {
    "duration": 40,
    "start_time": "2024-04-04T09:43:18.834Z"
   },
   {
    "duration": 80,
    "start_time": "2024-04-04T09:43:18.875Z"
   },
   {
    "duration": 27,
    "start_time": "2024-04-04T09:43:18.957Z"
   },
   {
    "duration": 17,
    "start_time": "2024-04-04T09:43:18.985Z"
   },
   {
    "duration": 34,
    "start_time": "2024-04-04T09:43:19.007Z"
   },
   {
    "duration": 79,
    "start_time": "2024-04-04T09:43:19.043Z"
   },
   {
    "duration": 51,
    "start_time": "2024-04-04T09:43:19.124Z"
   },
   {
    "duration": 16,
    "start_time": "2024-04-04T09:43:19.176Z"
   },
   {
    "duration": 43,
    "start_time": "2024-04-04T09:43:19.194Z"
   },
   {
    "duration": 33,
    "start_time": "2024-04-04T09:43:19.239Z"
   },
   {
    "duration": 13,
    "start_time": "2024-04-04T09:43:19.275Z"
   },
   {
    "duration": 44,
    "start_time": "2024-04-04T09:43:19.290Z"
   },
   {
    "duration": 66,
    "start_time": "2024-04-04T09:43:19.336Z"
   },
   {
    "duration": 19,
    "start_time": "2024-04-04T09:43:19.406Z"
   },
   {
    "duration": 50,
    "start_time": "2024-04-04T09:43:19.427Z"
   },
   {
    "duration": 35,
    "start_time": "2024-04-04T09:43:19.479Z"
   },
   {
    "duration": 17,
    "start_time": "2024-04-04T09:43:19.516Z"
   },
   {
    "duration": 45,
    "start_time": "2024-04-04T14:13:13.610Z"
   },
   {
    "duration": 676,
    "start_time": "2024-04-04T14:13:16.996Z"
   },
   {
    "duration": 21,
    "start_time": "2024-04-04T14:13:17.674Z"
   },
   {
    "duration": 44,
    "start_time": "2024-04-04T14:13:17.696Z"
   },
   {
    "duration": 36,
    "start_time": "2024-04-04T14:13:17.742Z"
   },
   {
    "duration": 64,
    "start_time": "2024-04-04T14:13:17.779Z"
   },
   {
    "duration": 2,
    "start_time": "2024-04-04T14:13:17.845Z"
   },
   {
    "duration": 27,
    "start_time": "2024-04-04T14:13:17.849Z"
   },
   {
    "duration": 26,
    "start_time": "2024-04-04T14:13:17.878Z"
   },
   {
    "duration": 21,
    "start_time": "2024-04-04T14:13:17.906Z"
   },
   {
    "duration": 43,
    "start_time": "2024-04-04T14:13:17.929Z"
   },
   {
    "duration": 64,
    "start_time": "2024-04-04T14:13:17.973Z"
   },
   {
    "duration": 21,
    "start_time": "2024-04-04T14:13:18.039Z"
   },
   {
    "duration": 28,
    "start_time": "2024-04-04T14:13:18.062Z"
   },
   {
    "duration": 51,
    "start_time": "2024-04-04T14:13:18.091Z"
   },
   {
    "duration": 55,
    "start_time": "2024-04-04T14:13:18.144Z"
   },
   {
    "duration": 17,
    "start_time": "2024-04-04T14:13:18.201Z"
   },
   {
    "duration": 43,
    "start_time": "2024-04-04T14:13:18.219Z"
   },
   {
    "duration": 28,
    "start_time": "2024-04-04T14:13:18.264Z"
   },
   {
    "duration": 30,
    "start_time": "2024-04-04T14:13:18.293Z"
   },
   {
    "duration": 27,
    "start_time": "2024-04-04T14:13:18.325Z"
   },
   {
    "duration": 49,
    "start_time": "2024-04-04T14:13:18.353Z"
   },
   {
    "duration": 32,
    "start_time": "2024-04-04T14:13:18.404Z"
   },
   {
    "duration": 11,
    "start_time": "2024-04-04T14:13:21.442Z"
   },
   {
    "duration": 13,
    "start_time": "2024-04-04T14:13:28.007Z"
   },
   {
    "duration": 13,
    "start_time": "2024-04-04T14:13:34.906Z"
   },
   {
    "duration": 12,
    "start_time": "2024-04-04T14:13:43.002Z"
   }
  ],
  "colab": {
   "name": "dpp_template_part2.ipynb",
   "provenance": []
  },
  "kernelspec": {
   "display_name": "Python 3 (ipykernel)",
   "language": "python",
   "name": "python3"
  },
  "language_info": {
   "codemirror_mode": {
    "name": "ipython",
    "version": 3
   },
   "file_extension": ".py",
   "mimetype": "text/x-python",
   "name": "python",
   "nbconvert_exporter": "python",
   "pygments_lexer": "ipython3",
   "version": "3.11.7"
  },
  "toc": {
   "base_numbering": 1,
   "nav_menu": {},
   "number_sections": true,
   "sideBar": true,
   "skip_h1_title": true,
   "title_cell": "Table of Contents",
   "title_sidebar": "Contents",
   "toc_cell": false,
   "toc_position": {},
   "toc_section_display": true,
   "toc_window_display": false
  }
 },
 "nbformat": 4,
 "nbformat_minor": 5
}
