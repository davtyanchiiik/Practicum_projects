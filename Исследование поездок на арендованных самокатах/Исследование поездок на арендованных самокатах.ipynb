{
 "cells": [
  {
   "cell_type": "markdown",
   "id": "23638ef1",
   "metadata": {},
   "source": [
    "# Исследование поездок на арендованных самокатах\n",
    "\n",
    "Чтобы совершать поездки по городу, пользователи сервиса GoFast пользуются мобильным приложением. Сервисом можно пользоваться:\n",
    "* без подписки\n",
    "    + абонентская плата отсутствует;\n",
    "    + стоимость одной минуты поездки — 8 рублей;\n",
    "    + стоимость старта (начала поездки) — 50 рублей;\n",
    "* с подпиской Ultra\n",
    "    + абонентская плата — 199 рублей в месяц;\n",
    "    + стоимость одной минуты поездки — 6 рублей;\n",
    "    + стоимость старта — бесплатно.\n",
    "\n",
    "**Цель проекта:** Нужно проанализировать данные и проверить некоторые гипотезы, которые могут помочь бизнесу вырасти.\n",
    "\n",
    "**Описание данных:**\n",
    "\n",
    "В основных данных есть информация о пользователях, их поездках и подписках.\n",
    "* Пользователи — users_go.csv\n",
    "    + user_id\tуникальный идентификатор пользователя\n",
    "    + name\tимя пользователя\n",
    "    + age\tвозраст\n",
    "    + city\tгород\n",
    "    + subscription_type\tтип подписки (free, ultra)\n",
    "* Поездки — rides_go.csv\n",
    "    + user_id\tуникальный идентификатор пользователя\n",
    "    + distance\tрасстояние, которое пользователь проехал в текущей сессии (в метрах)\n",
    "    + duration\tпродолжительность сессии (в минутах) — время с того момента, как пользователь нажал кнопку «Начать поездку» до момента, как он нажал кнопку «Завершить поездку»\n",
    "    + date\tдата совершения поездки\n",
    "* Подписки — subscriptions_go.csv\n",
    "    + subscription_type\tтип подписки\n",
    "    + minute_price\tстоимость одной минуты поездки по данной подписке\n",
    "    + start_ride_price\tстоимость начала поездки\n",
    "    + subscription_fee\tстоимость ежемесячного платежа\n",
    "\n",
    "**План работы:** Нужно загрузить и считать данные, провести их предобработку и исследовательский анализ данных, далее объединить их в один датафрейм и создать два типовых датафрейма, после чего подсчитать выручку по ним. После этого необходимо проверить гипотезы и посторить распределения. "
   ]
  },
  {
   "cell_type": "code",
   "execution_count": 1,
   "id": "72576667",
   "metadata": {},
   "outputs": [],
   "source": [
    "import pandas as pd\n",
    "import matplotlib.pyplot as plt\n",
    "import numpy as np\n",
    "from scipy import stats as st\n",
    "from math import factorial, sqrt"
   ]
  },
  {
   "cell_type": "markdown",
   "id": "c42cbe00",
   "metadata": {},
   "source": [
    "## Загрузка данных"
   ]
  },
  {
   "cell_type": "code",
   "execution_count": 2,
   "id": "eff9f206",
   "metadata": {},
   "outputs": [],
   "source": [
    "users = pd.read_csv('/datasets/users_go.csv')\n",
    "rides = pd.read_csv('/datasets/rides_go.csv')\n",
    "subscriptions = pd.read_csv('/datasets/subscriptions_go.csv')"
   ]
  },
  {
   "cell_type": "code",
   "execution_count": 3,
   "id": "7edf573d",
   "metadata": {},
   "outputs": [
    {
     "data": {
      "text/html": [
       "<div>\n",
       "<style scoped>\n",
       "    .dataframe tbody tr th:only-of-type {\n",
       "        vertical-align: middle;\n",
       "    }\n",
       "\n",
       "    .dataframe tbody tr th {\n",
       "        vertical-align: top;\n",
       "    }\n",
       "\n",
       "    .dataframe thead th {\n",
       "        text-align: right;\n",
       "    }\n",
       "</style>\n",
       "<table border=\"1\" class=\"dataframe\">\n",
       "  <thead>\n",
       "    <tr style=\"text-align: right;\">\n",
       "      <th></th>\n",
       "      <th>user_id</th>\n",
       "      <th>name</th>\n",
       "      <th>age</th>\n",
       "      <th>city</th>\n",
       "      <th>subscription_type</th>\n",
       "    </tr>\n",
       "  </thead>\n",
       "  <tbody>\n",
       "    <tr>\n",
       "      <th>0</th>\n",
       "      <td>1</td>\n",
       "      <td>Кира</td>\n",
       "      <td>22</td>\n",
       "      <td>Тюмень</td>\n",
       "      <td>ultra</td>\n",
       "    </tr>\n",
       "    <tr>\n",
       "      <th>1</th>\n",
       "      <td>2</td>\n",
       "      <td>Станислав</td>\n",
       "      <td>31</td>\n",
       "      <td>Омск</td>\n",
       "      <td>ultra</td>\n",
       "    </tr>\n",
       "    <tr>\n",
       "      <th>2</th>\n",
       "      <td>3</td>\n",
       "      <td>Алексей</td>\n",
       "      <td>20</td>\n",
       "      <td>Москва</td>\n",
       "      <td>ultra</td>\n",
       "    </tr>\n",
       "    <tr>\n",
       "      <th>3</th>\n",
       "      <td>4</td>\n",
       "      <td>Константин</td>\n",
       "      <td>26</td>\n",
       "      <td>Ростов-на-Дону</td>\n",
       "      <td>ultra</td>\n",
       "    </tr>\n",
       "    <tr>\n",
       "      <th>4</th>\n",
       "      <td>5</td>\n",
       "      <td>Адель</td>\n",
       "      <td>28</td>\n",
       "      <td>Омск</td>\n",
       "      <td>ultra</td>\n",
       "    </tr>\n",
       "    <tr>\n",
       "      <th>5</th>\n",
       "      <td>6</td>\n",
       "      <td>Регина</td>\n",
       "      <td>25</td>\n",
       "      <td>Краснодар</td>\n",
       "      <td>ultra</td>\n",
       "    </tr>\n",
       "    <tr>\n",
       "      <th>6</th>\n",
       "      <td>7</td>\n",
       "      <td>Игорь</td>\n",
       "      <td>23</td>\n",
       "      <td>Омск</td>\n",
       "      <td>ultra</td>\n",
       "    </tr>\n",
       "    <tr>\n",
       "      <th>7</th>\n",
       "      <td>8</td>\n",
       "      <td>Юрий</td>\n",
       "      <td>23</td>\n",
       "      <td>Краснодар</td>\n",
       "      <td>ultra</td>\n",
       "    </tr>\n",
       "    <tr>\n",
       "      <th>8</th>\n",
       "      <td>9</td>\n",
       "      <td>Ян</td>\n",
       "      <td>21</td>\n",
       "      <td>Пятигорск</td>\n",
       "      <td>ultra</td>\n",
       "    </tr>\n",
       "    <tr>\n",
       "      <th>9</th>\n",
       "      <td>10</td>\n",
       "      <td>Валерий</td>\n",
       "      <td>18</td>\n",
       "      <td>Екатеринбург</td>\n",
       "      <td>ultra</td>\n",
       "    </tr>\n",
       "  </tbody>\n",
       "</table>\n",
       "</div>"
      ],
      "text/plain": [
       "   user_id        name  age            city subscription_type\n",
       "0        1        Кира   22          Тюмень             ultra\n",
       "1        2   Станислав   31            Омск             ultra\n",
       "2        3     Алексей   20          Москва             ultra\n",
       "3        4  Константин   26  Ростов-на-Дону             ultra\n",
       "4        5       Адель   28            Омск             ultra\n",
       "5        6      Регина   25       Краснодар             ultra\n",
       "6        7       Игорь   23            Омск             ultra\n",
       "7        8        Юрий   23       Краснодар             ultra\n",
       "8        9          Ян   21       Пятигорск             ultra\n",
       "9       10     Валерий   18    Екатеринбург             ultra"
      ]
     },
     "execution_count": 3,
     "metadata": {},
     "output_type": "execute_result"
    }
   ],
   "source": [
    "users.head(10)"
   ]
  },
  {
   "cell_type": "code",
   "execution_count": 4,
   "id": "616c7c4c",
   "metadata": {},
   "outputs": [
    {
     "name": "stdout",
     "output_type": "stream",
     "text": [
      "<class 'pandas.core.frame.DataFrame'>\n",
      "RangeIndex: 1565 entries, 0 to 1564\n",
      "Data columns (total 5 columns):\n",
      " #   Column             Non-Null Count  Dtype \n",
      "---  ------             --------------  ----- \n",
      " 0   user_id            1565 non-null   int64 \n",
      " 1   name               1565 non-null   object\n",
      " 2   age                1565 non-null   int64 \n",
      " 3   city               1565 non-null   object\n",
      " 4   subscription_type  1565 non-null   object\n",
      "dtypes: int64(2), object(3)\n",
      "memory usage: 61.3+ KB\n"
     ]
    }
   ],
   "source": [
    "users.info()"
   ]
  },
  {
   "cell_type": "code",
   "execution_count": 5,
   "id": "e13e2ded",
   "metadata": {},
   "outputs": [
    {
     "data": {
      "text/html": [
       "<div>\n",
       "<style scoped>\n",
       "    .dataframe tbody tr th:only-of-type {\n",
       "        vertical-align: middle;\n",
       "    }\n",
       "\n",
       "    .dataframe tbody tr th {\n",
       "        vertical-align: top;\n",
       "    }\n",
       "\n",
       "    .dataframe thead th {\n",
       "        text-align: right;\n",
       "    }\n",
       "</style>\n",
       "<table border=\"1\" class=\"dataframe\">\n",
       "  <thead>\n",
       "    <tr style=\"text-align: right;\">\n",
       "      <th></th>\n",
       "      <th>user_id</th>\n",
       "      <th>distance</th>\n",
       "      <th>duration</th>\n",
       "      <th>date</th>\n",
       "    </tr>\n",
       "  </thead>\n",
       "  <tbody>\n",
       "    <tr>\n",
       "      <th>0</th>\n",
       "      <td>1</td>\n",
       "      <td>4409.919140</td>\n",
       "      <td>25.599769</td>\n",
       "      <td>2021-01-01</td>\n",
       "    </tr>\n",
       "    <tr>\n",
       "      <th>1</th>\n",
       "      <td>1</td>\n",
       "      <td>2617.592153</td>\n",
       "      <td>15.816871</td>\n",
       "      <td>2021-01-18</td>\n",
       "    </tr>\n",
       "    <tr>\n",
       "      <th>2</th>\n",
       "      <td>1</td>\n",
       "      <td>754.159807</td>\n",
       "      <td>6.232113</td>\n",
       "      <td>2021-04-20</td>\n",
       "    </tr>\n",
       "    <tr>\n",
       "      <th>3</th>\n",
       "      <td>1</td>\n",
       "      <td>2694.783254</td>\n",
       "      <td>18.511000</td>\n",
       "      <td>2021-08-11</td>\n",
       "    </tr>\n",
       "    <tr>\n",
       "      <th>4</th>\n",
       "      <td>1</td>\n",
       "      <td>4028.687306</td>\n",
       "      <td>26.265803</td>\n",
       "      <td>2021-08-28</td>\n",
       "    </tr>\n",
       "    <tr>\n",
       "      <th>5</th>\n",
       "      <td>1</td>\n",
       "      <td>2770.890808</td>\n",
       "      <td>16.650138</td>\n",
       "      <td>2021-10-09</td>\n",
       "    </tr>\n",
       "    <tr>\n",
       "      <th>6</th>\n",
       "      <td>1</td>\n",
       "      <td>3039.020292</td>\n",
       "      <td>14.927879</td>\n",
       "      <td>2021-10-19</td>\n",
       "    </tr>\n",
       "    <tr>\n",
       "      <th>7</th>\n",
       "      <td>1</td>\n",
       "      <td>2842.118050</td>\n",
       "      <td>23.117468</td>\n",
       "      <td>2021-11-06</td>\n",
       "    </tr>\n",
       "    <tr>\n",
       "      <th>8</th>\n",
       "      <td>1</td>\n",
       "      <td>3412.690668</td>\n",
       "      <td>15.238072</td>\n",
       "      <td>2021-11-14</td>\n",
       "    </tr>\n",
       "    <tr>\n",
       "      <th>9</th>\n",
       "      <td>1</td>\n",
       "      <td>748.690645</td>\n",
       "      <td>15.041884</td>\n",
       "      <td>2021-11-22</td>\n",
       "    </tr>\n",
       "  </tbody>\n",
       "</table>\n",
       "</div>"
      ],
      "text/plain": [
       "   user_id     distance   duration        date\n",
       "0        1  4409.919140  25.599769  2021-01-01\n",
       "1        1  2617.592153  15.816871  2021-01-18\n",
       "2        1   754.159807   6.232113  2021-04-20\n",
       "3        1  2694.783254  18.511000  2021-08-11\n",
       "4        1  4028.687306  26.265803  2021-08-28\n",
       "5        1  2770.890808  16.650138  2021-10-09\n",
       "6        1  3039.020292  14.927879  2021-10-19\n",
       "7        1  2842.118050  23.117468  2021-11-06\n",
       "8        1  3412.690668  15.238072  2021-11-14\n",
       "9        1   748.690645  15.041884  2021-11-22"
      ]
     },
     "execution_count": 5,
     "metadata": {},
     "output_type": "execute_result"
    }
   ],
   "source": [
    "rides.head(10)"
   ]
  },
  {
   "cell_type": "code",
   "execution_count": 6,
   "id": "f714024e",
   "metadata": {},
   "outputs": [
    {
     "name": "stdout",
     "output_type": "stream",
     "text": [
      "<class 'pandas.core.frame.DataFrame'>\n",
      "RangeIndex: 18068 entries, 0 to 18067\n",
      "Data columns (total 4 columns):\n",
      " #   Column    Non-Null Count  Dtype  \n",
      "---  ------    --------------  -----  \n",
      " 0   user_id   18068 non-null  int64  \n",
      " 1   distance  18068 non-null  float64\n",
      " 2   duration  18068 non-null  float64\n",
      " 3   date      18068 non-null  object \n",
      "dtypes: float64(2), int64(1), object(1)\n",
      "memory usage: 564.8+ KB\n"
     ]
    }
   ],
   "source": [
    "rides.info()"
   ]
  },
  {
   "cell_type": "code",
   "execution_count": 7,
   "id": "a78f4a4c",
   "metadata": {},
   "outputs": [
    {
     "data": {
      "text/html": [
       "<div>\n",
       "<style scoped>\n",
       "    .dataframe tbody tr th:only-of-type {\n",
       "        vertical-align: middle;\n",
       "    }\n",
       "\n",
       "    .dataframe tbody tr th {\n",
       "        vertical-align: top;\n",
       "    }\n",
       "\n",
       "    .dataframe thead th {\n",
       "        text-align: right;\n",
       "    }\n",
       "</style>\n",
       "<table border=\"1\" class=\"dataframe\">\n",
       "  <thead>\n",
       "    <tr style=\"text-align: right;\">\n",
       "      <th></th>\n",
       "      <th>subscription_type</th>\n",
       "      <th>minute_price</th>\n",
       "      <th>start_ride_price</th>\n",
       "      <th>subscription_fee</th>\n",
       "    </tr>\n",
       "  </thead>\n",
       "  <tbody>\n",
       "    <tr>\n",
       "      <th>0</th>\n",
       "      <td>free</td>\n",
       "      <td>8</td>\n",
       "      <td>50</td>\n",
       "      <td>0</td>\n",
       "    </tr>\n",
       "    <tr>\n",
       "      <th>1</th>\n",
       "      <td>ultra</td>\n",
       "      <td>6</td>\n",
       "      <td>0</td>\n",
       "      <td>199</td>\n",
       "    </tr>\n",
       "  </tbody>\n",
       "</table>\n",
       "</div>"
      ],
      "text/plain": [
       "  subscription_type  minute_price  start_ride_price  subscription_fee\n",
       "0              free             8                50                 0\n",
       "1             ultra             6                 0               199"
      ]
     },
     "execution_count": 7,
     "metadata": {},
     "output_type": "execute_result"
    }
   ],
   "source": [
    "subscriptions.head()"
   ]
  },
  {
   "cell_type": "code",
   "execution_count": 8,
   "id": "c5c976af",
   "metadata": {},
   "outputs": [
    {
     "name": "stdout",
     "output_type": "stream",
     "text": [
      "<class 'pandas.core.frame.DataFrame'>\n",
      "RangeIndex: 2 entries, 0 to 1\n",
      "Data columns (total 4 columns):\n",
      " #   Column             Non-Null Count  Dtype \n",
      "---  ------             --------------  ----- \n",
      " 0   subscription_type  2 non-null      object\n",
      " 1   minute_price       2 non-null      int64 \n",
      " 2   start_ride_price   2 non-null      int64 \n",
      " 3   subscription_fee   2 non-null      int64 \n",
      "dtypes: int64(3), object(1)\n",
      "memory usage: 192.0+ bytes\n"
     ]
    }
   ],
   "source": [
    "subscriptions.info()"
   ]
  },
  {
   "cell_type": "markdown",
   "id": "b3361689",
   "metadata": {},
   "source": [
    "**Вывод:** В датафреймах отсутсвуют пропуски. Необходимо изменить тип данных столбца date."
   ]
  },
  {
   "cell_type": "markdown",
   "id": "e95ebca7",
   "metadata": {},
   "source": [
    "## Предобработка данных"
   ]
  },
  {
   "cell_type": "code",
   "execution_count": 9,
   "id": "af6d202c",
   "metadata": {},
   "outputs": [
    {
     "name": "stdout",
     "output_type": "stream",
     "text": [
      "<class 'pandas.core.frame.DataFrame'>\n",
      "RangeIndex: 18068 entries, 0 to 18067\n",
      "Data columns (total 4 columns):\n",
      " #   Column    Non-Null Count  Dtype         \n",
      "---  ------    --------------  -----         \n",
      " 0   user_id   18068 non-null  int64         \n",
      " 1   distance  18068 non-null  float64       \n",
      " 2   duration  18068 non-null  float64       \n",
      " 3   date      18068 non-null  datetime64[ns]\n",
      "dtypes: datetime64[ns](1), float64(2), int64(1)\n",
      "memory usage: 564.8 KB\n"
     ]
    }
   ],
   "source": [
    "# Изменим тип данных в столбце date датафрейма rides на корректный\n",
    "rides['date'] = pd.to_datetime(rides['date'], format='%Y-%m-%d')\n",
    "rides.info()"
   ]
  },
  {
   "cell_type": "code",
   "execution_count": 10,
   "id": "731061be",
   "metadata": {
    "scrolled": true
   },
   "outputs": [
    {
     "name": "stdout",
     "output_type": "stream",
     "text": [
      "<class 'pandas.core.frame.DataFrame'>\n",
      "RangeIndex: 18068 entries, 0 to 18067\n",
      "Data columns (total 5 columns):\n",
      " #   Column    Non-Null Count  Dtype         \n",
      "---  ------    --------------  -----         \n",
      " 0   user_id   18068 non-null  int64         \n",
      " 1   distance  18068 non-null  float64       \n",
      " 2   duration  18068 non-null  float64       \n",
      " 3   date      18068 non-null  datetime64[ns]\n",
      " 4   month     18068 non-null  int64         \n",
      "dtypes: datetime64[ns](1), float64(2), int64(2)\n",
      "memory usage: 705.9 KB\n"
     ]
    }
   ],
   "source": [
    "# Добавим столбец month с номером месяца на основе столбца date.\n",
    "rides['month'] = rides['date'].dt.month\n",
    "rides.info()"
   ]
  },
  {
   "cell_type": "code",
   "execution_count": 11,
   "id": "7f1ea8af",
   "metadata": {},
   "outputs": [
    {
     "name": "stdout",
     "output_type": "stream",
     "text": [
      "2021-01-01 00:00:00 2021-12-30 00:00:00\n"
     ]
    }
   ],
   "source": [
    "print(rides['date'].min(), rides['date'].max())"
   ]
  },
  {
   "cell_type": "code",
   "execution_count": 12,
   "id": "bb94c1f4",
   "metadata": {},
   "outputs": [
    {
     "data": {
      "text/plain": [
       "user_id              0\n",
       "name                 0\n",
       "age                  0\n",
       "city                 0\n",
       "subscription_type    0\n",
       "dtype: int64"
      ]
     },
     "execution_count": 12,
     "metadata": {},
     "output_type": "execute_result"
    }
   ],
   "source": [
    "users.isna().sum()"
   ]
  },
  {
   "cell_type": "code",
   "execution_count": 13,
   "id": "fa64b6f0",
   "metadata": {},
   "outputs": [
    {
     "data": {
      "text/plain": [
       "user_id     0\n",
       "distance    0\n",
       "duration    0\n",
       "date        0\n",
       "month       0\n",
       "dtype: int64"
      ]
     },
     "execution_count": 13,
     "metadata": {},
     "output_type": "execute_result"
    }
   ],
   "source": [
    "rides.isna().sum()"
   ]
  },
  {
   "cell_type": "code",
   "execution_count": 14,
   "id": "07458438",
   "metadata": {},
   "outputs": [
    {
     "data": {
      "text/plain": [
       "subscription_type    0\n",
       "minute_price         0\n",
       "start_ride_price     0\n",
       "subscription_fee     0\n",
       "dtype: int64"
      ]
     },
     "execution_count": 14,
     "metadata": {},
     "output_type": "execute_result"
    }
   ],
   "source": [
    "subscriptions.isna().sum()"
   ]
  },
  {
   "cell_type": "code",
   "execution_count": 15,
   "id": "e1b37a75",
   "metadata": {},
   "outputs": [
    {
     "data": {
      "text/plain": [
       "31"
      ]
     },
     "execution_count": 15,
     "metadata": {},
     "output_type": "execute_result"
    }
   ],
   "source": [
    "users.duplicated().sum()"
   ]
  },
  {
   "cell_type": "code",
   "execution_count": 16,
   "id": "31413ae5",
   "metadata": {},
   "outputs": [],
   "source": [
    "users = users.drop_duplicates()"
   ]
  },
  {
   "cell_type": "code",
   "execution_count": 17,
   "id": "a9b3efe5",
   "metadata": {},
   "outputs": [
    {
     "data": {
      "text/plain": [
       "0"
      ]
     },
     "execution_count": 17,
     "metadata": {},
     "output_type": "execute_result"
    }
   ],
   "source": [
    "users.duplicated().sum()"
   ]
  },
  {
   "cell_type": "code",
   "execution_count": 18,
   "id": "c7a4cb22",
   "metadata": {},
   "outputs": [
    {
     "data": {
      "text/plain": [
       "0"
      ]
     },
     "execution_count": 18,
     "metadata": {},
     "output_type": "execute_result"
    }
   ],
   "source": [
    "rides.duplicated().sum()"
   ]
  },
  {
   "cell_type": "code",
   "execution_count": 19,
   "id": "a8c9dc24",
   "metadata": {},
   "outputs": [
    {
     "data": {
      "text/plain": [
       "0"
      ]
     },
     "execution_count": 19,
     "metadata": {},
     "output_type": "execute_result"
    }
   ],
   "source": [
    "subscriptions.duplicated().sum()"
   ]
  },
  {
   "cell_type": "markdown",
   "id": "9289c83d",
   "metadata": {},
   "source": [
    "**Вывод:** Пропущенных значений обнаружено не было. В датафрейме users был найден и удален 31 дубликат."
   ]
  },
  {
   "cell_type": "markdown",
   "id": "212593c7",
   "metadata": {},
   "source": [
    "## Исследовательский анализ данных"
   ]
  },
  {
   "cell_type": "markdown",
   "id": "dd362c06",
   "metadata": {},
   "source": [
    "##### Частота встречаемости городов"
   ]
  },
  {
   "cell_type": "code",
   "execution_count": 20,
   "id": "15e42c64",
   "metadata": {},
   "outputs": [
    {
     "data": {
      "image/png": "[encoded data removed]",
      "text/plain": [
       "<Figure size 1152x576 with 1 Axes>"
      ]
     },
     "metadata": {
      "needs_background": "light"
     },
     "output_type": "display_data"
    }
   ],
   "source": [
    "users['city'].value_counts().plot(kind='barh', grid=True, figsize=(16, 8))\n",
    "plt.title('Частота встречаемости городов')\n",
    "plt.xlabel('Количество поездок')\n",
    "plt.ylabel('Название города')\n",
    "plt.show()"
   ]
  },
  {
   "cell_type": "code",
   "execution_count": 21,
   "id": "d0729ae4",
   "metadata": {},
   "outputs": [
    {
     "data": {
      "text/plain": [
       "Пятигорск         219\n",
       "Екатеринбург      204\n",
       "Ростов-на-Дону    198\n",
       "Краснодар         193\n",
       "Сочи              189\n",
       "Омск              183\n",
       "Тюмень            180\n",
       "Москва            168\n",
       "Name: city, dtype: int64"
      ]
     },
     "execution_count": 21,
     "metadata": {},
     "output_type": "execute_result"
    }
   ],
   "source": [
    "users['city'].value_counts()"
   ]
  },
  {
   "cell_type": "markdown",
   "id": "b0727929",
   "metadata": {},
   "source": [
    "Частота встречаемости городов сравнима друг с другом (нет сильных выбросов), а также расположена в районе 200 поездок."
   ]
  },
  {
   "cell_type": "markdown",
   "id": "bed0a3b5",
   "metadata": {},
   "source": [
    "##### Соотношение пользователей с подпиской и без подписки"
   ]
  },
  {
   "cell_type": "code",
   "execution_count": 22,
   "id": "ba64e6e6",
   "metadata": {
    "scrolled": true
   },
   "outputs": [
    {
     "data": {
      "image/png": "[encoded data removed]",
      "text/plain": [
       "<Figure size 1152x576 with 1 Axes>"
      ]
     },
     "metadata": {},
     "output_type": "display_data"
    }
   ],
   "source": [
    "users['subscription_type'].value_counts().plot(kind='pie', grid=True, figsize=(16, 8))\n",
    "plt.title('Соотношение пользователей с подпиской и без подписки')\n",
    "plt.show()\n"
   ]
  },
  {
   "cell_type": "code",
   "execution_count": 23,
   "id": "cc280254",
   "metadata": {},
   "outputs": [
    {
     "data": {
      "text/plain": [
       "free     835\n",
       "ultra    699\n",
       "Name: subscription_type, dtype: int64"
      ]
     },
     "execution_count": 23,
     "metadata": {},
     "output_type": "execute_result"
    }
   ],
   "source": [
    "users['subscription_type'].value_counts()"
   ]
  },
  {
   "cell_type": "code",
   "execution_count": 24,
   "id": "765a5716",
   "metadata": {},
   "outputs": [
    {
     "data": {
      "text/plain": [
       "{'free': 0.5443285528031291, 'ultra': 0.4556714471968709}"
      ]
     },
     "execution_count": 24,
     "metadata": {},
     "output_type": "execute_result"
    }
   ],
   "source": [
    "par = users['subscription_type'].value_counts()\n",
    "dic = {'free':par[0]/(par[0] + par[1]), 'ultra':par[1]/(par[0] + par[1])}\n",
    "dic"
   ]
  },
  {
   "cell_type": "markdown",
   "id": "b240ba7e",
   "metadata": {},
   "source": [
    "Колиечство пользователей с подпиской и без подписки примерно равно, но пользователей без подписки немного больше."
   ]
  },
  {
   "cell_type": "markdown",
   "id": "54622750",
   "metadata": {},
   "source": [
    "##### Возраст пользователей"
   ]
  },
  {
   "cell_type": "code",
   "execution_count": 25,
   "id": "b29356cc",
   "metadata": {
    "scrolled": true
   },
   "outputs": [
    {
     "data": {
      "image/png": "[encoded data removed]",
      "text/plain": [
       "<Figure size 1152x576 with 1 Axes>"
      ]
     },
     "metadata": {
      "needs_background": "light"
     },
     "output_type": "display_data"
    }
   ],
   "source": [
    "users['age'].hist(bins=30, figsize=(16, 8))\n",
    "plt.title('Возраст пользователей')\n",
    "plt.xlabel('Возраст')\n",
    "plt.ylabel('Колиечество пользователей')\n",
    "plt.show()"
   ]
  },
  {
   "cell_type": "code",
   "execution_count": 26,
   "id": "cbe4ef2b",
   "metadata": {},
   "outputs": [
    {
     "data": {
      "text/plain": [
       "count    1534.000000\n",
       "mean       24.903520\n",
       "std         4.572367\n",
       "min        12.000000\n",
       "25%        22.000000\n",
       "50%        25.000000\n",
       "75%        28.000000\n",
       "max        43.000000\n",
       "Name: age, dtype: float64"
      ]
     },
     "execution_count": 26,
     "metadata": {},
     "output_type": "execute_result"
    }
   ],
   "source": [
    "users['age'].describe()"
   ]
  },
  {
   "cell_type": "markdown",
   "id": "5734b02c",
   "metadata": {},
   "source": [
    "Возраст пользователей имеет нормалное распределение со средним значением около 25 лет. Также в гистограмме встречаются выбоены, можно сделать вывод о том, что данных недостаточно."
   ]
  },
  {
   "cell_type": "markdown",
   "id": "a19d512c",
   "metadata": {},
   "source": [
    "##### Расстояние, которое пользователь преодолел за одну поездку"
   ]
  },
  {
   "cell_type": "code",
   "execution_count": 27,
   "id": "b225bd2f",
   "metadata": {},
   "outputs": [
    {
     "data": {
      "image/png": "[encoded data removed]",
      "text/plain": [
       "<Figure size 1152x576 with 1 Axes>"
      ]
     },
     "metadata": {
      "needs_background": "light"
     },
     "output_type": "display_data"
    }
   ],
   "source": [
    "rides['distance'].hist(bins=100, figsize=(16, 8))\n",
    "plt.title('Расстояние, которое пользователь преодолел за одну поездку')\n",
    "plt.xlabel('Расстояние')\n",
    "plt.ylabel('Количество поездок')\n",
    "plt.show()"
   ]
  },
  {
   "cell_type": "code",
   "execution_count": 28,
   "id": "0b58e638",
   "metadata": {},
   "outputs": [
    {
     "data": {
      "text/plain": [
       "count    18068.000000\n",
       "mean      3070.659976\n",
       "std       1116.831209\n",
       "min          0.855683\n",
       "25%       2543.226360\n",
       "50%       3133.609994\n",
       "75%       3776.222735\n",
       "max       7211.007745\n",
       "Name: distance, dtype: float64"
      ]
     },
     "execution_count": 28,
     "metadata": {},
     "output_type": "execute_result"
    }
   ],
   "source": [
    "rides['distance'].describe()"
   ]
  },
  {
   "cell_type": "markdown",
   "id": "dfcfa3a7",
   "metadata": {},
   "source": [
    "На гистограмме видны два локальных пика в районе 600-700 и 3133 метров. Можно предположить, что левый пик появился в результате того, что пользователь по какой-либо причине предеумал ехать до конечного пункта или же, наоборот, он находился слишком близко, но тогда неясно почему значений на уровне 1500 так мало. Среднее расстояние в 3133 метров кажется более правдоподобным."
   ]
  },
  {
   "cell_type": "markdown",
   "id": "e23e91b4",
   "metadata": {},
   "source": [
    "##### Продолжительность поездок"
   ]
  },
  {
   "cell_type": "code",
   "execution_count": 29,
   "id": "2ff88ec6",
   "metadata": {},
   "outputs": [
    {
     "data": {
      "image/png": "[encoded data removed]",
      "text/plain": [
       "<Figure size 1152x576 with 1 Axes>"
      ]
     },
     "metadata": {
      "needs_background": "light"
     },
     "output_type": "display_data"
    }
   ],
   "source": [
    "rides['duration'].hist(bins=100, figsize=(16, 8))\n",
    "plt.title('Продолжительность поездок')\n",
    "plt.xlabel('Время')\n",
    "plt.ylabel('Количество поездок')\n",
    "plt.show()"
   ]
  },
  {
   "cell_type": "code",
   "execution_count": 30,
   "id": "bee9d38e",
   "metadata": {},
   "outputs": [
    {
     "data": {
      "text/plain": [
       "count    18068.000000\n",
       "mean        17.805011\n",
       "std          6.091051\n",
       "min          0.500000\n",
       "25%         13.597563\n",
       "50%         17.678395\n",
       "75%         21.724800\n",
       "max         40.823963\n",
       "Name: duration, dtype: float64"
      ]
     },
     "execution_count": 30,
     "metadata": {},
     "output_type": "execute_result"
    }
   ],
   "source": [
    "rides['duration'].describe()"
   ]
  },
  {
   "cell_type": "markdown",
   "id": "4c67e110",
   "metadata": {},
   "source": [
    "Наблюдается выброс в районе первой минуты, можно сделать вывод о том, что самокат был взят по ошибке или было принято решение использовать другой вид передвижения. В среднем же время поездки составляет от 13 до 22 минут."
   ]
  },
  {
   "cell_type": "markdown",
   "id": "ad1b10e2",
   "metadata": {},
   "source": [
    "**Вывод:** \n",
    "Частота встречаемости городов сравнима друг с другом и лежит в районе 200 поездок. Колиечство пользователей с подпиской и без подписки примерно одинаково, но пользователей без подписки на примерно на 10% больше.\n",
    "Средний возраст пользователя равен 25 лет. \n",
    "На гистограмме видны два локальных пика в районе 600-700 и 3133 метров. Можно предположить, что левый пик появился в результате того, что пользователь по какой-либо причине предеумал ехать до конечного пункта или же, наоборот, он находился слишком близко, но тогда неясно почему значений на уровне 1500 так мало. Среднее расстояние в 3133 метров кажется более правдоподобным.\n",
    "Наблюдается выброс в районе первой минуты, можно сделать вывод о том, что самокат был взят по ошибке или было принято решение использовать другой вид передвижения. В среднем же время поездки составляет от 13 до 22 минут."
   ]
  },
  {
   "cell_type": "markdown",
   "id": "4ef51331",
   "metadata": {},
   "source": [
    "##  Объединение данных"
   ]
  },
  {
   "cell_type": "markdown",
   "id": "053e57da",
   "metadata": {},
   "source": [
    "##### Объединение данных о пользователях, поездках и подписках в один датафрейм. "
   ]
  },
  {
   "cell_type": "code",
   "execution_count": 31,
   "id": "373d0733",
   "metadata": {
    "scrolled": true
   },
   "outputs": [],
   "source": [
    "data = rides\n",
    "data = data.merge(users, on='user_id', how='left')\n",
    "data = data.merge(subscriptions, on='subscription_type', how='left')"
   ]
  },
  {
   "cell_type": "code",
   "execution_count": 32,
   "id": "c0c406cc",
   "metadata": {},
   "outputs": [
    {
     "data": {
      "text/html": [
       "<div>\n",
       "<style scoped>\n",
       "    .dataframe tbody tr th:only-of-type {\n",
       "        vertical-align: middle;\n",
       "    }\n",
       "\n",
       "    .dataframe tbody tr th {\n",
       "        vertical-align: top;\n",
       "    }\n",
       "\n",
       "    .dataframe thead th {\n",
       "        text-align: right;\n",
       "    }\n",
       "</style>\n",
       "<table border=\"1\" class=\"dataframe\">\n",
       "  <thead>\n",
       "    <tr style=\"text-align: right;\">\n",
       "      <th></th>\n",
       "      <th>user_id</th>\n",
       "      <th>distance</th>\n",
       "      <th>duration</th>\n",
       "      <th>date</th>\n",
       "      <th>month</th>\n",
       "      <th>name</th>\n",
       "      <th>age</th>\n",
       "      <th>city</th>\n",
       "      <th>subscription_type</th>\n",
       "      <th>minute_price</th>\n",
       "      <th>start_ride_price</th>\n",
       "      <th>subscription_fee</th>\n",
       "    </tr>\n",
       "  </thead>\n",
       "  <tbody>\n",
       "    <tr>\n",
       "      <th>0</th>\n",
       "      <td>1</td>\n",
       "      <td>4409.919140</td>\n",
       "      <td>25.599769</td>\n",
       "      <td>2021-01-01</td>\n",
       "      <td>1</td>\n",
       "      <td>Кира</td>\n",
       "      <td>22</td>\n",
       "      <td>Тюмень</td>\n",
       "      <td>ultra</td>\n",
       "      <td>6</td>\n",
       "      <td>0</td>\n",
       "      <td>199</td>\n",
       "    </tr>\n",
       "    <tr>\n",
       "      <th>1</th>\n",
       "      <td>1</td>\n",
       "      <td>2617.592153</td>\n",
       "      <td>15.816871</td>\n",
       "      <td>2021-01-18</td>\n",
       "      <td>1</td>\n",
       "      <td>Кира</td>\n",
       "      <td>22</td>\n",
       "      <td>Тюмень</td>\n",
       "      <td>ultra</td>\n",
       "      <td>6</td>\n",
       "      <td>0</td>\n",
       "      <td>199</td>\n",
       "    </tr>\n",
       "    <tr>\n",
       "      <th>2</th>\n",
       "      <td>1</td>\n",
       "      <td>754.159807</td>\n",
       "      <td>6.232113</td>\n",
       "      <td>2021-04-20</td>\n",
       "      <td>4</td>\n",
       "      <td>Кира</td>\n",
       "      <td>22</td>\n",
       "      <td>Тюмень</td>\n",
       "      <td>ultra</td>\n",
       "      <td>6</td>\n",
       "      <td>0</td>\n",
       "      <td>199</td>\n",
       "    </tr>\n",
       "    <tr>\n",
       "      <th>3</th>\n",
       "      <td>1</td>\n",
       "      <td>2694.783254</td>\n",
       "      <td>18.511000</td>\n",
       "      <td>2021-08-11</td>\n",
       "      <td>8</td>\n",
       "      <td>Кира</td>\n",
       "      <td>22</td>\n",
       "      <td>Тюмень</td>\n",
       "      <td>ultra</td>\n",
       "      <td>6</td>\n",
       "      <td>0</td>\n",
       "      <td>199</td>\n",
       "    </tr>\n",
       "    <tr>\n",
       "      <th>4</th>\n",
       "      <td>1</td>\n",
       "      <td>4028.687306</td>\n",
       "      <td>26.265803</td>\n",
       "      <td>2021-08-28</td>\n",
       "      <td>8</td>\n",
       "      <td>Кира</td>\n",
       "      <td>22</td>\n",
       "      <td>Тюмень</td>\n",
       "      <td>ultra</td>\n",
       "      <td>6</td>\n",
       "      <td>0</td>\n",
       "      <td>199</td>\n",
       "    </tr>\n",
       "    <tr>\n",
       "      <th>...</th>\n",
       "      <td>...</td>\n",
       "      <td>...</td>\n",
       "      <td>...</td>\n",
       "      <td>...</td>\n",
       "      <td>...</td>\n",
       "      <td>...</td>\n",
       "      <td>...</td>\n",
       "      <td>...</td>\n",
       "      <td>...</td>\n",
       "      <td>...</td>\n",
       "      <td>...</td>\n",
       "      <td>...</td>\n",
       "    </tr>\n",
       "    <tr>\n",
       "      <th>18063</th>\n",
       "      <td>1534</td>\n",
       "      <td>3781.098080</td>\n",
       "      <td>19.822962</td>\n",
       "      <td>2021-11-04</td>\n",
       "      <td>11</td>\n",
       "      <td>Альберт</td>\n",
       "      <td>25</td>\n",
       "      <td>Краснодар</td>\n",
       "      <td>free</td>\n",
       "      <td>8</td>\n",
       "      <td>50</td>\n",
       "      <td>0</td>\n",
       "    </tr>\n",
       "    <tr>\n",
       "      <th>18064</th>\n",
       "      <td>1534</td>\n",
       "      <td>2840.423057</td>\n",
       "      <td>21.409799</td>\n",
       "      <td>2021-11-16</td>\n",
       "      <td>11</td>\n",
       "      <td>Альберт</td>\n",
       "      <td>25</td>\n",
       "      <td>Краснодар</td>\n",
       "      <td>free</td>\n",
       "      <td>8</td>\n",
       "      <td>50</td>\n",
       "      <td>0</td>\n",
       "    </tr>\n",
       "    <tr>\n",
       "      <th>18065</th>\n",
       "      <td>1534</td>\n",
       "      <td>3826.185507</td>\n",
       "      <td>18.435051</td>\n",
       "      <td>2021-11-18</td>\n",
       "      <td>11</td>\n",
       "      <td>Альберт</td>\n",
       "      <td>25</td>\n",
       "      <td>Краснодар</td>\n",
       "      <td>free</td>\n",
       "      <td>8</td>\n",
       "      <td>50</td>\n",
       "      <td>0</td>\n",
       "    </tr>\n",
       "    <tr>\n",
       "      <th>18066</th>\n",
       "      <td>1534</td>\n",
       "      <td>2902.308661</td>\n",
       "      <td>16.674362</td>\n",
       "      <td>2021-11-27</td>\n",
       "      <td>11</td>\n",
       "      <td>Альберт</td>\n",
       "      <td>25</td>\n",
       "      <td>Краснодар</td>\n",
       "      <td>free</td>\n",
       "      <td>8</td>\n",
       "      <td>50</td>\n",
       "      <td>0</td>\n",
       "    </tr>\n",
       "    <tr>\n",
       "      <th>18067</th>\n",
       "      <td>1534</td>\n",
       "      <td>2371.711192</td>\n",
       "      <td>15.893917</td>\n",
       "      <td>2021-12-29</td>\n",
       "      <td>12</td>\n",
       "      <td>Альберт</td>\n",
       "      <td>25</td>\n",
       "      <td>Краснодар</td>\n",
       "      <td>free</td>\n",
       "      <td>8</td>\n",
       "      <td>50</td>\n",
       "      <td>0</td>\n",
       "    </tr>\n",
       "  </tbody>\n",
       "</table>\n",
       "<p>18068 rows × 12 columns</p>\n",
       "</div>"
      ],
      "text/plain": [
       "       user_id     distance   duration       date  month     name  age  \\\n",
       "0            1  4409.919140  25.599769 2021-01-01      1     Кира   22   \n",
       "1            1  2617.592153  15.816871 2021-01-18      1     Кира   22   \n",
       "2            1   754.159807   6.232113 2021-04-20      4     Кира   22   \n",
       "3            1  2694.783254  18.511000 2021-08-11      8     Кира   22   \n",
       "4            1  4028.687306  26.265803 2021-08-28      8     Кира   22   \n",
       "...        ...          ...        ...        ...    ...      ...  ...   \n",
       "18063     1534  3781.098080  19.822962 2021-11-04     11  Альберт   25   \n",
       "18064     1534  2840.423057  21.409799 2021-11-16     11  Альберт   25   \n",
       "18065     1534  3826.185507  18.435051 2021-11-18     11  Альберт   25   \n",
       "18066     1534  2902.308661  16.674362 2021-11-27     11  Альберт   25   \n",
       "18067     1534  2371.711192  15.893917 2021-12-29     12  Альберт   25   \n",
       "\n",
       "            city subscription_type  minute_price  start_ride_price  \\\n",
       "0         Тюмень             ultra             6                 0   \n",
       "1         Тюмень             ultra             6                 0   \n",
       "2         Тюмень             ultra             6                 0   \n",
       "3         Тюмень             ultra             6                 0   \n",
       "4         Тюмень             ultra             6                 0   \n",
       "...          ...               ...           ...               ...   \n",
       "18063  Краснодар              free             8                50   \n",
       "18064  Краснодар              free             8                50   \n",
       "18065  Краснодар              free             8                50   \n",
       "18066  Краснодар              free             8                50   \n",
       "18067  Краснодар              free             8                50   \n",
       "\n",
       "       subscription_fee  \n",
       "0                   199  \n",
       "1                   199  \n",
       "2                   199  \n",
       "3                   199  \n",
       "4                   199  \n",
       "...                 ...  \n",
       "18063                 0  \n",
       "18064                 0  \n",
       "18065                 0  \n",
       "18066                 0  \n",
       "18067                 0  \n",
       "\n",
       "[18068 rows x 12 columns]"
      ]
     },
     "execution_count": 32,
     "metadata": {},
     "output_type": "execute_result"
    }
   ],
   "source": [
    "data"
   ]
  },
  {
   "cell_type": "code",
   "execution_count": 33,
   "id": "d3592d16",
   "metadata": {},
   "outputs": [
    {
     "name": "stdout",
     "output_type": "stream",
     "text": [
      "<class 'pandas.core.frame.DataFrame'>\n",
      "Int64Index: 18068 entries, 0 to 18067\n",
      "Data columns (total 12 columns):\n",
      " #   Column             Non-Null Count  Dtype         \n",
      "---  ------             --------------  -----         \n",
      " 0   user_id            18068 non-null  int64         \n",
      " 1   distance           18068 non-null  float64       \n",
      " 2   duration           18068 non-null  float64       \n",
      " 3   date               18068 non-null  datetime64[ns]\n",
      " 4   month              18068 non-null  int64         \n",
      " 5   name               18068 non-null  object        \n",
      " 6   age                18068 non-null  int64         \n",
      " 7   city               18068 non-null  object        \n",
      " 8   subscription_type  18068 non-null  object        \n",
      " 9   minute_price       18068 non-null  int64         \n",
      " 10  start_ride_price   18068 non-null  int64         \n",
      " 11  subscription_fee   18068 non-null  int64         \n",
      "dtypes: datetime64[ns](1), float64(2), int64(6), object(3)\n",
      "memory usage: 1.8+ MB\n"
     ]
    }
   ],
   "source": [
    "data.info()"
   ]
  },
  {
   "cell_type": "markdown",
   "id": "6df9515c",
   "metadata": {},
   "source": [
    "Объединение прошло корректно. Количество поездок из датафрейма rides совпадает с количеством строк в объединенном датафрейме. Значений в столбце user_id также совадает. Пропуски отсутствуют."
   ]
  },
  {
   "cell_type": "markdown",
   "id": "86c4a9e2",
   "metadata": {},
   "source": [
    "##### Создание новых датафреймов на основе подписки"
   ]
  },
  {
   "cell_type": "markdown",
   "id": "0aa3b73d",
   "metadata": {},
   "source": [
    "######  Создание датафрейма c данными о пользователях без подписки\n"
   ]
  },
  {
   "cell_type": "code",
   "execution_count": 34,
   "id": "a1b8df84",
   "metadata": {},
   "outputs": [
    {
     "name": "stdout",
     "output_type": "stream",
     "text": [
      "<class 'pandas.core.frame.DataFrame'>\n",
      "Int64Index: 11568 entries, 6500 to 18067\n",
      "Data columns (total 12 columns):\n",
      " #   Column             Non-Null Count  Dtype         \n",
      "---  ------             --------------  -----         \n",
      " 0   user_id            11568 non-null  int64         \n",
      " 1   distance           11568 non-null  float64       \n",
      " 2   duration           11568 non-null  float64       \n",
      " 3   date               11568 non-null  datetime64[ns]\n",
      " 4   month              11568 non-null  int64         \n",
      " 5   name               11568 non-null  object        \n",
      " 6   age                11568 non-null  int64         \n",
      " 7   city               11568 non-null  object        \n",
      " 8   subscription_type  11568 non-null  object        \n",
      " 9   minute_price       11568 non-null  int64         \n",
      " 10  start_ride_price   11568 non-null  int64         \n",
      " 11  subscription_fee   11568 non-null  int64         \n",
      "dtypes: datetime64[ns](1), float64(2), int64(6), object(3)\n",
      "memory usage: 1.1+ MB\n"
     ]
    }
   ],
   "source": [
    "unsubs = data[data['subscription_type'] == 'free']\n",
    "unsubs.info()"
   ]
  },
  {
   "cell_type": "markdown",
   "id": "11fa0047",
   "metadata": {},
   "source": [
    "###### Создание датафрейма c данными о пользователях с подпиской\n"
   ]
  },
  {
   "cell_type": "code",
   "execution_count": 35,
   "id": "ae82ba33",
   "metadata": {
    "scrolled": true
   },
   "outputs": [
    {
     "name": "stdout",
     "output_type": "stream",
     "text": [
      "<class 'pandas.core.frame.DataFrame'>\n",
      "Int64Index: 6500 entries, 0 to 6499\n",
      "Data columns (total 12 columns):\n",
      " #   Column             Non-Null Count  Dtype         \n",
      "---  ------             --------------  -----         \n",
      " 0   user_id            6500 non-null   int64         \n",
      " 1   distance           6500 non-null   float64       \n",
      " 2   duration           6500 non-null   float64       \n",
      " 3   date               6500 non-null   datetime64[ns]\n",
      " 4   month              6500 non-null   int64         \n",
      " 5   name               6500 non-null   object        \n",
      " 6   age                6500 non-null   int64         \n",
      " 7   city               6500 non-null   object        \n",
      " 8   subscription_type  6500 non-null   object        \n",
      " 9   minute_price       6500 non-null   int64         \n",
      " 10  start_ride_price   6500 non-null   int64         \n",
      " 11  subscription_fee   6500 non-null   int64         \n",
      "dtypes: datetime64[ns](1), float64(2), int64(6), object(3)\n",
      "memory usage: 660.2+ KB\n"
     ]
    }
   ],
   "source": [
    "subs = data[data['subscription_type'] == 'ultra']\n",
    "subs.info()"
   ]
  },
  {
   "cell_type": "markdown",
   "id": "254f4bb6",
   "metadata": {},
   "source": [
    "##### Визуализируйте информацию о расстоянии и времени поездок для пользователей обеих категорий.\n"
   ]
  },
  {
   "cell_type": "code",
   "execution_count": 36,
   "id": "747c9040",
   "metadata": {
    "scrolled": true
   },
   "outputs": [
    {
     "data": {
      "image/png": "[encoded data removed]",
      "text/plain": [
       "<Figure size 1152x576 with 1 Axes>"
      ]
     },
     "metadata": {
      "needs_background": "light"
     },
     "output_type": "display_data"
    }
   ],
   "source": [
    "plt.figure(figsize=(16,8))\n",
    "plt.hist(unsubs['distance'], alpha=1, bins=100, label='Неподписчики')\n",
    "plt.hist(subs['distance'], alpha=1, bins=100, label='Подписчики')\n",
    "plt.grid(True)\n",
    "plt.title('Расстоянии поездок для пользователей обеих категорий')\n",
    "plt.xlabel('Растояние поездок')\n",
    "plt.ylabel('Количество поездок')\n",
    "plt.legend()\n",
    "plt.show()"
   ]
  },
  {
   "cell_type": "code",
   "execution_count": 37,
   "id": "d72743c3",
   "metadata": {},
   "outputs": [
    {
     "data": {
      "text/plain": [
       "count    6500.000000\n",
       "mean     3115.445388\n",
       "std       836.895330\n",
       "min       244.210438\n",
       "25%      2785.444017\n",
       "50%      3148.637229\n",
       "75%      3560.574425\n",
       "max      5699.769662\n",
       "Name: distance, dtype: float64"
      ]
     },
     "execution_count": 37,
     "metadata": {},
     "output_type": "execute_result"
    }
   ],
   "source": [
    "subs['distance'].describe()"
   ]
  },
  {
   "cell_type": "code",
   "execution_count": 38,
   "id": "0d260f6e",
   "metadata": {},
   "outputs": [
    {
     "data": {
      "text/plain": [
       "count    11568.000000\n",
       "mean      3045.495282\n",
       "std       1246.173806\n",
       "min          0.855683\n",
       "25%       2366.562689\n",
       "50%       3114.648465\n",
       "75%       3905.697894\n",
       "max       7211.007745\n",
       "Name: distance, dtype: float64"
      ]
     },
     "execution_count": 38,
     "metadata": {},
     "output_type": "execute_result"
    }
   ],
   "source": [
    "unsubs['distance'].describe()"
   ]
  },
  {
   "cell_type": "code",
   "execution_count": 39,
   "id": "19c82b29",
   "metadata": {},
   "outputs": [
    {
     "data": {
      "image/png": "[encoded data removed]",
      "text/plain": [
       "<Figure size 1152x576 with 1 Axes>"
      ]
     },
     "metadata": {
      "needs_background": "light"
     },
     "output_type": "display_data"
    }
   ],
   "source": [
    "plt.figure(figsize=(16,8))\n",
    "plt.hist(unsubs['duration'], alpha=1, bins=50, label='Неподписчики')\n",
    "plt.hist(subs['duration'], alpha=1, bins=50, label='Подписчики')\n",
    "plt.grid(True)\n",
    "plt.title('Время поездок для пользователей обеих категорий')\n",
    "plt.xlabel('Время поездок')\n",
    "plt.ylabel('Количество поездок')\n",
    "plt.legend()\n",
    "plt.show()"
   ]
  },
  {
   "cell_type": "code",
   "execution_count": 40,
   "id": "4e66b587",
   "metadata": {},
   "outputs": [
    {
     "data": {
      "text/plain": [
       "count    6500.000000\n",
       "mean       18.541985\n",
       "std         5.572048\n",
       "min         3.760353\n",
       "25%        14.524654\n",
       "50%        18.178153\n",
       "75%        21.884129\n",
       "max        40.823963\n",
       "Name: duration, dtype: float64"
      ]
     },
     "execution_count": 40,
     "metadata": {},
     "output_type": "execute_result"
    }
   ],
   "source": [
    "subs['duration'].describe()"
   ]
  },
  {
   "cell_type": "code",
   "execution_count": 41,
   "id": "ed1b1d64",
   "metadata": {},
   "outputs": [
    {
     "data": {
      "text/plain": [
       "count    11568.000000\n",
       "mean        17.390909\n",
       "std          6.326803\n",
       "min          0.500000\n",
       "25%         12.958437\n",
       "50%         17.326890\n",
       "75%         21.594071\n",
       "max         34.948498\n",
       "Name: duration, dtype: float64"
      ]
     },
     "execution_count": 41,
     "metadata": {},
     "output_type": "execute_result"
    }
   ],
   "source": [
    "unsubs['duration'].describe()"
   ]
  },
  {
   "cell_type": "markdown",
   "id": "fa4694d4",
   "metadata": {},
   "source": [
    "**Вывод:** На данном этапе три отдельных датафрейма были объединены в один общий, после чего тот был разделен на два датафрейма по типу подписки. Также были построены гистограмы полученных датафреймов и сделаны следующие выводы: у пользователей без подписки бОльший диапазон расстояния поездок и чаще встречаются короткие поездки (до 500 м). У пользователей без подписки чуть бОльший разброс (это видно на графике, а также при сравнении стандартного отклонения (6.33 > 5.57)). \n",
    "Среднее расстояние пользователей с подпиской больше на 70 метров (3115 - 3045), а медина на 34 метра (3148 - 3114).\n",
    "Если говорить о врмени, то тут то же отличие в сторону пользователей, имеющих подписку: 1.15 мину (18.54 - 17.39) по среднему и 0.85 минут по медиане (18.18 - 17.33).\n",
    "Графики имееют схожее распределение, однако гистогрммы пользователей с подпиской имеют меньший разброс по оси абсцисс. "
   ]
  },
  {
   "cell_type": "markdown",
   "id": "402d620f",
   "metadata": {},
   "source": [
    "## Подсчёт выручки"
   ]
  },
  {
   "cell_type": "code",
   "execution_count": 42,
   "id": "d1bcf24f",
   "metadata": {},
   "outputs": [
    {
     "data": {
      "text/html": [
       "<div>\n",
       "<style scoped>\n",
       "    .dataframe tbody tr th:only-of-type {\n",
       "        vertical-align: middle;\n",
       "    }\n",
       "\n",
       "    .dataframe tbody tr th {\n",
       "        vertical-align: top;\n",
       "    }\n",
       "\n",
       "    .dataframe thead th {\n",
       "        text-align: right;\n",
       "    }\n",
       "</style>\n",
       "<table border=\"1\" class=\"dataframe\">\n",
       "  <thead>\n",
       "    <tr style=\"text-align: right;\">\n",
       "      <th></th>\n",
       "      <th>user_id</th>\n",
       "      <th>distance</th>\n",
       "      <th>duration</th>\n",
       "      <th>date</th>\n",
       "      <th>month</th>\n",
       "      <th>name</th>\n",
       "      <th>age</th>\n",
       "      <th>city</th>\n",
       "      <th>subscription_type</th>\n",
       "      <th>minute_price</th>\n",
       "      <th>start_ride_price</th>\n",
       "      <th>subscription_fee</th>\n",
       "    </tr>\n",
       "  </thead>\n",
       "  <tbody>\n",
       "    <tr>\n",
       "      <th>0</th>\n",
       "      <td>1</td>\n",
       "      <td>4409.919140</td>\n",
       "      <td>25.599769</td>\n",
       "      <td>2021-01-01</td>\n",
       "      <td>1</td>\n",
       "      <td>Кира</td>\n",
       "      <td>22</td>\n",
       "      <td>Тюмень</td>\n",
       "      <td>ultra</td>\n",
       "      <td>6</td>\n",
       "      <td>0</td>\n",
       "      <td>199</td>\n",
       "    </tr>\n",
       "    <tr>\n",
       "      <th>1</th>\n",
       "      <td>1</td>\n",
       "      <td>2617.592153</td>\n",
       "      <td>15.816871</td>\n",
       "      <td>2021-01-18</td>\n",
       "      <td>1</td>\n",
       "      <td>Кира</td>\n",
       "      <td>22</td>\n",
       "      <td>Тюмень</td>\n",
       "      <td>ultra</td>\n",
       "      <td>6</td>\n",
       "      <td>0</td>\n",
       "      <td>199</td>\n",
       "    </tr>\n",
       "    <tr>\n",
       "      <th>2</th>\n",
       "      <td>1</td>\n",
       "      <td>754.159807</td>\n",
       "      <td>6.232113</td>\n",
       "      <td>2021-04-20</td>\n",
       "      <td>4</td>\n",
       "      <td>Кира</td>\n",
       "      <td>22</td>\n",
       "      <td>Тюмень</td>\n",
       "      <td>ultra</td>\n",
       "      <td>6</td>\n",
       "      <td>0</td>\n",
       "      <td>199</td>\n",
       "    </tr>\n",
       "    <tr>\n",
       "      <th>3</th>\n",
       "      <td>1</td>\n",
       "      <td>2694.783254</td>\n",
       "      <td>18.511000</td>\n",
       "      <td>2021-08-11</td>\n",
       "      <td>8</td>\n",
       "      <td>Кира</td>\n",
       "      <td>22</td>\n",
       "      <td>Тюмень</td>\n",
       "      <td>ultra</td>\n",
       "      <td>6</td>\n",
       "      <td>0</td>\n",
       "      <td>199</td>\n",
       "    </tr>\n",
       "    <tr>\n",
       "      <th>4</th>\n",
       "      <td>1</td>\n",
       "      <td>4028.687306</td>\n",
       "      <td>26.265803</td>\n",
       "      <td>2021-08-28</td>\n",
       "      <td>8</td>\n",
       "      <td>Кира</td>\n",
       "      <td>22</td>\n",
       "      <td>Тюмень</td>\n",
       "      <td>ultra</td>\n",
       "      <td>6</td>\n",
       "      <td>0</td>\n",
       "      <td>199</td>\n",
       "    </tr>\n",
       "    <tr>\n",
       "      <th>5</th>\n",
       "      <td>1</td>\n",
       "      <td>2770.890808</td>\n",
       "      <td>16.650138</td>\n",
       "      <td>2021-10-09</td>\n",
       "      <td>10</td>\n",
       "      <td>Кира</td>\n",
       "      <td>22</td>\n",
       "      <td>Тюмень</td>\n",
       "      <td>ultra</td>\n",
       "      <td>6</td>\n",
       "      <td>0</td>\n",
       "      <td>199</td>\n",
       "    </tr>\n",
       "    <tr>\n",
       "      <th>6</th>\n",
       "      <td>1</td>\n",
       "      <td>3039.020292</td>\n",
       "      <td>14.927879</td>\n",
       "      <td>2021-10-19</td>\n",
       "      <td>10</td>\n",
       "      <td>Кира</td>\n",
       "      <td>22</td>\n",
       "      <td>Тюмень</td>\n",
       "      <td>ultra</td>\n",
       "      <td>6</td>\n",
       "      <td>0</td>\n",
       "      <td>199</td>\n",
       "    </tr>\n",
       "    <tr>\n",
       "      <th>7</th>\n",
       "      <td>1</td>\n",
       "      <td>2842.118050</td>\n",
       "      <td>23.117468</td>\n",
       "      <td>2021-11-06</td>\n",
       "      <td>11</td>\n",
       "      <td>Кира</td>\n",
       "      <td>22</td>\n",
       "      <td>Тюмень</td>\n",
       "      <td>ultra</td>\n",
       "      <td>6</td>\n",
       "      <td>0</td>\n",
       "      <td>199</td>\n",
       "    </tr>\n",
       "    <tr>\n",
       "      <th>8</th>\n",
       "      <td>1</td>\n",
       "      <td>3412.690668</td>\n",
       "      <td>15.238072</td>\n",
       "      <td>2021-11-14</td>\n",
       "      <td>11</td>\n",
       "      <td>Кира</td>\n",
       "      <td>22</td>\n",
       "      <td>Тюмень</td>\n",
       "      <td>ultra</td>\n",
       "      <td>6</td>\n",
       "      <td>0</td>\n",
       "      <td>199</td>\n",
       "    </tr>\n",
       "    <tr>\n",
       "      <th>9</th>\n",
       "      <td>1</td>\n",
       "      <td>748.690645</td>\n",
       "      <td>15.041884</td>\n",
       "      <td>2021-11-22</td>\n",
       "      <td>11</td>\n",
       "      <td>Кира</td>\n",
       "      <td>22</td>\n",
       "      <td>Тюмень</td>\n",
       "      <td>ultra</td>\n",
       "      <td>6</td>\n",
       "      <td>0</td>\n",
       "      <td>199</td>\n",
       "    </tr>\n",
       "    <tr>\n",
       "      <th>10</th>\n",
       "      <td>1</td>\n",
       "      <td>4031.020195</td>\n",
       "      <td>17.674448</td>\n",
       "      <td>2021-12-14</td>\n",
       "      <td>12</td>\n",
       "      <td>Кира</td>\n",
       "      <td>22</td>\n",
       "      <td>Тюмень</td>\n",
       "      <td>ultra</td>\n",
       "      <td>6</td>\n",
       "      <td>0</td>\n",
       "      <td>199</td>\n",
       "    </tr>\n",
       "    <tr>\n",
       "      <th>11</th>\n",
       "      <td>1</td>\n",
       "      <td>2720.609748</td>\n",
       "      <td>9.529463</td>\n",
       "      <td>2021-12-22</td>\n",
       "      <td>12</td>\n",
       "      <td>Кира</td>\n",
       "      <td>22</td>\n",
       "      <td>Тюмень</td>\n",
       "      <td>ultra</td>\n",
       "      <td>6</td>\n",
       "      <td>0</td>\n",
       "      <td>199</td>\n",
       "    </tr>\n",
       "    <tr>\n",
       "      <th>12</th>\n",
       "      <td>2</td>\n",
       "      <td>3105.086678</td>\n",
       "      <td>24.307514</td>\n",
       "      <td>2021-03-15</td>\n",
       "      <td>3</td>\n",
       "      <td>Станислав</td>\n",
       "      <td>31</td>\n",
       "      <td>Омск</td>\n",
       "      <td>ultra</td>\n",
       "      <td>6</td>\n",
       "      <td>0</td>\n",
       "      <td>199</td>\n",
       "    </tr>\n",
       "    <tr>\n",
       "      <th>13</th>\n",
       "      <td>2</td>\n",
       "      <td>3053.519401</td>\n",
       "      <td>11.543256</td>\n",
       "      <td>2021-03-18</td>\n",
       "      <td>3</td>\n",
       "      <td>Станислав</td>\n",
       "      <td>31</td>\n",
       "      <td>Омск</td>\n",
       "      <td>ultra</td>\n",
       "      <td>6</td>\n",
       "      <td>0</td>\n",
       "      <td>199</td>\n",
       "    </tr>\n",
       "    <tr>\n",
       "      <th>14</th>\n",
       "      <td>2</td>\n",
       "      <td>4029.116927</td>\n",
       "      <td>25.109188</td>\n",
       "      <td>2021-03-23</td>\n",
       "      <td>3</td>\n",
       "      <td>Станислав</td>\n",
       "      <td>31</td>\n",
       "      <td>Омск</td>\n",
       "      <td>ultra</td>\n",
       "      <td>6</td>\n",
       "      <td>0</td>\n",
       "      <td>199</td>\n",
       "    </tr>\n",
       "  </tbody>\n",
       "</table>\n",
       "</div>"
      ],
      "text/plain": [
       "    user_id     distance   duration       date  month       name  age    city  \\\n",
       "0         1  4409.919140  25.599769 2021-01-01      1       Кира   22  Тюмень   \n",
       "1         1  2617.592153  15.816871 2021-01-18      1       Кира   22  Тюмень   \n",
       "2         1   754.159807   6.232113 2021-04-20      4       Кира   22  Тюмень   \n",
       "3         1  2694.783254  18.511000 2021-08-11      8       Кира   22  Тюмень   \n",
       "4         1  4028.687306  26.265803 2021-08-28      8       Кира   22  Тюмень   \n",
       "5         1  2770.890808  16.650138 2021-10-09     10       Кира   22  Тюмень   \n",
       "6         1  3039.020292  14.927879 2021-10-19     10       Кира   22  Тюмень   \n",
       "7         1  2842.118050  23.117468 2021-11-06     11       Кира   22  Тюмень   \n",
       "8         1  3412.690668  15.238072 2021-11-14     11       Кира   22  Тюмень   \n",
       "9         1   748.690645  15.041884 2021-11-22     11       Кира   22  Тюмень   \n",
       "10        1  4031.020195  17.674448 2021-12-14     12       Кира   22  Тюмень   \n",
       "11        1  2720.609748   9.529463 2021-12-22     12       Кира   22  Тюмень   \n",
       "12        2  3105.086678  24.307514 2021-03-15      3  Станислав   31    Омск   \n",
       "13        2  3053.519401  11.543256 2021-03-18      3  Станислав   31    Омск   \n",
       "14        2  4029.116927  25.109188 2021-03-23      3  Станислав   31    Омск   \n",
       "\n",
       "   subscription_type  minute_price  start_ride_price  subscription_fee  \n",
       "0              ultra             6                 0               199  \n",
       "1              ultra             6                 0               199  \n",
       "2              ultra             6                 0               199  \n",
       "3              ultra             6                 0               199  \n",
       "4              ultra             6                 0               199  \n",
       "5              ultra             6                 0               199  \n",
       "6              ultra             6                 0               199  \n",
       "7              ultra             6                 0               199  \n",
       "8              ultra             6                 0               199  \n",
       "9              ultra             6                 0               199  \n",
       "10             ultra             6                 0               199  \n",
       "11             ultra             6                 0               199  \n",
       "12             ultra             6                 0               199  \n",
       "13             ultra             6                 0               199  \n",
       "14             ultra             6                 0               199  "
      ]
     },
     "execution_count": 42,
     "metadata": {},
     "output_type": "execute_result"
    }
   ],
   "source": [
    "data.head(15)"
   ]
  },
  {
   "cell_type": "code",
   "execution_count": 43,
   "id": "70e722f4",
   "metadata": {},
   "outputs": [
    {
     "name": "stdout",
     "output_type": "stream",
     "text": [
      "<class 'pandas.core.frame.DataFrame'>\n",
      "Int64Index: 18068 entries, 0 to 18067\n",
      "Data columns (total 12 columns):\n",
      " #   Column             Non-Null Count  Dtype         \n",
      "---  ------             --------------  -----         \n",
      " 0   user_id            18068 non-null  int64         \n",
      " 1   distance           18068 non-null  float64       \n",
      " 2   duration           18068 non-null  float64       \n",
      " 3   date               18068 non-null  datetime64[ns]\n",
      " 4   month              18068 non-null  int64         \n",
      " 5   name               18068 non-null  object        \n",
      " 6   age                18068 non-null  int64         \n",
      " 7   city               18068 non-null  object        \n",
      " 8   subscription_type  18068 non-null  object        \n",
      " 9   minute_price       18068 non-null  int64         \n",
      " 10  start_ride_price   18068 non-null  int64         \n",
      " 11  subscription_fee   18068 non-null  int64         \n",
      "dtypes: datetime64[ns](1), float64(2), int64(6), object(3)\n",
      "memory usage: 1.8+ MB\n"
     ]
    }
   ],
   "source": [
    "data.info()"
   ]
  },
  {
   "cell_type": "markdown",
   "id": "42d001c0",
   "metadata": {},
   "source": [
    "##### Создание датафрейма с агрегированными данными о поездках на основе датафрейма с объединёнными данными"
   ]
  },
  {
   "cell_type": "code",
   "execution_count": 44,
   "id": "188eb754",
   "metadata": {},
   "outputs": [],
   "source": [
    "# Округляем продолжительность поездки\n",
    "data['duration'] = np.ceil(data['duration']).astype('int')"
   ]
  },
  {
   "cell_type": "code",
   "execution_count": 45,
   "id": "b9cfb72f",
   "metadata": {},
   "outputs": [
    {
     "data": {
      "text/html": [
       "<div>\n",
       "<style scoped>\n",
       "    .dataframe tbody tr th:only-of-type {\n",
       "        vertical-align: middle;\n",
       "    }\n",
       "\n",
       "    .dataframe tbody tr th {\n",
       "        vertical-align: top;\n",
       "    }\n",
       "\n",
       "    .dataframe thead th {\n",
       "        text-align: right;\n",
       "    }\n",
       "</style>\n",
       "<table border=\"1\" class=\"dataframe\">\n",
       "  <thead>\n",
       "    <tr style=\"text-align: right;\">\n",
       "      <th></th>\n",
       "      <th></th>\n",
       "      <th>rides_count</th>\n",
       "      <th>sum_distance</th>\n",
       "      <th>sum_duration</th>\n",
       "    </tr>\n",
       "    <tr>\n",
       "      <th>user_id</th>\n",
       "      <th>month</th>\n",
       "      <th></th>\n",
       "      <th></th>\n",
       "      <th></th>\n",
       "    </tr>\n",
       "  </thead>\n",
       "  <tbody>\n",
       "    <tr>\n",
       "      <th rowspan=\"6\" valign=\"top\">1</th>\n",
       "      <th>1</th>\n",
       "      <td>2</td>\n",
       "      <td>7027.511294</td>\n",
       "      <td>42</td>\n",
       "    </tr>\n",
       "    <tr>\n",
       "      <th>4</th>\n",
       "      <td>1</td>\n",
       "      <td>754.159807</td>\n",
       "      <td>7</td>\n",
       "    </tr>\n",
       "    <tr>\n",
       "      <th>8</th>\n",
       "      <td>2</td>\n",
       "      <td>6723.470560</td>\n",
       "      <td>46</td>\n",
       "    </tr>\n",
       "    <tr>\n",
       "      <th>10</th>\n",
       "      <td>2</td>\n",
       "      <td>5809.911100</td>\n",
       "      <td>32</td>\n",
       "    </tr>\n",
       "    <tr>\n",
       "      <th>11</th>\n",
       "      <td>3</td>\n",
       "      <td>7003.499363</td>\n",
       "      <td>56</td>\n",
       "    </tr>\n",
       "    <tr>\n",
       "      <th>12</th>\n",
       "      <td>2</td>\n",
       "      <td>6751.629942</td>\n",
       "      <td>28</td>\n",
       "    </tr>\n",
       "    <tr>\n",
       "      <th rowspan=\"7\" valign=\"top\">2</th>\n",
       "      <th>3</th>\n",
       "      <td>3</td>\n",
       "      <td>10187.723006</td>\n",
       "      <td>63</td>\n",
       "    </tr>\n",
       "    <tr>\n",
       "      <th>4</th>\n",
       "      <td>2</td>\n",
       "      <td>6164.381824</td>\n",
       "      <td>40</td>\n",
       "    </tr>\n",
       "    <tr>\n",
       "      <th>6</th>\n",
       "      <td>1</td>\n",
       "      <td>3255.338202</td>\n",
       "      <td>14</td>\n",
       "    </tr>\n",
       "    <tr>\n",
       "      <th>7</th>\n",
       "      <td>2</td>\n",
       "      <td>6780.722964</td>\n",
       "      <td>48</td>\n",
       "    </tr>\n",
       "    <tr>\n",
       "      <th>8</th>\n",
       "      <td>1</td>\n",
       "      <td>923.007439</td>\n",
       "      <td>7</td>\n",
       "    </tr>\n",
       "    <tr>\n",
       "      <th>10</th>\n",
       "      <td>1</td>\n",
       "      <td>2824.636598</td>\n",
       "      <td>19</td>\n",
       "    </tr>\n",
       "    <tr>\n",
       "      <th>12</th>\n",
       "      <td>1</td>\n",
       "      <td>3828.248580</td>\n",
       "      <td>12</td>\n",
       "    </tr>\n",
       "    <tr>\n",
       "      <th rowspan=\"7\" valign=\"top\">3</th>\n",
       "      <th>1</th>\n",
       "      <td>1</td>\n",
       "      <td>3061.777147</td>\n",
       "      <td>13</td>\n",
       "    </tr>\n",
       "    <tr>\n",
       "      <th>2</th>\n",
       "      <td>2</td>\n",
       "      <td>5421.152016</td>\n",
       "      <td>39</td>\n",
       "    </tr>\n",
       "    <tr>\n",
       "      <th>4</th>\n",
       "      <td>1</td>\n",
       "      <td>2956.651632</td>\n",
       "      <td>21</td>\n",
       "    </tr>\n",
       "    <tr>\n",
       "      <th>5</th>\n",
       "      <td>3</td>\n",
       "      <td>9064.026918</td>\n",
       "      <td>63</td>\n",
       "    </tr>\n",
       "    <tr>\n",
       "      <th>7</th>\n",
       "      <td>3</td>\n",
       "      <td>10919.595403</td>\n",
       "      <td>67</td>\n",
       "    </tr>\n",
       "    <tr>\n",
       "      <th>9</th>\n",
       "      <td>1</td>\n",
       "      <td>2891.012822</td>\n",
       "      <td>23</td>\n",
       "    </tr>\n",
       "    <tr>\n",
       "      <th>12</th>\n",
       "      <td>1</td>\n",
       "      <td>2593.381928</td>\n",
       "      <td>13</td>\n",
       "    </tr>\n",
       "  </tbody>\n",
       "</table>\n",
       "</div>"
      ],
      "text/plain": [
       "               rides_count  sum_distance  sum_duration\n",
       "user_id month                                         \n",
       "1       1                2   7027.511294            42\n",
       "        4                1    754.159807             7\n",
       "        8                2   6723.470560            46\n",
       "        10               2   5809.911100            32\n",
       "        11               3   7003.499363            56\n",
       "        12               2   6751.629942            28\n",
       "2       3                3  10187.723006            63\n",
       "        4                2   6164.381824            40\n",
       "        6                1   3255.338202            14\n",
       "        7                2   6780.722964            48\n",
       "        8                1    923.007439             7\n",
       "        10               1   2824.636598            19\n",
       "        12               1   3828.248580            12\n",
       "3       1                1   3061.777147            13\n",
       "        2                2   5421.152016            39\n",
       "        4                1   2956.651632            21\n",
       "        5                3   9064.026918            63\n",
       "        7                3  10919.595403            67\n",
       "        9                1   2891.012822            23\n",
       "        12               1   2593.381928            13"
      ]
     },
     "execution_count": 45,
     "metadata": {},
     "output_type": "execute_result"
    }
   ],
   "source": [
    "agg_data = data.pivot_table(index=['user_id', 'month'], values=['distance', 'duration'], aggfunc=['count', 'sum'])\n",
    "agg_data.columns = ['rides_count', 'to_drop', 'sum_distance', 'sum_duration']\n",
    "agg_data.pop('to_drop')\n",
    "agg_data.head(20)"
   ]
  },
  {
   "cell_type": "markdown",
   "id": "c40d9517",
   "metadata": {},
   "source": [
    "##### Добавление столбца с помесячной выручкой, которую принёс каждый пользователь"
   ]
  },
  {
   "cell_type": "code",
   "execution_count": 46,
   "id": "f8171094",
   "metadata": {},
   "outputs": [],
   "source": [
    "# Заметим, что user_id пользователей с подпиской <= 699 (4533 строки), а без подписки >= 700 (оставшиеся)\n",
    "#agg_data['month_prof'] = agg_data['sum_duration']*6 + 199\n",
    "#agg_data[4533:]['month_prof'] = agg_data['rides_count']*50 + agg_data['sum_duration']*8\n",
    "#agg_data"
   ]
  },
  {
   "cell_type": "code",
   "execution_count": 47,
   "id": "1758cd76",
   "metadata": {},
   "outputs": [
    {
     "data": {
      "text/html": [
       "<div>\n",
       "<style scoped>\n",
       "    .dataframe tbody tr th:only-of-type {\n",
       "        vertical-align: middle;\n",
       "    }\n",
       "\n",
       "    .dataframe tbody tr th {\n",
       "        vertical-align: top;\n",
       "    }\n",
       "\n",
       "    .dataframe thead th {\n",
       "        text-align: right;\n",
       "    }\n",
       "</style>\n",
       "<table border=\"1\" class=\"dataframe\">\n",
       "  <thead>\n",
       "    <tr style=\"text-align: right;\">\n",
       "      <th></th>\n",
       "      <th></th>\n",
       "      <th>minute_price</th>\n",
       "      <th>start_ride_price</th>\n",
       "      <th>subscription_fee</th>\n",
       "      <th>subscription_type</th>\n",
       "      <th>rides_count</th>\n",
       "      <th>sum_distance</th>\n",
       "      <th>sum_duration</th>\n",
       "    </tr>\n",
       "    <tr>\n",
       "      <th>user_id</th>\n",
       "      <th>month</th>\n",
       "      <th></th>\n",
       "      <th></th>\n",
       "      <th></th>\n",
       "      <th></th>\n",
       "      <th></th>\n",
       "      <th></th>\n",
       "      <th></th>\n",
       "    </tr>\n",
       "  </thead>\n",
       "  <tbody>\n",
       "    <tr>\n",
       "      <th rowspan=\"5\" valign=\"top\">1</th>\n",
       "      <th>1</th>\n",
       "      <td>6</td>\n",
       "      <td>0</td>\n",
       "      <td>199</td>\n",
       "      <td>ultra</td>\n",
       "      <td>2</td>\n",
       "      <td>7027.511294</td>\n",
       "      <td>42</td>\n",
       "    </tr>\n",
       "    <tr>\n",
       "      <th>4</th>\n",
       "      <td>6</td>\n",
       "      <td>0</td>\n",
       "      <td>199</td>\n",
       "      <td>ultra</td>\n",
       "      <td>1</td>\n",
       "      <td>754.159807</td>\n",
       "      <td>7</td>\n",
       "    </tr>\n",
       "    <tr>\n",
       "      <th>8</th>\n",
       "      <td>6</td>\n",
       "      <td>0</td>\n",
       "      <td>199</td>\n",
       "      <td>ultra</td>\n",
       "      <td>2</td>\n",
       "      <td>6723.470560</td>\n",
       "      <td>46</td>\n",
       "    </tr>\n",
       "    <tr>\n",
       "      <th>10</th>\n",
       "      <td>6</td>\n",
       "      <td>0</td>\n",
       "      <td>199</td>\n",
       "      <td>ultra</td>\n",
       "      <td>2</td>\n",
       "      <td>5809.911100</td>\n",
       "      <td>32</td>\n",
       "    </tr>\n",
       "    <tr>\n",
       "      <th>11</th>\n",
       "      <td>6</td>\n",
       "      <td>0</td>\n",
       "      <td>199</td>\n",
       "      <td>ultra</td>\n",
       "      <td>3</td>\n",
       "      <td>7003.499363</td>\n",
       "      <td>56</td>\n",
       "    </tr>\n",
       "    <tr>\n",
       "      <th>...</th>\n",
       "      <th>...</th>\n",
       "      <td>...</td>\n",
       "      <td>...</td>\n",
       "      <td>...</td>\n",
       "      <td>...</td>\n",
       "      <td>...</td>\n",
       "      <td>...</td>\n",
       "      <td>...</td>\n",
       "    </tr>\n",
       "    <tr>\n",
       "      <th rowspan=\"5\" valign=\"top\">1534</th>\n",
       "      <th>6</th>\n",
       "      <td>8</td>\n",
       "      <td>50</td>\n",
       "      <td>0</td>\n",
       "      <td>free</td>\n",
       "      <td>2</td>\n",
       "      <td>3409.468534</td>\n",
       "      <td>26</td>\n",
       "    </tr>\n",
       "    <tr>\n",
       "      <th>8</th>\n",
       "      <td>8</td>\n",
       "      <td>50</td>\n",
       "      <td>0</td>\n",
       "      <td>free</td>\n",
       "      <td>2</td>\n",
       "      <td>7622.453034</td>\n",
       "      <td>48</td>\n",
       "    </tr>\n",
       "    <tr>\n",
       "      <th>9</th>\n",
       "      <td>8</td>\n",
       "      <td>50</td>\n",
       "      <td>0</td>\n",
       "      <td>free</td>\n",
       "      <td>1</td>\n",
       "      <td>4928.173852</td>\n",
       "      <td>23</td>\n",
       "    </tr>\n",
       "    <tr>\n",
       "      <th>11</th>\n",
       "      <td>8</td>\n",
       "      <td>50</td>\n",
       "      <td>0</td>\n",
       "      <td>free</td>\n",
       "      <td>4</td>\n",
       "      <td>13350.015305</td>\n",
       "      <td>78</td>\n",
       "    </tr>\n",
       "    <tr>\n",
       "      <th>12</th>\n",
       "      <td>8</td>\n",
       "      <td>50</td>\n",
       "      <td>0</td>\n",
       "      <td>free</td>\n",
       "      <td>1</td>\n",
       "      <td>2371.711192</td>\n",
       "      <td>16</td>\n",
       "    </tr>\n",
       "  </tbody>\n",
       "</table>\n",
       "<p>11331 rows × 7 columns</p>\n",
       "</div>"
      ],
      "text/plain": [
       "               minute_price  start_ride_price  subscription_fee  \\\n",
       "user_id month                                                     \n",
       "1       1                 6                 0               199   \n",
       "        4                 6                 0               199   \n",
       "        8                 6                 0               199   \n",
       "        10                6                 0               199   \n",
       "        11                6                 0               199   \n",
       "...                     ...               ...               ...   \n",
       "1534    6                 8                50                 0   \n",
       "        8                 8                50                 0   \n",
       "        9                 8                50                 0   \n",
       "        11                8                50                 0   \n",
       "        12                8                50                 0   \n",
       "\n",
       "              subscription_type  rides_count  sum_distance  sum_duration  \n",
       "user_id month                                                             \n",
       "1       1                 ultra            2   7027.511294            42  \n",
       "        4                 ultra            1    754.159807             7  \n",
       "        8                 ultra            2   6723.470560            46  \n",
       "        10                ultra            2   5809.911100            32  \n",
       "        11                ultra            3   7003.499363            56  \n",
       "...                         ...          ...           ...           ...  \n",
       "1534    6                  free            2   3409.468534            26  \n",
       "        8                  free            2   7622.453034            48  \n",
       "        9                  free            1   4928.173852            23  \n",
       "        11                 free            4  13350.015305            78  \n",
       "        12                 free            1   2371.711192            16  \n",
       "\n",
       "[11331 rows x 7 columns]"
      ]
     },
     "execution_count": 47,
     "metadata": {},
     "output_type": "execute_result"
    }
   ],
   "source": [
    "agg_data = data.pivot_table(\n",
    "    index=['user_id', 'month'], \n",
    "    values=['subscription_type', 'minute_price', 'start_ride_price', 'subscription_fee', 'distance', 'duration'], \n",
    "    aggfunc=['first', 'count', 'sum']\n",
    ")\n",
    "agg_data.columns = [1, 2, 'minute_price', 'start_ride_price', 'subscription_fee', 'subscription_type', \n",
    "'rides_count', 8, 9, 10, 11, 12, 'sum_distance', 'sum_duration', 15, 16, 17]\n",
    "#test_data['count']['distance']\n",
    "\n",
    "agg_data.drop([1, 2, 8, 9, 10, 11, 12, 15, 16, 17], axis=1, inplace=True)\n",
    "agg_data\n"
   ]
  },
  {
   "cell_type": "code",
   "execution_count": 48,
   "id": "ebc51209",
   "metadata": {},
   "outputs": [
    {
     "data": {
      "text/html": [
       "<div>\n",
       "<style scoped>\n",
       "    .dataframe tbody tr th:only-of-type {\n",
       "        vertical-align: middle;\n",
       "    }\n",
       "\n",
       "    .dataframe tbody tr th {\n",
       "        vertical-align: top;\n",
       "    }\n",
       "\n",
       "    .dataframe thead th {\n",
       "        text-align: right;\n",
       "    }\n",
       "</style>\n",
       "<table border=\"1\" class=\"dataframe\">\n",
       "  <thead>\n",
       "    <tr style=\"text-align: right;\">\n",
       "      <th></th>\n",
       "      <th></th>\n",
       "      <th>minute_price</th>\n",
       "      <th>start_ride_price</th>\n",
       "      <th>subscription_fee</th>\n",
       "      <th>subscription_type</th>\n",
       "      <th>rides_count</th>\n",
       "      <th>sum_distance</th>\n",
       "      <th>sum_duration</th>\n",
       "      <th>month_prof</th>\n",
       "    </tr>\n",
       "    <tr>\n",
       "      <th>user_id</th>\n",
       "      <th>month</th>\n",
       "      <th></th>\n",
       "      <th></th>\n",
       "      <th></th>\n",
       "      <th></th>\n",
       "      <th></th>\n",
       "      <th></th>\n",
       "      <th></th>\n",
       "      <th></th>\n",
       "    </tr>\n",
       "  </thead>\n",
       "  <tbody>\n",
       "    <tr>\n",
       "      <th rowspan=\"5\" valign=\"top\">1</th>\n",
       "      <th>1</th>\n",
       "      <td>6</td>\n",
       "      <td>0</td>\n",
       "      <td>199</td>\n",
       "      <td>ultra</td>\n",
       "      <td>2</td>\n",
       "      <td>7027.511294</td>\n",
       "      <td>42</td>\n",
       "      <td>451</td>\n",
       "    </tr>\n",
       "    <tr>\n",
       "      <th>4</th>\n",
       "      <td>6</td>\n",
       "      <td>0</td>\n",
       "      <td>199</td>\n",
       "      <td>ultra</td>\n",
       "      <td>1</td>\n",
       "      <td>754.159807</td>\n",
       "      <td>7</td>\n",
       "      <td>241</td>\n",
       "    </tr>\n",
       "    <tr>\n",
       "      <th>8</th>\n",
       "      <td>6</td>\n",
       "      <td>0</td>\n",
       "      <td>199</td>\n",
       "      <td>ultra</td>\n",
       "      <td>2</td>\n",
       "      <td>6723.470560</td>\n",
       "      <td>46</td>\n",
       "      <td>475</td>\n",
       "    </tr>\n",
       "    <tr>\n",
       "      <th>10</th>\n",
       "      <td>6</td>\n",
       "      <td>0</td>\n",
       "      <td>199</td>\n",
       "      <td>ultra</td>\n",
       "      <td>2</td>\n",
       "      <td>5809.911100</td>\n",
       "      <td>32</td>\n",
       "      <td>391</td>\n",
       "    </tr>\n",
       "    <tr>\n",
       "      <th>11</th>\n",
       "      <td>6</td>\n",
       "      <td>0</td>\n",
       "      <td>199</td>\n",
       "      <td>ultra</td>\n",
       "      <td>3</td>\n",
       "      <td>7003.499363</td>\n",
       "      <td>56</td>\n",
       "      <td>535</td>\n",
       "    </tr>\n",
       "    <tr>\n",
       "      <th>...</th>\n",
       "      <th>...</th>\n",
       "      <td>...</td>\n",
       "      <td>...</td>\n",
       "      <td>...</td>\n",
       "      <td>...</td>\n",
       "      <td>...</td>\n",
       "      <td>...</td>\n",
       "      <td>...</td>\n",
       "      <td>...</td>\n",
       "    </tr>\n",
       "    <tr>\n",
       "      <th rowspan=\"5\" valign=\"top\">1534</th>\n",
       "      <th>6</th>\n",
       "      <td>8</td>\n",
       "      <td>50</td>\n",
       "      <td>0</td>\n",
       "      <td>free</td>\n",
       "      <td>2</td>\n",
       "      <td>3409.468534</td>\n",
       "      <td>26</td>\n",
       "      <td>308</td>\n",
       "    </tr>\n",
       "    <tr>\n",
       "      <th>8</th>\n",
       "      <td>8</td>\n",
       "      <td>50</td>\n",
       "      <td>0</td>\n",
       "      <td>free</td>\n",
       "      <td>2</td>\n",
       "      <td>7622.453034</td>\n",
       "      <td>48</td>\n",
       "      <td>484</td>\n",
       "    </tr>\n",
       "    <tr>\n",
       "      <th>9</th>\n",
       "      <td>8</td>\n",
       "      <td>50</td>\n",
       "      <td>0</td>\n",
       "      <td>free</td>\n",
       "      <td>1</td>\n",
       "      <td>4928.173852</td>\n",
       "      <td>23</td>\n",
       "      <td>234</td>\n",
       "    </tr>\n",
       "    <tr>\n",
       "      <th>11</th>\n",
       "      <td>8</td>\n",
       "      <td>50</td>\n",
       "      <td>0</td>\n",
       "      <td>free</td>\n",
       "      <td>4</td>\n",
       "      <td>13350.015305</td>\n",
       "      <td>78</td>\n",
       "      <td>824</td>\n",
       "    </tr>\n",
       "    <tr>\n",
       "      <th>12</th>\n",
       "      <td>8</td>\n",
       "      <td>50</td>\n",
       "      <td>0</td>\n",
       "      <td>free</td>\n",
       "      <td>1</td>\n",
       "      <td>2371.711192</td>\n",
       "      <td>16</td>\n",
       "      <td>178</td>\n",
       "    </tr>\n",
       "  </tbody>\n",
       "</table>\n",
       "<p>11331 rows × 8 columns</p>\n",
       "</div>"
      ],
      "text/plain": [
       "               minute_price  start_ride_price  subscription_fee  \\\n",
       "user_id month                                                     \n",
       "1       1                 6                 0               199   \n",
       "        4                 6                 0               199   \n",
       "        8                 6                 0               199   \n",
       "        10                6                 0               199   \n",
       "        11                6                 0               199   \n",
       "...                     ...               ...               ...   \n",
       "1534    6                 8                50                 0   \n",
       "        8                 8                50                 0   \n",
       "        9                 8                50                 0   \n",
       "        11                8                50                 0   \n",
       "        12                8                50                 0   \n",
       "\n",
       "              subscription_type  rides_count  sum_distance  sum_duration  \\\n",
       "user_id month                                                              \n",
       "1       1                 ultra            2   7027.511294            42   \n",
       "        4                 ultra            1    754.159807             7   \n",
       "        8                 ultra            2   6723.470560            46   \n",
       "        10                ultra            2   5809.911100            32   \n",
       "        11                ultra            3   7003.499363            56   \n",
       "...                         ...          ...           ...           ...   \n",
       "1534    6                  free            2   3409.468534            26   \n",
       "        8                  free            2   7622.453034            48   \n",
       "        9                  free            1   4928.173852            23   \n",
       "        11                 free            4  13350.015305            78   \n",
       "        12                 free            1   2371.711192            16   \n",
       "\n",
       "               month_prof  \n",
       "user_id month              \n",
       "1       1             451  \n",
       "        4             241  \n",
       "        8             475  \n",
       "        10            391  \n",
       "        11            535  \n",
       "...                   ...  \n",
       "1534    6             308  \n",
       "        8             484  \n",
       "        9             234  \n",
       "        11            824  \n",
       "        12            178  \n",
       "\n",
       "[11331 rows x 8 columns]"
      ]
     },
     "execution_count": 48,
     "metadata": {},
     "output_type": "execute_result"
    }
   ],
   "source": [
    "agg_data['month_prof'] = (\n",
    "    agg_data['start_ride_price'] * agg_data['rides_count'] +\n",
    "    agg_data['minute_price'] * agg_data['sum_duration'] + \n",
    "    agg_data['subscription_fee']\n",
    ")\n",
    "agg_data"
   ]
  },
  {
   "cell_type": "markdown",
   "id": "249f0438",
   "metadata": {},
   "source": [
    "**Вывод:** На данном этапе был создан новый датафрейм с агрегированными данными о поездках на основе датафрейма с объединёнными данными из предидущего шага, в котором было найдено: суммарное расстояние, количество поездок и суммарное время для каждого пользователя за каждый месяц. Далее в этот датафрейм был добавлен столбец с помесячной выручкой, которую принёс каждый пользователь."
   ]
  },
  {
   "cell_type": "markdown",
   "id": "41545ac0",
   "metadata": {},
   "source": [
    "##  Проверка гипотез"
   ]
  },
  {
   "cell_type": "markdown",
   "id": "8577005b",
   "metadata": {},
   "source": [
    "##### Гипотеза о \"выгодности\" пользователй с подпской\n",
    "Важно понять, тратят ли пользователи с подпиской больше времени на поездки? Если да, то пользователи с подпиской могут быть «выгоднее» для компании. Проверьте гипотезу. Используйте исходные данные о продолжительности каждой сессии — отдельно для подписчиков и тех, у кого нет подписки.\n",
    "* Нулевая гипотеза: среднее время поездок пользователей с подпиской и без равны\n",
    "* Альтернативная гипотеза: пользователи с подпиской тратят больше времени, чем пользователи без подписки."
   ]
  },
  {
   "cell_type": "code",
   "execution_count": 49,
   "id": "da5b82b2",
   "metadata": {},
   "outputs": [
    {
     "name": "stdout",
     "output_type": "stream",
     "text": [
      "P-value: 1.2804098316645618e-34\n",
      "Отвергаем нулевую гипотезу\n"
     ]
    }
   ],
   "source": [
    "alpha = 0.05\n",
    "resluts_1 = st.ttest_ind(subs['duration'], unsubs['duration'], alternative='greater')\n",
    "\n",
    "print(f'P-value: {resluts_1.pvalue}')\n",
    "if resluts_1.pvalue < alpha: print('Отвергаем нулевую гипотезу')\n",
    "else: print('Не получилось отвергнуть нулевую гипотезу')"
   ]
  },
  {
   "cell_type": "markdown",
   "id": "c6e0269e",
   "metadata": {},
   "source": [
    "На основе проведенного теста можно предположить, что пользователи с подпиской тратят больше времени, чем пользователи без нее."
   ]
  },
  {
   "cell_type": "code",
   "execution_count": 50,
   "id": "6aec8fb6",
   "metadata": {},
   "outputs": [
    {
     "name": "stdout",
     "output_type": "stream",
     "text": [
      "Среднее количество времени, которое тратят пользователи с подпиской: 18.54198516280583\n",
      "Среднее количество времени, которое тратят пользователи без подписки: 17.39090929866399\n"
     ]
    }
   ],
   "source": [
    "print('Среднее количество времени, которое тратят пользователи с подпиской:', subs['duration'].mean())\n",
    "print('Среднее количество времени, которое тратят пользователи без подписки:', unsubs['duration'].mean())"
   ]
  },
  {
   "cell_type": "markdown",
   "id": "c8cb9ba4",
   "metadata": {},
   "source": [
    "##### Гипотеза о среднем расстоянии\n",
    "Расстояние одной поездки в 3130 метров — оптимальное с точки зрения износа самоката. Можно ли сказать, что среднее расстояние, которое проезжают пользователи с подпиской за одну поездку, не превышает 3130 метров? Проверьте гипотезу и сделайте выводы.\n",
    "* Нулевая гипотеза: среднее расстояние одной поездки равно 3130 метров\n",
    "* Альтернативная гипотеза: среднее расстояние одной поездки превышает 3130 метров"
   ]
  },
  {
   "cell_type": "code",
   "execution_count": 51,
   "id": "2ea2ab56",
   "metadata": {},
   "outputs": [
    {
     "name": "stdout",
     "output_type": "stream",
     "text": [
      "P-value: 0.9195368847849785\n",
      "Не получилось отвергнуть нулевую гипотезу\n"
     ]
    }
   ],
   "source": [
    "value = 3130\n",
    "results_2 = st.ttest_1samp(subs['distance'], value, alternative='greater')\n",
    "\n",
    "print(f'P-value: {results_2.pvalue}')\n",
    "if results_2.pvalue < alpha: print('Отвергаем нулевую гипотезу')\n",
    "else: print('Не получилось отвергнуть нулевую гипотезу')"
   ]
  },
  {
   "cell_type": "markdown",
   "id": "9898ed6b",
   "metadata": {},
   "source": [
    "На основе проведенного теста можно предположить, что среднее расстояние которое проезжают пользователи с подпиской за одну поездку может находится около 3130 метров или меньше."
   ]
  },
  {
   "cell_type": "code",
   "execution_count": 52,
   "id": "264741ac",
   "metadata": {},
   "outputs": [
    {
     "name": "stdout",
     "output_type": "stream",
     "text": [
      "Среднее расстояние которое проезжают пользователи с подпиской 3115.4453880370247\n"
     ]
    }
   ],
   "source": [
    "print('Среднее расстояние которое проезжают пользователи с подпиской', subs['distance'].mean())"
   ]
  },
  {
   "cell_type": "markdown",
   "id": "6697534e",
   "metadata": {},
   "source": [
    "##### Гипотеза о влиянии подписки на помесячную выручку\n",
    "Проверьте гипотезу о том, будет ли помесячная выручка от пользователей с подпиской по месяцам выше, чем выручка от пользователей без подписки. Сделайте вывод.\n",
    "* Нулевая гипотеза: помесячная выручка от пользователей с подпиской равнв выручке от пользователей без подписки\n",
    "* Альтернативная гипотеза: помесячная выручка от пользователей с подпиской выше, чем выручка от пользователей без подписки"
   ]
  },
  {
   "cell_type": "code",
   "execution_count": 53,
   "id": "a9b19a83",
   "metadata": {},
   "outputs": [
    {
     "name": "stdout",
     "output_type": "stream",
     "text": [
      "P-value: 1.8850394384715216e-31\n",
      "Отвергаем нулевую гипотезу\n"
     ]
    }
   ],
   "source": [
    "subs_agg = agg_data[agg_data['subscription_type'] == 'ultra']\n",
    "unsubs_agg = agg_data[agg_data['subscription_type'] == 'free']\n",
    "\n",
    "results_3 = st.ttest_ind(subs_agg['month_prof'], unsubs_agg['month_prof'], alternative='greater')\n",
    "\n",
    "print(f'P-value: {results_3.pvalue}')\n",
    "if results_3.pvalue < alpha: print('Отвергаем нулевую гипотезу')\n",
    "else: print('Не получилось отвергнуть нулевую гипотезу')"
   ]
  },
  {
   "cell_type": "markdown",
   "id": "56f4f77c",
   "metadata": {},
   "source": [
    "На основе проведенного теста можно предположить, что помесячная выручка от пользователей с подпиской выше, чем выручка от пользователей без подписки."
   ]
  },
  {
   "cell_type": "code",
   "execution_count": 54,
   "id": "1fb7fdc8",
   "metadata": {},
   "outputs": [
    {
     "name": "stdout",
     "output_type": "stream",
     "text": [
      "Средняя помесячная выручка от пользователей с подпиской 362.7921906022502\n",
      "Средняя помесячная выручка от пользователей без подписки 328.6413651073845\n"
     ]
    }
   ],
   "source": [
    "print('Средняя помесячная выручка от пользователей с подпиской', subs_agg['month_prof'].mean())\n",
    "print('Средняя помесячная выручка от пользователей без подписки', unsubs_agg['month_prof'].mean())"
   ]
  },
  {
   "cell_type": "markdown",
   "id": "0ed3cced",
   "metadata": {},
   "source": [
    "##### Гипотеза о количестве обращений\n",
    "Представьте такую ситуацию: техническая команда сервиса обновила сервера, с которыми взаимодействует мобильное приложение. Она надеется, что из-за этого количество обращений в техподдержку значимо снизилось. Некоторый файл содержит для каждого пользователя данные о количестве обращений до обновления и после него. Какой тест вам понадобился бы для проверки этой гипотезы?\n",
    "* Нулевая гипотеза: из-за обновления сервера количество обращений в техподдержку не изменилось\n",
    "* Альтернативная гипотеза: из-за обновления сервера количество обращений в техподдержку снизилось\n",
    "\n",
    "Так как мы имеем дело с зависимой (парной) выборкой, то следует использовать тест st.ttest_rel(количестве обращений до обновления, количестве обращений после обновления) "
   ]
  },
  {
   "cell_type": "markdown",
   "id": "9c73767a",
   "metadata": {},
   "source": [
    "**Вывод:** Были рассмотрены три гипотезы, на основании которых можно сделать следющие выводы:\n",
    "* Пользователи с подпиской могут больше времени, чем пользователи без нее.\n",
    "* Среднее расстояние которое проезжают пользователи с подпиской за одну поездку может лежать находистя рядом с 3130 метров.\n",
    "* Помесячная выручка от пользователей с подпиской может быть выше, чем выручка от пользователей без подписки."
   ]
  },
  {
   "cell_type": "markdown",
   "id": "61213c5e",
   "metadata": {},
   "source": [
    "##  Распределения"
   ]
  },
  {
   "cell_type": "markdown",
   "id": "66ac219f",
   "metadata": {},
   "source": [
    "Отделу маркетинга GoFast поставили задачу: нужно провести акцию с раздачей промокодов на один бесплатный месяц подписки, в рамках которой как минимум 100 существующих клиентов должны продлить эту подписку. То есть по завершении периода действия подписки пользователь может либо отказаться от неё, либо продлить, совершив соответствующий платёж. \n",
    "Эта акция уже проводилась ранее и по итогу выяснилось, что после бесплатного пробного периода подписку продлевают 10 % пользователей. Выясните, какое минимальное количество промокодов нужно разослать, чтобы вероятность не выполнить план была примерно 5 %. Подберите параметры распределения, описывающего эту ситуацию, постройте график распределения и сформулируйте ответ на вопрос о количестве промокодов."
   ]
  },
  {
   "cell_type": "code",
   "execution_count": 55,
   "id": "3b8f232d",
   "metadata": {},
   "outputs": [
    {
     "data": {
      "text/plain": [
       "<BarContainer object of 1001 artists>"
      ]
     },
     "execution_count": 55,
     "metadata": {},
     "output_type": "execute_result"
    },
    {
     "data": {
      "image/png": "[encoded data removed]",
      "text/plain": [
       "<Figure size 1152x576 with 1 Axes>"
      ]
     },
     "metadata": {
      "needs_background": "light"
     },
     "output_type": "display_data"
    }
   ],
   "source": [
    "n = 1000\n",
    "p = 0.1\n",
    "distr = []\n",
    "\n",
    "for k in range(0, n+1):\n",
    "    choose = factorial(n) / (factorial(n-k) * factorial(k))\n",
    "    prob = choose * p**k * (1-p)**(n-k)\n",
    "    distr.append(prob)\n",
    "    \n",
    "plt.figure(figsize=(16,8))  \n",
    "plt.bar(range(0, n+1), distr)"
   ]
  },
  {
   "cell_type": "code",
   "execution_count": 56,
   "id": "72692ba7",
   "metadata": {},
   "outputs": [
    {
     "name": "stdout",
     "output_type": "stream",
     "text": [
      "1158\n"
     ]
    }
   ],
   "source": [
    "for n in range(800, 1200):\n",
    "    mu = n * p\n",
    "    sigma = sqrt(n * p * (1-p))\n",
    "    distr = st.norm(mu, sigma)\n",
    "    result = distr.cdf(99)\n",
    "    if result <= 0.05:\n",
    "        print(n)\n",
    "        break"
   ]
  },
  {
   "cell_type": "markdown",
   "id": "baca25c9",
   "metadata": {},
   "source": [
    "**Ответ:** минимальное количество промокодов, которое нужно разослать - 1158"
   ]
  },
  {
   "cell_type": "markdown",
   "id": "c894791d",
   "metadata": {},
   "source": [
    "##### \n",
    "Отдел маркетинга рассылает клиентам push-уведомления в мобильном приложении. Клиенты могут открыть его или не открывать. Известно, что уведомления открывают около 40 % получивших клиентов. Отдел планирует разослать 1 млн уведомлений. С помощью аппроксимации постройте примерный график распределения и оцените вероятность того, что уведомление откроют не более 399,5 тыс. пользователей."
   ]
  },
  {
   "cell_type": "code",
   "execution_count": 57,
   "id": "2d604cc2",
   "metadata": {},
   "outputs": [
    {
     "data": {
      "text/plain": [
       "<BarContainer object of 1001 artists>"
      ]
     },
     "execution_count": 57,
     "metadata": {},
     "output_type": "execute_result"
    },
    {
     "data": {
      "image/png": "[encoded data removed]",
      "text/plain": [
       "<Figure size 1152x576 with 1 Axes>"
      ]
     },
     "metadata": {
      "needs_background": "light"
     },
     "output_type": "display_data"
    }
   ],
   "source": [
    "n = 1000\n",
    "p = 0.4\n",
    "distr = []\n",
    "\n",
    "for k in range(0, n+1):\n",
    "    choose = factorial(n) / (factorial(n-k) * factorial(k))\n",
    "    prob = choose * p**k * (1-p)**(n-k)\n",
    "    distr.append(prob)\n",
    "    \n",
    "plt.figure(figsize=(16,8))  \n",
    "plt.bar(range(0, n+1), distr)"
   ]
  },
  {
   "cell_type": "code",
   "execution_count": 58,
   "id": "94bc3d9b",
   "metadata": {
    "scrolled": true
   },
   "outputs": [
    {
     "data": {
      "text/plain": [
       "0.15371708296369768"
      ]
     },
     "execution_count": 58,
     "metadata": {},
     "output_type": "execute_result"
    }
   ],
   "source": [
    "n = 1000000\n",
    "p = 0.4\n",
    "mu = n * p\n",
    "sigma = sqrt(n * p * (1-p))\n",
    "\n",
    "distr = st.norm(mu, sigma)\n",
    "result = distr.cdf(399500)\n",
    "result"
   ]
  },
  {
   "cell_type": "markdown",
   "id": "e2f4bbc7",
   "metadata": {},
   "source": [
    "**Ответ:** вероятность того, что уведомление откроют не более 399,5 тыс. пользователей равна примерно 15.3%"
   ]
  },
  {
   "cell_type": "markdown",
   "id": "8983ee34",
   "metadata": {},
   "source": [
    "##  Итоговый вывод\n",
    "Были рассмотрены данные из трех файлов (users_go.csv, rides_go.csv, subscriptions_go.csv). Пропуски отсутсвуют. Дубликаты, найденные в датафрейме users, удалены.\n",
    "\n",
    "На этапе исселодвательского анализа данных были получены следюущие результаты.\n",
    "Частота встречаемости городов сравнима друг с другом и лежит в районе 200 поездок. Колиечство пользователей с подпиской и без подписки примерно одинаково, но пользователей без подписки на примерно на 10% больше.\n",
    "Средний возраст пользователя равен 25 лет. \n",
    "На гистограмме видны два локальных пика в районе 600-700 и 3133 метров. Можно предположить, что левый пик появился в результате того, что пользователь по какой-либо причине предеумал ехать до конечного пункта или же, наоборот, он находился слишком близко, но тогда неясно почему значений на уровне 1500 так мало. Среднее расстояние в 3133 метров кажется более правдоподобным.\n",
    "Наблюдается выброс в районе первой минуты, можно сделать вывод о том, что самокат был взят по ошибке или было принято решение использовать другой вид передвижения. В среднем же время поездки составляет от 13 до 22 минут.\n",
    "\n",
    "На этапе объединения данных три отдельных датафрейма были соезинены в один общий, после чего тот был разделен на два датафрейма по типу подписки. Также были построены гистограмы полученных датафреймов и сделаны следующие выводы: у пользователей без подписки бОльший диапазон расстояния поездок и чаще встречаются короткие поездки (до 500 м). У пользователей без подписки чуть бОльший разброс (это видно на графике, а также при сравнении стандартного отклонения (6.33 > 5.57)). \n",
    "Среднее расстояние пользователей с подпиской больше на 70 метров (3115 - 3045), а медина на 34 метра (3148 - 3114).\n",
    "Если говорить о врмени, то тут то же отличие в сторону пользователей, имеющих подписку: 1.15 мину (18.54 - 17.39) по среднему и 0.85 минут по медиане (18.18 - 17.33).\n",
    "Графики имееют схожее распределение, однако гистогрммы пользователей с подпиской имеют меньший разброс по оси абсцисс. \n",
    "\n",
    "В заключительном этапе были рассмотрены три гипотезы, на основании которых можно сделать следющие выводы:\n",
    "* Пользователи с подпиской могут больше времени, чем пользователи без нее.\n",
    "* Среднее расстояние которое проезжают пользователи с подпиской за одну поездку может лежать находистя рядом с 3130 метров.\n",
    "* Помесячная выручка от пользователей с подпиской может быть выше, чем выручка от пользователей без подписки.\n",
    "\n",
    "Пользователи с подпиской являются более выгодными для сервиса аренды самокатов, чем пользователи без нее!"
   ]
  }
 ],
 "metadata": {
  "ExecuteTimeLog": [
   {
    "duration": 403,
    "start_time": "2024-05-05T08:07:11.601Z"
   },
   {
    "duration": 320,
    "start_time": "2024-05-05T08:07:12.006Z"
   },
   {
    "duration": 14,
    "start_time": "2024-05-05T08:07:12.328Z"
   },
   {
    "duration": 25,
    "start_time": "2024-05-05T08:07:12.343Z"
   },
   {
    "duration": 17,
    "start_time": "2024-05-05T08:07:12.369Z"
   },
   {
    "duration": 3,
    "start_time": "2024-05-05T08:10:44.440Z"
   },
   {
    "duration": 120,
    "start_time": "2024-05-05T08:10:44.445Z"
   },
   {
    "duration": 8,
    "start_time": "2024-05-05T08:10:44.566Z"
   },
   {
    "duration": 32,
    "start_time": "2024-05-05T08:10:44.575Z"
   },
   {
    "duration": 81,
    "start_time": "2024-05-05T08:10:44.608Z"
   },
   {
    "duration": 11,
    "start_time": "2024-05-05T08:11:47.590Z"
   },
   {
    "duration": 9,
    "start_time": "2024-05-05T08:11:52.516Z"
   },
   {
    "duration": 2,
    "start_time": "2024-05-05T08:12:30.805Z"
   },
   {
    "duration": 194,
    "start_time": "2024-05-05T08:12:30.809Z"
   },
   {
    "duration": 11,
    "start_time": "2024-05-05T08:12:31.005Z"
   },
   {
    "duration": 84,
    "start_time": "2024-05-05T08:12:31.018Z"
   },
   {
    "duration": 30,
    "start_time": "2024-05-05T08:12:31.104Z"
   },
   {
    "duration": 38,
    "start_time": "2024-05-05T08:12:31.135Z"
   },
   {
    "duration": 27,
    "start_time": "2024-05-05T08:12:31.175Z"
   },
   {
    "duration": 23,
    "start_time": "2024-05-05T08:12:31.204Z"
   },
   {
    "duration": 383,
    "start_time": "2024-05-05T10:04:39.973Z"
   },
   {
    "duration": 216,
    "start_time": "2024-05-05T10:04:40.358Z"
   },
   {
    "duration": 13,
    "start_time": "2024-05-05T10:04:40.576Z"
   },
   {
    "duration": 13,
    "start_time": "2024-05-05T10:04:40.590Z"
   },
   {
    "duration": 17,
    "start_time": "2024-05-05T10:04:40.604Z"
   },
   {
    "duration": 16,
    "start_time": "2024-05-05T10:04:40.623Z"
   },
   {
    "duration": 6,
    "start_time": "2024-05-05T10:04:40.640Z"
   },
   {
    "duration": 8,
    "start_time": "2024-05-05T10:04:40.648Z"
   },
   {
    "duration": 12,
    "start_time": "2024-05-05T10:10:34.369Z"
   },
   {
    "duration": 56,
    "start_time": "2024-05-05T10:12:32.451Z"
   },
   {
    "duration": 16,
    "start_time": "2024-05-05T10:12:39.263Z"
   },
   {
    "duration": 16,
    "start_time": "2024-05-05T10:13:44.281Z"
   },
   {
    "duration": 10,
    "start_time": "2024-05-05T10:15:26.667Z"
   },
   {
    "duration": 12,
    "start_time": "2024-05-05T10:17:29.365Z"
   },
   {
    "duration": 7,
    "start_time": "2024-05-05T10:17:34.133Z"
   },
   {
    "duration": 5,
    "start_time": "2024-05-05T10:17:52.880Z"
   },
   {
    "duration": 6,
    "start_time": "2024-05-05T10:17:54.247Z"
   },
   {
    "duration": 6,
    "start_time": "2024-05-05T10:18:30.800Z"
   },
   {
    "duration": 7,
    "start_time": "2024-05-05T10:18:38.224Z"
   },
   {
    "duration": 8,
    "start_time": "2024-05-05T10:18:58.140Z"
   },
   {
    "duration": 4,
    "start_time": "2024-05-05T10:19:00.530Z"
   },
   {
    "duration": 5,
    "start_time": "2024-05-05T10:19:23.183Z"
   },
   {
    "duration": 6,
    "start_time": "2024-05-05T10:19:23.996Z"
   },
   {
    "duration": 397,
    "start_time": "2024-05-05T10:21:17.361Z"
   },
   {
    "duration": 66,
    "start_time": "2024-05-05T10:21:17.760Z"
   },
   {
    "duration": 15,
    "start_time": "2024-05-05T10:21:17.827Z"
   },
   {
    "duration": 12,
    "start_time": "2024-05-05T10:21:17.843Z"
   },
   {
    "duration": 8,
    "start_time": "2024-05-05T10:21:17.857Z"
   },
   {
    "duration": 10,
    "start_time": "2024-05-05T10:21:17.866Z"
   },
   {
    "duration": 9,
    "start_time": "2024-05-05T10:21:17.877Z"
   },
   {
    "duration": 11,
    "start_time": "2024-05-05T10:21:17.887Z"
   },
   {
    "duration": 14,
    "start_time": "2024-05-05T10:21:17.899Z"
   },
   {
    "duration": 12,
    "start_time": "2024-05-05T10:21:17.915Z"
   },
   {
    "duration": 6,
    "start_time": "2024-05-05T10:21:17.928Z"
   },
   {
    "duration": 9,
    "start_time": "2024-05-05T10:21:17.966Z"
   },
   {
    "duration": 5,
    "start_time": "2024-05-05T10:21:17.977Z"
   },
   {
    "duration": 17,
    "start_time": "2024-05-05T10:21:17.985Z"
   },
   {
    "duration": 13,
    "start_time": "2024-05-05T10:21:18.004Z"
   },
   {
    "duration": 14,
    "start_time": "2024-05-05T10:21:18.019Z"
   },
   {
    "duration": 27,
    "start_time": "2024-05-05T10:21:18.034Z"
   },
   {
    "duration": 7,
    "start_time": "2024-05-05T10:21:18.063Z"
   },
   {
    "duration": 2,
    "start_time": "2024-05-05T10:25:10.266Z"
   },
   {
    "duration": 527,
    "start_time": "2024-05-05T10:33:46.112Z"
   },
   {
    "duration": 115,
    "start_time": "2024-05-05T10:35:15.504Z"
   },
   {
    "duration": 5,
    "start_time": "2024-05-05T10:37:34.625Z"
   },
   {
    "duration": 5,
    "start_time": "2024-05-05T10:38:09.466Z"
   },
   {
    "duration": 123,
    "start_time": "2024-05-05T10:38:13.356Z"
   },
   {
    "duration": 154,
    "start_time": "2024-05-05T10:38:28.077Z"
   },
   {
    "duration": 6,
    "start_time": "2024-05-05T10:38:57.270Z"
   },
   {
    "duration": 180,
    "start_time": "2024-05-05T10:39:14.980Z"
   },
   {
    "duration": 51,
    "start_time": "2024-05-05T10:39:50.493Z"
   },
   {
    "duration": 161,
    "start_time": "2024-05-05T10:40:02.297Z"
   },
   {
    "duration": 187,
    "start_time": "2024-05-05T10:40:15.451Z"
   },
   {
    "duration": 155,
    "start_time": "2024-05-05T10:40:19.553Z"
   },
   {
    "duration": 163,
    "start_time": "2024-05-05T10:40:24.115Z"
   },
   {
    "duration": 150,
    "start_time": "2024-05-05T10:40:33.725Z"
   },
   {
    "duration": 195,
    "start_time": "2024-05-05T10:40:38.489Z"
   },
   {
    "duration": 198,
    "start_time": "2024-05-05T10:41:51.738Z"
   },
   {
    "duration": 195,
    "start_time": "2024-05-05T10:42:37.931Z"
   },
   {
    "duration": 194,
    "start_time": "2024-05-05T10:43:06.851Z"
   },
   {
    "duration": 153,
    "start_time": "2024-05-05T10:43:10.551Z"
   },
   {
    "duration": 315,
    "start_time": "2024-05-05T10:43:13.822Z"
   },
   {
    "duration": 241,
    "start_time": "2024-05-05T10:43:22.912Z"
   },
   {
    "duration": 1278,
    "start_time": "2024-05-05T11:00:49.985Z"
   },
   {
    "duration": 247,
    "start_time": "2024-05-05T11:00:55.650Z"
   },
   {
    "duration": 2,
    "start_time": "2024-05-05T11:13:51.597Z"
   },
   {
    "duration": 2,
    "start_time": "2024-05-05T11:15:43.946Z"
   },
   {
    "duration": 399,
    "start_time": "2024-05-05T11:52:27.477Z"
   },
   {
    "duration": 67,
    "start_time": "2024-05-05T11:52:27.878Z"
   },
   {
    "duration": 14,
    "start_time": "2024-05-05T11:52:27.947Z"
   },
   {
    "duration": 16,
    "start_time": "2024-05-05T11:52:27.962Z"
   },
   {
    "duration": 10,
    "start_time": "2024-05-05T11:52:27.980Z"
   },
   {
    "duration": 16,
    "start_time": "2024-05-05T11:52:27.991Z"
   },
   {
    "duration": 7,
    "start_time": "2024-05-05T11:52:28.008Z"
   },
   {
    "duration": 12,
    "start_time": "2024-05-05T11:52:28.016Z"
   },
   {
    "duration": 12,
    "start_time": "2024-05-05T11:52:28.030Z"
   },
   {
    "duration": 24,
    "start_time": "2024-05-05T11:52:28.044Z"
   },
   {
    "duration": 5,
    "start_time": "2024-05-05T11:52:28.069Z"
   },
   {
    "duration": 14,
    "start_time": "2024-05-05T11:52:28.075Z"
   },
   {
    "duration": 5,
    "start_time": "2024-05-05T11:52:28.090Z"
   },
   {
    "duration": 13,
    "start_time": "2024-05-05T11:52:28.097Z"
   },
   {
    "duration": 7,
    "start_time": "2024-05-05T11:52:28.111Z"
   },
   {
    "duration": 12,
    "start_time": "2024-05-05T11:52:28.119Z"
   },
   {
    "duration": 7,
    "start_time": "2024-05-05T11:52:28.132Z"
   },
   {
    "duration": 9,
    "start_time": "2024-05-05T11:52:28.140Z"
   },
   {
    "duration": 384,
    "start_time": "2024-05-05T11:52:28.150Z"
   },
   {
    "duration": 162,
    "start_time": "2024-05-05T11:52:28.536Z"
   },
   {
    "duration": 196,
    "start_time": "2024-05-05T11:52:28.699Z"
   },
   {
    "duration": 288,
    "start_time": "2024-05-05T11:52:28.897Z"
   },
   {
    "duration": 299,
    "start_time": "2024-05-05T11:52:29.187Z"
   },
   {
    "duration": 9,
    "start_time": "2024-05-05T11:57:11.804Z"
   },
   {
    "duration": 17,
    "start_time": "2024-05-05T11:57:22.105Z"
   },
   {
    "duration": 18,
    "start_time": "2024-05-05T11:57:30.666Z"
   },
   {
    "duration": 67,
    "start_time": "2024-05-05T11:58:30.923Z"
   },
   {
    "duration": 26,
    "start_time": "2024-05-05T11:58:45.524Z"
   },
   {
    "duration": 17,
    "start_time": "2024-05-05T12:01:31.785Z"
   },
   {
    "duration": 13,
    "start_time": "2024-05-05T12:01:34.662Z"
   },
   {
    "duration": 121,
    "start_time": "2024-05-05T12:14:21.169Z"
   },
   {
    "duration": 241,
    "start_time": "2024-05-05T12:14:35.480Z"
   },
   {
    "duration": 250,
    "start_time": "2024-05-05T12:15:07.168Z"
   },
   {
    "duration": 254,
    "start_time": "2024-05-05T12:15:10.522Z"
   },
   {
    "duration": 232,
    "start_time": "2024-05-05T12:15:12.980Z"
   },
   {
    "duration": 251,
    "start_time": "2024-05-05T12:16:03.459Z"
   },
   {
    "duration": 214,
    "start_time": "2024-05-05T12:16:05.466Z"
   },
   {
    "duration": 2,
    "start_time": "2024-05-05T12:18:21.913Z"
   },
   {
    "duration": 150,
    "start_time": "2024-05-05T12:20:10.299Z"
   },
   {
    "duration": 135,
    "start_time": "2024-05-05T12:20:21.000Z"
   },
   {
    "duration": 140,
    "start_time": "2024-05-05T12:20:29.218Z"
   },
   {
    "duration": 397,
    "start_time": "2024-05-05T12:21:01.953Z"
   },
   {
    "duration": 534,
    "start_time": "2024-05-05T12:25:28.805Z"
   },
   {
    "duration": 449,
    "start_time": "2024-05-05T12:25:58.604Z"
   },
   {
    "duration": 406,
    "start_time": "2024-05-05T12:26:02.552Z"
   },
   {
    "duration": 419,
    "start_time": "2024-05-05T12:26:31.972Z"
   },
   {
    "duration": 531,
    "start_time": "2024-05-05T12:27:13.363Z"
   },
   {
    "duration": 273,
    "start_time": "2024-05-05T12:27:25.445Z"
   },
   {
    "duration": 398,
    "start_time": "2024-05-05T12:28:42.654Z"
   },
   {
    "duration": 300,
    "start_time": "2024-05-05T12:28:50.914Z"
   },
   {
    "duration": 2,
    "start_time": "2024-05-05T12:38:06.021Z"
   },
   {
    "duration": 561,
    "start_time": "2024-05-05T12:38:26.387Z"
   },
   {
    "duration": 66,
    "start_time": "2024-05-05T12:38:26.950Z"
   },
   {
    "duration": 12,
    "start_time": "2024-05-05T12:38:27.018Z"
   },
   {
    "duration": 11,
    "start_time": "2024-05-05T12:38:27.031Z"
   },
   {
    "duration": 23,
    "start_time": "2024-05-05T12:38:27.044Z"
   },
   {
    "duration": 14,
    "start_time": "2024-05-05T12:38:27.069Z"
   },
   {
    "duration": 7,
    "start_time": "2024-05-05T12:38:27.085Z"
   },
   {
    "duration": 36,
    "start_time": "2024-05-05T12:38:27.094Z"
   },
   {
    "duration": 15,
    "start_time": "2024-05-05T12:38:27.132Z"
   },
   {
    "duration": 13,
    "start_time": "2024-05-05T12:38:27.149Z"
   },
   {
    "duration": 7,
    "start_time": "2024-05-05T12:38:27.163Z"
   },
   {
    "duration": 25,
    "start_time": "2024-05-05T12:38:27.171Z"
   },
   {
    "duration": 7,
    "start_time": "2024-05-05T12:38:27.197Z"
   },
   {
    "duration": 8,
    "start_time": "2024-05-05T12:38:27.205Z"
   },
   {
    "duration": 4,
    "start_time": "2024-05-05T12:38:27.215Z"
   },
   {
    "duration": 7,
    "start_time": "2024-05-05T12:38:27.221Z"
   },
   {
    "duration": 8,
    "start_time": "2024-05-05T12:38:27.230Z"
   },
   {
    "duration": 11,
    "start_time": "2024-05-05T12:38:27.239Z"
   },
   {
    "duration": 199,
    "start_time": "2024-05-05T12:38:27.252Z"
   },
   {
    "duration": 152,
    "start_time": "2024-05-05T12:38:27.453Z"
   },
   {
    "duration": 220,
    "start_time": "2024-05-05T12:38:27.606Z"
   },
   {
    "duration": 302,
    "start_time": "2024-05-05T12:38:27.827Z"
   },
   {
    "duration": 254,
    "start_time": "2024-05-05T12:38:28.131Z"
   },
   {
    "duration": 24,
    "start_time": "2024-05-05T12:38:28.387Z"
   },
   {
    "duration": 15,
    "start_time": "2024-05-05T12:38:28.412Z"
   },
   {
    "duration": 13,
    "start_time": "2024-05-05T12:38:28.428Z"
   },
   {
    "duration": 473,
    "start_time": "2024-05-05T12:38:28.442Z"
   },
   {
    "duration": 328,
    "start_time": "2024-05-05T12:38:28.918Z"
   },
   {
    "duration": 12,
    "start_time": "2024-05-05T12:44:25.947Z"
   },
   {
    "duration": 13,
    "start_time": "2024-05-05T12:44:30.279Z"
   },
   {
    "duration": 13,
    "start_time": "2024-05-05T12:44:35.486Z"
   },
   {
    "duration": 5,
    "start_time": "2024-05-05T13:49:35.303Z"
   },
   {
    "duration": 6,
    "start_time": "2024-05-05T13:49:51.465Z"
   },
   {
    "duration": 4,
    "start_time": "2024-05-05T13:51:04.530Z"
   },
   {
    "duration": 37,
    "start_time": "2024-05-05T13:53:28.968Z"
   },
   {
    "duration": 28,
    "start_time": "2024-05-05T13:54:20.662Z"
   },
   {
    "duration": 826,
    "start_time": "2024-05-05T13:59:55.586Z"
   },
   {
    "duration": 696,
    "start_time": "2024-05-05T14:00:01.608Z"
   },
   {
    "duration": 797,
    "start_time": "2024-05-05T14:00:05.738Z"
   },
   {
    "duration": 795,
    "start_time": "2024-05-05T14:00:30.125Z"
   },
   {
    "duration": 29,
    "start_time": "2024-05-05T14:00:36.832Z"
   },
   {
    "duration": 28,
    "start_time": "2024-05-05T14:02:37.202Z"
   },
   {
    "duration": 673,
    "start_time": "2024-05-05T14:12:49.503Z"
   },
   {
    "duration": 790,
    "start_time": "2024-05-05T14:12:56.378Z"
   },
   {
    "duration": 10,
    "start_time": "2024-05-05T14:13:07.001Z"
   },
   {
    "duration": 668,
    "start_time": "2024-05-05T14:13:30.382Z"
   },
   {
    "duration": 655,
    "start_time": "2024-05-05T14:13:37.898Z"
   },
   {
    "duration": 5,
    "start_time": "2024-05-05T14:13:58.831Z"
   },
   {
    "duration": 33,
    "start_time": "2024-05-05T14:15:28.337Z"
   },
   {
    "duration": 32,
    "start_time": "2024-05-05T14:16:32.422Z"
   },
   {
    "duration": 16,
    "start_time": "2024-05-05T14:17:23.786Z"
   },
   {
    "duration": 7,
    "start_time": "2024-05-05T14:17:30.499Z"
   },
   {
    "duration": 5,
    "start_time": "2024-05-05T14:17:48.748Z"
   },
   {
    "duration": 13,
    "start_time": "2024-05-05T14:22:14.023Z"
   },
   {
    "duration": 4,
    "start_time": "2024-05-05T14:22:45.586Z"
   },
   {
    "duration": 5,
    "start_time": "2024-05-05T14:22:54.933Z"
   },
   {
    "duration": 14,
    "start_time": "2024-05-05T14:26:28.557Z"
   },
   {
    "duration": 15,
    "start_time": "2024-05-05T14:26:46.390Z"
   },
   {
    "duration": 14,
    "start_time": "2024-05-05T14:26:50.956Z"
   },
   {
    "duration": 12,
    "start_time": "2024-05-05T14:26:56.462Z"
   },
   {
    "duration": 15,
    "start_time": "2024-05-05T14:27:14.197Z"
   },
   {
    "duration": 199,
    "start_time": "2024-05-05T14:27:32.000Z"
   },
   {
    "duration": 9,
    "start_time": "2024-05-05T14:28:12.761Z"
   },
   {
    "duration": 15,
    "start_time": "2024-05-05T14:28:26.275Z"
   },
   {
    "duration": 17,
    "start_time": "2024-05-05T14:29:12.342Z"
   },
   {
    "duration": 14,
    "start_time": "2024-05-05T14:29:26.168Z"
   },
   {
    "duration": 12,
    "start_time": "2024-05-05T14:29:34.703Z"
   },
   {
    "duration": 14,
    "start_time": "2024-05-05T14:29:40.778Z"
   },
   {
    "duration": 13,
    "start_time": "2024-05-05T14:29:45.095Z"
   },
   {
    "duration": 20,
    "start_time": "2024-05-05T14:29:48.590Z"
   },
   {
    "duration": 14,
    "start_time": "2024-05-05T14:29:53.496Z"
   },
   {
    "duration": 13,
    "start_time": "2024-05-05T14:29:56.312Z"
   },
   {
    "duration": 13,
    "start_time": "2024-05-05T14:29:59.751Z"
   },
   {
    "duration": 14,
    "start_time": "2024-05-05T14:30:14.267Z"
   },
   {
    "duration": 12,
    "start_time": "2024-05-05T14:30:22.965Z"
   },
   {
    "duration": 14,
    "start_time": "2024-05-05T14:30:29.119Z"
   },
   {
    "duration": 9,
    "start_time": "2024-05-05T14:32:13.395Z"
   },
   {
    "duration": 4,
    "start_time": "2024-05-05T14:32:31.141Z"
   },
   {
    "duration": 14,
    "start_time": "2024-05-05T14:32:35.348Z"
   },
   {
    "duration": 737,
    "start_time": "2024-05-05T14:33:03.401Z"
   },
   {
    "duration": 14,
    "start_time": "2024-05-05T14:33:09.579Z"
   },
   {
    "duration": 15,
    "start_time": "2024-05-05T14:33:12.587Z"
   },
   {
    "duration": 14,
    "start_time": "2024-05-05T14:33:15.764Z"
   },
   {
    "duration": 20,
    "start_time": "2024-05-05T14:34:01.764Z"
   },
   {
    "duration": 101,
    "start_time": "2024-05-05T14:35:01.307Z"
   },
   {
    "duration": 27,
    "start_time": "2024-05-05T14:35:15.873Z"
   },
   {
    "duration": 21,
    "start_time": "2024-05-05T14:35:33.819Z"
   },
   {
    "duration": 21,
    "start_time": "2024-05-05T14:40:21.572Z"
   },
   {
    "duration": 20,
    "start_time": "2024-05-05T14:49:41.197Z"
   },
   {
    "duration": 22,
    "start_time": "2024-05-05T14:49:50.418Z"
   },
   {
    "duration": 598,
    "start_time": "2024-05-05T14:50:01.690Z"
   },
   {
    "duration": 67,
    "start_time": "2024-05-05T14:50:02.289Z"
   },
   {
    "duration": 14,
    "start_time": "2024-05-05T14:50:02.358Z"
   },
   {
    "duration": 21,
    "start_time": "2024-05-05T14:50:02.374Z"
   },
   {
    "duration": 22,
    "start_time": "2024-05-05T14:50:02.398Z"
   },
   {
    "duration": 33,
    "start_time": "2024-05-05T14:50:02.421Z"
   },
   {
    "duration": 31,
    "start_time": "2024-05-05T14:50:02.456Z"
   },
   {
    "duration": 37,
    "start_time": "2024-05-05T14:50:02.489Z"
   },
   {
    "duration": 55,
    "start_time": "2024-05-05T14:50:02.527Z"
   },
   {
    "duration": 41,
    "start_time": "2024-05-05T14:50:02.584Z"
   },
   {
    "duration": 41,
    "start_time": "2024-05-05T14:50:02.626Z"
   },
   {
    "duration": 47,
    "start_time": "2024-05-05T14:50:02.668Z"
   },
   {
    "duration": 57,
    "start_time": "2024-05-05T14:50:02.716Z"
   },
   {
    "duration": 25,
    "start_time": "2024-05-05T14:50:02.776Z"
   },
   {
    "duration": 41,
    "start_time": "2024-05-05T14:50:02.802Z"
   },
   {
    "duration": 14,
    "start_time": "2024-05-05T14:50:02.844Z"
   },
   {
    "duration": 29,
    "start_time": "2024-05-05T14:50:02.859Z"
   },
   {
    "duration": 11,
    "start_time": "2024-05-05T14:50:02.890Z"
   },
   {
    "duration": 172,
    "start_time": "2024-05-05T14:50:02.903Z"
   },
   {
    "duration": 145,
    "start_time": "2024-05-05T14:50:03.076Z"
   },
   {
    "duration": 206,
    "start_time": "2024-05-05T14:50:03.223Z"
   },
   {
    "duration": 312,
    "start_time": "2024-05-05T14:50:03.431Z"
   },
   {
    "duration": 283,
    "start_time": "2024-05-05T14:50:03.745Z"
   },
   {
    "duration": 25,
    "start_time": "2024-05-05T14:50:04.030Z"
   },
   {
    "duration": 21,
    "start_time": "2024-05-05T14:50:04.056Z"
   },
   {
    "duration": 12,
    "start_time": "2024-05-05T14:50:04.079Z"
   },
   {
    "duration": 443,
    "start_time": "2024-05-05T14:50:04.093Z"
   },
   {
    "duration": 292,
    "start_time": "2024-05-05T14:50:04.538Z"
   },
   {
    "duration": 13,
    "start_time": "2024-05-05T14:50:04.831Z"
   },
   {
    "duration": 23,
    "start_time": "2024-05-05T14:50:04.846Z"
   },
   {
    "duration": 3,
    "start_time": "2024-05-05T14:50:04.871Z"
   },
   {
    "duration": 39,
    "start_time": "2024-05-05T14:50:04.875Z"
   },
   {
    "duration": 21,
    "start_time": "2024-05-05T14:50:04.915Z"
   },
   {
    "duration": 531,
    "start_time": "2024-05-05T14:57:03.723Z"
   },
   {
    "duration": 6,
    "start_time": "2024-05-05T14:59:12.248Z"
   },
   {
    "duration": 6,
    "start_time": "2024-05-05T15:00:11.663Z"
   },
   {
    "duration": 4,
    "start_time": "2024-05-05T15:05:16.954Z"
   },
   {
    "duration": 89,
    "start_time": "2024-05-05T15:06:16.943Z"
   },
   {
    "duration": 989,
    "start_time": "2024-05-05T15:06:55.518Z"
   },
   {
    "duration": 64,
    "start_time": "2024-05-05T15:06:56.509Z"
   },
   {
    "duration": 12,
    "start_time": "2024-05-05T15:06:56.575Z"
   },
   {
    "duration": 10,
    "start_time": "2024-05-05T15:06:56.589Z"
   },
   {
    "duration": 12,
    "start_time": "2024-05-05T15:06:56.600Z"
   },
   {
    "duration": 21,
    "start_time": "2024-05-05T15:06:56.613Z"
   },
   {
    "duration": 20,
    "start_time": "2024-05-05T15:06:56.636Z"
   },
   {
    "duration": 13,
    "start_time": "2024-05-05T15:06:56.658Z"
   },
   {
    "duration": 22,
    "start_time": "2024-05-05T15:06:56.673Z"
   },
   {
    "duration": 10,
    "start_time": "2024-05-05T15:06:56.699Z"
   },
   {
    "duration": 5,
    "start_time": "2024-05-05T15:06:56.711Z"
   },
   {
    "duration": 14,
    "start_time": "2024-05-05T15:06:56.717Z"
   },
   {
    "duration": 12,
    "start_time": "2024-05-05T15:06:56.732Z"
   },
   {
    "duration": 14,
    "start_time": "2024-05-05T15:06:56.746Z"
   },
   {
    "duration": 18,
    "start_time": "2024-05-05T15:06:56.762Z"
   },
   {
    "duration": 12,
    "start_time": "2024-05-05T15:06:56.781Z"
   },
   {
    "duration": 19,
    "start_time": "2024-05-05T15:06:56.795Z"
   },
   {
    "duration": 4,
    "start_time": "2024-05-05T15:06:56.816Z"
   },
   {
    "duration": 174,
    "start_time": "2024-05-05T15:06:56.822Z"
   },
   {
    "duration": 143,
    "start_time": "2024-05-05T15:06:56.998Z"
   },
   {
    "duration": 207,
    "start_time": "2024-05-05T15:06:57.142Z"
   },
   {
    "duration": 256,
    "start_time": "2024-05-05T15:06:57.351Z"
   },
   {
    "duration": 279,
    "start_time": "2024-05-05T15:06:57.609Z"
   },
   {
    "duration": 25,
    "start_time": "2024-05-05T15:06:57.890Z"
   },
   {
    "duration": 14,
    "start_time": "2024-05-05T15:06:57.916Z"
   },
   {
    "duration": 12,
    "start_time": "2024-05-05T15:06:57.932Z"
   },
   {
    "duration": 501,
    "start_time": "2024-05-05T15:06:57.965Z"
   },
   {
    "duration": 304,
    "start_time": "2024-05-05T15:06:58.469Z"
   },
   {
    "duration": 13,
    "start_time": "2024-05-05T15:06:58.775Z"
   },
   {
    "duration": 17,
    "start_time": "2024-05-05T15:06:58.790Z"
   },
   {
    "duration": 3,
    "start_time": "2024-05-05T15:06:58.808Z"
   },
   {
    "duration": 29,
    "start_time": "2024-05-05T15:06:58.812Z"
   },
   {
    "duration": 46,
    "start_time": "2024-05-05T15:06:58.842Z"
   },
   {
    "duration": 7,
    "start_time": "2024-05-05T15:06:58.889Z"
   },
   {
    "duration": 114,
    "start_time": "2024-05-05T15:06:58.898Z"
   },
   {
    "duration": 8,
    "start_time": "2024-05-05T15:07:31.198Z"
   },
   {
    "duration": 4,
    "start_time": "2024-05-05T15:07:53.748Z"
   },
   {
    "duration": 4,
    "start_time": "2024-05-05T15:12:20.850Z"
   },
   {
    "duration": 14,
    "start_time": "2024-05-05T15:12:29.315Z"
   },
   {
    "duration": 17,
    "start_time": "2024-05-05T15:12:32.950Z"
   },
   {
    "duration": 12,
    "start_time": "2024-05-05T15:13:51.381Z"
   },
   {
    "duration": 5,
    "start_time": "2024-05-05T15:14:19.553Z"
   },
   {
    "duration": 40,
    "start_time": "2024-05-05T15:30:35.869Z"
   },
   {
    "duration": 5,
    "start_time": "2024-05-05T15:31:25.258Z"
   },
   {
    "duration": 5,
    "start_time": "2024-05-05T15:32:28.776Z"
   },
   {
    "duration": 5,
    "start_time": "2024-05-05T15:32:59.404Z"
   },
   {
    "duration": 4,
    "start_time": "2024-05-05T15:33:12.299Z"
   },
   {
    "duration": 4,
    "start_time": "2024-05-05T15:34:58.026Z"
   },
   {
    "duration": 5,
    "start_time": "2024-05-05T18:23:44.613Z"
   },
   {
    "duration": 1103,
    "start_time": "2024-05-05T18:24:01.036Z"
   },
   {
    "duration": 68,
    "start_time": "2024-05-05T18:24:02.141Z"
   },
   {
    "duration": 11,
    "start_time": "2024-05-05T18:24:02.211Z"
   },
   {
    "duration": 12,
    "start_time": "2024-05-05T18:24:02.223Z"
   },
   {
    "duration": 27,
    "start_time": "2024-05-05T18:24:02.237Z"
   },
   {
    "duration": 23,
    "start_time": "2024-05-05T18:24:02.266Z"
   },
   {
    "duration": 6,
    "start_time": "2024-05-05T18:24:02.291Z"
   },
   {
    "duration": 33,
    "start_time": "2024-05-05T18:24:02.299Z"
   },
   {
    "duration": 42,
    "start_time": "2024-05-05T18:24:02.334Z"
   },
   {
    "duration": 12,
    "start_time": "2024-05-05T18:24:02.378Z"
   },
   {
    "duration": 13,
    "start_time": "2024-05-05T18:24:02.391Z"
   },
   {
    "duration": 29,
    "start_time": "2024-05-05T18:24:02.405Z"
   },
   {
    "duration": 22,
    "start_time": "2024-05-05T18:24:02.435Z"
   },
   {
    "duration": 22,
    "start_time": "2024-05-05T18:24:02.460Z"
   },
   {
    "duration": 10,
    "start_time": "2024-05-05T18:24:02.483Z"
   },
   {
    "duration": 7,
    "start_time": "2024-05-05T18:24:02.494Z"
   },
   {
    "duration": 17,
    "start_time": "2024-05-05T18:24:02.502Z"
   },
   {
    "duration": 13,
    "start_time": "2024-05-05T18:24:02.520Z"
   },
   {
    "duration": 166,
    "start_time": "2024-05-05T18:24:02.534Z"
   },
   {
    "duration": 140,
    "start_time": "2024-05-05T18:24:02.701Z"
   },
   {
    "duration": 192,
    "start_time": "2024-05-05T18:24:02.842Z"
   },
   {
    "duration": 261,
    "start_time": "2024-05-05T18:24:03.035Z"
   },
   {
    "duration": 266,
    "start_time": "2024-05-05T18:24:03.297Z"
   },
   {
    "duration": 24,
    "start_time": "2024-05-05T18:24:03.565Z"
   },
   {
    "duration": 14,
    "start_time": "2024-05-05T18:24:03.591Z"
   },
   {
    "duration": 12,
    "start_time": "2024-05-05T18:24:03.606Z"
   },
   {
    "duration": 518,
    "start_time": "2024-05-05T18:24:03.620Z"
   },
   {
    "duration": 285,
    "start_time": "2024-05-05T18:24:04.139Z"
   },
   {
    "duration": 12,
    "start_time": "2024-05-05T18:24:04.426Z"
   },
   {
    "duration": 13,
    "start_time": "2024-05-05T18:24:04.439Z"
   },
   {
    "duration": 4,
    "start_time": "2024-05-05T18:24:04.464Z"
   },
   {
    "duration": 29,
    "start_time": "2024-05-05T18:24:04.469Z"
   },
   {
    "duration": 19,
    "start_time": "2024-05-05T18:24:04.500Z"
   },
   {
    "duration": 4,
    "start_time": "2024-05-05T18:24:04.521Z"
   },
   {
    "duration": 20,
    "start_time": "2024-05-05T18:24:04.526Z"
   },
   {
    "duration": 19,
    "start_time": "2024-05-05T18:24:04.547Z"
   },
   {
    "duration": 3,
    "start_time": "2024-05-05T18:24:04.568Z"
   },
   {
    "duration": 5,
    "start_time": "2024-05-05T18:24:04.572Z"
   },
   {
    "duration": 13,
    "start_time": "2024-05-05T18:24:04.579Z"
   },
   {
    "duration": 86,
    "start_time": "2024-05-05T18:48:43.114Z"
   },
   {
    "duration": 9,
    "start_time": "2024-05-05T18:49:17.261Z"
   },
   {
    "duration": 3,
    "start_time": "2024-05-05T18:49:31.995Z"
   },
   {
    "duration": 201,
    "start_time": "2024-05-05T18:49:36.370Z"
   },
   {
    "duration": 1385,
    "start_time": "2024-05-05T18:49:56.454Z"
   },
   {
    "duration": 486,
    "start_time": "2024-05-05T18:50:03.308Z"
   },
   {
    "duration": 1440,
    "start_time": "2024-05-05T18:50:55.945Z"
   },
   {
    "duration": 73,
    "start_time": "2024-05-05T18:53:22.697Z"
   },
   {
    "duration": 1509,
    "start_time": "2024-05-05T18:53:35.379Z"
   },
   {
    "duration": 1249,
    "start_time": "2024-05-05T18:58:50.033Z"
   },
   {
    "duration": 1562,
    "start_time": "2024-05-05T19:01:48.782Z"
   },
   {
    "duration": 8,
    "start_time": "2024-05-05T19:10:58.368Z"
   },
   {
    "duration": 4,
    "start_time": "2024-05-05T19:11:07.537Z"
   },
   {
    "duration": 1546,
    "start_time": "2024-05-05T19:11:31.460Z"
   },
   {
    "duration": 214,
    "start_time": "2024-05-05T19:14:11.226Z"
   },
   {
    "duration": 226,
    "start_time": "2024-05-05T19:14:14.019Z"
   },
   {
    "duration": 212,
    "start_time": "2024-05-05T19:14:34.268Z"
   },
   {
    "duration": 366,
    "start_time": "2024-05-05T19:14:38.274Z"
   },
   {
    "duration": 48,
    "start_time": "2024-05-05T19:15:19.903Z"
   },
   {
    "duration": 53,
    "start_time": "2024-05-05T19:15:24.469Z"
   },
   {
    "duration": 106,
    "start_time": "2024-05-05T19:15:32.674Z"
   },
   {
    "duration": 54,
    "start_time": "2024-05-05T19:15:38.956Z"
   },
   {
    "duration": 1601,
    "start_time": "2024-05-05T19:16:20.289Z"
   },
   {
    "duration": 59,
    "start_time": "2024-05-05T19:16:31.688Z"
   },
   {
    "duration": 11,
    "start_time": "2024-05-05T19:21:48.892Z"
   },
   {
    "duration": 3,
    "start_time": "2024-05-05T19:22:07.468Z"
   },
   {
    "duration": 6,
    "start_time": "2024-05-05T19:22:12.318Z"
   },
   {
    "duration": 5,
    "start_time": "2024-05-05T19:23:42.605Z"
   },
   {
    "duration": 1639,
    "start_time": "2024-05-05T19:24:48.945Z"
   },
   {
    "duration": 1215,
    "start_time": "2024-05-05T19:25:06.004Z"
   },
   {
    "duration": 1607,
    "start_time": "2024-05-05T19:25:09.714Z"
   },
   {
    "duration": 1576,
    "start_time": "2024-05-05T19:25:14.290Z"
   },
   {
    "duration": 1314,
    "start_time": "2024-05-05T19:25:17.815Z"
   },
   {
    "duration": 1626,
    "start_time": "2024-05-05T19:25:21.283Z"
   },
   {
    "duration": 1571,
    "start_time": "2024-05-05T19:25:26.162Z"
   },
   {
    "duration": 1643,
    "start_time": "2024-05-05T19:25:31.106Z"
   },
   {
    "duration": 1265,
    "start_time": "2024-05-05T19:26:16.777Z"
   },
   {
    "duration": 47,
    "start_time": "2024-05-05T19:28:20.166Z"
   },
   {
    "duration": 288,
    "start_time": "2024-05-05T19:28:24.285Z"
   },
   {
    "duration": 11,
    "start_time": "2024-05-05T19:30:20.102Z"
   },
   {
    "duration": 312,
    "start_time": "2024-05-05T19:30:35.804Z"
   },
   {
    "duration": 298,
    "start_time": "2024-05-05T19:30:39.978Z"
   },
   {
    "duration": 328,
    "start_time": "2024-05-05T19:31:12.277Z"
   },
   {
    "duration": 320,
    "start_time": "2024-05-05T19:31:27.778Z"
   },
   {
    "duration": 2101,
    "start_time": "2024-05-05T19:31:52.119Z"
   },
   {
    "duration": 1956,
    "start_time": "2024-05-05T19:32:19.720Z"
   },
   {
    "duration": 1538,
    "start_time": "2024-05-05T19:32:33.536Z"
   },
   {
    "duration": 2140,
    "start_time": "2024-05-05T19:32:59.235Z"
   },
   {
    "duration": 31947,
    "start_time": "2024-05-05T19:34:44.661Z"
   },
   {
    "duration": 7,
    "start_time": "2024-05-05T19:35:26.656Z"
   },
   {
    "duration": 4,
    "start_time": "2024-05-05T19:36:01.237Z"
   },
   {
    "duration": 6,
    "start_time": "2024-05-05T19:36:09.794Z"
   },
   {
    "duration": 1590,
    "start_time": "2024-05-05T19:36:20.445Z"
   },
   {
    "duration": 264,
    "start_time": "2024-05-05T19:36:23.927Z"
   },
   {
    "duration": 7472,
    "start_time": "2024-05-05T19:36:29.094Z"
   },
   {
    "duration": 0,
    "start_time": "2024-05-05T19:36:36.568Z"
   },
   {
    "duration": 1028,
    "start_time": "2024-05-05T19:36:49.273Z"
   },
   {
    "duration": 67,
    "start_time": "2024-05-05T19:36:50.303Z"
   },
   {
    "duration": 11,
    "start_time": "2024-05-05T19:36:50.372Z"
   },
   {
    "duration": 10,
    "start_time": "2024-05-05T19:36:50.384Z"
   },
   {
    "duration": 17,
    "start_time": "2024-05-05T19:36:50.396Z"
   },
   {
    "duration": 14,
    "start_time": "2024-05-05T19:36:50.414Z"
   },
   {
    "duration": 6,
    "start_time": "2024-05-05T19:36:50.429Z"
   },
   {
    "duration": 18,
    "start_time": "2024-05-05T19:36:50.436Z"
   },
   {
    "duration": 18,
    "start_time": "2024-05-05T19:36:50.455Z"
   },
   {
    "duration": 10,
    "start_time": "2024-05-05T19:36:50.474Z"
   },
   {
    "duration": 5,
    "start_time": "2024-05-05T19:36:50.485Z"
   },
   {
    "duration": 6,
    "start_time": "2024-05-05T19:36:50.492Z"
   },
   {
    "duration": 4,
    "start_time": "2024-05-05T19:36:50.500Z"
   },
   {
    "duration": 23,
    "start_time": "2024-05-05T19:36:50.507Z"
   },
   {
    "duration": 4,
    "start_time": "2024-05-05T19:36:50.531Z"
   },
   {
    "duration": 6,
    "start_time": "2024-05-05T19:36:50.536Z"
   },
   {
    "duration": 27,
    "start_time": "2024-05-05T19:36:50.543Z"
   },
   {
    "duration": 10,
    "start_time": "2024-05-05T19:36:50.571Z"
   },
   {
    "duration": 177,
    "start_time": "2024-05-05T19:36:50.583Z"
   },
   {
    "duration": 135,
    "start_time": "2024-05-05T19:36:50.764Z"
   },
   {
    "duration": 218,
    "start_time": "2024-05-05T19:36:50.901Z"
   },
   {
    "duration": 256,
    "start_time": "2024-05-05T19:36:51.121Z"
   },
   {
    "duration": 280,
    "start_time": "2024-05-05T19:36:51.378Z"
   },
   {
    "duration": 29,
    "start_time": "2024-05-05T19:36:51.659Z"
   },
   {
    "duration": 14,
    "start_time": "2024-05-05T19:36:51.689Z"
   },
   {
    "duration": 18,
    "start_time": "2024-05-05T19:36:51.705Z"
   },
   {
    "duration": 495,
    "start_time": "2024-05-05T19:36:51.724Z"
   },
   {
    "duration": 307,
    "start_time": "2024-05-05T19:36:52.220Z"
   },
   {
    "duration": 13,
    "start_time": "2024-05-05T19:36:52.528Z"
   },
   {
    "duration": 24,
    "start_time": "2024-05-05T19:36:52.542Z"
   },
   {
    "duration": 4,
    "start_time": "2024-05-05T19:36:52.568Z"
   },
   {
    "duration": 30,
    "start_time": "2024-05-05T19:36:52.573Z"
   },
   {
    "duration": 21,
    "start_time": "2024-05-05T19:36:52.605Z"
   },
   {
    "duration": 6,
    "start_time": "2024-05-05T19:36:52.628Z"
   },
   {
    "duration": 5,
    "start_time": "2024-05-05T19:36:52.664Z"
   },
   {
    "duration": 20,
    "start_time": "2024-05-05T19:36:52.671Z"
   },
   {
    "duration": 19,
    "start_time": "2024-05-05T19:36:52.692Z"
   },
   {
    "duration": 14,
    "start_time": "2024-05-05T19:36:52.712Z"
   },
   {
    "duration": 11,
    "start_time": "2024-05-05T19:36:52.728Z"
   },
   {
    "duration": 1440,
    "start_time": "2024-05-05T19:36:52.740Z"
   },
   {
    "duration": 312,
    "start_time": "2024-05-05T19:36:54.184Z"
   },
   {
    "duration": 7,
    "start_time": "2024-05-05T19:37:08.876Z"
   },
   {
    "duration": 239,
    "start_time": "2024-05-05T19:39:21.212Z"
   },
   {
    "duration": 1427,
    "start_time": "2024-05-05T19:39:26.850Z"
   },
   {
    "duration": 164,
    "start_time": "2024-05-05T19:39:44.263Z"
   },
   {
    "duration": 714,
    "start_time": "2024-05-05T19:39:49.679Z"
   },
   {
    "duration": 1451,
    "start_time": "2024-05-05T19:39:57.191Z"
   },
   {
    "duration": 1010,
    "start_time": "2024-05-05T19:41:10.298Z"
   },
   {
    "duration": 66,
    "start_time": "2024-05-05T19:41:11.310Z"
   },
   {
    "duration": 11,
    "start_time": "2024-05-05T19:41:11.378Z"
   },
   {
    "duration": 14,
    "start_time": "2024-05-05T19:41:11.391Z"
   },
   {
    "duration": 16,
    "start_time": "2024-05-05T19:41:11.407Z"
   },
   {
    "duration": 24,
    "start_time": "2024-05-05T19:41:11.425Z"
   },
   {
    "duration": 6,
    "start_time": "2024-05-05T19:41:11.451Z"
   },
   {
    "duration": 13,
    "start_time": "2024-05-05T19:41:11.458Z"
   },
   {
    "duration": 13,
    "start_time": "2024-05-05T19:41:11.472Z"
   },
   {
    "duration": 10,
    "start_time": "2024-05-05T19:41:11.488Z"
   },
   {
    "duration": 5,
    "start_time": "2024-05-05T19:41:11.499Z"
   },
   {
    "duration": 6,
    "start_time": "2024-05-05T19:41:11.505Z"
   },
   {
    "duration": 5,
    "start_time": "2024-05-05T19:41:11.512Z"
   },
   {
    "duration": 6,
    "start_time": "2024-05-05T19:41:11.518Z"
   },
   {
    "duration": 3,
    "start_time": "2024-05-05T19:41:11.526Z"
   },
   {
    "duration": 35,
    "start_time": "2024-05-05T19:41:11.531Z"
   },
   {
    "duration": 7,
    "start_time": "2024-05-05T19:41:11.567Z"
   },
   {
    "duration": 5,
    "start_time": "2024-05-05T19:41:11.576Z"
   },
   {
    "duration": 187,
    "start_time": "2024-05-05T19:41:11.582Z"
   },
   {
    "duration": 144,
    "start_time": "2024-05-05T19:41:11.770Z"
   },
   {
    "duration": 189,
    "start_time": "2024-05-05T19:41:11.915Z"
   },
   {
    "duration": 260,
    "start_time": "2024-05-05T19:41:12.105Z"
   },
   {
    "duration": 258,
    "start_time": "2024-05-05T19:41:12.366Z"
   },
   {
    "duration": 24,
    "start_time": "2024-05-05T19:41:12.625Z"
   },
   {
    "duration": 15,
    "start_time": "2024-05-05T19:41:12.664Z"
   },
   {
    "duration": 13,
    "start_time": "2024-05-05T19:41:12.681Z"
   },
   {
    "duration": 496,
    "start_time": "2024-05-05T19:41:12.695Z"
   },
   {
    "duration": 288,
    "start_time": "2024-05-05T19:41:13.194Z"
   },
   {
    "duration": 13,
    "start_time": "2024-05-05T19:41:13.484Z"
   },
   {
    "duration": 21,
    "start_time": "2024-05-05T19:41:13.498Z"
   },
   {
    "duration": 4,
    "start_time": "2024-05-05T19:41:13.520Z"
   },
   {
    "duration": 40,
    "start_time": "2024-05-05T19:41:13.525Z"
   },
   {
    "duration": 18,
    "start_time": "2024-05-05T19:41:13.566Z"
   },
   {
    "duration": 4,
    "start_time": "2024-05-05T19:41:13.586Z"
   },
   {
    "duration": 5,
    "start_time": "2024-05-05T19:41:13.592Z"
   },
   {
    "duration": 4,
    "start_time": "2024-05-05T19:41:13.598Z"
   },
   {
    "duration": 25,
    "start_time": "2024-05-05T19:41:13.604Z"
   },
   {
    "duration": 19,
    "start_time": "2024-05-05T19:41:13.631Z"
   },
   {
    "duration": 9,
    "start_time": "2024-05-05T19:41:13.652Z"
   },
   {
    "duration": 1347,
    "start_time": "2024-05-05T19:41:13.663Z"
   },
   {
    "duration": 307,
    "start_time": "2024-05-05T19:41:15.012Z"
   },
   {
    "duration": 1335,
    "start_time": "2024-05-05T19:41:15.321Z"
   },
   {
    "duration": 8,
    "start_time": "2024-05-05T19:41:16.658Z"
   },
   {
    "duration": 1194,
    "start_time": "2024-05-05T20:09:24.061Z"
   },
   {
    "duration": 72,
    "start_time": "2024-05-05T20:09:25.257Z"
   },
   {
    "duration": 13,
    "start_time": "2024-05-05T20:09:25.333Z"
   },
   {
    "duration": 14,
    "start_time": "2024-05-05T20:09:25.349Z"
   },
   {
    "duration": 9,
    "start_time": "2024-05-05T20:09:25.365Z"
   },
   {
    "duration": 12,
    "start_time": "2024-05-05T20:09:25.376Z"
   },
   {
    "duration": 7,
    "start_time": "2024-05-05T20:09:25.389Z"
   },
   {
    "duration": 9,
    "start_time": "2024-05-05T20:09:25.397Z"
   },
   {
    "duration": 16,
    "start_time": "2024-05-05T20:09:25.408Z"
   },
   {
    "duration": 24,
    "start_time": "2024-05-05T20:09:25.425Z"
   },
   {
    "duration": 5,
    "start_time": "2024-05-05T20:09:25.451Z"
   },
   {
    "duration": 25,
    "start_time": "2024-05-05T20:09:25.458Z"
   },
   {
    "duration": 6,
    "start_time": "2024-05-05T20:09:25.485Z"
   },
   {
    "duration": 6,
    "start_time": "2024-05-05T20:09:25.493Z"
   },
   {
    "duration": 5,
    "start_time": "2024-05-05T20:09:25.500Z"
   },
   {
    "duration": 6,
    "start_time": "2024-05-05T20:09:25.506Z"
   },
   {
    "duration": 8,
    "start_time": "2024-05-05T20:09:25.513Z"
   },
   {
    "duration": 4,
    "start_time": "2024-05-05T20:09:25.522Z"
   },
   {
    "duration": 249,
    "start_time": "2024-05-05T20:09:25.528Z"
   },
   {
    "duration": 165,
    "start_time": "2024-05-05T20:09:25.778Z"
   },
   {
    "duration": 246,
    "start_time": "2024-05-05T20:09:25.945Z"
   },
   {
    "duration": 321,
    "start_time": "2024-05-05T20:09:26.193Z"
   },
   {
    "duration": 313,
    "start_time": "2024-05-05T20:09:26.516Z"
   },
   {
    "duration": 36,
    "start_time": "2024-05-05T20:09:26.832Z"
   },
   {
    "duration": 30,
    "start_time": "2024-05-05T20:09:26.870Z"
   },
   {
    "duration": 14,
    "start_time": "2024-05-05T20:09:26.901Z"
   },
   {
    "duration": 641,
    "start_time": "2024-05-05T20:09:26.917Z"
   },
   {
    "duration": 386,
    "start_time": "2024-05-05T20:09:27.560Z"
   },
   {
    "duration": 15,
    "start_time": "2024-05-05T20:09:27.948Z"
   },
   {
    "duration": 26,
    "start_time": "2024-05-05T20:09:27.964Z"
   },
   {
    "duration": 4,
    "start_time": "2024-05-05T20:09:27.992Z"
   },
   {
    "duration": 35,
    "start_time": "2024-05-05T20:09:27.997Z"
   },
   {
    "duration": 23,
    "start_time": "2024-05-05T20:09:28.033Z"
   },
   {
    "duration": 27,
    "start_time": "2024-05-05T20:09:28.057Z"
   },
   {
    "duration": 4,
    "start_time": "2024-05-05T20:09:28.085Z"
   },
   {
    "duration": 11,
    "start_time": "2024-05-05T20:09:28.091Z"
   },
   {
    "duration": 5,
    "start_time": "2024-05-05T20:09:28.104Z"
   },
   {
    "duration": 7,
    "start_time": "2024-05-05T20:09:28.110Z"
   },
   {
    "duration": 5,
    "start_time": "2024-05-05T20:09:28.119Z"
   },
   {
    "duration": 1675,
    "start_time": "2024-05-05T20:09:28.127Z"
   },
   {
    "duration": 342,
    "start_time": "2024-05-05T20:09:29.804Z"
   },
   {
    "duration": 1637,
    "start_time": "2024-05-05T20:09:30.148Z"
   },
   {
    "duration": 5,
    "start_time": "2024-05-05T20:09:31.787Z"
   },
   {
    "duration": 1133,
    "start_time": "2024-05-05T20:25:57.536Z"
   },
   {
    "duration": 76,
    "start_time": "2024-05-05T20:25:58.671Z"
   },
   {
    "duration": 16,
    "start_time": "2024-05-05T20:25:58.749Z"
   },
   {
    "duration": 11,
    "start_time": "2024-05-05T20:25:58.768Z"
   },
   {
    "duration": 11,
    "start_time": "2024-05-05T20:25:58.781Z"
   },
   {
    "duration": 12,
    "start_time": "2024-05-05T20:25:58.794Z"
   },
   {
    "duration": 7,
    "start_time": "2024-05-05T20:25:58.808Z"
   },
   {
    "duration": 14,
    "start_time": "2024-05-05T20:25:58.816Z"
   },
   {
    "duration": 15,
    "start_time": "2024-05-05T20:25:58.831Z"
   },
   {
    "duration": 40,
    "start_time": "2024-05-05T20:25:58.848Z"
   },
   {
    "duration": 6,
    "start_time": "2024-05-05T20:25:58.890Z"
   },
   {
    "duration": 7,
    "start_time": "2024-05-05T20:25:58.898Z"
   },
   {
    "duration": 5,
    "start_time": "2024-05-05T20:25:58.906Z"
   },
   {
    "duration": 7,
    "start_time": "2024-05-05T20:25:58.913Z"
   },
   {
    "duration": 4,
    "start_time": "2024-05-05T20:25:58.921Z"
   },
   {
    "duration": 8,
    "start_time": "2024-05-05T20:25:58.927Z"
   },
   {
    "duration": 51,
    "start_time": "2024-05-05T20:25:58.936Z"
   },
   {
    "duration": 5,
    "start_time": "2024-05-05T20:25:58.988Z"
   },
   {
    "duration": 206,
    "start_time": "2024-05-05T20:25:58.995Z"
   },
   {
    "duration": 157,
    "start_time": "2024-05-05T20:25:59.203Z"
   },
   {
    "duration": 229,
    "start_time": "2024-05-05T20:25:59.361Z"
   },
   {
    "duration": 319,
    "start_time": "2024-05-05T20:25:59.592Z"
   },
   {
    "duration": 365,
    "start_time": "2024-05-05T20:25:59.913Z"
   },
   {
    "duration": 32,
    "start_time": "2024-05-05T20:26:00.282Z"
   },
   {
    "duration": 57,
    "start_time": "2024-05-05T20:26:00.315Z"
   },
   {
    "duration": 24,
    "start_time": "2024-05-05T20:26:00.374Z"
   },
   {
    "duration": 640,
    "start_time": "2024-05-05T20:26:00.399Z"
   },
   {
    "duration": 357,
    "start_time": "2024-05-05T20:26:01.044Z"
   },
   {
    "duration": 16,
    "start_time": "2024-05-05T20:26:01.403Z"
   },
   {
    "duration": 41,
    "start_time": "2024-05-05T20:26:01.421Z"
   },
   {
    "duration": 5,
    "start_time": "2024-05-05T20:26:01.463Z"
   },
   {
    "duration": 53,
    "start_time": "2024-05-05T20:26:01.470Z"
   },
   {
    "duration": 24,
    "start_time": "2024-05-05T20:26:01.525Z"
   },
   {
    "duration": 5,
    "start_time": "2024-05-05T20:26:01.551Z"
   },
   {
    "duration": 8,
    "start_time": "2024-05-05T20:26:01.558Z"
   },
   {
    "duration": 23,
    "start_time": "2024-05-05T20:26:01.568Z"
   },
   {
    "duration": 10,
    "start_time": "2024-05-05T20:26:01.593Z"
   },
   {
    "duration": 7,
    "start_time": "2024-05-05T20:26:01.605Z"
   },
   {
    "duration": 13,
    "start_time": "2024-05-05T20:26:01.614Z"
   },
   {
    "duration": 1661,
    "start_time": "2024-05-05T20:26:01.629Z"
   },
   {
    "duration": 331,
    "start_time": "2024-05-05T20:26:03.292Z"
   },
   {
    "duration": 1663,
    "start_time": "2024-05-05T20:26:03.624Z"
   },
   {
    "duration": 6,
    "start_time": "2024-05-05T20:26:05.289Z"
   },
   {
    "duration": 165,
    "start_time": "2024-05-05T20:30:40.517Z"
   },
   {
    "duration": 215,
    "start_time": "2024-05-05T20:31:23.208Z"
   },
   {
    "duration": 32,
    "start_time": "2024-05-05T20:32:13.457Z"
   },
   {
    "duration": 115,
    "start_time": "2024-05-05T20:34:21.422Z"
   },
   {
    "duration": 1148,
    "start_time": "2024-05-05T20:40:48.512Z"
   },
   {
    "duration": 72,
    "start_time": "2024-05-05T20:40:49.662Z"
   },
   {
    "duration": 15,
    "start_time": "2024-05-05T20:40:49.736Z"
   },
   {
    "duration": 11,
    "start_time": "2024-05-05T20:40:49.752Z"
   },
   {
    "duration": 9,
    "start_time": "2024-05-05T20:40:49.765Z"
   },
   {
    "duration": 11,
    "start_time": "2024-05-05T20:40:49.776Z"
   },
   {
    "duration": 7,
    "start_time": "2024-05-05T20:40:49.789Z"
   },
   {
    "duration": 18,
    "start_time": "2024-05-05T20:40:49.797Z"
   },
   {
    "duration": 17,
    "start_time": "2024-05-05T20:40:49.817Z"
   },
   {
    "duration": 13,
    "start_time": "2024-05-05T20:40:49.836Z"
   },
   {
    "duration": 33,
    "start_time": "2024-05-05T20:40:49.850Z"
   },
   {
    "duration": 6,
    "start_time": "2024-05-05T20:40:49.885Z"
   },
   {
    "duration": 5,
    "start_time": "2024-05-05T20:40:49.893Z"
   },
   {
    "duration": 7,
    "start_time": "2024-05-05T20:40:49.901Z"
   },
   {
    "duration": 5,
    "start_time": "2024-05-05T20:40:49.909Z"
   },
   {
    "duration": 5,
    "start_time": "2024-05-05T20:40:49.916Z"
   },
   {
    "duration": 8,
    "start_time": "2024-05-05T20:40:49.923Z"
   },
   {
    "duration": 49,
    "start_time": "2024-05-05T20:40:49.932Z"
   },
   {
    "duration": 200,
    "start_time": "2024-05-05T20:40:49.983Z"
   },
   {
    "duration": 162,
    "start_time": "2024-05-05T20:40:50.185Z"
   },
   {
    "duration": 225,
    "start_time": "2024-05-05T20:40:50.349Z"
   },
   {
    "duration": 297,
    "start_time": "2024-05-05T20:40:50.575Z"
   },
   {
    "duration": 299,
    "start_time": "2024-05-05T20:40:50.874Z"
   },
   {
    "duration": 30,
    "start_time": "2024-05-05T20:40:51.184Z"
   },
   {
    "duration": 16,
    "start_time": "2024-05-05T20:40:51.215Z"
   },
   {
    "duration": 16,
    "start_time": "2024-05-05T20:40:51.233Z"
   },
   {
    "duration": 588,
    "start_time": "2024-05-05T20:40:51.251Z"
   },
   {
    "duration": 354,
    "start_time": "2024-05-05T20:40:51.841Z"
   },
   {
    "duration": 13,
    "start_time": "2024-05-05T20:40:52.197Z"
   },
   {
    "duration": 17,
    "start_time": "2024-05-05T20:40:52.212Z"
   },
   {
    "duration": 4,
    "start_time": "2024-05-05T20:40:52.230Z"
   },
   {
    "duration": 54,
    "start_time": "2024-05-05T20:40:52.235Z"
   },
   {
    "duration": 24,
    "start_time": "2024-05-05T20:40:52.291Z"
   },
   {
    "duration": 5,
    "start_time": "2024-05-05T20:40:52.316Z"
   },
   {
    "duration": 7,
    "start_time": "2024-05-05T20:40:52.322Z"
   },
   {
    "duration": 8,
    "start_time": "2024-05-05T20:40:52.330Z"
   },
   {
    "duration": 13,
    "start_time": "2024-05-05T20:40:52.340Z"
   },
   {
    "duration": 7,
    "start_time": "2024-05-05T20:40:52.381Z"
   },
   {
    "duration": 20,
    "start_time": "2024-05-05T20:40:52.389Z"
   },
   {
    "duration": 1588,
    "start_time": "2024-05-05T20:40:52.410Z"
   },
   {
    "duration": 360,
    "start_time": "2024-05-05T20:40:54.002Z"
   },
   {
    "duration": 1614,
    "start_time": "2024-05-05T20:40:54.363Z"
   },
   {
    "duration": 6,
    "start_time": "2024-05-05T20:40:55.979Z"
   },
   {
    "duration": 51,
    "start_time": "2024-05-06T07:47:43.383Z"
   },
   {
    "duration": 1351,
    "start_time": "2024-05-06T07:47:53.684Z"
   },
   {
    "duration": 290,
    "start_time": "2024-05-06T07:47:55.038Z"
   },
   {
    "duration": 15,
    "start_time": "2024-05-06T07:47:55.329Z"
   },
   {
    "duration": 17,
    "start_time": "2024-05-06T07:47:55.345Z"
   },
   {
    "duration": 25,
    "start_time": "2024-05-06T07:47:55.365Z"
   },
   {
    "duration": 18,
    "start_time": "2024-05-06T07:47:55.392Z"
   },
   {
    "duration": 8,
    "start_time": "2024-05-06T07:47:55.412Z"
   },
   {
    "duration": 19,
    "start_time": "2024-05-06T07:47:55.422Z"
   },
   {
    "duration": 28,
    "start_time": "2024-05-06T07:47:55.443Z"
   },
   {
    "duration": 15,
    "start_time": "2024-05-06T07:47:55.473Z"
   },
   {
    "duration": 13,
    "start_time": "2024-05-06T07:47:55.490Z"
   },
   {
    "duration": 4,
    "start_time": "2024-05-06T07:48:14.336Z"
   },
   {
    "duration": 192,
    "start_time": "2024-05-06T07:49:56.541Z"
   },
   {
    "duration": 185,
    "start_time": "2024-05-06T08:01:48.332Z"
   },
   {
    "duration": 1201,
    "start_time": "2024-05-06T08:02:00.646Z"
   },
   {
    "duration": 69,
    "start_time": "2024-05-06T08:02:01.849Z"
   },
   {
    "duration": 63,
    "start_time": "2024-05-06T08:02:01.920Z"
   },
   {
    "duration": 86,
    "start_time": "2024-05-06T08:02:01.985Z"
   },
   {
    "duration": 161,
    "start_time": "2024-05-06T08:02:02.073Z"
   },
   {
    "duration": 84,
    "start_time": "2024-05-06T08:02:02.236Z"
   },
   {
    "duration": 87,
    "start_time": "2024-05-06T08:02:02.322Z"
   },
   {
    "duration": 97,
    "start_time": "2024-05-06T08:02:02.411Z"
   },
   {
    "duration": 116,
    "start_time": "2024-05-06T08:02:02.510Z"
   },
   {
    "duration": 124,
    "start_time": "2024-05-06T08:02:02.627Z"
   },
   {
    "duration": 56,
    "start_time": "2024-05-06T08:02:02.753Z"
   },
   {
    "duration": 103,
    "start_time": "2024-05-06T08:02:02.810Z"
   },
   {
    "duration": 44,
    "start_time": "2024-05-06T08:02:02.915Z"
   },
   {
    "duration": 43,
    "start_time": "2024-05-06T08:02:02.963Z"
   },
   {
    "duration": 30,
    "start_time": "2024-05-06T08:02:03.007Z"
   },
   {
    "duration": 47,
    "start_time": "2024-05-06T08:02:03.038Z"
   },
   {
    "duration": 79,
    "start_time": "2024-05-06T08:02:03.087Z"
   },
   {
    "duration": 37,
    "start_time": "2024-05-06T08:02:03.167Z"
   },
   {
    "duration": 27,
    "start_time": "2024-05-06T08:02:03.205Z"
   },
   {
    "duration": 231,
    "start_time": "2024-05-06T08:02:03.233Z"
   },
   {
    "duration": 163,
    "start_time": "2024-05-06T08:02:03.466Z"
   },
   {
    "duration": 238,
    "start_time": "2024-05-06T08:02:03.630Z"
   },
   {
    "duration": 324,
    "start_time": "2024-05-06T08:02:03.870Z"
   },
   {
    "duration": 299,
    "start_time": "2024-05-06T08:02:04.196Z"
   },
   {
    "duration": 27,
    "start_time": "2024-05-06T08:02:04.497Z"
   },
   {
    "duration": 17,
    "start_time": "2024-05-06T08:02:04.526Z"
   },
   {
    "duration": 15,
    "start_time": "2024-05-06T08:02:04.559Z"
   },
   {
    "duration": 589,
    "start_time": "2024-05-06T08:02:04.576Z"
   },
   {
    "duration": 366,
    "start_time": "2024-05-06T08:02:05.167Z"
   },
   {
    "duration": 15,
    "start_time": "2024-05-06T08:02:05.535Z"
   },
   {
    "duration": 18,
    "start_time": "2024-05-06T08:02:05.559Z"
   },
   {
    "duration": 17,
    "start_time": "2024-05-06T08:02:05.579Z"
   },
   {
    "duration": 49,
    "start_time": "2024-05-06T08:02:05.598Z"
   },
   {
    "duration": 25,
    "start_time": "2024-05-06T08:02:05.649Z"
   },
   {
    "duration": 77,
    "start_time": "2024-05-06T08:02:05.675Z"
   },
   {
    "duration": 63,
    "start_time": "2024-05-06T08:02:05.754Z"
   },
   {
    "duration": 21,
    "start_time": "2024-05-06T08:02:05.819Z"
   },
   {
    "duration": 27,
    "start_time": "2024-05-06T08:02:05.842Z"
   },
   {
    "duration": 35,
    "start_time": "2024-05-06T08:02:05.871Z"
   },
   {
    "duration": 33,
    "start_time": "2024-05-06T08:02:05.907Z"
   },
   {
    "duration": 1542,
    "start_time": "2024-05-06T08:02:05.944Z"
   },
   {
    "duration": 343,
    "start_time": "2024-05-06T08:02:07.488Z"
   },
   {
    "duration": 1568,
    "start_time": "2024-05-06T08:02:07.833Z"
   },
   {
    "duration": 6,
    "start_time": "2024-05-06T08:02:09.402Z"
   },
   {
    "duration": 176,
    "start_time": "2024-05-06T08:04:55.100Z"
   },
   {
    "duration": 272,
    "start_time": "2024-05-06T08:07:44.263Z"
   },
   {
    "duration": 451,
    "start_time": "2024-05-06T08:07:55.809Z"
   },
   {
    "duration": 356,
    "start_time": "2024-05-06T08:08:39.964Z"
   },
   {
    "duration": 198,
    "start_time": "2024-05-06T08:09:19.816Z"
   },
   {
    "duration": 102,
    "start_time": "2024-05-06T08:12:16.998Z"
   },
   {
    "duration": 1168,
    "start_time": "2024-05-06T08:31:52.366Z"
   },
   {
    "duration": 66,
    "start_time": "2024-05-06T08:31:53.536Z"
   },
   {
    "duration": 14,
    "start_time": "2024-05-06T08:31:53.604Z"
   },
   {
    "duration": 12,
    "start_time": "2024-05-06T08:31:53.620Z"
   },
   {
    "duration": 10,
    "start_time": "2024-05-06T08:31:53.633Z"
   },
   {
    "duration": 17,
    "start_time": "2024-05-06T08:31:53.645Z"
   },
   {
    "duration": 10,
    "start_time": "2024-05-06T08:31:53.664Z"
   },
   {
    "duration": 24,
    "start_time": "2024-05-06T08:31:53.675Z"
   },
   {
    "duration": 20,
    "start_time": "2024-05-06T08:31:53.701Z"
   },
   {
    "duration": 13,
    "start_time": "2024-05-06T08:31:53.724Z"
   },
   {
    "duration": 4,
    "start_time": "2024-05-06T08:31:53.738Z"
   },
   {
    "duration": 16,
    "start_time": "2024-05-06T08:31:53.744Z"
   },
   {
    "duration": 10,
    "start_time": "2024-05-06T08:31:53.761Z"
   },
   {
    "duration": 6,
    "start_time": "2024-05-06T08:31:53.772Z"
   },
   {
    "duration": 20,
    "start_time": "2024-05-06T08:31:53.779Z"
   },
   {
    "duration": 5,
    "start_time": "2024-05-06T08:31:53.801Z"
   },
   {
    "duration": 17,
    "start_time": "2024-05-06T08:31:53.808Z"
   },
   {
    "duration": 15,
    "start_time": "2024-05-06T08:31:53.827Z"
   },
   {
    "duration": 18,
    "start_time": "2024-05-06T08:31:53.843Z"
   },
   {
    "duration": 216,
    "start_time": "2024-05-06T08:31:53.863Z"
   },
   {
    "duration": 105,
    "start_time": "2024-05-06T08:31:54.081Z"
   },
   {
    "duration": 233,
    "start_time": "2024-05-06T08:31:54.187Z"
   },
   {
    "duration": 294,
    "start_time": "2024-05-06T08:31:54.421Z"
   },
   {
    "duration": 290,
    "start_time": "2024-05-06T08:31:54.717Z"
   },
   {
    "duration": 27,
    "start_time": "2024-05-06T08:31:55.009Z"
   },
   {
    "duration": 29,
    "start_time": "2024-05-06T08:31:55.037Z"
   },
   {
    "duration": 16,
    "start_time": "2024-05-06T08:31:55.068Z"
   },
   {
    "duration": 616,
    "start_time": "2024-05-06T08:31:55.089Z"
   },
   {
    "duration": 352,
    "start_time": "2024-05-06T08:31:55.707Z"
   },
   {
    "duration": 15,
    "start_time": "2024-05-06T08:31:56.060Z"
   },
   {
    "duration": 15,
    "start_time": "2024-05-06T08:31:56.076Z"
   },
   {
    "duration": 4,
    "start_time": "2024-05-06T08:31:56.093Z"
   },
   {
    "duration": 37,
    "start_time": "2024-05-06T08:31:56.098Z"
   },
   {
    "duration": 41,
    "start_time": "2024-05-06T08:31:56.137Z"
   },
   {
    "duration": 5,
    "start_time": "2024-05-06T08:31:56.180Z"
   },
   {
    "duration": 11,
    "start_time": "2024-05-06T08:31:56.187Z"
   },
   {
    "duration": 22,
    "start_time": "2024-05-06T08:31:56.200Z"
   },
   {
    "duration": 34,
    "start_time": "2024-05-06T08:31:56.224Z"
   },
   {
    "duration": 18,
    "start_time": "2024-05-06T08:31:56.260Z"
   },
   {
    "duration": 20,
    "start_time": "2024-05-06T08:31:56.280Z"
   },
   {
    "duration": 1557,
    "start_time": "2024-05-06T08:31:56.302Z"
   },
   {
    "duration": 359,
    "start_time": "2024-05-06T08:31:57.860Z"
   },
   {
    "duration": 1585,
    "start_time": "2024-05-06T08:31:58.221Z"
   },
   {
    "duration": 6,
    "start_time": "2024-05-06T08:31:59.807Z"
   },
   {
    "duration": 476,
    "start_time": "2024-05-06T08:43:39.997Z"
   },
   {
    "duration": 107,
    "start_time": "2024-05-06T08:43:49.440Z"
   },
   {
    "duration": 295,
    "start_time": "2024-05-06T08:44:09.107Z"
   },
   {
    "duration": 197,
    "start_time": "2024-05-06T08:44:28.878Z"
   },
   {
    "duration": 204,
    "start_time": "2024-05-06T08:44:49.939Z"
   },
   {
    "duration": 101,
    "start_time": "2024-05-06T08:45:12.506Z"
   },
   {
    "duration": 9,
    "start_time": "2024-05-06T08:45:47.135Z"
   },
   {
    "duration": 179,
    "start_time": "2024-05-06T08:46:30.020Z"
   },
   {
    "duration": 211,
    "start_time": "2024-05-06T08:46:36.217Z"
   },
   {
    "duration": 217,
    "start_time": "2024-05-06T08:46:40.920Z"
   },
   {
    "duration": 207,
    "start_time": "2024-05-06T08:46:44.789Z"
   },
   {
    "duration": 403,
    "start_time": "2024-05-06T08:46:48.552Z"
   },
   {
    "duration": 6,
    "start_time": "2024-05-06T08:50:37.681Z"
   },
   {
    "duration": 271,
    "start_time": "2024-05-06T08:55:53.118Z"
   },
   {
    "duration": 190,
    "start_time": "2024-05-06T08:56:07.863Z"
   },
   {
    "duration": 206,
    "start_time": "2024-05-06T08:57:12.833Z"
   },
   {
    "duration": 201,
    "start_time": "2024-05-06T08:57:37.315Z"
   },
   {
    "duration": 191,
    "start_time": "2024-05-06T08:57:47.693Z"
   },
   {
    "duration": 200,
    "start_time": "2024-05-06T08:59:53.886Z"
   },
   {
    "duration": 6,
    "start_time": "2024-05-06T08:59:58.654Z"
   },
   {
    "duration": 6,
    "start_time": "2024-05-06T09:00:59.288Z"
   },
   {
    "duration": 7,
    "start_time": "2024-05-06T09:01:50.196Z"
   },
   {
    "duration": 5,
    "start_time": "2024-05-06T09:01:57.407Z"
   },
   {
    "duration": 6,
    "start_time": "2024-05-06T09:03:58.776Z"
   },
   {
    "duration": 212,
    "start_time": "2024-05-06T09:05:49.849Z"
   },
   {
    "duration": 218,
    "start_time": "2024-05-06T09:06:33.788Z"
   },
   {
    "duration": 221,
    "start_time": "2024-05-06T09:06:37.088Z"
   },
   {
    "duration": 9,
    "start_time": "2024-05-06T09:07:12.299Z"
   },
   {
    "duration": 11,
    "start_time": "2024-05-06T09:08:23.138Z"
   },
   {
    "duration": 8,
    "start_time": "2024-05-06T09:08:28.677Z"
   },
   {
    "duration": 321,
    "start_time": "2024-05-06T09:12:29.385Z"
   },
   {
    "duration": 319,
    "start_time": "2024-05-06T09:12:43.727Z"
   },
   {
    "duration": 309,
    "start_time": "2024-05-06T09:13:12.002Z"
   },
   {
    "duration": 1147,
    "start_time": "2024-05-06T09:15:25.301Z"
   },
   {
    "duration": 70,
    "start_time": "2024-05-06T09:15:26.449Z"
   },
   {
    "duration": 12,
    "start_time": "2024-05-06T09:15:26.520Z"
   },
   {
    "duration": 15,
    "start_time": "2024-05-06T09:15:26.534Z"
   },
   {
    "duration": 12,
    "start_time": "2024-05-06T09:15:26.552Z"
   },
   {
    "duration": 12,
    "start_time": "2024-05-06T09:15:26.565Z"
   },
   {
    "duration": 7,
    "start_time": "2024-05-06T09:15:26.579Z"
   },
   {
    "duration": 18,
    "start_time": "2024-05-06T09:15:26.587Z"
   },
   {
    "duration": 19,
    "start_time": "2024-05-06T09:15:26.607Z"
   },
   {
    "duration": 32,
    "start_time": "2024-05-06T09:15:26.627Z"
   },
   {
    "duration": 4,
    "start_time": "2024-05-06T09:15:26.661Z"
   },
   {
    "duration": 7,
    "start_time": "2024-05-06T09:15:26.666Z"
   },
   {
    "duration": 8,
    "start_time": "2024-05-06T09:15:26.674Z"
   },
   {
    "duration": 14,
    "start_time": "2024-05-06T09:15:26.685Z"
   },
   {
    "duration": 14,
    "start_time": "2024-05-06T09:15:26.700Z"
   },
   {
    "duration": 9,
    "start_time": "2024-05-06T09:15:26.715Z"
   },
   {
    "duration": 34,
    "start_time": "2024-05-06T09:15:26.726Z"
   },
   {
    "duration": 8,
    "start_time": "2024-05-06T09:15:26.762Z"
   },
   {
    "duration": 15,
    "start_time": "2024-05-06T09:15:26.772Z"
   },
   {
    "duration": 232,
    "start_time": "2024-05-06T09:15:26.788Z"
   },
   {
    "duration": 6,
    "start_time": "2024-05-06T09:15:27.022Z"
   },
   {
    "duration": 117,
    "start_time": "2024-05-06T09:15:27.029Z"
   },
   {
    "duration": 12,
    "start_time": "2024-05-06T09:15:27.148Z"
   },
   {
    "duration": 11,
    "start_time": "2024-05-06T09:15:27.161Z"
   },
   {
    "duration": 214,
    "start_time": "2024-05-06T09:15:27.174Z"
   },
   {
    "duration": 8,
    "start_time": "2024-05-06T09:15:27.390Z"
   },
   {
    "duration": 331,
    "start_time": "2024-05-06T09:15:27.400Z"
   },
   {
    "duration": 9,
    "start_time": "2024-05-06T09:15:27.733Z"
   },
   {
    "duration": 328,
    "start_time": "2024-05-06T09:15:27.743Z"
   },
   {
    "duration": 9,
    "start_time": "2024-05-06T09:15:28.073Z"
   },
   {
    "duration": 58,
    "start_time": "2024-05-06T09:15:28.084Z"
   },
   {
    "duration": 19,
    "start_time": "2024-05-06T09:15:28.144Z"
   },
   {
    "duration": 16,
    "start_time": "2024-05-06T09:15:28.165Z"
   },
   {
    "duration": 603,
    "start_time": "2024-05-06T09:15:28.183Z"
   },
   {
    "duration": 346,
    "start_time": "2024-05-06T09:15:28.788Z"
   },
   {
    "duration": 14,
    "start_time": "2024-05-06T09:15:29.136Z"
   },
   {
    "duration": 21,
    "start_time": "2024-05-06T09:15:29.152Z"
   },
   {
    "duration": 4,
    "start_time": "2024-05-06T09:15:29.175Z"
   },
   {
    "duration": 54,
    "start_time": "2024-05-06T09:15:29.181Z"
   },
   {
    "duration": 28,
    "start_time": "2024-05-06T09:15:29.236Z"
   },
   {
    "duration": 4,
    "start_time": "2024-05-06T09:15:29.268Z"
   },
   {
    "duration": 23,
    "start_time": "2024-05-06T09:15:29.274Z"
   },
   {
    "duration": 6,
    "start_time": "2024-05-06T09:15:29.299Z"
   },
   {
    "duration": 8,
    "start_time": "2024-05-06T09:15:29.307Z"
   },
   {
    "duration": 6,
    "start_time": "2024-05-06T09:15:29.317Z"
   },
   {
    "duration": 6,
    "start_time": "2024-05-06T09:15:29.324Z"
   },
   {
    "duration": 1656,
    "start_time": "2024-05-06T09:15:29.331Z"
   },
   {
    "duration": 377,
    "start_time": "2024-05-06T09:15:30.988Z"
   },
   {
    "duration": 1660,
    "start_time": "2024-05-06T09:15:31.367Z"
   },
   {
    "duration": 7,
    "start_time": "2024-05-06T09:15:33.028Z"
   },
   {
    "duration": 17,
    "start_time": "2024-05-06T09:15:55.247Z"
   },
   {
    "duration": 16,
    "start_time": "2024-05-06T09:15:56.830Z"
   },
   {
    "duration": 21,
    "start_time": "2024-05-06T09:16:30.699Z"
   },
   {
    "duration": 15,
    "start_time": "2024-05-06T09:17:00.551Z"
   },
   {
    "duration": 560,
    "start_time": "2024-05-06T09:27:06.066Z"
   },
   {
    "duration": 724,
    "start_time": "2024-05-06T09:27:16.249Z"
   },
   {
    "duration": 383,
    "start_time": "2024-05-06T09:27:38.549Z"
   },
   {
    "duration": 8,
    "start_time": "2024-05-06T09:28:48.825Z"
   },
   {
    "duration": 9,
    "start_time": "2024-05-06T09:28:50.762Z"
   },
   {
    "duration": 9,
    "start_time": "2024-05-06T09:29:17.106Z"
   },
   {
    "duration": 9,
    "start_time": "2024-05-06T09:29:19.905Z"
   },
   {
    "duration": 7,
    "start_time": "2024-05-06T09:32:30.794Z"
   },
   {
    "duration": 5,
    "start_time": "2024-05-06T09:32:50.412Z"
   },
   {
    "duration": 5,
    "start_time": "2024-05-06T09:32:57.461Z"
   },
   {
    "duration": 7,
    "start_time": "2024-05-06T09:33:01.955Z"
   },
   {
    "duration": 1156,
    "start_time": "2024-05-06T09:33:23.081Z"
   },
   {
    "duration": 71,
    "start_time": "2024-05-06T09:33:24.239Z"
   },
   {
    "duration": 12,
    "start_time": "2024-05-06T09:33:24.312Z"
   },
   {
    "duration": 13,
    "start_time": "2024-05-06T09:33:24.326Z"
   },
   {
    "duration": 21,
    "start_time": "2024-05-06T09:33:24.342Z"
   },
   {
    "duration": 42,
    "start_time": "2024-05-06T09:33:24.364Z"
   },
   {
    "duration": 51,
    "start_time": "2024-05-06T09:33:24.408Z"
   },
   {
    "duration": 20,
    "start_time": "2024-05-06T09:33:24.462Z"
   },
   {
    "duration": 29,
    "start_time": "2024-05-06T09:33:24.484Z"
   },
   {
    "duration": 13,
    "start_time": "2024-05-06T09:33:24.514Z"
   },
   {
    "duration": 55,
    "start_time": "2024-05-06T09:33:24.528Z"
   },
   {
    "duration": 25,
    "start_time": "2024-05-06T09:33:24.584Z"
   },
   {
    "duration": 49,
    "start_time": "2024-05-06T09:33:24.611Z"
   },
   {
    "duration": 20,
    "start_time": "2024-05-06T09:33:24.663Z"
   },
   {
    "duration": 13,
    "start_time": "2024-05-06T09:33:24.684Z"
   },
   {
    "duration": 9,
    "start_time": "2024-05-06T09:33:24.699Z"
   },
   {
    "duration": 10,
    "start_time": "2024-05-06T09:33:24.710Z"
   },
   {
    "duration": 18,
    "start_time": "2024-05-06T09:33:24.721Z"
   },
   {
    "duration": 10,
    "start_time": "2024-05-06T09:33:24.741Z"
   },
   {
    "duration": 219,
    "start_time": "2024-05-06T09:33:24.752Z"
   },
   {
    "duration": 6,
    "start_time": "2024-05-06T09:33:24.972Z"
   },
   {
    "duration": 110,
    "start_time": "2024-05-06T09:33:24.980Z"
   },
   {
    "duration": 6,
    "start_time": "2024-05-06T09:33:25.092Z"
   },
   {
    "duration": 7,
    "start_time": "2024-05-06T09:33:25.099Z"
   },
   {
    "duration": 247,
    "start_time": "2024-05-06T09:33:25.107Z"
   },
   {
    "duration": 9,
    "start_time": "2024-05-06T09:33:25.356Z"
   },
   {
    "duration": 339,
    "start_time": "2024-05-06T09:33:25.368Z"
   },
   {
    "duration": 10,
    "start_time": "2024-05-06T09:33:25.709Z"
   },
   {
    "duration": 332,
    "start_time": "2024-05-06T09:33:25.721Z"
   },
   {
    "duration": 10,
    "start_time": "2024-05-06T09:33:26.055Z"
   },
   {
    "duration": 31,
    "start_time": "2024-05-06T09:33:26.066Z"
   },
   {
    "duration": 26,
    "start_time": "2024-05-06T09:33:26.098Z"
   },
   {
    "duration": 22,
    "start_time": "2024-05-06T09:33:26.125Z"
   },
   {
    "duration": 32,
    "start_time": "2024-05-06T09:33:26.148Z"
   },
   {
    "duration": 21,
    "start_time": "2024-05-06T09:33:26.181Z"
   },
   {
    "duration": 637,
    "start_time": "2024-05-06T09:33:26.204Z"
   },
   {
    "duration": 17,
    "start_time": "2024-05-06T09:33:26.842Z"
   },
   {
    "duration": 8,
    "start_time": "2024-05-06T09:33:26.861Z"
   },
   {
    "duration": 369,
    "start_time": "2024-05-06T09:33:26.871Z"
   },
   {
    "duration": 18,
    "start_time": "2024-05-06T09:33:27.242Z"
   },
   {
    "duration": 9,
    "start_time": "2024-05-06T09:33:27.265Z"
   },
   {
    "duration": 21,
    "start_time": "2024-05-06T09:33:27.276Z"
   },
   {
    "duration": 21,
    "start_time": "2024-05-06T09:33:27.298Z"
   },
   {
    "duration": 4,
    "start_time": "2024-05-06T09:33:27.320Z"
   },
   {
    "duration": 57,
    "start_time": "2024-05-06T09:33:27.326Z"
   },
   {
    "duration": 24,
    "start_time": "2024-05-06T09:33:27.385Z"
   },
   {
    "duration": 5,
    "start_time": "2024-05-06T09:33:27.411Z"
   },
   {
    "duration": 5,
    "start_time": "2024-05-06T09:33:27.418Z"
   },
   {
    "duration": 15,
    "start_time": "2024-05-06T09:33:27.425Z"
   },
   {
    "duration": 4,
    "start_time": "2024-05-06T09:33:27.459Z"
   },
   {
    "duration": 10,
    "start_time": "2024-05-06T09:33:27.465Z"
   },
   {
    "duration": 9,
    "start_time": "2024-05-06T09:33:27.476Z"
   },
   {
    "duration": 1591,
    "start_time": "2024-05-06T09:33:27.487Z"
   },
   {
    "duration": 365,
    "start_time": "2024-05-06T09:33:29.080Z"
   },
   {
    "duration": 1718,
    "start_time": "2024-05-06T09:33:29.447Z"
   },
   {
    "duration": 6,
    "start_time": "2024-05-06T09:33:31.167Z"
   },
   {
    "duration": 102,
    "start_time": "2024-05-06T09:34:16.686Z"
   },
   {
    "duration": 5,
    "start_time": "2024-05-06T09:34:23.542Z"
   },
   {
    "duration": 1165,
    "start_time": "2024-05-06T09:34:51.999Z"
   },
   {
    "duration": 78,
    "start_time": "2024-05-06T09:34:53.166Z"
   },
   {
    "duration": 13,
    "start_time": "2024-05-06T09:34:53.246Z"
   },
   {
    "duration": 68,
    "start_time": "2024-05-06T09:34:53.260Z"
   },
   {
    "duration": 46,
    "start_time": "2024-05-06T09:34:53.331Z"
   },
   {
    "duration": 26,
    "start_time": "2024-05-06T09:34:53.379Z"
   },
   {
    "duration": 25,
    "start_time": "2024-05-06T09:34:53.407Z"
   },
   {
    "duration": 41,
    "start_time": "2024-05-06T09:34:53.434Z"
   },
   {
    "duration": 37,
    "start_time": "2024-05-06T09:34:53.477Z"
   },
   {
    "duration": 22,
    "start_time": "2024-05-06T09:34:53.515Z"
   },
   {
    "duration": 33,
    "start_time": "2024-05-06T09:34:53.538Z"
   },
   {
    "duration": 43,
    "start_time": "2024-05-06T09:34:53.572Z"
   },
   {
    "duration": 26,
    "start_time": "2024-05-06T09:34:53.616Z"
   },
   {
    "duration": 26,
    "start_time": "2024-05-06T09:34:53.645Z"
   },
   {
    "duration": 20,
    "start_time": "2024-05-06T09:34:53.673Z"
   },
   {
    "duration": 38,
    "start_time": "2024-05-06T09:34:53.695Z"
   },
   {
    "duration": 21,
    "start_time": "2024-05-06T09:34:53.735Z"
   },
   {
    "duration": 28,
    "start_time": "2024-05-06T09:34:53.758Z"
   },
   {
    "duration": 22,
    "start_time": "2024-05-06T09:34:53.788Z"
   },
   {
    "duration": 209,
    "start_time": "2024-05-06T09:34:53.813Z"
   },
   {
    "duration": 7,
    "start_time": "2024-05-06T09:34:54.024Z"
   },
   {
    "duration": 118,
    "start_time": "2024-05-06T09:34:54.033Z"
   },
   {
    "duration": 5,
    "start_time": "2024-05-06T09:34:54.158Z"
   },
   {
    "duration": 37,
    "start_time": "2024-05-06T09:34:54.165Z"
   },
   {
    "duration": 236,
    "start_time": "2024-05-06T09:34:54.204Z"
   },
   {
    "duration": 17,
    "start_time": "2024-05-06T09:34:54.442Z"
   },
   {
    "duration": 391,
    "start_time": "2024-05-06T09:34:54.461Z"
   },
   {
    "duration": 11,
    "start_time": "2024-05-06T09:34:54.853Z"
   },
   {
    "duration": 322,
    "start_time": "2024-05-06T09:34:54.865Z"
   },
   {
    "duration": 8,
    "start_time": "2024-05-06T09:34:55.188Z"
   },
   {
    "duration": 33,
    "start_time": "2024-05-06T09:34:55.198Z"
   },
   {
    "duration": 35,
    "start_time": "2024-05-06T09:34:55.233Z"
   },
   {
    "duration": 32,
    "start_time": "2024-05-06T09:34:55.270Z"
   },
   {
    "duration": 29,
    "start_time": "2024-05-06T09:34:55.303Z"
   },
   {
    "duration": 14,
    "start_time": "2024-05-06T09:34:55.333Z"
   },
   {
    "duration": 655,
    "start_time": "2024-05-06T09:34:55.349Z"
   },
   {
    "duration": 8,
    "start_time": "2024-05-06T09:34:56.006Z"
   },
   {
    "duration": 8,
    "start_time": "2024-05-06T09:34:56.016Z"
   },
   {
    "duration": 384,
    "start_time": "2024-05-06T09:34:56.025Z"
   },
   {
    "duration": 8,
    "start_time": "2024-05-06T09:34:56.411Z"
   },
   {
    "duration": 18,
    "start_time": "2024-05-06T09:34:56.422Z"
   },
   {
    "duration": 23,
    "start_time": "2024-05-06T09:34:56.442Z"
   },
   {
    "duration": 21,
    "start_time": "2024-05-06T09:34:56.466Z"
   },
   {
    "duration": 9,
    "start_time": "2024-05-06T09:34:56.489Z"
   },
   {
    "duration": 32,
    "start_time": "2024-05-06T09:34:56.500Z"
   },
   {
    "duration": 37,
    "start_time": "2024-05-06T09:34:56.534Z"
   },
   {
    "duration": 6,
    "start_time": "2024-05-06T09:34:56.572Z"
   },
   {
    "duration": 6,
    "start_time": "2024-05-06T09:34:56.580Z"
   },
   {
    "duration": 6,
    "start_time": "2024-05-06T09:34:56.588Z"
   },
   {
    "duration": 23,
    "start_time": "2024-05-06T09:34:56.595Z"
   },
   {
    "duration": 10,
    "start_time": "2024-05-06T09:34:56.620Z"
   },
   {
    "duration": 9,
    "start_time": "2024-05-06T09:34:56.632Z"
   },
   {
    "duration": 1585,
    "start_time": "2024-05-06T09:34:56.643Z"
   },
   {
    "duration": 329,
    "start_time": "2024-05-06T09:34:58.230Z"
   },
   {
    "duration": 1568,
    "start_time": "2024-05-06T09:34:58.560Z"
   },
   {
    "duration": 6,
    "start_time": "2024-05-06T09:35:00.130Z"
   },
   {
    "duration": 18,
    "start_time": "2024-05-06T11:00:03.639Z"
   },
   {
    "duration": 20,
    "start_time": "2024-05-06T11:00:14.617Z"
   },
   {
    "duration": 1117,
    "start_time": "2024-05-06T11:00:32.434Z"
   },
   {
    "duration": 67,
    "start_time": "2024-05-06T11:00:33.552Z"
   },
   {
    "duration": 13,
    "start_time": "2024-05-06T11:00:33.621Z"
   },
   {
    "duration": 17,
    "start_time": "2024-05-06T11:00:33.636Z"
   },
   {
    "duration": 22,
    "start_time": "2024-05-06T11:00:33.654Z"
   },
   {
    "duration": 39,
    "start_time": "2024-05-06T11:00:33.677Z"
   },
   {
    "duration": 47,
    "start_time": "2024-05-06T11:00:33.718Z"
   },
   {
    "duration": 28,
    "start_time": "2024-05-06T11:00:33.767Z"
   },
   {
    "duration": 35,
    "start_time": "2024-05-06T11:00:33.797Z"
   },
   {
    "duration": 12,
    "start_time": "2024-05-06T11:00:33.836Z"
   },
   {
    "duration": 4,
    "start_time": "2024-05-06T11:00:33.850Z"
   },
   {
    "duration": 7,
    "start_time": "2024-05-06T11:00:33.856Z"
   },
   {
    "duration": 17,
    "start_time": "2024-05-06T11:00:33.864Z"
   },
   {
    "duration": 15,
    "start_time": "2024-05-06T11:00:33.883Z"
   },
   {
    "duration": 15,
    "start_time": "2024-05-06T11:00:33.900Z"
   },
   {
    "duration": 12,
    "start_time": "2024-05-06T11:00:33.917Z"
   },
   {
    "duration": 7,
    "start_time": "2024-05-06T11:00:33.931Z"
   },
   {
    "duration": 9,
    "start_time": "2024-05-06T11:00:33.940Z"
   },
   {
    "duration": 7,
    "start_time": "2024-05-06T11:00:33.951Z"
   },
   {
    "duration": 222,
    "start_time": "2024-05-06T11:00:33.960Z"
   },
   {
    "duration": 6,
    "start_time": "2024-05-06T11:00:34.183Z"
   },
   {
    "duration": 110,
    "start_time": "2024-05-06T11:00:34.191Z"
   },
   {
    "duration": 6,
    "start_time": "2024-05-06T11:00:34.303Z"
   },
   {
    "duration": 8,
    "start_time": "2024-05-06T11:00:34.310Z"
   },
   {
    "duration": 216,
    "start_time": "2024-05-06T11:00:34.319Z"
   },
   {
    "duration": 8,
    "start_time": "2024-05-06T11:00:34.537Z"
   },
   {
    "duration": 320,
    "start_time": "2024-05-06T11:00:34.546Z"
   },
   {
    "duration": 8,
    "start_time": "2024-05-06T11:00:34.870Z"
   },
   {
    "duration": 305,
    "start_time": "2024-05-06T11:00:34.880Z"
   },
   {
    "duration": 9,
    "start_time": "2024-05-06T11:00:35.186Z"
   },
   {
    "duration": 17,
    "start_time": "2024-05-06T11:00:35.198Z"
   },
   {
    "duration": 24,
    "start_time": "2024-05-06T11:00:35.216Z"
   },
   {
    "duration": 14,
    "start_time": "2024-05-06T11:00:35.259Z"
   },
   {
    "duration": 23,
    "start_time": "2024-05-06T11:00:35.275Z"
   },
   {
    "duration": 13,
    "start_time": "2024-05-06T11:00:35.300Z"
   },
   {
    "duration": 627,
    "start_time": "2024-05-06T11:00:35.315Z"
   },
   {
    "duration": 17,
    "start_time": "2024-05-06T11:00:35.943Z"
   },
   {
    "duration": 23,
    "start_time": "2024-05-06T11:00:35.961Z"
   },
   {
    "duration": 347,
    "start_time": "2024-05-06T11:00:35.986Z"
   },
   {
    "duration": 8,
    "start_time": "2024-05-06T11:00:36.335Z"
   },
   {
    "duration": 17,
    "start_time": "2024-05-06T11:00:36.345Z"
   },
   {
    "duration": 18,
    "start_time": "2024-05-06T11:00:36.363Z"
   },
   {
    "duration": 22,
    "start_time": "2024-05-06T11:00:36.383Z"
   },
   {
    "duration": 4,
    "start_time": "2024-05-06T11:00:36.407Z"
   },
   {
    "duration": 54,
    "start_time": "2024-05-06T11:00:36.413Z"
   },
   {
    "duration": 14,
    "start_time": "2024-05-06T11:00:36.468Z"
   },
   {
    "duration": 9,
    "start_time": "2024-05-06T11:00:36.483Z"
   },
   {
    "duration": 5,
    "start_time": "2024-05-06T11:00:36.493Z"
   },
   {
    "duration": 13,
    "start_time": "2024-05-06T11:00:36.499Z"
   },
   {
    "duration": 14,
    "start_time": "2024-05-06T11:00:36.513Z"
   },
   {
    "duration": 1305,
    "start_time": "2024-05-06T11:00:36.529Z"
   },
   {
    "duration": 0,
    "start_time": "2024-05-06T11:00:37.836Z"
   },
   {
    "duration": 0,
    "start_time": "2024-05-06T11:00:37.837Z"
   },
   {
    "duration": 0,
    "start_time": "2024-05-06T11:00:37.838Z"
   },
   {
    "duration": 0,
    "start_time": "2024-05-06T11:00:37.839Z"
   },
   {
    "duration": 0,
    "start_time": "2024-05-06T11:00:37.840Z"
   },
   {
    "duration": 40,
    "start_time": "2024-05-06T11:02:53.147Z"
   },
   {
    "duration": 54,
    "start_time": "2024-05-06T11:02:58.803Z"
   },
   {
    "duration": 59,
    "start_time": "2024-05-06T11:03:21.145Z"
   },
   {
    "duration": 46,
    "start_time": "2024-05-06T11:03:34.691Z"
   },
   {
    "duration": 50,
    "start_time": "2024-05-06T11:03:37.081Z"
   },
   {
    "duration": 50,
    "start_time": "2024-05-06T11:03:42.515Z"
   },
   {
    "duration": 50,
    "start_time": "2024-05-06T11:03:44.599Z"
   },
   {
    "duration": 42,
    "start_time": "2024-05-06T11:04:19.346Z"
   },
   {
    "duration": 61,
    "start_time": "2024-05-06T11:04:25.077Z"
   },
   {
    "duration": 72,
    "start_time": "2024-05-06T11:06:34.884Z"
   },
   {
    "duration": 58,
    "start_time": "2024-05-06T11:08:21.234Z"
   },
   {
    "duration": 55,
    "start_time": "2024-05-06T11:08:31.489Z"
   },
   {
    "duration": 65,
    "start_time": "2024-05-06T11:09:30.476Z"
   },
   {
    "duration": 62,
    "start_time": "2024-05-06T11:14:02.429Z"
   },
   {
    "duration": 60,
    "start_time": "2024-05-06T11:15:54.460Z"
   },
   {
    "duration": 63,
    "start_time": "2024-05-06T11:16:06.597Z"
   },
   {
    "duration": 66,
    "start_time": "2024-05-06T11:16:11.010Z"
   },
   {
    "duration": 60,
    "start_time": "2024-05-06T11:16:59.329Z"
   },
   {
    "duration": 9,
    "start_time": "2024-05-06T11:18:09.657Z"
   },
   {
    "duration": 13,
    "start_time": "2024-05-06T11:20:48.189Z"
   },
   {
    "duration": 24,
    "start_time": "2024-05-06T11:20:54.588Z"
   },
   {
    "duration": 20,
    "start_time": "2024-05-06T11:21:23.939Z"
   },
   {
    "duration": 3,
    "start_time": "2024-05-06T11:21:57.489Z"
   },
   {
    "duration": 7,
    "start_time": "2024-05-06T11:24:49.544Z"
   },
   {
    "duration": 1248,
    "start_time": "2024-05-06T11:26:01.894Z"
   },
   {
    "duration": 70,
    "start_time": "2024-05-06T11:26:03.144Z"
   },
   {
    "duration": 14,
    "start_time": "2024-05-06T11:26:03.216Z"
   },
   {
    "duration": 71,
    "start_time": "2024-05-06T11:26:03.232Z"
   },
   {
    "duration": 121,
    "start_time": "2024-05-06T11:26:03.306Z"
   },
   {
    "duration": 69,
    "start_time": "2024-05-06T11:26:03.429Z"
   },
   {
    "duration": 44,
    "start_time": "2024-05-06T11:26:03.500Z"
   },
   {
    "duration": 36,
    "start_time": "2024-05-06T11:26:03.546Z"
   },
   {
    "duration": 54,
    "start_time": "2024-05-06T11:26:03.584Z"
   },
   {
    "duration": 14,
    "start_time": "2024-05-06T11:26:03.640Z"
   },
   {
    "duration": 19,
    "start_time": "2024-05-06T11:26:03.656Z"
   },
   {
    "duration": 47,
    "start_time": "2024-05-06T11:26:03.677Z"
   },
   {
    "duration": 30,
    "start_time": "2024-05-06T11:26:03.725Z"
   },
   {
    "duration": 25,
    "start_time": "2024-05-06T11:26:03.759Z"
   },
   {
    "duration": 43,
    "start_time": "2024-05-06T11:26:03.786Z"
   },
   {
    "duration": 21,
    "start_time": "2024-05-06T11:26:03.831Z"
   },
   {
    "duration": 26,
    "start_time": "2024-05-06T11:26:03.854Z"
   },
   {
    "duration": 9,
    "start_time": "2024-05-06T11:26:03.881Z"
   },
   {
    "duration": 8,
    "start_time": "2024-05-06T11:26:03.892Z"
   },
   {
    "duration": 247,
    "start_time": "2024-05-06T11:26:03.902Z"
   },
   {
    "duration": 8,
    "start_time": "2024-05-06T11:26:04.151Z"
   },
   {
    "duration": 143,
    "start_time": "2024-05-06T11:26:04.161Z"
   },
   {
    "duration": 6,
    "start_time": "2024-05-06T11:26:04.306Z"
   },
   {
    "duration": 19,
    "start_time": "2024-05-06T11:26:04.314Z"
   },
   {
    "duration": 232,
    "start_time": "2024-05-06T11:26:04.335Z"
   },
   {
    "duration": 9,
    "start_time": "2024-05-06T11:26:04.569Z"
   },
   {
    "duration": 389,
    "start_time": "2024-05-06T11:26:04.580Z"
   },
   {
    "duration": 9,
    "start_time": "2024-05-06T11:26:04.971Z"
   },
   {
    "duration": 356,
    "start_time": "2024-05-06T11:26:04.983Z"
   },
   {
    "duration": 21,
    "start_time": "2024-05-06T11:26:05.341Z"
   },
   {
    "duration": 22,
    "start_time": "2024-05-06T11:26:05.364Z"
   },
   {
    "duration": 21,
    "start_time": "2024-05-06T11:26:05.387Z"
   },
   {
    "duration": 26,
    "start_time": "2024-05-06T11:26:05.410Z"
   },
   {
    "duration": 34,
    "start_time": "2024-05-06T11:26:05.438Z"
   },
   {
    "duration": 20,
    "start_time": "2024-05-06T11:26:05.473Z"
   },
   {
    "duration": 651,
    "start_time": "2024-05-06T11:26:05.495Z"
   },
   {
    "duration": 16,
    "start_time": "2024-05-06T11:26:06.148Z"
   },
   {
    "duration": 18,
    "start_time": "2024-05-06T11:26:06.166Z"
   },
   {
    "duration": 422,
    "start_time": "2024-05-06T11:26:06.185Z"
   },
   {
    "duration": 9,
    "start_time": "2024-05-06T11:26:06.608Z"
   },
   {
    "duration": 18,
    "start_time": "2024-05-06T11:26:06.623Z"
   },
   {
    "duration": 24,
    "start_time": "2024-05-06T11:26:06.643Z"
   },
   {
    "duration": 17,
    "start_time": "2024-05-06T11:26:06.670Z"
   },
   {
    "duration": 5,
    "start_time": "2024-05-06T11:26:06.689Z"
   },
   {
    "duration": 38,
    "start_time": "2024-05-06T11:26:06.696Z"
   },
   {
    "duration": 2,
    "start_time": "2024-05-06T11:26:06.760Z"
   },
   {
    "duration": 66,
    "start_time": "2024-05-06T11:26:06.764Z"
   },
   {
    "duration": 37,
    "start_time": "2024-05-06T11:26:06.832Z"
   },
   {
    "duration": 6,
    "start_time": "2024-05-06T11:26:06.871Z"
   },
   {
    "duration": 11,
    "start_time": "2024-05-06T11:26:06.878Z"
   },
   {
    "duration": 8,
    "start_time": "2024-05-06T11:26:06.890Z"
   },
   {
    "duration": 7,
    "start_time": "2024-05-06T11:26:06.900Z"
   },
   {
    "duration": 10,
    "start_time": "2024-05-06T11:26:06.909Z"
   },
   {
    "duration": 20,
    "start_time": "2024-05-06T11:26:06.921Z"
   },
   {
    "duration": 1606,
    "start_time": "2024-05-06T11:26:06.959Z"
   },
   {
    "duration": 367,
    "start_time": "2024-05-06T11:26:08.567Z"
   },
   {
    "duration": 1712,
    "start_time": "2024-05-06T11:26:08.936Z"
   },
   {
    "duration": 13,
    "start_time": "2024-05-06T11:26:10.650Z"
   },
   {
    "duration": 10,
    "start_time": "2024-05-06T11:27:33.181Z"
   },
   {
    "duration": 72,
    "start_time": "2024-05-06T11:38:56.980Z"
   },
   {
    "duration": 1195,
    "start_time": "2024-05-06T11:39:07.957Z"
   },
   {
    "duration": 69,
    "start_time": "2024-05-06T11:39:09.154Z"
   },
   {
    "duration": 13,
    "start_time": "2024-05-06T11:39:09.225Z"
   },
   {
    "duration": 17,
    "start_time": "2024-05-06T11:39:09.239Z"
   },
   {
    "duration": 26,
    "start_time": "2024-05-06T11:39:09.258Z"
   },
   {
    "duration": 60,
    "start_time": "2024-05-06T11:39:09.286Z"
   },
   {
    "duration": 32,
    "start_time": "2024-05-06T11:39:09.347Z"
   },
   {
    "duration": 36,
    "start_time": "2024-05-06T11:39:09.380Z"
   },
   {
    "duration": 26,
    "start_time": "2024-05-06T11:39:09.418Z"
   },
   {
    "duration": 23,
    "start_time": "2024-05-06T11:39:09.445Z"
   },
   {
    "duration": 6,
    "start_time": "2024-05-06T11:39:09.469Z"
   },
   {
    "duration": 28,
    "start_time": "2024-05-06T11:39:09.477Z"
   },
   {
    "duration": 32,
    "start_time": "2024-05-06T11:39:09.507Z"
   },
   {
    "duration": 18,
    "start_time": "2024-05-06T11:39:09.542Z"
   },
   {
    "duration": 31,
    "start_time": "2024-05-06T11:39:09.562Z"
   },
   {
    "duration": 12,
    "start_time": "2024-05-06T11:39:09.595Z"
   },
   {
    "duration": 16,
    "start_time": "2024-05-06T11:39:09.608Z"
   },
   {
    "duration": 27,
    "start_time": "2024-05-06T11:39:09.626Z"
   },
   {
    "duration": 5,
    "start_time": "2024-05-06T11:39:09.655Z"
   },
   {
    "duration": 220,
    "start_time": "2024-05-06T11:39:09.661Z"
   },
   {
    "duration": 6,
    "start_time": "2024-05-06T11:39:09.882Z"
   },
   {
    "duration": 117,
    "start_time": "2024-05-06T11:39:09.890Z"
   },
   {
    "duration": 6,
    "start_time": "2024-05-06T11:39:10.008Z"
   },
   {
    "duration": 31,
    "start_time": "2024-05-06T11:39:10.016Z"
   },
   {
    "duration": 234,
    "start_time": "2024-05-06T11:39:10.049Z"
   },
   {
    "duration": 8,
    "start_time": "2024-05-06T11:39:10.285Z"
   },
   {
    "duration": 325,
    "start_time": "2024-05-06T11:39:10.294Z"
   },
   {
    "duration": 10,
    "start_time": "2024-05-06T11:39:10.621Z"
   },
   {
    "duration": 323,
    "start_time": "2024-05-06T11:39:10.632Z"
   },
   {
    "duration": 9,
    "start_time": "2024-05-06T11:39:10.958Z"
   },
   {
    "duration": 25,
    "start_time": "2024-05-06T11:39:10.968Z"
   },
   {
    "duration": 20,
    "start_time": "2024-05-06T11:39:10.995Z"
   },
   {
    "duration": 14,
    "start_time": "2024-05-06T11:39:11.017Z"
   },
   {
    "duration": 38,
    "start_time": "2024-05-06T11:39:11.033Z"
   },
   {
    "duration": 16,
    "start_time": "2024-05-06T11:39:11.073Z"
   },
   {
    "duration": 655,
    "start_time": "2024-05-06T11:39:11.091Z"
   },
   {
    "duration": 16,
    "start_time": "2024-05-06T11:39:11.747Z"
   },
   {
    "duration": 16,
    "start_time": "2024-05-06T11:39:11.765Z"
   },
   {
    "duration": 383,
    "start_time": "2024-05-06T11:39:11.783Z"
   },
   {
    "duration": 8,
    "start_time": "2024-05-06T11:39:12.168Z"
   },
   {
    "duration": 68,
    "start_time": "2024-05-06T11:39:12.180Z"
   },
   {
    "duration": 26,
    "start_time": "2024-05-06T11:39:12.249Z"
   },
   {
    "duration": 41,
    "start_time": "2024-05-06T11:39:12.278Z"
   },
   {
    "duration": 5,
    "start_time": "2024-05-06T11:39:12.321Z"
   },
   {
    "duration": 46,
    "start_time": "2024-05-06T11:39:12.327Z"
   },
   {
    "duration": 2,
    "start_time": "2024-05-06T11:39:12.375Z"
   },
   {
    "duration": 80,
    "start_time": "2024-05-06T11:39:12.379Z"
   },
   {
    "duration": 20,
    "start_time": "2024-05-06T11:39:12.461Z"
   },
   {
    "duration": 9,
    "start_time": "2024-05-06T11:39:12.484Z"
   },
   {
    "duration": 38,
    "start_time": "2024-05-06T11:39:12.495Z"
   },
   {
    "duration": 35,
    "start_time": "2024-05-06T11:39:12.535Z"
   },
   {
    "duration": 4,
    "start_time": "2024-05-06T11:39:12.572Z"
   },
   {
    "duration": 12,
    "start_time": "2024-05-06T11:39:12.579Z"
   },
   {
    "duration": 12,
    "start_time": "2024-05-06T11:39:12.592Z"
   },
   {
    "duration": 1609,
    "start_time": "2024-05-06T11:39:12.606Z"
   },
   {
    "duration": 331,
    "start_time": "2024-05-06T11:39:14.216Z"
   },
   {
    "duration": 1654,
    "start_time": "2024-05-06T11:39:14.548Z"
   },
   {
    "duration": 6,
    "start_time": "2024-05-06T11:39:16.204Z"
   },
   {
    "duration": 1185,
    "start_time": "2024-05-06T14:34:32.923Z"
   },
   {
    "duration": 71,
    "start_time": "2024-05-06T14:34:34.110Z"
   },
   {
    "duration": 12,
    "start_time": "2024-05-06T14:34:34.183Z"
   },
   {
    "duration": 48,
    "start_time": "2024-05-06T14:34:34.197Z"
   },
   {
    "duration": 28,
    "start_time": "2024-05-06T14:34:34.247Z"
   },
   {
    "duration": 28,
    "start_time": "2024-05-06T14:34:34.277Z"
   },
   {
    "duration": 20,
    "start_time": "2024-05-06T14:34:34.307Z"
   },
   {
    "duration": 34,
    "start_time": "2024-05-06T14:34:34.329Z"
   },
   {
    "duration": 23,
    "start_time": "2024-05-06T14:34:34.364Z"
   },
   {
    "duration": 15,
    "start_time": "2024-05-06T14:34:34.388Z"
   },
   {
    "duration": 4,
    "start_time": "2024-05-06T14:34:34.405Z"
   },
   {
    "duration": 33,
    "start_time": "2024-05-06T14:34:34.411Z"
   },
   {
    "duration": 39,
    "start_time": "2024-05-06T14:34:34.446Z"
   },
   {
    "duration": 36,
    "start_time": "2024-05-06T14:34:34.489Z"
   },
   {
    "duration": 22,
    "start_time": "2024-05-06T14:34:34.526Z"
   },
   {
    "duration": 27,
    "start_time": "2024-05-06T14:34:34.550Z"
   },
   {
    "duration": 30,
    "start_time": "2024-05-06T14:34:34.579Z"
   },
   {
    "duration": 30,
    "start_time": "2024-05-06T14:34:34.610Z"
   },
   {
    "duration": 32,
    "start_time": "2024-05-06T14:34:34.641Z"
   },
   {
    "duration": 244,
    "start_time": "2024-05-06T14:34:34.675Z"
   },
   {
    "duration": 9,
    "start_time": "2024-05-06T14:34:34.921Z"
   },
   {
    "duration": 145,
    "start_time": "2024-05-06T14:34:34.931Z"
   },
   {
    "duration": 6,
    "start_time": "2024-05-06T14:34:35.078Z"
   },
   {
    "duration": 15,
    "start_time": "2024-05-06T14:34:35.086Z"
   },
   {
    "duration": 228,
    "start_time": "2024-05-06T14:34:35.103Z"
   },
   {
    "duration": 9,
    "start_time": "2024-05-06T14:34:35.333Z"
   },
   {
    "duration": 332,
    "start_time": "2024-05-06T14:34:35.343Z"
   },
   {
    "duration": 8,
    "start_time": "2024-05-06T14:34:35.676Z"
   },
   {
    "duration": 339,
    "start_time": "2024-05-06T14:34:35.686Z"
   },
   {
    "duration": 8,
    "start_time": "2024-05-06T14:34:36.027Z"
   },
   {
    "duration": 34,
    "start_time": "2024-05-06T14:34:36.036Z"
   },
   {
    "duration": 20,
    "start_time": "2024-05-06T14:34:36.071Z"
   },
   {
    "duration": 48,
    "start_time": "2024-05-06T14:34:36.092Z"
   },
   {
    "duration": 45,
    "start_time": "2024-05-06T14:34:36.142Z"
   },
   {
    "duration": 80,
    "start_time": "2024-05-06T14:34:36.189Z"
   },
   {
    "duration": 670,
    "start_time": "2024-05-06T14:34:36.271Z"
   },
   {
    "duration": 9,
    "start_time": "2024-05-06T14:34:36.943Z"
   },
   {
    "duration": 33,
    "start_time": "2024-05-06T14:34:36.953Z"
   },
   {
    "duration": 400,
    "start_time": "2024-05-06T14:34:36.987Z"
   },
   {
    "duration": 8,
    "start_time": "2024-05-06T14:34:37.389Z"
   },
   {
    "duration": 23,
    "start_time": "2024-05-06T14:34:37.401Z"
   },
   {
    "duration": 20,
    "start_time": "2024-05-06T14:34:37.426Z"
   },
   {
    "duration": 44,
    "start_time": "2024-05-06T14:34:37.448Z"
   },
   {
    "duration": 10,
    "start_time": "2024-05-06T14:34:37.494Z"
   },
   {
    "duration": 58,
    "start_time": "2024-05-06T14:34:37.506Z"
   },
   {
    "duration": 2,
    "start_time": "2024-05-06T14:34:37.566Z"
   },
   {
    "duration": 75,
    "start_time": "2024-05-06T14:34:37.570Z"
   },
   {
    "duration": 20,
    "start_time": "2024-05-06T14:34:37.646Z"
   },
   {
    "duration": 5,
    "start_time": "2024-05-06T14:34:37.668Z"
   },
   {
    "duration": 22,
    "start_time": "2024-05-06T14:34:37.675Z"
   },
   {
    "duration": 21,
    "start_time": "2024-05-06T14:34:37.699Z"
   },
   {
    "duration": 7,
    "start_time": "2024-05-06T14:34:37.722Z"
   },
   {
    "duration": 13,
    "start_time": "2024-05-06T14:34:37.731Z"
   },
   {
    "duration": 20,
    "start_time": "2024-05-06T14:34:37.746Z"
   },
   {
    "duration": 1569,
    "start_time": "2024-05-06T14:34:37.768Z"
   },
   {
    "duration": 334,
    "start_time": "2024-05-06T14:34:39.339Z"
   },
   {
    "duration": 1612,
    "start_time": "2024-05-06T14:34:39.675Z"
   },
   {
    "duration": 7,
    "start_time": "2024-05-06T14:34:41.290Z"
   },
   {
    "duration": 1197,
    "start_time": "2024-05-06T16:01:02.716Z"
   },
   {
    "duration": 71,
    "start_time": "2024-05-06T16:01:03.915Z"
   },
   {
    "duration": 12,
    "start_time": "2024-05-06T16:01:03.988Z"
   },
   {
    "duration": 16,
    "start_time": "2024-05-06T16:01:04.002Z"
   },
   {
    "duration": 36,
    "start_time": "2024-05-06T16:01:04.020Z"
   },
   {
    "duration": 38,
    "start_time": "2024-05-06T16:01:04.057Z"
   },
   {
    "duration": 20,
    "start_time": "2024-05-06T16:01:04.097Z"
   },
   {
    "duration": 33,
    "start_time": "2024-05-06T16:01:04.119Z"
   },
   {
    "duration": 29,
    "start_time": "2024-05-06T16:01:04.153Z"
   },
   {
    "duration": 41,
    "start_time": "2024-05-06T16:01:04.184Z"
   },
   {
    "duration": 11,
    "start_time": "2024-05-06T16:01:04.226Z"
   },
   {
    "duration": 8,
    "start_time": "2024-05-06T16:01:04.239Z"
   },
   {
    "duration": 12,
    "start_time": "2024-05-06T16:01:04.248Z"
   },
   {
    "duration": 6,
    "start_time": "2024-05-06T16:01:04.263Z"
   },
   {
    "duration": 9,
    "start_time": "2024-05-06T16:01:04.271Z"
   },
   {
    "duration": 8,
    "start_time": "2024-05-06T16:01:04.281Z"
   },
   {
    "duration": 22,
    "start_time": "2024-05-06T16:01:04.291Z"
   },
   {
    "duration": 26,
    "start_time": "2024-05-06T16:01:04.315Z"
   },
   {
    "duration": 8,
    "start_time": "2024-05-06T16:01:04.342Z"
   },
   {
    "duration": 234,
    "start_time": "2024-05-06T16:01:04.352Z"
   },
   {
    "duration": 6,
    "start_time": "2024-05-06T16:01:04.587Z"
   },
   {
    "duration": 123,
    "start_time": "2024-05-06T16:01:04.594Z"
   },
   {
    "duration": 6,
    "start_time": "2024-05-06T16:01:04.719Z"
   },
   {
    "duration": 8,
    "start_time": "2024-05-06T16:01:04.729Z"
   },
   {
    "duration": 241,
    "start_time": "2024-05-06T16:01:04.738Z"
   },
   {
    "duration": 9,
    "start_time": "2024-05-06T16:01:04.980Z"
   },
   {
    "duration": 354,
    "start_time": "2024-05-06T16:01:04.991Z"
   },
   {
    "duration": 8,
    "start_time": "2024-05-06T16:01:05.347Z"
   },
   {
    "duration": 328,
    "start_time": "2024-05-06T16:01:05.357Z"
   },
   {
    "duration": 9,
    "start_time": "2024-05-06T16:01:05.687Z"
   },
   {
    "duration": 23,
    "start_time": "2024-05-06T16:01:05.697Z"
   },
   {
    "duration": 26,
    "start_time": "2024-05-06T16:01:05.722Z"
   },
   {
    "duration": 18,
    "start_time": "2024-05-06T16:01:05.750Z"
   },
   {
    "duration": 17,
    "start_time": "2024-05-06T16:01:05.770Z"
   },
   {
    "duration": 14,
    "start_time": "2024-05-06T16:01:05.788Z"
   },
   {
    "duration": 640,
    "start_time": "2024-05-06T16:01:05.803Z"
   },
   {
    "duration": 11,
    "start_time": "2024-05-06T16:01:06.445Z"
   },
   {
    "duration": 13,
    "start_time": "2024-05-06T16:01:06.459Z"
   },
   {
    "duration": 402,
    "start_time": "2024-05-06T16:01:06.474Z"
   },
   {
    "duration": 9,
    "start_time": "2024-05-06T16:01:06.877Z"
   },
   {
    "duration": 8,
    "start_time": "2024-05-06T16:01:06.890Z"
   },
   {
    "duration": 32,
    "start_time": "2024-05-06T16:01:06.900Z"
   },
   {
    "duration": 38,
    "start_time": "2024-05-06T16:01:06.933Z"
   },
   {
    "duration": 4,
    "start_time": "2024-05-06T16:01:06.973Z"
   },
   {
    "duration": 39,
    "start_time": "2024-05-06T16:01:06.978Z"
   },
   {
    "duration": 2,
    "start_time": "2024-05-06T16:01:07.019Z"
   },
   {
    "duration": 76,
    "start_time": "2024-05-06T16:01:07.023Z"
   },
   {
    "duration": 18,
    "start_time": "2024-05-06T16:01:07.101Z"
   },
   {
    "duration": 11,
    "start_time": "2024-05-06T16:01:07.121Z"
   },
   {
    "duration": 16,
    "start_time": "2024-05-06T16:01:07.133Z"
   },
   {
    "duration": 11,
    "start_time": "2024-05-06T16:01:07.151Z"
   },
   {
    "duration": 6,
    "start_time": "2024-05-06T16:01:07.163Z"
   },
   {
    "duration": 19,
    "start_time": "2024-05-06T16:01:07.171Z"
   },
   {
    "duration": 5,
    "start_time": "2024-05-06T16:01:07.192Z"
   },
   {
    "duration": 1580,
    "start_time": "2024-05-06T16:01:07.198Z"
   },
   {
    "duration": 325,
    "start_time": "2024-05-06T16:01:08.780Z"
   },
   {
    "duration": 1634,
    "start_time": "2024-05-06T16:01:09.107Z"
   },
   {
    "duration": 8,
    "start_time": "2024-05-06T16:01:10.742Z"
   }
  ],
  "kernelspec": {
   "display_name": "Python 3 (ipykernel)",
   "language": "python",
   "name": "python3"
  },
  "language_info": {
   "codemirror_mode": {
    "name": "ipython",
    "version": 3
   },
   "file_extension": ".py",
   "mimetype": "text/x-python",
   "name": "python",
   "nbconvert_exporter": "python",
   "pygments_lexer": "ipython3",
   "version": "3.11.7"
  },
  "toc": {
   "base_numbering": 1,
   "nav_menu": {},
   "number_sections": true,
   "sideBar": true,
   "skip_h1_title": true,
   "title_cell": "Table of Contents",
   "title_sidebar": "Contents",
   "toc_cell": false,
   "toc_position": {},
   "toc_section_display": true,
   "toc_window_display": true
  }
 },
 "nbformat": 4,
 "nbformat_minor": 5
}
