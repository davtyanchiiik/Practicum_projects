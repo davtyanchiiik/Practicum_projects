{
 "cells": [
  {
   "cell_type": "markdown",
   "metadata": {
    "id": "-VFbjcb3Awb7"
   },
   "source": [
    "# Исследование объявлений о продаже квартир\n",
    "\n",
    "**Описание проекта:** \n",
    "В вашем распоряжении данные сервиса Яндекс Недвижимость — архив объявлений о продаже квартир в Санкт-Петербурге и соседних населённых пунктах за несколько лет. Вам нужно научиться определять рыночную стоимость объектов недвижимости. Для этого проведите исследовательский анализ данных и установите параметры, влияющие на цену объектов. Это позволит построить автоматизированную систему: она отследит аномалии и мошенническую деятельность.\n",
    "\n",
    "По каждой квартире на продажу доступны два вида данных. Первые вписаны пользователем, вторые — получены автоматически на основе картографических данных. Например, расстояние до центра, аэропорта и других объектов — эти данные автоматически получены из геосервисов. Количество парков и водоёмов также заполняется без участия пользователя.\n",
    "\n",
    "\n",
    "**План работ:**\n",
    "- Шаг 1. Откройте файл с данными и изучите общую информацию\n",
    "- Шаг 2. Выполните предобработку данных\n",
    "- Шаг 3. Добавьте в таблицу новые столбцы\n",
    "- Шаг 4. Проведите исследовательский анализ данных\n",
    "- Шаг 5. Напишите общий вывод\n",
    "\n",
    "\n",
    "  \n",
    "**Описание данных:**\n",
    "* airports_nearest — расстояние до ближайшего аэропорта в метрах (м)\n",
    "* balcony — число балконов\n",
    "* ceiling_height — высота потолков (м)\n",
    "* cityCenters_nearest — расстояние до центра города (м)\n",
    "* days_exposition — сколько дней было размещено объявление (от публикации до снятия)\n",
    "* first_day_exposition — дата публикации\n",
    "* floor — этаж\n",
    "* floors_total — всего этажей в доме\n",
    "* is_apartment — апартаменты (булев тип)\n",
    "* kitchen_area — площадь кухни в квадратных метрах (м²)\n",
    "* last_price — цена на момент снятия с публикации\n",
    "* living_area — жилая площадь в квадратных метрах (м²)\n",
    "* locality_name — название населённого пункта\n",
    "* open_plan — свободная планировка (булев тип)\n",
    "* parks_around3000 — число парков в радиусе 3 км\n",
    "* parks_nearest — расстояние до ближайшего парка (м)\n",
    "* ponds_around3000 — число водоёмов в радиусе 3 км\n",
    "* ponds_nearest — расстояние до ближайшего водоёма (м)\n",
    "* rooms — число комнат\n",
    "* studio — квартира-студия (булев тип)\n",
    "* total_area — общая площадь квартиры в квадратных метрах (м²)\n",
    "* total_images — число фотографий квартиры в объявлении     "
   ]
  },
  {
   "cell_type": "code",
   "execution_count": 1,
   "metadata": {},
   "outputs": [],
   "source": [
    "import pandas as pd\n",
    "import matplotlib.pyplot as plt "
   ]
  },
  {
   "cell_type": "markdown",
   "metadata": {
    "id": "aeFLH07FAwb9"
   },
   "source": [
    "## Открытие файла с данными и изучение общуей информации"
   ]
  },
  {
   "cell_type": "code",
   "execution_count": 2,
   "metadata": {},
   "outputs": [
    {
     "name": "stdout",
     "output_type": "stream",
     "text": [
      "<class 'pandas.core.frame.DataFrame'>\n",
      "RangeIndex: 23699 entries, 0 to 23698\n",
      "Data columns (total 22 columns):\n",
      " #   Column                Non-Null Count  Dtype  \n",
      "---  ------                --------------  -----  \n",
      " 0   total_images          23699 non-null  int64  \n",
      " 1   last_price            23699 non-null  float64\n",
      " 2   total_area            23699 non-null  float64\n",
      " 3   first_day_exposition  23699 non-null  object \n",
      " 4   rooms                 23699 non-null  int64  \n",
      " 5   ceiling_height        14504 non-null  float64\n",
      " 6   floors_total          23613 non-null  float64\n",
      " 7   living_area           21796 non-null  float64\n",
      " 8   floor                 23699 non-null  int64  \n",
      " 9   is_apartment          2775 non-null   object \n",
      " 10  studio                23699 non-null  bool   \n",
      " 11  open_plan             23699 non-null  bool   \n",
      " 12  kitchen_area          21421 non-null  float64\n",
      " 13  balcony               12180 non-null  float64\n",
      " 14  locality_name         23650 non-null  object \n",
      " 15  airports_nearest      18157 non-null  float64\n",
      " 16  cityCenters_nearest   18180 non-null  float64\n",
      " 17  parks_around3000      18181 non-null  float64\n",
      " 18  parks_nearest         8079 non-null   float64\n",
      " 19  ponds_around3000      18181 non-null  float64\n",
      " 20  ponds_nearest         9110 non-null   float64\n",
      " 21  days_exposition       20518 non-null  float64\n",
      "dtypes: bool(2), float64(14), int64(3), object(3)\n",
      "memory usage: 3.7+ MB\n"
     ]
    },
    {
     "data": {
      "text/html": [
       "<div>\n",
       "<style scoped>\n",
       "    .dataframe tbody tr th:only-of-type {\n",
       "        vertical-align: middle;\n",
       "    }\n",
       "\n",
       "    .dataframe tbody tr th {\n",
       "        vertical-align: top;\n",
       "    }\n",
       "\n",
       "    .dataframe thead th {\n",
       "        text-align: right;\n",
       "    }\n",
       "</style>\n",
       "<table border=\"1\" class=\"dataframe\">\n",
       "  <thead>\n",
       "    <tr style=\"text-align: right;\">\n",
       "      <th></th>\n",
       "      <th>total_images</th>\n",
       "      <th>last_price</th>\n",
       "      <th>total_area</th>\n",
       "      <th>first_day_exposition</th>\n",
       "      <th>rooms</th>\n",
       "      <th>ceiling_height</th>\n",
       "      <th>floors_total</th>\n",
       "      <th>living_area</th>\n",
       "      <th>floor</th>\n",
       "      <th>is_apartment</th>\n",
       "      <th>...</th>\n",
       "      <th>kitchen_area</th>\n",
       "      <th>balcony</th>\n",
       "      <th>locality_name</th>\n",
       "      <th>airports_nearest</th>\n",
       "      <th>cityCenters_nearest</th>\n",
       "      <th>parks_around3000</th>\n",
       "      <th>parks_nearest</th>\n",
       "      <th>ponds_around3000</th>\n",
       "      <th>ponds_nearest</th>\n",
       "      <th>days_exposition</th>\n",
       "    </tr>\n",
       "  </thead>\n",
       "  <tbody>\n",
       "    <tr>\n",
       "      <th>0</th>\n",
       "      <td>20</td>\n",
       "      <td>13000000.0</td>\n",
       "      <td>108.00</td>\n",
       "      <td>2019-03-07T00:00:00</td>\n",
       "      <td>3</td>\n",
       "      <td>2.70</td>\n",
       "      <td>16.0</td>\n",
       "      <td>51.00</td>\n",
       "      <td>8</td>\n",
       "      <td>NaN</td>\n",
       "      <td>...</td>\n",
       "      <td>25.00</td>\n",
       "      <td>NaN</td>\n",
       "      <td>Санкт-Петербург</td>\n",
       "      <td>18863.0</td>\n",
       "      <td>16028.0</td>\n",
       "      <td>1.0</td>\n",
       "      <td>482.0</td>\n",
       "      <td>2.0</td>\n",
       "      <td>755.0</td>\n",
       "      <td>NaN</td>\n",
       "    </tr>\n",
       "    <tr>\n",
       "      <th>1</th>\n",
       "      <td>7</td>\n",
       "      <td>3350000.0</td>\n",
       "      <td>40.40</td>\n",
       "      <td>2018-12-04T00:00:00</td>\n",
       "      <td>1</td>\n",
       "      <td>NaN</td>\n",
       "      <td>11.0</td>\n",
       "      <td>18.60</td>\n",
       "      <td>1</td>\n",
       "      <td>NaN</td>\n",
       "      <td>...</td>\n",
       "      <td>11.00</td>\n",
       "      <td>2.0</td>\n",
       "      <td>посёлок Шушары</td>\n",
       "      <td>12817.0</td>\n",
       "      <td>18603.0</td>\n",
       "      <td>0.0</td>\n",
       "      <td>NaN</td>\n",
       "      <td>0.0</td>\n",
       "      <td>NaN</td>\n",
       "      <td>81.0</td>\n",
       "    </tr>\n",
       "    <tr>\n",
       "      <th>2</th>\n",
       "      <td>10</td>\n",
       "      <td>5196000.0</td>\n",
       "      <td>56.00</td>\n",
       "      <td>2015-08-20T00:00:00</td>\n",
       "      <td>2</td>\n",
       "      <td>NaN</td>\n",
       "      <td>5.0</td>\n",
       "      <td>34.30</td>\n",
       "      <td>4</td>\n",
       "      <td>NaN</td>\n",
       "      <td>...</td>\n",
       "      <td>8.30</td>\n",
       "      <td>0.0</td>\n",
       "      <td>Санкт-Петербург</td>\n",
       "      <td>21741.0</td>\n",
       "      <td>13933.0</td>\n",
       "      <td>1.0</td>\n",
       "      <td>90.0</td>\n",
       "      <td>2.0</td>\n",
       "      <td>574.0</td>\n",
       "      <td>558.0</td>\n",
       "    </tr>\n",
       "    <tr>\n",
       "      <th>3</th>\n",
       "      <td>0</td>\n",
       "      <td>64900000.0</td>\n",
       "      <td>159.00</td>\n",
       "      <td>2015-07-24T00:00:00</td>\n",
       "      <td>3</td>\n",
       "      <td>NaN</td>\n",
       "      <td>14.0</td>\n",
       "      <td>NaN</td>\n",
       "      <td>9</td>\n",
       "      <td>NaN</td>\n",
       "      <td>...</td>\n",
       "      <td>NaN</td>\n",
       "      <td>0.0</td>\n",
       "      <td>Санкт-Петербург</td>\n",
       "      <td>28098.0</td>\n",
       "      <td>6800.0</td>\n",
       "      <td>2.0</td>\n",
       "      <td>84.0</td>\n",
       "      <td>3.0</td>\n",
       "      <td>234.0</td>\n",
       "      <td>424.0</td>\n",
       "    </tr>\n",
       "    <tr>\n",
       "      <th>4</th>\n",
       "      <td>2</td>\n",
       "      <td>10000000.0</td>\n",
       "      <td>100.00</td>\n",
       "      <td>2018-06-19T00:00:00</td>\n",
       "      <td>2</td>\n",
       "      <td>3.03</td>\n",
       "      <td>14.0</td>\n",
       "      <td>32.00</td>\n",
       "      <td>13</td>\n",
       "      <td>NaN</td>\n",
       "      <td>...</td>\n",
       "      <td>41.00</td>\n",
       "      <td>NaN</td>\n",
       "      <td>Санкт-Петербург</td>\n",
       "      <td>31856.0</td>\n",
       "      <td>8098.0</td>\n",
       "      <td>2.0</td>\n",
       "      <td>112.0</td>\n",
       "      <td>1.0</td>\n",
       "      <td>48.0</td>\n",
       "      <td>121.0</td>\n",
       "    </tr>\n",
       "    <tr>\n",
       "      <th>5</th>\n",
       "      <td>10</td>\n",
       "      <td>2890000.0</td>\n",
       "      <td>30.40</td>\n",
       "      <td>2018-09-10T00:00:00</td>\n",
       "      <td>1</td>\n",
       "      <td>NaN</td>\n",
       "      <td>12.0</td>\n",
       "      <td>14.40</td>\n",
       "      <td>5</td>\n",
       "      <td>NaN</td>\n",
       "      <td>...</td>\n",
       "      <td>9.10</td>\n",
       "      <td>NaN</td>\n",
       "      <td>городской посёлок Янино-1</td>\n",
       "      <td>NaN</td>\n",
       "      <td>NaN</td>\n",
       "      <td>NaN</td>\n",
       "      <td>NaN</td>\n",
       "      <td>NaN</td>\n",
       "      <td>NaN</td>\n",
       "      <td>55.0</td>\n",
       "    </tr>\n",
       "    <tr>\n",
       "      <th>6</th>\n",
       "      <td>6</td>\n",
       "      <td>3700000.0</td>\n",
       "      <td>37.30</td>\n",
       "      <td>2017-11-02T00:00:00</td>\n",
       "      <td>1</td>\n",
       "      <td>NaN</td>\n",
       "      <td>26.0</td>\n",
       "      <td>10.60</td>\n",
       "      <td>6</td>\n",
       "      <td>NaN</td>\n",
       "      <td>...</td>\n",
       "      <td>14.40</td>\n",
       "      <td>1.0</td>\n",
       "      <td>посёлок Парголово</td>\n",
       "      <td>52996.0</td>\n",
       "      <td>19143.0</td>\n",
       "      <td>0.0</td>\n",
       "      <td>NaN</td>\n",
       "      <td>0.0</td>\n",
       "      <td>NaN</td>\n",
       "      <td>155.0</td>\n",
       "    </tr>\n",
       "    <tr>\n",
       "      <th>7</th>\n",
       "      <td>5</td>\n",
       "      <td>7915000.0</td>\n",
       "      <td>71.60</td>\n",
       "      <td>2019-04-18T00:00:00</td>\n",
       "      <td>2</td>\n",
       "      <td>NaN</td>\n",
       "      <td>24.0</td>\n",
       "      <td>NaN</td>\n",
       "      <td>22</td>\n",
       "      <td>NaN</td>\n",
       "      <td>...</td>\n",
       "      <td>18.90</td>\n",
       "      <td>2.0</td>\n",
       "      <td>Санкт-Петербург</td>\n",
       "      <td>23982.0</td>\n",
       "      <td>11634.0</td>\n",
       "      <td>0.0</td>\n",
       "      <td>NaN</td>\n",
       "      <td>0.0</td>\n",
       "      <td>NaN</td>\n",
       "      <td>NaN</td>\n",
       "    </tr>\n",
       "    <tr>\n",
       "      <th>8</th>\n",
       "      <td>20</td>\n",
       "      <td>2900000.0</td>\n",
       "      <td>33.16</td>\n",
       "      <td>2018-05-23T00:00:00</td>\n",
       "      <td>1</td>\n",
       "      <td>NaN</td>\n",
       "      <td>27.0</td>\n",
       "      <td>15.43</td>\n",
       "      <td>26</td>\n",
       "      <td>NaN</td>\n",
       "      <td>...</td>\n",
       "      <td>8.81</td>\n",
       "      <td>NaN</td>\n",
       "      <td>посёлок Мурино</td>\n",
       "      <td>NaN</td>\n",
       "      <td>NaN</td>\n",
       "      <td>NaN</td>\n",
       "      <td>NaN</td>\n",
       "      <td>NaN</td>\n",
       "      <td>NaN</td>\n",
       "      <td>189.0</td>\n",
       "    </tr>\n",
       "    <tr>\n",
       "      <th>9</th>\n",
       "      <td>18</td>\n",
       "      <td>5400000.0</td>\n",
       "      <td>61.00</td>\n",
       "      <td>2017-02-26T00:00:00</td>\n",
       "      <td>3</td>\n",
       "      <td>2.50</td>\n",
       "      <td>9.0</td>\n",
       "      <td>43.60</td>\n",
       "      <td>7</td>\n",
       "      <td>NaN</td>\n",
       "      <td>...</td>\n",
       "      <td>6.50</td>\n",
       "      <td>2.0</td>\n",
       "      <td>Санкт-Петербург</td>\n",
       "      <td>50898.0</td>\n",
       "      <td>15008.0</td>\n",
       "      <td>0.0</td>\n",
       "      <td>NaN</td>\n",
       "      <td>0.0</td>\n",
       "      <td>NaN</td>\n",
       "      <td>289.0</td>\n",
       "    </tr>\n",
       "  </tbody>\n",
       "</table>\n",
       "<p>10 rows × 22 columns</p>\n",
       "</div>"
      ],
      "text/plain": [
       "   total_images  last_price  total_area first_day_exposition  rooms  \\\n",
       "0            20  13000000.0      108.00  2019-03-07T00:00:00      3   \n",
       "1             7   3350000.0       40.40  2018-12-04T00:00:00      1   \n",
       "2            10   5196000.0       56.00  2015-08-20T00:00:00      2   \n",
       "3             0  64900000.0      159.00  2015-07-24T00:00:00      3   \n",
       "4             2  10000000.0      100.00  2018-06-19T00:00:00      2   \n",
       "5            10   2890000.0       30.40  2018-09-10T00:00:00      1   \n",
       "6             6   3700000.0       37.30  2017-11-02T00:00:00      1   \n",
       "7             5   7915000.0       71.60  2019-04-18T00:00:00      2   \n",
       "8            20   2900000.0       33.16  2018-05-23T00:00:00      1   \n",
       "9            18   5400000.0       61.00  2017-02-26T00:00:00      3   \n",
       "\n",
       "   ceiling_height  floors_total  living_area  floor is_apartment  ...  \\\n",
       "0            2.70          16.0        51.00      8          NaN  ...   \n",
       "1             NaN          11.0        18.60      1          NaN  ...   \n",
       "2             NaN           5.0        34.30      4          NaN  ...   \n",
       "3             NaN          14.0          NaN      9          NaN  ...   \n",
       "4            3.03          14.0        32.00     13          NaN  ...   \n",
       "5             NaN          12.0        14.40      5          NaN  ...   \n",
       "6             NaN          26.0        10.60      6          NaN  ...   \n",
       "7             NaN          24.0          NaN     22          NaN  ...   \n",
       "8             NaN          27.0        15.43     26          NaN  ...   \n",
       "9            2.50           9.0        43.60      7          NaN  ...   \n",
       "\n",
       "   kitchen_area  balcony              locality_name  airports_nearest  \\\n",
       "0         25.00      NaN            Санкт-Петербург           18863.0   \n",
       "1         11.00      2.0             посёлок Шушары           12817.0   \n",
       "2          8.30      0.0            Санкт-Петербург           21741.0   \n",
       "3           NaN      0.0            Санкт-Петербург           28098.0   \n",
       "4         41.00      NaN            Санкт-Петербург           31856.0   \n",
       "5          9.10      NaN  городской посёлок Янино-1               NaN   \n",
       "6         14.40      1.0          посёлок Парголово           52996.0   \n",
       "7         18.90      2.0            Санкт-Петербург           23982.0   \n",
       "8          8.81      NaN             посёлок Мурино               NaN   \n",
       "9          6.50      2.0            Санкт-Петербург           50898.0   \n",
       "\n",
       "  cityCenters_nearest  parks_around3000  parks_nearest  ponds_around3000  \\\n",
       "0             16028.0               1.0          482.0               2.0   \n",
       "1             18603.0               0.0            NaN               0.0   \n",
       "2             13933.0               1.0           90.0               2.0   \n",
       "3              6800.0               2.0           84.0               3.0   \n",
       "4              8098.0               2.0          112.0               1.0   \n",
       "5                 NaN               NaN            NaN               NaN   \n",
       "6             19143.0               0.0            NaN               0.0   \n",
       "7             11634.0               0.0            NaN               0.0   \n",
       "8                 NaN               NaN            NaN               NaN   \n",
       "9             15008.0               0.0            NaN               0.0   \n",
       "\n",
       "   ponds_nearest  days_exposition  \n",
       "0          755.0              NaN  \n",
       "1            NaN             81.0  \n",
       "2          574.0            558.0  \n",
       "3          234.0            424.0  \n",
       "4           48.0            121.0  \n",
       "5            NaN             55.0  \n",
       "6            NaN            155.0  \n",
       "7            NaN              NaN  \n",
       "8            NaN            189.0  \n",
       "9            NaN            289.0  \n",
       "\n",
       "[10 rows x 22 columns]"
      ]
     },
     "execution_count": 2,
     "metadata": {},
     "output_type": "execute_result"
    }
   ],
   "source": [
    "data = pd.read_csv('/datasets/real_estate_data.csv', sep='\\t')\n",
    "\n",
    "data.info()\n",
    "data.head(10)"
   ]
  },
  {
   "cell_type": "code",
   "execution_count": 3,
   "metadata": {},
   "outputs": [
    {
     "data": {
      "text/plain": [
       "array([[<AxesSubplot:title={'center':'total_images'}>,\n",
       "        <AxesSubplot:title={'center':'last_price'}>,\n",
       "        <AxesSubplot:title={'center':'total_area'}>,\n",
       "        <AxesSubplot:title={'center':'rooms'}>],\n",
       "       [<AxesSubplot:title={'center':'ceiling_height'}>,\n",
       "        <AxesSubplot:title={'center':'floors_total'}>,\n",
       "        <AxesSubplot:title={'center':'living_area'}>,\n",
       "        <AxesSubplot:title={'center':'floor'}>],\n",
       "       [<AxesSubplot:title={'center':'kitchen_area'}>,\n",
       "        <AxesSubplot:title={'center':'balcony'}>,\n",
       "        <AxesSubplot:title={'center':'airports_nearest'}>,\n",
       "        <AxesSubplot:title={'center':'cityCenters_nearest'}>],\n",
       "       [<AxesSubplot:title={'center':'parks_around3000'}>,\n",
       "        <AxesSubplot:title={'center':'parks_nearest'}>,\n",
       "        <AxesSubplot:title={'center':'ponds_around3000'}>,\n",
       "        <AxesSubplot:title={'center':'ponds_nearest'}>],\n",
       "       [<AxesSubplot:title={'center':'days_exposition'}>, <AxesSubplot:>,\n",
       "        <AxesSubplot:>, <AxesSubplot:>]], dtype=object)"
      ]
     },
     "execution_count": 3,
     "metadata": {},
     "output_type": "execute_result"
    },
    {
     "data": {
      "image/png": "[encoded data removed]",
      "text/plain": [
       "<Figure size 1440x1440 with 20 Axes>"
      ]
     },
     "metadata": {
      "needs_background": "light"
     },
     "output_type": "display_data"
    }
   ],
   "source": [
    "data.hist(figsize=(20, 20))"
   ]
  },
  {
   "cell_type": "markdown",
   "metadata": {},
   "source": [
    "**Вывод:** На этапе предварительного изучения датаффрейма были замечены пропуски, а также некорректный тип данных в некоторых столбцах."
   ]
  },
  {
   "cell_type": "markdown",
   "metadata": {
    "id": "-O5NtivEAwb9"
   },
   "source": [
    "## Предобработка данных"
   ]
  },
  {
   "cell_type": "code",
   "execution_count": 4,
   "metadata": {
    "id": "7v3vAeTuAwb-"
   },
   "outputs": [
    {
     "data": {
      "text/plain": [
       "total_images                0\n",
       "last_price                  0\n",
       "total_area                  0\n",
       "first_day_exposition        0\n",
       "rooms                       0\n",
       "ceiling_height           9195\n",
       "floors_total               86\n",
       "living_area              1903\n",
       "floor                       0\n",
       "is_apartment            20924\n",
       "studio                      0\n",
       "open_plan                   0\n",
       "kitchen_area             2278\n",
       "balcony                 11519\n",
       "locality_name              49\n",
       "airports_nearest         5542\n",
       "cityCenters_nearest      5519\n",
       "parks_around3000         5518\n",
       "parks_nearest           15620\n",
       "ponds_around3000         5518\n",
       "ponds_nearest           14589\n",
       "days_exposition          3181\n",
       "dtype: int64"
      ]
     },
     "execution_count": 4,
     "metadata": {},
     "output_type": "execute_result"
    }
   ],
   "source": [
    "data.isna().sum()"
   ]
  },
  {
   "cell_type": "markdown",
   "metadata": {},
   "source": [
    "**Были обнаружены пропуски в следующих столбцах:**\n",
    "* ceiling_height — высота потолков (м)\n",
    "* floors_total — всего этажей в доме\n",
    "* living_area — жилая площадь в квадратных метрах (м²)\n",
    "* is_apartment — апартаменты (булев тип)\n",
    "* kitchen_area — площадь кухни в квадратных метрах (м²)\n",
    "* balcony — число балконов\n",
    "* locality_name — название населённого пункта\n",
    "* airports_nearest — расстояние до ближайшего аэропорта в метрах (м)\n",
    "* cityCenters_nearest — расстояние до центра города (м)\n",
    "* parks_around3000 — число парков в радиусе 3 км\n",
    "* parks_nearest — расстояние до ближайшего парка (м)\n",
    "* ponds_around3000 — число водоёмов в радиусе 3 км\n",
    "* ponds_nearest — расстояние до ближайшего водоёма (м)\n",
    "* days_exposition — сколько дней было размещено объявление (от публикации до снятия)"
   ]
  },
  {
   "cell_type": "markdown",
   "metadata": {},
   "source": [
    "**Пропуски в этих столбцах могли возникнуть из-за пользователя, который не заполнил полностью данные. \n",
    "Но при этом рано исключать техническую ошибку.**\n",
    "* ceiling_height — высота потолков (м)\n",
    "* floors_total — всего этажей в доме\n",
    "* living_area — жилая площадь в квадратных метрах (м²)\n",
    "* is_apartment — апартаменты (булев тип)\n",
    "* kitchen_area — площадь кухни в квадратных метрах (м²)\n",
    "* balcony — число балконов\n",
    "* locality_name — название населённого пункта"
   ]
  },
  {
   "cell_type": "markdown",
   "metadata": {},
   "source": [
    "Логично предположить, что если пользователь не заполнил информацию о балконе, то его просто нет. Поэтому заполним пустые значени нулем."
   ]
  },
  {
   "cell_type": "code",
   "execution_count": 5,
   "metadata": {
    "scrolled": true
   },
   "outputs": [
    {
     "data": {
      "text/plain": [
       "0"
      ]
     },
     "execution_count": 5,
     "metadata": {},
     "output_type": "execute_result"
    }
   ],
   "source": [
    "data['balcony'] = data['balcony'].fillna(0)\n",
    "data['balcony'].isna().sum()"
   ]
  },
  {
   "cell_type": "markdown",
   "metadata": {},
   "source": [
    "Выста потолков в большинсвте квартир редко превышает 3 метра, так что можно заполнить эту информацию на основе медианы столбца ceiling_height. Выбор медианы, а не среднего значения обусловлен показателем std > 1."
   ]
  },
  {
   "cell_type": "code",
   "execution_count": 6,
   "metadata": {},
   "outputs": [
    {
     "data": {
      "text/plain": [
       "0"
      ]
     },
     "execution_count": 6,
     "metadata": {},
     "output_type": "execute_result"
    }
   ],
   "source": [
    "data['ceiling_height'].describe()\n",
    "data['ceiling_height'] = data['ceiling_height'].fillna(data['ceiling_height'].median())\n",
    "data['ceiling_height'].isna().sum()"
   ]
  },
  {
   "cell_type": "markdown",
   "metadata": {},
   "source": [
    "Слишком много пропусков в столбце is_apartment, заполним их значением False."
   ]
  },
  {
   "cell_type": "code",
   "execution_count": 7,
   "metadata": {
    "scrolled": true
   },
   "outputs": [
    {
     "name": "stdout",
     "output_type": "stream",
     "text": [
      "2725 50\n"
     ]
    }
   ],
   "source": [
    "print(data[data['is_apartment'] == False]['is_apartment'].count(), data[data['is_apartment'] == True]['is_apartment'].count())"
   ]
  },
  {
   "cell_type": "code",
   "execution_count": 8,
   "metadata": {},
   "outputs": [
    {
     "data": {
      "text/plain": [
       "0"
      ]
     },
     "execution_count": 8,
     "metadata": {},
     "output_type": "execute_result"
    }
   ],
   "source": [
    "data['is_apartment'] = data['is_apartment'].fillna(False)\n",
    "data['is_apartment'].isna().sum()"
   ]
  },
  {
   "cell_type": "markdown",
   "metadata": {},
   "source": [
    "Пропуски в столбце:\n",
    "* floors_total нельзя заполнить, так как нет конкретеного адреса дома, на основе которого можно было бы получить эту информацию. Да и всего количество пропусков незначительно.\n",
    "* living_area нельзся заполнить ввиду недостаточности данных.\n",
    "* kitchen_area нельзся заполнить ввиду недостаточности данных.\n",
    "* locality_name нельзя заполнить, так как нет точных координатов, на основе которых можно было бы рассчитать местоположение города. Да и всего количество пропусков незначительно."
   ]
  },
  {
   "cell_type": "markdown",
   "metadata": {},
   "source": [
    "**Пропуски в следующих столбцах могут иметь исключительно техническую природу возникновения**\n",
    "* airports_nearest — расстояние до ближайшего аэропорта в метрах (м)\n",
    "* cityCenters_nearest — расстояние до центра города (м)\n",
    "* parks_around3000 — число парков в радиусе 3 км\n",
    "* parks_nearest — расстояние до ближайшего парка (м)\n",
    "* ponds_around3000 — число водоёмов в радиусе 3 км\n",
    "* ponds_nearest — расстояние до ближайшего водоёма (м)\n",
    "* days_exposition — сколько дней было размещено объявление (от публикации до снятия)\n",
    "\n",
    "Все пропуски так или иначе связанные с расстоянием не получится заполнить с текущими данными. Для этого в таблице должна быть информация о широте и долготе дома, в котором находится квартира или хотя бы ее адрес. \n",
    "Пропущенные данные в столбце days_exposition также нельзя заполнить корректными данными, даже несмотря на то что есть данные о дате публикации (столбец first_day_exposition), нет данных о дате закрытия обьявления. Но для удобства конвертации столбца в нужный тип, заменим их на нулевые значения."
   ]
  },
  {
   "cell_type": "code",
   "execution_count": 9,
   "metadata": {},
   "outputs": [
    {
     "data": {
      "text/plain": [
       "3181"
      ]
     },
     "execution_count": 9,
     "metadata": {},
     "output_type": "execute_result"
    }
   ],
   "source": [
    "data['days_exposition'].isna().sum()"
   ]
  },
  {
   "cell_type": "code",
   "execution_count": 10,
   "metadata": {},
   "outputs": [
    {
     "name": "stderr",
     "output_type": "stream",
     "text": [
      "/tmp/ipykernel_100/770728465.py:2: SettingWithCopyWarning: \n",
      "A value is trying to be set on a copy of a slice from a DataFrame.\n",
      "Try using .loc[row_indexer,col_indexer] = value instead\n",
      "\n",
      "See the caveats in the documentation: https://pandas.pydata.org/pandas-docs/stable/user_guide/indexing.html#returning-a-view-versus-a-copy\n",
      "  days['first_day_exposition'] = pd.to_datetime(days['first_day_exposition'], format='%Y-%m-%d')\n",
      "/tmp/ipykernel_100/770728465.py:3: SettingWithCopyWarning: \n",
      "A value is trying to be set on a copy of a slice from a DataFrame.\n",
      "Try using .loc[row_indexer,col_indexer] = value instead\n",
      "\n",
      "See the caveats in the documentation: https://pandas.pydata.org/pandas-docs/stable/user_guide/indexing.html#returning-a-view-versus-a-copy\n",
      "  days['first_day_exposition'] = days['first_day_exposition'].dt.year\n"
     ]
    },
    {
     "data": {
      "text/plain": [
       "first_day_exposition\n",
       "2019    1796\n",
       "2018     959\n",
       "2017     271\n",
       "2015      70\n",
       "2016      67\n",
       "2014      18\n",
       "dtype: int64"
      ]
     },
     "execution_count": 10,
     "metadata": {},
     "output_type": "execute_result"
    }
   ],
   "source": [
    "days = data[data['days_exposition'].isna()]\n",
    "days['first_day_exposition'] = pd.to_datetime(days['first_day_exposition'], format='%Y-%m-%d')\n",
    "days['first_day_exposition'] = days['first_day_exposition'].dt.year\n",
    "days.fillna(1)\n",
    "days.value_counts('first_day_exposition')"
   ]
  },
  {
   "cell_type": "code",
   "execution_count": 11,
   "metadata": {},
   "outputs": [
    {
     "data": {
      "text/plain": [
       "0"
      ]
     },
     "execution_count": 11,
     "metadata": {},
     "output_type": "execute_result"
    }
   ],
   "source": [
    "data['days_exposition'] = data['days_exposition'].fillna(5000)\n",
    "data['days_exposition'].isna().sum()"
   ]
  },
  {
   "cell_type": "markdown",
   "metadata": {},
   "source": [
    "Большая часть пропусков в столбце days_exposition приходится на последние года, можно сделать вывод о том, что эти квартиры просто еще не успели продать. "
   ]
  },
  {
   "cell_type": "markdown",
   "metadata": {},
   "source": [
    "**После изучения общей информации о датафрейме было принято решение внести изменения:**\n",
    "* тип данных столбца last_price изменить на int для более корректного отображения цены\n",
    "* тип данных столбца first_day_exposition изменить на datetime для верного отображения формата даты \n",
    "* тип данных столбца floors_total изменить на int так как количество этажей - целое число\n",
    "* тип данных столбца is_apartment на bool так как это категориальная переменная, принимающая одно из двух возможных значнеий  \n",
    "* тип данных столбца balcony изменить на int так как количество балконов - целое число\n",
    "* тип данных столбца airports_nearest изменить на int так как расстояние в метрах \n",
    "* тип данных столбца cityCenters_nearest изменить на int так как расстояние в метрах \n",
    "* тип данных столбца parks_around3000 изменить на int так как количество парков - целое число\n",
    "* тип данных столбца parks_nearest изменить на int так как расстояние в метрах \n",
    "* тип данных столбца ponds_around3000 изменить на int так как количество прудов - целое число\n",
    "* тип данных столбца ponds_nearest изменить на int так как расстояние в метрах \n",
    "* тип данных столбца days_exposition изменить на int так как количество дней - целое число"
   ]
  },
  {
   "cell_type": "code",
   "execution_count": 12,
   "metadata": {
    "scrolled": true
   },
   "outputs": [
    {
     "name": "stdout",
     "output_type": "stream",
     "text": [
      "<class 'pandas.core.frame.DataFrame'>\n",
      "RangeIndex: 23699 entries, 0 to 23698\n",
      "Data columns (total 22 columns):\n",
      " #   Column                Non-Null Count  Dtype         \n",
      "---  ------                --------------  -----         \n",
      " 0   total_images          23699 non-null  int64         \n",
      " 1   last_price            23699 non-null  Int64         \n",
      " 2   total_area            23699 non-null  float64       \n",
      " 3   first_day_exposition  23699 non-null  datetime64[ns]\n",
      " 4   rooms                 23699 non-null  int64         \n",
      " 5   ceiling_height        23699 non-null  float64       \n",
      " 6   floors_total          23613 non-null  Int64         \n",
      " 7   living_area           21796 non-null  float64       \n",
      " 8   floor                 23699 non-null  int64         \n",
      " 9   is_apartment          23699 non-null  bool          \n",
      " 10  studio                23699 non-null  bool          \n",
      " 11  open_plan             23699 non-null  bool          \n",
      " 12  kitchen_area          21421 non-null  float64       \n",
      " 13  balcony               23699 non-null  Int64         \n",
      " 14  locality_name         23650 non-null  object        \n",
      " 15  airports_nearest      18157 non-null  Int64         \n",
      " 16  cityCenters_nearest   18180 non-null  Int64         \n",
      " 17  parks_around3000      18181 non-null  Int64         \n",
      " 18  parks_nearest         8079 non-null   Int64         \n",
      " 19  ponds_around3000      18181 non-null  Int64         \n",
      " 20  ponds_nearest         9110 non-null   Int64         \n",
      " 21  days_exposition       23699 non-null  int64         \n",
      "dtypes: Int64(9), bool(3), datetime64[ns](1), float64(4), int64(4), object(1)\n",
      "memory usage: 3.7+ MB\n"
     ]
    }
   ],
   "source": [
    "data['last_price'] = data['last_price'].astype('Int64')\n",
    "data['first_day_exposition'] = pd.to_datetime(data['first_day_exposition'], format='%Y-%m-%d')\n",
    "data['floors_total'] = data['floors_total'].astype('Int64')\n",
    "data['is_apartment'] = data['is_apartment'].astype(bool)\n",
    "data['balcony'] = data['balcony'].astype('Int64')\n",
    "data['airports_nearest'] = data['airports_nearest'].astype('Int64')\n",
    "data['cityCenters_nearest'] = data['cityCenters_nearest'].astype('Int64')\n",
    "data['parks_around3000'] = data['parks_around3000'].astype('Int64')\n",
    "data['parks_nearest'] = data['parks_nearest'].astype('Int64')\n",
    "data['ponds_around3000'] = data['ponds_around3000'].astype('Int64')\n",
    "data['ponds_nearest'] = data['ponds_nearest'].astype('Int64')\n",
    "data['days_exposition'] = data['days_exposition'].astype('int')\n",
    "data.info()"
   ]
  },
  {
   "cell_type": "code",
   "execution_count": 13,
   "metadata": {},
   "outputs": [
    {
     "data": {
      "text/plain": [
       "total_images                0\n",
       "last_price                  0\n",
       "total_area                  0\n",
       "first_day_exposition        0\n",
       "rooms                       0\n",
       "ceiling_height              0\n",
       "floors_total               86\n",
       "living_area              1903\n",
       "floor                       0\n",
       "is_apartment                0\n",
       "studio                      0\n",
       "open_plan                   0\n",
       "kitchen_area             2278\n",
       "balcony                     0\n",
       "locality_name              49\n",
       "airports_nearest         5542\n",
       "cityCenters_nearest      5519\n",
       "parks_around3000         5518\n",
       "parks_nearest           15620\n",
       "ponds_around3000         5518\n",
       "ponds_nearest           14589\n",
       "days_exposition             0\n",
       "dtype: int64"
      ]
     },
     "execution_count": 13,
     "metadata": {},
     "output_type": "execute_result"
    }
   ],
   "source": [
    "#Выведем количество пропусков по столбцам еще раз.\n",
    "data.isna().sum()"
   ]
  },
  {
   "cell_type": "code",
   "execution_count": 14,
   "metadata": {},
   "outputs": [
    {
     "data": {
      "text/plain": [
       "0"
      ]
     },
     "execution_count": 14,
     "metadata": {},
     "output_type": "execute_result"
    }
   ],
   "source": [
    "data.duplicated().sum() #явных дубликатов нет"
   ]
  },
  {
   "cell_type": "markdown",
   "metadata": {},
   "source": [
    "**Столбцы с потенцаильно неявными дубликатами:**\n",
    "* locality_name — название населённого пункта"
   ]
  },
  {
   "cell_type": "code",
   "execution_count": 15,
   "metadata": {},
   "outputs": [
    {
     "data": {
      "text/plain": [
       "['село Шум',\n",
       " 'село Старая Ладога',\n",
       " 'село Русско-Высоцкое',\n",
       " 'село Рождествено',\n",
       " 'село Путилово',\n",
       " 'село Паша',\n",
       " 'село Павлово',\n",
       " 'село Никольское',\n",
       " 'село Копорье',\n",
       " 'садовое товарищество Садко',\n",
       " 'садовое товарищество Рахья',\n",
       " 'садовое товарищество Приладожский',\n",
       " 'садовое товарищество Новая Ропша',\n",
       " 'садоводческое некоммерческое товарищество Лесная Поляна',\n",
       " 'посёлок станции Свирь',\n",
       " 'посёлок станции Громово',\n",
       " 'посёлок при железнодорожной станции Приветнинское',\n",
       " 'посёлок при железнодорожной станции Вещево',\n",
       " 'посёлок городского типа имени Свердлова',\n",
       " 'посёлок городского типа имени Морозова',\n",
       " 'посёлок городского типа Форносово',\n",
       " 'посёлок городского типа Ульяновка',\n",
       " 'посёлок городского типа Токсово',\n",
       " 'посёлок городского типа Тайцы',\n",
       " 'посёлок городского типа Сиверский',\n",
       " 'посёлок городского типа Рябово',\n",
       " 'посёлок городского типа Рощино',\n",
       " 'посёлок городского типа Павлово',\n",
       " 'посёлок городского типа Мга',\n",
       " 'посёлок городского типа Лебяжье',\n",
       " 'посёлок городского типа Кузьмоловский',\n",
       " 'посёлок городского типа Кузнечное',\n",
       " 'посёлок городского типа Красный Бор',\n",
       " 'посёлок городского типа Вырица',\n",
       " 'посёлок городского типа Вознесенье',\n",
       " 'посёлок городского типа Важины',\n",
       " 'посёлок Щеглово',\n",
       " 'посёлок Шушары',\n",
       " 'посёлок Шугозеро',\n",
       " 'посёлок Форт Красная Горка',\n",
       " 'посёлок Усть-Луга',\n",
       " 'посёлок Усть-Ижора',\n",
       " 'посёлок Торфяное',\n",
       " 'посёлок Терволово',\n",
       " 'посёлок Тельмана',\n",
       " 'посёлок Сумино',\n",
       " 'посёлок Суйда',\n",
       " 'посёлок Стрельна',\n",
       " 'посёлок Стеклянный',\n",
       " 'посёлок Старая Малукса',\n",
       " 'посёлок Сосново',\n",
       " 'посёлок Сапёрный',\n",
       " 'посёлок Сапёрное',\n",
       " 'посёлок Ропша',\n",
       " 'посёлок Репино',\n",
       " 'посёлок Пудость',\n",
       " 'посёлок Пригородный',\n",
       " 'посёлок Понтонный',\n",
       " 'посёлок Поляны',\n",
       " 'посёлок Победа',\n",
       " 'посёлок Плоское',\n",
       " 'посёлок Плодовое',\n",
       " 'посёлок Платформа 69-й километр',\n",
       " 'посёлок Петровское',\n",
       " 'посёлок Петро-Славянка',\n",
       " 'посёлок Песочный',\n",
       " 'посёлок Перово',\n",
       " 'посёлок Парголово',\n",
       " 'посёлок Пансионат Зелёный Бор',\n",
       " 'посёлок Новый Свет',\n",
       " 'посёлок Новогорелово',\n",
       " 'посёлок Мыза-Ивановка',\n",
       " 'посёлок Мурино',\n",
       " 'посёлок Молодёжное',\n",
       " 'посёлок Мичуринское',\n",
       " 'посёлок Металлострой',\n",
       " 'посёлок Мельниково',\n",
       " 'посёлок Лисий Нос',\n",
       " 'посёлок Ленинское',\n",
       " 'посёлок Левашово',\n",
       " 'посёлок Коробицыно',\n",
       " 'посёлок Кобралово',\n",
       " 'посёлок Кикерино',\n",
       " 'посёлок Ильичёво',\n",
       " 'посёлок Жилгородок',\n",
       " 'посёлок Дзержинского',\n",
       " 'посёлок Гаврилово',\n",
       " 'посёлок Высокоключевой',\n",
       " 'посёлок Войскорово',\n",
       " 'посёлок Возрождение',\n",
       " 'посёлок Бугры',\n",
       " 'посёлок Белоостров',\n",
       " 'посёлок Аннино',\n",
       " 'посёлок Алексеевка',\n",
       " 'посёлок Александровская',\n",
       " 'поселок станции Приветнинское',\n",
       " 'поселок станции Лужайка',\n",
       " 'поселок станции Корнево',\n",
       " 'поселок станции Вещево',\n",
       " 'поселок городского типа имени Свердлова',\n",
       " 'поселок городского типа Форносово',\n",
       " 'поселок городского типа Токсово',\n",
       " 'поселок городского типа Советский',\n",
       " 'поселок городского типа Синявино',\n",
       " 'поселок городского типа Рябово',\n",
       " 'поселок городского типа Рощино',\n",
       " 'поселок городского типа Рахья',\n",
       " 'поселок городского типа Приладожский',\n",
       " 'поселок городского типа Никольский',\n",
       " 'поселок городского типа Назия',\n",
       " 'поселок городского типа Лесогорский',\n",
       " 'поселок городского типа Лебяжье',\n",
       " 'поселок городского типа Кузьмоловский',\n",
       " 'поселок городского типа Красный Бор',\n",
       " 'поселок городского типа Кондратьево',\n",
       " 'поселок городского типа Ефимовский',\n",
       " 'поселок городского типа Дубровка',\n",
       " 'поселок городского типа Дружная Горка',\n",
       " 'поселок городского типа Вырица',\n",
       " 'поселок городского типа Большая Ижора',\n",
       " 'поселок Цвылёво',\n",
       " 'поселок Цвелодубово',\n",
       " 'поселок Ушаки',\n",
       " 'поселок Усть-Луга',\n",
       " 'поселок Углово',\n",
       " 'поселок Тёсово-4',\n",
       " 'поселок Торковичи',\n",
       " 'поселок Терволово',\n",
       " 'поселок Тельмана',\n",
       " 'поселок Суходолье',\n",
       " 'поселок Сумино',\n",
       " 'поселок Стеклянный',\n",
       " 'поселок Старая Малукса',\n",
       " 'поселок Совхозный',\n",
       " 'поселок Серебрянский',\n",
       " 'поселок Семрино',\n",
       " 'поселок Семиозерье',\n",
       " 'поселок Сельцо',\n",
       " 'поселок Селезнёво',\n",
       " 'поселок Севастьяново',\n",
       " 'поселок Рябово',\n",
       " 'поселок Ромашки',\n",
       " 'поселок Романовка',\n",
       " 'поселок Рабитицы',\n",
       " 'поселок Пчевжа',\n",
       " 'поселок Пушное',\n",
       " 'поселок Починок',\n",
       " 'поселок Почап',\n",
       " 'поселок Поляны',\n",
       " 'поселок Победа',\n",
       " 'поселок Петровское',\n",
       " 'поселок Перово',\n",
       " 'поселок Первомайское',\n",
       " 'поселок Пансионат Зелёный Бор',\n",
       " 'поселок Оредеж',\n",
       " 'поселок Новый Учхоз',\n",
       " 'поселок Новый Свет',\n",
       " 'поселок Мурино',\n",
       " 'поселок Молодцово',\n",
       " 'поселок Мичуринское',\n",
       " 'поселок Мельниково',\n",
       " 'поселок Любань',\n",
       " 'поселок Лукаши',\n",
       " 'поселок Лисий Нос',\n",
       " 'поселок Лесное',\n",
       " 'поселок Красносельское',\n",
       " 'поселок Красная Долина',\n",
       " 'поселок Котельский',\n",
       " 'поселок Коробицыно',\n",
       " 'поселок Коммунары',\n",
       " 'поселок Кобринское',\n",
       " 'поселок Кобралово',\n",
       " 'поселок Кирпичное',\n",
       " 'поселок Кингисеппский',\n",
       " 'поселок Каложицы',\n",
       " 'поселок Калитино',\n",
       " 'поселок Ильичёво',\n",
       " 'поселок Зимитицы',\n",
       " 'поселок Запорожское',\n",
       " 'поселок Заводской',\n",
       " 'поселок Житково',\n",
       " 'поселок Жилпосёлок',\n",
       " 'поселок Жилгородок',\n",
       " 'поселок Елизаветино',\n",
       " 'поселок Дружноселье',\n",
       " 'поселок Громово',\n",
       " 'поселок Гончарово',\n",
       " 'поселок Глебычево',\n",
       " 'поселок Глажево',\n",
       " 'поселок Гладкое',\n",
       " 'поселок Гарболово',\n",
       " 'поселок Гаврилово',\n",
       " 'поселок Володарское',\n",
       " 'поселок Войсковицы',\n",
       " 'поселок Возрождение',\n",
       " 'поселок Бугры',\n",
       " 'поселок Барышево',\n",
       " 'поселок Аннино',\n",
       " 'коттеджный посёлок Лесное',\n",
       " 'коттеджный поселок Счастье',\n",
       " 'коттеджный поселок Кивеннапа Север',\n",
       " 'деревня Ям-Тесово',\n",
       " 'деревня Яльгелево',\n",
       " 'деревня Ялгино',\n",
       " 'деревня Юкки',\n",
       " 'деревня Щеглово',\n",
       " 'деревня Шпаньково',\n",
       " 'деревня Чудской Бор',\n",
       " 'деревня Хязельки',\n",
       " 'деревня Хапо-Ое',\n",
       " 'деревня Фёдоровское',\n",
       " 'деревня Фалилеево',\n",
       " 'деревня Трубников Бор',\n",
       " 'деревня Торошковичи',\n",
       " 'деревня Торосово',\n",
       " 'деревня Тойворово',\n",
       " 'деревня Тихковицы',\n",
       " 'деревня Терпилицы',\n",
       " 'деревня Тарасово',\n",
       " 'деревня Сяськелево',\n",
       " 'деревня Суоранда',\n",
       " 'деревня Старые Бегуницы',\n",
       " 'деревня Старосиверская',\n",
       " 'деревня Старополье',\n",
       " 'деревня Старое Хинколово',\n",
       " 'деревня Старая Пустошь',\n",
       " 'деревня Старая',\n",
       " 'деревня Снегирёвка',\n",
       " 'деревня Сижно',\n",
       " 'деревня Русско',\n",
       " 'деревня Реброво',\n",
       " 'деревня Рапполово',\n",
       " 'деревня Разметелево',\n",
       " 'деревня Раздолье',\n",
       " 'деревня Разбегаево',\n",
       " 'деревня Рабитицы',\n",
       " 'деревня Пчева',\n",
       " 'деревня Пустынка',\n",
       " 'деревня Пудомяги',\n",
       " 'деревня Пикколово',\n",
       " 'деревня Пижма',\n",
       " 'деревня Пеники',\n",
       " 'деревня Пельгора',\n",
       " 'деревня Парицы',\n",
       " 'деревня Оржицы',\n",
       " 'деревня Нурма',\n",
       " 'деревня Новолисино',\n",
       " 'деревня Новое Девяткино',\n",
       " 'деревня Низино',\n",
       " 'деревня Нижняя',\n",
       " 'деревня Нижние Осельки',\n",
       " 'деревня Ненимяки',\n",
       " 'деревня Мистолово',\n",
       " 'деревня Мины',\n",
       " 'деревня Меньково',\n",
       " 'деревня Мануйлово',\n",
       " 'деревня Малые Колпаны',\n",
       " 'деревня Малое Карлино',\n",
       " 'деревня Малое Верево',\n",
       " 'деревня Малая Романовка',\n",
       " 'деревня Лупполово',\n",
       " 'деревня Лопухинка',\n",
       " 'деревня Лесколово',\n",
       " 'деревня Лампово',\n",
       " 'деревня Лаголово',\n",
       " 'деревня Лаврики',\n",
       " 'деревня Куттузи',\n",
       " 'деревня Куровицы',\n",
       " 'деревня Курковицы',\n",
       " 'деревня Кузьмолово',\n",
       " 'деревня Кудрово',\n",
       " 'деревня Кривко',\n",
       " 'деревня Котлы',\n",
       " 'деревня Коркино',\n",
       " 'деревня Колтуши',\n",
       " 'деревня Кисельня',\n",
       " 'деревня Кипень',\n",
       " 'деревня Келози',\n",
       " 'деревня Каськово',\n",
       " 'деревня Камышовка',\n",
       " 'деревня Кальтино',\n",
       " 'деревня Калитино',\n",
       " 'деревня Иссад',\n",
       " 'деревня Извара',\n",
       " 'деревня Зимитицы',\n",
       " 'деревня Заневка',\n",
       " 'деревня Заклинье',\n",
       " 'деревня Гостилицы',\n",
       " 'деревня Горбунки',\n",
       " 'деревня Глинка',\n",
       " 'деревня Гарболово',\n",
       " 'деревня Выскатка',\n",
       " 'деревня Вахнова Кара',\n",
       " 'деревня Вартемяги',\n",
       " 'деревня Ваганово',\n",
       " 'деревня Борисова Грива',\n",
       " 'деревня Бор',\n",
       " 'деревня Большой Сабск',\n",
       " 'деревня Большое Рейзино',\n",
       " 'деревня Большие Колпаны',\n",
       " 'деревня Большая Пустомержа',\n",
       " 'деревня Большая Вруда',\n",
       " 'деревня Белогорка',\n",
       " 'деревня Бегуницы',\n",
       " 'деревня Батово',\n",
       " 'деревня Аро',\n",
       " 'деревня Агалатово',\n",
       " 'городской посёлок Янино-1',\n",
       " 'городской посёлок Фёдоровское',\n",
       " 'городской посёлок Советский',\n",
       " 'городской посёлок Свирьстрой',\n",
       " 'городской посёлок Рощино',\n",
       " 'городской посёлок Павлово',\n",
       " 'городской посёлок Новоселье',\n",
       " 'городской посёлок Назия',\n",
       " 'городской посёлок Мга',\n",
       " 'городской посёлок Лесогорский',\n",
       " 'городской посёлок Виллози',\n",
       " 'городской посёлок Будогощь',\n",
       " 'городской поселок Янино-1',\n",
       " 'городской поселок Большая Ижора',\n",
       " 'Шлиссельбург',\n",
       " 'Тосно',\n",
       " 'Тихвин',\n",
       " 'Сясьстрой',\n",
       " 'Сосновый Бор',\n",
       " 'Сланцы',\n",
       " 'Сестрорецк',\n",
       " 'Сертолово',\n",
       " 'Светогорск',\n",
       " 'Санкт-Петербург',\n",
       " 'Пушкин',\n",
       " 'Приозерск',\n",
       " 'Приморск',\n",
       " 'Подпорожье',\n",
       " 'Пикалёво',\n",
       " 'Петергоф',\n",
       " 'Павловск',\n",
       " 'Отрадное',\n",
       " 'Новая Ладога',\n",
       " 'Никольское',\n",
       " 'Мурино',\n",
       " 'Любань',\n",
       " 'Луга',\n",
       " 'Ломоносов',\n",
       " 'Лодейное Поле',\n",
       " 'Кудрово',\n",
       " 'Кронштадт',\n",
       " 'Красное Село',\n",
       " 'Коммунар',\n",
       " 'Колпино',\n",
       " 'Кировск',\n",
       " 'Кириши',\n",
       " 'Кингисепп',\n",
       " 'Каменногорск',\n",
       " 'Ивангород',\n",
       " 'Зеленогорск',\n",
       " 'Гатчина',\n",
       " 'Высоцк',\n",
       " 'Выборг',\n",
       " 'Всеволожск',\n",
       " 'Волхов',\n",
       " 'Волосово',\n",
       " 'Бокситогорск',\n",
       " nan]"
      ]
     },
     "execution_count": 15,
     "metadata": {},
     "output_type": "execute_result"
    }
   ],
   "source": [
    "list(data['locality_name'].sort_values(ascending=False).unique())"
   ]
  },
  {
   "cell_type": "code",
   "execution_count": 16,
   "metadata": {},
   "outputs": [],
   "source": [
    "data['locality_name'] = (\n",
    "    data['locality_name'].str.replace('ё', 'е')\n",
    "    .replace(['поселок городского типа', 'городской поселок', 'коттеджный поселок', 'поселок станции', 'поселок при железнодорожной станции'], 'поселок ', regex=True)\n",
    "    .replace(['садоводческое некоммерческое товарищество', 'садовое товарищество'], 'товарищество ', regex=True)\n",
    ")"
   ]
  },
  {
   "cell_type": "code",
   "execution_count": 17,
   "metadata": {},
   "outputs": [
    {
     "data": {
      "text/plain": [
       "['товарищество  Садко',\n",
       " 'товарищество  Рахья',\n",
       " 'товарищество  Приладожский',\n",
       " 'товарищество  Новая Ропша',\n",
       " 'товарищество  Лесная Поляна',\n",
       " 'село Шум',\n",
       " 'село Старая Ладога',\n",
       " 'село Русско-Высоцкое',\n",
       " 'село Рождествено',\n",
       " 'село Путилово',\n",
       " 'село Паша',\n",
       " 'село Павлово',\n",
       " 'село Никольское',\n",
       " 'село Копорье',\n",
       " 'поселок Щеглово',\n",
       " 'поселок Шушары',\n",
       " 'поселок Шугозеро',\n",
       " 'поселок Цвылево',\n",
       " 'поселок Цвелодубово',\n",
       " 'поселок Форт Красная Горка',\n",
       " 'поселок Ушаки',\n",
       " 'поселок Усть-Луга',\n",
       " 'поселок Усть-Ижора',\n",
       " 'поселок Углово',\n",
       " 'поселок Торфяное',\n",
       " 'поселок Торковичи',\n",
       " 'поселок Тесово-4',\n",
       " 'поселок Терволово',\n",
       " 'поселок Тельмана',\n",
       " 'поселок Суходолье',\n",
       " 'поселок Сумино',\n",
       " 'поселок Суйда',\n",
       " 'поселок Стрельна',\n",
       " 'поселок Стеклянный',\n",
       " 'поселок Старая Малукса',\n",
       " 'поселок Сосново',\n",
       " 'поселок Совхозный',\n",
       " 'поселок Серебрянский',\n",
       " 'поселок Семрино',\n",
       " 'поселок Семиозерье',\n",
       " 'поселок Сельцо',\n",
       " 'поселок Селезнево',\n",
       " 'поселок Севастьяново',\n",
       " 'поселок Саперный',\n",
       " 'поселок Саперное',\n",
       " 'поселок Рябово',\n",
       " 'поселок Ропша',\n",
       " 'поселок Ромашки',\n",
       " 'поселок Романовка',\n",
       " 'поселок Репино',\n",
       " 'поселок Рабитицы',\n",
       " 'поселок Пчевжа',\n",
       " 'поселок Пушное',\n",
       " 'поселок Пудость',\n",
       " 'поселок Пригородный',\n",
       " 'поселок Починок',\n",
       " 'поселок Почап',\n",
       " 'поселок Понтонный',\n",
       " 'поселок Поляны',\n",
       " 'поселок Победа',\n",
       " 'поселок Плоское',\n",
       " 'поселок Плодовое',\n",
       " 'поселок Платформа 69-й километр',\n",
       " 'поселок Петровское',\n",
       " 'поселок Петро-Славянка',\n",
       " 'поселок Песочный',\n",
       " 'поселок Перово',\n",
       " 'поселок Первомайское',\n",
       " 'поселок Парголово',\n",
       " 'поселок Пансионат Зеленый Бор',\n",
       " 'поселок Оредеж',\n",
       " 'поселок Новый Учхоз',\n",
       " 'поселок Новый Свет',\n",
       " 'поселок Новогорелово',\n",
       " 'поселок Мыза-Ивановка',\n",
       " 'поселок Мурино',\n",
       " 'поселок Молодцово',\n",
       " 'поселок Молодежное',\n",
       " 'поселок Мичуринское',\n",
       " 'поселок Металлострой',\n",
       " 'поселок Мельниково',\n",
       " 'поселок Любань',\n",
       " 'поселок Лукаши',\n",
       " 'поселок Лисий Нос',\n",
       " 'поселок Лесное',\n",
       " 'поселок Ленинское',\n",
       " 'поселок Левашово',\n",
       " 'поселок Красносельское',\n",
       " 'поселок Красная Долина',\n",
       " 'поселок Котельский',\n",
       " 'поселок Коробицыно',\n",
       " 'поселок Коммунары',\n",
       " 'поселок Кобринское',\n",
       " 'поселок Кобралово',\n",
       " 'поселок Кирпичное',\n",
       " 'поселок Кингисеппский',\n",
       " 'поселок Кикерино',\n",
       " 'поселок Каложицы',\n",
       " 'поселок Калитино',\n",
       " 'поселок Ильичево',\n",
       " 'поселок Зимитицы',\n",
       " 'поселок Запорожское',\n",
       " 'поселок Заводской',\n",
       " 'поселок Житково',\n",
       " 'поселок Жилпоселок',\n",
       " 'поселок Жилгородок',\n",
       " 'поселок Елизаветино',\n",
       " 'поселок Дружноселье',\n",
       " 'поселок Дзержинского',\n",
       " 'поселок Громово',\n",
       " 'поселок Гончарово',\n",
       " 'поселок Глебычево',\n",
       " 'поселок Глажево',\n",
       " 'поселок Гладкое',\n",
       " 'поселок Гарболово',\n",
       " 'поселок Гаврилово',\n",
       " 'поселок Высокоключевой',\n",
       " 'поселок Володарское',\n",
       " 'поселок Войскорово',\n",
       " 'поселок Войсковицы',\n",
       " 'поселок Возрождение',\n",
       " 'поселок Бугры',\n",
       " 'поселок Белоостров',\n",
       " 'поселок Барышево',\n",
       " 'поселок Аннино',\n",
       " 'поселок Алексеевка',\n",
       " 'поселок Александровская',\n",
       " 'поселок  имени Свердлова',\n",
       " 'поселок  имени Морозова',\n",
       " 'поселок  Янино-1',\n",
       " 'поселок  Форносово',\n",
       " 'поселок  Федоровское',\n",
       " 'поселок  Ульяновка',\n",
       " 'поселок  Токсово',\n",
       " 'поселок  Тайцы',\n",
       " 'поселок  Счастье',\n",
       " 'поселок  Советский',\n",
       " 'поселок  Синявино',\n",
       " 'поселок  Сиверский',\n",
       " 'поселок  Свирьстрой',\n",
       " 'поселок  Свирь',\n",
       " 'поселок  Рябово',\n",
       " 'поселок  Рощино',\n",
       " 'поселок  Рахья',\n",
       " 'поселок  Приладожский',\n",
       " 'поселок  Приветнинское',\n",
       " 'поселок  Павлово',\n",
       " 'поселок  Новоселье',\n",
       " 'поселок  Никольский',\n",
       " 'поселок  Назия',\n",
       " 'поселок  Мга',\n",
       " 'поселок  Лужайка',\n",
       " 'поселок  Лесогорский',\n",
       " 'поселок  Лесное',\n",
       " 'поселок  Лебяжье',\n",
       " 'поселок  Кузьмоловский',\n",
       " 'поселок  Кузнечное',\n",
       " 'поселок  Красный Бор',\n",
       " 'поселок  Корнево',\n",
       " 'поселок  Кондратьево',\n",
       " 'поселок  Кивеннапа Север',\n",
       " 'поселок  Ефимовский',\n",
       " 'поселок  Дубровка',\n",
       " 'поселок  Дружная Горка',\n",
       " 'поселок  Громово',\n",
       " 'поселок  Вырица',\n",
       " 'поселок  Вознесенье',\n",
       " 'поселок  Виллози',\n",
       " 'поселок  Вещево',\n",
       " 'поселок  Важины',\n",
       " 'поселок  Будогощь',\n",
       " 'поселок  Большая Ижора',\n",
       " 'деревня Ям-Тесово',\n",
       " 'деревня Яльгелево',\n",
       " 'деревня Ялгино',\n",
       " 'деревня Юкки',\n",
       " 'деревня Щеглово',\n",
       " 'деревня Шпаньково',\n",
       " 'деревня Чудской Бор',\n",
       " 'деревня Хязельки',\n",
       " 'деревня Хапо-Ое',\n",
       " 'деревня Федоровское',\n",
       " 'деревня Фалилеево',\n",
       " 'деревня Трубников Бор',\n",
       " 'деревня Торошковичи',\n",
       " 'деревня Торосово',\n",
       " 'деревня Тойворово',\n",
       " 'деревня Тихковицы',\n",
       " 'деревня Терпилицы',\n",
       " 'деревня Тарасово',\n",
       " 'деревня Сяськелево',\n",
       " 'деревня Суоранда',\n",
       " 'деревня Старые Бегуницы',\n",
       " 'деревня Старосиверская',\n",
       " 'деревня Старополье',\n",
       " 'деревня Старое Хинколово',\n",
       " 'деревня Старая Пустошь',\n",
       " 'деревня Старая',\n",
       " 'деревня Снегиревка',\n",
       " 'деревня Сижно',\n",
       " 'деревня Русско',\n",
       " 'деревня Реброво',\n",
       " 'деревня Рапполово',\n",
       " 'деревня Разметелево',\n",
       " 'деревня Раздолье',\n",
       " 'деревня Разбегаево',\n",
       " 'деревня Рабитицы',\n",
       " 'деревня Пчева',\n",
       " 'деревня Пустынка',\n",
       " 'деревня Пудомяги',\n",
       " 'деревня Пикколово',\n",
       " 'деревня Пижма',\n",
       " 'деревня Пеники',\n",
       " 'деревня Пельгора',\n",
       " 'деревня Парицы',\n",
       " 'деревня Оржицы',\n",
       " 'деревня Нурма',\n",
       " 'деревня Новолисино',\n",
       " 'деревня Новое Девяткино',\n",
       " 'деревня Низино',\n",
       " 'деревня Нижняя',\n",
       " 'деревня Нижние Осельки',\n",
       " 'деревня Ненимяки',\n",
       " 'деревня Мистолово',\n",
       " 'деревня Мины',\n",
       " 'деревня Меньково',\n",
       " 'деревня Мануйлово',\n",
       " 'деревня Малые Колпаны',\n",
       " 'деревня Малое Карлино',\n",
       " 'деревня Малое Верево',\n",
       " 'деревня Малая Романовка',\n",
       " 'деревня Лупполово',\n",
       " 'деревня Лопухинка',\n",
       " 'деревня Лесколово',\n",
       " 'деревня Лампово',\n",
       " 'деревня Лаголово',\n",
       " 'деревня Лаврики',\n",
       " 'деревня Куттузи',\n",
       " 'деревня Куровицы',\n",
       " 'деревня Курковицы',\n",
       " 'деревня Кузьмолово',\n",
       " 'деревня Кудрово',\n",
       " 'деревня Кривко',\n",
       " 'деревня Котлы',\n",
       " 'деревня Коркино',\n",
       " 'деревня Колтуши',\n",
       " 'деревня Кисельня',\n",
       " 'деревня Кипень',\n",
       " 'деревня Келози',\n",
       " 'деревня Каськово',\n",
       " 'деревня Камышовка',\n",
       " 'деревня Кальтино',\n",
       " 'деревня Калитино',\n",
       " 'деревня Иссад',\n",
       " 'деревня Извара',\n",
       " 'деревня Зимитицы',\n",
       " 'деревня Заневка',\n",
       " 'деревня Заклинье',\n",
       " 'деревня Гостилицы',\n",
       " 'деревня Горбунки',\n",
       " 'деревня Глинка',\n",
       " 'деревня Гарболово',\n",
       " 'деревня Выскатка',\n",
       " 'деревня Вахнова Кара',\n",
       " 'деревня Вартемяги',\n",
       " 'деревня Ваганово',\n",
       " 'деревня Борисова Грива',\n",
       " 'деревня Бор',\n",
       " 'деревня Большой Сабск',\n",
       " 'деревня Большое Рейзино',\n",
       " 'деревня Большие Колпаны',\n",
       " 'деревня Большая Пустомержа',\n",
       " 'деревня Большая Вруда',\n",
       " 'деревня Белогорка',\n",
       " 'деревня Бегуницы',\n",
       " 'деревня Батово',\n",
       " 'деревня Аро',\n",
       " 'деревня Агалатово',\n",
       " 'Шлиссельбург',\n",
       " 'Тосно',\n",
       " 'Тихвин',\n",
       " 'Сясьстрой',\n",
       " 'Сосновый Бор',\n",
       " 'Сланцы',\n",
       " 'Сестрорецк',\n",
       " 'Сертолово',\n",
       " 'Светогорск',\n",
       " 'Санкт-Петербург',\n",
       " 'Пушкин',\n",
       " 'Приозерск',\n",
       " 'Приморск',\n",
       " 'Подпорожье',\n",
       " 'Пикалево',\n",
       " 'Петергоф',\n",
       " 'Павловск',\n",
       " 'Отрадное',\n",
       " 'Новая Ладога',\n",
       " 'Никольское',\n",
       " 'Мурино',\n",
       " 'Любань',\n",
       " 'Луга',\n",
       " 'Ломоносов',\n",
       " 'Лодейное Поле',\n",
       " 'Кудрово',\n",
       " 'Кронштадт',\n",
       " 'Красное Село',\n",
       " 'Коммунар',\n",
       " 'Колпино',\n",
       " 'Кировск',\n",
       " 'Кириши',\n",
       " 'Кингисепп',\n",
       " 'Каменногорск',\n",
       " 'Ивангород',\n",
       " 'Зеленогорск',\n",
       " 'Гатчина',\n",
       " 'Высоцк',\n",
       " 'Выборг',\n",
       " 'Всеволожск',\n",
       " 'Волхов',\n",
       " 'Волосово',\n",
       " 'Бокситогорск',\n",
       " nan]"
      ]
     },
     "execution_count": 17,
     "metadata": {},
     "output_type": "execute_result"
    }
   ],
   "source": [
    "list(data['locality_name'].sort_values(ascending=False).unique())"
   ]
  },
  {
   "cell_type": "markdown",
   "metadata": {},
   "source": [
    "Возьмем список всех столбцов и предположим в каких могут быть аномальные значения.\n",
    "\n",
    "**Все столбцы:**\n",
    "* airports_nearest — расстояние до ближайшего аэропорта в метрах (м)\n",
    "* balcony — число балконов\n",
    "* ceiling_height — высота потолков (м)\n",
    "* cityCenters_nearest — расстояние до центра города (м)\n",
    "* days_exposition — сколько дней было размещено объявление (от публикации до снятия)\n",
    "* first_day_exposition — дата публикации\n",
    "* floor — этаж\n",
    "* floors_total — всего этажей в доме\n",
    "* is_apartment — апартаменты (булев тип)\n",
    "* kitchen_area — площадь кухни в квадратных метрах (м²)\n",
    "* last_price — цена на момент снятия с публикации\n",
    "* living_area — жилая площадь в квадратных метрах (м²)\n",
    "* locality_name — название населённого пункта\n",
    "* open_plan — свободная планировка (булев тип)\n",
    "* parks_around3000 — число парков в радиусе 3 км\n",
    "* parks_nearest — расстояние до ближайшего парка (м)\n",
    "* ponds_around3000 — число водоёмов в радиусе 3 км\n",
    "* ponds_nearest — расстояние до ближайшего водоёма (м)\n",
    "* rooms — число комнат\n",
    "* studio — квартира-студия (булев тип)\n",
    "* total_area — общая площадь квартиры в квадратных метрах (м²)\n",
    "* total_images — число фотографий квартиры в объявлении"
   ]
  },
  {
   "cell_type": "markdown",
   "metadata": {},
   "source": [
    "**Вывод:** в ходе предобработки данных были исправлены типы данных в некоторых столбцах на подходящие, исправлены неявные дубликаты, а также заполнены пропуски в тех местах, в которых это можно было сделать, логически обосновав."
   ]
  },
  {
   "cell_type": "markdown",
   "metadata": {
    "id": "QCcvyY6YAwb-"
   },
   "source": [
    "## Добавление в таблицу новых столбцов"
   ]
  },
  {
   "cell_type": "code",
   "execution_count": 18,
   "metadata": {},
   "outputs": [
    {
     "data": {
      "text/html": [
       "<div>\n",
       "<style scoped>\n",
       "    .dataframe tbody tr th:only-of-type {\n",
       "        vertical-align: middle;\n",
       "    }\n",
       "\n",
       "    .dataframe tbody tr th {\n",
       "        vertical-align: top;\n",
       "    }\n",
       "\n",
       "    .dataframe thead th {\n",
       "        text-align: right;\n",
       "    }\n",
       "</style>\n",
       "<table border=\"1\" class=\"dataframe\">\n",
       "  <thead>\n",
       "    <tr style=\"text-align: right;\">\n",
       "      <th></th>\n",
       "      <th>total_images</th>\n",
       "      <th>last_price</th>\n",
       "      <th>total_area</th>\n",
       "      <th>first_day_exposition</th>\n",
       "      <th>rooms</th>\n",
       "      <th>ceiling_height</th>\n",
       "      <th>floors_total</th>\n",
       "      <th>living_area</th>\n",
       "      <th>floor</th>\n",
       "      <th>is_apartment</th>\n",
       "      <th>...</th>\n",
       "      <th>balcony</th>\n",
       "      <th>locality_name</th>\n",
       "      <th>airports_nearest</th>\n",
       "      <th>cityCenters_nearest</th>\n",
       "      <th>parks_around3000</th>\n",
       "      <th>parks_nearest</th>\n",
       "      <th>ponds_around3000</th>\n",
       "      <th>ponds_nearest</th>\n",
       "      <th>days_exposition</th>\n",
       "      <th>sqm_price</th>\n",
       "    </tr>\n",
       "  </thead>\n",
       "  <tbody>\n",
       "    <tr>\n",
       "      <th>0</th>\n",
       "      <td>20</td>\n",
       "      <td>13000000</td>\n",
       "      <td>108.0</td>\n",
       "      <td>2019-03-07</td>\n",
       "      <td>3</td>\n",
       "      <td>2.7</td>\n",
       "      <td>16</td>\n",
       "      <td>51.0</td>\n",
       "      <td>8</td>\n",
       "      <td>False</td>\n",
       "      <td>...</td>\n",
       "      <td>0</td>\n",
       "      <td>Санкт-Петербург</td>\n",
       "      <td>18863</td>\n",
       "      <td>16028</td>\n",
       "      <td>1</td>\n",
       "      <td>482</td>\n",
       "      <td>2</td>\n",
       "      <td>755</td>\n",
       "      <td>5000</td>\n",
       "      <td>120370</td>\n",
       "    </tr>\n",
       "  </tbody>\n",
       "</table>\n",
       "<p>1 rows × 23 columns</p>\n",
       "</div>"
      ],
      "text/plain": [
       "   total_images  last_price  total_area first_day_exposition  rooms  \\\n",
       "0            20    13000000       108.0           2019-03-07      3   \n",
       "\n",
       "   ceiling_height  floors_total  living_area  floor  is_apartment  ...  \\\n",
       "0             2.7            16         51.0      8         False  ...   \n",
       "\n",
       "   balcony    locality_name  airports_nearest  cityCenters_nearest  \\\n",
       "0        0  Санкт-Петербург             18863                16028   \n",
       "\n",
       "  parks_around3000  parks_nearest  ponds_around3000  ponds_nearest  \\\n",
       "0                1            482                 2            755   \n",
       "\n",
       "   days_exposition  sqm_price  \n",
       "0             5000     120370  \n",
       "\n",
       "[1 rows x 23 columns]"
      ]
     },
     "execution_count": 18,
     "metadata": {},
     "output_type": "execute_result"
    }
   ],
   "source": [
    "#Добавим в таблицу цену одного квадратного метра\n",
    "data['sqm_price'] = (data['last_price'] / data['total_area']).astype(int)\n",
    "data.head(1)"
   ]
  },
  {
   "cell_type": "code",
   "execution_count": 19,
   "metadata": {},
   "outputs": [
    {
     "data": {
      "text/html": [
       "<div>\n",
       "<style scoped>\n",
       "    .dataframe tbody tr th:only-of-type {\n",
       "        vertical-align: middle;\n",
       "    }\n",
       "\n",
       "    .dataframe tbody tr th {\n",
       "        vertical-align: top;\n",
       "    }\n",
       "\n",
       "    .dataframe thead th {\n",
       "        text-align: right;\n",
       "    }\n",
       "</style>\n",
       "<table border=\"1\" class=\"dataframe\">\n",
       "  <thead>\n",
       "    <tr style=\"text-align: right;\">\n",
       "      <th></th>\n",
       "      <th>total_images</th>\n",
       "      <th>last_price</th>\n",
       "      <th>total_area</th>\n",
       "      <th>first_day_exposition</th>\n",
       "      <th>rooms</th>\n",
       "      <th>ceiling_height</th>\n",
       "      <th>floors_total</th>\n",
       "      <th>living_area</th>\n",
       "      <th>floor</th>\n",
       "      <th>is_apartment</th>\n",
       "      <th>...</th>\n",
       "      <th>locality_name</th>\n",
       "      <th>airports_nearest</th>\n",
       "      <th>cityCenters_nearest</th>\n",
       "      <th>parks_around3000</th>\n",
       "      <th>parks_nearest</th>\n",
       "      <th>ponds_around3000</th>\n",
       "      <th>ponds_nearest</th>\n",
       "      <th>days_exposition</th>\n",
       "      <th>sqm_price</th>\n",
       "      <th>day_week</th>\n",
       "    </tr>\n",
       "  </thead>\n",
       "  <tbody>\n",
       "    <tr>\n",
       "      <th>0</th>\n",
       "      <td>20</td>\n",
       "      <td>13000000</td>\n",
       "      <td>108.0</td>\n",
       "      <td>2019-03-07</td>\n",
       "      <td>3</td>\n",
       "      <td>2.7</td>\n",
       "      <td>16</td>\n",
       "      <td>51.0</td>\n",
       "      <td>8</td>\n",
       "      <td>False</td>\n",
       "      <td>...</td>\n",
       "      <td>Санкт-Петербург</td>\n",
       "      <td>18863</td>\n",
       "      <td>16028</td>\n",
       "      <td>1</td>\n",
       "      <td>482</td>\n",
       "      <td>2</td>\n",
       "      <td>755</td>\n",
       "      <td>5000</td>\n",
       "      <td>120370</td>\n",
       "      <td>3</td>\n",
       "    </tr>\n",
       "  </tbody>\n",
       "</table>\n",
       "<p>1 rows × 24 columns</p>\n",
       "</div>"
      ],
      "text/plain": [
       "   total_images  last_price  total_area first_day_exposition  rooms  \\\n",
       "0            20    13000000       108.0           2019-03-07      3   \n",
       "\n",
       "   ceiling_height  floors_total  living_area  floor  is_apartment  ...  \\\n",
       "0             2.7            16         51.0      8         False  ...   \n",
       "\n",
       "     locality_name  airports_nearest  cityCenters_nearest  parks_around3000  \\\n",
       "0  Санкт-Петербург             18863                16028                 1   \n",
       "\n",
       "  parks_nearest  ponds_around3000  ponds_nearest  days_exposition  sqm_price  \\\n",
       "0           482                 2            755             5000     120370   \n",
       "\n",
       "   day_week  \n",
       "0         3  \n",
       "\n",
       "[1 rows x 24 columns]"
      ]
     },
     "execution_count": 19,
     "metadata": {},
     "output_type": "execute_result"
    }
   ],
   "source": [
    "#Добавим в таблицу группировку по дням недели\n",
    "data['day_week'] = data['first_day_exposition'].dt.weekday\n",
    "data.head(1)"
   ]
  },
  {
   "cell_type": "code",
   "execution_count": 20,
   "metadata": {},
   "outputs": [
    {
     "data": {
      "text/html": [
       "<div>\n",
       "<style scoped>\n",
       "    .dataframe tbody tr th:only-of-type {\n",
       "        vertical-align: middle;\n",
       "    }\n",
       "\n",
       "    .dataframe tbody tr th {\n",
       "        vertical-align: top;\n",
       "    }\n",
       "\n",
       "    .dataframe thead th {\n",
       "        text-align: right;\n",
       "    }\n",
       "</style>\n",
       "<table border=\"1\" class=\"dataframe\">\n",
       "  <thead>\n",
       "    <tr style=\"text-align: right;\">\n",
       "      <th></th>\n",
       "      <th>total_images</th>\n",
       "      <th>last_price</th>\n",
       "      <th>total_area</th>\n",
       "      <th>first_day_exposition</th>\n",
       "      <th>rooms</th>\n",
       "      <th>ceiling_height</th>\n",
       "      <th>floors_total</th>\n",
       "      <th>living_area</th>\n",
       "      <th>floor</th>\n",
       "      <th>is_apartment</th>\n",
       "      <th>...</th>\n",
       "      <th>airports_nearest</th>\n",
       "      <th>cityCenters_nearest</th>\n",
       "      <th>parks_around3000</th>\n",
       "      <th>parks_nearest</th>\n",
       "      <th>ponds_around3000</th>\n",
       "      <th>ponds_nearest</th>\n",
       "      <th>days_exposition</th>\n",
       "      <th>sqm_price</th>\n",
       "      <th>day_week</th>\n",
       "      <th>moth_publish</th>\n",
       "    </tr>\n",
       "  </thead>\n",
       "  <tbody>\n",
       "    <tr>\n",
       "      <th>0</th>\n",
       "      <td>20</td>\n",
       "      <td>13000000</td>\n",
       "      <td>108.0</td>\n",
       "      <td>2019-03-07</td>\n",
       "      <td>3</td>\n",
       "      <td>2.7</td>\n",
       "      <td>16</td>\n",
       "      <td>51.0</td>\n",
       "      <td>8</td>\n",
       "      <td>False</td>\n",
       "      <td>...</td>\n",
       "      <td>18863</td>\n",
       "      <td>16028</td>\n",
       "      <td>1</td>\n",
       "      <td>482</td>\n",
       "      <td>2</td>\n",
       "      <td>755</td>\n",
       "      <td>5000</td>\n",
       "      <td>120370</td>\n",
       "      <td>3</td>\n",
       "      <td>3</td>\n",
       "    </tr>\n",
       "  </tbody>\n",
       "</table>\n",
       "<p>1 rows × 25 columns</p>\n",
       "</div>"
      ],
      "text/plain": [
       "   total_images  last_price  total_area first_day_exposition  rooms  \\\n",
       "0            20    13000000       108.0           2019-03-07      3   \n",
       "\n",
       "   ceiling_height  floors_total  living_area  floor  is_apartment  ...  \\\n",
       "0             2.7            16         51.0      8         False  ...   \n",
       "\n",
       "   airports_nearest  cityCenters_nearest  parks_around3000  parks_nearest  \\\n",
       "0             18863                16028                 1            482   \n",
       "\n",
       "  ponds_around3000  ponds_nearest  days_exposition  sqm_price  day_week  \\\n",
       "0                2            755             5000     120370         3   \n",
       "\n",
       "   moth_publish  \n",
       "0             3  \n",
       "\n",
       "[1 rows x 25 columns]"
      ]
     },
     "execution_count": 20,
     "metadata": {},
     "output_type": "execute_result"
    }
   ],
   "source": [
    "#Добавим в таблицу группировку по месяцам публикации\n",
    "data['moth_publish'] = data['first_day_exposition'].dt.month\n",
    "data.head(1)"
   ]
  },
  {
   "cell_type": "code",
   "execution_count": 21,
   "metadata": {},
   "outputs": [
    {
     "data": {
      "text/html": [
       "<div>\n",
       "<style scoped>\n",
       "    .dataframe tbody tr th:only-of-type {\n",
       "        vertical-align: middle;\n",
       "    }\n",
       "\n",
       "    .dataframe tbody tr th {\n",
       "        vertical-align: top;\n",
       "    }\n",
       "\n",
       "    .dataframe thead th {\n",
       "        text-align: right;\n",
       "    }\n",
       "</style>\n",
       "<table border=\"1\" class=\"dataframe\">\n",
       "  <thead>\n",
       "    <tr style=\"text-align: right;\">\n",
       "      <th></th>\n",
       "      <th>total_images</th>\n",
       "      <th>last_price</th>\n",
       "      <th>total_area</th>\n",
       "      <th>first_day_exposition</th>\n",
       "      <th>rooms</th>\n",
       "      <th>ceiling_height</th>\n",
       "      <th>floors_total</th>\n",
       "      <th>living_area</th>\n",
       "      <th>floor</th>\n",
       "      <th>is_apartment</th>\n",
       "      <th>...</th>\n",
       "      <th>cityCenters_nearest</th>\n",
       "      <th>parks_around3000</th>\n",
       "      <th>parks_nearest</th>\n",
       "      <th>ponds_around3000</th>\n",
       "      <th>ponds_nearest</th>\n",
       "      <th>days_exposition</th>\n",
       "      <th>sqm_price</th>\n",
       "      <th>day_week</th>\n",
       "      <th>moth_publish</th>\n",
       "      <th>year_publish</th>\n",
       "    </tr>\n",
       "  </thead>\n",
       "  <tbody>\n",
       "    <tr>\n",
       "      <th>0</th>\n",
       "      <td>20</td>\n",
       "      <td>13000000</td>\n",
       "      <td>108.0</td>\n",
       "      <td>2019-03-07</td>\n",
       "      <td>3</td>\n",
       "      <td>2.7</td>\n",
       "      <td>16</td>\n",
       "      <td>51.0</td>\n",
       "      <td>8</td>\n",
       "      <td>False</td>\n",
       "      <td>...</td>\n",
       "      <td>16028</td>\n",
       "      <td>1</td>\n",
       "      <td>482</td>\n",
       "      <td>2</td>\n",
       "      <td>755</td>\n",
       "      <td>5000</td>\n",
       "      <td>120370</td>\n",
       "      <td>3</td>\n",
       "      <td>3</td>\n",
       "      <td>2019</td>\n",
       "    </tr>\n",
       "  </tbody>\n",
       "</table>\n",
       "<p>1 rows × 26 columns</p>\n",
       "</div>"
      ],
      "text/plain": [
       "   total_images  last_price  total_area first_day_exposition  rooms  \\\n",
       "0            20    13000000       108.0           2019-03-07      3   \n",
       "\n",
       "   ceiling_height  floors_total  living_area  floor  is_apartment  ...  \\\n",
       "0             2.7            16         51.0      8         False  ...   \n",
       "\n",
       "   cityCenters_nearest  parks_around3000  parks_nearest  ponds_around3000  \\\n",
       "0                16028                 1            482                 2   \n",
       "\n",
       "  ponds_nearest  days_exposition  sqm_price  day_week  moth_publish  \\\n",
       "0           755             5000     120370         3             3   \n",
       "\n",
       "   year_publish  \n",
       "0          2019  \n",
       "\n",
       "[1 rows x 26 columns]"
      ]
     },
     "execution_count": 21,
     "metadata": {},
     "output_type": "execute_result"
    }
   ],
   "source": [
    "#Добавим в таблицу группировку по годам публикации\n",
    "data['year_publish'] = data['first_day_exposition'].dt.year\n",
    "data.head(1)"
   ]
  },
  {
   "cell_type": "code",
   "execution_count": 22,
   "metadata": {},
   "outputs": [
    {
     "data": {
      "text/plain": [
       "0"
      ]
     },
     "execution_count": 22,
     "metadata": {},
     "output_type": "execute_result"
    }
   ],
   "source": [
    "data = data.dropna(subset=['floors_total'])\n",
    "data['floors_total'].isna().sum()"
   ]
  },
  {
   "cell_type": "code",
   "execution_count": 23,
   "metadata": {},
   "outputs": [
    {
     "data": {
      "text/html": [
       "<div>\n",
       "<style scoped>\n",
       "    .dataframe tbody tr th:only-of-type {\n",
       "        vertical-align: middle;\n",
       "    }\n",
       "\n",
       "    .dataframe tbody tr th {\n",
       "        vertical-align: top;\n",
       "    }\n",
       "\n",
       "    .dataframe thead th {\n",
       "        text-align: right;\n",
       "    }\n",
       "</style>\n",
       "<table border=\"1\" class=\"dataframe\">\n",
       "  <thead>\n",
       "    <tr style=\"text-align: right;\">\n",
       "      <th></th>\n",
       "      <th>total_images</th>\n",
       "      <th>last_price</th>\n",
       "      <th>total_area</th>\n",
       "      <th>first_day_exposition</th>\n",
       "      <th>rooms</th>\n",
       "      <th>ceiling_height</th>\n",
       "      <th>floors_total</th>\n",
       "      <th>living_area</th>\n",
       "      <th>floor</th>\n",
       "      <th>is_apartment</th>\n",
       "      <th>...</th>\n",
       "      <th>parks_around3000</th>\n",
       "      <th>parks_nearest</th>\n",
       "      <th>ponds_around3000</th>\n",
       "      <th>ponds_nearest</th>\n",
       "      <th>days_exposition</th>\n",
       "      <th>sqm_price</th>\n",
       "      <th>day_week</th>\n",
       "      <th>moth_publish</th>\n",
       "      <th>year_publish</th>\n",
       "      <th>floor_type</th>\n",
       "    </tr>\n",
       "  </thead>\n",
       "  <tbody>\n",
       "    <tr>\n",
       "      <th>0</th>\n",
       "      <td>20</td>\n",
       "      <td>13000000</td>\n",
       "      <td>108.0</td>\n",
       "      <td>2019-03-07</td>\n",
       "      <td>3</td>\n",
       "      <td>2.70</td>\n",
       "      <td>16</td>\n",
       "      <td>51.0</td>\n",
       "      <td>8</td>\n",
       "      <td>False</td>\n",
       "      <td>...</td>\n",
       "      <td>1</td>\n",
       "      <td>482</td>\n",
       "      <td>2</td>\n",
       "      <td>755</td>\n",
       "      <td>5000</td>\n",
       "      <td>120370</td>\n",
       "      <td>3</td>\n",
       "      <td>3</td>\n",
       "      <td>2019</td>\n",
       "      <td>другой</td>\n",
       "    </tr>\n",
       "    <tr>\n",
       "      <th>1</th>\n",
       "      <td>7</td>\n",
       "      <td>3350000</td>\n",
       "      <td>40.4</td>\n",
       "      <td>2018-12-04</td>\n",
       "      <td>1</td>\n",
       "      <td>2.65</td>\n",
       "      <td>11</td>\n",
       "      <td>18.6</td>\n",
       "      <td>1</td>\n",
       "      <td>False</td>\n",
       "      <td>...</td>\n",
       "      <td>0</td>\n",
       "      <td>&lt;NA&gt;</td>\n",
       "      <td>0</td>\n",
       "      <td>&lt;NA&gt;</td>\n",
       "      <td>81</td>\n",
       "      <td>82920</td>\n",
       "      <td>1</td>\n",
       "      <td>12</td>\n",
       "      <td>2018</td>\n",
       "      <td>первый</td>\n",
       "    </tr>\n",
       "    <tr>\n",
       "      <th>2</th>\n",
       "      <td>10</td>\n",
       "      <td>5196000</td>\n",
       "      <td>56.0</td>\n",
       "      <td>2015-08-20</td>\n",
       "      <td>2</td>\n",
       "      <td>2.65</td>\n",
       "      <td>5</td>\n",
       "      <td>34.3</td>\n",
       "      <td>4</td>\n",
       "      <td>False</td>\n",
       "      <td>...</td>\n",
       "      <td>1</td>\n",
       "      <td>90</td>\n",
       "      <td>2</td>\n",
       "      <td>574</td>\n",
       "      <td>558</td>\n",
       "      <td>92785</td>\n",
       "      <td>3</td>\n",
       "      <td>8</td>\n",
       "      <td>2015</td>\n",
       "      <td>другой</td>\n",
       "    </tr>\n",
       "    <tr>\n",
       "      <th>3</th>\n",
       "      <td>0</td>\n",
       "      <td>64900000</td>\n",
       "      <td>159.0</td>\n",
       "      <td>2015-07-24</td>\n",
       "      <td>3</td>\n",
       "      <td>2.65</td>\n",
       "      <td>14</td>\n",
       "      <td>NaN</td>\n",
       "      <td>9</td>\n",
       "      <td>False</td>\n",
       "      <td>...</td>\n",
       "      <td>2</td>\n",
       "      <td>84</td>\n",
       "      <td>3</td>\n",
       "      <td>234</td>\n",
       "      <td>424</td>\n",
       "      <td>408176</td>\n",
       "      <td>4</td>\n",
       "      <td>7</td>\n",
       "      <td>2015</td>\n",
       "      <td>другой</td>\n",
       "    </tr>\n",
       "    <tr>\n",
       "      <th>4</th>\n",
       "      <td>2</td>\n",
       "      <td>10000000</td>\n",
       "      <td>100.0</td>\n",
       "      <td>2018-06-19</td>\n",
       "      <td>2</td>\n",
       "      <td>3.03</td>\n",
       "      <td>14</td>\n",
       "      <td>32.0</td>\n",
       "      <td>13</td>\n",
       "      <td>False</td>\n",
       "      <td>...</td>\n",
       "      <td>2</td>\n",
       "      <td>112</td>\n",
       "      <td>1</td>\n",
       "      <td>48</td>\n",
       "      <td>121</td>\n",
       "      <td>100000</td>\n",
       "      <td>1</td>\n",
       "      <td>6</td>\n",
       "      <td>2018</td>\n",
       "      <td>другой</td>\n",
       "    </tr>\n",
       "  </tbody>\n",
       "</table>\n",
       "<p>5 rows × 27 columns</p>\n",
       "</div>"
      ],
      "text/plain": [
       "   total_images  last_price  total_area first_day_exposition  rooms  \\\n",
       "0            20    13000000       108.0           2019-03-07      3   \n",
       "1             7     3350000        40.4           2018-12-04      1   \n",
       "2            10     5196000        56.0           2015-08-20      2   \n",
       "3             0    64900000       159.0           2015-07-24      3   \n",
       "4             2    10000000       100.0           2018-06-19      2   \n",
       "\n",
       "   ceiling_height  floors_total  living_area  floor  is_apartment  ...  \\\n",
       "0            2.70            16         51.0      8         False  ...   \n",
       "1            2.65            11         18.6      1         False  ...   \n",
       "2            2.65             5         34.3      4         False  ...   \n",
       "3            2.65            14          NaN      9         False  ...   \n",
       "4            3.03            14         32.0     13         False  ...   \n",
       "\n",
       "   parks_around3000  parks_nearest  ponds_around3000  ponds_nearest  \\\n",
       "0                 1            482                 2            755   \n",
       "1                 0           <NA>                 0           <NA>   \n",
       "2                 1             90                 2            574   \n",
       "3                 2             84                 3            234   \n",
       "4                 2            112                 1             48   \n",
       "\n",
       "  days_exposition  sqm_price  day_week  moth_publish  year_publish  floor_type  \n",
       "0            5000     120370         3             3          2019      другой  \n",
       "1              81      82920         1            12          2018      первый  \n",
       "2             558      92785         3             8          2015      другой  \n",
       "3             424     408176         4             7          2015      другой  \n",
       "4             121     100000         1             6          2018      другой  \n",
       "\n",
       "[5 rows x 27 columns]"
      ]
     },
     "execution_count": 23,
     "metadata": {},
     "output_type": "execute_result"
    }
   ],
   "source": [
    "#Добавим в таблицу столбец с типом этажа квартиры\n",
    "def floor_type(row):\n",
    "        if row['floor'] == row['floors_total']: return 'последний'\n",
    "        elif row['floor'] == 1: return 'первый'\n",
    "        else: return 'другой'\n",
    "\n",
    "data['floor_type'] = data.apply(floor_type, axis=1)\n",
    "data.head()"
   ]
  },
  {
   "cell_type": "code",
   "execution_count": 24,
   "metadata": {
    "scrolled": true
   },
   "outputs": [
    {
     "data": {
      "text/html": [
       "<div>\n",
       "<style scoped>\n",
       "    .dataframe tbody tr th:only-of-type {\n",
       "        vertical-align: middle;\n",
       "    }\n",
       "\n",
       "    .dataframe tbody tr th {\n",
       "        vertical-align: top;\n",
       "    }\n",
       "\n",
       "    .dataframe thead th {\n",
       "        text-align: right;\n",
       "    }\n",
       "</style>\n",
       "<table border=\"1\" class=\"dataframe\">\n",
       "  <thead>\n",
       "    <tr style=\"text-align: right;\">\n",
       "      <th></th>\n",
       "      <th>total_images</th>\n",
       "      <th>last_price</th>\n",
       "      <th>total_area</th>\n",
       "      <th>first_day_exposition</th>\n",
       "      <th>rooms</th>\n",
       "      <th>ceiling_height</th>\n",
       "      <th>floors_total</th>\n",
       "      <th>living_area</th>\n",
       "      <th>floor</th>\n",
       "      <th>is_apartment</th>\n",
       "      <th>...</th>\n",
       "      <th>parks_nearest</th>\n",
       "      <th>ponds_around3000</th>\n",
       "      <th>ponds_nearest</th>\n",
       "      <th>days_exposition</th>\n",
       "      <th>sqm_price</th>\n",
       "      <th>day_week</th>\n",
       "      <th>moth_publish</th>\n",
       "      <th>year_publish</th>\n",
       "      <th>floor_type</th>\n",
       "      <th>km_to_city_center</th>\n",
       "    </tr>\n",
       "  </thead>\n",
       "  <tbody>\n",
       "    <tr>\n",
       "      <th>0</th>\n",
       "      <td>20</td>\n",
       "      <td>13000000</td>\n",
       "      <td>108.0</td>\n",
       "      <td>2019-03-07</td>\n",
       "      <td>3</td>\n",
       "      <td>2.70</td>\n",
       "      <td>16</td>\n",
       "      <td>51.0</td>\n",
       "      <td>8</td>\n",
       "      <td>False</td>\n",
       "      <td>...</td>\n",
       "      <td>482</td>\n",
       "      <td>2</td>\n",
       "      <td>755</td>\n",
       "      <td>5000</td>\n",
       "      <td>120370</td>\n",
       "      <td>3</td>\n",
       "      <td>3</td>\n",
       "      <td>2019</td>\n",
       "      <td>другой</td>\n",
       "      <td>16.028</td>\n",
       "    </tr>\n",
       "    <tr>\n",
       "      <th>1</th>\n",
       "      <td>7</td>\n",
       "      <td>3350000</td>\n",
       "      <td>40.4</td>\n",
       "      <td>2018-12-04</td>\n",
       "      <td>1</td>\n",
       "      <td>2.65</td>\n",
       "      <td>11</td>\n",
       "      <td>18.6</td>\n",
       "      <td>1</td>\n",
       "      <td>False</td>\n",
       "      <td>...</td>\n",
       "      <td>&lt;NA&gt;</td>\n",
       "      <td>0</td>\n",
       "      <td>&lt;NA&gt;</td>\n",
       "      <td>81</td>\n",
       "      <td>82920</td>\n",
       "      <td>1</td>\n",
       "      <td>12</td>\n",
       "      <td>2018</td>\n",
       "      <td>первый</td>\n",
       "      <td>18.603</td>\n",
       "    </tr>\n",
       "    <tr>\n",
       "      <th>2</th>\n",
       "      <td>10</td>\n",
       "      <td>5196000</td>\n",
       "      <td>56.0</td>\n",
       "      <td>2015-08-20</td>\n",
       "      <td>2</td>\n",
       "      <td>2.65</td>\n",
       "      <td>5</td>\n",
       "      <td>34.3</td>\n",
       "      <td>4</td>\n",
       "      <td>False</td>\n",
       "      <td>...</td>\n",
       "      <td>90</td>\n",
       "      <td>2</td>\n",
       "      <td>574</td>\n",
       "      <td>558</td>\n",
       "      <td>92785</td>\n",
       "      <td>3</td>\n",
       "      <td>8</td>\n",
       "      <td>2015</td>\n",
       "      <td>другой</td>\n",
       "      <td>13.933</td>\n",
       "    </tr>\n",
       "    <tr>\n",
       "      <th>3</th>\n",
       "      <td>0</td>\n",
       "      <td>64900000</td>\n",
       "      <td>159.0</td>\n",
       "      <td>2015-07-24</td>\n",
       "      <td>3</td>\n",
       "      <td>2.65</td>\n",
       "      <td>14</td>\n",
       "      <td>NaN</td>\n",
       "      <td>9</td>\n",
       "      <td>False</td>\n",
       "      <td>...</td>\n",
       "      <td>84</td>\n",
       "      <td>3</td>\n",
       "      <td>234</td>\n",
       "      <td>424</td>\n",
       "      <td>408176</td>\n",
       "      <td>4</td>\n",
       "      <td>7</td>\n",
       "      <td>2015</td>\n",
       "      <td>другой</td>\n",
       "      <td>6.8</td>\n",
       "    </tr>\n",
       "    <tr>\n",
       "      <th>4</th>\n",
       "      <td>2</td>\n",
       "      <td>10000000</td>\n",
       "      <td>100.0</td>\n",
       "      <td>2018-06-19</td>\n",
       "      <td>2</td>\n",
       "      <td>3.03</td>\n",
       "      <td>14</td>\n",
       "      <td>32.0</td>\n",
       "      <td>13</td>\n",
       "      <td>False</td>\n",
       "      <td>...</td>\n",
       "      <td>112</td>\n",
       "      <td>1</td>\n",
       "      <td>48</td>\n",
       "      <td>121</td>\n",
       "      <td>100000</td>\n",
       "      <td>1</td>\n",
       "      <td>6</td>\n",
       "      <td>2018</td>\n",
       "      <td>другой</td>\n",
       "      <td>8.098</td>\n",
       "    </tr>\n",
       "  </tbody>\n",
       "</table>\n",
       "<p>5 rows × 28 columns</p>\n",
       "</div>"
      ],
      "text/plain": [
       "   total_images  last_price  total_area first_day_exposition  rooms  \\\n",
       "0            20    13000000       108.0           2019-03-07      3   \n",
       "1             7     3350000        40.4           2018-12-04      1   \n",
       "2            10     5196000        56.0           2015-08-20      2   \n",
       "3             0    64900000       159.0           2015-07-24      3   \n",
       "4             2    10000000       100.0           2018-06-19      2   \n",
       "\n",
       "   ceiling_height  floors_total  living_area  floor  is_apartment  ...  \\\n",
       "0            2.70            16         51.0      8         False  ...   \n",
       "1            2.65            11         18.6      1         False  ...   \n",
       "2            2.65             5         34.3      4         False  ...   \n",
       "3            2.65            14          NaN      9         False  ...   \n",
       "4            3.03            14         32.0     13         False  ...   \n",
       "\n",
       "   parks_nearest  ponds_around3000  ponds_nearest  days_exposition sqm_price  \\\n",
       "0            482                 2            755             5000    120370   \n",
       "1           <NA>                 0           <NA>               81     82920   \n",
       "2             90                 2            574              558     92785   \n",
       "3             84                 3            234              424    408176   \n",
       "4            112                 1             48              121    100000   \n",
       "\n",
       "   day_week  moth_publish  year_publish  floor_type  km_to_city_center  \n",
       "0         3             3          2019      другой             16.028  \n",
       "1         1            12          2018      первый             18.603  \n",
       "2         3             8          2015      другой             13.933  \n",
       "3         4             7          2015      другой                6.8  \n",
       "4         1             6          2018      другой              8.098  \n",
       "\n",
       "[5 rows x 28 columns]"
      ]
     },
     "execution_count": 24,
     "metadata": {},
     "output_type": "execute_result"
    }
   ],
   "source": [
    "#Добавим в таблицу столбец с растоянием до центра в км\n",
    "data['km_to_city_center'] = data['cityCenters_nearest'] / 1000\n",
    "data.head()"
   ]
  },
  {
   "cell_type": "markdown",
   "metadata": {},
   "source": [
    "**Вывод:** в датафрейм были добавлены новые столбцы, необходимые для последующего исследовательского анализа данных."
   ]
  },
  {
   "cell_type": "markdown",
   "metadata": {
    "id": "pPyxrKWTAwb-"
   },
   "source": [
    "## Исследовательский анализ данных"
   ]
  },
  {
   "cell_type": "markdown",
   "metadata": {},
   "source": [
    "### Постороение гистограмм и их описание"
   ]
  },
  {
   "cell_type": "markdown",
   "metadata": {},
   "source": [
    "Список параметров, которые необходимо изучить:\n",
    "* общая площадь;\n",
    "* жилая площадь;\n",
    "* площадь кухни;\n",
    "* цена объекта;\n",
    "* количество комнат;\n",
    "* высота потолков;\n",
    "* тип этажа квартиры («первый», «последний», «другой»);\n",
    "* общее количество этажей в доме;\n",
    "* расстояние до центра города в метрах;\n",
    "* расстояние до ближайшего парка"
   ]
  },
  {
   "cell_type": "code",
   "execution_count": 25,
   "metadata": {},
   "outputs": [
    {
     "data": {
      "text/plain": [
       "count    23613.000000\n",
       "mean        60.340678\n",
       "std         35.648988\n",
       "min         12.000000\n",
       "25%         40.000000\n",
       "50%         52.000000\n",
       "75%         69.800000\n",
       "max        900.000000\n",
       "Name: total_area, dtype: float64"
      ]
     },
     "execution_count": 25,
     "metadata": {},
     "output_type": "execute_result"
    },
    {
     "data": {
      "image/png": "[encoded data removed]",
      "text/plain": [
       "<Figure size 1152x432 with 1 Axes>"
      ]
     },
     "metadata": {
      "needs_background": "light"
     },
     "output_type": "display_data"
    }
   ],
   "source": [
    "#Общая площадь\n",
    "data.hist(column='total_area', bins=30, range=(0, 300), figsize=(16, 6))\n",
    "data['total_area'].describe()\n"
   ]
  },
  {
   "cell_type": "code",
   "execution_count": 73,
   "metadata": {},
   "outputs": [
    {
     "data": {
      "text/plain": [
       "count    23498.000000\n",
       "mean        58.952124\n",
       "std         28.791636\n",
       "min         12.000000\n",
       "25%         40.000000\n",
       "50%         52.000000\n",
       "75%         69.000000\n",
       "max        249.900000\n",
       "Name: total_area, dtype: float64"
      ]
     },
     "execution_count": 73,
     "metadata": {},
     "output_type": "execute_result"
    }
   ],
   "source": [
    "data[data['total_area'] > 250]['total_area'].count() / data['total_area'].count() # около 0.5%.\n",
    "data = data[data['total_area'] <= 250]\n",
    "data['total_area'].describe()"
   ]
  },
  {
   "cell_type": "markdown",
   "metadata": {},
   "source": [
    "Было принято решение избавиться от выбросов площадью более 250 метров. Доля удаленных данных около 0.5%.\n",
    "\n",
    "График имеет распределение Пуассона. Медианное значение находится на отметке 52 метра. Большинство квартир имеет общую площадь менее 100 квадратных метров."
   ]
  },
  {
   "cell_type": "code",
   "execution_count": 86,
   "metadata": {},
   "outputs": [
    {
     "data": {
      "text/plain": [
       "count    21248.000000\n",
       "mean        32.341253\n",
       "std         15.424500\n",
       "min          2.000000\n",
       "25%         18.500000\n",
       "50%         30.000000\n",
       "75%         41.600000\n",
       "max        128.000000\n",
       "Name: living_area, dtype: float64"
      ]
     },
     "execution_count": 86,
     "metadata": {},
     "output_type": "execute_result"
    },
    {
     "data": {
      "image/png": "[encoded data removed]",
      "text/plain": [
       "<Figure size 1152x576 with 1 Axes>"
      ]
     },
     "metadata": {
      "needs_background": "light"
     },
     "output_type": "display_data"
    }
   ],
   "source": [
    "#Жилая площадь\n",
    "data.hist(column='living_area', bins=50, range=(0, 200), figsize=(16, 8))\n",
    "data['living_area'].describe()"
   ]
  },
  {
   "cell_type": "code",
   "execution_count": 84,
   "metadata": {},
   "outputs": [
    {
     "data": {
      "text/plain": [
       "count    21248.000000\n",
       "mean        32.341253\n",
       "std         15.424500\n",
       "min          2.000000\n",
       "25%         18.500000\n",
       "50%         30.000000\n",
       "75%         41.600000\n",
       "max        128.000000\n",
       "Name: living_area, dtype: float64"
      ]
     },
     "execution_count": 84,
     "metadata": {},
     "output_type": "execute_result"
    }
   ],
   "source": [
    "data[data['living_area'] > 150]['living_area'].count() / data['living_area'].count() # около 0.2%.\n",
    "data = data[data['living_area'] <= 150]\n",
    "data['living_area'].describe()"
   ]
  },
  {
   "cell_type": "markdown",
   "metadata": {},
   "source": [
    "Было принято решение избавиться от выбросов площадью более 150 метров. Доля удаленных данных около 0.2%.\n",
    "\n",
    "График имеет распределение Пуассона. Медианное значение находится на отметке 30 метров. Большинство квартир имеет жилую площадь менее 50 квадратных метров. Есть два плотных скопления данных в районе 18 и 31 метров. Можно предположить, что эти значений связаны с типовой застройкой домов."
   ]
  },
  {
   "cell_type": "code",
   "execution_count": 27,
   "metadata": {},
   "outputs": [
    {
     "data": {
      "text/plain": [
       "count    21382.000000\n",
       "mean        10.564128\n",
       "std          5.904316\n",
       "min          1.300000\n",
       "25%          7.000000\n",
       "50%          9.100000\n",
       "75%         12.000000\n",
       "max        112.000000\n",
       "Name: kitchen_area, dtype: float64"
      ]
     },
     "execution_count": 27,
     "metadata": {},
     "output_type": "execute_result"
    },
    {
     "data": {
      "image/png": "[encoded data removed]",
      "text/plain": [
       "<Figure size 1152x576 with 1 Axes>"
      ]
     },
     "metadata": {
      "needs_background": "light"
     },
     "output_type": "display_data"
    }
   ],
   "source": [
    "#площадь кухни\n",
    "data.hist(column='kitchen_area', bins=50, range=(0, 50), figsize=(16, 8))\n",
    "data['kitchen_area'].describe()"
   ]
  },
  {
   "cell_type": "code",
   "execution_count": 93,
   "metadata": {},
   "outputs": [
    {
     "data": {
      "text/plain": [
       "count    20407.000000\n",
       "mean        10.042598\n",
       "std          4.420930\n",
       "min          1.300000\n",
       "25%          7.000000\n",
       "50%          9.000000\n",
       "75%         11.500000\n",
       "max         40.000000\n",
       "Name: kitchen_area, dtype: float64"
      ]
     },
     "execution_count": 93,
     "metadata": {},
     "output_type": "execute_result"
    }
   ],
   "source": [
    "data[data['kitchen_area'] > 40]['kitchen_area'].count() / data['kitchen_area'].count() # около 0.3%.\n",
    "data = data[data['kitchen_area'] <= 40]\n",
    "data['kitchen_area'].describe()"
   ]
  },
  {
   "cell_type": "markdown",
   "metadata": {},
   "source": [
    "Было принято решение избавиться от выбросов площадью более 40 метров. Доля удаленных данных около 0.3%.\n",
    "\n",
    "График имеет распределение Пуассона. Медианное значение находится на отметке 9 метров. Большинство квартир имеет  площадь кухни менее 50 квадратных метров. Есть три плотных скопления данных в районе 7, 9 и 11 метров. Можно также предположить, что эти значений связаны с типовой застройкой."
   ]
  },
  {
   "cell_type": "code",
   "execution_count": 28,
   "metadata": {},
   "outputs": [
    {
     "data": {
      "text/plain": [
       "count    2.361300e+04\n",
       "mean     6.540555e+06\n",
       "std      1.090172e+07\n",
       "min      1.219000e+04\n",
       "25%      3.400000e+06\n",
       "50%      4.650000e+06\n",
       "75%      6.799000e+06\n",
       "max      7.630000e+08\n",
       "Name: last_price, dtype: float64"
      ]
     },
     "execution_count": 28,
     "metadata": {},
     "output_type": "execute_result"
    },
    {
     "data": {
      "image/png": "[encoded data removed]",
      "text/plain": [
       "<Figure size 1152x576 with 1 Axes>"
      ]
     },
     "metadata": {
      "needs_background": "light"
     },
     "output_type": "display_data"
    }
   ],
   "source": [
    "#цена объекта\n",
    "data.hist(column='last_price', bins=100, range=(0, 30000000), figsize=(16, 8))\n",
    "data['last_price'].describe()"
   ]
  },
  {
   "cell_type": "code",
   "execution_count": 101,
   "metadata": {},
   "outputs": [
    {
     "data": {
      "text/plain": [
       "count    2.014400e+04\n",
       "mean     5.369521e+06\n",
       "std      3.032428e+06\n",
       "min      4.300000e+05\n",
       "25%      3.450000e+06\n",
       "50%      4.600000e+06\n",
       "75%      6.450000e+06\n",
       "max      2.000000e+07\n",
       "Name: last_price, dtype: float64"
      ]
     },
     "execution_count": 101,
     "metadata": {},
     "output_type": "execute_result"
    }
   ],
   "source": [
    "data[data['last_price'] > 20000000]['last_price'].count() / data['last_price'].count() # около 1%.\n",
    "data = data[data['last_price'] <= 20000000]\n",
    "data['last_price'].describe()"
   ]
  },
  {
   "cell_type": "markdown",
   "metadata": {},
   "source": [
    "Было принято решение избавиться от выбросов стоимостью более 20000000 рублей. Доля удаленных данных около 1.3%.\n",
    "\n",
    "График имеет распределение Пуассона. Медианное значение находится на отметке 4.6 миллионов рублей. Большинство квартир имеет стоимость менее 10 миллионов рублей. Есть три плотных скопления данных в районе 7, 9 и 11 метров. Можно также предположить, что эти значений связаны с типовой застройкой."
   ]
  },
  {
   "cell_type": "code",
   "execution_count": 29,
   "metadata": {},
   "outputs": [
    {
     "data": {
      "text/plain": [
       "count    23613.000000\n",
       "mean         2.071147\n",
       "std          1.078380\n",
       "min          0.000000\n",
       "25%          1.000000\n",
       "50%          2.000000\n",
       "75%          3.000000\n",
       "max         19.000000\n",
       "Name: rooms, dtype: float64"
      ]
     },
     "execution_count": 29,
     "metadata": {},
     "output_type": "execute_result"
    },
    {
     "data": {
      "image/png": "[encoded data removed]",
      "text/plain": [
       "<Figure size 1152x576 with 1 Axes>"
      ]
     },
     "metadata": {
      "needs_background": "light"
     },
     "output_type": "display_data"
    }
   ],
   "source": [
    "#количество комнат\n",
    "data.hist(column='rooms', bins=10, range=(0, 10), figsize=(16, 8))\n",
    "data['rooms'].describe()"
   ]
  },
  {
   "cell_type": "code",
   "execution_count": 110,
   "metadata": {},
   "outputs": [
    {
     "data": {
      "text/plain": [
       "count    20119.000000\n",
       "mean         2.006859\n",
       "std          0.915645\n",
       "min          1.000000\n",
       "25%          1.000000\n",
       "50%          2.000000\n",
       "75%          3.000000\n",
       "max          5.000000\n",
       "Name: rooms, dtype: float64"
      ]
     },
     "execution_count": 110,
     "metadata": {},
     "output_type": "execute_result"
    }
   ],
   "source": [
    "data[data['rooms'] > 5]['rooms'].count() / data['rooms'].count() # около 0.1%.\n",
    "data = data[data['rooms'] <= 5]\n",
    "data['rooms'].describe()"
   ]
  },
  {
   "cell_type": "markdown",
   "metadata": {},
   "source": [
    "Было принято решение избавиться от выбросов количества комнат более 5. Доля удаленных данных около 0.1%.\n",
    "\n",
    "График имеет распределение Пуассона. Медианное и среднее значения находится на отметке 2 команты. В большинстве квартир менее 4 комнат. Количество однокомантых и двухкомантых квартир примерно равно, трехкомнатных примерно на четверть меньше."
   ]
  },
  {
   "cell_type": "code",
   "execution_count": 30,
   "metadata": {},
   "outputs": [
    {
     "data": {
      "text/plain": [
       "count    23613.000000\n",
       "mean         2.724581\n",
       "std          0.990085\n",
       "min          1.000000\n",
       "25%          2.600000\n",
       "50%          2.650000\n",
       "75%          2.700000\n",
       "max        100.000000\n",
       "Name: ceiling_height, dtype: float64"
      ]
     },
     "execution_count": 30,
     "metadata": {},
     "output_type": "execute_result"
    },
    {
     "data": {
      "image/png": "[encoded data removed]",
      "text/plain": [
       "<Figure size 1152x576 with 1 Axes>"
      ]
     },
     "metadata": {
      "needs_background": "light"
     },
     "output_type": "display_data"
    }
   ],
   "source": [
    "#высота потолков\n",
    "data.hist(column='ceiling_height', bins=10, figsize=(16, 8))\n",
    "data['ceiling_height'].describe()"
   ]
  },
  {
   "cell_type": "code",
   "execution_count": 31,
   "metadata": {},
   "outputs": [],
   "source": [
    "#Высота потолков более 10 метро не выгляит реалитисной, также мы видим значения в диапозоне от 20 до 40 метров, скорее всего люди неверно укзали значаени. Исправим это.\n",
    "def fix_height(height):\n",
    "    if height >= 10: return height / 10\n",
    "    else: return height\n",
    "data['ceiling_height'] = data['ceiling_height'].apply(fix_height)"
   ]
  },
  {
   "cell_type": "code",
   "execution_count": 32,
   "metadata": {},
   "outputs": [
    {
     "data": {
      "text/plain": [
       "count    23613.000000\n",
       "mean         2.697923\n",
       "std          0.238047\n",
       "min          1.000000\n",
       "25%          2.600000\n",
       "50%          2.650000\n",
       "75%          2.700000\n",
       "max         10.000000\n",
       "Name: ceiling_height, dtype: float64"
      ]
     },
     "execution_count": 32,
     "metadata": {},
     "output_type": "execute_result"
    },
    {
     "data": {
      "image/png": "[encoded data removed]",
      "text/plain": [
       "<Figure size 1152x576 with 1 Axes>"
      ]
     },
     "metadata": {
      "needs_background": "light"
     },
     "output_type": "display_data"
    }
   ],
   "source": [
    "#высота обновленных потолков\n",
    "data.hist(column='ceiling_height', bins=10, figsize=(16, 8))\n",
    "data['ceiling_height'].describe()"
   ]
  },
  {
   "cell_type": "markdown",
   "metadata": {},
   "source": [
    "Медианное значение находится на отметке 2.65 метра, а среднее на 2.69. В большинстве квартир потолки менее 3 метров. "
   ]
  },
  {
   "cell_type": "code",
   "execution_count": 33,
   "metadata": {},
   "outputs": [
    {
     "data": {
      "text/plain": [
       "count      23613\n",
       "unique         3\n",
       "top       другой\n",
       "freq       17363\n",
       "Name: floor_type, dtype: object"
      ]
     },
     "execution_count": 33,
     "metadata": {},
     "output_type": "execute_result"
    },
    {
     "data": {
      "image/png": "[encoded data removed]",
      "text/plain": [
       "<Figure size 1152x576 with 1 Axes>"
      ]
     },
     "metadata": {
      "needs_background": "light"
     },
     "output_type": "display_data"
    }
   ],
   "source": [
    "#тип этажа квартиры («первый», «последний», «другой»)\n",
    "data['floor_type'].value_counts().plot(kind='bar', grid=True, figsize=(16, 8))\n",
    "data['floor_type'].describe()"
   ]
  },
  {
   "cell_type": "markdown",
   "metadata": {},
   "source": [
    "Кваритир, находящихся на первом или последнем этаже примерно одинаковое количество (2500-3000). Большая же часть объявлений приходится на квартиры, расположенные на других этажах."
   ]
  },
  {
   "cell_type": "code",
   "execution_count": 34,
   "metadata": {},
   "outputs": [
    {
     "data": {
      "text/plain": [
       "count    23613.000000\n",
       "mean        10.673824\n",
       "std          6.597173\n",
       "min          1.000000\n",
       "25%          5.000000\n",
       "50%          9.000000\n",
       "75%         16.000000\n",
       "max         60.000000\n",
       "Name: floors_total, dtype: float64"
      ]
     },
     "execution_count": 34,
     "metadata": {},
     "output_type": "execute_result"
    },
    {
     "data": {
      "image/png": "[encoded data removed]",
      "text/plain": [
       "<Figure size 1152x576 with 1 Axes>"
      ]
     },
     "metadata": {
      "needs_background": "light"
     },
     "output_type": "display_data"
    }
   ],
   "source": [
    "#общее количество этажей в доме\n",
    "data.hist(column='floors_total', bins=30, range=(1, 30), figsize=(16, 8))\n",
    "data['floors_total'].describe()"
   ]
  },
  {
   "cell_type": "code",
   "execution_count": 113,
   "metadata": {},
   "outputs": [
    {
     "data": {
      "text/plain": [
       "count    19813.000000\n",
       "mean        10.387170\n",
       "std          6.243482\n",
       "min          1.000000\n",
       "25%          5.000000\n",
       "50%          9.000000\n",
       "75%         15.000000\n",
       "max         25.000000\n",
       "Name: floors_total, dtype: float64"
      ]
     },
     "execution_count": 113,
     "metadata": {},
     "output_type": "execute_result"
    }
   ],
   "source": [
    "data[data['floors_total'] > 25]['floors_total'].count() / data['floors_total'].count() # около 1.5%.\n",
    "data = data[data['floors_total'] <= 25]\n",
    "data['floors_total'].describe()"
   ]
  },
  {
   "cell_type": "markdown",
   "metadata": {},
   "source": [
    "Было принято решение избавиться от выбросов количеством более 25 этажей. Доля удаленных данных около 1.5%.\n",
    "\n",
    "Половина медианы находится на отметке 5 этажей, а медианное значение находится на отметке 9 этажей. При этом в этих значениях на графике имеется большое количество значений. Можно также предположить, что эти они связаны с типовой застройкой."
   ]
  },
  {
   "cell_type": "code",
   "execution_count": 35,
   "metadata": {},
   "outputs": [
    {
     "data": {
      "text/plain": [
       "count    18104.000000\n",
       "mean     14185.084015\n",
       "std       8614.132292\n",
       "min        181.000000\n",
       "25%       9233.750000\n",
       "50%      13093.000000\n",
       "75%      16287.000000\n",
       "max      65968.000000\n",
       "Name: cityCenters_nearest, dtype: float64"
      ]
     },
     "execution_count": 35,
     "metadata": {},
     "output_type": "execute_result"
    },
    {
     "data": {
      "image/png": "[encoded data removed]",
      "text/plain": [
       "<Figure size 1152x576 with 1 Axes>"
      ]
     },
     "metadata": {
      "needs_background": "light"
     },
     "output_type": "display_data"
    }
   ],
   "source": [
    "#расстояние до центра города в метрах\n",
    "data.hist(column='cityCenters_nearest', bins=100, range=(180, 66000), figsize=(16, 8))\n",
    "data['cityCenters_nearest'].describe()"
   ]
  },
  {
   "cell_type": "code",
   "execution_count": 118,
   "metadata": {},
   "outputs": [
    {
     "data": {
      "text/plain": [
       "count    14984.000000\n",
       "mean     13899.082021\n",
       "std       7232.796373\n",
       "min        208.000000\n",
       "25%       9830.500000\n",
       "50%      13164.000000\n",
       "75%      16096.500000\n",
       "max      39936.000000\n",
       "Name: cityCenters_nearest, dtype: float64"
      ]
     },
     "execution_count": 118,
     "metadata": {},
     "output_type": "execute_result"
    }
   ],
   "source": [
    "data[data['cityCenters_nearest'] > 40000]['cityCenters_nearest'].count() / data['cityCenters_nearest'].count() # около 1.8%.\n",
    "data = data[data['cityCenters_nearest'] <= 40000]\n",
    "data['cityCenters_nearest'].describe()"
   ]
  },
  {
   "cell_type": "markdown",
   "metadata": {},
   "source": [
    "Было принято решение избавиться от выбросов расстоянием более 40000 метров. Доля удаленных данных около 1.8%.\n",
    "\n",
    "Большинство квартир находятся не более чем в 16 км от центра города. Далее наблюдается резкий спад количества обьявлений."
   ]
  },
  {
   "cell_type": "code",
   "execution_count": 36,
   "metadata": {},
   "outputs": [
    {
     "data": {
      "text/plain": [
       "count    8045.000000\n",
       "mean      490.554630\n",
       "std       341.336698\n",
       "min         1.000000\n",
       "25%       288.000000\n",
       "50%       455.000000\n",
       "75%       612.000000\n",
       "max      3190.000000\n",
       "Name: parks_nearest, dtype: float64"
      ]
     },
     "execution_count": 36,
     "metadata": {},
     "output_type": "execute_result"
    },
    {
     "data": {
      "image/png": "[encoded data removed]",
      "text/plain": [
       "<Figure size 1152x576 with 1 Axes>"
      ]
     },
     "metadata": {
      "needs_background": "light"
     },
     "output_type": "display_data"
    }
   ],
   "source": [
    "#расстояние до ближайшего парка\n",
    "data.hist(column='parks_nearest', bins=100, range=(1, 3200), figsize=(16, 8))\n",
    "data['parks_nearest'].describe()"
   ]
  },
  {
   "cell_type": "markdown",
   "metadata": {},
   "source": [
    "Большинство значений расположены менее чем в 1000 метрах, скорее всего, при достижении этого порога продавцы считают, что данная информация не сильно повлияет на скорость и стоимость продажи квартиры."
   ]
  },
  {
   "cell_type": "markdown",
   "metadata": {},
   "source": [
    "**Потеря данных: около 5.7%** "
   ]
  },
  {
   "cell_type": "markdown",
   "metadata": {},
   "source": [
    "### Изучение того как быстро продавались квартиры (столбец days_exposition)»"
   ]
  },
  {
   "cell_type": "code",
   "execution_count": 37,
   "metadata": {},
   "outputs": [
    {
     "data": {
      "text/plain": [
       "<AxesSubplot:>"
      ]
     },
     "execution_count": 37,
     "metadata": {},
     "output_type": "execute_result"
    },
    {
     "data": {
      "image/png": "[encoded data removed]",
      "text/plain": [
       "<Figure size 864x432 with 1 Axes>"
      ]
     },
     "metadata": {
      "needs_background": "light"
     },
     "output_type": "display_data"
    }
   ],
   "source": [
    "data['days_exposition'].hist(bins=100, range=(0, 1500), figsize=(12, 6))"
   ]
  },
  {
   "cell_type": "code",
   "execution_count": 38,
   "metadata": {},
   "outputs": [
    {
     "data": {
      "text/plain": [
       "count    23613.000000\n",
       "mean       828.249989\n",
       "std       1656.061073\n",
       "min          1.000000\n",
       "25%         45.000000\n",
       "50%        124.000000\n",
       "75%        390.000000\n",
       "max       5000.000000\n",
       "Name: days_exposition, dtype: float64"
      ]
     },
     "execution_count": 38,
     "metadata": {},
     "output_type": "execute_result"
    }
   ],
   "source": [
    "data['days_exposition'].describe()"
   ]
  },
  {
   "cell_type": "code",
   "execution_count": 39,
   "metadata": {},
   "outputs": [
    {
     "data": {
      "text/plain": [
       "<AxesSubplot:>"
      ]
     },
     "execution_count": 39,
     "metadata": {},
     "output_type": "execute_result"
    },
    {
     "data": {
      "image/png": "[encoded data removed]",
      "text/plain": [
       "<Figure size 864x432 with 1 Axes>"
      ]
     },
     "metadata": {
      "needs_background": "light"
     },
     "output_type": "display_data"
    }
   ],
   "source": [
    "data['days_exposition'].hist(bins=100, range=(0, 300), figsize=(12, 6))"
   ]
  },
  {
   "cell_type": "code",
   "execution_count": 40,
   "metadata": {},
   "outputs": [
    {
     "data": {
      "text/plain": [
       "<AxesSubplot:>"
      ]
     },
     "execution_count": 40,
     "metadata": {},
     "output_type": "execute_result"
    },
    {
     "data": {
      "image/png": "[encoded data removed]",
      "text/plain": [
       "<Figure size 864x432 with 1 Axes>"
      ]
     },
     "metadata": {
      "needs_background": "light"
     },
     "output_type": "display_data"
    }
   ],
   "source": [
    "data['days_exposition'].hist(bins=100, range=(0, 100), figsize=(12, 6))"
   ]
  },
  {
   "cell_type": "code",
   "execution_count": 41,
   "metadata": {},
   "outputs": [
    {
     "data": {
      "text/plain": [
       "<AxesSubplot:>"
      ]
     },
     "execution_count": 41,
     "metadata": {},
     "output_type": "execute_result"
    },
    {
     "data": {
      "image/png": "[encoded data removed]",
      "text/plain": [
       "<Figure size 864x432 with 1 Axes>"
      ]
     },
     "metadata": {
      "needs_background": "light"
     },
     "output_type": "display_data"
    }
   ],
   "source": [
    "data['days_exposition'].hist(bins=10, range=(0, 10), figsize=(12, 6))"
   ]
  },
  {
   "cell_type": "code",
   "execution_count": 42,
   "metadata": {},
   "outputs": [],
   "source": [
    "#Обнаружено аномально большое значение колиечство закрытий обьявлений в первый же день. \n",
    "#Учитывая срок оформления и передачи собственности, не будем учитывать эти данные в анализе.\n",
    "filtered_data = data.query('days_exposition !=0')"
   ]
  },
  {
   "cell_type": "code",
   "execution_count": 43,
   "metadata": {},
   "outputs": [],
   "source": [
    "#Также аномальными кажется количество закрытия обьявлений в 45 и 60 день. Скорее всего это дни автозакрытия обьявлений.\n",
    "# Также не будем учитывать эти данные при анализе\n",
    "filtered_data = filtered_data.query('days_exposition != 45 and days_exposition != 60')\n"
   ]
  },
  {
   "cell_type": "code",
   "execution_count": 44,
   "metadata": {},
   "outputs": [
    {
     "data": {
      "text/plain": [
       "<AxesSubplot:>"
      ]
     },
     "execution_count": 44,
     "metadata": {},
     "output_type": "execute_result"
    },
    {
     "data": {
      "image/png": "[encoded data removed]",
      "text/plain": [
       "<Figure size 864x432 with 1 Axes>"
      ]
     },
     "metadata": {
      "needs_background": "light"
     },
     "output_type": "display_data"
    }
   ],
   "source": [
    "filtered_data['days_exposition'].hist(bins=100, range=(0, 1500), figsize=(12, 6))"
   ]
  },
  {
   "cell_type": "code",
   "execution_count": 45,
   "metadata": {},
   "outputs": [
    {
     "data": {
      "text/plain": [
       "<AxesSubplot:>"
      ]
     },
     "execution_count": 45,
     "metadata": {},
     "output_type": "execute_result"
    },
    {
     "data": {
      "image/png": "[encoded data removed]",
      "text/plain": [
       "<Figure size 864x432 with 1 Axes>"
      ]
     },
     "metadata": {
      "needs_background": "light"
     },
     "output_type": "display_data"
    }
   ],
   "source": [
    "filtered_data['days_exposition'].hist(bins=100, range=(0, 300), figsize=(12, 6))"
   ]
  },
  {
   "cell_type": "code",
   "execution_count": 46,
   "metadata": {},
   "outputs": [
    {
     "data": {
      "text/plain": [
       "<AxesSubplot:>"
      ]
     },
     "execution_count": 46,
     "metadata": {},
     "output_type": "execute_result"
    },
    {
     "data": {
      "image/png": "[encoded data removed]",
      "text/plain": [
       "<Figure size 864x432 with 1 Axes>"
      ]
     },
     "metadata": {
      "needs_background": "light"
     },
     "output_type": "display_data"
    }
   ],
   "source": [
    "filtered_data['days_exposition'].hist(bins=100, range=(0, 100), figsize=(12, 6))"
   ]
  },
  {
   "cell_type": "code",
   "execution_count": 47,
   "metadata": {},
   "outputs": [
    {
     "data": {
      "text/plain": [
       "count    22195.000000\n",
       "mean       877.926875\n",
       "std       1696.072654\n",
       "min          1.000000\n",
       "25%         52.000000\n",
       "50%        141.000000\n",
       "75%        424.000000\n",
       "max       5000.000000\n",
       "Name: days_exposition, dtype: float64"
      ]
     },
     "execution_count": 47,
     "metadata": {},
     "output_type": "execute_result"
    }
   ],
   "source": [
    "filtered_data['days_exposition'].describe()"
   ]
  },
  {
   "cell_type": "code",
   "execution_count": 48,
   "metadata": {},
   "outputs": [
    {
     "data": {
      "text/plain": [
       "(1.0, 800.0)"
      ]
     },
     "execution_count": 48,
     "metadata": {},
     "output_type": "execute_result"
    },
    {
     "data": {
      "image/png": "[encoded data removed]",
      "text/plain": [
       "<Figure size 432x288 with 1 Axes>"
      ]
     },
     "metadata": {
      "needs_background": "light"
     },
     "output_type": "display_data"
    }
   ],
   "source": [
    "plt.boxplot(filtered_data['days_exposition'])\n",
    "plt.ylim(1, 800)"
   ]
  },
  {
   "cell_type": "markdown",
   "metadata": {},
   "source": [
    "Судя по диаграме размаха, быстрыми можно считать продажи обьявлений, которые закрылись не более чем через 500 дней, после публикации. Необычно же долгими - более 500 дней. "
   ]
  },
  {
   "cell_type": "markdown",
   "metadata": {},
   "source": [
    "### Определение факторов, которые больше всего влияют на общую (полную) стоимость объекта». "
   ]
  },
  {
   "cell_type": "markdown",
   "metadata": {},
   "source": [
    "Изучите, зависит ли цена от:\n",
    "* общей площади;\n",
    "* жилой площади;\n",
    "* площади кухни;\n",
    "* количества комнат;\n",
    "* этажа, на котором расположена квартира (первый, последний, другой);\n",
    "* даты размещения (день недели, месяц, год).\n",
    "\n",
    "Постройте графики, которые покажут зависимость цены от указанных выше параметров. Для подготовки данных перед визуализацией вы можете использовать сводные таблицы."
   ]
  },
  {
   "cell_type": "code",
   "execution_count": 49,
   "metadata": {},
   "outputs": [
    {
     "name": "stdout",
     "output_type": "stream",
     "text": [
      "<class 'pandas.core.frame.DataFrame'>\n",
      "Int64Index: 23613 entries, 0 to 23698\n",
      "Data columns (total 28 columns):\n",
      " #   Column                Non-Null Count  Dtype         \n",
      "---  ------                --------------  -----         \n",
      " 0   total_images          23613 non-null  int64         \n",
      " 1   last_price            23613 non-null  Int64         \n",
      " 2   total_area            23613 non-null  float64       \n",
      " 3   first_day_exposition  23613 non-null  datetime64[ns]\n",
      " 4   rooms                 23613 non-null  int64         \n",
      " 5   ceiling_height        23613 non-null  float64       \n",
      " 6   floors_total          23613 non-null  Int64         \n",
      " 7   living_area           21743 non-null  float64       \n",
      " 8   floor                 23613 non-null  int64         \n",
      " 9   is_apartment          23613 non-null  bool          \n",
      " 10  studio                23613 non-null  bool          \n",
      " 11  open_plan             23613 non-null  bool          \n",
      " 12  kitchen_area          21382 non-null  float64       \n",
      " 13  balcony               23613 non-null  Int64         \n",
      " 14  locality_name         23565 non-null  object        \n",
      " 15  airports_nearest      18081 non-null  Int64         \n",
      " 16  cityCenters_nearest   18104 non-null  Int64         \n",
      " 17  parks_around3000      18105 non-null  Int64         \n",
      " 18  parks_nearest         8045 non-null   Int64         \n",
      " 19  ponds_around3000      18105 non-null  Int64         \n",
      " 20  ponds_nearest         9061 non-null   Int64         \n",
      " 21  days_exposition       23613 non-null  int64         \n",
      " 22  sqm_price             23613 non-null  int64         \n",
      " 23  day_week              23613 non-null  int64         \n",
      " 24  moth_publish          23613 non-null  int64         \n",
      " 25  year_publish          23613 non-null  int64         \n",
      " 26  floor_type            23613 non-null  object        \n",
      " 27  km_to_city_center     18104 non-null  Float64       \n",
      "dtypes: Float64(1), Int64(9), bool(3), datetime64[ns](1), float64(4), int64(8), object(2)\n",
      "memory usage: 5.0+ MB\n"
     ]
    }
   ],
   "source": [
    "data.info()"
   ]
  },
  {
   "cell_type": "code",
   "execution_count": 50,
   "metadata": {},
   "outputs": [
    {
     "data": {
      "text/plain": [
       "0.30239704158417774"
      ]
     },
     "execution_count": 50,
     "metadata": {},
     "output_type": "execute_result"
    },
    {
     "data": {
      "image/png": "[encoded data removed]",
      "text/plain": [
       "<Figure size 432x288 with 1 Axes>"
      ]
     },
     "metadata": {
      "needs_background": "light"
     },
     "output_type": "display_data"
    }
   ],
   "source": [
    "#Изучим зависимость цены от общей площади\n",
    "sqm_price_to_total_area = data.pivot_table(index='total_area', values='sqm_price')\n",
    "sqm_price_to_total_area.plot(style='o')\n",
    "data['total_area'].corr(data['sqm_price'])"
   ]
  },
  {
   "cell_type": "markdown",
   "metadata": {},
   "source": [
    "Можно сделать вывод о том, что есть умеренная прямая зависимость между ростом общей площади и ценой квадратного метра."
   ]
  },
  {
   "cell_type": "code",
   "execution_count": 51,
   "metadata": {},
   "outputs": [
    {
     "data": {
      "text/plain": [
       "0.22664963730658008"
      ]
     },
     "execution_count": 51,
     "metadata": {},
     "output_type": "execute_result"
    },
    {
     "data": {
      "image/png": "[encoded data removed]",
      "text/plain": [
       "<Figure size 432x288 with 1 Axes>"
      ]
     },
     "metadata": {
      "needs_background": "light"
     },
     "output_type": "display_data"
    }
   ],
   "source": [
    "#Изучим зависимость цены от жилой площади\n",
    "sqm_price_to_living_area = data.pivot_table(index='living_area', values='sqm_price')\n",
    "sqm_price_to_living_area.plot(style='o')\n",
    "data['living_area'].corr(data['sqm_price'])"
   ]
  },
  {
   "cell_type": "markdown",
   "metadata": {},
   "source": [
    "Можно сделать вывод о том, что есть слабая прямая зависимость между ростом жилой площади и ценой квадратного метра. Причем, эта зависимость меньше зависмости от жилой площади."
   ]
  },
  {
   "cell_type": "code",
   "execution_count": 52,
   "metadata": {},
   "outputs": [
    {
     "data": {
      "text/plain": [
       "0.3977147601381232"
      ]
     },
     "execution_count": 52,
     "metadata": {},
     "output_type": "execute_result"
    },
    {
     "data": {
      "image/png": "[encoded data removed]",
      "text/plain": [
       "<Figure size 432x288 with 1 Axes>"
      ]
     },
     "metadata": {
      "needs_background": "light"
     },
     "output_type": "display_data"
    }
   ],
   "source": [
    "#Изучим зависимость цены от площади кухни\n",
    "sqm_price_to_kitchen_area = data.pivot_table(index='kitchen_area', values='sqm_price')\n",
    "sqm_price_to_kitchen_area.plot(style='o')\n",
    "data['kitchen_area'].corr(data['sqm_price'])"
   ]
  },
  {
   "cell_type": "markdown",
   "metadata": {},
   "source": [
    "Можно сделать вывод о том, что есть умеренная прямая зависимость между ростом площади кухни и ценой квадратного метра. Причем, эта зависимость больше зависмости от жилой площади."
   ]
  },
  {
   "cell_type": "code",
   "execution_count": 53,
   "metadata": {},
   "outputs": [
    {
     "data": {
      "text/plain": [
       "0.05566894858321389"
      ]
     },
     "execution_count": 53,
     "metadata": {},
     "output_type": "execute_result"
    },
    {
     "data": {
      "image/png": "[encoded data removed]",
      "text/plain": [
       "<Figure size 432x288 with 1 Axes>"
      ]
     },
     "metadata": {
      "needs_background": "light"
     },
     "output_type": "display_data"
    }
   ],
   "source": [
    "#Изучим зависимость цены от количества комнат\n",
    "sqm_price_to_rooms = data.pivot_table(index='rooms', values='sqm_price')\n",
    "sqm_price_to_rooms.plot(style='o')\n",
    "data['rooms'].corr(data['sqm_price'])"
   ]
  },
  {
   "cell_type": "markdown",
   "metadata": {},
   "source": [
    "Можно сделать вывод о том, что отсутсвует однозначная зависимость между ростом количества комнат и ценой квадратного метра. Однако также можно сделать вывод о том, что покупка трехкомантых квартир будет выгоднее всего."
   ]
  },
  {
   "cell_type": "code",
   "execution_count": 54,
   "metadata": {},
   "outputs": [
    {
     "data": {
      "text/plain": [
       "<AxesSubplot:xlabel='floor_type'>"
      ]
     },
     "execution_count": 54,
     "metadata": {},
     "output_type": "execute_result"
    },
    {
     "data": {
      "image/png": "[encoded data removed]",
      "text/plain": [
       "<Figure size 432x288 with 1 Axes>"
      ]
     },
     "metadata": {
      "needs_background": "light"
     },
     "output_type": "display_data"
    }
   ],
   "source": [
    "#Изучим зависимость цены от этажа, на котором расположена квартира (первый, последний, другой)\n",
    "sqm_price_to_floor_type = data.pivot_table(index='floor_type', values='sqm_price')\n",
    "sqm_price_to_floor_type.plot(style='o')"
   ]
  },
  {
   "cell_type": "markdown",
   "metadata": {},
   "source": [
    "Можно сделать вывод о том, что кваритры на первом этаже самые дешевые, кваритры на последнем этаже примерно на 10000 рублей за квадратный метр дороже, а квартиры на любом другом этаже примерно еще на столько же выше по цене."
   ]
  },
  {
   "cell_type": "code",
   "execution_count": 55,
   "metadata": {},
   "outputs": [
    {
     "data": {
      "text/plain": [
       "<AxesSubplot:xlabel='day_week'>"
      ]
     },
     "execution_count": 55,
     "metadata": {},
     "output_type": "execute_result"
    },
    {
     "data": {
      "image/png": "[encoded data removed]",
      "text/plain": [
       "<Figure size 432x288 with 1 Axes>"
      ]
     },
     "metadata": {
      "needs_background": "light"
     },
     "output_type": "display_data"
    }
   ],
   "source": [
    "#Изучим зависимость цены от даты размещения (день недели)\n",
    "sqm_price_to_day_week = data.pivot_table(index='day_week', values='sqm_price')\n",
    "sqm_price_to_day_week.plot(style='o')"
   ]
  },
  {
   "cell_type": "markdown",
   "metadata": {},
   "source": [
    "В четверг были размещены обьявления с самой большой стоимостью за метр, а в воскресенье с самой мальенкой."
   ]
  },
  {
   "cell_type": "code",
   "execution_count": 56,
   "metadata": {},
   "outputs": [
    {
     "data": {
      "text/plain": [
       "<AxesSubplot:xlabel='moth_publish'>"
      ]
     },
     "execution_count": 56,
     "metadata": {},
     "output_type": "execute_result"
    },
    {
     "data": {
      "image/png": "[encoded data removed]",
      "text/plain": [
       "<Figure size 432x288 with 1 Axes>"
      ]
     },
     "metadata": {
      "needs_background": "light"
     },
     "output_type": "display_data"
    }
   ],
   "source": [
    "#Изучим зависимость цены от даты размещения (месяц)\n",
    "sqm_price_to_moth_publish = data.pivot_table(index='moth_publish', values='sqm_price')\n",
    "sqm_price_to_moth_publish.plot(style='o')"
   ]
  },
  {
   "cell_type": "markdown",
   "metadata": {},
   "source": [
    "Нет однозначной зависимости, но можно видеть что апрель - месяц, в который были размещены обьявления с самой большой стоимостью квадратно метра, а июнь и октябрь - самой маленькой. Такжк наблюдается тренд на повышеную стоимость во второй половине года."
   ]
  },
  {
   "cell_type": "code",
   "execution_count": 57,
   "metadata": {},
   "outputs": [
    {
     "data": {
      "text/plain": [
       "<AxesSubplot:xlabel='year_publish'>"
      ]
     },
     "execution_count": 57,
     "metadata": {},
     "output_type": "execute_result"
    },
    {
     "data": {
      "image/png": "[encoded data removed]",
      "text/plain": [
       "<Figure size 432x288 with 1 Axes>"
      ]
     },
     "metadata": {
      "needs_background": "light"
     },
     "output_type": "display_data"
    }
   ],
   "source": [
    "#Изучим зависимость цены от даты размещения (год)\n",
    "sqm_price_to_year_publish = data.pivot_table(index='year_publish', values='sqm_price')\n",
    "sqm_price_to_year_publish.plot(style='o')"
   ]
  },
  {
   "cell_type": "code",
   "execution_count": 58,
   "metadata": {},
   "outputs": [
    {
     "data": {
      "text/html": [
       "<div>\n",
       "<style scoped>\n",
       "    .dataframe tbody tr th:only-of-type {\n",
       "        vertical-align: middle;\n",
       "    }\n",
       "\n",
       "    .dataframe tbody tr th {\n",
       "        vertical-align: top;\n",
       "    }\n",
       "\n",
       "    .dataframe thead th {\n",
       "        text-align: right;\n",
       "    }\n",
       "</style>\n",
       "<table border=\"1\" class=\"dataframe\">\n",
       "  <thead>\n",
       "    <tr style=\"text-align: right;\">\n",
       "      <th></th>\n",
       "      <th>sqm_price</th>\n",
       "      <th>total_area</th>\n",
       "      <th>living_area</th>\n",
       "      <th>kitchen_area</th>\n",
       "      <th>rooms</th>\n",
       "      <th>day_week</th>\n",
       "      <th>moth_publish</th>\n",
       "      <th>year_publish</th>\n",
       "    </tr>\n",
       "  </thead>\n",
       "  <tbody>\n",
       "    <tr>\n",
       "      <th>sqm_price</th>\n",
       "      <td>1.000000</td>\n",
       "      <td>0.302397</td>\n",
       "      <td>0.226650</td>\n",
       "      <td>0.397715</td>\n",
       "      <td>0.055669</td>\n",
       "      <td>-0.007287</td>\n",
       "      <td>-0.001915</td>\n",
       "      <td>0.008275</td>\n",
       "    </tr>\n",
       "    <tr>\n",
       "      <th>total_area</th>\n",
       "      <td>0.302397</td>\n",
       "      <td>1.000000</td>\n",
       "      <td>0.939770</td>\n",
       "      <td>0.609468</td>\n",
       "      <td>0.758324</td>\n",
       "      <td>-0.005680</td>\n",
       "      <td>0.004948</td>\n",
       "      <td>-0.079495</td>\n",
       "    </tr>\n",
       "    <tr>\n",
       "      <th>living_area</th>\n",
       "      <td>0.226650</td>\n",
       "      <td>0.939770</td>\n",
       "      <td>1.000000</td>\n",
       "      <td>0.428768</td>\n",
       "      <td>0.846006</td>\n",
       "      <td>-0.006258</td>\n",
       "      <td>-0.002333</td>\n",
       "      <td>-0.072015</td>\n",
       "    </tr>\n",
       "    <tr>\n",
       "      <th>kitchen_area</th>\n",
       "      <td>0.397715</td>\n",
       "      <td>0.609468</td>\n",
       "      <td>0.428768</td>\n",
       "      <td>1.000000</td>\n",
       "      <td>0.269672</td>\n",
       "      <td>-0.008634</td>\n",
       "      <td>0.002350</td>\n",
       "      <td>-0.054460</td>\n",
       "    </tr>\n",
       "    <tr>\n",
       "      <th>rooms</th>\n",
       "      <td>0.055669</td>\n",
       "      <td>0.758324</td>\n",
       "      <td>0.846006</td>\n",
       "      <td>0.269672</td>\n",
       "      <td>1.000000</td>\n",
       "      <td>-0.004991</td>\n",
       "      <td>-0.004004</td>\n",
       "      <td>-0.055295</td>\n",
       "    </tr>\n",
       "    <tr>\n",
       "      <th>day_week</th>\n",
       "      <td>-0.007287</td>\n",
       "      <td>-0.005680</td>\n",
       "      <td>-0.006258</td>\n",
       "      <td>-0.008634</td>\n",
       "      <td>-0.004991</td>\n",
       "      <td>1.000000</td>\n",
       "      <td>0.012166</td>\n",
       "      <td>-0.003927</td>\n",
       "    </tr>\n",
       "    <tr>\n",
       "      <th>moth_publish</th>\n",
       "      <td>-0.001915</td>\n",
       "      <td>0.004948</td>\n",
       "      <td>-0.002333</td>\n",
       "      <td>0.002350</td>\n",
       "      <td>-0.004004</td>\n",
       "      <td>0.012166</td>\n",
       "      <td>1.000000</td>\n",
       "      <td>-0.270031</td>\n",
       "    </tr>\n",
       "    <tr>\n",
       "      <th>year_publish</th>\n",
       "      <td>0.008275</td>\n",
       "      <td>-0.079495</td>\n",
       "      <td>-0.072015</td>\n",
       "      <td>-0.054460</td>\n",
       "      <td>-0.055295</td>\n",
       "      <td>-0.003927</td>\n",
       "      <td>-0.270031</td>\n",
       "      <td>1.000000</td>\n",
       "    </tr>\n",
       "  </tbody>\n",
       "</table>\n",
       "</div>"
      ],
      "text/plain": [
       "              sqm_price  total_area  living_area  kitchen_area     rooms  \\\n",
       "sqm_price      1.000000    0.302397     0.226650      0.397715  0.055669   \n",
       "total_area     0.302397    1.000000     0.939770      0.609468  0.758324   \n",
       "living_area    0.226650    0.939770     1.000000      0.428768  0.846006   \n",
       "kitchen_area   0.397715    0.609468     0.428768      1.000000  0.269672   \n",
       "rooms          0.055669    0.758324     0.846006      0.269672  1.000000   \n",
       "day_week      -0.007287   -0.005680    -0.006258     -0.008634 -0.004991   \n",
       "moth_publish  -0.001915    0.004948    -0.002333      0.002350 -0.004004   \n",
       "year_publish   0.008275   -0.079495    -0.072015     -0.054460 -0.055295   \n",
       "\n",
       "              day_week  moth_publish  year_publish  \n",
       "sqm_price    -0.007287     -0.001915      0.008275  \n",
       "total_area   -0.005680      0.004948     -0.079495  \n",
       "living_area  -0.006258     -0.002333     -0.072015  \n",
       "kitchen_area -0.008634      0.002350     -0.054460  \n",
       "rooms        -0.004991     -0.004004     -0.055295  \n",
       "day_week      1.000000      0.012166     -0.003927  \n",
       "moth_publish  0.012166      1.000000     -0.270031  \n",
       "year_publish -0.003927     -0.270031      1.000000  "
      ]
     },
     "execution_count": 58,
     "metadata": {},
     "output_type": "execute_result"
    }
   ],
   "source": [
    "corr_data = data[['sqm_price', 'total_area', 'living_area', 'kitchen_area', 'rooms', 'floor_type', 'day_week', 'moth_publish', 'year_publish']]\n",
    "corr_data.corr(method='pearson')"
   ]
  },
  {
   "cell_type": "markdown",
   "metadata": {},
   "source": [
    "В 2014 году стоимость квдартного метра была на пике, а потом снизилась и была стабильной в течение нескольких лет, но потом в 2019 начал расти. Считаю, что это связано с covid 19, так как во время кризиса спрос на недвижимость, как на защитный актив, растет."
   ]
  },
  {
   "cell_type": "markdown",
   "metadata": {},
   "source": [
    "### Подсчет средней цены одного квадратного метра в 10 населённых пунктах с наибольшим числом объявлений"
   ]
  },
  {
   "cell_type": "code",
   "execution_count": 59,
   "metadata": {},
   "outputs": [
    {
     "name": "stdout",
     "output_type": "stream",
     "text": [
      "                 count           mean\n",
      "locality_name                        \n",
      "Санкт-Петербург  15651  114868.433902\n",
      "\n",
      "\n",
      "               count          mean\n",
      "locality_name                     \n",
      "Выборг           237  58141.489451\n"
     ]
    }
   ],
   "source": [
    "top_10_loclity = data.pivot_table(index='locality_name', values='sqm_price', aggfunc=['count', 'mean'])\n",
    "top_10_loclity.columns = ['count', 'mean']\n",
    "top_10_loclity = top_10_loclity.sort_values(by='count', ascending=False).head(10)\n",
    "max_loclity = top_10_loclity[top_10_loclity['mean'] == top_10_loclity['mean'].max()]\n",
    "min_loclity = top_10_loclity[top_10_loclity['mean'] == top_10_loclity['mean'].min()]\n",
    "print(max_loclity)\n",
    "print('\\n')\n",
    "print(min_loclity)"
   ]
  },
  {
   "cell_type": "markdown",
   "metadata": {},
   "source": [
    "Самая большая цена одного квадратного метра в 10 населённых пунктах с наибольшим числом объявлени в Санкт-Петербург, а самая маленькая в Выборге."
   ]
  },
  {
   "cell_type": "markdown",
   "metadata": {},
   "source": [
    "### Выделение квартир в Санкт-Петербурге с помощью столбца `locality_name` и вычисление их средней стоимости на разном удалении от центра"
   ]
  },
  {
   "cell_type": "code",
   "execution_count": 60,
   "metadata": {},
   "outputs": [
    {
     "name": "stderr",
     "output_type": "stream",
     "text": [
      "/tmp/ipykernel_100/731564538.py:2: SettingWithCopyWarning: \n",
      "A value is trying to be set on a copy of a slice from a DataFrame.\n",
      "Try using .loc[row_indexer,col_indexer] = value instead\n",
      "\n",
      "See the caveats in the documentation: https://pandas.pydata.org/pandas-docs/stable/user_guide/indexing.html#returning-a-view-versus-a-copy\n",
      "  spb['km_to_city_center'] = spb['km_to_city_center'].fillna(1000.0)\n",
      "/tmp/ipykernel_100/731564538.py:3: SettingWithCopyWarning: \n",
      "A value is trying to be set on a copy of a slice from a DataFrame.\n",
      "Try using .loc[row_indexer,col_indexer] = value instead\n",
      "\n",
      "See the caveats in the documentation: https://pandas.pydata.org/pandas-docs/stable/user_guide/indexing.html#returning-a-view-versus-a-copy\n",
      "  spb['km_to_city_center'] = spb['km_to_city_center'].astype(int)\n"
     ]
    },
    {
     "data": {
      "text/html": [
       "<div>\n",
       "<style scoped>\n",
       "    .dataframe tbody tr th:only-of-type {\n",
       "        vertical-align: middle;\n",
       "    }\n",
       "\n",
       "    .dataframe tbody tr th {\n",
       "        vertical-align: top;\n",
       "    }\n",
       "\n",
       "    .dataframe thead th {\n",
       "        text-align: right;\n",
       "    }\n",
       "</style>\n",
       "<table border=\"1\" class=\"dataframe\">\n",
       "  <thead>\n",
       "    <tr style=\"text-align: right;\">\n",
       "      <th></th>\n",
       "      <th>sqm_price</th>\n",
       "    </tr>\n",
       "    <tr>\n",
       "      <th>km_to_city_center</th>\n",
       "      <th></th>\n",
       "    </tr>\n",
       "  </thead>\n",
       "  <tbody>\n",
       "    <tr>\n",
       "      <th>0</th>\n",
       "      <td>187323.674419</td>\n",
       "    </tr>\n",
       "    <tr>\n",
       "      <th>1</th>\n",
       "      <td>166603.312500</td>\n",
       "    </tr>\n",
       "    <tr>\n",
       "      <th>2</th>\n",
       "      <td>146662.420195</td>\n",
       "    </tr>\n",
       "    <tr>\n",
       "      <th>3</th>\n",
       "      <td>129526.480916</td>\n",
       "    </tr>\n",
       "    <tr>\n",
       "      <th>4</th>\n",
       "      <td>137412.971207</td>\n",
       "    </tr>\n",
       "    <tr>\n",
       "      <th>5</th>\n",
       "      <td>146977.869792</td>\n",
       "    </tr>\n",
       "    <tr>\n",
       "      <th>6</th>\n",
       "      <td>152277.455319</td>\n",
       "    </tr>\n",
       "    <tr>\n",
       "      <th>7</th>\n",
       "      <td>141399.287469</td>\n",
       "    </tr>\n",
       "    <tr>\n",
       "      <th>8</th>\n",
       "      <td>120538.701649</td>\n",
       "    </tr>\n",
       "    <tr>\n",
       "      <th>9</th>\n",
       "      <td>110027.380814</td>\n",
       "    </tr>\n",
       "    <tr>\n",
       "      <th>10</th>\n",
       "      <td>111489.727974</td>\n",
       "    </tr>\n",
       "    <tr>\n",
       "      <th>11</th>\n",
       "      <td>106617.914712</td>\n",
       "    </tr>\n",
       "    <tr>\n",
       "      <th>12</th>\n",
       "      <td>108283.601588</td>\n",
       "    </tr>\n",
       "    <tr>\n",
       "      <th>13</th>\n",
       "      <td>107140.412903</td>\n",
       "    </tr>\n",
       "    <tr>\n",
       "      <th>14</th>\n",
       "      <td>104979.087101</td>\n",
       "    </tr>\n",
       "    <tr>\n",
       "      <th>15</th>\n",
       "      <td>101859.372449</td>\n",
       "    </tr>\n",
       "    <tr>\n",
       "      <th>16</th>\n",
       "      <td>100082.875113</td>\n",
       "    </tr>\n",
       "    <tr>\n",
       "      <th>17</th>\n",
       "      <td>94665.973129</td>\n",
       "    </tr>\n",
       "    <tr>\n",
       "      <th>18</th>\n",
       "      <td>94814.537572</td>\n",
       "    </tr>\n",
       "    <tr>\n",
       "      <th>19</th>\n",
       "      <td>95433.951220</td>\n",
       "    </tr>\n",
       "    <tr>\n",
       "      <th>20</th>\n",
       "      <td>107045.773810</td>\n",
       "    </tr>\n",
       "    <tr>\n",
       "      <th>21</th>\n",
       "      <td>91492.220513</td>\n",
       "    </tr>\n",
       "    <tr>\n",
       "      <th>22</th>\n",
       "      <td>88714.237410</td>\n",
       "    </tr>\n",
       "    <tr>\n",
       "      <th>23</th>\n",
       "      <td>92720.233333</td>\n",
       "    </tr>\n",
       "    <tr>\n",
       "      <th>24</th>\n",
       "      <td>82439.909091</td>\n",
       "    </tr>\n",
       "    <tr>\n",
       "      <th>25</th>\n",
       "      <td>90436.553846</td>\n",
       "    </tr>\n",
       "    <tr>\n",
       "      <th>26</th>\n",
       "      <td>75171.333333</td>\n",
       "    </tr>\n",
       "    <tr>\n",
       "      <th>27</th>\n",
       "      <td>132115.000000</td>\n",
       "    </tr>\n",
       "    <tr>\n",
       "      <th>28</th>\n",
       "      <td>81840.200000</td>\n",
       "    </tr>\n",
       "    <tr>\n",
       "      <th>29</th>\n",
       "      <td>62481.666667</td>\n",
       "    </tr>\n",
       "  </tbody>\n",
       "</table>\n",
       "</div>"
      ],
      "text/plain": [
       "                       sqm_price\n",
       "km_to_city_center               \n",
       "0                  187323.674419\n",
       "1                  166603.312500\n",
       "2                  146662.420195\n",
       "3                  129526.480916\n",
       "4                  137412.971207\n",
       "5                  146977.869792\n",
       "6                  152277.455319\n",
       "7                  141399.287469\n",
       "8                  120538.701649\n",
       "9                  110027.380814\n",
       "10                 111489.727974\n",
       "11                 106617.914712\n",
       "12                 108283.601588\n",
       "13                 107140.412903\n",
       "14                 104979.087101\n",
       "15                 101859.372449\n",
       "16                 100082.875113\n",
       "17                  94665.973129\n",
       "18                  94814.537572\n",
       "19                  95433.951220\n",
       "20                 107045.773810\n",
       "21                  91492.220513\n",
       "22                  88714.237410\n",
       "23                  92720.233333\n",
       "24                  82439.909091\n",
       "25                  90436.553846\n",
       "26                  75171.333333\n",
       "27                 132115.000000\n",
       "28                  81840.200000\n",
       "29                  62481.666667"
      ]
     },
     "execution_count": 60,
     "metadata": {},
     "output_type": "execute_result"
    },
    {
     "data": {
      "image/png": "[encoded data removed]",
      "text/plain": [
       "<Figure size 432x288 with 1 Axes>"
      ]
     },
     "metadata": {
      "needs_background": "light"
     },
     "output_type": "display_data"
    }
   ],
   "source": [
    "spb = data.query('locality_name == \"Санкт-Петербург\"')\n",
    "spb['km_to_city_center'] = spb['km_to_city_center'].fillna(1000.0)\n",
    "spb['km_to_city_center'] = spb['km_to_city_center'].astype(int)\n",
    "spb = spb.query('km_to_city_center != 1000.0')\n",
    "spb = spb.pivot_table(index='km_to_city_center', values='sqm_price')\n",
    "spb.plot()\n",
    "spb"
   ]
  },
  {
   "cell_type": "markdown",
   "metadata": {},
   "source": [
    "Судя по графику чем ближе квартира к центру, тем выше стоимость квадратного мета, однако есть выбивающиейся из данной взаимосвязи значения, но общей тренд понятен."
   ]
  },
  {
   "cell_type": "markdown",
   "metadata": {},
   "source": [
    "**Вывод:** было определено значение, на основе которого было установлено какой срок продажи обьявлений можно считать быстрым (500 дней), а какой долгим (более 500 дней). Также было выявлена прямая умеренная взаимосвязь между общей площадью, площадью кухни и стоимостью квадратного метра. При этом стоит упомянуть, что трехкомантые кваритиры и квартиры, расположенные на первом этаже, имеют самую низкую стоимость квдартного метра. Стоить отметить, что 2014 году стоимость квдартного метра была на пике, а потом снизилась и была стабильной в течение нескольких лет, но в 2019 начала расти. Считаю, что это связано с covid 19, так как во время кризиса спрос на недвижимость, как на защитный актив, растет. В ходе исследования было обнружено, что самая большая цена одного квадратного метра в 10 населённых пунктах с наибольшим числом объявлени в Санкт-Петербург, а самая маленькая в Выборге. Также была изучена зависимость стоимости объектов от расстояния до центра города и сделаны следующие выводы: чем ближе квартира к центру, тем выше стоимость квадратного мета, однако есть выбивающиейся из данной взаимосвязи значения, но общей тренд понятен.\n",
    "\n",
    "\n"
   ]
  },
  {
   "cell_type": "markdown",
   "metadata": {
    "id": "h7VpzkIDAwb-"
   },
   "source": [
    "## Общий вывод"
   ]
  },
  {
   "cell_type": "markdown",
   "metadata": {
    "id": "3H4lnp_KAwb-"
   },
   "source": [
    "На этапе предварительного изучения датаффрейма были замечены пропуски, а также некорректный тип данных в некоторых столбцах. \n",
    "В ходе предобработки данных были исправлены типы данных в некоторых столбцах на подходящие, исправлены неявные дубликаты, а также заполнены пропуски в тех местах, в которых это можно было сделать, логически обосновав. \n",
    "На следующем этапе в датафрейм были добавлены новые столбцы, необходимые для последующего исследовательского анализа данных.\n",
    "В ходе исследовательского анализа было выявлено, какой срок продажи обьявлений можно считать быстрым (500 дней), а какой долгим (более 500 дней). Также было выявлена прямая умеренная взаимосвязь между общей площадью, площадью кухни и стоимостью квадратного метра. При этом стоит упомянуть, что трехкомантые кваритиры и квартиры, расположенные на первом этаже, имеют самую низкую стоимость квдартного метра. Стоить отметить, что 2014 году стоимость квдартного метра была на пике, а потом снизилась и была стабильной в течение нескольких лет, но в 2019 начала расти. Считаю, что это связано с covid 19, так как во время кризиса спрос на недвижимость, как на защитный актив, растет. В ходе исследования было обнружено, что самая большая цена одного квадратного метра в 10 населённых пунктах с наибольшим числом объявлени в Санкт-Петербург, а самая маленькая в Выборге. Также была изучена зависимость стоимости объектов от расстояния до центра города и сделаны следующие выводы: чем ближе квартира к центру, тем выше стоимость квадратного мета, однако есть выбивающиейся из данной взаимосвязи значения, но общей тренд понятен.\n",
    "\n"
   ]
  }
 ],
 "metadata": {
  "ExecuteTimeLog": [
   {
    "duration": 567,
    "start_time": "2024-04-13T19:46:01.800Z"
   },
   {
    "duration": 291,
    "start_time": "2024-04-13T19:46:10.007Z"
   },
   {
    "duration": 114,
    "start_time": "2024-04-13T19:47:01.539Z"
   },
   {
    "duration": 76,
    "start_time": "2024-04-13T19:48:03.431Z"
   },
   {
    "duration": 113,
    "start_time": "2024-04-13T19:48:14.899Z"
   },
   {
    "duration": 96,
    "start_time": "2024-04-13T19:49:59.146Z"
   },
   {
    "duration": 96,
    "start_time": "2024-04-13T19:51:09.749Z"
   },
   {
    "duration": 99,
    "start_time": "2024-04-13T19:53:49.774Z"
   },
   {
    "duration": 439,
    "start_time": "2024-04-13T19:54:04.756Z"
   },
   {
    "duration": 811,
    "start_time": "2024-04-13T19:54:16.741Z"
   },
   {
    "duration": 130,
    "start_time": "2024-04-13T19:54:25.166Z"
   },
   {
    "duration": 1786,
    "start_time": "2024-04-13T19:56:34.925Z"
   },
   {
    "duration": 1709,
    "start_time": "2024-04-13T19:57:01.882Z"
   },
   {
    "duration": 2344,
    "start_time": "2024-04-13T19:57:11.806Z"
   },
   {
    "duration": 130,
    "start_time": "2024-04-13T19:59:16.060Z"
   },
   {
    "duration": 2172,
    "start_time": "2024-04-13T19:59:29.984Z"
   },
   {
    "duration": 30,
    "start_time": "2024-04-13T20:10:02.207Z"
   },
   {
    "duration": 10,
    "start_time": "2024-04-13T20:10:08.059Z"
   },
   {
    "duration": 10,
    "start_time": "2024-04-13T20:10:52.287Z"
   },
   {
    "duration": 9,
    "start_time": "2024-04-13T20:10:56.083Z"
   },
   {
    "duration": 744,
    "start_time": "2024-04-14T15:16:01.461Z"
   },
   {
    "duration": 2747,
    "start_time": "2024-04-14T15:16:02.207Z"
   },
   {
    "duration": 11,
    "start_time": "2024-04-14T15:16:04.956Z"
   },
   {
    "duration": 7,
    "start_time": "2024-04-14T15:18:10.731Z"
   },
   {
    "duration": 33,
    "start_time": "2024-04-14T15:18:27.122Z"
   },
   {
    "duration": 26,
    "start_time": "2024-04-14T15:18:44.936Z"
   },
   {
    "duration": 509,
    "start_time": "2024-04-14T15:19:04.406Z"
   },
   {
    "duration": 2409,
    "start_time": "2024-04-14T15:19:04.917Z"
   },
   {
    "duration": 9,
    "start_time": "2024-04-14T15:19:07.328Z"
   },
   {
    "duration": 28,
    "start_time": "2024-04-14T15:19:11.093Z"
   },
   {
    "duration": 10,
    "start_time": "2024-04-14T15:19:33.147Z"
   },
   {
    "duration": 10,
    "start_time": "2024-04-14T15:19:35.945Z"
   },
   {
    "duration": 14,
    "start_time": "2024-04-14T15:19:59.608Z"
   },
   {
    "duration": 11,
    "start_time": "2024-04-14T15:20:07.039Z"
   },
   {
    "duration": 14,
    "start_time": "2024-04-14T15:20:16.712Z"
   },
   {
    "duration": 35,
    "start_time": "2024-04-14T15:20:32.652Z"
   },
   {
    "duration": 6,
    "start_time": "2024-04-14T15:21:06.335Z"
   },
   {
    "duration": 140,
    "start_time": "2024-04-14T16:03:26.436Z"
   },
   {
    "duration": 2177,
    "start_time": "2024-04-14T16:03:26.578Z"
   },
   {
    "duration": 13,
    "start_time": "2024-04-14T16:03:28.757Z"
   },
   {
    "duration": 20,
    "start_time": "2024-04-14T16:03:28.772Z"
   },
   {
    "duration": 13,
    "start_time": "2024-04-14T16:05:03.886Z"
   },
   {
    "duration": 9,
    "start_time": "2024-04-14T16:05:41.935Z"
   },
   {
    "duration": 47,
    "start_time": "2024-04-14T16:05:47.600Z"
   },
   {
    "duration": 135,
    "start_time": "2024-04-14T16:05:56.588Z"
   },
   {
    "duration": 122,
    "start_time": "2024-04-14T16:06:04.643Z"
   },
   {
    "duration": 160,
    "start_time": "2024-04-14T16:06:32.434Z"
   },
   {
    "duration": 126,
    "start_time": "2024-04-14T16:06:35.198Z"
   },
   {
    "duration": 10,
    "start_time": "2024-04-14T16:06:41.477Z"
   },
   {
    "duration": 14,
    "start_time": "2024-04-14T16:09:17.167Z"
   },
   {
    "duration": 252,
    "start_time": "2024-04-14T16:10:12.265Z"
   },
   {
    "duration": 145,
    "start_time": "2024-04-14T16:10:26.080Z"
   },
   {
    "duration": 135,
    "start_time": "2024-04-14T16:10:42.442Z"
   },
   {
    "duration": 130,
    "start_time": "2024-04-14T16:10:46.841Z"
   },
   {
    "duration": 10,
    "start_time": "2024-04-14T16:11:10.208Z"
   },
   {
    "duration": 272,
    "start_time": "2024-04-14T16:15:58.423Z"
   },
   {
    "duration": 14,
    "start_time": "2024-04-14T16:16:08.519Z"
   },
   {
    "duration": 17,
    "start_time": "2024-04-14T16:16:22.495Z"
   },
   {
    "duration": 12,
    "start_time": "2024-04-14T16:16:30.835Z"
   },
   {
    "duration": 13,
    "start_time": "2024-04-14T16:16:49.465Z"
   },
   {
    "duration": 11,
    "start_time": "2024-04-14T16:16:53.378Z"
   },
   {
    "duration": 11,
    "start_time": "2024-04-14T16:16:58.721Z"
   },
   {
    "duration": 120,
    "start_time": "2024-04-14T16:19:45.888Z"
   },
   {
    "duration": 14,
    "start_time": "2024-04-14T16:19:59.447Z"
   },
   {
    "duration": 12,
    "start_time": "2024-04-14T16:21:31.783Z"
   },
   {
    "duration": 12,
    "start_time": "2024-04-14T16:21:46.185Z"
   },
   {
    "duration": 17,
    "start_time": "2024-04-14T16:21:48.631Z"
   },
   {
    "duration": 11,
    "start_time": "2024-04-14T16:21:57.385Z"
   },
   {
    "duration": 921,
    "start_time": "2024-04-14T19:43:52.852Z"
   },
   {
    "duration": 12,
    "start_time": "2024-04-14T19:47:04.138Z"
   },
   {
    "duration": 131,
    "start_time": "2024-04-14T19:47:17.517Z"
   },
   {
    "duration": 532,
    "start_time": "2024-04-14T19:47:49.313Z"
   },
   {
    "duration": 2319,
    "start_time": "2024-04-14T19:47:49.847Z"
   },
   {
    "duration": 10,
    "start_time": "2024-04-14T19:47:52.167Z"
   },
   {
    "duration": 23,
    "start_time": "2024-04-14T19:47:52.178Z"
   },
   {
    "duration": 38,
    "start_time": "2024-04-14T19:47:52.203Z"
   },
   {
    "duration": 89,
    "start_time": "2024-04-14T19:47:52.242Z"
   },
   {
    "duration": 14,
    "start_time": "2024-04-14T19:48:38.435Z"
   },
   {
    "duration": 599,
    "start_time": "2024-04-14T19:52:21.169Z"
   },
   {
    "duration": 2397,
    "start_time": "2024-04-14T19:52:21.769Z"
   },
   {
    "duration": 12,
    "start_time": "2024-04-14T19:52:24.168Z"
   },
   {
    "duration": 19,
    "start_time": "2024-04-14T19:52:24.181Z"
   },
   {
    "duration": 15,
    "start_time": "2024-04-14T19:52:24.203Z"
   },
   {
    "duration": 531,
    "start_time": "2024-04-14T19:52:29.195Z"
   },
   {
    "duration": 2410,
    "start_time": "2024-04-14T19:52:29.728Z"
   },
   {
    "duration": 9,
    "start_time": "2024-04-14T19:52:32.140Z"
   },
   {
    "duration": 50,
    "start_time": "2024-04-14T19:52:32.151Z"
   },
   {
    "duration": 30,
    "start_time": "2024-04-14T19:52:32.203Z"
   },
   {
    "duration": 83,
    "start_time": "2024-04-14T19:53:40.064Z"
   },
   {
    "duration": 6,
    "start_time": "2024-04-14T19:56:55.167Z"
   },
   {
    "duration": 9,
    "start_time": "2024-04-14T19:57:47.760Z"
   },
   {
    "duration": 8,
    "start_time": "2024-04-14T19:57:59.417Z"
   },
   {
    "duration": 74,
    "start_time": "2024-04-14T19:59:01.065Z"
   },
   {
    "duration": 188,
    "start_time": "2024-04-14T19:59:07.677Z"
   },
   {
    "duration": 831,
    "start_time": "2024-04-14T19:59:21.080Z"
   },
   {
    "duration": 9,
    "start_time": "2024-04-14T20:00:21.163Z"
   },
   {
    "duration": 571,
    "start_time": "2024-04-14T20:00:45.624Z"
   },
   {
    "duration": 2453,
    "start_time": "2024-04-14T20:00:46.197Z"
   },
   {
    "duration": 10,
    "start_time": "2024-04-14T20:00:48.651Z"
   },
   {
    "duration": 10,
    "start_time": "2024-04-14T20:00:48.662Z"
   },
   {
    "duration": 17,
    "start_time": "2024-04-14T20:00:48.673Z"
   },
   {
    "duration": 138,
    "start_time": "2024-04-14T20:00:51.659Z"
   },
   {
    "duration": 2149,
    "start_time": "2024-04-14T20:00:51.799Z"
   },
   {
    "duration": 11,
    "start_time": "2024-04-14T20:00:53.960Z"
   },
   {
    "duration": 11,
    "start_time": "2024-04-14T20:00:53.972Z"
   },
   {
    "duration": 11,
    "start_time": "2024-04-14T20:00:53.985Z"
   },
   {
    "duration": 14,
    "start_time": "2024-04-14T20:00:57.506Z"
   },
   {
    "duration": 88,
    "start_time": "2024-04-14T20:01:34.247Z"
   },
   {
    "duration": 8,
    "start_time": "2024-04-14T20:01:38.875Z"
   },
   {
    "duration": 66,
    "start_time": "2024-04-14T20:03:45.507Z"
   },
   {
    "duration": 8,
    "start_time": "2024-04-14T20:03:50.606Z"
   },
   {
    "duration": 9,
    "start_time": "2024-04-14T20:03:53.479Z"
   },
   {
    "duration": 7,
    "start_time": "2024-04-14T20:04:03.945Z"
   },
   {
    "duration": 13,
    "start_time": "2024-04-14T20:04:13.563Z"
   },
   {
    "duration": 6,
    "start_time": "2024-04-14T20:04:15.714Z"
   },
   {
    "duration": 8,
    "start_time": "2024-04-14T20:04:19.751Z"
   },
   {
    "duration": 11,
    "start_time": "2024-04-14T20:04:43.476Z"
   },
   {
    "duration": 22,
    "start_time": "2024-04-14T20:09:28.058Z"
   },
   {
    "duration": 26,
    "start_time": "2024-04-14T20:09:52.542Z"
   },
   {
    "duration": 22,
    "start_time": "2024-04-14T20:09:55.840Z"
   },
   {
    "duration": 18,
    "start_time": "2024-04-14T20:10:09.394Z"
   },
   {
    "duration": 31,
    "start_time": "2024-04-14T20:11:06.075Z"
   },
   {
    "duration": 61,
    "start_time": "2024-04-14T20:11:54.657Z"
   },
   {
    "duration": 23,
    "start_time": "2024-04-14T20:11:57.779Z"
   },
   {
    "duration": 34,
    "start_time": "2024-04-14T20:12:13.771Z"
   },
   {
    "duration": 34,
    "start_time": "2024-04-14T20:22:31.101Z"
   },
   {
    "duration": 743,
    "start_time": "2024-04-15T09:30:43.216Z"
   },
   {
    "duration": 2362,
    "start_time": "2024-04-15T09:30:43.960Z"
   },
   {
    "duration": 8,
    "start_time": "2024-04-15T09:30:46.324Z"
   },
   {
    "duration": 13,
    "start_time": "2024-04-15T09:30:46.334Z"
   },
   {
    "duration": 10,
    "start_time": "2024-04-15T09:30:46.349Z"
   },
   {
    "duration": 7,
    "start_time": "2024-04-15T09:30:46.361Z"
   },
   {
    "duration": 6,
    "start_time": "2024-04-15T09:30:46.369Z"
   },
   {
    "duration": 28,
    "start_time": "2024-04-15T09:31:06.806Z"
   },
   {
    "duration": 20,
    "start_time": "2024-04-15T09:31:23.824Z"
   },
   {
    "duration": 94,
    "start_time": "2024-04-15T09:31:29.043Z"
   },
   {
    "duration": 23,
    "start_time": "2024-04-15T09:31:45.223Z"
   },
   {
    "duration": 23,
    "start_time": "2024-04-15T09:33:37.591Z"
   },
   {
    "duration": 20,
    "start_time": "2024-04-15T09:33:44.567Z"
   },
   {
    "duration": 20,
    "start_time": "2024-04-15T09:34:22.000Z"
   },
   {
    "duration": 498,
    "start_time": "2024-04-15T09:35:40.431Z"
   },
   {
    "duration": 2148,
    "start_time": "2024-04-15T09:35:40.930Z"
   },
   {
    "duration": 9,
    "start_time": "2024-04-15T09:35:43.080Z"
   },
   {
    "duration": 8,
    "start_time": "2024-04-15T09:35:43.090Z"
   },
   {
    "duration": 38,
    "start_time": "2024-04-15T09:35:43.100Z"
   },
   {
    "duration": 13,
    "start_time": "2024-04-15T09:35:43.139Z"
   },
   {
    "duration": 11,
    "start_time": "2024-04-15T09:35:43.154Z"
   },
   {
    "duration": 8,
    "start_time": "2024-04-15T09:35:43.167Z"
   },
   {
    "duration": 39,
    "start_time": "2024-04-15T09:35:43.177Z"
   },
   {
    "duration": 21,
    "start_time": "2024-04-15T09:35:43.218Z"
   },
   {
    "duration": 22,
    "start_time": "2024-04-15T09:41:13.995Z"
   },
   {
    "duration": 19,
    "start_time": "2024-04-15T09:41:25.613Z"
   },
   {
    "duration": 7,
    "start_time": "2024-04-15T09:42:58.795Z"
   },
   {
    "duration": 17,
    "start_time": "2024-04-15T09:43:09.106Z"
   },
   {
    "duration": 23,
    "start_time": "2024-04-15T09:53:32.201Z"
   },
   {
    "duration": 57,
    "start_time": "2024-04-16T07:33:14.013Z"
   },
   {
    "duration": 864,
    "start_time": "2024-04-16T07:33:18.248Z"
   },
   {
    "duration": 2732,
    "start_time": "2024-04-16T07:33:19.114Z"
   },
   {
    "duration": 13,
    "start_time": "2024-04-16T07:33:21.848Z"
   },
   {
    "duration": 16,
    "start_time": "2024-04-16T07:33:21.862Z"
   },
   {
    "duration": 20,
    "start_time": "2024-04-16T07:33:21.880Z"
   },
   {
    "duration": 14,
    "start_time": "2024-04-16T07:33:21.902Z"
   },
   {
    "duration": 26,
    "start_time": "2024-04-16T07:33:21.917Z"
   },
   {
    "duration": 22,
    "start_time": "2024-04-16T07:33:21.944Z"
   },
   {
    "duration": 54,
    "start_time": "2024-04-16T07:33:21.967Z"
   },
   {
    "duration": 10,
    "start_time": "2024-04-16T07:33:22.023Z"
   },
   {
    "duration": 30,
    "start_time": "2024-04-16T07:33:22.035Z"
   },
   {
    "duration": 38,
    "start_time": "2024-04-16T07:33:27.456Z"
   },
   {
    "duration": 9,
    "start_time": "2024-04-16T07:33:38.508Z"
   },
   {
    "duration": 9,
    "start_time": "2024-04-16T07:34:02.618Z"
   },
   {
    "duration": 15,
    "start_time": "2024-04-16T07:34:30.578Z"
   },
   {
    "duration": 13,
    "start_time": "2024-04-16T07:35:09.118Z"
   },
   {
    "duration": 6,
    "start_time": "2024-04-16T07:35:24.411Z"
   },
   {
    "duration": 7,
    "start_time": "2024-04-16T07:35:49.198Z"
   },
   {
    "duration": 5,
    "start_time": "2024-04-16T07:36:09.985Z"
   },
   {
    "duration": 7,
    "start_time": "2024-04-16T07:36:34.416Z"
   },
   {
    "duration": 7,
    "start_time": "2024-04-16T07:37:28.806Z"
   },
   {
    "duration": 8,
    "start_time": "2024-04-16T07:37:45.955Z"
   },
   {
    "duration": 14,
    "start_time": "2024-04-16T07:38:14.156Z"
   },
   {
    "duration": 12,
    "start_time": "2024-04-16T07:39:29.914Z"
   },
   {
    "duration": 18,
    "start_time": "2024-04-16T07:39:39.226Z"
   },
   {
    "duration": 8,
    "start_time": "2024-04-16T07:39:52.514Z"
   },
   {
    "duration": 10,
    "start_time": "2024-04-16T07:40:15.270Z"
   },
   {
    "duration": 12,
    "start_time": "2024-04-16T07:40:30.038Z"
   },
   {
    "duration": 10,
    "start_time": "2024-04-16T07:40:40.242Z"
   },
   {
    "duration": 8,
    "start_time": "2024-04-16T07:40:55.972Z"
   },
   {
    "duration": 7,
    "start_time": "2024-04-16T07:41:20.413Z"
   },
   {
    "duration": 8,
    "start_time": "2024-04-16T07:41:25.561Z"
   },
   {
    "duration": 6,
    "start_time": "2024-04-16T07:41:53.281Z"
   },
   {
    "duration": 7,
    "start_time": "2024-04-16T07:42:29.485Z"
   },
   {
    "duration": 7,
    "start_time": "2024-04-16T07:43:23.007Z"
   },
   {
    "duration": 6,
    "start_time": "2024-04-16T07:43:52.681Z"
   },
   {
    "duration": 7,
    "start_time": "2024-04-16T07:44:01.951Z"
   },
   {
    "duration": 5,
    "start_time": "2024-04-16T07:44:33.784Z"
   },
   {
    "duration": 6,
    "start_time": "2024-04-16T07:44:54.749Z"
   },
   {
    "duration": 11,
    "start_time": "2024-04-16T07:45:20.743Z"
   },
   {
    "duration": 9,
    "start_time": "2024-04-16T07:45:25.109Z"
   },
   {
    "duration": 35,
    "start_time": "2024-04-16T07:46:08.731Z"
   },
   {
    "duration": 10,
    "start_time": "2024-04-16T07:46:15.800Z"
   },
   {
    "duration": 8,
    "start_time": "2024-04-16T07:46:43.266Z"
   },
   {
    "duration": 7,
    "start_time": "2024-04-16T07:47:12.268Z"
   },
   {
    "duration": 546,
    "start_time": "2024-04-16T07:47:47.907Z"
   },
   {
    "duration": 2527,
    "start_time": "2024-04-16T07:47:48.456Z"
   },
   {
    "duration": 12,
    "start_time": "2024-04-16T07:47:50.985Z"
   },
   {
    "duration": 7,
    "start_time": "2024-04-16T07:47:50.998Z"
   },
   {
    "duration": 14,
    "start_time": "2024-04-16T07:47:51.008Z"
   },
   {
    "duration": 8,
    "start_time": "2024-04-16T07:47:51.024Z"
   },
   {
    "duration": 12,
    "start_time": "2024-04-16T07:47:51.034Z"
   },
   {
    "duration": 5,
    "start_time": "2024-04-16T07:47:51.080Z"
   },
   {
    "duration": 36,
    "start_time": "2024-04-16T07:47:51.087Z"
   },
   {
    "duration": 9,
    "start_time": "2024-04-16T07:47:51.124Z"
   },
   {
    "duration": 48,
    "start_time": "2024-04-16T07:47:51.134Z"
   },
   {
    "duration": 13,
    "start_time": "2024-04-16T07:47:51.183Z"
   },
   {
    "duration": 11,
    "start_time": "2024-04-16T07:50:15.200Z"
   },
   {
    "duration": 9,
    "start_time": "2024-04-16T07:50:21.328Z"
   },
   {
    "duration": 6,
    "start_time": "2024-04-16T07:53:23.746Z"
   },
   {
    "duration": 100,
    "start_time": "2024-04-16T07:58:02.334Z"
   },
   {
    "duration": 94,
    "start_time": "2024-04-16T07:58:17.215Z"
   },
   {
    "duration": 12,
    "start_time": "2024-04-16T07:58:32.183Z"
   },
   {
    "duration": 20,
    "start_time": "2024-04-16T07:58:45.169Z"
   },
   {
    "duration": 9,
    "start_time": "2024-04-16T07:58:51.424Z"
   },
   {
    "duration": 6,
    "start_time": "2024-04-16T07:59:04.850Z"
   },
   {
    "duration": 7,
    "start_time": "2024-04-16T07:59:13.485Z"
   },
   {
    "duration": 11,
    "start_time": "2024-04-16T07:59:17.203Z"
   },
   {
    "duration": 7,
    "start_time": "2024-04-16T07:59:31.756Z"
   },
   {
    "duration": 6,
    "start_time": "2024-04-16T07:59:35.224Z"
   },
   {
    "duration": 138,
    "start_time": "2024-04-16T08:01:16.661Z"
   },
   {
    "duration": 95,
    "start_time": "2024-04-16T08:02:41.480Z"
   },
   {
    "duration": 573,
    "start_time": "2024-04-16T08:03:50.105Z"
   },
   {
    "duration": 2615,
    "start_time": "2024-04-16T08:03:50.682Z"
   },
   {
    "duration": 11,
    "start_time": "2024-04-16T08:03:53.299Z"
   },
   {
    "duration": 13,
    "start_time": "2024-04-16T08:03:53.312Z"
   },
   {
    "duration": 12,
    "start_time": "2024-04-16T08:03:53.327Z"
   },
   {
    "duration": 8,
    "start_time": "2024-04-16T08:03:53.341Z"
   },
   {
    "duration": 8,
    "start_time": "2024-04-16T08:03:53.351Z"
   },
   {
    "duration": 22,
    "start_time": "2024-04-16T08:03:53.360Z"
   },
   {
    "duration": 53,
    "start_time": "2024-04-16T08:03:53.384Z"
   },
   {
    "duration": 8,
    "start_time": "2024-04-16T08:03:53.439Z"
   },
   {
    "duration": 49,
    "start_time": "2024-04-16T08:03:53.449Z"
   },
   {
    "duration": 6,
    "start_time": "2024-04-16T08:03:53.500Z"
   },
   {
    "duration": 138,
    "start_time": "2024-04-16T08:03:53.508Z"
   },
   {
    "duration": 7,
    "start_time": "2024-04-16T12:03:58.269Z"
   },
   {
    "duration": 32,
    "start_time": "2024-04-16T12:04:04.125Z"
   },
   {
    "duration": 38,
    "start_time": "2024-04-16T12:05:28.228Z"
   },
   {
    "duration": 37,
    "start_time": "2024-04-16T12:07:57.863Z"
   },
   {
    "duration": 26,
    "start_time": "2024-04-16T12:08:39.246Z"
   },
   {
    "duration": 35,
    "start_time": "2024-04-16T12:09:28.857Z"
   },
   {
    "duration": 85,
    "start_time": "2024-04-16T12:10:04.998Z"
   },
   {
    "duration": 80,
    "start_time": "2024-04-16T12:14:37.328Z"
   },
   {
    "duration": 27,
    "start_time": "2024-04-16T12:14:51.823Z"
   },
   {
    "duration": 26,
    "start_time": "2024-04-16T12:15:07.570Z"
   },
   {
    "duration": 24,
    "start_time": "2024-04-16T12:15:24.116Z"
   },
   {
    "duration": 24,
    "start_time": "2024-04-16T12:15:32.240Z"
   },
   {
    "duration": 26,
    "start_time": "2024-04-16T12:15:43.200Z"
   },
   {
    "duration": 24,
    "start_time": "2024-04-16T12:15:55.873Z"
   },
   {
    "duration": 26,
    "start_time": "2024-04-16T12:16:28.955Z"
   },
   {
    "duration": 25,
    "start_time": "2024-04-16T12:19:18.119Z"
   },
   {
    "duration": 13,
    "start_time": "2024-04-16T12:23:05.990Z"
   },
   {
    "duration": 12,
    "start_time": "2024-04-16T12:23:10.653Z"
   },
   {
    "duration": 15,
    "start_time": "2024-04-16T12:23:19.843Z"
   },
   {
    "duration": 29,
    "start_time": "2024-04-16T12:23:24.214Z"
   },
   {
    "duration": 20,
    "start_time": "2024-04-16T12:23:51.255Z"
   },
   {
    "duration": 17,
    "start_time": "2024-04-16T12:23:56.236Z"
   },
   {
    "duration": 442,
    "start_time": "2024-04-16T12:24:27.065Z"
   },
   {
    "duration": 508,
    "start_time": "2024-04-16T12:25:41.425Z"
   },
   {
    "duration": 596,
    "start_time": "2024-04-16T12:25:52.171Z"
   },
   {
    "duration": 2616,
    "start_time": "2024-04-16T12:25:52.769Z"
   },
   {
    "duration": 11,
    "start_time": "2024-04-16T12:25:55.386Z"
   },
   {
    "duration": 13,
    "start_time": "2024-04-16T12:25:55.399Z"
   },
   {
    "duration": 22,
    "start_time": "2024-04-16T12:25:55.414Z"
   },
   {
    "duration": 13,
    "start_time": "2024-04-16T12:25:55.438Z"
   },
   {
    "duration": 25,
    "start_time": "2024-04-16T12:25:55.453Z"
   },
   {
    "duration": 20,
    "start_time": "2024-04-16T12:25:55.480Z"
   },
   {
    "duration": 53,
    "start_time": "2024-04-16T12:25:55.502Z"
   },
   {
    "duration": 9,
    "start_time": "2024-04-16T12:25:55.557Z"
   },
   {
    "duration": 23,
    "start_time": "2024-04-16T12:25:55.568Z"
   },
   {
    "duration": 9,
    "start_time": "2024-04-16T12:25:55.592Z"
   },
   {
    "duration": 138,
    "start_time": "2024-04-16T12:25:55.602Z"
   },
   {
    "duration": 13,
    "start_time": "2024-04-16T12:25:55.743Z"
   },
   {
    "duration": 38,
    "start_time": "2024-04-16T12:25:55.759Z"
   },
   {
    "duration": 24,
    "start_time": "2024-04-16T12:25:55.799Z"
   },
   {
    "duration": 24,
    "start_time": "2024-04-16T12:25:55.825Z"
   },
   {
    "duration": 30,
    "start_time": "2024-04-16T12:26:03.297Z"
   },
   {
    "duration": 519,
    "start_time": "2024-04-16T12:26:06.881Z"
   },
   {
    "duration": 491,
    "start_time": "2024-04-16T12:26:38.209Z"
   },
   {
    "duration": 547,
    "start_time": "2024-04-16T12:26:45.706Z"
   },
   {
    "duration": 473,
    "start_time": "2024-04-16T12:27:00.755Z"
   },
   {
    "duration": 462,
    "start_time": "2024-04-16T12:27:36.094Z"
   },
   {
    "duration": 535,
    "start_time": "2024-04-16T12:27:40.604Z"
   },
   {
    "duration": 541,
    "start_time": "2024-04-16T12:28:12.836Z"
   },
   {
    "duration": 2659,
    "start_time": "2024-04-16T12:28:13.379Z"
   },
   {
    "duration": 10,
    "start_time": "2024-04-16T12:28:16.040Z"
   },
   {
    "duration": 5,
    "start_time": "2024-04-16T12:28:16.052Z"
   },
   {
    "duration": 17,
    "start_time": "2024-04-16T12:28:16.060Z"
   },
   {
    "duration": 8,
    "start_time": "2024-04-16T12:28:16.079Z"
   },
   {
    "duration": 11,
    "start_time": "2024-04-16T12:28:16.089Z"
   },
   {
    "duration": 6,
    "start_time": "2024-04-16T12:28:16.101Z"
   },
   {
    "duration": 42,
    "start_time": "2024-04-16T12:28:16.109Z"
   },
   {
    "duration": 34,
    "start_time": "2024-04-16T12:28:16.153Z"
   },
   {
    "duration": 24,
    "start_time": "2024-04-16T12:28:16.189Z"
   },
   {
    "duration": 8,
    "start_time": "2024-04-16T12:28:16.214Z"
   },
   {
    "duration": 152,
    "start_time": "2024-04-16T12:28:16.223Z"
   },
   {
    "duration": 13,
    "start_time": "2024-04-16T12:28:16.381Z"
   },
   {
    "duration": 23,
    "start_time": "2024-04-16T12:28:16.396Z"
   },
   {
    "duration": 24,
    "start_time": "2024-04-16T12:28:16.421Z"
   },
   {
    "duration": 51,
    "start_time": "2024-04-16T12:28:16.447Z"
   },
   {
    "duration": 24,
    "start_time": "2024-04-16T12:28:16.500Z"
   },
   {
    "duration": 494,
    "start_time": "2024-04-16T12:28:21.317Z"
   },
   {
    "duration": 514,
    "start_time": "2024-04-16T12:28:49.959Z"
   },
   {
    "duration": 6,
    "start_time": "2024-04-16T12:29:24.981Z"
   },
   {
    "duration": 483,
    "start_time": "2024-04-16T12:29:27.779Z"
   },
   {
    "duration": 75,
    "start_time": "2024-04-16T12:29:43.469Z"
   },
   {
    "duration": 77,
    "start_time": "2024-04-16T12:29:52.996Z"
   },
   {
    "duration": 86,
    "start_time": "2024-04-16T12:30:03.209Z"
   },
   {
    "duration": 581,
    "start_time": "2024-04-16T12:30:36.517Z"
   },
   {
    "duration": 2666,
    "start_time": "2024-04-16T12:30:37.100Z"
   },
   {
    "duration": 11,
    "start_time": "2024-04-16T12:30:39.767Z"
   },
   {
    "duration": 29,
    "start_time": "2024-04-16T12:30:39.780Z"
   },
   {
    "duration": 23,
    "start_time": "2024-04-16T12:30:39.810Z"
   },
   {
    "duration": 8,
    "start_time": "2024-04-16T12:30:39.836Z"
   },
   {
    "duration": 10,
    "start_time": "2024-04-16T12:30:39.846Z"
   },
   {
    "duration": 12,
    "start_time": "2024-04-16T12:30:39.857Z"
   },
   {
    "duration": 46,
    "start_time": "2024-04-16T12:30:39.871Z"
   },
   {
    "duration": 37,
    "start_time": "2024-04-16T12:30:39.920Z"
   },
   {
    "duration": 40,
    "start_time": "2024-04-16T12:30:39.958Z"
   },
   {
    "duration": 7,
    "start_time": "2024-04-16T12:30:40.000Z"
   },
   {
    "duration": 207,
    "start_time": "2024-04-16T12:30:40.008Z"
   },
   {
    "duration": 12,
    "start_time": "2024-04-16T12:30:40.217Z"
   },
   {
    "duration": 32,
    "start_time": "2024-04-16T12:30:40.230Z"
   },
   {
    "duration": 35,
    "start_time": "2024-04-16T12:30:40.264Z"
   },
   {
    "duration": 24,
    "start_time": "2024-04-16T12:30:40.301Z"
   },
   {
    "duration": 22,
    "start_time": "2024-04-16T12:30:40.327Z"
   },
   {
    "duration": 35,
    "start_time": "2024-04-16T12:30:40.351Z"
   },
   {
    "duration": 77,
    "start_time": "2024-04-16T12:30:45.840Z"
   },
   {
    "duration": 522,
    "start_time": "2024-04-16T12:31:02.455Z"
   },
   {
    "duration": 10,
    "start_time": "2024-04-16T12:31:29.117Z"
   },
   {
    "duration": 7,
    "start_time": "2024-04-16T12:31:34.941Z"
   },
   {
    "duration": 24,
    "start_time": "2024-04-16T12:32:36.568Z"
   },
   {
    "duration": 13,
    "start_time": "2024-04-16T12:32:52.880Z"
   },
   {
    "duration": 508,
    "start_time": "2024-04-16T12:32:58.449Z"
   },
   {
    "duration": 467,
    "start_time": "2024-04-16T12:33:11.351Z"
   },
   {
    "duration": 616,
    "start_time": "2024-04-16T12:33:38.774Z"
   },
   {
    "duration": 2633,
    "start_time": "2024-04-16T12:33:39.393Z"
   },
   {
    "duration": 12,
    "start_time": "2024-04-16T12:33:42.027Z"
   },
   {
    "duration": 13,
    "start_time": "2024-04-16T12:33:42.040Z"
   },
   {
    "duration": 24,
    "start_time": "2024-04-16T12:33:42.056Z"
   },
   {
    "duration": 13,
    "start_time": "2024-04-16T12:33:42.081Z"
   },
   {
    "duration": 27,
    "start_time": "2024-04-16T12:33:42.096Z"
   },
   {
    "duration": 8,
    "start_time": "2024-04-16T12:33:42.125Z"
   },
   {
    "duration": 53,
    "start_time": "2024-04-16T12:33:42.135Z"
   },
   {
    "duration": 11,
    "start_time": "2024-04-16T12:33:42.192Z"
   },
   {
    "duration": 24,
    "start_time": "2024-04-16T12:33:42.204Z"
   },
   {
    "duration": 7,
    "start_time": "2024-04-16T12:33:42.229Z"
   },
   {
    "duration": 164,
    "start_time": "2024-04-16T12:33:42.237Z"
   },
   {
    "duration": 12,
    "start_time": "2024-04-16T12:33:42.404Z"
   },
   {
    "duration": 22,
    "start_time": "2024-04-16T12:33:42.418Z"
   },
   {
    "duration": 56,
    "start_time": "2024-04-16T12:33:42.442Z"
   },
   {
    "duration": 23,
    "start_time": "2024-04-16T12:33:42.500Z"
   },
   {
    "duration": 23,
    "start_time": "2024-04-16T12:33:42.524Z"
   },
   {
    "duration": 36,
    "start_time": "2024-04-16T12:33:42.549Z"
   },
   {
    "duration": 433,
    "start_time": "2024-04-16T12:33:45.417Z"
   },
   {
    "duration": 437,
    "start_time": "2024-04-16T12:33:54.667Z"
   },
   {
    "duration": 25,
    "start_time": "2024-04-16T12:34:13.146Z"
   },
   {
    "duration": 654,
    "start_time": "2024-04-16T12:36:26.865Z"
   },
   {
    "duration": 2628,
    "start_time": "2024-04-16T12:36:27.521Z"
   },
   {
    "duration": 11,
    "start_time": "2024-04-16T12:36:30.151Z"
   },
   {
    "duration": 86,
    "start_time": "2024-04-16T12:36:30.163Z"
   },
   {
    "duration": 399,
    "start_time": "2024-04-16T12:36:30.251Z"
   },
   {
    "duration": 298,
    "start_time": "2024-04-16T12:36:30.652Z"
   },
   {
    "duration": 274,
    "start_time": "2024-04-16T12:36:30.952Z"
   },
   {
    "duration": 46,
    "start_time": "2024-04-16T12:36:31.228Z"
   },
   {
    "duration": 65,
    "start_time": "2024-04-16T12:36:31.276Z"
   },
   {
    "duration": 62,
    "start_time": "2024-04-16T12:36:31.343Z"
   },
   {
    "duration": 88,
    "start_time": "2024-04-16T12:36:31.407Z"
   },
   {
    "duration": 13,
    "start_time": "2024-04-16T12:36:31.497Z"
   },
   {
    "duration": 172,
    "start_time": "2024-04-16T12:36:31.511Z"
   },
   {
    "duration": 14,
    "start_time": "2024-04-16T12:36:31.686Z"
   },
   {
    "duration": 48,
    "start_time": "2024-04-16T12:36:31.701Z"
   },
   {
    "duration": 31,
    "start_time": "2024-04-16T12:36:31.751Z"
   },
   {
    "duration": 30,
    "start_time": "2024-04-16T12:36:31.784Z"
   },
   {
    "duration": 33,
    "start_time": "2024-04-16T12:36:31.816Z"
   },
   {
    "duration": 32,
    "start_time": "2024-04-16T12:36:31.850Z"
   },
   {
    "duration": 422,
    "start_time": "2024-04-16T12:36:31.884Z"
   },
   {
    "duration": 25,
    "start_time": "2024-04-16T12:36:32.308Z"
   },
   {
    "duration": 541,
    "start_time": "2024-04-16T16:23:53.005Z"
   },
   {
    "duration": 2453,
    "start_time": "2024-04-16T16:23:53.548Z"
   },
   {
    "duration": 10,
    "start_time": "2024-04-16T16:23:56.003Z"
   },
   {
    "duration": 12,
    "start_time": "2024-04-16T16:23:56.014Z"
   },
   {
    "duration": 11,
    "start_time": "2024-04-16T16:23:56.028Z"
   },
   {
    "duration": 8,
    "start_time": "2024-04-16T16:23:56.041Z"
   },
   {
    "duration": 8,
    "start_time": "2024-04-16T16:23:56.051Z"
   },
   {
    "duration": 22,
    "start_time": "2024-04-16T16:23:56.061Z"
   },
   {
    "duration": 41,
    "start_time": "2024-04-16T16:23:56.085Z"
   },
   {
    "duration": 9,
    "start_time": "2024-04-16T16:23:56.128Z"
   },
   {
    "duration": 22,
    "start_time": "2024-04-16T16:23:56.138Z"
   },
   {
    "duration": 23,
    "start_time": "2024-04-16T16:23:56.161Z"
   },
   {
    "duration": 130,
    "start_time": "2024-04-16T16:23:56.185Z"
   },
   {
    "duration": 12,
    "start_time": "2024-04-16T16:23:56.317Z"
   },
   {
    "duration": 23,
    "start_time": "2024-04-16T16:23:56.331Z"
   },
   {
    "duration": 39,
    "start_time": "2024-04-16T16:23:56.355Z"
   },
   {
    "duration": 22,
    "start_time": "2024-04-16T16:23:56.395Z"
   },
   {
    "duration": 22,
    "start_time": "2024-04-16T16:23:56.419Z"
   },
   {
    "duration": 44,
    "start_time": "2024-04-16T16:23:56.444Z"
   },
   {
    "duration": 372,
    "start_time": "2024-04-16T16:23:56.490Z"
   },
   {
    "duration": 42,
    "start_time": "2024-04-16T16:23:56.864Z"
   },
   {
    "duration": 116,
    "start_time": "2024-04-16T16:24:54.803Z"
   },
   {
    "duration": 143,
    "start_time": "2024-04-16T16:25:29.481Z"
   },
   {
    "duration": 160,
    "start_time": "2024-04-16T16:25:37.171Z"
   },
   {
    "duration": 227,
    "start_time": "2024-04-16T16:25:48.953Z"
   },
   {
    "duration": 155,
    "start_time": "2024-04-16T16:27:14.759Z"
   },
   {
    "duration": 125,
    "start_time": "2024-04-16T16:27:21.192Z"
   },
   {
    "duration": 147,
    "start_time": "2024-04-16T16:27:25.212Z"
   },
   {
    "duration": 203,
    "start_time": "2024-04-16T16:27:29.203Z"
   },
   {
    "duration": 914,
    "start_time": "2024-04-16T16:27:36.500Z"
   },
   {
    "duration": 138,
    "start_time": "2024-04-16T16:27:41.191Z"
   },
   {
    "duration": 140,
    "start_time": "2024-04-16T16:27:45.924Z"
   },
   {
    "duration": 153,
    "start_time": "2024-04-16T16:27:54.469Z"
   },
   {
    "duration": 164,
    "start_time": "2024-04-16T16:28:00.975Z"
   },
   {
    "duration": 141,
    "start_time": "2024-04-16T16:28:06.904Z"
   },
   {
    "duration": 137,
    "start_time": "2024-04-16T16:28:16.075Z"
   },
   {
    "duration": 157,
    "start_time": "2024-04-16T16:28:41.772Z"
   },
   {
    "duration": 193,
    "start_time": "2024-04-16T16:28:48.556Z"
   },
   {
    "duration": 178,
    "start_time": "2024-04-16T16:28:51.936Z"
   },
   {
    "duration": 154,
    "start_time": "2024-04-16T16:29:03.589Z"
   },
   {
    "duration": 168,
    "start_time": "2024-04-16T16:29:08.091Z"
   },
   {
    "duration": 185,
    "start_time": "2024-04-16T16:29:15.164Z"
   },
   {
    "duration": 291,
    "start_time": "2024-04-16T16:29:22.606Z"
   },
   {
    "duration": 187,
    "start_time": "2024-04-16T16:29:27.159Z"
   },
   {
    "duration": 180,
    "start_time": "2024-04-16T16:29:42.064Z"
   },
   {
    "duration": 575,
    "start_time": "2024-04-16T16:30:41.350Z"
   },
   {
    "duration": 182,
    "start_time": "2024-04-16T16:30:49.622Z"
   },
   {
    "duration": 183,
    "start_time": "2024-04-16T16:31:34.267Z"
   },
   {
    "duration": 229,
    "start_time": "2024-04-16T16:31:48.584Z"
   },
   {
    "duration": 299,
    "start_time": "2024-04-16T16:31:58.316Z"
   },
   {
    "duration": 201,
    "start_time": "2024-04-16T16:32:06.684Z"
   },
   {
    "duration": 224,
    "start_time": "2024-04-16T16:32:13.669Z"
   },
   {
    "duration": 226,
    "start_time": "2024-04-16T16:32:25.501Z"
   },
   {
    "duration": 195,
    "start_time": "2024-04-16T16:32:33.865Z"
   },
   {
    "duration": 210,
    "start_time": "2024-04-16T16:33:39.349Z"
   },
   {
    "duration": 236,
    "start_time": "2024-04-16T16:33:44.720Z"
   },
   {
    "duration": 173,
    "start_time": "2024-04-16T16:33:52.859Z"
   },
   {
    "duration": 181,
    "start_time": "2024-04-16T16:33:56.656Z"
   },
   {
    "duration": 215,
    "start_time": "2024-04-16T16:34:09.329Z"
   },
   {
    "duration": 202,
    "start_time": "2024-04-16T16:34:22.032Z"
   },
   {
    "duration": 233,
    "start_time": "2024-04-16T16:34:29.884Z"
   },
   {
    "duration": 234,
    "start_time": "2024-04-16T16:35:17.957Z"
   },
   {
    "duration": 227,
    "start_time": "2024-04-16T16:35:30.951Z"
   },
   {
    "duration": 291,
    "start_time": "2024-04-16T16:35:54.431Z"
   },
   {
    "duration": 242,
    "start_time": "2024-04-16T16:36:21.564Z"
   },
   {
    "duration": 969,
    "start_time": "2024-04-16T16:36:32.988Z"
   },
   {
    "duration": 808,
    "start_time": "2024-04-16T16:36:52.473Z"
   },
   {
    "duration": 231,
    "start_time": "2024-04-16T16:37:00.883Z"
   },
   {
    "duration": 432,
    "start_time": "2024-04-16T16:39:43.310Z"
   },
   {
    "duration": 262,
    "start_time": "2024-04-16T16:39:58.360Z"
   },
   {
    "duration": 237,
    "start_time": "2024-04-16T16:40:15.637Z"
   },
   {
    "duration": 262,
    "start_time": "2024-04-16T16:40:28.643Z"
   },
   {
    "duration": 269,
    "start_time": "2024-04-16T16:41:36.522Z"
   },
   {
    "duration": 223,
    "start_time": "2024-04-16T16:41:51.367Z"
   },
   {
    "duration": 202,
    "start_time": "2024-04-16T16:41:58.883Z"
   },
   {
    "duration": 199,
    "start_time": "2024-04-16T16:42:09.289Z"
   },
   {
    "duration": 266,
    "start_time": "2024-04-16T16:42:14.552Z"
   },
   {
    "duration": 238,
    "start_time": "2024-04-16T16:43:49.504Z"
   },
   {
    "duration": 235,
    "start_time": "2024-04-16T16:43:58.707Z"
   },
   {
    "duration": 261,
    "start_time": "2024-04-16T16:44:02.138Z"
   },
   {
    "duration": 206,
    "start_time": "2024-04-16T16:44:06.193Z"
   },
   {
    "duration": 211,
    "start_time": "2024-04-16T16:44:20.577Z"
   },
   {
    "duration": 195,
    "start_time": "2024-04-16T16:44:30.698Z"
   },
   {
    "duration": 323,
    "start_time": "2024-04-16T17:00:01.833Z"
   },
   {
    "duration": 255,
    "start_time": "2024-04-16T17:00:24.637Z"
   },
   {
    "duration": 269,
    "start_time": "2024-04-16T17:00:29.117Z"
   },
   {
    "duration": 215,
    "start_time": "2024-04-16T17:06:30.123Z"
   },
   {
    "duration": 196,
    "start_time": "2024-04-16T17:06:37.318Z"
   },
   {
    "duration": 361,
    "start_time": "2024-04-16T17:06:41.277Z"
   },
   {
    "duration": 663,
    "start_time": "2024-04-16T17:09:17.982Z"
   },
   {
    "duration": 304,
    "start_time": "2024-04-16T17:09:34.619Z"
   },
   {
    "duration": 348,
    "start_time": "2024-04-16T17:10:12.634Z"
   },
   {
    "duration": 324,
    "start_time": "2024-04-16T17:11:00.460Z"
   },
   {
    "duration": 209,
    "start_time": "2024-04-16T17:11:07.062Z"
   },
   {
    "duration": 181,
    "start_time": "2024-04-16T17:11:13.427Z"
   },
   {
    "duration": 171,
    "start_time": "2024-04-16T17:11:18.027Z"
   },
   {
    "duration": 179,
    "start_time": "2024-04-16T17:11:27.463Z"
   },
   {
    "duration": 13,
    "start_time": "2024-04-16T17:12:38.961Z"
   },
   {
    "duration": 226,
    "start_time": "2024-04-16T17:13:17.365Z"
   },
   {
    "duration": 184,
    "start_time": "2024-04-16T17:13:28.920Z"
   },
   {
    "duration": 276,
    "start_time": "2024-04-16T17:13:34.458Z"
   },
   {
    "duration": 222,
    "start_time": "2024-04-16T17:13:50.800Z"
   },
   {
    "duration": 176,
    "start_time": "2024-04-16T17:14:19.472Z"
   },
   {
    "duration": 198,
    "start_time": "2024-04-16T17:14:35.791Z"
   },
   {
    "duration": 311,
    "start_time": "2024-04-16T17:14:38.898Z"
   },
   {
    "duration": 175,
    "start_time": "2024-04-16T17:15:12.981Z"
   },
   {
    "duration": 188,
    "start_time": "2024-04-16T17:15:24.893Z"
   },
   {
    "duration": 311,
    "start_time": "2024-04-16T17:15:28.426Z"
   },
   {
    "duration": 169,
    "start_time": "2024-04-16T17:16:41.890Z"
   },
   {
    "duration": 180,
    "start_time": "2024-04-16T17:16:52.054Z"
   },
   {
    "duration": 188,
    "start_time": "2024-04-16T17:16:58.558Z"
   },
   {
    "duration": 214,
    "start_time": "2024-04-16T17:17:12.385Z"
   },
   {
    "duration": 179,
    "start_time": "2024-04-16T17:17:19.103Z"
   },
   {
    "duration": 595,
    "start_time": "2024-04-16T17:17:27.965Z"
   },
   {
    "duration": 259,
    "start_time": "2024-04-16T17:17:44.891Z"
   },
   {
    "duration": 286,
    "start_time": "2024-04-16T17:17:49.538Z"
   },
   {
    "duration": 293,
    "start_time": "2024-04-16T17:17:56.407Z"
   },
   {
    "duration": 214,
    "start_time": "2024-04-16T17:19:47.568Z"
   },
   {
    "duration": 16,
    "start_time": "2024-04-16T17:20:03.346Z"
   },
   {
    "duration": 218,
    "start_time": "2024-04-16T17:20:45.520Z"
   },
   {
    "duration": 1005,
    "start_time": "2024-04-16T19:20:59.136Z"
   },
   {
    "duration": 18,
    "start_time": "2024-04-16T19:21:44.074Z"
   },
   {
    "duration": 966,
    "start_time": "2024-04-16T19:21:47.660Z"
   },
   {
    "duration": 220,
    "start_time": "2024-04-16T19:22:21.697Z"
   },
   {
    "duration": 21,
    "start_time": "2024-04-16T19:22:27.564Z"
   },
   {
    "duration": 194,
    "start_time": "2024-04-16T19:22:34.445Z"
   },
   {
    "duration": 151,
    "start_time": "2024-04-16T19:22:46.911Z"
   },
   {
    "duration": 13,
    "start_time": "2024-04-16T19:24:35.066Z"
   },
   {
    "duration": 118,
    "start_time": "2024-04-16T19:26:23.688Z"
   },
   {
    "duration": 130,
    "start_time": "2024-04-16T19:26:47.190Z"
   },
   {
    "duration": 151,
    "start_time": "2024-04-16T19:26:57.568Z"
   },
   {
    "duration": 153,
    "start_time": "2024-04-16T19:27:07.962Z"
   },
   {
    "duration": 164,
    "start_time": "2024-04-16T19:27:12.778Z"
   },
   {
    "duration": 193,
    "start_time": "2024-04-16T19:27:56.584Z"
   },
   {
    "duration": 542,
    "start_time": "2024-04-16T19:28:02.124Z"
   },
   {
    "duration": 535,
    "start_time": "2024-04-16T19:28:27.706Z"
   },
   {
    "duration": 2378,
    "start_time": "2024-04-16T19:28:28.243Z"
   },
   {
    "duration": 10,
    "start_time": "2024-04-16T19:28:30.623Z"
   },
   {
    "duration": 143,
    "start_time": "2024-04-16T19:28:30.634Z"
   },
   {
    "duration": 97,
    "start_time": "2024-04-16T19:28:30.779Z"
   },
   {
    "duration": 41,
    "start_time": "2024-04-16T19:28:30.877Z"
   },
   {
    "duration": 42,
    "start_time": "2024-04-16T19:28:30.919Z"
   },
   {
    "duration": 71,
    "start_time": "2024-04-16T19:28:30.963Z"
   },
   {
    "duration": 53,
    "start_time": "2024-04-16T19:28:31.035Z"
   },
   {
    "duration": 25,
    "start_time": "2024-04-16T19:28:31.089Z"
   },
   {
    "duration": 93,
    "start_time": "2024-04-16T19:28:31.116Z"
   },
   {
    "duration": 38,
    "start_time": "2024-04-16T19:28:31.210Z"
   },
   {
    "duration": 147,
    "start_time": "2024-04-16T19:28:31.250Z"
   },
   {
    "duration": 12,
    "start_time": "2024-04-16T19:28:31.399Z"
   },
   {
    "duration": 49,
    "start_time": "2024-04-16T19:28:31.412Z"
   },
   {
    "duration": 44,
    "start_time": "2024-04-16T19:28:31.462Z"
   },
   {
    "duration": 48,
    "start_time": "2024-04-16T19:28:31.507Z"
   },
   {
    "duration": 22,
    "start_time": "2024-04-16T19:28:31.556Z"
   },
   {
    "duration": 11,
    "start_time": "2024-04-16T19:28:31.580Z"
   },
   {
    "duration": 395,
    "start_time": "2024-04-16T19:28:31.593Z"
   },
   {
    "duration": 23,
    "start_time": "2024-04-16T19:28:31.990Z"
   },
   {
    "duration": 224,
    "start_time": "2024-04-16T19:28:32.014Z"
   },
   {
    "duration": 240,
    "start_time": "2024-04-16T19:28:32.241Z"
   },
   {
    "duration": 248,
    "start_time": "2024-04-16T19:28:32.483Z"
   },
   {
    "duration": 327,
    "start_time": "2024-04-16T19:28:32.733Z"
   },
   {
    "duration": 193,
    "start_time": "2024-04-16T19:28:33.062Z"
   },
   {
    "duration": 174,
    "start_time": "2024-04-16T19:28:33.257Z"
   },
   {
    "duration": 191,
    "start_time": "2024-04-16T19:28:33.433Z"
   },
   {
    "duration": 217,
    "start_time": "2024-04-16T19:28:33.626Z"
   },
   {
    "duration": 298,
    "start_time": "2024-04-16T19:28:33.844Z"
   },
   {
    "duration": 290,
    "start_time": "2024-04-16T19:28:34.143Z"
   },
   {
    "duration": 84,
    "start_time": "2024-04-16T19:35:45.972Z"
   },
   {
    "duration": 108,
    "start_time": "2024-04-16T19:36:16.122Z"
   },
   {
    "duration": 11,
    "start_time": "2024-04-16T19:36:24.292Z"
   },
   {
    "duration": 160,
    "start_time": "2024-04-16T19:36:39.116Z"
   },
   {
    "duration": 10,
    "start_time": "2024-04-16T19:37:47.534Z"
   },
   {
    "duration": 174,
    "start_time": "2024-04-16T19:37:48.889Z"
   },
   {
    "duration": 135,
    "start_time": "2024-04-16T19:42:15.997Z"
   },
   {
    "duration": 31,
    "start_time": "2024-04-16T19:42:36.299Z"
   },
   {
    "duration": 31,
    "start_time": "2024-04-16T19:42:53.253Z"
   },
   {
    "duration": 11,
    "start_time": "2024-04-16T19:46:21.547Z"
   },
   {
    "duration": 73,
    "start_time": "2024-04-16T19:46:34.106Z"
   },
   {
    "duration": 9,
    "start_time": "2024-04-16T19:46:39.303Z"
   },
   {
    "duration": 8,
    "start_time": "2024-04-16T19:46:43.732Z"
   },
   {
    "duration": 8,
    "start_time": "2024-04-16T19:47:10.560Z"
   },
   {
    "duration": 6,
    "start_time": "2024-04-16T19:47:16.833Z"
   },
   {
    "duration": 7,
    "start_time": "2024-04-16T19:47:33.890Z"
   },
   {
    "duration": 7,
    "start_time": "2024-04-16T19:47:37.918Z"
   },
   {
    "duration": 7,
    "start_time": "2024-04-16T19:47:40.122Z"
   },
   {
    "duration": 7,
    "start_time": "2024-04-16T19:47:48.986Z"
   },
   {
    "duration": 260,
    "start_time": "2024-04-16T19:47:57.505Z"
   },
   {
    "duration": 252,
    "start_time": "2024-04-16T19:48:22.530Z"
   },
   {
    "duration": 324,
    "start_time": "2024-04-16T19:48:29.510Z"
   },
   {
    "duration": 1508,
    "start_time": "2024-04-16T19:48:41.921Z"
   },
   {
    "duration": 341,
    "start_time": "2024-04-16T19:48:48.530Z"
   },
   {
    "duration": 7,
    "start_time": "2024-04-16T19:49:09.935Z"
   },
   {
    "duration": 6,
    "start_time": "2024-04-16T19:49:24.886Z"
   },
   {
    "duration": 90,
    "start_time": "2024-04-16T19:51:18.373Z"
   },
   {
    "duration": 84,
    "start_time": "2024-04-16T19:51:20.838Z"
   },
   {
    "duration": 12,
    "start_time": "2024-04-16T19:51:46.438Z"
   },
   {
    "duration": 14,
    "start_time": "2024-04-16T19:52:01.318Z"
   },
   {
    "duration": 585,
    "start_time": "2024-04-16T19:52:30.176Z"
   },
   {
    "duration": 2374,
    "start_time": "2024-04-16T19:52:30.763Z"
   },
   {
    "duration": 10,
    "start_time": "2024-04-16T19:52:33.139Z"
   },
   {
    "duration": 40,
    "start_time": "2024-04-16T19:52:33.150Z"
   },
   {
    "duration": 12,
    "start_time": "2024-04-16T19:52:33.193Z"
   },
   {
    "duration": 8,
    "start_time": "2024-04-16T19:52:33.207Z"
   },
   {
    "duration": 9,
    "start_time": "2024-04-16T19:52:33.216Z"
   },
   {
    "duration": 7,
    "start_time": "2024-04-16T19:52:33.226Z"
   },
   {
    "duration": 59,
    "start_time": "2024-04-16T19:52:33.234Z"
   },
   {
    "duration": 9,
    "start_time": "2024-04-16T19:52:33.294Z"
   },
   {
    "duration": 23,
    "start_time": "2024-04-16T19:52:33.304Z"
   },
   {
    "duration": 6,
    "start_time": "2024-04-16T19:52:33.329Z"
   },
   {
    "duration": 139,
    "start_time": "2024-04-16T19:52:33.337Z"
   },
   {
    "duration": 12,
    "start_time": "2024-04-16T19:52:33.479Z"
   },
   {
    "duration": 23,
    "start_time": "2024-04-16T19:52:33.492Z"
   },
   {
    "duration": 23,
    "start_time": "2024-04-16T19:52:33.516Z"
   },
   {
    "duration": 51,
    "start_time": "2024-04-16T19:52:33.541Z"
   },
   {
    "duration": 22,
    "start_time": "2024-04-16T19:52:33.593Z"
   },
   {
    "duration": 10,
    "start_time": "2024-04-16T19:52:33.617Z"
   },
   {
    "duration": 377,
    "start_time": "2024-04-16T19:52:33.629Z"
   },
   {
    "duration": 22,
    "start_time": "2024-04-16T19:52:34.007Z"
   },
   {
    "duration": 207,
    "start_time": "2024-04-16T19:52:34.030Z"
   },
   {
    "duration": 224,
    "start_time": "2024-04-16T19:52:34.239Z"
   },
   {
    "duration": 232,
    "start_time": "2024-04-16T19:52:34.464Z"
   },
   {
    "duration": 396,
    "start_time": "2024-04-16T19:52:34.697Z"
   },
   {
    "duration": 181,
    "start_time": "2024-04-16T19:52:35.094Z"
   },
   {
    "duration": 176,
    "start_time": "2024-04-16T19:52:35.279Z"
   },
   {
    "duration": 13,
    "start_time": "2024-04-16T19:52:35.457Z"
   },
   {
    "duration": 177,
    "start_time": "2024-04-16T19:52:35.472Z"
   },
   {
    "duration": 162,
    "start_time": "2024-04-16T19:52:35.651Z"
   },
   {
    "duration": 212,
    "start_time": "2024-04-16T19:52:35.815Z"
   },
   {
    "duration": 292,
    "start_time": "2024-04-16T19:52:36.028Z"
   },
   {
    "duration": 281,
    "start_time": "2024-04-16T19:52:36.321Z"
   },
   {
    "duration": 2,
    "start_time": "2024-04-16T19:56:08.113Z"
   },
   {
    "duration": 256,
    "start_time": "2024-04-16T19:56:57.333Z"
   },
   {
    "duration": 11,
    "start_time": "2024-04-16T19:57:22.692Z"
   },
   {
    "duration": 251,
    "start_time": "2024-04-16T19:58:39.217Z"
   },
   {
    "duration": 42,
    "start_time": "2024-04-18T09:02:42.130Z"
   },
   {
    "duration": 651,
    "start_time": "2024-04-18T09:02:50.071Z"
   },
   {
    "duration": 1984,
    "start_time": "2024-04-18T09:02:50.724Z"
   },
   {
    "duration": 9,
    "start_time": "2024-04-18T09:02:52.710Z"
   },
   {
    "duration": 8,
    "start_time": "2024-04-18T09:02:52.720Z"
   },
   {
    "duration": 18,
    "start_time": "2024-04-18T09:02:52.730Z"
   },
   {
    "duration": 7,
    "start_time": "2024-04-18T09:02:52.749Z"
   },
   {
    "duration": 21,
    "start_time": "2024-04-18T09:02:52.758Z"
   },
   {
    "duration": 18,
    "start_time": "2024-04-18T09:02:52.780Z"
   },
   {
    "duration": 36,
    "start_time": "2024-04-18T09:02:52.799Z"
   },
   {
    "duration": 7,
    "start_time": "2024-04-18T09:02:52.837Z"
   },
   {
    "duration": 18,
    "start_time": "2024-04-18T09:02:52.846Z"
   },
   {
    "duration": 6,
    "start_time": "2024-04-18T09:02:52.865Z"
   },
   {
    "duration": 114,
    "start_time": "2024-04-18T09:02:52.872Z"
   },
   {
    "duration": 19,
    "start_time": "2024-04-18T09:02:52.990Z"
   },
   {
    "duration": 20,
    "start_time": "2024-04-18T09:02:53.011Z"
   },
   {
    "duration": 18,
    "start_time": "2024-04-18T09:02:53.032Z"
   },
   {
    "duration": 34,
    "start_time": "2024-04-18T09:02:53.051Z"
   },
   {
    "duration": 23,
    "start_time": "2024-04-18T09:02:53.086Z"
   },
   {
    "duration": 9,
    "start_time": "2024-04-18T09:02:53.110Z"
   },
   {
    "duration": 330,
    "start_time": "2024-04-18T09:02:53.120Z"
   },
   {
    "duration": 18,
    "start_time": "2024-04-18T09:02:53.451Z"
   },
   {
    "duration": 173,
    "start_time": "2024-04-18T09:02:53.470Z"
   },
   {
    "duration": 182,
    "start_time": "2024-04-18T09:02:53.644Z"
   },
   {
    "duration": 224,
    "start_time": "2024-04-18T09:02:53.827Z"
   },
   {
    "duration": 254,
    "start_time": "2024-04-18T09:02:54.053Z"
   },
   {
    "duration": 154,
    "start_time": "2024-04-18T09:02:54.308Z"
   },
   {
    "duration": 150,
    "start_time": "2024-04-18T09:02:54.464Z"
   },
   {
    "duration": 7,
    "start_time": "2024-04-18T09:02:54.616Z"
   },
   {
    "duration": 172,
    "start_time": "2024-04-18T09:02:54.624Z"
   },
   {
    "duration": 141,
    "start_time": "2024-04-18T09:02:54.797Z"
   },
   {
    "duration": 186,
    "start_time": "2024-04-18T09:02:54.939Z"
   },
   {
    "duration": 236,
    "start_time": "2024-04-18T09:02:55.126Z"
   },
   {
    "duration": 295,
    "start_time": "2024-04-18T09:02:55.363Z"
   },
   {
    "duration": 195,
    "start_time": "2024-04-18T09:02:55.659Z"
   },
   {
    "duration": 222,
    "start_time": "2024-04-18T09:02:55.856Z"
   },
   {
    "duration": 7,
    "start_time": "2024-04-18T09:02:56.079Z"
   },
   {
    "duration": 202,
    "start_time": "2024-04-18T09:03:10.431Z"
   },
   {
    "duration": 185,
    "start_time": "2024-04-18T09:03:37.644Z"
   },
   {
    "duration": 152,
    "start_time": "2024-04-18T09:05:32.755Z"
   },
   {
    "duration": 130,
    "start_time": "2024-04-18T09:06:16.097Z"
   },
   {
    "duration": 143,
    "start_time": "2024-04-18T09:08:39.804Z"
   },
   {
    "duration": 93,
    "start_time": "2024-04-18T09:08:48.154Z"
   },
   {
    "duration": 197,
    "start_time": "2024-04-18T09:09:38.860Z"
   },
   {
    "duration": 8,
    "start_time": "2024-04-18T09:10:06.894Z"
   },
   {
    "duration": 476,
    "start_time": "2024-04-18T09:10:32.306Z"
   },
   {
    "duration": 1880,
    "start_time": "2024-04-18T09:10:32.784Z"
   },
   {
    "duration": 7,
    "start_time": "2024-04-18T09:10:34.666Z"
   },
   {
    "duration": 24,
    "start_time": "2024-04-18T09:10:34.674Z"
   },
   {
    "duration": 18,
    "start_time": "2024-04-18T09:10:34.700Z"
   },
   {
    "duration": 11,
    "start_time": "2024-04-18T09:10:34.719Z"
   },
   {
    "duration": 9,
    "start_time": "2024-04-18T09:10:34.732Z"
   },
   {
    "duration": 17,
    "start_time": "2024-04-18T09:10:34.742Z"
   },
   {
    "duration": 53,
    "start_time": "2024-04-18T09:10:34.761Z"
   },
   {
    "duration": 6,
    "start_time": "2024-04-18T09:10:34.816Z"
   },
   {
    "duration": 29,
    "start_time": "2024-04-18T09:10:34.824Z"
   },
   {
    "duration": 7,
    "start_time": "2024-04-18T09:10:34.854Z"
   },
   {
    "duration": 125,
    "start_time": "2024-04-18T09:10:34.863Z"
   },
   {
    "duration": 19,
    "start_time": "2024-04-18T09:10:34.991Z"
   },
   {
    "duration": 20,
    "start_time": "2024-04-18T09:10:35.011Z"
   },
   {
    "duration": 63,
    "start_time": "2024-04-18T09:10:35.032Z"
   },
   {
    "duration": 32,
    "start_time": "2024-04-18T09:10:35.097Z"
   },
   {
    "duration": 17,
    "start_time": "2024-04-18T09:10:35.130Z"
   },
   {
    "duration": 22,
    "start_time": "2024-04-18T09:10:35.149Z"
   },
   {
    "duration": 305,
    "start_time": "2024-04-18T09:10:35.173Z"
   },
   {
    "duration": 24,
    "start_time": "2024-04-18T09:10:35.480Z"
   },
   {
    "duration": 197,
    "start_time": "2024-04-18T09:10:35.506Z"
   },
   {
    "duration": 184,
    "start_time": "2024-04-18T09:10:35.705Z"
   },
   {
    "duration": 194,
    "start_time": "2024-04-18T09:10:35.890Z"
   },
   {
    "duration": 319,
    "start_time": "2024-04-18T09:10:36.085Z"
   },
   {
    "duration": 152,
    "start_time": "2024-04-18T09:10:36.405Z"
   },
   {
    "duration": 139,
    "start_time": "2024-04-18T09:10:36.559Z"
   },
   {
    "duration": 8,
    "start_time": "2024-04-18T09:10:36.702Z"
   },
   {
    "duration": 174,
    "start_time": "2024-04-18T09:10:36.711Z"
   },
   {
    "duration": 139,
    "start_time": "2024-04-18T09:10:36.887Z"
   },
   {
    "duration": 195,
    "start_time": "2024-04-18T09:10:37.027Z"
   },
   {
    "duration": 247,
    "start_time": "2024-04-18T09:10:37.224Z"
   },
   {
    "duration": 232,
    "start_time": "2024-04-18T09:10:37.472Z"
   },
   {
    "duration": 265,
    "start_time": "2024-04-18T09:10:37.705Z"
   },
   {
    "duration": 7,
    "start_time": "2024-04-18T09:10:37.972Z"
   },
   {
    "duration": 222,
    "start_time": "2024-04-18T09:10:37.981Z"
   },
   {
    "duration": 199,
    "start_time": "2024-04-18T09:10:38.204Z"
   },
   {
    "duration": 120,
    "start_time": "2024-04-18T09:10:38.405Z"
   },
   {
    "duration": 8,
    "start_time": "2024-04-18T09:10:38.527Z"
   },
   {
    "duration": 219,
    "start_time": "2024-04-18T09:10:38.537Z"
   },
   {
    "duration": 8,
    "start_time": "2024-04-18T09:10:38.759Z"
   },
   {
    "duration": 180,
    "start_time": "2024-04-18T09:11:02.433Z"
   },
   {
    "duration": 64,
    "start_time": "2024-04-18T09:15:17.439Z"
   },
   {
    "duration": 7,
    "start_time": "2024-04-18T09:15:54.905Z"
   },
   {
    "duration": 501,
    "start_time": "2024-04-18T09:16:51.181Z"
   },
   {
    "duration": 1844,
    "start_time": "2024-04-18T09:16:51.684Z"
   },
   {
    "duration": 8,
    "start_time": "2024-04-18T09:16:53.529Z"
   },
   {
    "duration": 11,
    "start_time": "2024-04-18T09:16:53.538Z"
   },
   {
    "duration": 48,
    "start_time": "2024-04-18T09:16:53.551Z"
   },
   {
    "duration": 12,
    "start_time": "2024-04-18T09:16:53.600Z"
   },
   {
    "duration": 6,
    "start_time": "2024-04-18T09:16:53.613Z"
   },
   {
    "duration": 11,
    "start_time": "2024-04-18T09:16:53.619Z"
   },
   {
    "duration": 40,
    "start_time": "2024-04-18T09:16:53.631Z"
   },
   {
    "duration": 14,
    "start_time": "2024-04-18T09:16:53.673Z"
   },
   {
    "duration": 18,
    "start_time": "2024-04-18T09:16:53.688Z"
   },
   {
    "duration": 5,
    "start_time": "2024-04-18T09:16:53.707Z"
   },
   {
    "duration": 105,
    "start_time": "2024-04-18T09:16:53.713Z"
   },
   {
    "duration": 9,
    "start_time": "2024-04-18T09:16:53.819Z"
   },
   {
    "duration": 25,
    "start_time": "2024-04-18T09:16:53.829Z"
   },
   {
    "duration": 17,
    "start_time": "2024-04-18T09:16:53.856Z"
   },
   {
    "duration": 19,
    "start_time": "2024-04-18T09:16:53.874Z"
   },
   {
    "duration": 17,
    "start_time": "2024-04-18T09:16:53.901Z"
   },
   {
    "duration": 9,
    "start_time": "2024-04-18T09:16:53.919Z"
   },
   {
    "duration": 315,
    "start_time": "2024-04-18T09:16:53.929Z"
   },
   {
    "duration": 18,
    "start_time": "2024-04-18T09:16:54.246Z"
   },
   {
    "duration": 171,
    "start_time": "2024-04-18T09:16:54.265Z"
   },
   {
    "duration": 192,
    "start_time": "2024-04-18T09:16:54.437Z"
   },
   {
    "duration": 191,
    "start_time": "2024-04-18T09:16:54.631Z"
   },
   {
    "duration": 313,
    "start_time": "2024-04-18T09:16:54.823Z"
   },
   {
    "duration": 153,
    "start_time": "2024-04-18T09:16:55.137Z"
   },
   {
    "duration": 142,
    "start_time": "2024-04-18T09:16:55.292Z"
   },
   {
    "duration": 7,
    "start_time": "2024-04-18T09:16:55.436Z"
   },
   {
    "duration": 155,
    "start_time": "2024-04-18T09:16:55.444Z"
   },
   {
    "duration": 134,
    "start_time": "2024-04-18T09:16:55.601Z"
   },
   {
    "duration": 178,
    "start_time": "2024-04-18T09:16:55.736Z"
   },
   {
    "duration": 257,
    "start_time": "2024-04-18T09:16:55.915Z"
   },
   {
    "duration": 220,
    "start_time": "2024-04-18T09:16:56.173Z"
   },
   {
    "duration": 261,
    "start_time": "2024-04-18T09:16:56.394Z"
   },
   {
    "duration": 7,
    "start_time": "2024-04-18T09:16:56.656Z"
   },
   {
    "duration": 204,
    "start_time": "2024-04-18T09:16:56.664Z"
   },
   {
    "duration": 193,
    "start_time": "2024-04-18T09:16:56.869Z"
   },
   {
    "duration": 117,
    "start_time": "2024-04-18T09:16:57.063Z"
   },
   {
    "duration": 8,
    "start_time": "2024-04-18T09:16:57.184Z"
   },
   {
    "duration": 11,
    "start_time": "2024-04-18T09:16:57.194Z"
   },
   {
    "duration": 15,
    "start_time": "2024-04-18T09:16:57.207Z"
   },
   {
    "duration": 195,
    "start_time": "2024-04-18T09:17:52.207Z"
   },
   {
    "duration": 7,
    "start_time": "2024-04-18T09:17:55.031Z"
   },
   {
    "duration": 193,
    "start_time": "2024-04-18T09:18:22.563Z"
   },
   {
    "duration": 281,
    "start_time": "2024-04-18T09:18:39.507Z"
   },
   {
    "duration": 190,
    "start_time": "2024-04-18T09:19:02.376Z"
   },
   {
    "duration": 521,
    "start_time": "2024-04-18T09:19:48.867Z"
   },
   {
    "duration": 1903,
    "start_time": "2024-04-18T09:19:49.389Z"
   },
   {
    "duration": 8,
    "start_time": "2024-04-18T09:19:51.294Z"
   },
   {
    "duration": 28,
    "start_time": "2024-04-18T09:19:51.303Z"
   },
   {
    "duration": 35,
    "start_time": "2024-04-18T09:19:51.333Z"
   },
   {
    "duration": 41,
    "start_time": "2024-04-18T09:19:51.369Z"
   },
   {
    "duration": 45,
    "start_time": "2024-04-18T09:19:51.411Z"
   },
   {
    "duration": 82,
    "start_time": "2024-04-18T09:19:51.457Z"
   },
   {
    "duration": 48,
    "start_time": "2024-04-18T09:19:51.541Z"
   },
   {
    "duration": 32,
    "start_time": "2024-04-18T09:19:51.591Z"
   },
   {
    "duration": 100,
    "start_time": "2024-04-18T09:19:51.625Z"
   },
   {
    "duration": 70,
    "start_time": "2024-04-18T09:19:51.727Z"
   },
   {
    "duration": 205,
    "start_time": "2024-04-18T09:19:51.798Z"
   },
   {
    "duration": 11,
    "start_time": "2024-04-18T09:19:52.006Z"
   },
   {
    "duration": 26,
    "start_time": "2024-04-18T09:19:52.019Z"
   },
   {
    "duration": 19,
    "start_time": "2024-04-18T09:19:52.047Z"
   },
   {
    "duration": 36,
    "start_time": "2024-04-18T09:19:52.067Z"
   },
   {
    "duration": 29,
    "start_time": "2024-04-18T09:19:52.105Z"
   },
   {
    "duration": 37,
    "start_time": "2024-04-18T09:19:52.135Z"
   },
   {
    "duration": 347,
    "start_time": "2024-04-18T09:19:52.174Z"
   },
   {
    "duration": 18,
    "start_time": "2024-04-18T09:19:52.522Z"
   },
   {
    "duration": 186,
    "start_time": "2024-04-18T09:19:52.542Z"
   },
   {
    "duration": 188,
    "start_time": "2024-04-18T09:19:52.730Z"
   },
   {
    "duration": 185,
    "start_time": "2024-04-18T09:19:52.919Z"
   },
   {
    "duration": 315,
    "start_time": "2024-04-18T09:19:53.106Z"
   },
   {
    "duration": 152,
    "start_time": "2024-04-18T09:19:53.422Z"
   },
   {
    "duration": 138,
    "start_time": "2024-04-18T09:19:53.575Z"
   },
   {
    "duration": 8,
    "start_time": "2024-04-18T09:19:53.714Z"
   },
   {
    "duration": 152,
    "start_time": "2024-04-18T09:19:53.723Z"
   },
   {
    "duration": 141,
    "start_time": "2024-04-18T09:19:53.877Z"
   },
   {
    "duration": 176,
    "start_time": "2024-04-18T09:19:54.020Z"
   },
   {
    "duration": 240,
    "start_time": "2024-04-18T09:19:54.201Z"
   },
   {
    "duration": 238,
    "start_time": "2024-04-18T09:19:54.443Z"
   },
   {
    "duration": 337,
    "start_time": "2024-04-18T09:19:54.682Z"
   },
   {
    "duration": 8,
    "start_time": "2024-04-18T09:19:55.021Z"
   },
   {
    "duration": 234,
    "start_time": "2024-04-18T09:19:55.030Z"
   },
   {
    "duration": 198,
    "start_time": "2024-04-18T09:19:55.266Z"
   },
   {
    "duration": 119,
    "start_time": "2024-04-18T09:19:55.465Z"
   },
   {
    "duration": 18,
    "start_time": "2024-04-18T09:19:55.586Z"
   },
   {
    "duration": 17,
    "start_time": "2024-04-18T09:19:55.606Z"
   },
   {
    "duration": 188,
    "start_time": "2024-04-18T09:19:55.626Z"
   },
   {
    "duration": 199,
    "start_time": "2024-04-18T09:19:55.815Z"
   },
   {
    "duration": 258,
    "start_time": "2024-04-18T09:19:56.016Z"
   },
   {
    "duration": 7,
    "start_time": "2024-04-18T09:19:56.275Z"
   },
   {
    "duration": 8,
    "start_time": "2024-04-18T09:21:14.600Z"
   },
   {
    "duration": 501,
    "start_time": "2024-04-18T09:21:27.697Z"
   },
   {
    "duration": 1830,
    "start_time": "2024-04-18T09:21:28.202Z"
   },
   {
    "duration": 9,
    "start_time": "2024-04-18T09:21:30.034Z"
   },
   {
    "duration": 29,
    "start_time": "2024-04-18T09:21:30.044Z"
   },
   {
    "duration": 68,
    "start_time": "2024-04-18T09:21:30.075Z"
   },
   {
    "duration": 58,
    "start_time": "2024-04-18T09:21:30.145Z"
   },
   {
    "duration": 56,
    "start_time": "2024-04-18T09:21:30.204Z"
   },
   {
    "duration": 125,
    "start_time": "2024-04-18T09:21:30.261Z"
   },
   {
    "duration": 65,
    "start_time": "2024-04-18T09:21:30.388Z"
   },
   {
    "duration": 31,
    "start_time": "2024-04-18T09:21:30.454Z"
   },
   {
    "duration": 85,
    "start_time": "2024-04-18T09:21:30.487Z"
   },
   {
    "duration": 46,
    "start_time": "2024-04-18T09:21:30.574Z"
   },
   {
    "duration": 200,
    "start_time": "2024-04-18T09:21:30.622Z"
   },
   {
    "duration": 10,
    "start_time": "2024-04-18T09:21:30.825Z"
   },
   {
    "duration": 51,
    "start_time": "2024-04-18T09:21:30.836Z"
   },
   {
    "duration": 132,
    "start_time": "2024-04-18T09:21:30.889Z"
   },
   {
    "duration": 54,
    "start_time": "2024-04-18T09:21:31.022Z"
   },
   {
    "duration": 71,
    "start_time": "2024-04-18T09:21:31.077Z"
   },
   {
    "duration": 64,
    "start_time": "2024-04-18T09:21:31.149Z"
   },
   {
    "duration": 321,
    "start_time": "2024-04-18T09:21:31.215Z"
   },
   {
    "duration": 17,
    "start_time": "2024-04-18T09:21:31.538Z"
   },
   {
    "duration": 265,
    "start_time": "2024-04-18T09:21:31.556Z"
   },
   {
    "duration": 196,
    "start_time": "2024-04-18T09:21:31.822Z"
   },
   {
    "duration": 189,
    "start_time": "2024-04-18T09:21:32.019Z"
   },
   {
    "duration": 305,
    "start_time": "2024-04-18T09:21:32.210Z"
   },
   {
    "duration": 150,
    "start_time": "2024-04-18T09:21:32.517Z"
   },
   {
    "duration": 150,
    "start_time": "2024-04-18T09:21:32.669Z"
   },
   {
    "duration": 9,
    "start_time": "2024-04-18T09:21:32.820Z"
   },
   {
    "duration": 150,
    "start_time": "2024-04-18T09:21:32.830Z"
   },
   {
    "duration": 137,
    "start_time": "2024-04-18T09:21:32.982Z"
   },
   {
    "duration": 188,
    "start_time": "2024-04-18T09:21:33.120Z"
   },
   {
    "duration": 248,
    "start_time": "2024-04-18T09:21:33.310Z"
   },
   {
    "duration": 223,
    "start_time": "2024-04-18T09:21:33.559Z"
   },
   {
    "duration": 265,
    "start_time": "2024-04-18T09:21:33.783Z"
   },
   {
    "duration": 6,
    "start_time": "2024-04-18T09:21:34.049Z"
   },
   {
    "duration": 261,
    "start_time": "2024-04-18T09:21:34.057Z"
   },
   {
    "duration": 194,
    "start_time": "2024-04-18T09:21:34.320Z"
   },
   {
    "duration": 132,
    "start_time": "2024-04-18T09:21:34.516Z"
   },
   {
    "duration": 8,
    "start_time": "2024-04-18T09:21:34.649Z"
   },
   {
    "duration": 17,
    "start_time": "2024-04-18T09:21:34.659Z"
   },
   {
    "duration": 220,
    "start_time": "2024-04-18T09:21:34.679Z"
   },
   {
    "duration": 195,
    "start_time": "2024-04-18T09:21:34.900Z"
   },
   {
    "duration": 271,
    "start_time": "2024-04-18T09:21:35.101Z"
   },
   {
    "duration": 8,
    "start_time": "2024-04-18T09:21:35.373Z"
   },
   {
    "duration": 8,
    "start_time": "2024-04-18T09:22:00.180Z"
   },
   {
    "duration": 9,
    "start_time": "2024-04-18T09:22:00.577Z"
   },
   {
    "duration": 196,
    "start_time": "2024-04-18T09:22:00.952Z"
   },
   {
    "duration": 188,
    "start_time": "2024-04-18T09:22:01.839Z"
   },
   {
    "duration": 192,
    "start_time": "2024-04-18T09:22:05.703Z"
   },
   {
    "duration": 7,
    "start_time": "2024-04-18T09:22:20.260Z"
   },
   {
    "duration": 9,
    "start_time": "2024-04-18T09:22:41.407Z"
   },
   {
    "duration": 9,
    "start_time": "2024-04-18T09:22:41.774Z"
   },
   {
    "duration": 192,
    "start_time": "2024-04-18T09:22:42.122Z"
   },
   {
    "duration": 9,
    "start_time": "2024-04-18T09:23:01.067Z"
   },
   {
    "duration": 9,
    "start_time": "2024-04-18T09:23:01.490Z"
   },
   {
    "duration": 270,
    "start_time": "2024-04-18T09:23:01.890Z"
   },
   {
    "duration": 190,
    "start_time": "2024-04-18T09:23:04.413Z"
   },
   {
    "duration": 193,
    "start_time": "2024-04-18T09:23:06.954Z"
   },
   {
    "duration": 7,
    "start_time": "2024-04-18T09:23:09.072Z"
   },
   {
    "duration": 65,
    "start_time": "2024-04-18T09:25:46.311Z"
   },
   {
    "duration": 648,
    "start_time": "2024-04-18T09:28:23.348Z"
   },
   {
    "duration": 1710,
    "start_time": "2024-04-18T09:28:23.998Z"
   },
   {
    "duration": 9,
    "start_time": "2024-04-18T09:28:25.710Z"
   },
   {
    "duration": 11,
    "start_time": "2024-04-18T09:28:25.721Z"
   },
   {
    "duration": 31,
    "start_time": "2024-04-18T09:28:25.734Z"
   },
   {
    "duration": 19,
    "start_time": "2024-04-18T09:28:25.766Z"
   },
   {
    "duration": 22,
    "start_time": "2024-04-18T09:28:25.786Z"
   },
   {
    "duration": 22,
    "start_time": "2024-04-18T09:28:25.809Z"
   },
   {
    "duration": 41,
    "start_time": "2024-04-18T09:28:25.832Z"
   },
   {
    "duration": 7,
    "start_time": "2024-04-18T09:28:25.874Z"
   },
   {
    "duration": 43,
    "start_time": "2024-04-18T09:28:25.882Z"
   },
   {
    "duration": 24,
    "start_time": "2024-04-18T09:28:25.927Z"
   },
   {
    "duration": 129,
    "start_time": "2024-04-18T09:28:25.953Z"
   },
   {
    "duration": 11,
    "start_time": "2024-04-18T09:28:26.084Z"
   },
   {
    "duration": 49,
    "start_time": "2024-04-18T09:28:26.096Z"
   },
   {
    "duration": 18,
    "start_time": "2024-04-18T09:28:26.147Z"
   },
   {
    "duration": 35,
    "start_time": "2024-04-18T09:28:26.166Z"
   },
   {
    "duration": 18,
    "start_time": "2024-04-18T09:28:26.203Z"
   },
   {
    "duration": 10,
    "start_time": "2024-04-18T09:28:26.222Z"
   },
   {
    "duration": 369,
    "start_time": "2024-04-18T09:28:26.233Z"
   },
   {
    "duration": 18,
    "start_time": "2024-04-18T09:28:26.603Z"
   },
   {
    "duration": 167,
    "start_time": "2024-04-18T09:28:26.622Z"
   },
   {
    "duration": 183,
    "start_time": "2024-04-18T09:28:26.791Z"
   },
   {
    "duration": 178,
    "start_time": "2024-04-18T09:28:26.976Z"
   },
   {
    "duration": 306,
    "start_time": "2024-04-18T09:28:27.155Z"
   },
   {
    "duration": 161,
    "start_time": "2024-04-18T09:28:27.462Z"
   },
   {
    "duration": 141,
    "start_time": "2024-04-18T09:28:27.625Z"
   },
   {
    "duration": 13,
    "start_time": "2024-04-18T09:28:27.767Z"
   },
   {
    "duration": 182,
    "start_time": "2024-04-18T09:28:27.781Z"
   },
   {
    "duration": 136,
    "start_time": "2024-04-18T09:28:27.965Z"
   },
   {
    "duration": 177,
    "start_time": "2024-04-18T09:28:28.103Z"
   },
   {
    "duration": 233,
    "start_time": "2024-04-18T09:28:28.282Z"
   },
   {
    "duration": 221,
    "start_time": "2024-04-18T09:28:28.516Z"
   },
   {
    "duration": 271,
    "start_time": "2024-04-18T09:28:28.738Z"
   },
   {
    "duration": 7,
    "start_time": "2024-04-18T09:28:29.010Z"
   },
   {
    "duration": 339,
    "start_time": "2024-04-18T09:28:29.018Z"
   },
   {
    "duration": 189,
    "start_time": "2024-04-18T09:28:29.359Z"
   },
   {
    "duration": 118,
    "start_time": "2024-04-18T09:28:29.550Z"
   },
   {
    "duration": 8,
    "start_time": "2024-04-18T09:28:29.670Z"
   },
   {
    "duration": 11,
    "start_time": "2024-04-18T09:28:29.680Z"
   },
   {
    "duration": 198,
    "start_time": "2024-04-18T09:28:29.703Z"
   },
   {
    "duration": 200,
    "start_time": "2024-04-18T09:28:29.903Z"
   },
   {
    "duration": 281,
    "start_time": "2024-04-18T09:28:30.104Z"
   },
   {
    "duration": 19,
    "start_time": "2024-04-18T09:28:30.387Z"
   },
   {
    "duration": 158,
    "start_time": "2024-04-18T09:28:30.408Z"
   },
   {
    "duration": 150,
    "start_time": "2024-04-18T09:30:27.636Z"
   },
   {
    "duration": 97,
    "start_time": "2024-04-18T09:30:37.189Z"
   },
   {
    "duration": 78,
    "start_time": "2024-04-18T09:30:46.978Z"
   },
   {
    "duration": 31,
    "start_time": "2024-04-18T09:42:33.539Z"
   },
   {
    "duration": 1161,
    "start_time": "2024-04-20T18:42:24.194Z"
   },
   {
    "duration": 2081,
    "start_time": "2024-04-20T18:42:25.357Z"
   },
   {
    "duration": 9,
    "start_time": "2024-04-20T18:42:27.440Z"
   },
   {
    "duration": 17,
    "start_time": "2024-04-20T18:42:27.451Z"
   },
   {
    "duration": 15,
    "start_time": "2024-04-20T18:42:27.470Z"
   },
   {
    "duration": 8,
    "start_time": "2024-04-20T18:42:27.486Z"
   },
   {
    "duration": 30,
    "start_time": "2024-04-20T18:42:27.496Z"
   },
   {
    "duration": 18,
    "start_time": "2024-04-20T18:42:27.528Z"
   },
   {
    "duration": 50,
    "start_time": "2024-04-20T18:42:27.547Z"
   },
   {
    "duration": 8,
    "start_time": "2024-04-20T18:42:27.599Z"
   },
   {
    "duration": 36,
    "start_time": "2024-04-20T18:42:27.609Z"
   },
   {
    "duration": 8,
    "start_time": "2024-04-20T18:42:27.646Z"
   },
   {
    "duration": 119,
    "start_time": "2024-04-20T18:42:27.655Z"
   },
   {
    "duration": 12,
    "start_time": "2024-04-20T18:42:27.780Z"
   },
   {
    "duration": 32,
    "start_time": "2024-04-20T18:42:27.794Z"
   },
   {
    "duration": 24,
    "start_time": "2024-04-20T18:42:27.829Z"
   },
   {
    "duration": 38,
    "start_time": "2024-04-20T18:42:27.854Z"
   },
   {
    "duration": 21,
    "start_time": "2024-04-20T18:42:27.894Z"
   },
   {
    "duration": 18,
    "start_time": "2024-04-20T18:42:27.916Z"
   },
   {
    "duration": 381,
    "start_time": "2024-04-20T18:42:27.936Z"
   },
   {
    "duration": 23,
    "start_time": "2024-04-20T18:42:28.319Z"
   },
   {
    "duration": 212,
    "start_time": "2024-04-20T18:42:28.343Z"
   },
   {
    "duration": 248,
    "start_time": "2024-04-20T18:42:28.556Z"
   },
   {
    "duration": 224,
    "start_time": "2024-04-20T18:42:28.806Z"
   },
   {
    "duration": 374,
    "start_time": "2024-04-20T18:42:29.031Z"
   },
   {
    "duration": 183,
    "start_time": "2024-04-20T18:42:29.407Z"
   },
   {
    "duration": 167,
    "start_time": "2024-04-20T18:42:29.591Z"
   },
   {
    "duration": 9,
    "start_time": "2024-04-20T18:42:29.759Z"
   },
   {
    "duration": 191,
    "start_time": "2024-04-20T18:42:29.770Z"
   },
   {
    "duration": 163,
    "start_time": "2024-04-20T18:42:29.962Z"
   },
   {
    "duration": 223,
    "start_time": "2024-04-20T18:42:30.127Z"
   },
   {
    "duration": 291,
    "start_time": "2024-04-20T18:42:30.352Z"
   },
   {
    "duration": 278,
    "start_time": "2024-04-20T18:42:30.644Z"
   },
   {
    "duration": 408,
    "start_time": "2024-04-20T18:42:30.924Z"
   },
   {
    "duration": 9,
    "start_time": "2024-04-20T18:42:31.334Z"
   },
   {
    "duration": 271,
    "start_time": "2024-04-20T18:42:31.344Z"
   },
   {
    "duration": 244,
    "start_time": "2024-04-20T18:42:31.616Z"
   },
   {
    "duration": 148,
    "start_time": "2024-04-20T18:42:31.862Z"
   },
   {
    "duration": 10,
    "start_time": "2024-04-20T18:42:32.012Z"
   },
   {
    "duration": 26,
    "start_time": "2024-04-20T18:42:32.023Z"
   },
   {
    "duration": 284,
    "start_time": "2024-04-20T18:42:32.053Z"
   },
   {
    "duration": 264,
    "start_time": "2024-04-20T18:42:32.339Z"
   },
   {
    "duration": 350,
    "start_time": "2024-04-20T18:42:32.606Z"
   },
   {
    "duration": 9,
    "start_time": "2024-04-20T18:42:32.958Z"
   },
   {
    "duration": 119,
    "start_time": "2024-04-20T18:42:32.968Z"
   },
   {
    "duration": 14,
    "start_time": "2024-04-20T18:45:56.190Z"
   },
   {
    "duration": 139,
    "start_time": "2024-04-20T18:46:34.525Z"
   },
   {
    "duration": 136,
    "start_time": "2024-04-20T18:47:28.210Z"
   },
   {
    "duration": 148,
    "start_time": "2024-04-20T18:51:22.927Z"
   },
   {
    "duration": 149,
    "start_time": "2024-04-20T18:53:03.198Z"
   },
   {
    "duration": 167,
    "start_time": "2024-04-20T18:56:18.480Z"
   },
   {
    "duration": 133,
    "start_time": "2024-04-20T18:56:26.624Z"
   },
   {
    "duration": 150,
    "start_time": "2024-04-20T18:56:59.573Z"
   },
   {
    "duration": 600,
    "start_time": "2024-04-20T19:02:56.610Z"
   },
   {
    "duration": 121,
    "start_time": "2024-04-20T19:03:11.529Z"
   },
   {
    "duration": 124,
    "start_time": "2024-04-20T19:08:53.766Z"
   },
   {
    "duration": 121,
    "start_time": "2024-04-20T19:09:59.163Z"
   },
   {
    "duration": 134,
    "start_time": "2024-04-20T19:10:09.486Z"
   },
   {
    "duration": 136,
    "start_time": "2024-04-20T19:10:29.066Z"
   },
   {
    "duration": 131,
    "start_time": "2024-04-20T19:11:27.980Z"
   },
   {
    "duration": 260,
    "start_time": "2024-04-20T19:11:58.527Z"
   },
   {
    "duration": 10,
    "start_time": "2024-04-20T19:24:01.793Z"
   },
   {
    "duration": 12,
    "start_time": "2024-04-20T19:25:10.687Z"
   },
   {
    "duration": 21,
    "start_time": "2024-04-20T19:30:03.334Z"
   },
   {
    "duration": 39,
    "start_time": "2024-04-20T19:30:09.424Z"
   },
   {
    "duration": 18,
    "start_time": "2024-04-20T19:30:24.831Z"
   },
   {
    "duration": 38,
    "start_time": "2024-04-20T19:30:31.701Z"
   },
   {
    "duration": 25,
    "start_time": "2024-04-20T19:30:51.406Z"
   },
   {
    "duration": 25,
    "start_time": "2024-04-20T19:31:50.138Z"
   },
   {
    "duration": 137,
    "start_time": "2024-04-20T19:32:07.329Z"
   },
   {
    "duration": 37,
    "start_time": "2024-04-20T19:32:32.438Z"
   },
   {
    "duration": 35,
    "start_time": "2024-04-20T19:32:41.354Z"
   },
   {
    "duration": 23,
    "start_time": "2024-04-20T19:32:47.591Z"
   },
   {
    "duration": 19,
    "start_time": "2024-04-20T19:34:15.912Z"
   },
   {
    "duration": 2108,
    "start_time": "2024-04-20T19:34:37.226Z"
   },
   {
    "duration": 1352,
    "start_time": "2024-04-20T19:34:44.048Z"
   },
   {
    "duration": 22,
    "start_time": "2024-04-20T19:35:00.951Z"
   },
   {
    "duration": 28,
    "start_time": "2024-04-20T19:35:06.237Z"
   },
   {
    "duration": 24,
    "start_time": "2024-04-20T19:35:15.393Z"
   },
   {
    "duration": 79,
    "start_time": "2024-04-20T19:35:26.051Z"
   },
   {
    "duration": 75,
    "start_time": "2024-04-20T19:35:29.055Z"
   },
   {
    "duration": 23,
    "start_time": "2024-04-20T19:35:35.817Z"
   },
   {
    "duration": 24,
    "start_time": "2024-04-20T19:35:42.932Z"
   },
   {
    "duration": 42,
    "start_time": "2024-04-20T19:38:20.699Z"
   },
   {
    "duration": 29,
    "start_time": "2024-04-20T20:29:17.139Z"
   },
   {
    "duration": 119,
    "start_time": "2024-04-20T20:29:38.246Z"
   },
   {
    "duration": 124,
    "start_time": "2024-04-20T20:30:06.645Z"
   },
   {
    "duration": 123,
    "start_time": "2024-04-20T20:31:11.537Z"
   },
   {
    "duration": 129,
    "start_time": "2024-04-20T20:31:17.084Z"
   },
   {
    "duration": 110,
    "start_time": "2024-04-20T20:31:25.263Z"
   },
   {
    "duration": 126,
    "start_time": "2024-04-20T20:33:04.562Z"
   },
   {
    "duration": 109,
    "start_time": "2024-04-20T20:33:25.233Z"
   },
   {
    "duration": 24,
    "start_time": "2024-04-20T20:33:29.123Z"
   },
   {
    "duration": 24,
    "start_time": "2024-04-20T20:33:51.228Z"
   },
   {
    "duration": 23,
    "start_time": "2024-04-20T20:33:57.740Z"
   },
   {
    "duration": 19,
    "start_time": "2024-04-20T20:34:24.104Z"
   },
   {
    "duration": 20,
    "start_time": "2024-04-20T20:34:34.888Z"
   },
   {
    "duration": 29,
    "start_time": "2024-04-20T20:34:37.940Z"
   },
   {
    "duration": 365,
    "start_time": "2024-04-20T20:35:15.313Z"
   },
   {
    "duration": 25,
    "start_time": "2024-04-20T20:35:34.959Z"
   },
   {
    "duration": 19,
    "start_time": "2024-04-20T20:35:59.174Z"
   },
   {
    "duration": 23,
    "start_time": "2024-04-20T20:36:13.984Z"
   },
   {
    "duration": 24,
    "start_time": "2024-04-20T20:36:24.950Z"
   },
   {
    "duration": 24,
    "start_time": "2024-04-20T20:36:33.091Z"
   },
   {
    "duration": 110,
    "start_time": "2024-04-20T20:37:05.512Z"
   },
   {
    "duration": 782,
    "start_time": "2024-04-20T20:38:04.791Z"
   },
   {
    "duration": 2018,
    "start_time": "2024-04-20T20:38:05.575Z"
   },
   {
    "duration": 9,
    "start_time": "2024-04-20T20:38:07.595Z"
   },
   {
    "duration": 5,
    "start_time": "2024-04-20T20:38:07.605Z"
   },
   {
    "duration": 9,
    "start_time": "2024-04-20T20:38:07.612Z"
   },
   {
    "duration": 15,
    "start_time": "2024-04-20T20:38:07.623Z"
   },
   {
    "duration": 12,
    "start_time": "2024-04-20T20:38:07.639Z"
   },
   {
    "duration": 16,
    "start_time": "2024-04-20T20:38:07.653Z"
   },
   {
    "duration": 37,
    "start_time": "2024-04-20T20:38:07.671Z"
   },
   {
    "duration": 8,
    "start_time": "2024-04-20T20:38:07.710Z"
   },
   {
    "duration": 38,
    "start_time": "2024-04-20T20:38:07.719Z"
   },
   {
    "duration": 5,
    "start_time": "2024-04-20T20:38:07.759Z"
   },
   {
    "duration": 120,
    "start_time": "2024-04-20T20:38:07.766Z"
   },
   {
    "duration": 11,
    "start_time": "2024-04-20T20:38:07.888Z"
   },
   {
    "duration": 30,
    "start_time": "2024-04-20T20:38:07.900Z"
   },
   {
    "duration": 22,
    "start_time": "2024-04-20T20:38:07.931Z"
   },
   {
    "duration": 37,
    "start_time": "2024-04-20T20:38:07.954Z"
   },
   {
    "duration": 21,
    "start_time": "2024-04-20T20:38:07.992Z"
   },
   {
    "duration": 10,
    "start_time": "2024-04-20T20:38:08.015Z"
   },
   {
    "duration": 373,
    "start_time": "2024-04-20T20:38:08.026Z"
   },
   {
    "duration": 28,
    "start_time": "2024-04-20T20:38:08.401Z"
   },
   {
    "duration": 212,
    "start_time": "2024-04-20T20:38:08.431Z"
   },
   {
    "duration": 248,
    "start_time": "2024-04-20T20:38:08.645Z"
   },
   {
    "duration": 232,
    "start_time": "2024-04-20T20:38:08.894Z"
   },
   {
    "duration": 375,
    "start_time": "2024-04-20T20:38:09.127Z"
   },
   {
    "duration": 178,
    "start_time": "2024-04-20T20:38:09.504Z"
   },
   {
    "duration": 154,
    "start_time": "2024-04-20T20:38:09.683Z"
   },
   {
    "duration": 9,
    "start_time": "2024-04-20T20:38:09.840Z"
   },
   {
    "duration": 187,
    "start_time": "2024-04-20T20:38:09.851Z"
   },
   {
    "duration": 169,
    "start_time": "2024-04-20T20:38:10.040Z"
   },
   {
    "duration": 223,
    "start_time": "2024-04-20T20:38:10.211Z"
   },
   {
    "duration": 309,
    "start_time": "2024-04-20T20:38:10.436Z"
   },
   {
    "duration": 285,
    "start_time": "2024-04-20T20:38:10.747Z"
   },
   {
    "duration": 343,
    "start_time": "2024-04-20T20:38:11.033Z"
   },
   {
    "duration": 9,
    "start_time": "2024-04-20T20:38:11.379Z"
   },
   {
    "duration": 261,
    "start_time": "2024-04-20T20:38:11.389Z"
   },
   {
    "duration": 252,
    "start_time": "2024-04-20T20:38:11.652Z"
   },
   {
    "duration": 175,
    "start_time": "2024-04-20T20:38:11.905Z"
   },
   {
    "duration": 13,
    "start_time": "2024-04-20T20:38:12.081Z"
   },
   {
    "duration": 31,
    "start_time": "2024-04-20T20:38:12.096Z"
   },
   {
    "duration": 251,
    "start_time": "2024-04-20T20:38:12.129Z"
   },
   {
    "duration": 258,
    "start_time": "2024-04-20T20:38:12.381Z"
   },
   {
    "duration": 335,
    "start_time": "2024-04-20T20:38:12.640Z"
   },
   {
    "duration": 7,
    "start_time": "2024-04-20T20:38:12.977Z"
   },
   {
    "duration": 113,
    "start_time": "2024-04-20T20:38:12.986Z"
   },
   {
    "duration": 15,
    "start_time": "2024-04-20T20:38:13.100Z"
   },
   {
    "duration": 155,
    "start_time": "2024-04-20T20:38:13.116Z"
   },
   {
    "duration": 176,
    "start_time": "2024-04-20T20:38:13.273Z"
   },
   {
    "duration": 155,
    "start_time": "2024-04-20T20:38:13.450Z"
   },
   {
    "duration": 172,
    "start_time": "2024-04-20T20:38:13.606Z"
   },
   {
    "duration": 137,
    "start_time": "2024-04-20T20:38:13.780Z"
   },
   {
    "duration": 143,
    "start_time": "2024-04-20T20:38:13.918Z"
   },
   {
    "duration": 140,
    "start_time": "2024-04-20T20:38:14.063Z"
   },
   {
    "duration": 144,
    "start_time": "2024-04-20T20:38:14.205Z"
   },
   {
    "duration": 34,
    "start_time": "2024-04-20T20:38:14.350Z"
   },
   {
    "duration": 12,
    "start_time": "2024-04-20T21:08:26.412Z"
   },
   {
    "duration": 14,
    "start_time": "2024-04-20T21:11:16.119Z"
   },
   {
    "duration": 83,
    "start_time": "2024-04-20T21:12:39.841Z"
   },
   {
    "duration": 14,
    "start_time": "2024-04-20T21:12:53.126Z"
   },
   {
    "duration": 13,
    "start_time": "2024-04-20T21:13:32.960Z"
   },
   {
    "duration": 12,
    "start_time": "2024-04-20T21:14:07.588Z"
   },
   {
    "duration": 13,
    "start_time": "2024-04-20T21:14:44.468Z"
   },
   {
    "duration": 19,
    "start_time": "2024-04-20T21:35:16.122Z"
   },
   {
    "duration": 12,
    "start_time": "2024-04-20T21:36:53.634Z"
   },
   {
    "duration": 15,
    "start_time": "2024-04-20T21:38:05.610Z"
   },
   {
    "duration": 14,
    "start_time": "2024-04-20T21:38:14.766Z"
   },
   {
    "duration": 17,
    "start_time": "2024-04-20T21:38:43.127Z"
   },
   {
    "duration": 49,
    "start_time": "2024-04-20T21:39:02.883Z"
   },
   {
    "duration": 43,
    "start_time": "2024-04-20T21:39:11.973Z"
   },
   {
    "duration": 22,
    "start_time": "2024-04-20T21:39:54.538Z"
   },
   {
    "duration": 55,
    "start_time": "2024-04-20T21:39:58.329Z"
   },
   {
    "duration": 26,
    "start_time": "2024-04-20T21:40:46.285Z"
   },
   {
    "duration": 29,
    "start_time": "2024-04-20T21:40:59.581Z"
   },
   {
    "duration": 175,
    "start_time": "2024-04-20T21:41:06.525Z"
   },
   {
    "duration": 19,
    "start_time": "2024-04-20T21:41:18.131Z"
   },
   {
    "duration": 161,
    "start_time": "2024-04-20T21:41:25.785Z"
   },
   {
    "duration": 182,
    "start_time": "2024-04-20T21:41:33.966Z"
   },
   {
    "duration": 844,
    "start_time": "2024-04-21T07:59:29.972Z"
   },
   {
    "duration": 329,
    "start_time": "2024-04-21T07:59:33.370Z"
   },
   {
    "duration": 45,
    "start_time": "2024-04-21T15:42:32.811Z"
   },
   {
    "duration": 754,
    "start_time": "2024-04-21T15:42:38.653Z"
   },
   {
    "duration": 334,
    "start_time": "2024-04-21T15:42:39.410Z"
   },
   {
    "duration": 2125,
    "start_time": "2024-04-21T15:42:39.745Z"
   },
   {
    "duration": 9,
    "start_time": "2024-04-21T15:42:41.871Z"
   },
   {
    "duration": 8,
    "start_time": "2024-04-21T15:42:41.882Z"
   },
   {
    "duration": 14,
    "start_time": "2024-04-21T15:42:41.891Z"
   },
   {
    "duration": 8,
    "start_time": "2024-04-21T15:42:41.907Z"
   },
   {
    "duration": 11,
    "start_time": "2024-04-21T15:42:41.917Z"
   },
   {
    "duration": 5,
    "start_time": "2024-04-21T15:42:41.929Z"
   },
   {
    "duration": 35,
    "start_time": "2024-04-21T15:42:45.841Z"
   },
   {
    "duration": 13,
    "start_time": "2024-04-21T15:42:52.691Z"
   },
   {
    "duration": 8,
    "start_time": "2024-04-21T15:42:58.249Z"
   },
   {
    "duration": 25,
    "start_time": "2024-04-21T15:43:12.195Z"
   },
   {
    "duration": 17,
    "start_time": "2024-04-21T15:43:28.724Z"
   },
   {
    "duration": 154,
    "start_time": "2024-04-21T15:43:44.638Z"
   },
   {
    "duration": 10,
    "start_time": "2024-04-21T15:44:26.336Z"
   },
   {
    "duration": 33,
    "start_time": "2024-04-21T15:45:08.924Z"
   },
   {
    "duration": 164,
    "start_time": "2024-04-21T15:45:19.576Z"
   },
   {
    "duration": 194,
    "start_time": "2024-04-21T15:45:35.163Z"
   },
   {
    "duration": 240,
    "start_time": "2024-04-21T15:45:38.758Z"
   },
   {
    "duration": 1274,
    "start_time": "2024-04-21T15:50:13.000Z"
   },
   {
    "duration": 30,
    "start_time": "2024-04-21T15:50:52.526Z"
   },
   {
    "duration": 377,
    "start_time": "2024-04-21T15:51:46.419Z"
   },
   {
    "duration": 255,
    "start_time": "2024-04-21T15:52:09.605Z"
   },
   {
    "duration": 165,
    "start_time": "2024-04-21T15:52:55.528Z"
   },
   {
    "duration": 262,
    "start_time": "2024-04-21T15:53:09.301Z"
   },
   {
    "duration": 249,
    "start_time": "2024-04-21T15:53:25.801Z"
   },
   {
    "duration": 30,
    "start_time": "2024-04-21T15:53:36.833Z"
   },
   {
    "duration": 214,
    "start_time": "2024-04-21T15:53:49.436Z"
   },
   {
    "duration": 282,
    "start_time": "2024-04-21T15:54:00.581Z"
   },
   {
    "duration": 624,
    "start_time": "2024-04-21T15:54:16.799Z"
   },
   {
    "duration": 141,
    "start_time": "2024-04-21T15:54:17.425Z"
   },
   {
    "duration": 2098,
    "start_time": "2024-04-21T15:54:17.568Z"
   },
   {
    "duration": 9,
    "start_time": "2024-04-21T15:54:19.668Z"
   },
   {
    "duration": 23,
    "start_time": "2024-04-21T15:54:19.678Z"
   },
   {
    "duration": 17,
    "start_time": "2024-04-21T15:54:19.703Z"
   },
   {
    "duration": 10,
    "start_time": "2024-04-21T15:54:19.721Z"
   },
   {
    "duration": 16,
    "start_time": "2024-04-21T15:54:19.732Z"
   },
   {
    "duration": 3,
    "start_time": "2024-04-21T15:54:19.750Z"
   },
   {
    "duration": 382,
    "start_time": "2024-04-21T15:54:35.240Z"
   },
   {
    "duration": 252,
    "start_time": "2024-04-21T15:55:26.854Z"
   },
   {
    "duration": 362,
    "start_time": "2024-04-21T15:55:31.966Z"
   },
   {
    "duration": 260,
    "start_time": "2024-04-21T15:55:36.833Z"
   },
   {
    "duration": 260,
    "start_time": "2024-04-21T15:55:42.266Z"
   },
   {
    "duration": 300,
    "start_time": "2024-04-21T15:55:45.246Z"
   },
   {
    "duration": 278,
    "start_time": "2024-04-21T15:56:14.094Z"
   },
   {
    "duration": 235,
    "start_time": "2024-04-21T15:57:21.771Z"
   },
   {
    "duration": 168,
    "start_time": "2024-04-21T15:58:09.319Z"
   },
   {
    "duration": 300,
    "start_time": "2024-04-21T16:04:06.298Z"
   },
   {
    "duration": 231,
    "start_time": "2024-04-21T16:04:50.535Z"
   },
   {
    "duration": 111,
    "start_time": "2024-04-21T16:10:19.803Z"
   },
   {
    "duration": 77,
    "start_time": "2024-04-21T16:10:25.430Z"
   },
   {
    "duration": 57,
    "start_time": "2024-04-21T16:11:22.785Z"
   },
   {
    "duration": 64,
    "start_time": "2024-04-21T16:11:51.238Z"
   },
   {
    "duration": 93,
    "start_time": "2024-04-21T16:12:47.318Z"
   },
   {
    "duration": 19,
    "start_time": "2024-04-21T16:12:58.155Z"
   },
   {
    "duration": 30,
    "start_time": "2024-04-21T16:13:54.515Z"
   },
   {
    "duration": 20,
    "start_time": "2024-04-21T16:14:03.350Z"
   },
   {
    "duration": 22,
    "start_time": "2024-04-21T16:14:08.617Z"
   },
   {
    "duration": 649,
    "start_time": "2024-04-21T16:15:00.521Z"
   },
   {
    "duration": 182,
    "start_time": "2024-04-21T16:15:01.173Z"
   },
   {
    "duration": 2270,
    "start_time": "2024-04-21T16:15:01.356Z"
   },
   {
    "duration": 8,
    "start_time": "2024-04-21T16:15:03.628Z"
   },
   {
    "duration": 68,
    "start_time": "2024-04-21T16:15:03.638Z"
   },
   {
    "duration": 57,
    "start_time": "2024-04-21T16:15:03.709Z"
   },
   {
    "duration": 24,
    "start_time": "2024-04-21T16:15:03.767Z"
   },
   {
    "duration": 63,
    "start_time": "2024-04-21T16:15:03.793Z"
   },
   {
    "duration": 1301,
    "start_time": "2024-04-21T16:15:40.749Z"
   },
   {
    "duration": 4,
    "start_time": "2024-04-21T16:15:45.622Z"
   },
   {
    "duration": 32,
    "start_time": "2024-04-21T16:16:14.658Z"
   },
   {
    "duration": 53,
    "start_time": "2024-04-21T16:17:00.274Z"
   },
   {
    "duration": 20,
    "start_time": "2024-04-21T16:17:21.814Z"
   },
   {
    "duration": 16,
    "start_time": "2024-04-21T16:17:28.704Z"
   },
   {
    "duration": 53,
    "start_time": "2024-04-21T16:17:51.208Z"
   },
   {
    "duration": 7,
    "start_time": "2024-04-21T16:18:50.178Z"
   },
   {
    "duration": 42,
    "start_time": "2024-04-21T16:18:54.303Z"
   },
   {
    "duration": 9,
    "start_time": "2024-04-21T16:19:10.213Z"
   },
   {
    "duration": 8,
    "start_time": "2024-04-21T16:19:24.486Z"
   },
   {
    "duration": 37,
    "start_time": "2024-04-21T16:19:28.011Z"
   },
   {
    "duration": 16,
    "start_time": "2024-04-21T16:19:49.306Z"
   },
   {
    "duration": 11,
    "start_time": "2024-04-21T16:19:54.275Z"
   },
   {
    "duration": 9,
    "start_time": "2024-04-21T16:20:04.384Z"
   },
   {
    "duration": 16,
    "start_time": "2024-04-21T16:20:06.902Z"
   },
   {
    "duration": 37,
    "start_time": "2024-04-21T16:20:14.428Z"
   },
   {
    "duration": 38,
    "start_time": "2024-04-21T16:20:43.576Z"
   },
   {
    "duration": 14,
    "start_time": "2024-04-21T16:21:02.010Z"
   },
   {
    "duration": 11,
    "start_time": "2024-04-21T16:21:06.768Z"
   },
   {
    "duration": 12,
    "start_time": "2024-04-21T16:21:32.267Z"
   },
   {
    "duration": 11,
    "start_time": "2024-04-21T16:22:13.020Z"
   },
   {
    "duration": 12,
    "start_time": "2024-04-21T16:22:15.575Z"
   },
   {
    "duration": 26,
    "start_time": "2024-04-21T16:26:34.974Z"
   },
   {
    "duration": 638,
    "start_time": "2024-04-21T16:27:50.418Z"
   },
   {
    "duration": 150,
    "start_time": "2024-04-21T16:27:51.058Z"
   },
   {
    "duration": 1968,
    "start_time": "2024-04-21T16:27:51.210Z"
   },
   {
    "duration": 8,
    "start_time": "2024-04-21T16:27:53.180Z"
   },
   {
    "duration": 20,
    "start_time": "2024-04-21T16:27:53.189Z"
   },
   {
    "duration": 16,
    "start_time": "2024-04-21T16:27:53.211Z"
   },
   {
    "duration": 8,
    "start_time": "2024-04-21T16:27:53.228Z"
   },
   {
    "duration": 10,
    "start_time": "2024-04-21T16:27:53.237Z"
   },
   {
    "duration": 11,
    "start_time": "2024-04-21T16:27:53.253Z"
   },
   {
    "duration": 16,
    "start_time": "2024-04-21T16:27:53.266Z"
   },
   {
    "duration": 101,
    "start_time": "2024-04-21T16:27:53.284Z"
   },
   {
    "duration": 0,
    "start_time": "2024-04-21T16:27:53.387Z"
   },
   {
    "duration": 0,
    "start_time": "2024-04-21T16:27:53.388Z"
   },
   {
    "duration": 0,
    "start_time": "2024-04-21T16:27:53.389Z"
   },
   {
    "duration": 0,
    "start_time": "2024-04-21T16:27:53.394Z"
   },
   {
    "duration": 0,
    "start_time": "2024-04-21T16:27:53.395Z"
   },
   {
    "duration": 0,
    "start_time": "2024-04-21T16:27:53.397Z"
   },
   {
    "duration": 5,
    "start_time": "2024-04-21T16:37:49.154Z"
   },
   {
    "duration": 6,
    "start_time": "2024-04-21T16:37:58.592Z"
   },
   {
    "duration": 6,
    "start_time": "2024-04-21T16:38:02.658Z"
   },
   {
    "duration": 8,
    "start_time": "2024-04-21T16:38:15.110Z"
   },
   {
    "duration": 610,
    "start_time": "2024-04-21T16:38:40.263Z"
   },
   {
    "duration": 146,
    "start_time": "2024-04-21T16:38:40.875Z"
   },
   {
    "duration": 1988,
    "start_time": "2024-04-21T16:38:41.022Z"
   },
   {
    "duration": 12,
    "start_time": "2024-04-21T16:38:43.012Z"
   },
   {
    "duration": 21,
    "start_time": "2024-04-21T16:38:43.026Z"
   },
   {
    "duration": 14,
    "start_time": "2024-04-21T16:38:43.048Z"
   },
   {
    "duration": 10,
    "start_time": "2024-04-21T16:38:43.063Z"
   },
   {
    "duration": 25,
    "start_time": "2024-04-21T16:38:43.074Z"
   },
   {
    "duration": 9,
    "start_time": "2024-04-21T16:38:43.100Z"
   },
   {
    "duration": 17,
    "start_time": "2024-04-21T16:38:43.110Z"
   },
   {
    "duration": 21,
    "start_time": "2024-04-21T16:38:43.128Z"
   },
   {
    "duration": 37,
    "start_time": "2024-04-21T16:38:43.151Z"
   },
   {
    "duration": 9,
    "start_time": "2024-04-21T16:38:43.198Z"
   },
   {
    "duration": 26,
    "start_time": "2024-04-21T16:38:43.211Z"
   },
   {
    "duration": 5,
    "start_time": "2024-04-21T16:38:43.239Z"
   },
   {
    "duration": 148,
    "start_time": "2024-04-21T16:38:43.246Z"
   },
   {
    "duration": 26,
    "start_time": "2024-04-21T16:38:43.396Z"
   },
   {
    "duration": 122,
    "start_time": "2024-04-21T16:38:43.424Z"
   },
   {
    "duration": 176,
    "start_time": "2024-04-21T16:42:07.115Z"
   },
   {
    "duration": 23,
    "start_time": "2024-04-21T16:42:09.287Z"
   },
   {
    "duration": 172,
    "start_time": "2024-04-21T16:42:28.577Z"
   },
   {
    "duration": 19,
    "start_time": "2024-04-21T16:42:29.968Z"
   },
   {
    "duration": 146,
    "start_time": "2024-04-21T16:43:53.896Z"
   },
   {
    "duration": 21,
    "start_time": "2024-04-21T16:43:54.550Z"
   },
   {
    "duration": 4,
    "start_time": "2024-04-21T16:47:04.355Z"
   },
   {
    "duration": 6,
    "start_time": "2024-04-21T16:51:28.920Z"
   },
   {
    "duration": 611,
    "start_time": "2024-04-21T16:55:52.326Z"
   },
   {
    "duration": 142,
    "start_time": "2024-04-21T16:55:52.939Z"
   },
   {
    "duration": 2063,
    "start_time": "2024-04-21T16:55:53.083Z"
   },
   {
    "duration": 8,
    "start_time": "2024-04-21T16:55:55.148Z"
   },
   {
    "duration": 23,
    "start_time": "2024-04-21T16:55:55.158Z"
   },
   {
    "duration": 20,
    "start_time": "2024-04-21T16:55:55.182Z"
   },
   {
    "duration": 11,
    "start_time": "2024-04-21T16:55:55.204Z"
   },
   {
    "duration": 16,
    "start_time": "2024-04-21T16:55:55.217Z"
   },
   {
    "duration": 6,
    "start_time": "2024-04-21T16:55:55.234Z"
   },
   {
    "duration": 22,
    "start_time": "2024-04-21T16:55:55.241Z"
   },
   {
    "duration": 6,
    "start_time": "2024-04-21T16:55:55.265Z"
   },
   {
    "duration": 40,
    "start_time": "2024-04-21T16:55:55.273Z"
   },
   {
    "duration": 8,
    "start_time": "2024-04-21T16:55:55.315Z"
   },
   {
    "duration": 33,
    "start_time": "2024-04-21T16:55:55.325Z"
   },
   {
    "duration": 20,
    "start_time": "2024-04-21T16:55:55.359Z"
   },
   {
    "duration": 172,
    "start_time": "2024-04-21T16:55:55.380Z"
   },
   {
    "duration": 22,
    "start_time": "2024-04-21T16:55:55.554Z"
   },
   {
    "duration": 47,
    "start_time": "2024-04-21T16:55:55.577Z"
   },
   {
    "duration": 19,
    "start_time": "2024-04-21T16:55:55.625Z"
   },
   {
    "duration": 19,
    "start_time": "2024-04-21T16:55:55.645Z"
   },
   {
    "duration": 34,
    "start_time": "2024-04-21T16:55:55.665Z"
   },
   {
    "duration": 14,
    "start_time": "2024-04-21T16:55:55.701Z"
   },
   {
    "duration": 351,
    "start_time": "2024-04-21T16:55:55.717Z"
   },
   {
    "duration": 25,
    "start_time": "2024-04-21T16:55:56.069Z"
   },
   {
    "duration": 183,
    "start_time": "2024-04-21T16:55:56.096Z"
   },
   {
    "duration": 209,
    "start_time": "2024-04-21T16:55:56.280Z"
   },
   {
    "duration": 283,
    "start_time": "2024-04-21T16:55:56.493Z"
   },
   {
    "duration": 346,
    "start_time": "2024-04-21T16:55:56.777Z"
   },
   {
    "duration": 177,
    "start_time": "2024-04-21T16:55:57.125Z"
   },
   {
    "duration": 175,
    "start_time": "2024-04-21T16:55:57.305Z"
   },
   {
    "duration": 14,
    "start_time": "2024-04-21T16:55:57.482Z"
   },
   {
    "duration": 173,
    "start_time": "2024-04-21T16:55:57.498Z"
   },
   {
    "duration": 147,
    "start_time": "2024-04-21T16:55:57.672Z"
   },
   {
    "duration": 198,
    "start_time": "2024-04-21T16:55:57.821Z"
   },
   {
    "duration": 273,
    "start_time": "2024-04-21T16:55:58.020Z"
   },
   {
    "duration": 366,
    "start_time": "2024-04-21T16:55:58.295Z"
   },
   {
    "duration": 242,
    "start_time": "2024-04-21T16:55:58.663Z"
   },
   {
    "duration": 9,
    "start_time": "2024-04-21T16:55:58.906Z"
   },
   {
    "duration": 260,
    "start_time": "2024-04-21T16:55:58.917Z"
   },
   {
    "duration": 228,
    "start_time": "2024-04-21T16:55:59.178Z"
   },
   {
    "duration": 137,
    "start_time": "2024-04-21T16:55:59.410Z"
   },
   {
    "duration": 8,
    "start_time": "2024-04-21T16:55:59.549Z"
   },
   {
    "duration": 36,
    "start_time": "2024-04-21T16:55:59.559Z"
   },
   {
    "duration": 280,
    "start_time": "2024-04-21T16:55:59.597Z"
   },
   {
    "duration": 333,
    "start_time": "2024-04-21T16:55:59.878Z"
   },
   {
    "duration": 251,
    "start_time": "2024-04-21T16:56:00.216Z"
   },
   {
    "duration": 8,
    "start_time": "2024-04-21T16:56:00.468Z"
   },
   {
    "duration": 271,
    "start_time": "2024-04-21T16:56:00.477Z"
   },
   {
    "duration": 26,
    "start_time": "2024-04-21T16:56:00.749Z"
   },
   {
    "duration": 198,
    "start_time": "2024-04-21T16:56:00.776Z"
   },
   {
    "duration": 158,
    "start_time": "2024-04-21T16:56:00.976Z"
   },
   {
    "duration": 214,
    "start_time": "2024-04-21T16:56:01.135Z"
   },
   {
    "duration": 327,
    "start_time": "2024-04-21T16:56:01.351Z"
   },
   {
    "duration": 170,
    "start_time": "2024-04-21T16:56:01.680Z"
   },
   {
    "duration": 128,
    "start_time": "2024-04-21T16:56:01.852Z"
   },
   {
    "duration": 147,
    "start_time": "2024-04-21T16:56:01.982Z"
   },
   {
    "duration": 144,
    "start_time": "2024-04-21T16:56:02.131Z"
   },
   {
    "duration": 29,
    "start_time": "2024-04-21T16:56:02.277Z"
   },
   {
    "duration": 165,
    "start_time": "2024-04-21T16:56:02.309Z"
   },
   {
    "duration": 173,
    "start_time": "2024-04-21T17:03:00.214Z"
   },
   {
    "duration": 64,
    "start_time": "2024-04-22T20:32:38.552Z"
   },
   {
    "duration": 898,
    "start_time": "2024-04-22T20:32:46.363Z"
   },
   {
    "duration": 356,
    "start_time": "2024-04-22T20:32:47.264Z"
   },
   {
    "duration": 2262,
    "start_time": "2024-04-22T20:32:47.622Z"
   },
   {
    "duration": 12,
    "start_time": "2024-04-22T20:32:49.885Z"
   },
   {
    "duration": 8,
    "start_time": "2024-04-22T20:32:49.900Z"
   },
   {
    "duration": 12,
    "start_time": "2024-04-22T20:32:49.910Z"
   },
   {
    "duration": 6,
    "start_time": "2024-04-22T20:32:49.924Z"
   },
   {
    "duration": 10,
    "start_time": "2024-04-22T20:32:49.932Z"
   },
   {
    "duration": 5,
    "start_time": "2024-04-22T20:32:49.943Z"
   },
   {
    "duration": 53,
    "start_time": "2024-04-22T20:32:49.949Z"
   },
   {
    "duration": 9,
    "start_time": "2024-04-22T20:32:50.004Z"
   },
   {
    "duration": 58,
    "start_time": "2024-04-22T20:32:50.015Z"
   },
   {
    "duration": 18,
    "start_time": "2024-04-22T20:32:50.075Z"
   },
   {
    "duration": 32,
    "start_time": "2024-04-22T20:32:50.097Z"
   },
   {
    "duration": 21,
    "start_time": "2024-04-22T20:32:50.130Z"
   },
   {
    "duration": 190,
    "start_time": "2024-04-22T20:32:50.153Z"
   },
   {
    "duration": 22,
    "start_time": "2024-04-22T20:32:50.345Z"
   },
   {
    "duration": 52,
    "start_time": "2024-04-22T20:32:50.369Z"
   },
   {
    "duration": 28,
    "start_time": "2024-04-22T20:32:50.423Z"
   },
   {
    "duration": 23,
    "start_time": "2024-04-22T20:32:50.453Z"
   },
   {
    "duration": 42,
    "start_time": "2024-04-22T20:32:50.477Z"
   },
   {
    "duration": 11,
    "start_time": "2024-04-22T20:32:50.521Z"
   },
   {
    "duration": 412,
    "start_time": "2024-04-22T20:32:50.533Z"
   },
   {
    "duration": 22,
    "start_time": "2024-04-22T20:32:50.947Z"
   },
   {
    "duration": 272,
    "start_time": "2024-04-22T20:32:50.970Z"
   },
   {
    "duration": 243,
    "start_time": "2024-04-22T20:32:51.244Z"
   },
   {
    "duration": 337,
    "start_time": "2024-04-22T20:32:51.488Z"
   },
   {
    "duration": 424,
    "start_time": "2024-04-22T20:32:51.827Z"
   },
   {
    "duration": 203,
    "start_time": "2024-04-22T20:32:52.253Z"
   },
   {
    "duration": 184,
    "start_time": "2024-04-22T20:32:52.457Z"
   },
   {
    "duration": 10,
    "start_time": "2024-04-22T20:32:52.643Z"
   },
   {
    "duration": 213,
    "start_time": "2024-04-22T20:32:52.654Z"
   },
   {
    "duration": 182,
    "start_time": "2024-04-22T20:32:52.869Z"
   },
   {
    "duration": 251,
    "start_time": "2024-04-22T20:32:53.053Z"
   },
   {
    "duration": 372,
    "start_time": "2024-04-22T20:32:53.309Z"
   },
   {
    "duration": 471,
    "start_time": "2024-04-22T20:32:53.683Z"
   },
   {
    "duration": 308,
    "start_time": "2024-04-22T20:32:54.155Z"
   },
   {
    "duration": 8,
    "start_time": "2024-04-22T20:32:54.465Z"
   },
   {
    "duration": 288,
    "start_time": "2024-04-22T20:32:54.475Z"
   },
   {
    "duration": 291,
    "start_time": "2024-04-22T20:32:54.764Z"
   },
   {
    "duration": 169,
    "start_time": "2024-04-22T20:32:55.060Z"
   },
   {
    "duration": 10,
    "start_time": "2024-04-22T20:32:55.230Z"
   },
   {
    "duration": 24,
    "start_time": "2024-04-22T20:32:55.242Z"
   },
   {
    "duration": 297,
    "start_time": "2024-04-22T20:32:55.268Z"
   },
   {
    "duration": 381,
    "start_time": "2024-04-22T20:32:55.566Z"
   },
   {
    "duration": 289,
    "start_time": "2024-04-22T20:32:55.949Z"
   },
   {
    "duration": 8,
    "start_time": "2024-04-22T20:32:56.240Z"
   },
   {
    "duration": 127,
    "start_time": "2024-04-22T20:32:56.250Z"
   },
   {
    "duration": 25,
    "start_time": "2024-04-22T20:32:56.378Z"
   },
   {
    "duration": 176,
    "start_time": "2024-04-22T20:32:56.405Z"
   },
   {
    "duration": 192,
    "start_time": "2024-04-22T20:32:56.583Z"
   },
   {
    "duration": 143,
    "start_time": "2024-04-22T20:32:56.777Z"
   },
   {
    "duration": 158,
    "start_time": "2024-04-22T20:32:56.922Z"
   },
   {
    "duration": 141,
    "start_time": "2024-04-22T20:32:57.082Z"
   },
   {
    "duration": 144,
    "start_time": "2024-04-22T20:32:57.225Z"
   },
   {
    "duration": 154,
    "start_time": "2024-04-22T20:32:57.371Z"
   },
   {
    "duration": 170,
    "start_time": "2024-04-22T20:32:57.527Z"
   },
   {
    "duration": 77,
    "start_time": "2024-04-22T20:33:07.503Z"
   },
   {
    "duration": 19,
    "start_time": "2024-04-22T20:38:13.265Z"
   },
   {
    "duration": 19,
    "start_time": "2024-04-22T20:39:30.847Z"
   },
   {
    "duration": 216,
    "start_time": "2024-04-22T20:41:31.441Z"
   },
   {
    "duration": 201,
    "start_time": "2024-04-22T20:41:40.587Z"
   },
   {
    "duration": 757,
    "start_time": "2024-04-22T20:42:51.432Z"
   },
   {
    "duration": 159,
    "start_time": "2024-04-22T20:42:52.192Z"
   },
   {
    "duration": 2367,
    "start_time": "2024-04-22T20:42:52.353Z"
   },
   {
    "duration": 10,
    "start_time": "2024-04-22T20:42:54.721Z"
   },
   {
    "duration": 14,
    "start_time": "2024-04-22T20:42:54.734Z"
   },
   {
    "duration": 16,
    "start_time": "2024-04-22T20:42:54.750Z"
   },
   {
    "duration": 11,
    "start_time": "2024-04-22T20:42:54.767Z"
   },
   {
    "duration": 9,
    "start_time": "2024-04-22T20:42:54.780Z"
   },
   {
    "duration": 13,
    "start_time": "2024-04-22T20:42:54.790Z"
   },
   {
    "duration": 35,
    "start_time": "2024-04-22T20:42:54.805Z"
   },
   {
    "duration": 5,
    "start_time": "2024-04-22T20:42:54.841Z"
   },
   {
    "duration": 65,
    "start_time": "2024-04-22T20:42:54.847Z"
   },
   {
    "duration": 9,
    "start_time": "2024-04-22T20:42:54.915Z"
   },
   {
    "duration": 40,
    "start_time": "2024-04-22T20:42:54.926Z"
   },
   {
    "duration": 32,
    "start_time": "2024-04-22T20:42:54.967Z"
   },
   {
    "duration": 171,
    "start_time": "2024-04-22T20:42:55.001Z"
   },
   {
    "duration": 41,
    "start_time": "2024-04-22T20:42:55.174Z"
   },
   {
    "duration": 24,
    "start_time": "2024-04-22T20:42:55.217Z"
   },
   {
    "duration": 23,
    "start_time": "2024-04-22T20:42:55.243Z"
   },
   {
    "duration": 54,
    "start_time": "2024-04-22T20:42:55.268Z"
   },
   {
    "duration": 24,
    "start_time": "2024-04-22T20:42:55.323Z"
   },
   {
    "duration": 13,
    "start_time": "2024-04-22T20:42:55.348Z"
   },
   {
    "duration": 384,
    "start_time": "2024-04-22T20:42:55.391Z"
   },
   {
    "duration": 42,
    "start_time": "2024-04-22T20:42:55.777Z"
   },
   {
    "duration": 225,
    "start_time": "2024-04-22T20:42:55.821Z"
   },
   {
    "duration": 238,
    "start_time": "2024-04-22T20:42:56.048Z"
   },
   {
    "duration": 308,
    "start_time": "2024-04-22T20:42:56.287Z"
   },
   {
    "duration": 358,
    "start_time": "2024-04-22T20:42:56.597Z"
   },
   {
    "duration": 217,
    "start_time": "2024-04-22T20:42:56.957Z"
   },
   {
    "duration": 179,
    "start_time": "2024-04-22T20:42:57.176Z"
   },
   {
    "duration": 18,
    "start_time": "2024-04-22T20:42:57.357Z"
   },
   {
    "duration": 197,
    "start_time": "2024-04-22T20:42:57.377Z"
   },
   {
    "duration": 208,
    "start_time": "2024-04-22T20:42:57.576Z"
   },
   {
    "duration": 253,
    "start_time": "2024-04-22T20:42:57.786Z"
   },
   {
    "duration": 370,
    "start_time": "2024-04-22T20:42:58.041Z"
   },
   {
    "duration": 513,
    "start_time": "2024-04-22T20:42:58.413Z"
   },
   {
    "duration": 312,
    "start_time": "2024-04-22T20:42:58.928Z"
   },
   {
    "duration": 9,
    "start_time": "2024-04-22T20:42:59.241Z"
   },
   {
    "duration": 281,
    "start_time": "2024-04-22T20:42:59.252Z"
   },
   {
    "duration": 286,
    "start_time": "2024-04-22T20:42:59.534Z"
   },
   {
    "duration": 173,
    "start_time": "2024-04-22T20:42:59.825Z"
   },
   {
    "duration": 14,
    "start_time": "2024-04-22T20:43:00.002Z"
   },
   {
    "duration": 700,
    "start_time": "2024-04-22T20:43:00.018Z"
   },
   {
    "duration": 934,
    "start_time": "2024-04-22T20:43:00.720Z"
   },
   {
    "duration": 525,
    "start_time": "2024-04-22T20:43:01.656Z"
   },
   {
    "duration": 276,
    "start_time": "2024-04-22T20:43:02.183Z"
   },
   {
    "duration": 9,
    "start_time": "2024-04-22T20:43:02.461Z"
   },
   {
    "duration": 163,
    "start_time": "2024-04-22T20:43:02.471Z"
   },
   {
    "duration": 15,
    "start_time": "2024-04-22T20:43:02.636Z"
   },
   {
    "duration": 317,
    "start_time": "2024-04-22T20:43:02.653Z"
   },
   {
    "duration": 213,
    "start_time": "2024-04-22T20:43:02.972Z"
   },
   {
    "duration": 162,
    "start_time": "2024-04-22T20:43:03.187Z"
   },
   {
    "duration": 189,
    "start_time": "2024-04-22T20:43:03.351Z"
   },
   {
    "duration": 135,
    "start_time": "2024-04-22T20:43:03.543Z"
   },
   {
    "duration": 163,
    "start_time": "2024-04-22T20:43:03.680Z"
   },
   {
    "duration": 161,
    "start_time": "2024-04-22T20:43:03.845Z"
   },
   {
    "duration": 192,
    "start_time": "2024-04-22T20:43:04.008Z"
   },
   {
    "duration": 27,
    "start_time": "2024-04-22T20:43:04.202Z"
   },
   {
    "duration": 27,
    "start_time": "2024-04-22T20:43:04.231Z"
   },
   {
    "duration": 235,
    "start_time": "2024-04-22T20:43:04.260Z"
   },
   {
    "duration": 215,
    "start_time": "2024-04-22T20:43:59.900Z"
   },
   {
    "duration": 708,
    "start_time": "2024-04-22T20:44:19.907Z"
   },
   {
    "duration": 150,
    "start_time": "2024-04-22T20:44:20.617Z"
   },
   {
    "duration": 2393,
    "start_time": "2024-04-22T20:44:20.769Z"
   },
   {
    "duration": 9,
    "start_time": "2024-04-22T20:44:23.164Z"
   },
   {
    "duration": 24,
    "start_time": "2024-04-22T20:44:23.175Z"
   },
   {
    "duration": 32,
    "start_time": "2024-04-22T20:44:23.201Z"
   },
   {
    "duration": 10,
    "start_time": "2024-04-22T20:44:23.235Z"
   },
   {
    "duration": 10,
    "start_time": "2024-04-22T20:44:23.246Z"
   },
   {
    "duration": 7,
    "start_time": "2024-04-22T20:44:23.258Z"
   },
   {
    "duration": 22,
    "start_time": "2024-04-22T20:44:23.267Z"
   },
   {
    "duration": 10,
    "start_time": "2024-04-22T20:44:23.291Z"
   },
   {
    "duration": 50,
    "start_time": "2024-04-22T20:44:23.303Z"
   },
   {
    "duration": 10,
    "start_time": "2024-04-22T20:44:23.354Z"
   },
   {
    "duration": 41,
    "start_time": "2024-04-22T20:44:23.367Z"
   },
   {
    "duration": 23,
    "start_time": "2024-04-22T20:44:23.410Z"
   },
   {
    "duration": 183,
    "start_time": "2024-04-22T20:44:23.434Z"
   },
   {
    "duration": 26,
    "start_time": "2024-04-22T20:44:23.622Z"
   },
   {
    "duration": 25,
    "start_time": "2024-04-22T20:44:23.650Z"
   },
   {
    "duration": 26,
    "start_time": "2024-04-22T20:44:23.692Z"
   },
   {
    "duration": 24,
    "start_time": "2024-04-22T20:44:23.720Z"
   },
   {
    "duration": 47,
    "start_time": "2024-04-22T20:44:23.745Z"
   },
   {
    "duration": 20,
    "start_time": "2024-04-22T20:44:23.795Z"
   },
   {
    "duration": 421,
    "start_time": "2024-04-22T20:44:23.818Z"
   },
   {
    "duration": 24,
    "start_time": "2024-04-22T20:44:24.240Z"
   },
   {
    "duration": 224,
    "start_time": "2024-04-22T20:44:24.265Z"
   },
   {
    "duration": 254,
    "start_time": "2024-04-22T20:44:24.491Z"
   },
   {
    "duration": 365,
    "start_time": "2024-04-22T20:44:24.746Z"
   },
   {
    "duration": 365,
    "start_time": "2024-04-22T20:44:25.114Z"
   },
   {
    "duration": 200,
    "start_time": "2024-04-22T20:44:25.481Z"
   },
   {
    "duration": 182,
    "start_time": "2024-04-22T20:44:25.683Z"
   },
   {
    "duration": 10,
    "start_time": "2024-04-22T20:44:25.867Z"
   },
   {
    "duration": 239,
    "start_time": "2024-04-22T20:44:25.879Z"
   },
   {
    "duration": 193,
    "start_time": "2024-04-22T20:44:26.120Z"
   },
   {
    "duration": 243,
    "start_time": "2024-04-22T20:44:26.315Z"
   },
   {
    "duration": 358,
    "start_time": "2024-04-22T20:44:26.559Z"
   },
   {
    "duration": 429,
    "start_time": "2024-04-22T20:44:26.919Z"
   },
   {
    "duration": 319,
    "start_time": "2024-04-22T20:44:27.350Z"
   },
   {
    "duration": 9,
    "start_time": "2024-04-22T20:44:27.671Z"
   },
   {
    "duration": 304,
    "start_time": "2024-04-22T20:44:27.681Z"
   },
   {
    "duration": 291,
    "start_time": "2024-04-22T20:44:27.987Z"
   },
   {
    "duration": 167,
    "start_time": "2024-04-22T20:44:28.291Z"
   },
   {
    "duration": 11,
    "start_time": "2024-04-22T20:44:28.460Z"
   },
   {
    "duration": 39,
    "start_time": "2024-04-22T20:44:28.472Z"
   },
   {
    "duration": 315,
    "start_time": "2024-04-22T20:44:28.512Z"
   },
   {
    "duration": 365,
    "start_time": "2024-04-22T20:44:28.829Z"
   },
   {
    "duration": 282,
    "start_time": "2024-04-22T20:44:29.196Z"
   },
   {
    "duration": 23,
    "start_time": "2024-04-22T20:44:29.480Z"
   },
   {
    "duration": 125,
    "start_time": "2024-04-22T20:44:29.506Z"
   },
   {
    "duration": 16,
    "start_time": "2024-04-22T20:44:29.633Z"
   },
   {
    "duration": 185,
    "start_time": "2024-04-22T20:44:29.650Z"
   },
   {
    "duration": 192,
    "start_time": "2024-04-22T20:44:29.837Z"
   },
   {
    "duration": 187,
    "start_time": "2024-04-22T20:44:30.032Z"
   },
   {
    "duration": 252,
    "start_time": "2024-04-22T20:44:30.221Z"
   },
   {
    "duration": 882,
    "start_time": "2024-04-22T20:44:30.474Z"
   },
   {
    "duration": 160,
    "start_time": "2024-04-22T20:44:31.357Z"
   },
   {
    "duration": 153,
    "start_time": "2024-04-22T20:44:31.519Z"
   },
   {
    "duration": 169,
    "start_time": "2024-04-22T20:44:31.673Z"
   },
   {
    "duration": 21,
    "start_time": "2024-04-22T20:44:31.843Z"
   },
   {
    "duration": 58,
    "start_time": "2024-04-22T20:44:31.865Z"
   },
   {
    "duration": 233,
    "start_time": "2024-04-22T20:44:31.924Z"
   },
   {
    "duration": 11,
    "start_time": "2024-04-22T20:45:57.076Z"
   },
   {
    "duration": 8,
    "start_time": "2024-04-22T20:46:05.968Z"
   },
   {
    "duration": 7,
    "start_time": "2024-04-22T20:46:12.043Z"
   },
   {
    "duration": 7,
    "start_time": "2024-04-22T20:46:14.740Z"
   },
   {
    "duration": 7,
    "start_time": "2024-04-22T20:46:18.807Z"
   },
   {
    "duration": 8,
    "start_time": "2024-04-22T20:46:33.484Z"
   },
   {
    "duration": 8,
    "start_time": "2024-04-22T20:46:46.573Z"
   },
   {
    "duration": 7,
    "start_time": "2024-04-22T20:47:24.762Z"
   },
   {
    "duration": 7,
    "start_time": "2024-04-22T20:47:44.867Z"
   },
   {
    "duration": 8,
    "start_time": "2024-04-22T20:47:54.577Z"
   },
   {
    "duration": 13,
    "start_time": "2024-04-22T20:49:03.735Z"
   },
   {
    "duration": 18,
    "start_time": "2024-04-22T20:49:38.828Z"
   },
   {
    "duration": 17,
    "start_time": "2024-04-22T20:49:56.679Z"
   },
   {
    "duration": 7,
    "start_time": "2024-04-22T20:57:53.780Z"
   },
   {
    "duration": 8,
    "start_time": "2024-04-22T20:57:59.865Z"
   },
   {
    "duration": 7,
    "start_time": "2024-04-22T20:58:21.706Z"
   },
   {
    "duration": 7,
    "start_time": "2024-04-22T20:58:27.114Z"
   },
   {
    "duration": 7,
    "start_time": "2024-04-22T20:58:31.501Z"
   },
   {
    "duration": 8,
    "start_time": "2024-04-22T20:58:34.472Z"
   },
   {
    "duration": 7,
    "start_time": "2024-04-22T20:58:43.312Z"
   },
   {
    "duration": 8,
    "start_time": "2024-04-22T20:58:51.988Z"
   },
   {
    "duration": 7,
    "start_time": "2024-04-22T20:58:55.134Z"
   },
   {
    "duration": 17,
    "start_time": "2024-04-22T21:00:15.778Z"
   },
   {
    "duration": 16,
    "start_time": "2024-04-22T21:00:30.880Z"
   },
   {
    "duration": 536,
    "start_time": "2024-04-22T21:02:01.339Z"
   },
   {
    "duration": 242,
    "start_time": "2024-04-22T21:02:14.272Z"
   },
   {
    "duration": 250,
    "start_time": "2024-04-22T21:02:29.719Z"
   },
   {
    "duration": 8,
    "start_time": "2024-04-22T21:04:43.267Z"
   },
   {
    "duration": 7,
    "start_time": "2024-04-22T21:04:48.067Z"
   },
   {
    "duration": 7,
    "start_time": "2024-04-22T21:04:55.467Z"
   },
   {
    "duration": 7,
    "start_time": "2024-04-22T21:05:00.903Z"
   },
   {
    "duration": 8,
    "start_time": "2024-04-22T21:05:11.953Z"
   },
   {
    "duration": 17,
    "start_time": "2024-04-22T21:05:32.182Z"
   },
   {
    "duration": 199,
    "start_time": "2024-04-22T21:07:48.204Z"
   },
   {
    "duration": 8,
    "start_time": "2024-04-22T21:11:02.912Z"
   },
   {
    "duration": 7,
    "start_time": "2024-04-22T21:11:08.483Z"
   },
   {
    "duration": 8,
    "start_time": "2024-04-22T21:11:12.397Z"
   },
   {
    "duration": 10,
    "start_time": "2024-04-22T21:11:15.850Z"
   },
   {
    "duration": 7,
    "start_time": "2024-04-22T21:11:20.849Z"
   },
   {
    "duration": 7,
    "start_time": "2024-04-22T21:11:48.975Z"
   },
   {
    "duration": 26,
    "start_time": "2024-04-22T21:14:34.851Z"
   },
   {
    "duration": 6,
    "start_time": "2024-04-22T21:16:15.433Z"
   },
   {
    "duration": 7,
    "start_time": "2024-04-22T21:16:24.456Z"
   },
   {
    "duration": 8,
    "start_time": "2024-04-22T21:16:28.126Z"
   },
   {
    "duration": 7,
    "start_time": "2024-04-22T21:16:33.453Z"
   },
   {
    "duration": 8,
    "start_time": "2024-04-22T21:16:36.848Z"
   },
   {
    "duration": 7,
    "start_time": "2024-04-22T21:16:42.387Z"
   },
   {
    "duration": 8,
    "start_time": "2024-04-22T21:16:46.203Z"
   },
   {
    "duration": 16,
    "start_time": "2024-04-22T21:18:03.729Z"
   },
   {
    "duration": 17,
    "start_time": "2024-04-22T21:21:59.709Z"
   },
   {
    "duration": 7,
    "start_time": "2024-04-22T21:29:58.951Z"
   },
   {
    "duration": 9,
    "start_time": "2024-04-22T21:30:08.891Z"
   },
   {
    "duration": 24,
    "start_time": "2024-04-22T21:30:57.105Z"
   },
   {
    "duration": 8,
    "start_time": "2024-04-22T21:34:24.381Z"
   },
   {
    "duration": 8,
    "start_time": "2024-04-22T21:34:53.327Z"
   },
   {
    "duration": 7,
    "start_time": "2024-04-22T21:35:02.282Z"
   },
   {
    "duration": 7,
    "start_time": "2024-04-22T21:35:08.372Z"
   },
   {
    "duration": 33,
    "start_time": "2024-04-22T21:35:29.088Z"
   },
   {
    "duration": 7,
    "start_time": "2024-04-22T21:40:04.770Z"
   },
   {
    "duration": 7,
    "start_time": "2024-04-22T21:40:08.205Z"
   },
   {
    "duration": 7,
    "start_time": "2024-04-22T21:40:15.271Z"
   }
  ],
  "colab": {
   "provenance": []
  },
  "kernelspec": {
   "display_name": "Python 3 (ipykernel)",
   "language": "python",
   "name": "python3"
  },
  "language_info": {
   "codemirror_mode": {
    "name": "ipython",
    "version": 3
   },
   "file_extension": ".py",
   "mimetype": "text/x-python",
   "name": "python",
   "nbconvert_exporter": "python",
   "pygments_lexer": "ipython3",
   "version": "3.11.7"
  },
  "toc": {
   "base_numbering": 1,
   "nav_menu": {},
   "number_sections": true,
   "sideBar": true,
   "skip_h1_title": true,
   "title_cell": "Table of Contents",
   "title_sidebar": "Contents",
   "toc_cell": false,
   "toc_position": {},
   "toc_section_display": true,
   "toc_window_display": true
  }
 },
 "nbformat": 4,
 "nbformat_minor": 4
}
