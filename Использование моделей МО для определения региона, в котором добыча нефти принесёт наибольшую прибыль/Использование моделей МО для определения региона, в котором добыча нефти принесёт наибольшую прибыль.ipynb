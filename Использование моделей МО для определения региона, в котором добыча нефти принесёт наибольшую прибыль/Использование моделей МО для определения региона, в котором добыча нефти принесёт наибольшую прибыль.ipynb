{
 "cells": [
  {
   "cell_type": "markdown",
   "metadata": {},
   "source": [
    "# Использование моделей МО для определения региона, в котором добыча нефти принесёт наибольшую прибыль"
   ]
  },
  {
   "cell_type": "markdown",
   "metadata": {},
   "source": [
    "Компании «ГлавРосГосНефть» нужно решить, где бурить новую скважину.\n",
    "\n",
    "Вам предоставлены пробы нефти в трёх регионах: в каждом 10 000 месторождений, где измерили качество нефти и объём её запасов. Постройте модель машинного обучения, которая поможет определить регион, где добыча принесёт наибольшую прибыль. Проанализируйте возможную прибыль и риски техникой *Bootstrap.*\n",
    "\n",
    "**Шаги для выбора локации:**\n",
    "- В избранном регионе ищут месторождения, для каждого определяют значения признаков;\n",
    "- Строят модель и оценивают объём запасов;\n",
    "- Выбирают месторождения с самым высокими оценками значений. Количество месторождений зависит от бюджета компании и стоимости разработки одной скважины;\n",
    "- Прибыль равна суммарной прибыли отобранных месторождений.\n",
    "\n",
    "**Описание данных**\n",
    "- id — уникальный идентификатор скважины;\n",
    "- f0, f1, f2 — три признака точек (неважно, что они означают, но сами признаки значимы);\n",
    "- product — объём запасов в скважине (тыс. баррелей).\n",
    "\n",
    "Данные геологоразведки трёх регионов находятся в файлах: \n",
    "/datasets/geo_data_0.csv. \n",
    "/datasets/geo_data_1.csv. \n",
    "/datasets/geo_data_2.csv. \n",
    "\n",
    "**Условия задачи:**\n",
    "- Для обучения модели подходит только линейная регрессия (остальные — недостаточно предсказуемые).\n",
    "- При разведке региона исследуют 500 точек, из которых с помощью машинного обучения выбирают 200 лучших для разработки.\n",
    "- Бюджет на разработку скважин в регионе — 10 млрд рублей.\n",
    "- При нынешних ценах один баррель сырья приносит 450 рублей дохода. Доход с каждой единицы продукта составляет 450 тыс. рублей, поскольку объём указан в тысячах баррелей.\n",
    "- После оценки рисков нужно оставить лишь те регионы, в которых вероятность убытков меньше 2.5%. Среди них выбирают регион с наибольшей средней прибылью.\n",
    "\n",
    "Данные синтетические: детали контрактов и характеристики месторождений не разглашаются.\n"
   ]
  },
  {
   "cell_type": "code",
   "execution_count": 1,
   "metadata": {},
   "outputs": [],
   "source": [
    "import numpy as np\n",
    "import pandas as pd\n",
    "import seaborn as sns\n",
    "import matplotlib.pyplot as plt\n",
    "\n",
    "from sklearn.pipeline import Pipeline\n",
    "from sklearn.impute import SimpleImputer\n",
    "from sklearn.compose import ColumnTransformer\n",
    "\n",
    "from sklearn.model_selection import train_test_split, RandomizedSearchCV\n",
    "from sklearn.linear_model import LinearRegression\n",
    "from sklearn.preprocessing import StandardScaler, MinMaxScaler\n",
    "from sklearn.metrics import make_scorer "
   ]
  },
  {
   "cell_type": "markdown",
   "metadata": {},
   "source": [
    "## Загрузка и подготовка данных"
   ]
  },
  {
   "cell_type": "markdown",
   "metadata": {},
   "source": [
    "### Загрузка и предобработка данных"
   ]
  },
  {
   "cell_type": "code",
   "execution_count": 2,
   "metadata": {},
   "outputs": [],
   "source": [
    "geo_data_0 = pd.read_csv('/datasets/geo_data_0.csv')\n",
    "geo_data_1 = pd.read_csv('/datasets/geo_data_1.csv')\n",
    "geo_data_2 = pd.read_csv('/datasets/geo_data_2.csv')"
   ]
  },
  {
   "cell_type": "code",
   "execution_count": 3,
   "metadata": {},
   "outputs": [
    {
     "name": "stdout",
     "output_type": "stream",
     "text": [
      "<class 'pandas.core.frame.DataFrame'>\n",
      "RangeIndex: 100000 entries, 0 to 99999\n",
      "Data columns (total 5 columns):\n",
      " #   Column   Non-Null Count   Dtype  \n",
      "---  ------   --------------   -----  \n",
      " 0   id       100000 non-null  object \n",
      " 1   f0       100000 non-null  float64\n",
      " 2   f1       100000 non-null  float64\n",
      " 3   f2       100000 non-null  float64\n",
      " 4   product  100000 non-null  float64\n",
      "dtypes: float64(4), object(1)\n",
      "memory usage: 3.8+ MB\n"
     ]
    },
    {
     "data": {
      "text/html": [
       "<div>\n",
       "<style scoped>\n",
       "    .dataframe tbody tr th:only-of-type {\n",
       "        vertical-align: middle;\n",
       "    }\n",
       "\n",
       "    .dataframe tbody tr th {\n",
       "        vertical-align: top;\n",
       "    }\n",
       "\n",
       "    .dataframe thead th {\n",
       "        text-align: right;\n",
       "    }\n",
       "</style>\n",
       "<table border=\"1\" class=\"dataframe\">\n",
       "  <thead>\n",
       "    <tr style=\"text-align: right;\">\n",
       "      <th></th>\n",
       "      <th>id</th>\n",
       "      <th>f0</th>\n",
       "      <th>f1</th>\n",
       "      <th>f2</th>\n",
       "      <th>product</th>\n",
       "    </tr>\n",
       "  </thead>\n",
       "  <tbody>\n",
       "    <tr>\n",
       "      <th>0</th>\n",
       "      <td>txEyH</td>\n",
       "      <td>0.705745</td>\n",
       "      <td>-0.497823</td>\n",
       "      <td>1.221170</td>\n",
       "      <td>105.280062</td>\n",
       "    </tr>\n",
       "    <tr>\n",
       "      <th>1</th>\n",
       "      <td>2acmU</td>\n",
       "      <td>1.334711</td>\n",
       "      <td>-0.340164</td>\n",
       "      <td>4.365080</td>\n",
       "      <td>73.037750</td>\n",
       "    </tr>\n",
       "    <tr>\n",
       "      <th>2</th>\n",
       "      <td>409Wp</td>\n",
       "      <td>1.022732</td>\n",
       "      <td>0.151990</td>\n",
       "      <td>1.419926</td>\n",
       "      <td>85.265647</td>\n",
       "    </tr>\n",
       "    <tr>\n",
       "      <th>3</th>\n",
       "      <td>iJLyR</td>\n",
       "      <td>-0.032172</td>\n",
       "      <td>0.139033</td>\n",
       "      <td>2.978566</td>\n",
       "      <td>168.620776</td>\n",
       "    </tr>\n",
       "    <tr>\n",
       "      <th>4</th>\n",
       "      <td>Xdl7t</td>\n",
       "      <td>1.988431</td>\n",
       "      <td>0.155413</td>\n",
       "      <td>4.751769</td>\n",
       "      <td>154.036647</td>\n",
       "    </tr>\n",
       "  </tbody>\n",
       "</table>\n",
       "</div>"
      ],
      "text/plain": [
       "      id        f0        f1        f2     product\n",
       "0  txEyH  0.705745 -0.497823  1.221170  105.280062\n",
       "1  2acmU  1.334711 -0.340164  4.365080   73.037750\n",
       "2  409Wp  1.022732  0.151990  1.419926   85.265647\n",
       "3  iJLyR -0.032172  0.139033  2.978566  168.620776\n",
       "4  Xdl7t  1.988431  0.155413  4.751769  154.036647"
      ]
     },
     "execution_count": 3,
     "metadata": {},
     "output_type": "execute_result"
    }
   ],
   "source": [
    "geo_data_0.info()\n",
    "geo_data_0.head()"
   ]
  },
  {
   "cell_type": "code",
   "execution_count": 4,
   "metadata": {},
   "outputs": [
    {
     "name": "stdout",
     "output_type": "stream",
     "text": [
      "<class 'pandas.core.frame.DataFrame'>\n",
      "RangeIndex: 100000 entries, 0 to 99999\n",
      "Data columns (total 5 columns):\n",
      " #   Column   Non-Null Count   Dtype  \n",
      "---  ------   --------------   -----  \n",
      " 0   id       100000 non-null  object \n",
      " 1   f0       100000 non-null  float64\n",
      " 2   f1       100000 non-null  float64\n",
      " 3   f2       100000 non-null  float64\n",
      " 4   product  100000 non-null  float64\n",
      "dtypes: float64(4), object(1)\n",
      "memory usage: 3.8+ MB\n"
     ]
    },
    {
     "data": {
      "text/html": [
       "<div>\n",
       "<style scoped>\n",
       "    .dataframe tbody tr th:only-of-type {\n",
       "        vertical-align: middle;\n",
       "    }\n",
       "\n",
       "    .dataframe tbody tr th {\n",
       "        vertical-align: top;\n",
       "    }\n",
       "\n",
       "    .dataframe thead th {\n",
       "        text-align: right;\n",
       "    }\n",
       "</style>\n",
       "<table border=\"1\" class=\"dataframe\">\n",
       "  <thead>\n",
       "    <tr style=\"text-align: right;\">\n",
       "      <th></th>\n",
       "      <th>id</th>\n",
       "      <th>f0</th>\n",
       "      <th>f1</th>\n",
       "      <th>f2</th>\n",
       "      <th>product</th>\n",
       "    </tr>\n",
       "  </thead>\n",
       "  <tbody>\n",
       "    <tr>\n",
       "      <th>0</th>\n",
       "      <td>kBEdx</td>\n",
       "      <td>-15.001348</td>\n",
       "      <td>-8.276000</td>\n",
       "      <td>-0.005876</td>\n",
       "      <td>3.179103</td>\n",
       "    </tr>\n",
       "    <tr>\n",
       "      <th>1</th>\n",
       "      <td>62mP7</td>\n",
       "      <td>14.272088</td>\n",
       "      <td>-3.475083</td>\n",
       "      <td>0.999183</td>\n",
       "      <td>26.953261</td>\n",
       "    </tr>\n",
       "    <tr>\n",
       "      <th>2</th>\n",
       "      <td>vyE1P</td>\n",
       "      <td>6.263187</td>\n",
       "      <td>-5.948386</td>\n",
       "      <td>5.001160</td>\n",
       "      <td>134.766305</td>\n",
       "    </tr>\n",
       "    <tr>\n",
       "      <th>3</th>\n",
       "      <td>KcrkZ</td>\n",
       "      <td>-13.081196</td>\n",
       "      <td>-11.506057</td>\n",
       "      <td>4.999415</td>\n",
       "      <td>137.945408</td>\n",
       "    </tr>\n",
       "    <tr>\n",
       "      <th>4</th>\n",
       "      <td>AHL4O</td>\n",
       "      <td>12.702195</td>\n",
       "      <td>-8.147433</td>\n",
       "      <td>5.004363</td>\n",
       "      <td>134.766305</td>\n",
       "    </tr>\n",
       "  </tbody>\n",
       "</table>\n",
       "</div>"
      ],
      "text/plain": [
       "      id         f0         f1        f2     product\n",
       "0  kBEdx -15.001348  -8.276000 -0.005876    3.179103\n",
       "1  62mP7  14.272088  -3.475083  0.999183   26.953261\n",
       "2  vyE1P   6.263187  -5.948386  5.001160  134.766305\n",
       "3  KcrkZ -13.081196 -11.506057  4.999415  137.945408\n",
       "4  AHL4O  12.702195  -8.147433  5.004363  134.766305"
      ]
     },
     "execution_count": 4,
     "metadata": {},
     "output_type": "execute_result"
    }
   ],
   "source": [
    "geo_data_1.info()\n",
    "geo_data_1.head()"
   ]
  },
  {
   "cell_type": "code",
   "execution_count": 5,
   "metadata": {},
   "outputs": [
    {
     "name": "stdout",
     "output_type": "stream",
     "text": [
      "<class 'pandas.core.frame.DataFrame'>\n",
      "RangeIndex: 100000 entries, 0 to 99999\n",
      "Data columns (total 5 columns):\n",
      " #   Column   Non-Null Count   Dtype  \n",
      "---  ------   --------------   -----  \n",
      " 0   id       100000 non-null  object \n",
      " 1   f0       100000 non-null  float64\n",
      " 2   f1       100000 non-null  float64\n",
      " 3   f2       100000 non-null  float64\n",
      " 4   product  100000 non-null  float64\n",
      "dtypes: float64(4), object(1)\n",
      "memory usage: 3.8+ MB\n"
     ]
    },
    {
     "data": {
      "text/html": [
       "<div>\n",
       "<style scoped>\n",
       "    .dataframe tbody tr th:only-of-type {\n",
       "        vertical-align: middle;\n",
       "    }\n",
       "\n",
       "    .dataframe tbody tr th {\n",
       "        vertical-align: top;\n",
       "    }\n",
       "\n",
       "    .dataframe thead th {\n",
       "        text-align: right;\n",
       "    }\n",
       "</style>\n",
       "<table border=\"1\" class=\"dataframe\">\n",
       "  <thead>\n",
       "    <tr style=\"text-align: right;\">\n",
       "      <th></th>\n",
       "      <th>id</th>\n",
       "      <th>f0</th>\n",
       "      <th>f1</th>\n",
       "      <th>f2</th>\n",
       "      <th>product</th>\n",
       "    </tr>\n",
       "  </thead>\n",
       "  <tbody>\n",
       "    <tr>\n",
       "      <th>0</th>\n",
       "      <td>fwXo0</td>\n",
       "      <td>-1.146987</td>\n",
       "      <td>0.963328</td>\n",
       "      <td>-0.828965</td>\n",
       "      <td>27.758673</td>\n",
       "    </tr>\n",
       "    <tr>\n",
       "      <th>1</th>\n",
       "      <td>WJtFt</td>\n",
       "      <td>0.262778</td>\n",
       "      <td>0.269839</td>\n",
       "      <td>-2.530187</td>\n",
       "      <td>56.069697</td>\n",
       "    </tr>\n",
       "    <tr>\n",
       "      <th>2</th>\n",
       "      <td>ovLUW</td>\n",
       "      <td>0.194587</td>\n",
       "      <td>0.289035</td>\n",
       "      <td>-5.586433</td>\n",
       "      <td>62.871910</td>\n",
       "    </tr>\n",
       "    <tr>\n",
       "      <th>3</th>\n",
       "      <td>q6cA6</td>\n",
       "      <td>2.236060</td>\n",
       "      <td>-0.553760</td>\n",
       "      <td>0.930038</td>\n",
       "      <td>114.572842</td>\n",
       "    </tr>\n",
       "    <tr>\n",
       "      <th>4</th>\n",
       "      <td>WPMUX</td>\n",
       "      <td>-0.515993</td>\n",
       "      <td>1.716266</td>\n",
       "      <td>5.899011</td>\n",
       "      <td>149.600746</td>\n",
       "    </tr>\n",
       "  </tbody>\n",
       "</table>\n",
       "</div>"
      ],
      "text/plain": [
       "      id        f0        f1        f2     product\n",
       "0  fwXo0 -1.146987  0.963328 -0.828965   27.758673\n",
       "1  WJtFt  0.262778  0.269839 -2.530187   56.069697\n",
       "2  ovLUW  0.194587  0.289035 -5.586433   62.871910\n",
       "3  q6cA6  2.236060 -0.553760  0.930038  114.572842\n",
       "4  WPMUX -0.515993  1.716266  5.899011  149.600746"
      ]
     },
     "execution_count": 5,
     "metadata": {},
     "output_type": "execute_result"
    }
   ],
   "source": [
    "geo_data_2.info()\n",
    "geo_data_2.head()"
   ]
  },
  {
   "cell_type": "code",
   "execution_count": 6,
   "metadata": {},
   "outputs": [
    {
     "name": "stdout",
     "output_type": "stream",
     "text": [
      "Количество пропусков: \n",
      " id         0\n",
      "f0         0\n",
      "f1         0\n",
      "f2         0\n",
      "product    0\n",
      "dtype: int64 \n",
      "\n",
      "Количество дубликатов до форматирования: 0\n"
     ]
    }
   ],
   "source": [
    "#Проверка пропусков\n",
    "print('Количество пропусков: \\n', geo_data_0.isna().sum(), '\\n')\n",
    "\n",
    "#Поиск дубликатов и их удаление\n",
    "print('Количество дубликатов до форматирования:', geo_data_0.duplicated().sum())"
   ]
  },
  {
   "cell_type": "code",
   "execution_count": 7,
   "metadata": {},
   "outputs": [
    {
     "name": "stdout",
     "output_type": "stream",
     "text": [
      "Количество пропусков: \n",
      " id         0\n",
      "f0         0\n",
      "f1         0\n",
      "f2         0\n",
      "product    0\n",
      "dtype: int64 \n",
      "\n",
      "Количество дубликатов до форматирования: 0\n"
     ]
    }
   ],
   "source": [
    "#Проверка пропусков\n",
    "print('Количество пропусков: \\n', geo_data_1.isna().sum(), '\\n')\n",
    "\n",
    "#Поиск дубликатов и их удаление\n",
    "print('Количество дубликатов до форматирования:', geo_data_1.duplicated().sum())"
   ]
  },
  {
   "cell_type": "code",
   "execution_count": 8,
   "metadata": {},
   "outputs": [
    {
     "name": "stdout",
     "output_type": "stream",
     "text": [
      "Количество пропусков: \n",
      " id         0\n",
      "f0         0\n",
      "f1         0\n",
      "f2         0\n",
      "product    0\n",
      "dtype: int64 \n",
      "\n",
      "Количество дубликатов до форматирования: 0\n"
     ]
    }
   ],
   "source": [
    "#Проверка пропусков\n",
    "print('Количество пропусков: \\n', geo_data_2.isna().sum(), '\\n')\n",
    "\n",
    "#Поиск дубликатов и их удаление\n",
    "print('Количество дубликатов до форматирования:', geo_data_2.duplicated().sum())"
   ]
  },
  {
   "cell_type": "markdown",
   "metadata": {},
   "source": [
    "**Вывод:** Данные соответствуют описанию задачи. Названия и типы всех столбцов соответствуют стандартам оформления данных. Пропуско и дубликатов не выявлено."
   ]
  },
  {
   "cell_type": "markdown",
   "metadata": {},
   "source": [
    "### Исследовательский анализ данных"
   ]
  },
  {
   "cell_type": "code",
   "execution_count": 9,
   "metadata": {},
   "outputs": [],
   "source": [
    "def num_research(data):\n",
    "    num_cols = data.select_dtypes(include=['number']).columns\n",
    "    num_plots = len(num_cols)\n",
    "    \n",
    "    plt.figure(figsize=(10, 5 * num_plots))\n",
    "    for i, col in enumerate(num_cols):\n",
    "        # Гистограмма\n",
    "        plt.subplot(num_plots, 2, 2*i + 1)\n",
    "        data[col].hist(bins=10)\n",
    "        plt.title(f'Hist {col}')\n",
    "        plt.xlabel(col)\n",
    "\n",
    "        # Ящик\n",
    "        plt.subplot(num_plots, 2, 2*i + 2)\n",
    "        data.boxplot(column=col)\n",
    "        plt.title(f'Box {col}')\n",
    "    plt.tight_layout()\n",
    "    plt.show()"
   ]
  },
  {
   "cell_type": "code",
   "execution_count": 10,
   "metadata": {},
   "outputs": [
    {
     "data": {
      "image/png": "[encoded data removed]",
      "text/plain": [
       "<Figure size 720x1440 with 8 Axes>"
      ]
     },
     "metadata": {
      "needs_background": "light"
     },
     "output_type": "display_data"
    }
   ],
   "source": [
    "num_research(geo_data_0)"
   ]
  },
  {
   "cell_type": "code",
   "execution_count": 11,
   "metadata": {},
   "outputs": [
    {
     "data": {
      "text/plain": [
       "<AxesSubplot:>"
      ]
     },
     "execution_count": 11,
     "metadata": {},
     "output_type": "execute_result"
    },
    {
     "data": {
      "image/png": "[encoded data removed]",
      "text/plain": [
       "<Figure size 1152x576 with 2 Axes>"
      ]
     },
     "metadata": {
      "needs_background": "light"
     },
     "output_type": "display_data"
    }
   ],
   "source": [
    "plt.figure(figsize=(16, 8))\n",
    "fmcor = geo_data_0.drop('id', axis=1).corr()\n",
    "sns.heatmap(fmcor, annot=True, fmt='.2f')"
   ]
  },
  {
   "cell_type": "code",
   "execution_count": 12,
   "metadata": {},
   "outputs": [
    {
     "data": {
      "image/png": "[encoded data removed]",
      "text/plain": [
       "<Figure size 720x1440 with 8 Axes>"
      ]
     },
     "metadata": {
      "needs_background": "light"
     },
     "output_type": "display_data"
    }
   ],
   "source": [
    "num_research(geo_data_1)"
   ]
  },
  {
   "cell_type": "code",
   "execution_count": 13,
   "metadata": {},
   "outputs": [
    {
     "data": {
      "text/plain": [
       "<AxesSubplot:>"
      ]
     },
     "execution_count": 13,
     "metadata": {},
     "output_type": "execute_result"
    },
    {
     "data": {
      "image/png": "[encoded data removed]",
      "text/plain": [
       "<Figure size 1152x576 with 2 Axes>"
      ]
     },
     "metadata": {
      "needs_background": "light"
     },
     "output_type": "display_data"
    }
   ],
   "source": [
    "plt.figure(figsize=(16, 8))\n",
    "fmcor = geo_data_1.drop('id', axis=1).corr()\n",
    "sns.heatmap(fmcor, annot=True, fmt='.2f')"
   ]
  },
  {
   "cell_type": "code",
   "execution_count": 14,
   "metadata": {},
   "outputs": [
    {
     "data": {
      "image/png": "[encoded data removed]",
      "text/plain": [
       "<Figure size 720x1440 with 8 Axes>"
      ]
     },
     "metadata": {
      "needs_background": "light"
     },
     "output_type": "display_data"
    }
   ],
   "source": [
    "num_research(geo_data_2)"
   ]
  },
  {
   "cell_type": "code",
   "execution_count": 15,
   "metadata": {},
   "outputs": [
    {
     "data": {
      "text/plain": [
       "<AxesSubplot:>"
      ]
     },
     "execution_count": 15,
     "metadata": {},
     "output_type": "execute_result"
    },
    {
     "data": {
      "image/png": "[encoded data removed]",
      "text/plain": [
       "<Figure size 1152x576 with 2 Axes>"
      ]
     },
     "metadata": {
      "needs_background": "light"
     },
     "output_type": "display_data"
    }
   ],
   "source": [
    "plt.figure(figsize=(16, 8))\n",
    "fmcor = geo_data_2.drop('id', axis=1).corr()\n",
    "sns.heatmap(fmcor, annot=True, fmt='.2f')"
   ]
  },
  {
   "cell_type": "markdown",
   "metadata": {},
   "source": [
    "**Вывод:** В данных присутсвуют выбросы, но так как неизвестно что это за признаки, то не представляется возможным избавитья от них."
   ]
  },
  {
   "cell_type": "markdown",
   "metadata": {},
   "source": [
    "### Подготовка данных"
   ]
  },
  {
   "cell_type": "code",
   "execution_count": 16,
   "metadata": {},
   "outputs": [],
   "source": [
    "X_0 = geo_data_0.drop(['product', 'id'], axis=1)\n",
    "y_0 = geo_data_0['product']\n",
    "\n",
    "X_1 = geo_data_1.drop(['product', 'id'], axis=1)\n",
    "y_1 = geo_data_1['product']\n",
    "\n",
    "X_2 = geo_data_2.drop(['product', 'id'], axis=1)\n",
    "y_2 = geo_data_2['product']"
   ]
  },
  {
   "cell_type": "code",
   "execution_count": 17,
   "metadata": {},
   "outputs": [],
   "source": [
    "num_columns = ['f0', 'f1', 'f2']\n",
    "\n",
    "data_preprocessor = ColumnTransformer(\n",
    "    [('num', MinMaxScaler(), num_columns)], \n",
    "    remainder='passthrough'\n",
    ")"
   ]
  },
  {
   "cell_type": "markdown",
   "metadata": {},
   "source": [
    "## Обучение и проверка модели"
   ]
  },
  {
   "cell_type": "code",
   "execution_count": 18,
   "metadata": {},
   "outputs": [],
   "source": [
    "# Метрика\n",
    "def rmse_func(predictions, targets):\n",
    "    return np.sqrt(((predictions - targets) ** 2).mean())\n",
    "\n",
    "rmse = make_scorer(rmse_func, greater_is_better=False)"
   ]
  },
  {
   "cell_type": "code",
   "execution_count": 19,
   "metadata": {},
   "outputs": [],
   "source": [
    "RANDOM_STATE = 42\n",
    "\n",
    "X_train_0, X_valid_0, y_train_0, y_valid_0 = train_test_split(\n",
    "    X_0, y_0, test_size=0.25, random_state=RANDOM_STATE)"
   ]
  },
  {
   "cell_type": "code",
   "execution_count": 20,
   "metadata": {},
   "outputs": [],
   "source": [
    "X_train_1, X_valid_1, y_train_1, y_valid_1 = train_test_split(\n",
    "    X_1, y_1, test_size=0.25, random_state=RANDOM_STATE)"
   ]
  },
  {
   "cell_type": "code",
   "execution_count": 21,
   "metadata": {},
   "outputs": [],
   "source": [
    "X_train_2, X_valid_2, y_train_2, y_valid_2 = train_test_split(\n",
    "    X_2, y_2, test_size=0.25, random_state=RANDOM_STATE)"
   ]
  },
  {
   "cell_type": "code",
   "execution_count": 22,
   "metadata": {},
   "outputs": [],
   "source": [
    "# создаём итоговый пайплайн: подготовка данных и модель\n",
    "pipe_final = Pipeline([\n",
    "    ('preprocessor', data_preprocessor),\n",
    "    ('models', LinearRegression())\n",
    "])\n",
    "\n",
    "param_grid = [\n",
    "    # словарь для модели LinearRegression()\n",
    "    {\n",
    "        'models': [LinearRegression()],\n",
    "        'preprocessor__num': [StandardScaler(), MinMaxScaler(), 'passthrough']  \n",
    "    }\n",
    "]"
   ]
  },
  {
   "cell_type": "markdown",
   "metadata": {},
   "source": [
    "### Обучение и проверка модели на первом месторождении"
   ]
  },
  {
   "cell_type": "code",
   "execution_count": 23,
   "metadata": {},
   "outputs": [
    {
     "data": {
      "text/plain": [
       "RandomizedSearchCV(cv=5,\n",
       "                   estimator=Pipeline(steps=[('preprocessor',\n",
       "                                              ColumnTransformer(remainder='passthrough',\n",
       "                                                                transformers=[('num',\n",
       "                                                                               MinMaxScaler(),\n",
       "                                                                               ['f0',\n",
       "                                                                                'f1',\n",
       "                                                                                'f2'])])),\n",
       "                                             ('models', LinearRegression())]),\n",
       "                   n_iter=3, n_jobs=-1,\n",
       "                   param_distributions=[{'models': [LinearRegression()],\n",
       "                                         'preprocessor__num': [StandardScaler(),\n",
       "                                                               MinMaxScaler(),\n",
       "                                                               'passthrough']}],\n",
       "                   random_state=42,\n",
       "                   scoring=make_scorer(rmse_func, greater_is_better=False))"
      ]
     },
     "execution_count": 23,
     "metadata": {},
     "output_type": "execute_result"
    }
   ],
   "source": [
    "randomized_search = RandomizedSearchCV(\n",
    "    pipe_final, \n",
    "    param_grid, \n",
    "    cv=5,\n",
    "    scoring=rmse,\n",
    "    random_state=RANDOM_STATE,\n",
    "    n_iter=3,\n",
    "    n_jobs=-1\n",
    ")\n",
    "randomized_search.fit(X_train_0, y_train_0)"
   ]
  },
  {
   "cell_type": "code",
   "execution_count": 24,
   "metadata": {},
   "outputs": [
    {
     "name": "stdout",
     "output_type": "stream",
     "text": [
      "Лучшая модель и её параметры:\n",
      "\n",
      " Pipeline(steps=[('preprocessor',\n",
      "                 ColumnTransformer(remainder='passthrough',\n",
      "                                   transformers=[('num', StandardScaler(),\n",
      "                                                  ['f0', 'f1', 'f2'])])),\n",
      "                ('models', LinearRegression())])\n",
      "Метрика лучшей модели на cv-выборке: -37.67200536313506\n"
     ]
    }
   ],
   "source": [
    "print('Лучшая модель и её параметры:\\n\\n', randomized_search.best_estimator_)\n",
    "print ('Метрика лучшей модели на cv-выборке:', randomized_search.best_score_)"
   ]
  },
  {
   "cell_type": "code",
   "execution_count": 25,
   "metadata": {},
   "outputs": [
    {
     "name": "stdout",
     "output_type": "stream",
     "text": [
      "Средний запас валидационного сырья в нулевом регионе: 92.32595637084387\n",
      "Средний запас предсказанного сырья в нулевом регионе: 92.39879990657768\n",
      "Метрика RMSE нулевого региона: 37.75660035026169\n"
     ]
    }
   ],
   "source": [
    "#Расчеты\n",
    "y_pred_0 = randomized_search.predict(X_valid_0)\n",
    "print(f'Средний запас валидационного сырья в нулевом регионе: {y_valid_0.mean()}')\n",
    "print(f'Средний запас предсказанного сырья в нулевом регионе: {y_pred_0.mean()}')\n",
    "print(f'Метрика RMSE нулевого региона: {rmse_func(y_valid_0, y_pred_0)}')"
   ]
  },
  {
   "cell_type": "markdown",
   "metadata": {},
   "source": [
    "### Обучение и проверка модели на втором месторождении"
   ]
  },
  {
   "cell_type": "code",
   "execution_count": 26,
   "metadata": {},
   "outputs": [
    {
     "data": {
      "text/plain": [
       "RandomizedSearchCV(cv=5,\n",
       "                   estimator=Pipeline(steps=[('preprocessor',\n",
       "                                              ColumnTransformer(remainder='passthrough',\n",
       "                                                                transformers=[('num',\n",
       "                                                                               MinMaxScaler(),\n",
       "                                                                               ['f0',\n",
       "                                                                                'f1',\n",
       "                                                                                'f2'])])),\n",
       "                                             ('models', LinearRegression())]),\n",
       "                   n_iter=3, n_jobs=-1,\n",
       "                   param_distributions=[{'models': [LinearRegression()],\n",
       "                                         'preprocessor__num': [StandardScaler(),\n",
       "                                                               MinMaxScaler(),\n",
       "                                                               'passthrough']}],\n",
       "                   random_state=42,\n",
       "                   scoring=make_scorer(rmse_func, greater_is_better=False))"
      ]
     },
     "execution_count": 26,
     "metadata": {},
     "output_type": "execute_result"
    }
   ],
   "source": [
    "randomized_search_1 = RandomizedSearchCV(\n",
    "    pipe_final, \n",
    "    param_grid, \n",
    "    cv=5,\n",
    "    scoring=rmse,\n",
    "    random_state=RANDOM_STATE,\n",
    "    n_iter=3,\n",
    "    n_jobs=-1\n",
    ")\n",
    "randomized_search_1.fit(X_train_1, y_train_1)"
   ]
  },
  {
   "cell_type": "code",
   "execution_count": 27,
   "metadata": {},
   "outputs": [
    {
     "name": "stdout",
     "output_type": "stream",
     "text": [
      "Лучшая модель и её параметры:\n",
      "\n",
      " Pipeline(steps=[('preprocessor',\n",
      "                 ColumnTransformer(remainder='passthrough',\n",
      "                                   transformers=[('num', StandardScaler(),\n",
      "                                                  ['f0', 'f1', 'f2'])])),\n",
      "                ('models', LinearRegression())])\n",
      "Метрика лучшей модели на cv-выборке: -0.8904559629285671\n"
     ]
    }
   ],
   "source": [
    "print('Лучшая модель и её параметры:\\n\\n', randomized_search_1.best_estimator_)\n",
    "print ('Метрика лучшей модели на cv-выборке:', randomized_search_1.best_score_)"
   ]
  },
  {
   "cell_type": "code",
   "execution_count": 28,
   "metadata": {},
   "outputs": [
    {
     "name": "stdout",
     "output_type": "stream",
     "text": [
      "Средний запас валидационного сырья в первом регионе: 68.72538074722745\n",
      "Средний запас предсказанного сырья в первом регионе: 68.7128780391376\n",
      "Метрика RMSE первого региона: 0.8902801001028846\n"
     ]
    }
   ],
   "source": [
    "#Расчеты\n",
    "y_pred_1 = randomized_search_1.predict(X_valid_1)\n",
    "print(f'Средний запас валидационного сырья в первом регионе: {y_valid_1.mean()}')\n",
    "print(f'Средний запас предсказанного сырья в первом регионе: {y_pred_1.mean()}')\n",
    "print(f'Метрика RMSE первого региона: {rmse_func(y_valid_1, y_pred_1)}')"
   ]
  },
  {
   "cell_type": "markdown",
   "metadata": {},
   "source": [
    "### Обучение и проверка модели на третьем месторождении"
   ]
  },
  {
   "cell_type": "code",
   "execution_count": 29,
   "metadata": {},
   "outputs": [
    {
     "data": {
      "text/plain": [
       "RandomizedSearchCV(cv=5,\n",
       "                   estimator=Pipeline(steps=[('preprocessor',\n",
       "                                              ColumnTransformer(remainder='passthrough',\n",
       "                                                                transformers=[('num',\n",
       "                                                                               MinMaxScaler(),\n",
       "                                                                               ['f0',\n",
       "                                                                                'f1',\n",
       "                                                                                'f2'])])),\n",
       "                                             ('models', LinearRegression())]),\n",
       "                   n_iter=3, n_jobs=-1,\n",
       "                   param_distributions=[{'models': [LinearRegression()],\n",
       "                                         'preprocessor__num': [StandardScaler(),\n",
       "                                                               MinMaxScaler(),\n",
       "                                                               'passthrough']}],\n",
       "                   random_state=42,\n",
       "                   scoring=make_scorer(rmse_func, greater_is_better=False))"
      ]
     },
     "execution_count": 29,
     "metadata": {},
     "output_type": "execute_result"
    }
   ],
   "source": [
    "randomized_search_2 = RandomizedSearchCV(\n",
    "    pipe_final, \n",
    "    param_grid, \n",
    "    cv=5,\n",
    "    scoring=rmse,\n",
    "    random_state=RANDOM_STATE,\n",
    "    n_iter=3,\n",
    "    n_jobs=-1\n",
    ")\n",
    "randomized_search_2.fit(X_train_2, y_train_2)"
   ]
  },
  {
   "cell_type": "code",
   "execution_count": 30,
   "metadata": {},
   "outputs": [
    {
     "name": "stdout",
     "output_type": "stream",
     "text": [
      "Лучшая модель и её параметры:\n",
      "\n",
      " Pipeline(steps=[('preprocessor',\n",
      "                 ColumnTransformer(remainder='passthrough',\n",
      "                                   transformers=[('num', StandardScaler(),\n",
      "                                                  ['f0', 'f1', 'f2'])])),\n",
      "                ('models', LinearRegression())])\n",
      "Метрика лучшей модели на cv-выборке: -40.02698159997838\n"
     ]
    }
   ],
   "source": [
    "print('Лучшая модель и её параметры:\\n\\n', randomized_search_2.best_estimator_)\n",
    "print('Метрика лучшей модели на cv-выборке:', randomized_search_2.best_score_)"
   ]
  },
  {
   "cell_type": "code",
   "execution_count": 31,
   "metadata": {},
   "outputs": [
    {
     "name": "stdout",
     "output_type": "stream",
     "text": [
      "Средний запас валидационного сырья во втором регионе: 95.15099907171961\n",
      "Средний запас предсказанного сырья во втором регионе: 94.77102387765939\n",
      "Метрика RMSE второго региона: 40.145872311342174\n"
     ]
    }
   ],
   "source": [
    "#Расчеты\n",
    "y_pred_2 = randomized_search_2.predict(X_valid_2)\n",
    "print(f'Средний запас валидационного сырья во втором регионе: {y_valid_2.mean()}')\n",
    "print(f'Средний запас предсказанного сырья во втором регионе: {y_pred_2.mean()}')\n",
    "print(f'Метрика RMSE второго региона: {rmse_func(y_valid_2, y_pred_2)}')"
   ]
  },
  {
   "cell_type": "markdown",
   "metadata": {},
   "source": [
    "**Вывод:** \n",
    "- Нулевой регион:\n",
    "    - Средний запас валидационного сырья: 92.33 тыс. баррелей.\n",
    "    - Средний запас предсказанного сырья: 92.40 тыс. баррелей.\n",
    "    - RMSE: 37.76 тыс. баррелей.\n",
    "\n",
    "В нулевом регионе модель предсказывает средний запас сырья довольно близко к фактическому, но метрика RMSE показывает достаточно высокую ошибку. Это указывает на то, что предсказания модели в этом регионе могут сильно варьироваться и не всегда точно отражают фактические данные.\n",
    "\n",
    "\n",
    "- Первый регион:\n",
    "    - Средний запас валидационного сырья: 68.73 тыс. баррелей.\n",
    "    - Средний запас предсказанного сырья: 68.71 тыс. баррелей.\n",
    "    - RMSE: 0.89 тыс. баррелей.\n",
    "\n",
    "В первом регионе модель показывает наилучшие результаты. Средние значения предсказанного и фактического сырья практически совпадают, а метрика RMSE очень низкая, что говорит о высокой точности модели в этом регионе.\n",
    "\n",
    "- Второй регион:\n",
    "    - Средний запас валидационного сырья: 95.15 тыс. баррелей.\n",
    "    - Средний запас предсказанного сырья: 94.77 тыс. баррелей.\n",
    "    - RMSE: 40.15 тыс. баррелей.\n",
    "\n",
    "Во втором регионе модель тоже показывает достаточно близкие к фактическим значениям предсказанного среднего запаса, но ошибка RMSE довольно велика.\n",
    "\n",
    "- Общий вывод:\n",
    "    - Первый регион выделяется как наиболее стабильный и предсказуемый, с минимальной ошибкой RMSE. Модель в этом регионе работает очень точно, что делает его наилучшим кандидатом для разработки.\n",
    "    - Нулевой регион также показывает неплохие результаты, но высокая RMSE указывает на большую неопределенность в предсказаниях.\n",
    "    - Второй регион имеет самые высокие средние запасы, но значительная ошибка RMSE говорит о больших рисках при разработке.\n",
    "    \n",
    "Рекомендация: Первый регион кажется наиболее предпочтительным для бурения с точки зрения стабильности предсказаний модели."
   ]
  },
  {
   "cell_type": "markdown",
   "metadata": {},
   "source": [
    "## Подготовка к расчёту прибыли"
   ]
  },
  {
   "cell_type": "code",
   "execution_count": 32,
   "metadata": {},
   "outputs": [],
   "source": [
    "MEAN_PRED_PRODUCT_0 = 92.40 \n",
    "MEAN_PRED_PRODUCT_1 = 68.71  \n",
    "MEAN_PRED_PRODUCT_2 = 94.77 \n",
    "\n",
    "BUDGET = 10_000_000_000\n",
    "COUNT = 200\n",
    "BAR_PRICE = 450_000"
   ]
  },
  {
   "cell_type": "code",
   "execution_count": 33,
   "metadata": {},
   "outputs": [
    {
     "name": "stdout",
     "output_type": "stream",
     "text": [
      "Объём сырья для безубыточной разработки новой скважины: 111.11\n"
     ]
    }
   ],
   "source": [
    "def min_profit(budget=10_000_000_000, count=200, bar_price=450_000):\n",
    "    return budget / (count * bar_price)\n",
    "print(f'Объём сырья для безубыточной разработки новой скважины: {min_profit():.2f}')"
   ]
  },
  {
   "cell_type": "markdown",
   "metadata": {},
   "source": [
    "**Вывод:** \n",
    "\n",
    "- Нулевой регион: Средний предсказанный запас сырья (92.40 тыс. баррелей) приближен к необходимому объёму. Если предсказанный запас выше необходимого уровня, регион может быть прибыльным, но из-за близости значений есть вероятность, что он может оказаться на грани рентабельности.\n",
    "\n",
    "- Первый регион: Средний предсказанный запас сырья (68.71 тыс. баррелей) значительно ниже необходимого уровня. Этот регион с высокой вероятностью будет убыточным, так как запасы недостаточны для покрытия затрат.\n",
    "\n",
    "- Второй регион: Средний предсказанный запас сырья (94.77 тыс. баррелей) также близок к достаточному объёму, но немного выше. Регион может оказаться прибыльным, однако, как и в случае с нулевым регионом, результаты могут быть на грани рентабельности.\n",
    "\n",
    "Рекомендация: Первый регион возможно придется исключить из сравнения из-за низких запасов сырья. Нулевой и второй регионы можно рассматривать для дальнейшей разработки, но необходимо будет провести дополнительные расчёты."
   ]
  },
  {
   "cell_type": "markdown",
   "metadata": {},
   "source": [
    "## Расчёт прибыли и рисков "
   ]
  },
  {
   "cell_type": "code",
   "execution_count": 34,
   "metadata": {},
   "outputs": [],
   "source": [
    "y_valid_0.reset_index(drop=True, inplace=True)\n",
    "y_pred_0 = pd.Series(y_pred_0)\n",
    "y_vp_0 = pd.DataFrame()\n",
    "y_vp_0['valid'] = y_valid_0\n",
    "y_vp_0['pred'] = y_pred_0"
   ]
  },
  {
   "cell_type": "code",
   "execution_count": 35,
   "metadata": {},
   "outputs": [],
   "source": [
    "y_valid_1.reset_index(drop=True, inplace=True)\n",
    "y_pred_1 = pd.Series(y_pred_1)\n",
    "y_vp_1 = pd.DataFrame()\n",
    "y_vp_1['valid'] = y_valid_1\n",
    "y_vp_1['pred'] = y_pred_1"
   ]
  },
  {
   "cell_type": "code",
   "execution_count": 36,
   "metadata": {},
   "outputs": [],
   "source": [
    "y_valid_2.reset_index(drop=True, inplace=True)\n",
    "y_pred_2 = pd.Series(y_pred_2)\n",
    "y_vp_2 = pd.DataFrame()\n",
    "y_vp_2['valid'] = y_valid_2\n",
    "y_vp_2['pred'] = y_pred_2"
   ]
  },
  {
   "cell_type": "code",
   "execution_count": 37,
   "metadata": {},
   "outputs": [],
   "source": [
    "def profit(y_vp, budget=10_000_000_000, count=200, bar_price=450_000):\n",
    "    y_vp_sorted = y_vp.nlargest(count, 'pred')\n",
    "    total = y_vp_sorted['valid'].sum()\n",
    "    profit_value = total * bar_price - budget\n",
    "    \n",
    "    return profit_value"
   ]
  },
  {
   "cell_type": "code",
   "execution_count": 38,
   "metadata": {
    "scrolled": true
   },
   "outputs": [
    {
     "name": "stdout",
     "output_type": "stream",
     "text": [
      "Прибыль для региона 0: 3359141114.46 рублей\n",
      "Прибыль для региона 1: 2415086696.68 рублей\n",
      "Прибыль для региона 2: 2598571759.37 рублей\n"
     ]
    }
   ],
   "source": [
    "print(f'Прибыль для региона 0: {profit(y_vp=y_vp_0):.2f} рублей')\n",
    "print(f'Прибыль для региона 1: {profit(y_vp=y_vp_1):.2f} рублей')\n",
    "print(f'Прибыль для региона 2: {profit(y_vp=y_vp_2):.2f} рублей')"
   ]
  },
  {
   "cell_type": "code",
   "execution_count": 39,
   "metadata": {},
   "outputs": [],
   "source": [
    "state = np.random.RandomState(12345)\n",
    "\n",
    "def bootstrap_profit(y_vp, n_samples=1000, budget=10_000_000_000, count=200, bar_price=450_000):\n",
    "    profits = []\n",
    "    \n",
    "    for i in range(n_samples):\n",
    "        sample = y_vp.sample(frac=500/len(y_vp), replace=True, random_state=state)\n",
    "        profit_value = profit(sample, budget=budget, count=count, bar_price=bar_price)\n",
    "        profits.append(profit_value)\n",
    "    \n",
    "    return profits\n",
    "\n",
    "bootstrap_profits_0 = bootstrap_profit(y_vp=y_vp_0)\n",
    "bootstrap_profits_1 = bootstrap_profit(y_vp=y_vp_1)\n",
    "bootstrap_profits_2 = bootstrap_profit(y_vp=y_vp_2)"
   ]
  },
  {
   "cell_type": "code",
   "execution_count": 40,
   "metadata": {},
   "outputs": [
    {
     "name": "stdout",
     "output_type": "stream",
     "text": [
      "Регион 0: Средняя прибыль: 406278783.42 руб с ДИ:(-117742136.49486831, 911737050.7514055), Риск убытков: 6.70%\n",
      "Регион 1: Средняя прибыль: 441504277.59 руб с ДИ:(35728489.280851334, 828006639.0043902), Риск убытков: 1.60%\n",
      "Регион 2: Средняя прибыль: 385213195.91 руб с ДИ:(-164785166.1090443, 888206234.1976783), Риск убытков: 7.80%\n"
     ]
    }
   ],
   "source": [
    "def analyze_bootstrap_results(profits):\n",
    "    profits = np.array(profits)\n",
    "    mean_profit = np.mean(profits)\n",
    "    lower_bound = np.quantile(profits, 0.025)\n",
    "    upper_bound = np.quantile(profits, 0.975)\n",
    "    risk_of_loss = np.mean(profits < 0)\n",
    "    \n",
    "    return mean_profit, (lower_bound, upper_bound), risk_of_loss\n",
    "\n",
    "mean_profit_0, conf_interval_0, risk_0 = analyze_bootstrap_results(bootstrap_profits_0)\n",
    "mean_profit_1, conf_interval_1, risk_1 = analyze_bootstrap_results(bootstrap_profits_1)\n",
    "mean_profit_2, conf_interval_2, risk_2 = analyze_bootstrap_results(bootstrap_profits_2)\n",
    "\n",
    "# Вывод результатов\n",
    "print(f\"Регион 0: Средняя прибыль: {mean_profit_0:.2f} руб с ДИ:{conf_interval_0}, Риск убытков: {risk_0:.2%}\")\n",
    "print(f\"Регион 1: Средняя прибыль: {mean_profit_1:.2f} руб с ДИ:{conf_interval_1}, Риск убытков: {risk_1:.2%}\")\n",
    "print(f\"Регион 2: Средняя прибыль: {mean_profit_2:.2f} руб с ДИ:{conf_interval_2}, Риск убытков: {risk_2:.2%}\")"
   ]
  },
  {
   "cell_type": "markdown",
   "metadata": {},
   "source": [
    "**Вывод:** \n",
    "- Нулевой регион:\n",
    "    - Средняя прибыль: 406.28 млн руб\n",
    "    - Доверительный интервал (95%): -117.74 млн руб, 911.74 млн руб\n",
    "    - Риск убытков: 6.70%\n",
    "    \n",
    "    \n",
    "- Первый регион:\n",
    "    - Средняя прибыль: 441.50 млн руб\n",
    "    - Доверительный интервал (95%): 35.73 млн руб, 828.01 млн руб\n",
    "    - Риск убытков: 1.60%\n",
    "    \n",
    "    \n",
    "- Второй регион:\n",
    "    - Средняя прибыль: 385.21 млн руб\n",
    "    - Доверительный интервал (95%): -164.79 млн руб, 888.21 млн руб\n",
    "    - Риск убытков: 7.80%\n",
    "    \n",
    "\n",
    "Рекомендации: предлагается выбрать первый регион для разработки скважин. Он характеризуется наименьшим риском убытков (1.60%) и полностью положительным доверительным интервалом, что свидетельствует о стабильных и предсказуемых доходах. Средняя прибыль в этом регионе также выше остальных (441.50 млн руб), что делает его наиболее привлекательным для инвестиций.\n",
    "\n",
    "Общие рекомендации\n",
    "Рекомендуемый регион для разработки: Регион 1\n",
    "\n",
    "Обоснование: Регион 1 имеет наибольшую среднюю прибыль и самый низкий риск убытков. Его доверительный интервал не включает отрицательных значений, что свидетельствует о надежности и предсказуемости прибыли. Это делает его наилучшим вариантом для инвестирования и разработки скважин, обеспечивая наибольшую уверенность в финансовой отдаче."
   ]
  }
 ],
 "metadata": {
  "ExecuteTimeLog": [
   {
    "duration": 1109,
    "start_time": "2024-08-12T07:58:12.499Z"
   },
   {
    "duration": 47,
    "start_time": "2024-08-12T07:58:38.046Z"
   },
   {
    "duration": 3,
    "start_time": "2024-08-12T07:58:44.382Z"
   },
   {
    "duration": 497,
    "start_time": "2024-08-12T08:01:10.065Z"
   },
   {
    "duration": 3,
    "start_time": "2024-08-12T08:01:22.662Z"
   },
   {
    "duration": 1837,
    "start_time": "2024-08-12T08:02:07.976Z"
   },
   {
    "duration": 25,
    "start_time": "2024-08-12T08:02:27.320Z"
   },
   {
    "duration": 20,
    "start_time": "2024-08-12T08:03:10.910Z"
   },
   {
    "duration": 20,
    "start_time": "2024-08-12T08:03:13.151Z"
   },
   {
    "duration": 10,
    "start_time": "2024-08-12T08:10:29.877Z"
   },
   {
    "duration": 45,
    "start_time": "2024-08-12T08:10:30.960Z"
   },
   {
    "duration": 47,
    "start_time": "2024-08-12T08:11:10.804Z"
   },
   {
    "duration": 50,
    "start_time": "2024-08-12T08:11:22.525Z"
   },
   {
    "duration": 45,
    "start_time": "2024-08-12T08:11:44.814Z"
   },
   {
    "duration": 49,
    "start_time": "2024-08-12T08:11:45.420Z"
   },
   {
    "duration": 5,
    "start_time": "2024-08-12T08:14:46.041Z"
   },
   {
    "duration": 17,
    "start_time": "2024-08-12T08:14:54.769Z"
   },
   {
    "duration": 49,
    "start_time": "2024-08-12T08:15:23.682Z"
   },
   {
    "duration": 49,
    "start_time": "2024-08-12T08:15:31.031Z"
   },
   {
    "duration": 50,
    "start_time": "2024-08-12T08:15:43.614Z"
   },
   {
    "duration": 55,
    "start_time": "2024-08-12T08:15:53.086Z"
   },
   {
    "duration": 49,
    "start_time": "2024-08-12T08:15:53.641Z"
   },
   {
    "duration": 50,
    "start_time": "2024-08-12T08:15:54.191Z"
   },
   {
    "duration": 51,
    "start_time": "2024-08-12T08:16:01.315Z"
   },
   {
    "duration": 4,
    "start_time": "2024-08-12T08:16:07.849Z"
   },
   {
    "duration": 14,
    "start_time": "2024-08-12T08:16:08.478Z"
   },
   {
    "duration": 5,
    "start_time": "2024-08-12T08:16:17.743Z"
   },
   {
    "duration": 4,
    "start_time": "2024-08-12T08:16:28.596Z"
   },
   {
    "duration": 1586,
    "start_time": "2024-08-12T08:16:29.502Z"
   },
   {
    "duration": 1497,
    "start_time": "2024-08-12T08:17:16.361Z"
   },
   {
    "duration": 1430,
    "start_time": "2024-08-12T08:17:17.860Z"
   },
   {
    "duration": 2,
    "start_time": "2024-08-12T08:17:56.322Z"
   },
   {
    "duration": 2,
    "start_time": "2024-08-12T08:20:29.246Z"
   },
   {
    "duration": 49,
    "start_time": "2024-08-13T07:56:34.316Z"
   },
   {
    "duration": 1605,
    "start_time": "2024-08-13T07:57:32.149Z"
   },
   {
    "duration": 985,
    "start_time": "2024-08-13T07:57:33.756Z"
   },
   {
    "duration": 25,
    "start_time": "2024-08-13T07:57:34.743Z"
   },
   {
    "duration": 22,
    "start_time": "2024-08-13T07:57:34.769Z"
   },
   {
    "duration": 20,
    "start_time": "2024-08-13T07:57:34.793Z"
   },
   {
    "duration": 78,
    "start_time": "2024-08-13T07:57:34.815Z"
   },
   {
    "duration": 50,
    "start_time": "2024-08-13T07:57:34.894Z"
   },
   {
    "duration": 57,
    "start_time": "2024-08-13T07:57:34.960Z"
   },
   {
    "duration": 4,
    "start_time": "2024-08-13T07:57:35.019Z"
   },
   {
    "duration": 1656,
    "start_time": "2024-08-13T07:57:35.025Z"
   },
   {
    "duration": 1510,
    "start_time": "2024-08-13T07:57:36.682Z"
   },
   {
    "duration": 1492,
    "start_time": "2024-08-13T07:57:38.194Z"
   },
   {
    "duration": 3,
    "start_time": "2024-08-13T07:57:39.688Z"
   },
   {
    "duration": 111,
    "start_time": "2024-08-13T07:59:27.053Z"
   },
   {
    "duration": 8,
    "start_time": "2024-08-13T08:17:08.695Z"
   },
   {
    "duration": 3,
    "start_time": "2024-08-13T08:17:11.042Z"
   },
   {
    "duration": 19,
    "start_time": "2024-08-13T10:00:47.014Z"
   },
   {
    "duration": 13,
    "start_time": "2024-08-13T10:04:18.123Z"
   },
   {
    "duration": 11,
    "start_time": "2024-08-13T10:04:32.468Z"
   },
   {
    "duration": 1356,
    "start_time": "2024-08-13T10:04:39.799Z"
   },
   {
    "duration": 389,
    "start_time": "2024-08-13T10:04:41.157Z"
   },
   {
    "duration": 27,
    "start_time": "2024-08-13T10:04:41.548Z"
   },
   {
    "duration": 19,
    "start_time": "2024-08-13T10:04:41.576Z"
   },
   {
    "duration": 21,
    "start_time": "2024-08-13T10:04:41.597Z"
   },
   {
    "duration": 73,
    "start_time": "2024-08-13T10:04:41.619Z"
   },
   {
    "duration": 49,
    "start_time": "2024-08-13T10:04:41.694Z"
   },
   {
    "duration": 62,
    "start_time": "2024-08-13T10:04:41.744Z"
   },
   {
    "duration": 5,
    "start_time": "2024-08-13T10:04:41.807Z"
   },
   {
    "duration": 1599,
    "start_time": "2024-08-13T10:04:41.813Z"
   },
   {
    "duration": 1544,
    "start_time": "2024-08-13T10:04:43.413Z"
   },
   {
    "duration": 1586,
    "start_time": "2024-08-13T10:04:44.959Z"
   },
   {
    "duration": 7,
    "start_time": "2024-08-13T10:04:46.546Z"
   },
   {
    "duration": 10,
    "start_time": "2024-08-13T10:04:46.560Z"
   },
   {
    "duration": 29,
    "start_time": "2024-08-13T10:04:46.571Z"
   },
   {
    "duration": 115,
    "start_time": "2024-08-13T10:04:46.602Z"
   },
   {
    "duration": 11,
    "start_time": "2024-08-13T10:05:50.003Z"
   },
   {
    "duration": 11,
    "start_time": "2024-08-13T10:07:27.829Z"
   },
   {
    "duration": 4,
    "start_time": "2024-08-13T10:07:46.464Z"
   },
   {
    "duration": 3,
    "start_time": "2024-08-13T10:07:51.439Z"
   },
   {
    "duration": 20,
    "start_time": "2024-08-13T10:07:53.906Z"
   },
   {
    "duration": 2796,
    "start_time": "2024-08-13T10:07:57.971Z"
   },
   {
    "duration": 11,
    "start_time": "2024-08-13T10:09:11.986Z"
   },
   {
    "duration": 10,
    "start_time": "2024-08-13T10:09:26.762Z"
   },
   {
    "duration": 5,
    "start_time": "2024-08-13T10:09:36.554Z"
   },
   {
    "duration": 11,
    "start_time": "2024-08-13T10:09:53.872Z"
   },
   {
    "duration": 3,
    "start_time": "2024-08-13T10:14:05.887Z"
   },
   {
    "duration": 10,
    "start_time": "2024-08-13T10:14:06.527Z"
   },
   {
    "duration": 3,
    "start_time": "2024-08-13T10:14:06.868Z"
   },
   {
    "duration": 2241,
    "start_time": "2024-08-13T10:14:07.331Z"
   },
   {
    "duration": 2160,
    "start_time": "2024-08-13T10:14:56.902Z"
   },
   {
    "duration": 16,
    "start_time": "2024-08-13T10:15:25.501Z"
   },
   {
    "duration": 18,
    "start_time": "2024-08-13T10:16:19.661Z"
   },
   {
    "duration": 11,
    "start_time": "2024-08-13T10:17:12.188Z"
   },
   {
    "duration": 13,
    "start_time": "2024-08-13T10:17:12.321Z"
   },
   {
    "duration": 12,
    "start_time": "2024-08-13T10:17:37.654Z"
   },
   {
    "duration": 13,
    "start_time": "2024-08-13T10:17:37.893Z"
   },
   {
    "duration": 6,
    "start_time": "2024-08-13T10:18:36.840Z"
   },
   {
    "duration": 12,
    "start_time": "2024-08-13T10:18:40.356Z"
   },
   {
    "duration": 9,
    "start_time": "2024-08-13T10:18:40.852Z"
   },
   {
    "duration": 11,
    "start_time": "2024-08-13T10:18:41.352Z"
   },
   {
    "duration": 9,
    "start_time": "2024-08-13T10:18:56.550Z"
   },
   {
    "duration": 11,
    "start_time": "2024-08-13T10:18:56.825Z"
   },
   {
    "duration": 9,
    "start_time": "2024-08-13T10:18:57.031Z"
   },
   {
    "duration": 3147,
    "start_time": "2024-08-13T10:43:06.934Z"
   },
   {
    "duration": 407,
    "start_time": "2024-08-13T10:43:10.083Z"
   },
   {
    "duration": 26,
    "start_time": "2024-08-13T10:43:10.491Z"
   },
   {
    "duration": 21,
    "start_time": "2024-08-13T10:43:10.518Z"
   },
   {
    "duration": 21,
    "start_time": "2024-08-13T10:43:10.560Z"
   },
   {
    "duration": 56,
    "start_time": "2024-08-13T10:43:10.583Z"
   },
   {
    "duration": 67,
    "start_time": "2024-08-13T10:43:10.641Z"
   },
   {
    "duration": 73,
    "start_time": "2024-08-13T10:43:10.710Z"
   },
   {
    "duration": 4,
    "start_time": "2024-08-13T10:43:10.785Z"
   },
   {
    "duration": 1531,
    "start_time": "2024-08-13T10:43:10.791Z"
   },
   {
    "duration": 1549,
    "start_time": "2024-08-13T10:43:12.324Z"
   },
   {
    "duration": 1581,
    "start_time": "2024-08-13T10:43:13.875Z"
   },
   {
    "duration": 7,
    "start_time": "2024-08-13T10:43:15.461Z"
   },
   {
    "duration": 8,
    "start_time": "2024-08-13T10:43:15.471Z"
   },
   {
    "duration": 13,
    "start_time": "2024-08-13T10:43:15.481Z"
   },
   {
    "duration": 13,
    "start_time": "2024-08-13T10:43:15.495Z"
   },
   {
    "duration": 12,
    "start_time": "2024-08-13T10:43:15.510Z"
   },
   {
    "duration": 4,
    "start_time": "2024-08-13T10:43:15.523Z"
   },
   {
    "duration": 2240,
    "start_time": "2024-08-13T10:43:15.528Z"
   },
   {
    "duration": 6,
    "start_time": "2024-08-13T10:43:17.769Z"
   },
   {
    "duration": 18,
    "start_time": "2024-08-13T10:43:17.777Z"
   },
   {
    "duration": 166,
    "start_time": "2024-08-13T10:43:17.797Z"
   },
   {
    "duration": 100,
    "start_time": "2024-08-13T10:43:17.966Z"
   },
   {
    "duration": 2201,
    "start_time": "2024-08-13T10:43:18.068Z"
   },
   {
    "duration": 7,
    "start_time": "2024-08-13T10:43:20.272Z"
   },
   {
    "duration": 88,
    "start_time": "2024-08-13T10:43:20.282Z"
   },
   {
    "duration": 64,
    "start_time": "2024-08-13T10:43:32.803Z"
   },
   {
    "duration": 2167,
    "start_time": "2024-08-13T10:44:26.000Z"
   },
   {
    "duration": 7,
    "start_time": "2024-08-13T10:44:28.168Z"
   },
   {
    "duration": 95,
    "start_time": "2024-08-13T10:44:28.176Z"
   },
   {
    "duration": 2,
    "start_time": "2024-08-13T10:46:30.458Z"
   },
   {
    "duration": 1567,
    "start_time": "2024-08-13T10:47:14.840Z"
   },
   {
    "duration": 405,
    "start_time": "2024-08-13T10:47:16.408Z"
   },
   {
    "duration": 25,
    "start_time": "2024-08-13T10:47:16.814Z"
   },
   {
    "duration": 28,
    "start_time": "2024-08-13T10:47:16.840Z"
   },
   {
    "duration": 21,
    "start_time": "2024-08-13T10:47:16.870Z"
   },
   {
    "duration": 88,
    "start_time": "2024-08-13T10:47:16.893Z"
   },
   {
    "duration": 53,
    "start_time": "2024-08-13T10:47:16.983Z"
   },
   {
    "duration": 74,
    "start_time": "2024-08-13T10:47:17.038Z"
   },
   {
    "duration": 5,
    "start_time": "2024-08-13T10:47:17.114Z"
   },
   {
    "duration": 1511,
    "start_time": "2024-08-13T10:47:17.120Z"
   },
   {
    "duration": 1581,
    "start_time": "2024-08-13T10:47:18.633Z"
   },
   {
    "duration": 1521,
    "start_time": "2024-08-13T10:47:20.216Z"
   },
   {
    "duration": 8,
    "start_time": "2024-08-13T10:47:21.739Z"
   },
   {
    "duration": 14,
    "start_time": "2024-08-13T10:47:21.760Z"
   },
   {
    "duration": 28,
    "start_time": "2024-08-13T10:47:21.776Z"
   },
   {
    "duration": 35,
    "start_time": "2024-08-13T10:47:21.806Z"
   },
   {
    "duration": 2126,
    "start_time": "2024-08-13T10:47:21.843Z"
   },
   {
    "duration": 6,
    "start_time": "2024-08-13T10:47:23.970Z"
   },
   {
    "duration": 286,
    "start_time": "2024-08-13T10:47:23.978Z"
   },
   {
    "duration": 0,
    "start_time": "2024-08-13T10:47:24.265Z"
   },
   {
    "duration": 0,
    "start_time": "2024-08-13T10:47:24.267Z"
   },
   {
    "duration": 0,
    "start_time": "2024-08-13T10:47:24.267Z"
   },
   {
    "duration": 0,
    "start_time": "2024-08-13T10:47:24.269Z"
   },
   {
    "duration": 0,
    "start_time": "2024-08-13T10:47:24.270Z"
   },
   {
    "duration": 0,
    "start_time": "2024-08-13T10:47:24.271Z"
   },
   {
    "duration": 0,
    "start_time": "2024-08-13T10:47:24.272Z"
   },
   {
    "duration": 0,
    "start_time": "2024-08-13T10:47:24.273Z"
   },
   {
    "duration": 1473,
    "start_time": "2024-08-13T10:48:20.277Z"
   },
   {
    "duration": 428,
    "start_time": "2024-08-13T10:48:21.752Z"
   },
   {
    "duration": 26,
    "start_time": "2024-08-13T10:48:22.182Z"
   },
   {
    "duration": 23,
    "start_time": "2024-08-13T10:48:22.210Z"
   },
   {
    "duration": 45,
    "start_time": "2024-08-13T10:48:22.236Z"
   },
   {
    "duration": 62,
    "start_time": "2024-08-13T10:48:22.283Z"
   },
   {
    "duration": 51,
    "start_time": "2024-08-13T10:48:22.361Z"
   },
   {
    "duration": 73,
    "start_time": "2024-08-13T10:48:22.414Z"
   },
   {
    "duration": 6,
    "start_time": "2024-08-13T10:48:22.489Z"
   },
   {
    "duration": 1532,
    "start_time": "2024-08-13T10:48:22.496Z"
   },
   {
    "duration": 1524,
    "start_time": "2024-08-13T10:48:24.030Z"
   },
   {
    "duration": 1532,
    "start_time": "2024-08-13T10:48:25.556Z"
   },
   {
    "duration": 7,
    "start_time": "2024-08-13T10:48:27.090Z"
   },
   {
    "duration": 3,
    "start_time": "2024-08-13T10:48:27.100Z"
   },
   {
    "duration": 20,
    "start_time": "2024-08-13T10:48:27.104Z"
   },
   {
    "duration": 19,
    "start_time": "2024-08-13T10:48:27.125Z"
   },
   {
    "duration": 15,
    "start_time": "2024-08-13T10:48:27.146Z"
   },
   {
    "duration": 18,
    "start_time": "2024-08-13T10:48:27.163Z"
   },
   {
    "duration": 2081,
    "start_time": "2024-08-13T10:48:27.183Z"
   },
   {
    "duration": 6,
    "start_time": "2024-08-13T10:48:29.265Z"
   },
   {
    "duration": 193,
    "start_time": "2024-08-13T10:48:29.272Z"
   },
   {
    "duration": 2304,
    "start_time": "2024-08-13T10:48:29.467Z"
   },
   {
    "duration": 6,
    "start_time": "2024-08-13T10:48:31.772Z"
   },
   {
    "duration": 183,
    "start_time": "2024-08-13T10:48:31.779Z"
   },
   {
    "duration": 2200,
    "start_time": "2024-08-13T10:48:31.965Z"
   },
   {
    "duration": 7,
    "start_time": "2024-08-13T10:48:34.166Z"
   },
   {
    "duration": 187,
    "start_time": "2024-08-13T10:48:34.174Z"
   },
   {
    "duration": 188,
    "start_time": "2024-08-13T10:56:13.972Z"
   },
   {
    "duration": 48,
    "start_time": "2024-08-13T10:56:26.018Z"
   },
   {
    "duration": 22,
    "start_time": "2024-08-13T10:56:40.045Z"
   },
   {
    "duration": 51,
    "start_time": "2024-08-13T10:56:45.917Z"
   },
   {
    "duration": 24,
    "start_time": "2024-08-13T10:57:36.248Z"
   },
   {
    "duration": 68,
    "start_time": "2024-08-13T10:57:44.097Z"
   },
   {
    "duration": 85,
    "start_time": "2024-08-13T10:57:46.582Z"
   },
   {
    "duration": 109,
    "start_time": "2024-08-13T10:57:49.862Z"
   },
   {
    "duration": 103,
    "start_time": "2024-08-13T10:57:52.863Z"
   },
   {
    "duration": 196,
    "start_time": "2024-08-13T10:58:26.165Z"
   },
   {
    "duration": 289,
    "start_time": "2024-08-13T10:59:51.773Z"
   },
   {
    "duration": 35,
    "start_time": "2024-08-13T11:00:09.329Z"
   },
   {
    "duration": 35,
    "start_time": "2024-08-13T11:00:20.030Z"
   },
   {
    "duration": 61,
    "start_time": "2024-08-13T11:02:17.912Z"
   },
   {
    "duration": 34,
    "start_time": "2024-08-13T11:03:04.828Z"
   },
   {
    "duration": 5,
    "start_time": "2024-08-13T12:03:46.057Z"
   },
   {
    "duration": 6,
    "start_time": "2024-08-13T12:03:54.546Z"
   },
   {
    "duration": 3,
    "start_time": "2024-08-13T12:08:00.126Z"
   },
   {
    "duration": 4,
    "start_time": "2024-08-13T12:08:57.981Z"
   },
   {
    "duration": 3,
    "start_time": "2024-08-13T12:09:24.201Z"
   },
   {
    "duration": 3,
    "start_time": "2024-08-13T12:09:34.396Z"
   },
   {
    "duration": 4,
    "start_time": "2024-08-13T12:16:26.109Z"
   },
   {
    "duration": 3,
    "start_time": "2024-08-13T12:16:26.736Z"
   },
   {
    "duration": 4,
    "start_time": "2024-08-13T12:16:48.140Z"
   },
   {
    "duration": 4,
    "start_time": "2024-08-13T12:16:51.102Z"
   },
   {
    "duration": 3,
    "start_time": "2024-08-13T12:16:51.473Z"
   },
   {
    "duration": 3,
    "start_time": "2024-08-13T12:19:02.103Z"
   },
   {
    "duration": 5,
    "start_time": "2024-08-13T12:19:24.033Z"
   },
   {
    "duration": 4,
    "start_time": "2024-08-13T12:19:48.431Z"
   },
   {
    "duration": 3,
    "start_time": "2024-08-13T12:19:56.175Z"
   },
   {
    "duration": 3,
    "start_time": "2024-08-13T12:19:56.467Z"
   },
   {
    "duration": 3,
    "start_time": "2024-08-13T12:20:32.847Z"
   },
   {
    "duration": 5,
    "start_time": "2024-08-13T12:20:33.040Z"
   },
   {
    "duration": 5,
    "start_time": "2024-08-13T12:30:12.123Z"
   },
   {
    "duration": 3,
    "start_time": "2024-08-13T12:30:17.787Z"
   },
   {
    "duration": 5,
    "start_time": "2024-08-13T12:30:35.755Z"
   },
   {
    "duration": 5,
    "start_time": "2024-08-13T12:30:48.966Z"
   },
   {
    "duration": 6,
    "start_time": "2024-08-13T12:30:49.484Z"
   },
   {
    "duration": 1448,
    "start_time": "2024-08-13T12:31:51.768Z"
   },
   {
    "duration": 425,
    "start_time": "2024-08-13T12:31:53.217Z"
   },
   {
    "duration": 28,
    "start_time": "2024-08-13T12:31:53.643Z"
   },
   {
    "duration": 20,
    "start_time": "2024-08-13T12:31:53.673Z"
   },
   {
    "duration": 20,
    "start_time": "2024-08-13T12:31:53.695Z"
   },
   {
    "duration": 86,
    "start_time": "2024-08-13T12:31:53.717Z"
   },
   {
    "duration": 61,
    "start_time": "2024-08-13T12:31:53.805Z"
   },
   {
    "duration": 55,
    "start_time": "2024-08-13T12:31:53.867Z"
   },
   {
    "duration": 5,
    "start_time": "2024-08-13T12:31:53.923Z"
   },
   {
    "duration": 1558,
    "start_time": "2024-08-13T12:31:53.930Z"
   },
   {
    "duration": 1614,
    "start_time": "2024-08-13T12:31:55.490Z"
   },
   {
    "duration": 1519,
    "start_time": "2024-08-13T12:31:57.106Z"
   },
   {
    "duration": 7,
    "start_time": "2024-08-13T12:31:58.627Z"
   },
   {
    "duration": 5,
    "start_time": "2024-08-13T12:31:58.636Z"
   },
   {
    "duration": 20,
    "start_time": "2024-08-13T12:31:58.642Z"
   },
   {
    "duration": 24,
    "start_time": "2024-08-13T12:31:58.664Z"
   },
   {
    "duration": 14,
    "start_time": "2024-08-13T12:31:58.689Z"
   },
   {
    "duration": 13,
    "start_time": "2024-08-13T12:31:58.704Z"
   },
   {
    "duration": 4,
    "start_time": "2024-08-13T12:31:58.719Z"
   },
   {
    "duration": 2146,
    "start_time": "2024-08-13T12:31:58.724Z"
   },
   {
    "duration": 6,
    "start_time": "2024-08-13T12:32:00.871Z"
   },
   {
    "duration": 208,
    "start_time": "2024-08-13T12:32:00.879Z"
   },
   {
    "duration": 2198,
    "start_time": "2024-08-13T12:32:01.167Z"
   },
   {
    "duration": 6,
    "start_time": "2024-08-13T12:32:03.366Z"
   },
   {
    "duration": 49,
    "start_time": "2024-08-13T12:32:03.373Z"
   },
   {
    "duration": 2142,
    "start_time": "2024-08-13T12:32:03.424Z"
   },
   {
    "duration": 7,
    "start_time": "2024-08-13T12:32:05.567Z"
   },
   {
    "duration": 86,
    "start_time": "2024-08-13T12:32:05.578Z"
   },
   {
    "duration": 94,
    "start_time": "2024-08-13T12:32:05.667Z"
   },
   {
    "duration": 6,
    "start_time": "2024-08-13T12:32:05.763Z"
   },
   {
    "duration": 8,
    "start_time": "2024-08-13T12:32:05.771Z"
   },
   {
    "duration": 4,
    "start_time": "2024-08-13T12:32:05.782Z"
   },
   {
    "duration": 18,
    "start_time": "2024-08-13T12:32:05.787Z"
   },
   {
    "duration": 172,
    "start_time": "2024-08-13T12:32:05.807Z"
   },
   {
    "duration": 9,
    "start_time": "2024-08-13T12:33:03.420Z"
   },
   {
    "duration": 4,
    "start_time": "2024-08-13T12:33:14.701Z"
   },
   {
    "duration": 13,
    "start_time": "2024-08-13T12:34:21.987Z"
   },
   {
    "duration": 12,
    "start_time": "2024-08-13T12:35:09.975Z"
   },
   {
    "duration": 11,
    "start_time": "2024-08-13T12:35:20.095Z"
   },
   {
    "duration": 11,
    "start_time": "2024-08-13T12:35:31.529Z"
   },
   {
    "duration": 3,
    "start_time": "2024-08-13T12:35:33.812Z"
   },
   {
    "duration": 4,
    "start_time": "2024-08-13T12:35:34.474Z"
   },
   {
    "duration": 8,
    "start_time": "2024-08-13T12:35:34.481Z"
   },
   {
    "duration": 9,
    "start_time": "2024-08-13T12:35:38.095Z"
   },
   {
    "duration": 4,
    "start_time": "2024-08-13T12:35:40.749Z"
   },
   {
    "duration": 5,
    "start_time": "2024-08-13T12:35:44.872Z"
   },
   {
    "duration": 4,
    "start_time": "2024-08-13T12:35:48.897Z"
   },
   {
    "duration": 13,
    "start_time": "2024-08-13T12:35:52.227Z"
   },
   {
    "duration": 20,
    "start_time": "2024-08-13T12:36:01.428Z"
   },
   {
    "duration": 21,
    "start_time": "2024-08-13T12:37:30.221Z"
   },
   {
    "duration": 19,
    "start_time": "2024-08-13T12:41:31.787Z"
   },
   {
    "duration": 19,
    "start_time": "2024-08-13T12:42:38.391Z"
   },
   {
    "duration": 5,
    "start_time": "2024-08-13T12:44:29.695Z"
   },
   {
    "duration": 9,
    "start_time": "2024-08-13T12:44:57.725Z"
   },
   {
    "duration": 20,
    "start_time": "2024-08-13T12:45:04.734Z"
   },
   {
    "duration": 11,
    "start_time": "2024-08-13T12:48:13.845Z"
   },
   {
    "duration": 12,
    "start_time": "2024-08-13T12:48:29.119Z"
   },
   {
    "duration": 7,
    "start_time": "2024-08-13T13:10:13.678Z"
   },
   {
    "duration": 14,
    "start_time": "2024-08-13T13:10:29.987Z"
   },
   {
    "duration": 7,
    "start_time": "2024-08-13T13:20:15.167Z"
   },
   {
    "duration": 6,
    "start_time": "2024-08-13T13:21:12.028Z"
   },
   {
    "duration": 7,
    "start_time": "2024-08-13T13:21:12.390Z"
   },
   {
    "duration": 6,
    "start_time": "2024-08-13T13:21:33.350Z"
   },
   {
    "duration": 6,
    "start_time": "2024-08-13T13:21:38.398Z"
   },
   {
    "duration": 8,
    "start_time": "2024-08-13T13:21:46.115Z"
   },
   {
    "duration": 9,
    "start_time": "2024-08-13T13:22:32.381Z"
   },
   {
    "duration": 8,
    "start_time": "2024-08-13T13:22:32.623Z"
   },
   {
    "duration": 7,
    "start_time": "2024-08-13T13:24:38.509Z"
   },
   {
    "duration": 10,
    "start_time": "2024-08-13T13:25:01.552Z"
   },
   {
    "duration": 9,
    "start_time": "2024-08-13T13:25:01.737Z"
   },
   {
    "duration": 16,
    "start_time": "2024-08-13T13:25:37.244Z"
   },
   {
    "duration": 11,
    "start_time": "2024-08-13T13:25:47.674Z"
   },
   {
    "duration": 13,
    "start_time": "2024-08-13T13:25:51.739Z"
   },
   {
    "duration": 9,
    "start_time": "2024-08-13T13:25:59.767Z"
   },
   {
    "duration": 7,
    "start_time": "2024-08-13T13:26:22.221Z"
   },
   {
    "duration": 8,
    "start_time": "2024-08-13T13:26:28.749Z"
   },
   {
    "duration": 7,
    "start_time": "2024-08-13T13:27:01.561Z"
   },
   {
    "duration": 7,
    "start_time": "2024-08-13T13:28:16.709Z"
   },
   {
    "duration": 4,
    "start_time": "2024-08-13T13:28:52.039Z"
   },
   {
    "duration": 7,
    "start_time": "2024-08-13T13:29:36.635Z"
   },
   {
    "duration": 7,
    "start_time": "2024-08-13T13:29:55.457Z"
   },
   {
    "duration": 1370,
    "start_time": "2024-08-13T13:30:39.992Z"
   },
   {
    "duration": 400,
    "start_time": "2024-08-13T13:30:41.364Z"
   },
   {
    "duration": 24,
    "start_time": "2024-08-13T13:30:41.766Z"
   },
   {
    "duration": 23,
    "start_time": "2024-08-13T13:30:41.792Z"
   },
   {
    "duration": 22,
    "start_time": "2024-08-13T13:30:41.817Z"
   },
   {
    "duration": 70,
    "start_time": "2024-08-13T13:30:41.840Z"
   },
   {
    "duration": 75,
    "start_time": "2024-08-13T13:30:41.912Z"
   },
   {
    "duration": 74,
    "start_time": "2024-08-13T13:30:41.989Z"
   },
   {
    "duration": 4,
    "start_time": "2024-08-13T13:30:42.065Z"
   },
   {
    "duration": 1545,
    "start_time": "2024-08-13T13:30:42.071Z"
   },
   {
    "duration": 1529,
    "start_time": "2024-08-13T13:30:43.618Z"
   },
   {
    "duration": 1529,
    "start_time": "2024-08-13T13:30:45.148Z"
   },
   {
    "duration": 8,
    "start_time": "2024-08-13T13:30:46.679Z"
   },
   {
    "duration": 8,
    "start_time": "2024-08-13T13:30:46.690Z"
   },
   {
    "duration": 9,
    "start_time": "2024-08-13T13:30:46.699Z"
   },
   {
    "duration": 18,
    "start_time": "2024-08-13T13:30:46.710Z"
   },
   {
    "duration": 44,
    "start_time": "2024-08-13T13:30:46.729Z"
   },
   {
    "duration": 14,
    "start_time": "2024-08-13T13:30:46.774Z"
   },
   {
    "duration": 4,
    "start_time": "2024-08-13T13:30:46.790Z"
   },
   {
    "duration": 2078,
    "start_time": "2024-08-13T13:30:46.795Z"
   },
   {
    "duration": 6,
    "start_time": "2024-08-13T13:30:48.875Z"
   },
   {
    "duration": 26,
    "start_time": "2024-08-13T13:30:48.882Z"
   },
   {
    "duration": 2155,
    "start_time": "2024-08-13T13:30:48.910Z"
   },
   {
    "duration": 5,
    "start_time": "2024-08-13T13:30:51.067Z"
   },
   {
    "duration": 14,
    "start_time": "2024-08-13T13:30:51.074Z"
   },
   {
    "duration": 2279,
    "start_time": "2024-08-13T13:30:51.090Z"
   },
   {
    "duration": 7,
    "start_time": "2024-08-13T13:30:53.370Z"
   },
   {
    "duration": 19,
    "start_time": "2024-08-13T13:30:53.378Z"
   },
   {
    "duration": 74,
    "start_time": "2024-08-13T13:30:53.399Z"
   },
   {
    "duration": 98,
    "start_time": "2024-08-13T13:30:53.475Z"
   },
   {
    "duration": 108,
    "start_time": "2024-08-13T13:30:53.574Z"
   },
   {
    "duration": 13,
    "start_time": "2024-08-13T13:31:14.771Z"
   },
   {
    "duration": 4,
    "start_time": "2024-08-13T13:32:10.458Z"
   },
   {
    "duration": 14,
    "start_time": "2024-08-13T13:32:12.587Z"
   },
   {
    "duration": 28,
    "start_time": "2024-08-13T13:33:55.210Z"
   },
   {
    "duration": 8714,
    "start_time": "2024-08-13T13:36:04.963Z"
   },
   {
    "duration": 9299,
    "start_time": "2024-08-13T13:39:33.679Z"
   },
   {
    "duration": 8685,
    "start_time": "2024-08-13T13:39:50.988Z"
   },
   {
    "duration": 8610,
    "start_time": "2024-08-13T13:42:02.234Z"
   },
   {
    "duration": 1432,
    "start_time": "2024-08-13T14:51:07.432Z"
   },
   {
    "duration": 407,
    "start_time": "2024-08-13T14:51:08.866Z"
   },
   {
    "duration": 24,
    "start_time": "2024-08-13T14:51:09.274Z"
   },
   {
    "duration": 20,
    "start_time": "2024-08-13T14:51:09.300Z"
   },
   {
    "duration": 39,
    "start_time": "2024-08-13T14:51:09.322Z"
   },
   {
    "duration": 53,
    "start_time": "2024-08-13T14:51:09.363Z"
   },
   {
    "duration": 66,
    "start_time": "2024-08-13T14:51:09.418Z"
   },
   {
    "duration": 52,
    "start_time": "2024-08-13T14:51:09.485Z"
   },
   {
    "duration": 22,
    "start_time": "2024-08-13T14:51:09.539Z"
   },
   {
    "duration": 1543,
    "start_time": "2024-08-13T14:51:09.563Z"
   },
   {
    "duration": 1617,
    "start_time": "2024-08-13T14:51:11.108Z"
   },
   {
    "duration": 1507,
    "start_time": "2024-08-13T14:51:12.727Z"
   },
   {
    "duration": 7,
    "start_time": "2024-08-13T14:51:14.236Z"
   },
   {
    "duration": 15,
    "start_time": "2024-08-13T14:51:14.246Z"
   },
   {
    "duration": 21,
    "start_time": "2024-08-13T14:51:14.262Z"
   },
   {
    "duration": 20,
    "start_time": "2024-08-13T14:51:14.284Z"
   },
   {
    "duration": 14,
    "start_time": "2024-08-13T14:51:14.305Z"
   },
   {
    "duration": 13,
    "start_time": "2024-08-13T14:51:14.321Z"
   },
   {
    "duration": 5,
    "start_time": "2024-08-13T14:51:14.335Z"
   },
   {
    "duration": 2333,
    "start_time": "2024-08-13T14:51:14.341Z"
   },
   {
    "duration": 6,
    "start_time": "2024-08-13T14:51:16.676Z"
   },
   {
    "duration": 82,
    "start_time": "2024-08-13T14:51:16.684Z"
   },
   {
    "duration": 2101,
    "start_time": "2024-08-13T14:51:16.767Z"
   },
   {
    "duration": 7,
    "start_time": "2024-08-13T14:51:18.869Z"
   },
   {
    "duration": 91,
    "start_time": "2024-08-13T14:51:18.878Z"
   },
   {
    "duration": 2196,
    "start_time": "2024-08-13T14:51:18.975Z"
   },
   {
    "duration": 7,
    "start_time": "2024-08-13T14:51:21.172Z"
   },
   {
    "duration": 13,
    "start_time": "2024-08-13T14:51:21.181Z"
   },
   {
    "duration": 71,
    "start_time": "2024-08-13T14:51:21.196Z"
   },
   {
    "duration": 91,
    "start_time": "2024-08-13T14:51:21.271Z"
   },
   {
    "duration": 15,
    "start_time": "2024-08-13T14:51:21.364Z"
   },
   {
    "duration": 25,
    "start_time": "2024-08-13T14:51:21.381Z"
   },
   {
    "duration": 8958,
    "start_time": "2024-08-13T15:09:13.348Z"
   },
   {
    "duration": 16,
    "start_time": "2024-08-13T15:09:48.374Z"
   },
   {
    "duration": 10439,
    "start_time": "2024-08-13T15:14:02.140Z"
   },
   {
    "duration": 9869,
    "start_time": "2024-08-13T15:16:52.948Z"
   },
   {
    "duration": 16,
    "start_time": "2024-08-13T15:18:15.728Z"
   },
   {
    "duration": 9909,
    "start_time": "2024-08-13T15:18:27.056Z"
   },
   {
    "duration": 9,
    "start_time": "2024-08-13T15:20:25.630Z"
   },
   {
    "duration": 8,
    "start_time": "2024-08-13T15:21:25.240Z"
   },
   {
    "duration": 8,
    "start_time": "2024-08-13T15:21:39.094Z"
   },
   {
    "duration": 9,
    "start_time": "2024-08-13T15:21:56.515Z"
   },
   {
    "duration": 115,
    "start_time": "2024-08-13T15:22:08.773Z"
   },
   {
    "duration": 12,
    "start_time": "2024-08-13T15:22:24.635Z"
   },
   {
    "duration": 7,
    "start_time": "2024-08-13T15:22:37.623Z"
   },
   {
    "duration": 1540,
    "start_time": "2024-08-13T15:28:02.957Z"
   },
   {
    "duration": 458,
    "start_time": "2024-08-13T15:28:04.499Z"
   },
   {
    "duration": 25,
    "start_time": "2024-08-13T15:28:04.958Z"
   },
   {
    "duration": 23,
    "start_time": "2024-08-13T15:28:04.985Z"
   },
   {
    "duration": 21,
    "start_time": "2024-08-13T15:28:05.012Z"
   },
   {
    "duration": 66,
    "start_time": "2024-08-13T15:28:05.061Z"
   },
   {
    "duration": 71,
    "start_time": "2024-08-13T15:28:05.129Z"
   },
   {
    "duration": 60,
    "start_time": "2024-08-13T15:28:05.202Z"
   },
   {
    "duration": 6,
    "start_time": "2024-08-13T15:28:05.264Z"
   },
   {
    "duration": 1708,
    "start_time": "2024-08-13T15:28:05.272Z"
   },
   {
    "duration": 1619,
    "start_time": "2024-08-13T15:28:06.982Z"
   },
   {
    "duration": 1574,
    "start_time": "2024-08-13T15:28:08.603Z"
   },
   {
    "duration": 7,
    "start_time": "2024-08-13T15:28:10.178Z"
   },
   {
    "duration": 22,
    "start_time": "2024-08-13T15:28:10.187Z"
   },
   {
    "duration": 5,
    "start_time": "2024-08-13T15:28:10.211Z"
   },
   {
    "duration": 20,
    "start_time": "2024-08-13T15:28:10.217Z"
   },
   {
    "duration": 12,
    "start_time": "2024-08-13T15:28:10.239Z"
   },
   {
    "duration": 12,
    "start_time": "2024-08-13T15:28:10.253Z"
   },
   {
    "duration": 4,
    "start_time": "2024-08-13T15:28:10.266Z"
   },
   {
    "duration": 1997,
    "start_time": "2024-08-13T15:28:10.272Z"
   },
   {
    "duration": 7,
    "start_time": "2024-08-13T15:28:12.271Z"
   },
   {
    "duration": 24,
    "start_time": "2024-08-13T15:28:12.279Z"
   },
   {
    "duration": 2175,
    "start_time": "2024-08-13T15:28:12.305Z"
   },
   {
    "duration": 7,
    "start_time": "2024-08-13T15:28:14.481Z"
   },
   {
    "duration": 71,
    "start_time": "2024-08-13T15:28:14.490Z"
   },
   {
    "duration": 2307,
    "start_time": "2024-08-13T15:28:14.564Z"
   },
   {
    "duration": 10,
    "start_time": "2024-08-13T15:28:16.873Z"
   },
   {
    "duration": 76,
    "start_time": "2024-08-13T15:28:16.885Z"
   },
   {
    "duration": 97,
    "start_time": "2024-08-13T15:28:16.963Z"
   },
   {
    "duration": 28,
    "start_time": "2024-08-13T15:28:17.064Z"
   },
   {
    "duration": 50,
    "start_time": "2024-08-13T15:28:17.095Z"
   },
   {
    "duration": 14,
    "start_time": "2024-08-13T15:28:17.148Z"
   },
   {
    "duration": 9741,
    "start_time": "2024-08-13T15:28:17.164Z"
   },
   {
    "duration": 9,
    "start_time": "2024-08-13T15:28:26.906Z"
   },
   {
    "duration": 1326,
    "start_time": "2024-08-13T15:55:55.948Z"
   },
   {
    "duration": 440,
    "start_time": "2024-08-13T15:55:57.276Z"
   },
   {
    "duration": 28,
    "start_time": "2024-08-13T15:55:57.717Z"
   },
   {
    "duration": 21,
    "start_time": "2024-08-13T15:55:57.746Z"
   },
   {
    "duration": 21,
    "start_time": "2024-08-13T15:55:57.785Z"
   },
   {
    "duration": 77,
    "start_time": "2024-08-13T15:55:57.807Z"
   },
   {
    "duration": 50,
    "start_time": "2024-08-13T15:55:57.886Z"
   },
   {
    "duration": 67,
    "start_time": "2024-08-13T15:55:57.938Z"
   },
   {
    "duration": 5,
    "start_time": "2024-08-13T15:55:58.006Z"
   },
   {
    "duration": 1665,
    "start_time": "2024-08-13T15:55:58.013Z"
   },
   {
    "duration": 1580,
    "start_time": "2024-08-13T15:55:59.680Z"
   },
   {
    "duration": 1577,
    "start_time": "2024-08-13T15:56:01.262Z"
   },
   {
    "duration": 8,
    "start_time": "2024-08-13T15:56:02.841Z"
   },
   {
    "duration": 162,
    "start_time": "2024-08-13T15:56:02.852Z"
   },
   {
    "duration": 7,
    "start_time": "2024-08-13T15:56:03.015Z"
   },
   {
    "duration": 22,
    "start_time": "2024-08-13T15:56:03.024Z"
   },
   {
    "duration": 16,
    "start_time": "2024-08-13T15:56:03.047Z"
   },
   {
    "duration": 14,
    "start_time": "2024-08-13T15:56:03.065Z"
   },
   {
    "duration": 3,
    "start_time": "2024-08-13T15:56:03.081Z"
   },
   {
    "duration": 2322,
    "start_time": "2024-08-13T15:56:03.086Z"
   },
   {
    "duration": 7,
    "start_time": "2024-08-13T15:56:05.410Z"
   },
   {
    "duration": 65,
    "start_time": "2024-08-13T15:56:05.418Z"
   },
   {
    "duration": 2618,
    "start_time": "2024-08-13T15:56:05.486Z"
   },
   {
    "duration": 6,
    "start_time": "2024-08-13T15:56:08.106Z"
   },
   {
    "duration": 17,
    "start_time": "2024-08-13T15:56:08.113Z"
   },
   {
    "duration": 2526,
    "start_time": "2024-08-13T15:56:08.186Z"
   },
   {
    "duration": 6,
    "start_time": "2024-08-13T15:56:10.714Z"
   },
   {
    "duration": 63,
    "start_time": "2024-08-13T15:56:10.722Z"
   },
   {
    "duration": 5,
    "start_time": "2024-08-13T15:56:10.788Z"
   },
   {
    "duration": 6,
    "start_time": "2024-08-13T15:56:10.884Z"
   },
   {
    "duration": 4,
    "start_time": "2024-08-13T15:56:10.892Z"
   },
   {
    "duration": 28,
    "start_time": "2024-08-13T15:56:10.897Z"
   },
   {
    "duration": 9758,
    "start_time": "2024-08-13T15:56:10.926Z"
   },
   {
    "duration": 8,
    "start_time": "2024-08-13T15:56:20.685Z"
   },
   {
    "duration": 1737,
    "start_time": "2024-08-13T15:58:59.361Z"
   },
   {
    "duration": 7,
    "start_time": "2024-08-13T15:59:01.100Z"
   },
   {
    "duration": 1438,
    "start_time": "2024-08-13T16:24:17.259Z"
   },
   {
    "duration": 414,
    "start_time": "2024-08-13T16:24:18.699Z"
   },
   {
    "duration": 25,
    "start_time": "2024-08-13T16:24:19.114Z"
   },
   {
    "duration": 32,
    "start_time": "2024-08-13T16:24:19.141Z"
   },
   {
    "duration": 22,
    "start_time": "2024-08-13T16:24:19.175Z"
   },
   {
    "duration": 79,
    "start_time": "2024-08-13T16:24:19.198Z"
   },
   {
    "duration": 51,
    "start_time": "2024-08-13T16:24:19.278Z"
   },
   {
    "duration": 70,
    "start_time": "2024-08-13T16:24:19.330Z"
   },
   {
    "duration": 4,
    "start_time": "2024-08-13T16:24:19.402Z"
   },
   {
    "duration": 1597,
    "start_time": "2024-08-13T16:24:19.407Z"
   },
   {
    "duration": 1587,
    "start_time": "2024-08-13T16:24:21.006Z"
   },
   {
    "duration": 1575,
    "start_time": "2024-08-13T16:24:22.595Z"
   },
   {
    "duration": 8,
    "start_time": "2024-08-13T16:24:24.171Z"
   },
   {
    "duration": 28,
    "start_time": "2024-08-13T16:24:24.182Z"
   },
   {
    "duration": 25,
    "start_time": "2024-08-13T16:24:24.211Z"
   },
   {
    "duration": 46,
    "start_time": "2024-08-13T16:24:24.237Z"
   },
   {
    "duration": 45,
    "start_time": "2024-08-13T16:24:24.285Z"
   },
   {
    "duration": 34,
    "start_time": "2024-08-13T16:24:24.332Z"
   },
   {
    "duration": 16,
    "start_time": "2024-08-13T16:24:24.367Z"
   },
   {
    "duration": 2279,
    "start_time": "2024-08-13T16:24:24.385Z"
   },
   {
    "duration": 6,
    "start_time": "2024-08-13T16:24:26.666Z"
   },
   {
    "duration": 26,
    "start_time": "2024-08-13T16:24:26.673Z"
   },
   {
    "duration": 2203,
    "start_time": "2024-08-13T16:24:26.763Z"
   },
   {
    "duration": 6,
    "start_time": "2024-08-13T16:24:28.967Z"
   },
   {
    "duration": 17,
    "start_time": "2024-08-13T16:24:28.975Z"
   },
   {
    "duration": 2174,
    "start_time": "2024-08-13T16:24:28.993Z"
   },
   {
    "duration": 6,
    "start_time": "2024-08-13T16:24:31.168Z"
   },
   {
    "duration": 87,
    "start_time": "2024-08-13T16:24:31.176Z"
   },
   {
    "duration": 110,
    "start_time": "2024-08-13T16:24:31.265Z"
   },
   {
    "duration": 62,
    "start_time": "2024-08-13T16:24:31.377Z"
   },
   {
    "duration": 11,
    "start_time": "2024-08-13T16:24:31.441Z"
   },
   {
    "duration": 14,
    "start_time": "2024-08-13T16:24:31.454Z"
   },
   {
    "duration": 9532,
    "start_time": "2024-08-13T16:24:31.469Z"
   },
   {
    "duration": 7,
    "start_time": "2024-08-13T16:24:41.003Z"
   },
   {
    "duration": 53,
    "start_time": "2024-08-13T19:49:54.022Z"
   },
   {
    "duration": 7,
    "start_time": "2024-08-13T19:50:31.531Z"
   },
   {
    "duration": 1649,
    "start_time": "2024-08-13T19:50:37.473Z"
   },
   {
    "duration": 967,
    "start_time": "2024-08-13T19:50:39.124Z"
   },
   {
    "duration": 27,
    "start_time": "2024-08-13T19:50:40.097Z"
   },
   {
    "duration": 21,
    "start_time": "2024-08-13T19:50:40.126Z"
   },
   {
    "duration": 21,
    "start_time": "2024-08-13T19:50:40.149Z"
   },
   {
    "duration": 80,
    "start_time": "2024-08-13T19:50:40.171Z"
   },
   {
    "duration": 72,
    "start_time": "2024-08-13T19:50:40.253Z"
   },
   {
    "duration": 57,
    "start_time": "2024-08-13T19:50:40.327Z"
   },
   {
    "duration": 22,
    "start_time": "2024-08-13T19:50:40.386Z"
   },
   {
    "duration": 1746,
    "start_time": "2024-08-13T19:50:40.409Z"
   },
   {
    "duration": 1651,
    "start_time": "2024-08-13T19:50:42.157Z"
   },
   {
    "duration": 1601,
    "start_time": "2024-08-13T19:50:43.810Z"
   },
   {
    "duration": 334,
    "start_time": "2024-08-13T19:50:45.413Z"
   },
   {
    "duration": 7,
    "start_time": "2024-08-13T19:50:45.749Z"
   },
   {
    "duration": 9,
    "start_time": "2024-08-13T19:50:45.758Z"
   },
   {
    "duration": 17,
    "start_time": "2024-08-13T19:50:45.769Z"
   },
   {
    "duration": 15,
    "start_time": "2024-08-13T19:50:45.788Z"
   },
   {
    "duration": 13,
    "start_time": "2024-08-13T19:50:45.804Z"
   },
   {
    "duration": 13,
    "start_time": "2024-08-13T19:50:45.818Z"
   },
   {
    "duration": 3,
    "start_time": "2024-08-13T19:50:45.832Z"
   },
   {
    "duration": 2181,
    "start_time": "2024-08-13T19:50:45.837Z"
   },
   {
    "duration": 8,
    "start_time": "2024-08-13T19:50:48.020Z"
   },
   {
    "duration": 18,
    "start_time": "2024-08-13T19:50:48.030Z"
   },
   {
    "duration": 2426,
    "start_time": "2024-08-13T19:50:48.107Z"
   },
   {
    "duration": 6,
    "start_time": "2024-08-13T19:50:50.535Z"
   },
   {
    "duration": 84,
    "start_time": "2024-08-13T19:50:50.543Z"
   },
   {
    "duration": 2402,
    "start_time": "2024-08-13T19:50:50.631Z"
   },
   {
    "duration": 9,
    "start_time": "2024-08-13T19:50:53.035Z"
   },
   {
    "duration": 60,
    "start_time": "2024-08-13T19:50:53.046Z"
   },
   {
    "duration": 110,
    "start_time": "2024-08-13T19:50:53.109Z"
   },
   {
    "duration": 7,
    "start_time": "2024-08-13T19:50:53.221Z"
   },
   {
    "duration": 7,
    "start_time": "2024-08-13T19:50:53.229Z"
   },
   {
    "duration": 18,
    "start_time": "2024-08-13T19:50:53.238Z"
   },
   {
    "duration": 10981,
    "start_time": "2024-08-13T19:50:53.258Z"
   },
   {
    "duration": 8,
    "start_time": "2024-08-13T19:51:04.241Z"
   },
   {
    "duration": 369,
    "start_time": "2024-08-13T19:51:20.353Z"
   },
   {
    "duration": 501,
    "start_time": "2024-08-13T19:52:05.787Z"
   },
   {
    "duration": 1403,
    "start_time": "2024-08-13T19:59:01.441Z"
   },
   {
    "duration": 436,
    "start_time": "2024-08-13T19:59:02.846Z"
   },
   {
    "duration": 32,
    "start_time": "2024-08-13T19:59:03.283Z"
   },
   {
    "duration": 21,
    "start_time": "2024-08-13T19:59:03.317Z"
   },
   {
    "duration": 20,
    "start_time": "2024-08-13T19:59:03.340Z"
   },
   {
    "duration": 101,
    "start_time": "2024-08-13T19:59:03.361Z"
   },
   {
    "duration": 49,
    "start_time": "2024-08-13T19:59:03.464Z"
   },
   {
    "duration": 50,
    "start_time": "2024-08-13T19:59:03.514Z"
   },
   {
    "duration": 5,
    "start_time": "2024-08-13T19:59:03.566Z"
   },
   {
    "duration": 1637,
    "start_time": "2024-08-13T19:59:03.573Z"
   },
   {
    "duration": 453,
    "start_time": "2024-08-13T19:59:05.211Z"
   },
   {
    "duration": 1546,
    "start_time": "2024-08-13T19:59:05.666Z"
   },
   {
    "duration": 331,
    "start_time": "2024-08-13T19:59:07.214Z"
   },
   {
    "duration": 2162,
    "start_time": "2024-08-13T19:59:07.547Z"
   },
   {
    "duration": 453,
    "start_time": "2024-08-13T19:59:09.711Z"
   },
   {
    "duration": 7,
    "start_time": "2024-08-13T19:59:10.166Z"
   },
   {
    "duration": 6,
    "start_time": "2024-08-13T19:59:10.175Z"
   },
   {
    "duration": 5,
    "start_time": "2024-08-13T19:59:10.183Z"
   },
   {
    "duration": 15,
    "start_time": "2024-08-13T19:59:10.204Z"
   },
   {
    "duration": 12,
    "start_time": "2024-08-13T19:59:10.221Z"
   },
   {
    "duration": 13,
    "start_time": "2024-08-13T19:59:10.235Z"
   },
   {
    "duration": 19,
    "start_time": "2024-08-13T19:59:10.249Z"
   },
   {
    "duration": 2347,
    "start_time": "2024-08-13T19:59:10.270Z"
   },
   {
    "duration": 6,
    "start_time": "2024-08-13T19:59:12.618Z"
   },
   {
    "duration": 24,
    "start_time": "2024-08-13T19:59:12.626Z"
   },
   {
    "duration": 2214,
    "start_time": "2024-08-13T19:59:12.707Z"
   },
   {
    "duration": 8,
    "start_time": "2024-08-13T19:59:14.923Z"
   },
   {
    "duration": 15,
    "start_time": "2024-08-13T19:59:15.006Z"
   },
   {
    "duration": 2302,
    "start_time": "2024-08-13T19:59:15.105Z"
   },
   {
    "duration": 6,
    "start_time": "2024-08-13T19:59:17.409Z"
   },
   {
    "duration": 28,
    "start_time": "2024-08-13T19:59:17.416Z"
   },
   {
    "duration": 66,
    "start_time": "2024-08-13T19:59:17.446Z"
   },
   {
    "duration": 4,
    "start_time": "2024-08-13T19:59:17.604Z"
   },
   {
    "duration": 30,
    "start_time": "2024-08-13T19:59:17.610Z"
   },
   {
    "duration": 15,
    "start_time": "2024-08-13T19:59:17.641Z"
   },
   {
    "duration": 9484,
    "start_time": "2024-08-13T19:59:17.658Z"
   },
   {
    "duration": 7,
    "start_time": "2024-08-13T19:59:27.144Z"
   },
   {
    "duration": 64,
    "start_time": "2024-08-13T20:08:37.214Z"
   },
   {
    "duration": 3,
    "start_time": "2024-08-13T20:09:53.223Z"
   },
   {
    "duration": 14,
    "start_time": "2024-08-13T20:09:53.796Z"
   },
   {
    "duration": 1441,
    "start_time": "2024-08-13T20:13:11.188Z"
   },
   {
    "duration": 423,
    "start_time": "2024-08-13T20:13:12.630Z"
   },
   {
    "duration": 25,
    "start_time": "2024-08-13T20:13:13.054Z"
   },
   {
    "duration": 29,
    "start_time": "2024-08-13T20:13:13.081Z"
   },
   {
    "duration": 20,
    "start_time": "2024-08-13T20:13:13.112Z"
   },
   {
    "duration": 52,
    "start_time": "2024-08-13T20:13:13.133Z"
   },
   {
    "duration": 67,
    "start_time": "2024-08-13T20:13:13.186Z"
   },
   {
    "duration": 71,
    "start_time": "2024-08-13T20:13:13.255Z"
   },
   {
    "duration": 5,
    "start_time": "2024-08-13T20:13:13.327Z"
   },
   {
    "duration": 1655,
    "start_time": "2024-08-13T20:13:13.335Z"
   },
   {
    "duration": 471,
    "start_time": "2024-08-13T20:13:14.992Z"
   },
   {
    "duration": 1484,
    "start_time": "2024-08-13T20:13:15.465Z"
   },
   {
    "duration": 374,
    "start_time": "2024-08-13T20:13:16.950Z"
   },
   {
    "duration": 1534,
    "start_time": "2024-08-13T20:13:17.326Z"
   },
   {
    "duration": 364,
    "start_time": "2024-08-13T20:13:18.862Z"
   },
   {
    "duration": 8,
    "start_time": "2024-08-13T20:13:19.228Z"
   },
   {
    "duration": 12,
    "start_time": "2024-08-13T20:13:19.238Z"
   },
   {
    "duration": 5,
    "start_time": "2024-08-13T20:13:19.251Z"
   },
   {
    "duration": 19,
    "start_time": "2024-08-13T20:13:19.258Z"
   },
   {
    "duration": 12,
    "start_time": "2024-08-13T20:13:19.279Z"
   },
   {
    "duration": 17,
    "start_time": "2024-08-13T20:13:19.293Z"
   },
   {
    "duration": 4,
    "start_time": "2024-08-13T20:13:19.311Z"
   },
   {
    "duration": 2704,
    "start_time": "2024-08-13T20:13:19.316Z"
   },
   {
    "duration": 6,
    "start_time": "2024-08-13T20:13:22.022Z"
   },
   {
    "duration": 91,
    "start_time": "2024-08-13T20:13:22.030Z"
   },
   {
    "duration": 2493,
    "start_time": "2024-08-13T20:13:22.122Z"
   },
   {
    "duration": 7,
    "start_time": "2024-08-13T20:13:24.617Z"
   },
   {
    "duration": 42,
    "start_time": "2024-08-13T20:13:24.627Z"
   },
   {
    "duration": 2303,
    "start_time": "2024-08-13T20:13:24.706Z"
   },
   {
    "duration": 5,
    "start_time": "2024-08-13T20:13:27.011Z"
   },
   {
    "duration": 14,
    "start_time": "2024-08-13T20:13:27.018Z"
   },
   {
    "duration": 75,
    "start_time": "2024-08-13T20:13:27.034Z"
   },
   {
    "duration": 95,
    "start_time": "2024-08-13T20:13:27.112Z"
   },
   {
    "duration": 6,
    "start_time": "2024-08-13T20:13:27.209Z"
   },
   {
    "duration": 20,
    "start_time": "2024-08-13T20:13:27.217Z"
   },
   {
    "duration": 1771,
    "start_time": "2024-08-13T20:13:27.238Z"
   },
   {
    "duration": 7,
    "start_time": "2024-08-13T20:13:29.011Z"
   },
   {
    "duration": 63,
    "start_time": "2024-08-13T20:14:15.458Z"
   },
   {
    "duration": 4,
    "start_time": "2024-08-13T20:16:43.594Z"
   },
   {
    "duration": 113,
    "start_time": "2024-08-13T20:16:45.337Z"
   },
   {
    "duration": 4,
    "start_time": "2024-08-13T20:18:06.202Z"
   },
   {
    "duration": 30,
    "start_time": "2024-08-13T20:18:40.322Z"
   },
   {
    "duration": 6,
    "start_time": "2024-08-13T20:19:39.397Z"
   },
   {
    "duration": 19,
    "start_time": "2024-08-13T20:19:40.290Z"
   },
   {
    "duration": 17,
    "start_time": "2024-08-13T20:22:00.717Z"
   },
   {
    "duration": 4,
    "start_time": "2024-08-13T20:22:06.110Z"
   },
   {
    "duration": 9,
    "start_time": "2024-08-13T20:22:08.166Z"
   },
   {
    "duration": 1473,
    "start_time": "2024-08-13T20:22:41.593Z"
   },
   {
    "duration": 427,
    "start_time": "2024-08-13T20:22:43.068Z"
   },
   {
    "duration": 28,
    "start_time": "2024-08-13T20:22:43.496Z"
   },
   {
    "duration": 32,
    "start_time": "2024-08-13T20:22:43.526Z"
   },
   {
    "duration": 22,
    "start_time": "2024-08-13T20:22:43.561Z"
   },
   {
    "duration": 69,
    "start_time": "2024-08-13T20:22:43.585Z"
   },
   {
    "duration": 63,
    "start_time": "2024-08-13T20:22:43.655Z"
   },
   {
    "duration": 50,
    "start_time": "2024-08-13T20:22:43.720Z"
   },
   {
    "duration": 4,
    "start_time": "2024-08-13T20:22:43.772Z"
   },
   {
    "duration": 1639,
    "start_time": "2024-08-13T20:22:43.778Z"
   },
   {
    "duration": 442,
    "start_time": "2024-08-13T20:22:45.419Z"
   },
   {
    "duration": 1548,
    "start_time": "2024-08-13T20:22:45.863Z"
   },
   {
    "duration": 343,
    "start_time": "2024-08-13T20:22:47.412Z"
   },
   {
    "duration": 1554,
    "start_time": "2024-08-13T20:22:47.758Z"
   },
   {
    "duration": 329,
    "start_time": "2024-08-13T20:22:49.314Z"
   },
   {
    "duration": 8,
    "start_time": "2024-08-13T20:22:49.644Z"
   },
   {
    "duration": 6,
    "start_time": "2024-08-13T20:22:49.653Z"
   },
   {
    "duration": 9,
    "start_time": "2024-08-13T20:22:49.661Z"
   },
   {
    "duration": 27,
    "start_time": "2024-08-13T20:22:49.671Z"
   },
   {
    "duration": 12,
    "start_time": "2024-08-13T20:22:49.700Z"
   },
   {
    "duration": 13,
    "start_time": "2024-08-13T20:22:49.714Z"
   },
   {
    "duration": 3,
    "start_time": "2024-08-13T20:22:49.728Z"
   },
   {
    "duration": 2395,
    "start_time": "2024-08-13T20:22:49.732Z"
   },
   {
    "duration": 6,
    "start_time": "2024-08-13T20:22:52.129Z"
   },
   {
    "duration": 34,
    "start_time": "2024-08-13T20:22:52.136Z"
   },
   {
    "duration": 2507,
    "start_time": "2024-08-13T20:22:52.206Z"
   },
   {
    "duration": 6,
    "start_time": "2024-08-13T20:22:54.715Z"
   },
   {
    "duration": 34,
    "start_time": "2024-08-13T20:22:54.722Z"
   },
   {
    "duration": 2553,
    "start_time": "2024-08-13T20:22:54.758Z"
   },
   {
    "duration": 6,
    "start_time": "2024-08-13T20:22:57.313Z"
   },
   {
    "duration": 23,
    "start_time": "2024-08-13T20:22:57.321Z"
   },
   {
    "duration": 4,
    "start_time": "2024-08-13T20:22:57.406Z"
   },
   {
    "duration": 101,
    "start_time": "2024-08-13T20:22:57.413Z"
   },
   {
    "duration": 4,
    "start_time": "2024-08-13T20:22:57.516Z"
   },
   {
    "duration": 5,
    "start_time": "2024-08-13T20:22:57.522Z"
   },
   {
    "duration": 18,
    "start_time": "2024-08-13T20:22:57.528Z"
   },
   {
    "duration": 124,
    "start_time": "2024-08-13T20:22:57.548Z"
   },
   {
    "duration": 0,
    "start_time": "2024-08-13T20:22:57.674Z"
   },
   {
    "duration": 2200,
    "start_time": "2024-08-13T20:24:43.135Z"
   },
   {
    "duration": 8,
    "start_time": "2024-08-13T20:24:47.007Z"
   },
   {
    "duration": 4,
    "start_time": "2024-08-13T20:26:11.910Z"
   },
   {
    "duration": 8,
    "start_time": "2024-08-13T20:26:12.598Z"
   },
   {
    "duration": 6,
    "start_time": "2024-08-13T20:28:13.896Z"
   },
   {
    "duration": 1403,
    "start_time": "2024-08-13T20:29:26.238Z"
   },
   {
    "duration": 421,
    "start_time": "2024-08-13T20:29:27.642Z"
   },
   {
    "duration": 26,
    "start_time": "2024-08-13T20:29:28.064Z"
   },
   {
    "duration": 51,
    "start_time": "2024-08-13T20:29:28.092Z"
   },
   {
    "duration": 19,
    "start_time": "2024-08-13T20:29:28.145Z"
   },
   {
    "duration": 51,
    "start_time": "2024-08-13T20:29:28.166Z"
   },
   {
    "duration": 50,
    "start_time": "2024-08-13T20:29:28.219Z"
   },
   {
    "duration": 65,
    "start_time": "2024-08-13T20:29:28.270Z"
   },
   {
    "duration": 4,
    "start_time": "2024-08-13T20:29:28.337Z"
   },
   {
    "duration": 1516,
    "start_time": "2024-08-13T20:29:28.344Z"
   },
   {
    "duration": 437,
    "start_time": "2024-08-13T20:29:29.861Z"
   },
   {
    "duration": 1541,
    "start_time": "2024-08-13T20:29:30.305Z"
   },
   {
    "duration": 357,
    "start_time": "2024-08-13T20:29:31.848Z"
   },
   {
    "duration": 1586,
    "start_time": "2024-08-13T20:29:32.206Z"
   },
   {
    "duration": 339,
    "start_time": "2024-08-13T20:29:33.794Z"
   },
   {
    "duration": 8,
    "start_time": "2024-08-13T20:29:34.135Z"
   },
   {
    "duration": 36,
    "start_time": "2024-08-13T20:29:34.145Z"
   },
   {
    "duration": 4,
    "start_time": "2024-08-13T20:29:34.183Z"
   },
   {
    "duration": 16,
    "start_time": "2024-08-13T20:29:34.189Z"
   },
   {
    "duration": 12,
    "start_time": "2024-08-13T20:29:34.207Z"
   },
   {
    "duration": 15,
    "start_time": "2024-08-13T20:29:34.221Z"
   },
   {
    "duration": 3,
    "start_time": "2024-08-13T20:29:34.238Z"
   },
   {
    "duration": 2385,
    "start_time": "2024-08-13T20:29:34.243Z"
   },
   {
    "duration": 6,
    "start_time": "2024-08-13T20:29:36.631Z"
   },
   {
    "duration": 105,
    "start_time": "2024-08-13T20:29:36.639Z"
   },
   {
    "duration": 2272,
    "start_time": "2024-08-13T20:29:36.747Z"
   },
   {
    "duration": 6,
    "start_time": "2024-08-13T20:29:39.021Z"
   },
   {
    "duration": 23,
    "start_time": "2024-08-13T20:29:39.030Z"
   },
   {
    "duration": 2375,
    "start_time": "2024-08-13T20:29:39.055Z"
   },
   {
    "duration": 7,
    "start_time": "2024-08-13T20:29:41.432Z"
   },
   {
    "duration": 62,
    "start_time": "2024-08-13T20:29:41.441Z"
   },
   {
    "duration": 5,
    "start_time": "2024-08-13T20:29:41.506Z"
   },
   {
    "duration": 5,
    "start_time": "2024-08-13T20:29:41.513Z"
   },
   {
    "duration": 6,
    "start_time": "2024-08-13T20:29:41.607Z"
   },
   {
    "duration": 5,
    "start_time": "2024-08-13T20:29:41.705Z"
   },
   {
    "duration": 22,
    "start_time": "2024-08-13T20:29:41.712Z"
   },
   {
    "duration": 29,
    "start_time": "2024-08-13T20:29:41.736Z"
   },
   {
    "duration": 2200,
    "start_time": "2024-08-13T20:29:41.767Z"
   },
   {
    "duration": 8,
    "start_time": "2024-08-13T20:29:43.968Z"
   },
   {
    "duration": 5,
    "start_time": "2024-08-13T20:31:10.627Z"
   },
   {
    "duration": 6,
    "start_time": "2024-08-13T20:31:16.151Z"
   },
   {
    "duration": 5,
    "start_time": "2024-08-13T20:31:47.035Z"
   },
   {
    "duration": 10,
    "start_time": "2024-08-13T20:31:49.318Z"
   },
   {
    "duration": 12,
    "start_time": "2024-08-13T20:31:57.819Z"
   },
   {
    "duration": 11,
    "start_time": "2024-08-13T20:32:05.464Z"
   },
   {
    "duration": 4,
    "start_time": "2024-08-13T20:32:15.208Z"
   },
   {
    "duration": 13,
    "start_time": "2024-08-13T20:32:21.657Z"
   },
   {
    "duration": 11,
    "start_time": "2024-08-13T20:33:02.965Z"
   },
   {
    "duration": 6,
    "start_time": "2024-08-13T20:33:03.192Z"
   },
   {
    "duration": 5,
    "start_time": "2024-08-13T20:33:03.420Z"
   },
   {
    "duration": 7,
    "start_time": "2024-08-13T20:33:15.471Z"
   },
   {
    "duration": 6,
    "start_time": "2024-08-13T20:33:33.207Z"
   },
   {
    "duration": 5,
    "start_time": "2024-08-13T20:33:58.237Z"
   },
   {
    "duration": 6,
    "start_time": "2024-08-13T20:34:10.391Z"
   },
   {
    "duration": 4,
    "start_time": "2024-08-13T20:34:13.374Z"
   },
   {
    "duration": 3,
    "start_time": "2024-08-13T20:37:21.645Z"
   },
   {
    "duration": 6,
    "start_time": "2024-08-13T20:37:29.163Z"
   },
   {
    "duration": 1465,
    "start_time": "2024-08-13T20:37:57.722Z"
   },
   {
    "duration": 421,
    "start_time": "2024-08-13T20:37:59.189Z"
   },
   {
    "duration": 27,
    "start_time": "2024-08-13T20:37:59.611Z"
   },
   {
    "duration": 22,
    "start_time": "2024-08-13T20:37:59.641Z"
   },
   {
    "duration": 42,
    "start_time": "2024-08-13T20:37:59.665Z"
   },
   {
    "duration": 53,
    "start_time": "2024-08-13T20:37:59.708Z"
   },
   {
    "duration": 73,
    "start_time": "2024-08-13T20:37:59.762Z"
   },
   {
    "duration": 68,
    "start_time": "2024-08-13T20:37:59.837Z"
   },
   {
    "duration": 5,
    "start_time": "2024-08-13T20:37:59.907Z"
   },
   {
    "duration": 1679,
    "start_time": "2024-08-13T20:37:59.914Z"
   },
   {
    "duration": 476,
    "start_time": "2024-08-13T20:38:01.594Z"
   },
   {
    "duration": 1508,
    "start_time": "2024-08-13T20:38:02.071Z"
   },
   {
    "duration": 356,
    "start_time": "2024-08-13T20:38:03.580Z"
   },
   {
    "duration": 1599,
    "start_time": "2024-08-13T20:38:03.938Z"
   },
   {
    "duration": 324,
    "start_time": "2024-08-13T20:38:05.538Z"
   },
   {
    "duration": 7,
    "start_time": "2024-08-13T20:38:05.864Z"
   },
   {
    "duration": 28,
    "start_time": "2024-08-13T20:38:05.873Z"
   },
   {
    "duration": 10,
    "start_time": "2024-08-13T20:38:05.903Z"
   },
   {
    "duration": 31,
    "start_time": "2024-08-13T20:38:05.915Z"
   },
   {
    "duration": 15,
    "start_time": "2024-08-13T20:38:05.948Z"
   },
   {
    "duration": 14,
    "start_time": "2024-08-13T20:38:05.965Z"
   },
   {
    "duration": 3,
    "start_time": "2024-08-13T20:38:05.980Z"
   },
   {
    "duration": 2425,
    "start_time": "2024-08-13T20:38:05.985Z"
   },
   {
    "duration": 7,
    "start_time": "2024-08-13T20:38:08.411Z"
   },
   {
    "duration": 18,
    "start_time": "2024-08-13T20:38:08.419Z"
   },
   {
    "duration": 2509,
    "start_time": "2024-08-13T20:38:08.506Z"
   },
   {
    "duration": 6,
    "start_time": "2024-08-13T20:38:11.017Z"
   },
   {
    "duration": 13,
    "start_time": "2024-08-13T20:38:11.028Z"
   },
   {
    "duration": 2312,
    "start_time": "2024-08-13T20:38:11.105Z"
   },
   {
    "duration": 6,
    "start_time": "2024-08-13T20:38:13.418Z"
   },
   {
    "duration": 22,
    "start_time": "2024-08-13T20:38:13.426Z"
   },
   {
    "duration": 4,
    "start_time": "2024-08-13T20:38:13.511Z"
   },
   {
    "duration": 20,
    "start_time": "2024-08-13T20:38:13.606Z"
   },
   {
    "duration": 17,
    "start_time": "2024-08-13T20:38:13.628Z"
   },
   {
    "duration": 4,
    "start_time": "2024-08-13T20:38:13.647Z"
   },
   {
    "duration": 5,
    "start_time": "2024-08-13T20:38:13.653Z"
   },
   {
    "duration": 12,
    "start_time": "2024-08-13T20:38:13.660Z"
   },
   {
    "duration": 2254,
    "start_time": "2024-08-13T20:38:13.674Z"
   },
   {
    "duration": 9,
    "start_time": "2024-08-13T20:38:15.930Z"
   },
   {
    "duration": 6,
    "start_time": "2024-08-13T20:38:33.362Z"
   },
   {
    "duration": 5,
    "start_time": "2024-08-13T20:38:49.937Z"
   },
   {
    "duration": 7,
    "start_time": "2024-08-13T20:38:53.036Z"
   },
   {
    "duration": 3,
    "start_time": "2024-08-13T20:38:55.999Z"
   },
   {
    "duration": 5,
    "start_time": "2024-08-13T20:38:56.921Z"
   },
   {
    "duration": 4,
    "start_time": "2024-08-13T20:40:10.726Z"
   },
   {
    "duration": 4,
    "start_time": "2024-08-13T20:40:14.052Z"
   },
   {
    "duration": 9,
    "start_time": "2024-08-13T20:40:14.985Z"
   },
   {
    "duration": 2147,
    "start_time": "2024-08-13T20:40:17.127Z"
   },
   {
    "duration": 9,
    "start_time": "2024-08-13T20:40:19.871Z"
   },
   {
    "duration": 4,
    "start_time": "2024-08-13T20:40:38.855Z"
   },
   {
    "duration": 9,
    "start_time": "2024-08-13T20:40:39.775Z"
   },
   {
    "duration": 2816,
    "start_time": "2024-08-13T20:40:40.826Z"
   },
   {
    "duration": 7,
    "start_time": "2024-08-13T20:40:43.644Z"
   },
   {
    "duration": 1424,
    "start_time": "2024-08-13T20:40:59.442Z"
   },
   {
    "duration": 439,
    "start_time": "2024-08-13T20:41:00.868Z"
   },
   {
    "duration": 28,
    "start_time": "2024-08-13T20:41:01.308Z"
   },
   {
    "duration": 52,
    "start_time": "2024-08-13T20:41:01.338Z"
   },
   {
    "duration": 34,
    "start_time": "2024-08-13T20:41:01.392Z"
   },
   {
    "duration": 70,
    "start_time": "2024-08-13T20:41:01.428Z"
   },
   {
    "duration": 106,
    "start_time": "2024-08-13T20:41:01.499Z"
   },
   {
    "duration": 57,
    "start_time": "2024-08-13T20:41:01.607Z"
   },
   {
    "duration": 5,
    "start_time": "2024-08-13T20:41:01.666Z"
   },
   {
    "duration": 1671,
    "start_time": "2024-08-13T20:41:01.674Z"
   },
   {
    "duration": 432,
    "start_time": "2024-08-13T20:41:03.346Z"
   },
   {
    "duration": 1576,
    "start_time": "2024-08-13T20:41:03.780Z"
   },
   {
    "duration": 367,
    "start_time": "2024-08-13T20:41:05.357Z"
   },
   {
    "duration": 1603,
    "start_time": "2024-08-13T20:41:05.726Z"
   },
   {
    "duration": 324,
    "start_time": "2024-08-13T20:41:07.330Z"
   },
   {
    "duration": 7,
    "start_time": "2024-08-13T20:41:07.656Z"
   },
   {
    "duration": 8,
    "start_time": "2024-08-13T20:41:07.665Z"
   },
   {
    "duration": 11,
    "start_time": "2024-08-13T20:41:07.675Z"
   },
   {
    "duration": 26,
    "start_time": "2024-08-13T20:41:07.687Z"
   },
   {
    "duration": 13,
    "start_time": "2024-08-13T20:41:07.714Z"
   },
   {
    "duration": 23,
    "start_time": "2024-08-13T20:41:07.729Z"
   },
   {
    "duration": 7,
    "start_time": "2024-08-13T20:41:07.754Z"
   },
   {
    "duration": 2458,
    "start_time": "2024-08-13T20:41:07.763Z"
   },
   {
    "duration": 83,
    "start_time": "2024-08-13T20:41:10.224Z"
   },
   {
    "duration": 15,
    "start_time": "2024-08-13T20:41:10.309Z"
   },
   {
    "duration": 2395,
    "start_time": "2024-08-13T20:41:10.329Z"
   },
   {
    "duration": 7,
    "start_time": "2024-08-13T20:41:12.728Z"
   },
   {
    "duration": 67,
    "start_time": "2024-08-13T20:41:12.738Z"
   },
   {
    "duration": 2407,
    "start_time": "2024-08-13T20:41:12.809Z"
   },
   {
    "duration": 6,
    "start_time": "2024-08-13T20:41:15.218Z"
   },
   {
    "duration": 79,
    "start_time": "2024-08-13T20:41:15.226Z"
   },
   {
    "duration": 197,
    "start_time": "2024-08-13T20:41:15.308Z"
   },
   {
    "duration": 37,
    "start_time": "2024-08-13T20:41:15.507Z"
   },
   {
    "duration": 35,
    "start_time": "2024-08-13T20:41:15.545Z"
   },
   {
    "duration": 19,
    "start_time": "2024-08-13T20:41:15.582Z"
   },
   {
    "duration": 26,
    "start_time": "2024-08-13T20:41:15.603Z"
   },
   {
    "duration": 6,
    "start_time": "2024-08-13T20:41:15.630Z"
   },
   {
    "duration": 18,
    "start_time": "2024-08-13T20:41:15.637Z"
   },
   {
    "duration": 2706,
    "start_time": "2024-08-13T20:41:15.656Z"
   },
   {
    "duration": 7,
    "start_time": "2024-08-13T20:41:18.364Z"
   },
   {
    "duration": 15,
    "start_time": "2024-08-13T20:42:55.368Z"
   },
   {
    "duration": 1545,
    "start_time": "2024-08-13T20:45:08.857Z"
   },
   {
    "duration": 488,
    "start_time": "2024-08-13T20:45:10.404Z"
   },
   {
    "duration": 35,
    "start_time": "2024-08-13T20:45:10.894Z"
   },
   {
    "duration": 22,
    "start_time": "2024-08-13T20:45:10.931Z"
   },
   {
    "duration": 22,
    "start_time": "2024-08-13T20:45:10.955Z"
   },
   {
    "duration": 93,
    "start_time": "2024-08-13T20:45:10.979Z"
   },
   {
    "duration": 69,
    "start_time": "2024-08-13T20:45:11.074Z"
   },
   {
    "duration": 83,
    "start_time": "2024-08-13T20:45:11.145Z"
   },
   {
    "duration": 4,
    "start_time": "2024-08-13T20:45:11.230Z"
   },
   {
    "duration": 1743,
    "start_time": "2024-08-13T20:45:11.237Z"
   },
   {
    "duration": 495,
    "start_time": "2024-08-13T20:45:12.982Z"
   },
   {
    "duration": 1663,
    "start_time": "2024-08-13T20:45:13.479Z"
   },
   {
    "duration": 341,
    "start_time": "2024-08-13T20:45:15.143Z"
   },
   {
    "duration": 1695,
    "start_time": "2024-08-13T20:45:15.485Z"
   },
   {
    "duration": 370,
    "start_time": "2024-08-13T20:45:17.181Z"
   },
   {
    "duration": 7,
    "start_time": "2024-08-13T20:45:17.552Z"
   },
   {
    "duration": 9,
    "start_time": "2024-08-13T20:45:17.561Z"
   },
   {
    "duration": 7,
    "start_time": "2024-08-13T20:45:17.571Z"
   },
   {
    "duration": 17,
    "start_time": "2024-08-13T20:45:17.579Z"
   },
   {
    "duration": 20,
    "start_time": "2024-08-13T20:45:17.598Z"
   },
   {
    "duration": 17,
    "start_time": "2024-08-13T20:45:17.621Z"
   },
   {
    "duration": 10,
    "start_time": "2024-08-13T20:45:17.640Z"
   },
   {
    "duration": 2055,
    "start_time": "2024-08-13T20:45:17.652Z"
   },
   {
    "duration": 10,
    "start_time": "2024-08-13T20:45:19.709Z"
   },
   {
    "duration": 12,
    "start_time": "2024-08-13T20:45:19.721Z"
   },
   {
    "duration": 1785,
    "start_time": "2024-08-13T20:45:19.735Z"
   },
   {
    "duration": 84,
    "start_time": "2024-08-13T20:45:21.521Z"
   },
   {
    "duration": 19,
    "start_time": "2024-08-13T20:45:21.611Z"
   },
   {
    "duration": 2211,
    "start_time": "2024-08-13T20:45:21.707Z"
   },
   {
    "duration": 9,
    "start_time": "2024-08-13T20:45:23.920Z"
   },
   {
    "duration": 33,
    "start_time": "2024-08-13T20:45:23.932Z"
   },
   {
    "duration": 140,
    "start_time": "2024-08-13T20:45:23.967Z"
   },
   {
    "duration": 50,
    "start_time": "2024-08-13T20:45:24.109Z"
   },
   {
    "duration": 77,
    "start_time": "2024-08-13T20:45:24.161Z"
   },
   {
    "duration": 26,
    "start_time": "2024-08-13T20:45:24.240Z"
   },
   {
    "duration": 15,
    "start_time": "2024-08-13T20:45:24.268Z"
   },
   {
    "duration": 168,
    "start_time": "2024-08-13T20:45:24.284Z"
   },
   {
    "duration": 0,
    "start_time": "2024-08-13T20:45:24.453Z"
   },
   {
    "duration": 0,
    "start_time": "2024-08-13T20:45:24.455Z"
   },
   {
    "duration": 4,
    "start_time": "2024-08-13T20:46:16.706Z"
   },
   {
    "duration": 8,
    "start_time": "2024-08-13T20:46:17.506Z"
   },
   {
    "duration": 2189,
    "start_time": "2024-08-13T20:46:22.645Z"
   },
   {
    "duration": 9,
    "start_time": "2024-08-13T20:46:26.946Z"
   },
   {
    "duration": 5,
    "start_time": "2024-08-13T20:50:00.998Z"
   },
   {
    "duration": 18,
    "start_time": "2024-08-13T20:50:01.402Z"
   },
   {
    "duration": 4,
    "start_time": "2024-08-13T20:50:13.844Z"
   },
   {
    "duration": 10,
    "start_time": "2024-08-13T20:50:14.091Z"
   },
   {
    "duration": 3,
    "start_time": "2024-08-13T20:50:17.108Z"
   },
   {
    "duration": 4,
    "start_time": "2024-08-13T20:50:17.344Z"
   },
   {
    "duration": 9,
    "start_time": "2024-08-13T20:50:17.644Z"
   },
   {
    "duration": 2236,
    "start_time": "2024-08-13T20:50:20.840Z"
   },
   {
    "duration": 7,
    "start_time": "2024-08-13T20:50:24.047Z"
   },
   {
    "duration": 10,
    "start_time": "2024-08-13T20:51:57.591Z"
   },
   {
    "duration": 5,
    "start_time": "2024-08-13T20:51:59.878Z"
   },
   {
    "duration": 4,
    "start_time": "2024-08-13T20:52:04.434Z"
   },
   {
    "duration": 5,
    "start_time": "2024-08-13T20:52:25.341Z"
   },
   {
    "duration": 5,
    "start_time": "2024-08-13T20:52:30.145Z"
   },
   {
    "duration": 4,
    "start_time": "2024-08-13T20:52:35.891Z"
   },
   {
    "duration": 5,
    "start_time": "2024-08-13T20:52:42.630Z"
   },
   {
    "duration": 5,
    "start_time": "2024-08-13T20:52:49.360Z"
   },
   {
    "duration": 6,
    "start_time": "2024-08-13T20:53:01.549Z"
   },
   {
    "duration": 5,
    "start_time": "2024-08-13T20:53:03.112Z"
   },
   {
    "duration": 1565,
    "start_time": "2024-08-13T20:53:37.211Z"
   },
   {
    "duration": 424,
    "start_time": "2024-08-13T20:53:38.778Z"
   },
   {
    "duration": 25,
    "start_time": "2024-08-13T20:53:39.204Z"
   },
   {
    "duration": 20,
    "start_time": "2024-08-13T20:53:39.231Z"
   },
   {
    "duration": 81,
    "start_time": "2024-08-13T20:53:39.253Z"
   },
   {
    "duration": 54,
    "start_time": "2024-08-13T20:53:39.335Z"
   },
   {
    "duration": 56,
    "start_time": "2024-08-13T20:53:39.391Z"
   },
   {
    "duration": 67,
    "start_time": "2024-08-13T20:53:39.448Z"
   },
   {
    "duration": 5,
    "start_time": "2024-08-13T20:53:39.517Z"
   },
   {
    "duration": 1764,
    "start_time": "2024-08-13T20:53:39.524Z"
   },
   {
    "duration": 514,
    "start_time": "2024-08-13T20:53:41.290Z"
   },
   {
    "duration": 1605,
    "start_time": "2024-08-13T20:53:41.806Z"
   },
   {
    "duration": 341,
    "start_time": "2024-08-13T20:53:43.413Z"
   },
   {
    "duration": 1703,
    "start_time": "2024-08-13T20:53:43.758Z"
   },
   {
    "duration": 379,
    "start_time": "2024-08-13T20:53:45.463Z"
   },
   {
    "duration": 8,
    "start_time": "2024-08-13T20:53:45.843Z"
   },
   {
    "duration": 20,
    "start_time": "2024-08-13T20:53:45.853Z"
   },
   {
    "duration": 5,
    "start_time": "2024-08-13T20:53:45.874Z"
   },
   {
    "duration": 23,
    "start_time": "2024-08-13T20:53:45.880Z"
   },
   {
    "duration": 18,
    "start_time": "2024-08-13T20:53:45.905Z"
   },
   {
    "duration": 14,
    "start_time": "2024-08-13T20:53:45.925Z"
   },
   {
    "duration": 4,
    "start_time": "2024-08-13T20:53:45.940Z"
   },
   {
    "duration": 2372,
    "start_time": "2024-08-13T20:53:45.945Z"
   },
   {
    "duration": 92,
    "start_time": "2024-08-13T20:53:48.319Z"
   },
   {
    "duration": 15,
    "start_time": "2024-08-13T20:53:48.413Z"
   },
   {
    "duration": 2478,
    "start_time": "2024-08-13T20:53:48.431Z"
   },
   {
    "duration": 7,
    "start_time": "2024-08-13T20:53:50.911Z"
   },
   {
    "duration": 22,
    "start_time": "2024-08-13T20:53:50.920Z"
   },
   {
    "duration": 2370,
    "start_time": "2024-08-13T20:53:50.944Z"
   },
   {
    "duration": 6,
    "start_time": "2024-08-13T20:53:53.316Z"
   },
   {
    "duration": 35,
    "start_time": "2024-08-13T20:53:53.323Z"
   },
   {
    "duration": 50,
    "start_time": "2024-08-13T20:53:53.360Z"
   },
   {
    "duration": 145,
    "start_time": "2024-08-13T20:53:53.413Z"
   },
   {
    "duration": 33,
    "start_time": "2024-08-13T20:53:53.560Z"
   },
   {
    "duration": 10,
    "start_time": "2024-08-13T20:53:53.594Z"
   },
   {
    "duration": 17,
    "start_time": "2024-08-13T20:53:53.606Z"
   },
   {
    "duration": 19,
    "start_time": "2024-08-13T20:53:53.625Z"
   },
   {
    "duration": 2284,
    "start_time": "2024-08-13T20:53:53.645Z"
   },
   {
    "duration": 10,
    "start_time": "2024-08-13T20:53:55.931Z"
   },
   {
    "duration": 126,
    "start_time": "2024-08-13T20:55:44.168Z"
   },
   {
    "duration": 32,
    "start_time": "2024-08-13T20:57:50.885Z"
   },
   {
    "duration": 5,
    "start_time": "2024-08-13T20:58:22.486Z"
   },
   {
    "duration": 8,
    "start_time": "2024-08-13T20:58:23.196Z"
   },
   {
    "duration": 2859,
    "start_time": "2024-08-13T20:58:25.801Z"
   },
   {
    "duration": 8,
    "start_time": "2024-08-13T20:58:29.627Z"
   },
   {
    "duration": 1448,
    "start_time": "2024-08-13T20:59:02.256Z"
   },
   {
    "duration": 450,
    "start_time": "2024-08-13T20:59:03.706Z"
   },
   {
    "duration": 27,
    "start_time": "2024-08-13T20:59:04.158Z"
   },
   {
    "duration": 28,
    "start_time": "2024-08-13T20:59:04.187Z"
   },
   {
    "duration": 22,
    "start_time": "2024-08-13T20:59:04.219Z"
   },
   {
    "duration": 116,
    "start_time": "2024-08-13T20:59:04.243Z"
   },
   {
    "duration": 65,
    "start_time": "2024-08-13T20:59:04.361Z"
   },
   {
    "duration": 53,
    "start_time": "2024-08-13T20:59:04.427Z"
   },
   {
    "duration": 26,
    "start_time": "2024-08-13T20:59:04.481Z"
   },
   {
    "duration": 1639,
    "start_time": "2024-08-13T20:59:04.509Z"
   },
   {
    "duration": 457,
    "start_time": "2024-08-13T20:59:06.150Z"
   },
   {
    "duration": 1651,
    "start_time": "2024-08-13T20:59:06.609Z"
   },
   {
    "duration": 382,
    "start_time": "2024-08-13T20:59:08.262Z"
   },
   {
    "duration": 1592,
    "start_time": "2024-08-13T20:59:08.648Z"
   },
   {
    "duration": 344,
    "start_time": "2024-08-13T20:59:10.242Z"
   },
   {
    "duration": 10,
    "start_time": "2024-08-13T20:59:10.588Z"
   },
   {
    "duration": 13,
    "start_time": "2024-08-13T20:59:10.605Z"
   },
   {
    "duration": 9,
    "start_time": "2024-08-13T20:59:10.620Z"
   },
   {
    "duration": 15,
    "start_time": "2024-08-13T20:59:10.630Z"
   },
   {
    "duration": 13,
    "start_time": "2024-08-13T20:59:10.647Z"
   },
   {
    "duration": 13,
    "start_time": "2024-08-13T20:59:10.662Z"
   },
   {
    "duration": 4,
    "start_time": "2024-08-13T20:59:10.677Z"
   },
   {
    "duration": 2339,
    "start_time": "2024-08-13T20:59:10.682Z"
   },
   {
    "duration": 6,
    "start_time": "2024-08-13T20:59:13.023Z"
   },
   {
    "duration": 30,
    "start_time": "2024-08-13T20:59:13.031Z"
   },
   {
    "duration": 2413,
    "start_time": "2024-08-13T20:59:13.106Z"
   },
   {
    "duration": 6,
    "start_time": "2024-08-13T20:59:15.521Z"
   },
   {
    "duration": 88,
    "start_time": "2024-08-13T20:59:15.529Z"
   },
   {
    "duration": 2395,
    "start_time": "2024-08-13T20:59:15.618Z"
   },
   {
    "duration": 8,
    "start_time": "2024-08-13T20:59:18.016Z"
   },
   {
    "duration": 14,
    "start_time": "2024-08-13T20:59:18.026Z"
   },
   {
    "duration": 69,
    "start_time": "2024-08-13T20:59:18.042Z"
   },
   {
    "duration": 94,
    "start_time": "2024-08-13T20:59:18.113Z"
   },
   {
    "duration": 78,
    "start_time": "2024-08-13T20:59:18.209Z"
   },
   {
    "duration": 12,
    "start_time": "2024-08-13T20:59:18.288Z"
   },
   {
    "duration": 5,
    "start_time": "2024-08-13T20:59:18.302Z"
   },
   {
    "duration": 20,
    "start_time": "2024-08-13T20:59:18.309Z"
   },
   {
    "duration": 2721,
    "start_time": "2024-08-13T20:59:18.331Z"
   },
   {
    "duration": 8,
    "start_time": "2024-08-13T20:59:21.054Z"
   },
   {
    "duration": 4,
    "start_time": "2024-08-13T20:59:49.361Z"
   },
   {
    "duration": 6,
    "start_time": "2024-08-13T20:59:52.564Z"
   },
   {
    "duration": 11,
    "start_time": "2024-08-13T21:00:13.584Z"
   },
   {
    "duration": 4,
    "start_time": "2024-08-13T21:01:04.012Z"
   },
   {
    "duration": 8,
    "start_time": "2024-08-13T21:01:09.242Z"
   },
   {
    "duration": 27,
    "start_time": "2024-08-13T21:02:43.419Z"
   },
   {
    "duration": 11,
    "start_time": "2024-08-13T21:02:43.899Z"
   },
   {
    "duration": 1443,
    "start_time": "2024-08-13T21:03:28.699Z"
   },
   {
    "duration": 441,
    "start_time": "2024-08-13T21:03:30.144Z"
   },
   {
    "duration": 31,
    "start_time": "2024-08-13T21:03:30.587Z"
   },
   {
    "duration": 68,
    "start_time": "2024-08-13T21:03:30.620Z"
   },
   {
    "duration": 77,
    "start_time": "2024-08-13T21:03:30.690Z"
   },
   {
    "duration": 135,
    "start_time": "2024-08-13T21:03:30.769Z"
   },
   {
    "duration": 117,
    "start_time": "2024-08-13T21:03:30.906Z"
   },
   {
    "duration": 54,
    "start_time": "2024-08-13T21:03:31.025Z"
   },
   {
    "duration": 5,
    "start_time": "2024-08-13T21:03:31.081Z"
   },
   {
    "duration": 1635,
    "start_time": "2024-08-13T21:03:31.106Z"
   },
   {
    "duration": 472,
    "start_time": "2024-08-13T21:03:32.743Z"
   },
   {
    "duration": 1562,
    "start_time": "2024-08-13T21:03:33.218Z"
   },
   {
    "duration": 396,
    "start_time": "2024-08-13T21:03:34.782Z"
   },
   {
    "duration": 1614,
    "start_time": "2024-08-13T21:03:35.180Z"
   },
   {
    "duration": 357,
    "start_time": "2024-08-13T21:03:36.795Z"
   },
   {
    "duration": 7,
    "start_time": "2024-08-13T21:03:37.153Z"
   },
   {
    "duration": 20,
    "start_time": "2024-08-13T21:03:37.162Z"
   },
   {
    "duration": 10,
    "start_time": "2024-08-13T21:03:37.184Z"
   },
   {
    "duration": 16,
    "start_time": "2024-08-13T21:03:37.195Z"
   },
   {
    "duration": 13,
    "start_time": "2024-08-13T21:03:37.212Z"
   },
   {
    "duration": 12,
    "start_time": "2024-08-13T21:03:37.226Z"
   },
   {
    "duration": 3,
    "start_time": "2024-08-13T21:03:37.240Z"
   },
   {
    "duration": 2568,
    "start_time": "2024-08-13T21:03:37.244Z"
   },
   {
    "duration": 6,
    "start_time": "2024-08-13T21:03:39.814Z"
   },
   {
    "duration": 89,
    "start_time": "2024-08-13T21:03:39.821Z"
   },
   {
    "duration": 2401,
    "start_time": "2024-08-13T21:03:39.912Z"
   },
   {
    "duration": 6,
    "start_time": "2024-08-13T21:03:42.314Z"
   },
   {
    "duration": 83,
    "start_time": "2024-08-13T21:03:42.323Z"
   },
   {
    "duration": 2508,
    "start_time": "2024-08-13T21:03:42.408Z"
   },
   {
    "duration": 7,
    "start_time": "2024-08-13T21:03:44.918Z"
   },
   {
    "duration": 26,
    "start_time": "2024-08-13T21:03:44.927Z"
   },
   {
    "duration": 100,
    "start_time": "2024-08-13T21:03:45.007Z"
   },
   {
    "duration": 38,
    "start_time": "2024-08-13T21:03:45.109Z"
   },
   {
    "duration": 5,
    "start_time": "2024-08-13T21:04:31.997Z"
   },
   {
    "duration": 7,
    "start_time": "2024-08-13T21:04:42.395Z"
   },
   {
    "duration": 6,
    "start_time": "2024-08-13T21:05:01.845Z"
   },
   {
    "duration": 6,
    "start_time": "2024-08-13T21:05:30.635Z"
   },
   {
    "duration": 110,
    "start_time": "2024-08-13T21:06:30.080Z"
   },
   {
    "duration": 15,
    "start_time": "2024-08-13T21:06:52.113Z"
   },
   {
    "duration": 14,
    "start_time": "2024-08-13T21:07:55.201Z"
   },
   {
    "duration": 14,
    "start_time": "2024-08-13T21:07:55.325Z"
   },
   {
    "duration": 5,
    "start_time": "2024-08-13T21:09:50.781Z"
   },
   {
    "duration": 11,
    "start_time": "2024-08-13T21:09:51.649Z"
   },
   {
    "duration": 11,
    "start_time": "2024-08-13T21:10:15.958Z"
   },
   {
    "duration": 16,
    "start_time": "2024-08-13T21:11:26.831Z"
   },
   {
    "duration": 17,
    "start_time": "2024-08-13T21:11:45.790Z"
   },
   {
    "duration": 17,
    "start_time": "2024-08-13T21:12:08.671Z"
   },
   {
    "duration": 17,
    "start_time": "2024-08-13T21:12:11.374Z"
   },
   {
    "duration": 17,
    "start_time": "2024-08-13T21:12:56.153Z"
   },
   {
    "duration": 3575,
    "start_time": "2024-08-13T21:14:52.749Z"
   },
   {
    "duration": 7,
    "start_time": "2024-08-13T21:14:58.348Z"
   },
   {
    "duration": 1444,
    "start_time": "2024-08-13T21:15:54.648Z"
   },
   {
    "duration": 436,
    "start_time": "2024-08-13T21:15:56.095Z"
   },
   {
    "duration": 32,
    "start_time": "2024-08-13T21:15:56.533Z"
   },
   {
    "duration": 22,
    "start_time": "2024-08-13T21:15:56.566Z"
   },
   {
    "duration": 23,
    "start_time": "2024-08-13T21:15:56.605Z"
   },
   {
    "duration": 54,
    "start_time": "2024-08-13T21:15:56.629Z"
   },
   {
    "duration": 70,
    "start_time": "2024-08-13T21:15:56.685Z"
   },
   {
    "duration": 79,
    "start_time": "2024-08-13T21:15:56.756Z"
   },
   {
    "duration": 5,
    "start_time": "2024-08-13T21:15:56.836Z"
   },
   {
    "duration": 1561,
    "start_time": "2024-08-13T21:15:56.844Z"
   },
   {
    "duration": 443,
    "start_time": "2024-08-13T21:15:58.407Z"
   },
   {
    "duration": 1479,
    "start_time": "2024-08-13T21:15:58.852Z"
   },
   {
    "duration": 325,
    "start_time": "2024-08-13T21:16:00.333Z"
   },
   {
    "duration": 1650,
    "start_time": "2024-08-13T21:16:00.660Z"
   },
   {
    "duration": 345,
    "start_time": "2024-08-13T21:16:02.311Z"
   },
   {
    "duration": 7,
    "start_time": "2024-08-13T21:16:02.658Z"
   },
   {
    "duration": 11,
    "start_time": "2024-08-13T21:16:02.668Z"
   },
   {
    "duration": 6,
    "start_time": "2024-08-13T21:16:02.681Z"
   },
   {
    "duration": 16,
    "start_time": "2024-08-13T21:16:02.704Z"
   },
   {
    "duration": 13,
    "start_time": "2024-08-13T21:16:02.722Z"
   },
   {
    "duration": 13,
    "start_time": "2024-08-13T21:16:02.737Z"
   },
   {
    "duration": 4,
    "start_time": "2024-08-13T21:16:02.752Z"
   },
   {
    "duration": 2461,
    "start_time": "2024-08-13T21:16:02.758Z"
   },
   {
    "duration": 6,
    "start_time": "2024-08-13T21:16:05.221Z"
   },
   {
    "duration": 13,
    "start_time": "2024-08-13T21:16:05.228Z"
   },
   {
    "duration": 2412,
    "start_time": "2024-08-13T21:16:05.306Z"
   },
   {
    "duration": 7,
    "start_time": "2024-08-13T21:16:07.719Z"
   },
   {
    "duration": 18,
    "start_time": "2024-08-13T21:16:07.729Z"
   },
   {
    "duration": 2457,
    "start_time": "2024-08-13T21:16:07.749Z"
   },
   {
    "duration": 7,
    "start_time": "2024-08-13T21:16:10.208Z"
   },
   {
    "duration": 90,
    "start_time": "2024-08-13T21:16:10.217Z"
   },
   {
    "duration": 3,
    "start_time": "2024-08-13T21:16:10.309Z"
   },
   {
    "duration": 98,
    "start_time": "2024-08-13T21:16:10.315Z"
   },
   {
    "duration": 5,
    "start_time": "2024-08-13T21:16:10.415Z"
   },
   {
    "duration": 7,
    "start_time": "2024-08-13T21:16:10.422Z"
   },
   {
    "duration": 17,
    "start_time": "2024-08-13T21:16:10.431Z"
   },
   {
    "duration": 7,
    "start_time": "2024-08-13T21:16:10.449Z"
   },
   {
    "duration": 10,
    "start_time": "2024-08-13T21:16:10.458Z"
   },
   {
    "duration": 5,
    "start_time": "2024-08-13T21:16:10.470Z"
   },
   {
    "duration": 33,
    "start_time": "2024-08-13T21:16:10.476Z"
   },
   {
    "duration": 3493,
    "start_time": "2024-08-13T21:16:10.510Z"
   },
   {
    "duration": 7,
    "start_time": "2024-08-13T21:16:14.004Z"
   },
   {
    "duration": 71,
    "start_time": "2024-08-13T21:20:33.346Z"
   },
   {
    "duration": 4040,
    "start_time": "2024-08-13T21:37:26.573Z"
   },
   {
    "duration": 962,
    "start_time": "2024-08-13T21:37:30.615Z"
   },
   {
    "duration": 29,
    "start_time": "2024-08-13T21:37:31.579Z"
   },
   {
    "duration": 28,
    "start_time": "2024-08-13T21:37:31.611Z"
   },
   {
    "duration": 30,
    "start_time": "2024-08-13T21:37:31.640Z"
   },
   {
    "duration": 68,
    "start_time": "2024-08-13T21:37:31.671Z"
   },
   {
    "duration": 64,
    "start_time": "2024-08-13T21:37:31.740Z"
   },
   {
    "duration": 76,
    "start_time": "2024-08-13T21:37:31.806Z"
   },
   {
    "duration": 4,
    "start_time": "2024-08-13T21:37:31.884Z"
   },
   {
    "duration": 1776,
    "start_time": "2024-08-13T21:37:31.891Z"
   },
   {
    "duration": 448,
    "start_time": "2024-08-13T21:37:33.669Z"
   },
   {
    "duration": 1573,
    "start_time": "2024-08-13T21:37:34.119Z"
   },
   {
    "duration": 381,
    "start_time": "2024-08-13T21:37:35.694Z"
   },
   {
    "duration": 1602,
    "start_time": "2024-08-13T21:37:36.076Z"
   },
   {
    "duration": 337,
    "start_time": "2024-08-13T21:37:37.680Z"
   },
   {
    "duration": 8,
    "start_time": "2024-08-13T21:37:38.019Z"
   },
   {
    "duration": 10,
    "start_time": "2024-08-13T21:37:38.029Z"
   },
   {
    "duration": 10,
    "start_time": "2024-08-13T21:37:38.041Z"
   },
   {
    "duration": 13,
    "start_time": "2024-08-13T21:37:38.055Z"
   },
   {
    "duration": 13,
    "start_time": "2024-08-13T21:37:38.070Z"
   },
   {
    "duration": 13,
    "start_time": "2024-08-13T21:37:38.084Z"
   },
   {
    "duration": 4,
    "start_time": "2024-08-13T21:37:38.098Z"
   },
   {
    "duration": 2256,
    "start_time": "2024-08-13T21:37:38.103Z"
   },
   {
    "duration": 7,
    "start_time": "2024-08-13T21:37:40.360Z"
   },
   {
    "duration": 22,
    "start_time": "2024-08-13T21:37:40.368Z"
   },
   {
    "duration": 2201,
    "start_time": "2024-08-13T21:37:40.456Z"
   },
   {
    "duration": 6,
    "start_time": "2024-08-13T21:37:42.659Z"
   },
   {
    "duration": 14,
    "start_time": "2024-08-13T21:37:42.668Z"
   },
   {
    "duration": 2372,
    "start_time": "2024-08-13T21:37:42.684Z"
   },
   {
    "duration": 6,
    "start_time": "2024-08-13T21:37:45.059Z"
   },
   {
    "duration": 49,
    "start_time": "2024-08-13T21:37:45.067Z"
   },
   {
    "duration": 138,
    "start_time": "2024-08-13T21:37:45.118Z"
   },
   {
    "duration": 19,
    "start_time": "2024-08-13T21:37:45.257Z"
   },
   {
    "duration": 38,
    "start_time": "2024-08-13T21:37:45.278Z"
   },
   {
    "duration": 19,
    "start_time": "2024-08-13T21:37:45.318Z"
   },
   {
    "duration": 30,
    "start_time": "2024-08-13T21:37:45.339Z"
   },
   {
    "duration": 9,
    "start_time": "2024-08-13T21:37:45.371Z"
   },
   {
    "duration": 33,
    "start_time": "2024-08-13T21:37:45.381Z"
   },
   {
    "duration": 3685,
    "start_time": "2024-08-13T21:37:45.415Z"
   },
   {
    "duration": 8,
    "start_time": "2024-08-13T21:37:49.101Z"
   },
   {
    "duration": 4,
    "start_time": "2024-08-13T21:37:52.814Z"
   },
   {
    "duration": 8,
    "start_time": "2024-08-13T21:37:53.333Z"
   },
   {
    "duration": 3705,
    "start_time": "2024-08-13T21:37:54.085Z"
   },
   {
    "duration": 8,
    "start_time": "2024-08-13T21:37:57.792Z"
   },
   {
    "duration": 4,
    "start_time": "2024-08-13T21:38:46.492Z"
   },
   {
    "duration": 8,
    "start_time": "2024-08-13T21:38:46.976Z"
   },
   {
    "duration": 4,
    "start_time": "2024-08-13T21:38:57.018Z"
   },
   {
    "duration": 850,
    "start_time": "2024-08-13T21:38:57.460Z"
   },
   {
    "duration": 10,
    "start_time": "2024-08-13T21:39:17.121Z"
   },
   {
    "duration": 10,
    "start_time": "2024-08-13T21:39:23.263Z"
   },
   {
    "duration": 989,
    "start_time": "2024-08-13T21:39:36.026Z"
   },
   {
    "duration": 56,
    "start_time": "2024-08-13T21:39:44.370Z"
   },
   {
    "duration": 8,
    "start_time": "2024-08-13T21:39:49.483Z"
   },
   {
    "duration": 9,
    "start_time": "2024-08-13T21:39:51.943Z"
   },
   {
    "duration": 9,
    "start_time": "2024-08-13T21:39:59.864Z"
   },
   {
    "duration": 12,
    "start_time": "2024-08-13T21:40:03.162Z"
   },
   {
    "duration": 3,
    "start_time": "2024-08-13T21:40:59.590Z"
   },
   {
    "duration": 8,
    "start_time": "2024-08-13T21:40:59.760Z"
   },
   {
    "duration": 1427,
    "start_time": "2024-08-13T22:36:11.635Z"
   },
   {
    "duration": 444,
    "start_time": "2024-08-13T22:36:13.064Z"
   },
   {
    "duration": 25,
    "start_time": "2024-08-13T22:36:13.509Z"
   },
   {
    "duration": 36,
    "start_time": "2024-08-13T22:36:13.536Z"
   },
   {
    "duration": 20,
    "start_time": "2024-08-13T22:36:13.574Z"
   },
   {
    "duration": 60,
    "start_time": "2024-08-13T22:36:13.596Z"
   },
   {
    "duration": 68,
    "start_time": "2024-08-13T22:36:13.658Z"
   },
   {
    "duration": 52,
    "start_time": "2024-08-13T22:36:13.728Z"
   },
   {
    "duration": 24,
    "start_time": "2024-08-13T22:36:13.782Z"
   },
   {
    "duration": 1604,
    "start_time": "2024-08-13T22:36:13.809Z"
   },
   {
    "duration": 444,
    "start_time": "2024-08-13T22:36:15.414Z"
   },
   {
    "duration": 1666,
    "start_time": "2024-08-13T22:36:15.860Z"
   },
   {
    "duration": 329,
    "start_time": "2024-08-13T22:36:17.528Z"
   },
   {
    "duration": 1519,
    "start_time": "2024-08-13T22:36:17.859Z"
   },
   {
    "duration": 349,
    "start_time": "2024-08-13T22:36:19.380Z"
   },
   {
    "duration": 8,
    "start_time": "2024-08-13T22:36:19.730Z"
   },
   {
    "duration": 8,
    "start_time": "2024-08-13T22:36:19.739Z"
   },
   {
    "duration": 4,
    "start_time": "2024-08-13T22:36:19.749Z"
   },
   {
    "duration": 14,
    "start_time": "2024-08-13T22:36:19.754Z"
   },
   {
    "duration": 11,
    "start_time": "2024-08-13T22:36:19.770Z"
   },
   {
    "duration": 99,
    "start_time": "2024-08-13T22:36:19.783Z"
   },
   {
    "duration": 4,
    "start_time": "2024-08-13T22:36:19.883Z"
   },
   {
    "duration": 2325,
    "start_time": "2024-08-13T22:36:19.888Z"
   },
   {
    "duration": 5,
    "start_time": "2024-08-13T22:36:22.215Z"
   },
   {
    "duration": 19,
    "start_time": "2024-08-13T22:36:22.222Z"
   },
   {
    "duration": 2304,
    "start_time": "2024-08-13T22:36:22.307Z"
   },
   {
    "duration": 6,
    "start_time": "2024-08-13T22:36:24.613Z"
   },
   {
    "duration": 24,
    "start_time": "2024-08-13T22:36:24.622Z"
   },
   {
    "duration": 2366,
    "start_time": "2024-08-13T22:36:24.647Z"
   },
   {
    "duration": 6,
    "start_time": "2024-08-13T22:36:27.015Z"
   },
   {
    "duration": 10,
    "start_time": "2024-08-13T22:36:27.023Z"
   },
   {
    "duration": 4,
    "start_time": "2024-08-13T22:36:27.105Z"
   },
   {
    "duration": 94,
    "start_time": "2024-08-13T22:36:27.112Z"
   },
   {
    "duration": 8,
    "start_time": "2024-08-13T22:36:27.208Z"
   },
   {
    "duration": 7,
    "start_time": "2024-08-13T22:36:27.218Z"
   },
   {
    "duration": 6,
    "start_time": "2024-08-13T22:36:27.227Z"
   },
   {
    "duration": 90,
    "start_time": "2024-08-13T22:36:27.235Z"
   },
   {
    "duration": 19,
    "start_time": "2024-08-13T22:36:27.327Z"
   },
   {
    "duration": 3373,
    "start_time": "2024-08-13T22:36:27.348Z"
   },
   {
    "duration": 7,
    "start_time": "2024-08-13T22:36:30.723Z"
   }
  ],
  "kernelspec": {
   "display_name": "Python 3 (ipykernel)",
   "language": "python",
   "name": "python3"
  },
  "language_info": {
   "codemirror_mode": {
    "name": "ipython",
    "version": 3
   },
   "file_extension": ".py",
   "mimetype": "text/x-python",
   "name": "python",
   "nbconvert_exporter": "python",
   "pygments_lexer": "ipython3",
   "version": "3.11.7"
  },
  "toc": {
   "base_numbering": 1,
   "nav_menu": {},
   "number_sections": true,
   "sideBar": true,
   "skip_h1_title": true,
   "title_cell": "Table of Contents",
   "title_sidebar": "Contents",
   "toc_cell": false,
   "toc_position": {
    "height": "calc(100% - 180px)",
    "left": "10px",
    "top": "150px",
    "width": "325px"
   },
   "toc_section_display": true,
   "toc_window_display": true
  }
 },
 "nbformat": 4,
 "nbformat_minor": 4
}
